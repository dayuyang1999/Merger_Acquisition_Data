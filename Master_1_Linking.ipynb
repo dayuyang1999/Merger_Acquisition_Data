{
 "cells": [
  {
   "cell_type": "code",
   "execution_count": 120,
   "metadata": {
    "ExecuteTime": {
     "end_time": "2021-10-12T23:23:49.254425Z",
     "start_time": "2021-10-12T23:23:49.248510Z"
    }
   },
   "outputs": [],
   "source": [
    "import pandas as pd\n",
    "import pickle\n",
    "import numpy as np\n",
    "import datetime \n",
    "from os.path import join as pjoin\n",
    "import os\n",
    "import wrds\n",
    "\n",
    "#import argparse\n",
    "#import yamlb"
   ]
  },
  {
   "cell_type": "code",
   "execution_count": 167,
   "metadata": {
    "ExecuteTime": {
     "end_time": "2021-10-13T02:41:41.920293Z",
     "start_time": "2021-10-13T02:41:41.916242Z"
    }
   },
   "outputs": [],
   "source": [
    "tmp_data_path =  '../MA_data/data/tmp/'\n",
    "data_path = '../MA_data/data/'\n",
    "\n",
    "s_year = 1997 ###### this year is for SDC data; TNIC and Compustat should s_year - 1\n",
    "e_year = 2020"
   ]
  },
  {
   "cell_type": "markdown",
   "metadata": {},
   "source": [
    "# Download SDC data\n",
    "\n",
    "variable description could see [appendix 1.1 variable description](./Appendix_1.1_variable_description.ipynb)"
   ]
  },
  {
   "cell_type": "code",
   "execution_count": 168,
   "metadata": {
    "ExecuteTime": {
     "end_time": "2021-10-13T02:41:45.697395Z",
     "start_time": "2021-10-13T02:41:45.692214Z"
    }
   },
   "outputs": [],
   "source": [
    "name_lst = [\n",
    "                'ACU', 'ASIC2', 'ABL', 'ANL', 'APUBC', 'AUP', 'AUPSIC', 'AUPBL', 'AUPNAMES', 'AUPPUB',\n",
    "                'BLOCK','CREEP','DA','DE','STATC','SYNOP','VAL','PCTACQ','PSOUGHTOWN','PSOUGHT','PHDA','PCTOWN','PSOUGHTT','PRIVATIZATION','DEAL_NO',\n",
    "                'TCU', 'TSIC2', 'TBL', 'TNL', 'TPUBC', 'TUP', 'TUPSIC', 'TUPBL', 'TUPNAMES', 'TUPPUB'    \n",
    "            ]"
   ]
  },
  {
   "cell_type": "code",
   "execution_count": 124,
   "metadata": {
    "ExecuteTime": {
     "end_time": "2021-10-12T23:23:49.310491Z",
     "start_time": "2021-10-12T23:23:49.296768Z"
    }
   },
   "outputs": [],
   "source": [
    "def concat_data(st, end, name_lst, data_path):\n",
    "    df_l = []\n",
    "    for year in range(st, end+1, 1):\n",
    "        df = pd.read_excel(f\"{data_path}/SDC/{year}.xlsx\", header=1, engine='openpyxl')\n",
    "        #df = df.drop(df.columns[4], axis=1) # this column is duplicate with column 3 \n",
    "        #print(len(df.columns))\n",
    "        df.columns = name_lst\n",
    "        \n",
    "        # check date var loading ok\n",
    "        check = df[df['DA'] == datetime.time(0, 0)]\n",
    "        if check.shape[0] == 0 :\n",
    "            print('date variables loading ok \\n')\n",
    "        else:\n",
    "            print('date variables loading fail, please manually check. number of failed records: ', check.shape[0])\n",
    "        \n",
    "        df_l.append(df)\n",
    "        print(f'{year} data shape:', df.shape)\n",
    "        del df\n",
    "    df = pd.concat(df_l)\n",
    "    return df\n",
    "\n",
    "def get_sic(df):\n",
    "    '''\n",
    "    df: the sdc table contains sic variable named as `ASIC2`\n",
    "    \n",
    "    '''\n",
    "    x = df.ASIC2.str.split('/')\n",
    "    x = x.transform(lambda x: x[0] if not isinstance(x, float) else np.nan)\n",
    "    df['SIC_A'] = x\n",
    "\n",
    "    x = df.ASIC2.str.split('/')\n",
    "    x = x.transform(lambda x: x[0] if not isinstance(x, float) else np.nan)\n",
    "    df['SIC_T'] = x\n",
    "    \n",
    "    return df "
   ]
  },
  {
   "cell_type": "code",
   "execution_count": 125,
   "metadata": {
    "ExecuteTime": {
     "end_time": "2021-10-12T23:23:49.326743Z",
     "start_time": "2021-10-12T23:23:49.312561Z"
    }
   },
   "outputs": [],
   "source": [
    "def read_sdc(name_lst):\n",
    "    pickle_it = True\n",
    "    from_cache = False\n",
    "#     #tmp_data_path = tmp_data_path\n",
    "#     s_year = s_year\n",
    "#     e_year = e_year\n",
    "\n",
    "\n",
    "    if (from_cache) & ~(os.path.isfile(pjoin(tmp_data_path , f'sdc_{s_year}_{e_year}.pickle'))):\n",
    "        print(f\"WARNING, Cannot load from cache; \\n No compabible sdc_df cache file named 'sdc_{s_year}_{e_year}.pickle' exists in {tmp_data_path} \\n\")\n",
    "\n",
    "    if (from_cache) & (os.path.isfile(pjoin(tmp_data_path , f'sdc_{s_year}_{e_year}.pickle'))):\n",
    "        sdc_df = pd.read_pickle(pjoin(tmp_data_path , f'sdc_{s_year}_{e_year}.pickle'))\n",
    "        print(\"loading data from previous download. Did not download again\")\n",
    "    else:                 \n",
    "        sdc_df = concat_data(s_year, e_year, name_lst, data_path)\n",
    "        sdc_df = sdc_df.reset_index()\n",
    "\n",
    "        # change var type and fillna\n",
    "        sdc_df = sdc_df.dropna(subset=['ACU','TCU']) # actually nothing drops\n",
    "        sdc_df['DEAL_NO'] = sdc_df['DEAL_NO'].fillna(-1)\n",
    "        print(\"ATTENTION, DEAL_NO NAs in sdc_df are interpolated as '-1'. \\n \")\n",
    "        sdc_df['DEAL_NO'] = sdc_df['DEAL_NO'].astype(str)\n",
    "        sdc_df['TCU']  = sdc_df['TCU'].astype('str')\n",
    "        sdc_df['ACU']  = sdc_df['ACU'].astype('str')\n",
    "        sdc_df['TUP']  = sdc_df['TUP'].astype('str')\n",
    "        sdc_df['AUP']  = sdc_df['AUP'].astype('str')\n",
    "\n",
    "\n",
    "        # add sdc variable\n",
    "        sdc_df = get_sic(sdc_df)\n",
    "        # add year varibale\n",
    "        sdc_df['YEAR'] = sdc_df.DA.dt.year\n",
    "        # update name lst\n",
    "\n",
    "        if pickle_it:\n",
    "            print(f'saving sdc table ranging from {s_year} to {e_year} to {tmp_data_path}')\n",
    "            sdc_df.to_pickle(pjoin(tmp_data_path , f'sdc_{s_year}_{e_year}.pickle'))\n",
    "\n",
    "    if True:\n",
    "        print(\"SDC Data looks like:\", sdc_df.sample(3).T)\n",
    "\n",
    "    name_lst += ['SIC_A', 'SIC_T', 'YEAR'] \n",
    "\n",
    "    return sdc_df, name_lst"
   ]
  },
  {
   "cell_type": "code",
   "execution_count": 126,
   "metadata": {
    "ExecuteTime": {
     "end_time": "2021-10-12T23:28:19.824493Z",
     "start_time": "2021-10-12T23:23:49.330724Z"
    }
   },
   "outputs": [
    {
     "name": "stdout",
     "output_type": "stream",
     "text": [
      "date variables loading ok \n",
      "\n",
      "1996 data shape: (12524, 35)\n",
      "date variables loading ok \n",
      "\n",
      "1997 data shape: (13255, 35)\n",
      "date variables loading ok \n",
      "\n",
      "1998 data shape: (15081, 35)\n",
      "date variables loading ok \n",
      "\n",
      "1999 data shape: (13203, 35)\n",
      "date variables loading ok \n",
      "\n",
      "2000 data shape: (12610, 35)\n",
      "date variables loading ok \n",
      "\n",
      "2001 data shape: (8771, 35)\n",
      "date variables loading ok \n",
      "\n",
      "2002 data shape: (7943, 35)\n",
      "date variables loading ok \n",
      "\n",
      "2003 data shape: (8573, 35)\n",
      "date variables loading ok \n",
      "\n",
      "2004 data shape: (9704, 35)\n",
      "date variables loading ok \n",
      "\n",
      "2005 data shape: (10524, 35)\n",
      "date variables loading ok \n",
      "\n",
      "2006 data shape: (11802, 35)\n",
      "date variables loading ok \n",
      "\n",
      "2007 data shape: (12866, 35)\n",
      "date variables loading ok \n",
      "\n",
      "2008 data shape: (11174, 35)\n",
      "date variables loading ok \n",
      "\n",
      "2009 data shape: (8965, 35)\n",
      "date variables loading ok \n",
      "\n",
      "2010 data shape: (9365, 35)\n",
      "date variables loading ok \n",
      "\n",
      "2011 data shape: (9859, 35)\n",
      "date variables loading ok \n",
      "\n",
      "2012 data shape: (9772, 35)\n",
      "date variables loading ok \n",
      "\n",
      "2013 data shape: (10060, 35)\n",
      "date variables loading ok \n",
      "\n",
      "2014 data shape: (11349, 35)\n",
      "date variables loading ok \n",
      "\n",
      "2015 data shape: (11964, 35)\n",
      "date variables loading ok \n",
      "\n",
      "2016 data shape: (12493, 35)\n",
      "date variables loading ok \n",
      "\n",
      "2017 data shape: (14453, 35)\n",
      "date variables loading ok \n",
      "\n",
      "2018 data shape: (13776, 35)\n",
      "date variables loading ok \n",
      "\n",
      "2019 data shape: (12216, 35)\n",
      "ATTENTION, DEAL_NO NAs in sdc_df are interpolated as '-1'. \n",
      " \n",
      "saving sdc table ranging from 1996 to 2019 to ../MA_data/data/tmp/\n",
      "SDC Data looks like:                                                           215145  \\\n",
      "index                                                       7745   \n",
      "ACU                                                       896082   \n",
      "ASIC2                                                       2711   \n",
      "ABL            Tribune Publishing Co,\\nlocated in Chicago,\\nI...   \n",
      "ANL                                        Tribune Publishing Co   \n",
      "APUBC                                                     Public   \n",
      "AUP                                                       896082   \n",
      "AUPSIC                                                      2711   \n",
      "AUPBL          Tribune Publishing Co,\\nlocated in Chicago,\\nI...   \n",
      "AUPNAMES                                   Tribune Publishing Co   \n",
      "AUPPUB                                                    Public   \n",
      "BLOCK                                                        Yes   \n",
      "CREEP                                                         No   \n",
      "DA                                           2015-08-18 00:00:00   \n",
      "DE                                                           NaT   \n",
      "STATC                                                          P   \n",
      "SYNOP          US - On 18 August 2015, the board of Tribune P...   \n",
      "VAL                                                         30.0   \n",
      "PCTACQ                                                       NaN   \n",
      "PSOUGHTOWN                                                   NaN   \n",
      "PSOUGHT                                                      NaN   \n",
      "PHDA                                                         NaN   \n",
      "PCTOWN                                                       NaN   \n",
      "PSOUGHTT                                                     NaN   \n",
      "PRIVATIZATION                                                 No   \n",
      "DEAL_NO                                               2792311020   \n",
      "TCU                                                       896082   \n",
      "TSIC2                                                       2711   \n",
      "TBL            Tribune Publishing Co,\\nlocated in Chicago,\\nI...   \n",
      "TNL                                        Tribune Publishing Co   \n",
      "TPUBC                                                     Public   \n",
      "TUP                                                       896082   \n",
      "TUPSIC                                                      2711   \n",
      "TUPBL          Tribune Publishing Co,\\nlocated in Chicago,\\nI...   \n",
      "TUPNAMES                                   Tribune Publishing Co   \n",
      "TUPPUB                                                    Public   \n",
      "SIC_A                                                        NaN   \n",
      "SIC_T                                                        NaN   \n",
      "YEAR                                                        2015   \n",
      "\n",
      "                                                          77137   \\\n",
      "index                                                       1693   \n",
      "ACU                                                       82922N   \n",
      "ASIC2                                                       6799   \n",
      "ABL                                                   Individual   \n",
      "ANL                                                  Steven Sion   \n",
      "APUBC                                                       Inv.   \n",
      "AUP                                                       82922N   \n",
      "AUPSIC                                                      6799   \n",
      "AUPBL                                                 Individual   \n",
      "AUPNAMES                                             Steven Sion   \n",
      "AUPPUB                                                      Inv.   \n",
      "BLOCK                                                         No   \n",
      "CREEP                                                         No   \n",
      "DA                                           2002-03-22 00:00:00   \n",
      "DE                                           2002-03-25 00:00:00   \n",
      "STATC                                                          C   \n",
      "SYNOP          US - Mr. Steven Sion acquired all the outstand...   \n",
      "VAL                                                          1.5   \n",
      "PCTACQ                                                     100.0   \n",
      "PSOUGHTOWN                                                 100.0   \n",
      "PSOUGHT                                                    100.0   \n",
      "PHDA                                                         NaN   \n",
      "PCTOWN                                                     100.0   \n",
      "PSOUGHTT                                                     NaN   \n",
      "PRIVATIZATION                                                 No   \n",
      "DEAL_NO                                               1283352020   \n",
      "TCU                                                       237544   \n",
      "TSIC2                                                  3829/5049   \n",
      "TBL            Manufacture and wholesale air\\npollution testi...   \n",
      "TNL                                    Dasibi Environmental Corp   \n",
      "TPUBC                                                       Sub.   \n",
      "TUP                                                       731547   \n",
      "TUPSIC                                    3823\\n3829\\n3841\\n3672   \n",
      "TUPBL          Manufacture air purification\\ncontrol and meas...   \n",
      "TUPNAMES                          Universal Detection Technology   \n",
      "TUPPUB                                                    Public   \n",
      "SIC_A                                                        NaN   \n",
      "SIC_T                                                        NaN   \n",
      "YEAR                                                        2002   \n",
      "\n",
      "                                                          240615  \n",
      "index                                                       8758  \n",
      "ACU                                                       1F1536  \n",
      "ASIC2                                                  6371/6726  \n",
      "ABL            Starlight US Multi Family\\n(No 5) Core Fund, l...  \n",
      "ANL                   Starlight US Multi Family (No 5) Core Fund  \n",
      "APUBC                                                     Public  \n",
      "AUP                                                       85590V  \n",
      "AUPSIC                                                6798\\n6513  \n",
      "AUPBL          Starlight Investments Ltd,\\nlocated in Toronto...  \n",
      "AUPNAMES                               Starlight Investments Ltd  \n",
      "AUPPUB                                                     Priv.  \n",
      "BLOCK                                                         No  \n",
      "CREEP                                                         No  \n",
      "DA                                           2017-08-01 00:00:00  \n",
      "DE                                           2017-08-01 00:00:00  \n",
      "STATC                                                          C  \n",
      "SYNOP          US - Starlight US Multi- Family(No 5)Core Fund...  \n",
      "VAL                                                         48.0  \n",
      "PCTACQ                                                     100.0  \n",
      "PSOUGHTOWN                                                 100.0  \n",
      "PSOUGHT                                                    100.0  \n",
      "PHDA                                                         NaN  \n",
      "PCTOWN                                                     100.0  \n",
      "PSOUGHTT                                                     NaN  \n",
      "PRIVATIZATION                                                 No  \n",
      "DEAL_NO                                               3134718020  \n",
      "TCU                                                       7F2357  \n",
      "TSIC2                                                       6513  \n",
      "TBL            Copperfield Apartments is a\\nlessor of residen...  \n",
      "TNL                          Copperfield Apartments,Nashville,TN  \n",
      "TPUBC                                                      Priv.  \n",
      "TUP                                                       7F2357  \n",
      "TUPSIC                                                      6513  \n",
      "TUPBL          Copperfield Apartments is a\\nlessor of residen...  \n",
      "TUPNAMES                                             Copperfield  \n",
      "TUPPUB                                                     Priv.  \n",
      "SIC_A                                                       6371  \n",
      "SIC_T                                                       6371  \n",
      "YEAR                                                        2017  \n"
     ]
    }
   ],
   "source": [
    "sdc_df, name_lst1 = read_sdc(name_lst)"
   ]
  },
  {
   "cell_type": "code",
   "execution_count": 169,
   "metadata": {
    "ExecuteTime": {
     "end_time": "2021-10-13T02:42:02.186929Z",
     "start_time": "2021-10-13T02:42:01.442542Z"
    }
   },
   "outputs": [],
   "source": [
    "# sdc_df = pd.read_pickle(tmp_data_path+\"/sdc_1997_2020.pickle\")\n",
    "# name_lst1 = name_lst + ['SIC_A', 'SIC_T', 'YEAR'] "
   ]
  },
  {
   "cell_type": "markdown",
   "metadata": {},
   "source": [
    "remove:\n",
    "1. self merge self\n",
    "    - ACU = TCU or TUP\n",
    "    - AUP = TCU or TUP\n",
    "2. MA is incomplete"
   ]
  },
  {
   "cell_type": "code",
   "execution_count": 170,
   "metadata": {
    "ExecuteTime": {
     "end_time": "2021-10-13T02:42:13.703490Z",
     "start_time": "2021-10-13T02:42:13.697899Z"
    }
   },
   "outputs": [],
   "source": [
    "def filter1(df):\n",
    "    '''\n",
    "    remove self merge\n",
    "    remove incomplete deal\n",
    "\n",
    "    '''\n",
    "    cond0 = (df.ACU == df.TCU) | (df.ACU == df.TUP)\n",
    "    cond1 = cond0 | (df.AUP == df.TCU) | (df.AUP == df.TUP)\n",
    "    cond2 = cond1 | ~df.STATC.isin([\"C\"])\n",
    "    return df[~cond2]"
   ]
  },
  {
   "cell_type": "code",
   "execution_count": 171,
   "metadata": {
    "ExecuteTime": {
     "end_time": "2021-10-13T02:42:14.461185Z",
     "start_time": "2021-10-13T02:42:13.935471Z"
    }
   },
   "outputs": [],
   "source": [
    "sdc_df2 = filter1(sdc_df)"
   ]
  },
  {
   "cell_type": "code",
   "execution_count": 172,
   "metadata": {
    "ExecuteTime": {
     "end_time": "2021-10-13T02:42:14.465943Z",
     "start_time": "2021-10-13T02:42:14.462775Z"
    }
   },
   "outputs": [
    {
     "data": {
      "text/plain": [
       "(216932, 39)"
      ]
     },
     "execution_count": 172,
     "metadata": {},
     "output_type": "execute_result"
    }
   ],
   "source": [
    "sdc_df2.shape"
   ]
  },
  {
   "cell_type": "markdown",
   "metadata": {},
   "source": [
    "# Filter Majority MA\n",
    "\n",
    "The logic behind Filtering see [appendix1.2 majority takeover]()"
   ]
  },
  {
   "cell_type": "code",
   "execution_count": 173,
   "metadata": {
    "ExecuteTime": {
     "end_time": "2021-10-13T02:42:14.670920Z",
     "start_time": "2021-10-13T02:42:14.663073Z"
    }
   },
   "outputs": [],
   "source": [
    "\n",
    "def majority_filter(df):\n",
    "    '''\n",
    "    Description: used for filter \"majority\" takeover; Following “The Importance of Industry Links in Merger Waves.” The Journal of Finance 69 (2): 527–76. https://doi.org/10.1111/jofi.12122.\n",
    "    Use: use for sdc_df\n",
    "    input: sdc_df\n",
    "    output: a new filtered sdc_df  to replace the old one\n",
    "    '''\n",
    "    \n",
    "    cond1 = ((df.PCTACQ > 20.0) | pd.isna(df.PCTACQ))\n",
    "    cond2 = cond1 & ((df.PCTOWN > 51.0) | (pd.isna(df.PCTOWN)))\n",
    "    cond3 = cond2 & ((df.VAL > 1) | pd.isna(df.VAL))\n",
    "    cond4 = cond3 & (df.BLOCK !='Yes') & (df.CREEP !='Yes') & (df.PRIVATIZATION !='Yes')\n",
    "    df_new = df[cond3]\n",
    "    print('original df shape: ', df.shape, '\\n')\n",
    "    print('filtered df shape: ', df_new.shape)\n",
    "    return df_new.reset_index(drop=True)"
   ]
  },
  {
   "cell_type": "code",
   "execution_count": 174,
   "metadata": {
    "ExecuteTime": {
     "end_time": "2021-10-13T02:42:15.327364Z",
     "start_time": "2021-10-13T02:42:15.045961Z"
    }
   },
   "outputs": [
    {
     "name": "stdout",
     "output_type": "stream",
     "text": [
      "original df shape:  (216932, 39) \n",
      "\n",
      "filtered df shape:  (203775, 39)\n"
     ]
    }
   ],
   "source": [
    "sdc_df3 = majority_filter(sdc_df2)"
   ]
  },
  {
   "cell_type": "markdown",
   "metadata": {},
   "source": [
    "# Prepare Linking\n",
    "\n",
    "make linking variables' type and format are the same"
   ]
  },
  {
   "cell_type": "code",
   "execution_count": 175,
   "metadata": {
    "ExecuteTime": {
     "end_time": "2021-10-13T02:42:16.650287Z",
     "start_time": "2021-10-13T02:42:16.644625Z"
    }
   },
   "outputs": [],
   "source": [
    "def var_type_checker(df1, df2):\n",
    "    '''\n",
    "    df1: sdc_df\n",
    "    df2: linking table\n",
    "    \n",
    "    checking cusip types are the same\n",
    "    '''\n",
    "    # gvkey, cusip match\n",
    "    assert type(df1.ACU[0]) == type(df1.TCU[0]) == type(df1.AUP[0]) == type(df1.TUP[0]) \n",
    "    \n",
    "    assert type(df1.TCU[0]) == type(df2.HCUSIP[0]) \n",
    "\n",
    "    print(\"variable type checking finished, No error Found. \\n\")"
   ]
  },
  {
   "cell_type": "markdown",
   "metadata": {},
   "source": [
    "## load linking tables"
   ]
  },
  {
   "cell_type": "code",
   "execution_count": 176,
   "metadata": {
    "ExecuteTime": {
     "end_time": "2021-10-13T02:42:17.631487Z",
     "start_time": "2021-10-13T02:42:17.589391Z"
    }
   },
   "outputs": [],
   "source": [
    "link1 = pd.read_pickle(data_path+\"hcusip_permno.pickle\")\n",
    "link2 = pd.read_pickle(data_path+\"permno_gvkey.pickle\")"
   ]
  },
  {
   "cell_type": "markdown",
   "metadata": {},
   "source": [
    "# Linking PERMNO\n",
    "\n",
    "run the following after run [Appendix_1.3_CRSP_all_CUSIP](./Appendix_1.3_CRSP_all_CUSIP.ipynb)\n",
    "\n",
    "It is normal to has a lot of NAs. Since Priv. do not have PRERMNO"
   ]
  },
  {
   "cell_type": "markdown",
   "metadata": {},
   "source": [
    "## merge with PERMNO"
   ]
  },
  {
   "cell_type": "code",
   "execution_count": 177,
   "metadata": {
    "ExecuteTime": {
     "end_time": "2021-10-13T02:42:21.486649Z",
     "start_time": "2021-10-13T02:42:20.891572Z"
    }
   },
   "outputs": [],
   "source": [
    "merged1_1 = sdc_df3.merge(link1, left_on='ACU', right_on = 'HCUSIP', how = 'left')"
   ]
  },
  {
   "cell_type": "code",
   "execution_count": 178,
   "metadata": {
    "ExecuteTime": {
     "end_time": "2021-10-13T02:42:21.681509Z",
     "start_time": "2021-10-13T02:42:21.488146Z"
    }
   },
   "outputs": [],
   "source": [
    "merged1_2 = merged1_1.merge(link1, left_on='AUP', right_on = 'HCUSIP', how = 'left')"
   ]
  },
  {
   "cell_type": "code",
   "execution_count": 179,
   "metadata": {
    "ExecuteTime": {
     "end_time": "2021-10-13T02:42:21.908909Z",
     "start_time": "2021-10-13T02:42:21.683248Z"
    }
   },
   "outputs": [],
   "source": [
    "merged1_3 = merged1_2.merge(link1, left_on='TCU', right_on = 'HCUSIP', how = 'left')"
   ]
  },
  {
   "cell_type": "code",
   "execution_count": 180,
   "metadata": {
    "ExecuteTime": {
     "end_time": "2021-10-13T02:42:22.136677Z",
     "start_time": "2021-10-13T02:42:21.910225Z"
    }
   },
   "outputs": [],
   "source": [
    "merged1_4 = merged1_3.merge(link1, left_on='TUP', right_on = 'HCUSIP', how = 'left')"
   ]
  },
  {
   "cell_type": "code",
   "execution_count": 181,
   "metadata": {
    "ExecuteTime": {
     "end_time": "2021-10-13T02:42:22.596819Z",
     "start_time": "2021-10-13T02:42:22.138221Z"
    }
   },
   "outputs": [],
   "source": [
    "merged1_4 = merged1_4.drop(['index'], axis=1).reset_index(drop=True)"
   ]
  },
  {
   "cell_type": "code",
   "execution_count": 182,
   "metadata": {
    "ExecuteTime": {
     "end_time": "2021-10-13T02:42:22.601782Z",
     "start_time": "2021-10-13T02:42:22.598250Z"
    }
   },
   "outputs": [
    {
     "data": {
      "text/plain": [
       "Index(['ACU', 'ASIC2', 'ABL', 'ANL', 'APUBC', 'AUP', 'AUPSIC', 'AUPBL',\n",
       "       'AUPNAMES', 'AUPPUB', 'BLOCK', 'CREEP', 'DA', 'DE', 'STATC', 'SYNOP',\n",
       "       'VAL', 'PCTACQ', 'PSOUGHTOWN', 'PSOUGHT', 'PHDA', 'PCTOWN', 'PSOUGHTT',\n",
       "       'PRIVATIZATION', 'DEAL_NO', 'TCU', 'TSIC2', 'TBL', 'TNL', 'TPUBC',\n",
       "       'TUP', 'TUPSIC', 'TUPBL', 'TUPNAMES', 'TUPPUB', 'SIC_A', 'SIC_T',\n",
       "       'YEAR', 'HCUSIP_x', 'PERMNO_x', 'HCUSIP_y', 'PERMNO_y', 'HCUSIP_x',\n",
       "       'PERMNO_x', 'HCUSIP_y', 'PERMNO_y'],\n",
       "      dtype='object')"
      ]
     },
     "execution_count": 182,
     "metadata": {},
     "output_type": "execute_result"
    }
   ],
   "source": [
    "merged1_4.columns"
   ]
  },
  {
   "cell_type": "code",
   "execution_count": 183,
   "metadata": {
    "ExecuteTime": {
     "end_time": "2021-10-13T02:42:23.640985Z",
     "start_time": "2021-10-13T02:42:23.636446Z"
    }
   },
   "outputs": [],
   "source": [
    "tmp = []\n",
    "for f in ['A', 'T']: # \n",
    "    for p in ['S', 'P']: # self, parent\n",
    "        tmp += [ f+p+'_HCUSIP', f+p+'_PERMNO']"
   ]
  },
  {
   "cell_type": "code",
   "execution_count": 184,
   "metadata": {
    "ExecuteTime": {
     "end_time": "2021-10-13T02:42:23.915909Z",
     "start_time": "2021-10-13T02:42:23.912426Z"
    }
   },
   "outputs": [],
   "source": [
    "name_lst2 = name_lst1 + tmp"
   ]
  },
  {
   "cell_type": "code",
   "execution_count": 185,
   "metadata": {
    "ExecuteTime": {
     "end_time": "2021-10-13T02:42:24.173558Z",
     "start_time": "2021-10-13T02:42:24.169674Z"
    }
   },
   "outputs": [],
   "source": [
    "merged1_4.columns = name_lst2"
   ]
  },
  {
   "cell_type": "code",
   "execution_count": 186,
   "metadata": {
    "ExecuteTime": {
     "end_time": "2021-10-13T02:42:24.422484Z",
     "start_time": "2021-10-13T02:42:24.415939Z"
    },
    "scrolled": true
   },
   "outputs": [
    {
     "data": {
      "text/plain": [
       "Index(['ACU', 'ASIC2', 'ABL', 'ANL', 'APUBC', 'AUP', 'AUPSIC', 'AUPBL',\n",
       "       'AUPNAMES', 'AUPPUB', 'BLOCK', 'CREEP', 'DA', 'DE', 'STATC', 'SYNOP',\n",
       "       'VAL', 'PCTACQ', 'PSOUGHTOWN', 'PSOUGHT', 'PHDA', 'PCTOWN', 'PSOUGHTT',\n",
       "       'PRIVATIZATION', 'DEAL_NO', 'TCU', 'TSIC2', 'TBL', 'TNL', 'TPUBC',\n",
       "       'TUP', 'TUPSIC', 'TUPBL', 'TUPNAMES', 'TUPPUB', 'SIC_A', 'SIC_T',\n",
       "       'YEAR', 'AS_HCUSIP', 'AS_PERMNO', 'AP_HCUSIP', 'AP_PERMNO', 'TS_HCUSIP',\n",
       "       'TS_PERMNO', 'TP_HCUSIP', 'TP_PERMNO'],\n",
       "      dtype='object')"
      ]
     },
     "execution_count": 186,
     "metadata": {},
     "output_type": "execute_result"
    }
   ],
   "source": [
    "merged1_4.columns"
   ]
  },
  {
   "cell_type": "code",
   "execution_count": 187,
   "metadata": {
    "ExecuteTime": {
     "end_time": "2021-10-13T02:42:24.963800Z",
     "start_time": "2021-10-13T02:42:24.922667Z"
    }
   },
   "outputs": [
    {
     "name": "stdout",
     "output_type": "stream",
     "text": [
      "150044 138331 196009 172937\n"
     ]
    }
   ],
   "source": [
    "\n",
    "print(\n",
    "    merged1_4.AS_PERMNO.isna().sum(),\n",
    "    merged1_4.AP_PERMNO.isna().sum(),\n",
    "    merged1_4.TS_PERMNO.isna().sum(),\n",
    "    merged1_4.TP_PERMNO.isna().sum())\n",
    "    \n",
    "    "
   ]
  },
  {
   "cell_type": "markdown",
   "metadata": {},
   "source": [
    "# Linking with GVKEY\n",
    "\n",
    "check [appendix 1.4](./Appendix_1.4_PERMNO_GVKEY.ipynb)"
   ]
  },
  {
   "cell_type": "code",
   "execution_count": 188,
   "metadata": {
    "ExecuteTime": {
     "end_time": "2021-10-13T02:42:27.940466Z",
     "start_time": "2021-10-13T02:42:27.222589Z"
    }
   },
   "outputs": [],
   "source": [
    "merged2_1 = merged1_4.merge(link2, left_on='AS_PERMNO', right_on = 'PERMNO', how = 'left')"
   ]
  },
  {
   "cell_type": "code",
   "execution_count": 189,
   "metadata": {
    "ExecuteTime": {
     "end_time": "2021-10-13T02:42:28.125421Z",
     "start_time": "2021-10-13T02:42:27.942062Z"
    }
   },
   "outputs": [],
   "source": [
    "merged2_2 = merged2_1.merge(link2, left_on='AP_PERMNO', right_on = 'PERMNO', how = 'left')"
   ]
  },
  {
   "cell_type": "code",
   "execution_count": 190,
   "metadata": {
    "ExecuteTime": {
     "end_time": "2021-10-13T02:42:28.309729Z",
     "start_time": "2021-10-13T02:42:28.126902Z"
    }
   },
   "outputs": [],
   "source": [
    "merged2_3 = merged2_2.merge(link2, left_on='TS_PERMNO', right_on = 'PERMNO', how = 'left')"
   ]
  },
  {
   "cell_type": "code",
   "execution_count": 191,
   "metadata": {
    "ExecuteTime": {
     "end_time": "2021-10-13T02:42:28.503329Z",
     "start_time": "2021-10-13T02:42:28.311356Z"
    }
   },
   "outputs": [],
   "source": [
    "merged2_4 = merged2_3.merge(link2, left_on='TP_PERMNO', right_on = 'PERMNO', how = 'left')"
   ]
  },
  {
   "cell_type": "code",
   "execution_count": 192,
   "metadata": {
    "ExecuteTime": {
     "end_time": "2021-10-13T02:42:28.508027Z",
     "start_time": "2021-10-13T02:42:28.504434Z"
    }
   },
   "outputs": [
    {
     "data": {
      "text/plain": [
       "Index(['ACU', 'ASIC2', 'ABL', 'ANL', 'APUBC', 'AUP', 'AUPSIC', 'AUPBL',\n",
       "       'AUPNAMES', 'AUPPUB', 'BLOCK', 'CREEP', 'DA', 'DE', 'STATC', 'SYNOP',\n",
       "       'VAL', 'PCTACQ', 'PSOUGHTOWN', 'PSOUGHT', 'PHDA', 'PCTOWN', 'PSOUGHTT',\n",
       "       'PRIVATIZATION', 'DEAL_NO', 'TCU', 'TSIC2', 'TBL', 'TNL', 'TPUBC',\n",
       "       'TUP', 'TUPSIC', 'TUPBL', 'TUPNAMES', 'TUPPUB', 'SIC_A', 'SIC_T',\n",
       "       'YEAR', 'AS_HCUSIP', 'AS_PERMNO', 'AP_HCUSIP', 'AP_PERMNO', 'TS_HCUSIP',\n",
       "       'TS_PERMNO', 'TP_HCUSIP', 'TP_PERMNO', 'PERMNO_x', 'GVKEY_x',\n",
       "       'PERMNO_y', 'GVKEY_y', 'PERMNO_x', 'GVKEY_x', 'PERMNO_y', 'GVKEY_y'],\n",
       "      dtype='object')"
      ]
     },
     "execution_count": 192,
     "metadata": {},
     "output_type": "execute_result"
    }
   ],
   "source": [
    "merged2_4.columns"
   ]
  },
  {
   "cell_type": "code",
   "execution_count": 193,
   "metadata": {
    "ExecuteTime": {
     "end_time": "2021-10-13T02:42:28.517514Z",
     "start_time": "2021-10-13T02:42:28.509114Z"
    }
   },
   "outputs": [],
   "source": [
    "tmp = []\n",
    "for f in ['A', 'T']: # \n",
    "    for p in ['S', 'P']: # self, parent\n",
    "        tmp += [ f+p+'_PERMNO_2',f+p+'_GVKEY']"
   ]
  },
  {
   "cell_type": "code",
   "execution_count": 194,
   "metadata": {
    "ExecuteTime": {
     "end_time": "2021-10-13T02:42:29.471230Z",
     "start_time": "2021-10-13T02:42:29.467746Z"
    }
   },
   "outputs": [],
   "source": [
    "name_lst3 = name_lst2 + tmp"
   ]
  },
  {
   "cell_type": "code",
   "execution_count": 195,
   "metadata": {
    "ExecuteTime": {
     "end_time": "2021-10-13T02:42:29.728523Z",
     "start_time": "2021-10-13T02:42:29.724592Z"
    }
   },
   "outputs": [],
   "source": [
    "merged2_4.columns = name_lst3"
   ]
  },
  {
   "cell_type": "code",
   "execution_count": 196,
   "metadata": {
    "ExecuteTime": {
     "end_time": "2021-10-13T02:42:29.939612Z",
     "start_time": "2021-10-13T02:42:29.935053Z"
    }
   },
   "outputs": [],
   "source": [
    "tmp = []\n",
    "for f in ['A', 'T']: # \n",
    "    for p in ['S', 'P']: # self, parent\n",
    "        tmp += [f+p+'_HCUSIP', f+p+'_PERMNO_2']"
   ]
  },
  {
   "cell_type": "code",
   "execution_count": 197,
   "metadata": {
    "ExecuteTime": {
     "end_time": "2021-10-13T02:42:30.543819Z",
     "start_time": "2021-10-13T02:42:30.191959Z"
    }
   },
   "outputs": [],
   "source": [
    "merged_gvkey = merged2_4.drop(tmp, axis=1)"
   ]
  },
  {
   "cell_type": "code",
   "execution_count": 198,
   "metadata": {
    "ExecuteTime": {
     "end_time": "2021-10-13T02:42:30.548415Z",
     "start_time": "2021-10-13T02:42:30.545250Z"
    },
    "scrolled": true
   },
   "outputs": [
    {
     "data": {
      "text/plain": [
       "Index(['ACU', 'ASIC2', 'ABL', 'ANL', 'APUBC', 'AUP', 'AUPSIC', 'AUPBL',\n",
       "       'AUPNAMES', 'AUPPUB', 'BLOCK', 'CREEP', 'DA', 'DE', 'STATC', 'SYNOP',\n",
       "       'VAL', 'PCTACQ', 'PSOUGHTOWN', 'PSOUGHT', 'PHDA', 'PCTOWN', 'PSOUGHTT',\n",
       "       'PRIVATIZATION', 'DEAL_NO', 'TCU', 'TSIC2', 'TBL', 'TNL', 'TPUBC',\n",
       "       'TUP', 'TUPSIC', 'TUPBL', 'TUPNAMES', 'TUPPUB', 'SIC_A', 'SIC_T',\n",
       "       'YEAR', 'AS_PERMNO', 'AP_PERMNO', 'TS_PERMNO', 'TP_PERMNO', 'AS_GVKEY',\n",
       "       'AP_GVKEY', 'TS_GVKEY', 'TP_GVKEY'],\n",
       "      dtype='object')"
      ]
     },
     "execution_count": 198,
     "metadata": {},
     "output_type": "execute_result"
    }
   ],
   "source": [
    "merged_gvkey.columns"
   ]
  },
  {
   "cell_type": "code",
   "execution_count": 199,
   "metadata": {
    "ExecuteTime": {
     "end_time": "2021-10-13T02:42:30.681311Z",
     "start_time": "2021-10-13T02:42:30.675940Z"
    }
   },
   "outputs": [
    {
     "data": {
      "text/plain": [
       "(203775, 46)"
      ]
     },
     "execution_count": 199,
     "metadata": {},
     "output_type": "execute_result"
    }
   ],
   "source": [
    "merged_gvkey.shape"
   ]
  },
  {
   "cell_type": "markdown",
   "metadata": {},
   "source": []
  },
  {
   "cell_type": "markdown",
   "metadata": {},
   "source": [
    "# Arrange linking result\n",
    "\n",
    "\n",
    "the following conditions are marked as GVKEY merged successfully:\n",
    "\n",
    "`ok` = `Corresponding GVKEY Found`\n",
    "\n",
    "num of succcess condition = (C22 + C21) * (C22 + C21) = 9\n",
    "\n",
    "| AS ok | AP  ok | TS ok | TP ok | mark as                                           |\n",
    "|------------------|-------------------|------------------|-------------------|---------------------------------------------------|\n",
    "| 1                | 1                 | 1                | 1                 | 1                                                 |\n",
    "| 1                | 1                 | 1                | 0                 | 2                                                 |\n",
    "| 1                | 1                 | 0                | 1                 | 3                                                 |\n",
    "| 1                | 0                 | 1                | 1                 | 4                                                 |\n",
    "| 1                | 0                 | 1                | 0                 | 5                                                 |\n",
    "| 1                | 0                 | 0                | 1                 | 6                                                 |\n",
    "| 0                | 1                 | 1                | 1                 | 7                                                 |\n",
    "| 0                | 1                 | 1                | 0                 | 8                                                 |\n",
    "| 0                | 1                 | 0                | 1                 | 9                                                 |\n",
    "|                  |                   |                  |                   | all other combination is certainly unanalysiable |\n",
    "\n",
    "\n",
    "Here I just mark those senarios.\n",
    "\n",
    "Since at final, only the firms show up in TNIC is analysiable. However:\n",
    "- TNIC: only contains those firm with regular updated 10-K (public firms)\n",
    "- GVKEY: may contains private firms\n",
    "\n"
   ]
  },
  {
   "cell_type": "code",
   "execution_count": 200,
   "metadata": {
    "ExecuteTime": {
     "end_time": "2021-10-13T02:42:34.389462Z",
     "start_time": "2021-10-13T02:42:34.373528Z"
    }
   },
   "outputs": [],
   "source": [
    "def gvkey_checker(df):\n",
    "    '''\n",
    "    marker is str\n",
    "    '''\n",
    "    def mark(row):\n",
    "        if pd.notna(row.AS_GVKEY) & pd.notna(row.AP_GVKEY) & pd.notna(row.TS_GVKEY) & pd.notna(row.TP_GVKEY):\n",
    "            return '1'\n",
    "        if pd.notna(row.AS_GVKEY) & pd.notna(row.AP_GVKEY) & pd.notna(row.TS_GVKEY) & pd.isna(row.TP_GVKEY):\n",
    "            return '2'\n",
    "        if pd.notna(row.AS_GVKEY) & pd.notna(row.AP_GVKEY) & pd.isna(row.TS_GVKEY) & pd.notna(row.TP_GVKEY):\n",
    "            return '3'\n",
    "        if pd.notna(row.AS_GVKEY) & pd.isna(row.AP_GVKEY) & pd.notna(row.TS_GVKEY) & pd.notna(row.TP_GVKEY):\n",
    "            return '4'\n",
    "        if pd.notna(row.AS_GVKEY) & pd.notna(row.AP_GVKEY) & pd.isna(row.TS_GVKEY) & pd.notna(row.TP_GVKEY):\n",
    "            return '3'\n",
    "        if pd.notna(row.AS_GVKEY) & pd.isna(row.AP_GVKEY) & pd.notna(row.TS_GVKEY) & pd.isna(row.TP_GVKEY):\n",
    "            return '5'\n",
    "        if pd.notna(row.AS_GVKEY) & pd.isna(row.AP_GVKEY) & pd.isna(row.TS_GVKEY) & pd.notna(row.TP_GVKEY):\n",
    "            return '6'\n",
    "        if pd.isna(row.AS_GVKEY) & pd.notna(row.AP_GVKEY) & pd.notna(row.TS_GVKEY) & pd.notna(row.TP_GVKEY):\n",
    "            return '7'\n",
    "        if pd.isna(row.AS_GVKEY) & pd.notna(row.AP_GVKEY) & pd.notna(row.TS_GVKEY) & pd.isna(row.TP_GVKEY):\n",
    "            return '8'\n",
    "        if pd.isna(row.AS_GVKEY) & pd.notna(row.AP_GVKEY) & pd.isna(row.TS_GVKEY) & pd.notna(row.TP_GVKEY):\n",
    "            return '9'\n",
    "        else:\n",
    "            return '0'\n",
    "    df['GVKEY_STATUS'] = df.apply(mark, axis=1)\n",
    "    \n",
    "    print('Number of Conditions: \\n', df['GVKEY_STATUS'].value_counts(),'\\n')\n",
    "    \n",
    "    return df\n",
    "        \n",
    "        "
   ]
  },
  {
   "cell_type": "code",
   "execution_count": 201,
   "metadata": {
    "ExecuteTime": {
     "end_time": "2021-10-13T02:43:05.891296Z",
     "start_time": "2021-10-13T02:42:34.622994Z"
    }
   },
   "outputs": [
    {
     "name": "stdout",
     "output_type": "stream",
     "text": [
      "Number of Conditions: \n",
      " 0    191569\n",
      "3      5720\n",
      "1      3136\n",
      "9      2277\n",
      "7       374\n",
      "6       333\n",
      "2       176\n",
      "4       138\n",
      "8        38\n",
      "5        14\n",
      "Name: GVKEY_STATUS, dtype: int64 \n",
      "\n"
     ]
    }
   ],
   "source": [
    "merged_gvkey2 = gvkey_checker(merged_gvkey)"
   ]
  },
  {
   "cell_type": "markdown",
   "metadata": {},
   "source": [
    "# Link with EWENS\n",
    "\n",
    "- EWENS' strategy is linking by name. It's not as accurate as linking via the method above\n",
    "- And you have no idea if it was match with \"self\" or \"parent\".\n",
    "\n",
    "- Here I did not apply this\n",
    "\n"
   ]
  },
  {
   "cell_type": "markdown",
   "metadata": {},
   "source": [
    "The following condition may be saved\n",
    "\n",
    "\n",
    "| AP | AS | TS | TP | EWENS agvkey | EWENS tgvkey |\n",
    "|----|----|----|----|--------------|--------------|\n",
    "| 1  | 0  | 0  | 0  | ~            | 1            |\n",
    "| 0  | 1  | 0  | 0  | ~            | 1            |\n",
    "| 0  | 0  | 1  | 0  | 1            | ~            |\n",
    "| 0  | 0  | 0  | 1  | 1            | ~            |\n",
    "| 0  | 0  | 0  | 0  | 1            | 1            |"
   ]
  },
  {
   "cell_type": "markdown",
   "metadata": {},
   "source": [
    "before run EWENS, run [Appendix 1.5](./Appendix_1.5_EWENS.ipynb)"
   ]
  },
  {
   "cell_type": "code",
   "execution_count": 202,
   "metadata": {
    "ExecuteTime": {
     "end_time": "2021-10-13T02:43:06.794504Z",
     "start_time": "2021-10-13T02:43:05.892752Z"
    }
   },
   "outputs": [],
   "source": [
    "ewens = pd.read_pickle(tmp_data_path+\"/ewens.pickle\")\n",
    "merged3_1 = merged_gvkey2.merge(ewens, left_on = \"DEAL_NO\", right_on = \"DealNumber\", how = \"left\")"
   ]
  },
  {
   "cell_type": "code",
   "execution_count": 203,
   "metadata": {
    "ExecuteTime": {
     "end_time": "2021-10-13T02:43:06.799760Z",
     "start_time": "2021-10-13T02:43:06.796270Z"
    },
    "scrolled": true
   },
   "outputs": [
    {
     "data": {
      "text/plain": [
       "Index(['ACU', 'ASIC2', 'ABL', 'ANL', 'APUBC', 'AUP', 'AUPSIC', 'AUPBL',\n",
       "       'AUPNAMES', 'AUPPUB', 'BLOCK', 'CREEP', 'DA', 'DE', 'STATC', 'SYNOP',\n",
       "       'VAL', 'PCTACQ', 'PSOUGHTOWN', 'PSOUGHT', 'PHDA', 'PCTOWN', 'PSOUGHTT',\n",
       "       'PRIVATIZATION', 'DEAL_NO', 'TCU', 'TSIC2', 'TBL', 'TNL', 'TPUBC',\n",
       "       'TUP', 'TUPSIC', 'TUPBL', 'TUPNAMES', 'TUPPUB', 'SIC_A', 'SIC_T',\n",
       "       'YEAR', 'AS_PERMNO', 'AP_PERMNO', 'TS_PERMNO', 'TP_PERMNO', 'AS_GVKEY',\n",
       "       'AP_GVKEY', 'TS_GVKEY', 'TP_GVKEY', 'GVKEY_STATUS', 'DealNumber',\n",
       "       'agvkey', 'tgvkey'],\n",
       "      dtype='object')"
      ]
     },
     "execution_count": 203,
     "metadata": {},
     "output_type": "execute_result"
    }
   ],
   "source": [
    "merged3_1.columns"
   ]
  },
  {
   "cell_type": "markdown",
   "metadata": {},
   "source": [
    "Since we are unable to identify if the matched GVKEY in EWENS is \"self\" or \"parent\", I naively classfied them as \"self\"."
   ]
  },
  {
   "cell_type": "code",
   "execution_count": 204,
   "metadata": {
    "ExecuteTime": {
     "end_time": "2021-10-13T02:43:06.806161Z",
     "start_time": "2021-10-13T02:43:06.800868Z"
    }
   },
   "outputs": [],
   "source": [
    "def attach_ewens(df):\n",
    "    '''\n",
    "    \n",
    "    '''\n",
    "    for i, row in df.iterrows():\n",
    "        if (row.GVKEY_STATUS == '0') & (pd.isna(row.AS_GVKEY) & pd.isna(row.AP_GVKEY)) & pd.notna(row.agvkey):\n",
    "            df.loc[i, 'AS_GVKEY'] = row.agvkey\n",
    "        if (row.GVKEY_STATUS == '0') & (pd.isna(row.TS_GVKEY) & pd.isna(row.TP_GVKEY)) & pd.notna(row.tgvkey):\n",
    "            df.loc[i, 'TS_GVKEY'] = row.tgvkey\n",
    "        \n",
    "    \n",
    "    df = df.drop(['agvkey', 'DealNumber', 'tgvkey'], axis=1)\n",
    "    \n",
    "    return df\n",
    "            \n",
    "    \n",
    "    "
   ]
  },
  {
   "cell_type": "code",
   "execution_count": 205,
   "metadata": {
    "ExecuteTime": {
     "end_time": "2021-10-13T02:43:46.562106Z",
     "start_time": "2021-10-13T02:43:06.807250Z"
    }
   },
   "outputs": [],
   "source": [
    "merged_gvkey3 = attach_ewens(merged3_1.reset_index(drop=True))"
   ]
  },
  {
   "cell_type": "code",
   "execution_count": 206,
   "metadata": {
    "ExecuteTime": {
     "end_time": "2021-10-13T02:44:18.250768Z",
     "start_time": "2021-10-13T02:43:46.563549Z"
    }
   },
   "outputs": [
    {
     "name": "stdout",
     "output_type": "stream",
     "text": [
      "Number of Conditions: \n",
      " 0    188386\n",
      "3      5720\n",
      "1      3136\n",
      "9      2277\n",
      "2      1762\n",
      "6      1036\n",
      "5       452\n",
      "7       374\n",
      "8       352\n",
      "4       280\n",
      "Name: GVKEY_STATUS, dtype: int64 \n",
      "\n"
     ]
    }
   ],
   "source": [
    "merged_gvkey4 = gvkey_checker(merged_gvkey3)"
   ]
  },
  {
   "cell_type": "markdown",
   "metadata": {},
   "source": [
    "## self-self\n",
    "\n",
    "so far, all 1~9 condition may contains self-self.\n",
    "\n",
    "We will consider it later in Master TNIC marking step."
   ]
  },
  {
   "cell_type": "markdown",
   "metadata": {},
   "source": [
    "# Store result \n",
    "\n",
    "to tmp data path"
   ]
  },
  {
   "cell_type": "code",
   "execution_count": 207,
   "metadata": {
    "ExecuteTime": {
     "end_time": "2021-10-13T02:44:19.353022Z",
     "start_time": "2021-10-13T02:44:18.252219Z"
    }
   },
   "outputs": [],
   "source": [
    "merged_gvkey4.to_pickle(tmp_data_path+'/merged_gvkey2.pickle')"
   ]
  },
  {
   "cell_type": "code",
   "execution_count": 208,
   "metadata": {
    "ExecuteTime": {
     "end_time": "2021-10-13T02:44:19.494430Z",
     "start_time": "2021-10-13T02:44:19.356335Z"
    }
   },
   "outputs": [
    {
     "name": "stdout",
     "output_type": "stream",
     "text": [
      "final data shape: (15389, 47)\n"
     ]
    }
   ],
   "source": [
    "analysable = merged_gvkey4[merged_gvkey4.GVKEY_STATUS != '0']\n",
    "print(\"final data shape:\", analysable.shape)\n",
    "analysable.to_pickle(tmp_data_path+f'/sdc_analysable_{s_year}_{e_year}.pickle')"
   ]
  },
  {
   "cell_type": "code",
   "execution_count": null,
   "metadata": {},
   "outputs": [],
   "source": []
  },
  {
   "cell_type": "code",
   "execution_count": null,
   "metadata": {},
   "outputs": [],
   "source": []
  },
  {
   "cell_type": "code",
   "execution_count": null,
   "metadata": {},
   "outputs": [],
   "source": []
  }
 ],
 "metadata": {
  "kernelspec": {
   "display_name": "GNN",
   "language": "python",
   "name": "gnn"
  },
  "language_info": {
   "codemirror_mode": {
    "name": "ipython",
    "version": 3
   },
   "file_extension": ".py",
   "mimetype": "text/x-python",
   "name": "python",
   "nbconvert_exporter": "python",
   "pygments_lexer": "ipython3",
   "version": "3.8.10"
  },
  "latex_envs": {
   "LaTeX_envs_menu_present": true,
   "autoclose": false,
   "autocomplete": true,
   "bibliofile": "biblio.bib",
   "cite_by": "apalike",
   "current_citInitial": 1,
   "eqLabelWithNumbers": true,
   "eqNumInitial": 1,
   "hotkeys": {
    "equation": "Ctrl-E",
    "itemize": "Ctrl-I"
   },
   "labels_anchors": false,
   "latex_user_defs": false,
   "report_style_numbering": false,
   "user_envs_cfg": false
  },
  "toc": {
   "base_numbering": 1,
   "nav_menu": {},
   "number_sections": true,
   "sideBar": true,
   "skip_h1_title": false,
   "title_cell": "Table of Contents",
   "title_sidebar": "Contents",
   "toc_cell": false,
   "toc_position": {},
   "toc_section_display": true,
   "toc_window_display": false
  }
 },
 "nbformat": 4,
 "nbformat_minor": 4
}
