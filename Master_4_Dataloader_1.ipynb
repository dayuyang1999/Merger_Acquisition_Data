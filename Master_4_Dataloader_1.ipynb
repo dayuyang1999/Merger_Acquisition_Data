{
 "cells": [
  {
   "cell_type": "code",
   "execution_count": 33,
   "metadata": {
    "ExecuteTime": {
     "end_time": "2021-10-21T23:12:18.532589Z",
     "start_time": "2021-10-21T23:12:18.527972Z"
    }
   },
   "outputs": [],
   "source": [
    "import pandas as pd\n",
    "import numpy as np\n",
    "import pickle\n",
    "from tqdm import tqdm\n",
    "import warnings"
   ]
  },
  {
   "cell_type": "code",
   "execution_count": 2,
   "metadata": {
    "ExecuteTime": {
     "end_time": "2021-10-21T23:05:56.598842Z",
     "start_time": "2021-10-21T23:05:56.594814Z"
    }
   },
   "outputs": [],
   "source": [
    "tmp_data_path = '../MA_data/data/tmp'\n",
    "data_path = '../MA_data/data'\n",
    "\n",
    "s_year = 1997\n",
    "e_year = 2020"
   ]
  },
  {
   "cell_type": "code",
   "execution_count": 3,
   "metadata": {
    "ExecuteTime": {
     "end_time": "2021-10-21T23:05:57.281957Z",
     "start_time": "2021-10-21T23:05:57.227872Z"
    }
   },
   "outputs": [],
   "source": [
    "sdc_tnic = pd.read_pickle(tmp_data_path+f\"/sdc_tnic_{s_year}_{e_year}\")"
   ]
  },
  {
   "cell_type": "code",
   "execution_count": 4,
   "metadata": {
    "ExecuteTime": {
     "end_time": "2021-10-21T23:05:57.530860Z",
     "start_time": "2021-10-21T23:05:57.481106Z"
    }
   },
   "outputs": [],
   "source": [
    "with open(tmp_data_path+f\"/tnic_info_3_pairs_{s_year-1}_{e_year-1}\", 'rb') as f:\n",
    "    gvkey_lsts, key_ind_maps , ind_key_maps = pickle.load(f)"
   ]
  },
  {
   "cell_type": "markdown",
   "metadata": {},
   "source": [
    "# not allow single day merge multiple target\n",
    "\n",
    "- unable to predict such condition\n"
   ]
  },
  {
   "cell_type": "code",
   "execution_count": 124,
   "metadata": {
    "ExecuteTime": {
     "end_time": "2021-10-29T00:43:18.162883Z",
     "start_time": "2021-10-29T00:43:18.156951Z"
    }
   },
   "outputs": [],
   "source": [
    "def same_day_only_one(sdc_tnic_raw):\n",
    "    print(sdc_tnic_raw.shape)\n",
    "    sdc_tnic_raw = sdc_tnic_raw.copy()\n",
    "    sdc_tnic_one = sdc_tnic_raw.groupby(['AGVKEY', 'DA']).first().reset_index(drop=False)\n",
    "    print(sdc_tnic_one.shape)\n",
    "    sdc_tnic_one.sort_values(by = ['DA'], axis=0, inplace=True)\n",
    "    return sdc_tnic_one"
   ]
  },
  {
   "cell_type": "code",
   "execution_count": 125,
   "metadata": {
    "ExecuteTime": {
     "end_time": "2021-10-29T00:43:18.485669Z",
     "start_time": "2021-10-29T00:43:18.388082Z"
    }
   },
   "outputs": [
    {
     "name": "stdout",
     "output_type": "stream",
     "text": [
      "(9661, 50)\n",
      "(9448, 50)\n"
     ]
    }
   ],
   "source": [
    "sdc_tnic_one = same_day_only_one(sdc_tnic)"
   ]
  },
  {
   "cell_type": "code",
   "execution_count": 127,
   "metadata": {
    "ExecuteTime": {
     "end_time": "2021-10-29T00:47:56.720986Z",
     "start_time": "2021-10-29T00:47:56.714013Z"
    }
   },
   "outputs": [
    {
     "data": {
      "text/plain": [
       "Index(['AGVKEY', 'DA', 'ACU', 'ASIC2', 'ABL', 'ANL', 'APUBC', 'AUP', 'AUPSIC',\n",
       "       'AUPBL', 'AUPNAMES', 'AUPPUB', 'BLOCK', 'CREEP', 'DE', 'STATC', 'SYNOP',\n",
       "       'VAL', 'PCTACQ', 'PSOUGHTOWN', 'PSOUGHT', 'PHDA', 'PCTOWN', 'PSOUGHTT',\n",
       "       'PRIVATIZATION', 'DEAL_NO', 'TCU', 'TSIC2', 'TBL', 'TNL', 'TPUBC',\n",
       "       'TUP', 'TUPSIC', 'TUPBL', 'TUPNAMES', 'TUPPUB', 'SIC_A', 'SIC_T',\n",
       "       'YEAR', 'AS_PERMNO', 'AP_PERMNO', 'TS_PERMNO', 'TP_PERMNO', 'AS_GVKEY',\n",
       "       'AP_GVKEY', 'TS_GVKEY', 'TP_GVKEY', 'GVKEY_STATUS', 'MA_TYPE',\n",
       "       'TGVKEY'],\n",
       "      dtype='object')"
      ]
     },
     "execution_count": 127,
     "metadata": {},
     "output_type": "execute_result"
    }
   ],
   "source": [
    "sdc_tnic_one.columns"
   ]
  },
  {
   "cell_type": "markdown",
   "metadata": {},
   "source": [
    "# obtain frequent acquirer"
   ]
  },
  {
   "cell_type": "code",
   "execution_count": null,
   "metadata": {},
   "outputs": [],
   "source": []
  },
  {
   "cell_type": "code",
   "execution_count": 5,
   "metadata": {
    "ExecuteTime": {
     "end_time": "2021-10-21T23:05:58.956053Z",
     "start_time": "2021-10-21T23:05:58.934713Z"
    }
   },
   "outputs": [
    {
     "name": "stdout",
     "output_type": "stream",
     "text": [
      "totally 511 numbers of frequent Acquirers\n"
     ]
    }
   ],
   "source": [
    "A_freq = pd.DataFrame(sdc_tnic.AGVKEY.value_counts()).reset_index(drop=False)\n",
    "A_freq = A_freq[A_freq.AGVKEY >= 5]\n",
    "A_freq.columns = [\"GVKEY\", \"freq\"]\n",
    "print(f\"totally {A_freq.shape[0]} numbers of frequent Acquirers\")"
   ]
  },
  {
   "cell_type": "code",
   "execution_count": 37,
   "metadata": {
    "ExecuteTime": {
     "end_time": "2021-10-21T23:26:35.030247Z",
     "start_time": "2021-10-21T23:26:35.014644Z"
    }
   },
   "outputs": [
    {
     "data": {
      "text/html": [
       "<div>\n",
       "<style scoped>\n",
       "    .dataframe tbody tr th:only-of-type {\n",
       "        vertical-align: middle;\n",
       "    }\n",
       "\n",
       "    .dataframe tbody tr th {\n",
       "        vertical-align: top;\n",
       "    }\n",
       "\n",
       "    .dataframe thead th {\n",
       "        text-align: right;\n",
       "    }\n",
       "</style>\n",
       "<table border=\"1\" class=\"dataframe\">\n",
       "  <thead>\n",
       "    <tr style=\"text-align: right;\">\n",
       "      <th></th>\n",
       "      <th>GVKEY</th>\n",
       "      <th>freq</th>\n",
       "    </tr>\n",
       "  </thead>\n",
       "  <tbody>\n",
       "    <tr>\n",
       "      <th>0</th>\n",
       "      <td>5047</td>\n",
       "      <td>101</td>\n",
       "    </tr>\n",
       "    <tr>\n",
       "      <th>1</th>\n",
       "      <td>2176</td>\n",
       "      <td>49</td>\n",
       "    </tr>\n",
       "    <tr>\n",
       "      <th>2</th>\n",
       "      <td>177088</td>\n",
       "      <td>41</td>\n",
       "    </tr>\n",
       "    <tr>\n",
       "      <th>3</th>\n",
       "      <td>11856</td>\n",
       "      <td>41</td>\n",
       "    </tr>\n",
       "    <tr>\n",
       "      <th>4</th>\n",
       "      <td>6268</td>\n",
       "      <td>39</td>\n",
       "    </tr>\n",
       "    <tr>\n",
       "      <th>...</th>\n",
       "      <td>...</td>\n",
       "      <td>...</td>\n",
       "    </tr>\n",
       "    <tr>\n",
       "      <th>506</th>\n",
       "      <td>5439</td>\n",
       "      <td>5</td>\n",
       "    </tr>\n",
       "    <tr>\n",
       "      <th>507</th>\n",
       "      <td>23220</td>\n",
       "      <td>5</td>\n",
       "    </tr>\n",
       "    <tr>\n",
       "      <th>508</th>\n",
       "      <td>164652</td>\n",
       "      <td>5</td>\n",
       "    </tr>\n",
       "    <tr>\n",
       "      <th>509</th>\n",
       "      <td>1831</td>\n",
       "      <td>5</td>\n",
       "    </tr>\n",
       "    <tr>\n",
       "      <th>510</th>\n",
       "      <td>65009</td>\n",
       "      <td>5</td>\n",
       "    </tr>\n",
       "  </tbody>\n",
       "</table>\n",
       "<p>511 rows × 2 columns</p>\n",
       "</div>"
      ],
      "text/plain": [
       "      GVKEY  freq\n",
       "0      5047   101\n",
       "1      2176    49\n",
       "2    177088    41\n",
       "3     11856    41\n",
       "4      6268    39\n",
       "..      ...   ...\n",
       "506    5439     5\n",
       "507   23220     5\n",
       "508  164652     5\n",
       "509    1831     5\n",
       "510   65009     5\n",
       "\n",
       "[511 rows x 2 columns]"
      ]
     },
     "execution_count": 37,
     "metadata": {},
     "output_type": "execute_result"
    }
   ],
   "source": [
    "A_freq"
   ]
  },
  {
   "cell_type": "markdown",
   "metadata": {},
   "source": [
    "# Preprocess Data\n",
    "- preprcess data \n",
    "- this makes Dataloader very simple"
   ]
  },
  {
   "cell_type": "code",
   "execution_count": 147,
   "metadata": {
    "ExecuteTime": {
     "end_time": "2021-10-29T15:21:24.941117Z",
     "start_time": "2021-10-29T15:21:24.910448Z"
    }
   },
   "outputs": [],
   "source": [
    "def dataloader_preproceser(focal_gvkey):\n",
    "    \n",
    "    def get_arr_c(focal_gvkey):\n",
    "    # part 1, get c  \n",
    "        def get_focal_df(focal_gvkey):\n",
    "            '''\n",
    "            output: will be a df contains 3 columns: DATE, AGVKEY, EVENT_TYPE, SCORE\n",
    "                DATE: datetime.dt object\n",
    "                AGVKEY: str: 4 - 6 digits\n",
    "                EVENT_TYPE: 1:self 0:peer (integer)\n",
    "                SCORE: TNIC similarity last year for event type 0, otherwise 1\n",
    "            \n",
    "            Use DA!!!! not DE\n",
    "\n",
    "            '''\n",
    "            def helper1(row):\n",
    "                if row.AGVKEY == focal_gvkey:\n",
    "                    return 1 # integer 1\n",
    "                else:\n",
    "                    return 0 # integer 0   \n",
    "            sdc_lst = []\n",
    "            for focal_year in range(s_year-1, e_year):  \n",
    "                with open(tmp_data_path+f\"/a5_top_10_peers_tnic2_{focal_year}.pickle\", 'rb') as f:\n",
    "                    top_peers = pickle.load(f)\n",
    "                try:\n",
    "                    top_peers = top_peers[focal_gvkey] # a dataframe\n",
    "         #           print(top_peers)\n",
    "                    top_peers_lst = top_peers.gvkey2.tolist()\n",
    "                    selected_sdc_tnic = sdc_tnic[ (sdc_tnic['AGVKEY'].isin(top_peers_lst + [focal_gvkey])) & (sdc_tnic.YEAR == focal_year+1) ] \n",
    "                    selected_sdc_tnic.reset_index(drop=True)\n",
    "                    if selected_sdc_tnic.shape[0] > 0:\n",
    "                        #print(selected_sdc_tnic[['DE', 'AGVKEY']] , top_peers[['gvkey2', 'score']])\n",
    "                        df = selected_sdc_tnic[['DA', 'AGVKEY', 'TGVKEY']]\n",
    "\n",
    "\n",
    "                        df['EVENT_TYPE'] = df.apply(helper1, axis=1)\n",
    "                        #print(df)\n",
    "\n",
    "                        score_df = top_peers[['gvkey2', 'score']]\n",
    "\n",
    "                        df = df.merge(score_df, left_on='AGVKEY', right_on = 'gvkey2', how = 'left')\n",
    "                        df = df[['DA','AGVKEY', 'EVENT_TYPE', 'score', 'TGVKEY']]\n",
    "        #                print(df)\n",
    "                        df = df.fillna(1)\n",
    "                        df.columns = ['UPDATE_DATE','AGVKEY','EVENT_TYPE', 'SCORE', 'TGVKEY'] # rename\n",
    "                        df = df.reset_index(drop=True)\n",
    "                        sdc_lst.append(df)\n",
    "                    #print(len(sdc_lst))\n",
    "                except:\n",
    "                    pass\n",
    "\n",
    "            focal_df = pd.concat(sdc_lst, axis=0)\n",
    "            focal_c = focal_df.reset_index(drop=True) \n",
    "            focal_c = focal_c.sort_values(by = ['UPDATE_DATE']) # date time is unsortable..\n",
    "            focal_c.reset_index(drop=True, inplace=True)\n",
    "            return focal_c\n",
    "\n",
    "        def convert_date(df):\n",
    "            def datetime_converter(date_time):\n",
    "                base_time = np.datetime64('1997-01-01')\n",
    "                days_diff = np.datetime64(date_time.date()) - base_time\n",
    "                return days_diff.astype(int)\n",
    "            for idx, row in df.iterrows():\n",
    "                df.loc[idx, 'UPDATE_DATE'] = datetime_converter(df.loc[idx, 'UPDATE_DATE'])\n",
    "\n",
    "            df.sort_values(by = ['UPDATE_DATE']).reset_index(drop=True, inplace=True)\n",
    "            return df\n",
    "\n",
    "        def making_time_diff(focal_c2):\n",
    "            '''\n",
    "            df = focal_c; update date is the integer form that count the date from base_date (1997 01 01)\n",
    "\n",
    "            WARNING: the No.1 event set time-diff = 0\n",
    "            '''\n",
    "            tmp_columns = focal_c2.columns.tolist()\n",
    "            focal_c2['UPDATE_DATE'] = [0] + [1 if timediff==0 else timediff for timediff in focal_c2.UPDATE_DATE.diff().tolist()[1:] ]\n",
    "            focal_c2.columns = ['time_diff'] + tmp_columns[1:]\n",
    "            return focal_c2\n",
    "\n",
    "        def __main__():\n",
    "            focal_c = get_focal_df(focal_gvkey)\n",
    "            focal_c2 = convert_date(focal_c.copy())\n",
    "            focal_c3 = making_time_diff(focal_c2.copy())\n",
    "            arr_c = np.array(focal_c3[['time_diff', 'EVENT_TYPE', 'SCORE']])\n",
    "            return arr_c, focal_c\n",
    "\n",
    "        arr, focal_c = __main__()\n",
    "\n",
    "        return arr, focal_c\n",
    "\n",
    "    def get_arr_b(focal_c, focal_gvkey):\n",
    "        def add_datetime(df):\n",
    "            def helper(row):\n",
    "                return np.datetime64(str(row.year+1)+'-01-01')\n",
    "            df['UPDATE_DATE'] = df.apply(helper, axis=1)\n",
    "            return df\n",
    "        def obtain_fv(focal_gvkey, focal_c, fv):\n",
    "            year_min, year_max = min([date.year for date in focal_c.UPDATE_DATE.tolist()]), max([date.year for date in focal_c.UPDATE_DATE.tolist()])\n",
    "            fv_subset = fv[(fv.year >= year_min-1) & (fv.year <= year_max-1) & (fv.gvkey == focal_gvkey)]\n",
    "            fv_subset = fv_subset[['gvkey', 'year','UPDATE_DATE', 'at', 'sale', 'ch', 'm2b', 'lev', 'roa', 'ppe',\n",
    "               'cash2asset', 'cash2sale', 'sale2asset', 'de', 'roe', 'd_sale', 'd_at']]\n",
    "            fv_subset.columns=['AGVKEY', 'year','UPDATE_DATE', 'at', 'sale', 'ch', 'm2b', 'lev', 'roa', 'ppe',\n",
    "               'cash2asset', 'cash2sale', 'sale2asset', 'de', 'roe', 'd_sale', 'd_at']\n",
    "            return fv_subset\n",
    "\n",
    "        def __main__():\n",
    "            with open(tmp_data_path+\"/afreq_full_fv.pickle\", \"rb\") as f:\n",
    "                fv = pickle.load(f)\n",
    "            fv = add_datetime(fv)\n",
    "            focal_b = obtain_fv(\"5047\", focal_c, fv)\n",
    "            arr_b = np.array(focal_b.iloc[:, 3:])\n",
    "            return arr_b, focal_b\n",
    "\n",
    "        arr = __main__()\n",
    "        return arr\n",
    "\n",
    "    def create_main_timeline(focal_b, focal_c):\n",
    "        '''\n",
    "        WARNING: GLOBAL and LOCAL time both start from 0!\n",
    "\n",
    "        '''\n",
    "        def helper(row):\n",
    "            if (row.EVENT_TYPE == 1) or (row.EVENT_TYPE == 0):\n",
    "                return 'past'\n",
    "            else:\n",
    "                return \"fv\"\n",
    "\n",
    "        def helper2(row):\n",
    "            if row.EVENT_TYPE == 1:\n",
    "                return \"1\"\n",
    "            elif row.EVENT_TYPE == 0:\n",
    "                return \"2\"\n",
    "            else:\n",
    "                return \"3\"\n",
    "\n",
    "        tmp = pd.concat([focal_c, focal_b]).sort_values(by=['UPDATE_DATE'])\n",
    "        tmp['EVENT_TYPE_countcreater'] = tmp.apply(helper, axis=1)\n",
    "        tmp['EVENT_TYPE_true'] = tmp.apply(helper2, axis=1)\n",
    "        tmp['LOCAL_IDX'] = tmp.groupby(['EVENT_TYPE_countcreater'])['UPDATE_DATE'].rank(ascending=True) -1 # rank start with 1\n",
    "        ## with local_idx using rank, local idx is not continuous (may have gap)\n",
    "        \n",
    "        tmp_columns = tmp.columns\n",
    "        tmp.reset_index(drop=True, inplace=True)\n",
    "        tmp.reset_index(drop=False, inplace=True)\n",
    "\n",
    "        tmp.columns = ['GLOBAL_IDX']+ tmp_columns.tolist() # rename global index\n",
    "\n",
    "        tmp = tmp[['GLOBAL_IDX', 'LOCAL_IDX', 'UPDATE_DATE', 'EVENT_TYPE_true', 'TGVKEY']]\n",
    "\n",
    "        tmp.columns = ['GLOBAL_IDX', 'LOCAL_IDX', 'UPDATE_DATE', 'EVENT_TYPE', 'TGVKEY'] # rename\n",
    "\n",
    "\n",
    "\n",
    "        return tmp\n",
    "    \n",
    "    def __main__():\n",
    "        with warnings.catch_warnings():\n",
    "            warnings.simplefilter(\"ignore\")\n",
    "            arr_c, focal_c = get_arr_c(focal_gvkey)\n",
    "        arr_b, focal_b = get_arr_b(focal_c, focal_gvkey)\n",
    "        timeline = create_main_timeline(focal_b, focal_c)\n",
    "        return arr_c, arr_b, timeline\n",
    "    \n",
    "    arr_c, arr_b, timeline = __main__()\n",
    "    return arr_c, arr_b, timeline"
   ]
  },
  {
   "cell_type": "code",
   "execution_count": 148,
   "metadata": {
    "ExecuteTime": {
     "end_time": "2021-10-29T15:21:28.463495Z",
     "start_time": "2021-10-29T15:21:25.457068Z"
    }
   },
   "outputs": [],
   "source": [
    "\n",
    "c, b, df = dataloader_preproceser('121817')\n",
    "    "
   ]
  },
  {
   "cell_type": "code",
   "execution_count": 149,
   "metadata": {
    "ExecuteTime": {
     "end_time": "2021-10-29T15:21:28.467858Z",
     "start_time": "2021-10-29T15:21:28.464938Z"
    }
   },
   "outputs": [
    {
     "data": {
      "text/plain": [
       "(45, 3)"
      ]
     },
     "execution_count": 149,
     "metadata": {},
     "output_type": "execute_result"
    }
   ],
   "source": [
    "c.shape # t, I(1=self), s(1=self)"
   ]
  },
  {
   "cell_type": "code",
   "execution_count": 150,
   "metadata": {
    "ExecuteTime": {
     "end_time": "2021-10-29T15:21:28.488866Z",
     "start_time": "2021-10-29T15:21:28.469026Z"
    }
   },
   "outputs": [
    {
     "data": {
      "text/plain": [
       "(21, 14)"
      ]
     },
     "execution_count": 150,
     "metadata": {},
     "output_type": "execute_result"
    }
   ],
   "source": [
    "b.shape # raw fv "
   ]
  },
  {
   "cell_type": "markdown",
   "metadata": {
    "ExecuteTime": {
     "end_time": "2021-10-27T17:56:29.606223Z",
     "start_time": "2021-10-27T17:56:29.600924Z"
    }
   },
   "source": [
    "- '1' = 'self'\n",
    "- '2' = 'peer'\n",
    "- '3' = 'fv'\n"
   ]
  },
  {
   "cell_type": "code",
   "execution_count": 151,
   "metadata": {
    "ExecuteTime": {
     "end_time": "2021-10-29T15:21:28.495351Z",
     "start_time": "2021-10-29T15:21:28.489932Z"
    }
   },
   "outputs": [],
   "source": [
    "with open(tmp_data_path+\"/testing1.pickle\", \"wb\") as f:\n",
    "    pickle.dump((c,b,df), f)"
   ]
  },
  {
   "cell_type": "code",
   "execution_count": null,
   "metadata": {},
   "outputs": [],
   "source": []
  },
  {
   "cell_type": "code",
   "execution_count": null,
   "metadata": {},
   "outputs": [],
   "source": []
  },
  {
   "cell_type": "markdown",
   "metadata": {
    "heading_collapsed": true
   },
   "source": [
    "# prepare\n",
    "\n",
    "get all inputs of timing module from c, b, df"
   ]
  },
  {
   "cell_type": "code",
   "execution_count": null,
   "metadata": {
    "hidden": true
   },
   "outputs": [],
   "source": [
    "arr_delta_time = "
   ]
  },
  {
   "cell_type": "code",
   "execution_count": null,
   "metadata": {
    "hidden": true
   },
   "outputs": [],
   "source": []
  },
  {
   "cell_type": "code",
   "execution_count": null,
   "metadata": {
    "hidden": true
   },
   "outputs": [],
   "source": []
  },
  {
   "cell_type": "code",
   "execution_count": null,
   "metadata": {
    "hidden": true
   },
   "outputs": [],
   "source": []
  },
  {
   "cell_type": "code",
   "execution_count": null,
   "metadata": {
    "hidden": true
   },
   "outputs": [],
   "source": []
  },
  {
   "cell_type": "code",
   "execution_count": null,
   "metadata": {
    "hidden": true
   },
   "outputs": [],
   "source": []
  },
  {
   "cell_type": "code",
   "execution_count": null,
   "metadata": {
    "hidden": true
   },
   "outputs": [],
   "source": []
  },
  {
   "cell_type": "code",
   "execution_count": null,
   "metadata": {
    "hidden": true
   },
   "outputs": [],
   "source": []
  },
  {
   "cell_type": "code",
   "execution_count": null,
   "metadata": {
    "hidden": true
   },
   "outputs": [],
   "source": []
  },
  {
   "cell_type": "code",
   "execution_count": null,
   "metadata": {
    "hidden": true
   },
   "outputs": [],
   "source": []
  },
  {
   "cell_type": "code",
   "execution_count": null,
   "metadata": {
    "hidden": true
   },
   "outputs": [],
   "source": [
    "class MYDataset():\n",
    "    def __init__(self):\n",
    "        self.raw_fv = \n",
    "        \n",
    "    \n",
    "    def create_A_freq_table(sdc_tnic, thres):\n",
    "        '''\n",
    "        thres: the minimum number of self MA event across obervation window (here fixed 1997 to 2020)\n",
    "        '''\n",
    "        A_freq = pd.DataFrame(sdc_tnic.AGVKEY.value_counts()).reset_index(drop=False)\n",
    "        A_freq = A_freq[A_freq.AGVKEY >= 5]\n",
    "        A_freq.columns = [\"GVKEY\", \"freq\"]\n",
    "        print(f\"totally {A_freq.shape[0]} numbers of frequent Acquirers\")\n",
    "    \n",
    "    def read_raw_fv(path, s_year, e_year):\n",
    "        "
   ]
  },
  {
   "cell_type": "markdown",
   "metadata": {},
   "source": [
    "# Create dataset\n",
    "\n",
    "- 4 things\n",
    "    - list of b\n",
    "    - list of c (idx must be corresponding)\n",
    "    - list of timeline\n",
    "    - map\n",
    "    "
   ]
  },
  {
   "cell_type": "code",
   "execution_count": 97,
   "metadata": {
    "ExecuteTime": {
     "end_time": "2021-10-28T00:50:52.808476Z",
     "start_time": "2021-10-28T00:50:52.790364Z"
    }
   },
   "outputs": [],
   "source": [
    "\n",
    "with open(data_path+\"/freq_acquirer_lst.pickle\", 'wb') as f:\n",
    "    pickle.dump(A_freq.GVKEY.values.tolist(), f)"
   ]
  },
  {
   "cell_type": "code",
   "execution_count": 38,
   "metadata": {
    "ExecuteTime": {
     "end_time": "2021-10-21T23:34:12.776708Z",
     "start_time": "2021-10-21T23:34:12.760436Z"
    }
   },
   "outputs": [
    {
     "data": {
      "text/html": [
       "<div>\n",
       "<style scoped>\n",
       "    .dataframe tbody tr th:only-of-type {\n",
       "        vertical-align: middle;\n",
       "    }\n",
       "\n",
       "    .dataframe tbody tr th {\n",
       "        vertical-align: top;\n",
       "    }\n",
       "\n",
       "    .dataframe thead th {\n",
       "        text-align: right;\n",
       "    }\n",
       "</style>\n",
       "<table border=\"1\" class=\"dataframe\">\n",
       "  <thead>\n",
       "    <tr style=\"text-align: right;\">\n",
       "      <th></th>\n",
       "      <th>GVKEY</th>\n",
       "      <th>freq</th>\n",
       "    </tr>\n",
       "  </thead>\n",
       "  <tbody>\n",
       "    <tr>\n",
       "      <th>0</th>\n",
       "      <td>5047</td>\n",
       "      <td>101</td>\n",
       "    </tr>\n",
       "    <tr>\n",
       "      <th>1</th>\n",
       "      <td>2176</td>\n",
       "      <td>49</td>\n",
       "    </tr>\n",
       "    <tr>\n",
       "      <th>2</th>\n",
       "      <td>177088</td>\n",
       "      <td>41</td>\n",
       "    </tr>\n",
       "    <tr>\n",
       "      <th>3</th>\n",
       "      <td>11856</td>\n",
       "      <td>41</td>\n",
       "    </tr>\n",
       "    <tr>\n",
       "      <th>4</th>\n",
       "      <td>6268</td>\n",
       "      <td>39</td>\n",
       "    </tr>\n",
       "    <tr>\n",
       "      <th>...</th>\n",
       "      <td>...</td>\n",
       "      <td>...</td>\n",
       "    </tr>\n",
       "    <tr>\n",
       "      <th>506</th>\n",
       "      <td>5439</td>\n",
       "      <td>5</td>\n",
       "    </tr>\n",
       "    <tr>\n",
       "      <th>507</th>\n",
       "      <td>23220</td>\n",
       "      <td>5</td>\n",
       "    </tr>\n",
       "    <tr>\n",
       "      <th>508</th>\n",
       "      <td>164652</td>\n",
       "      <td>5</td>\n",
       "    </tr>\n",
       "    <tr>\n",
       "      <th>509</th>\n",
       "      <td>1831</td>\n",
       "      <td>5</td>\n",
       "    </tr>\n",
       "    <tr>\n",
       "      <th>510</th>\n",
       "      <td>65009</td>\n",
       "      <td>5</td>\n",
       "    </tr>\n",
       "  </tbody>\n",
       "</table>\n",
       "<p>511 rows × 2 columns</p>\n",
       "</div>"
      ],
      "text/plain": [
       "      GVKEY  freq\n",
       "0      5047   101\n",
       "1      2176    49\n",
       "2    177088    41\n",
       "3     11856    41\n",
       "4      6268    39\n",
       "..      ...   ...\n",
       "506    5439     5\n",
       "507   23220     5\n",
       "508  164652     5\n",
       "509    1831     5\n",
       "510   65009     5\n",
       "\n",
       "[511 rows x 2 columns]"
      ]
     },
     "execution_count": 38,
     "metadata": {},
     "output_type": "execute_result"
    }
   ],
   "source": [
    "A_freq"
   ]
  },
  {
   "cell_type": "code",
   "execution_count": 39,
   "metadata": {
    "ExecuteTime": {
     "end_time": "2021-10-21T23:34:32.478623Z",
     "start_time": "2021-10-21T23:34:32.474582Z"
    }
   },
   "outputs": [],
   "source": [
    "A_freq_lst = A_freq.GVKEY.tolist()"
   ]
  },
  {
   "cell_type": "code",
   "execution_count": 105,
   "metadata": {
    "ExecuteTime": {
     "end_time": "2021-10-28T18:45:48.026913Z",
     "start_time": "2021-10-28T18:22:28.079061Z"
    }
   },
   "outputs": [
    {
     "name": "stderr",
     "output_type": "stream",
     "text": [
      "100%|██████████| 511/511 [23:19<00:00,  2.74s/it]\n"
     ]
    }
   ],
   "source": [
    "arr_cs = []\n",
    "arr_bs = []\n",
    "timelines = []\n",
    "idx_to_gvkey = {}\n",
    "\n",
    "for i, gvkey in enumerate(tqdm(A_freq_lst)):\n",
    "    arr_c, arr_b, timeline = dataloader_preproceser(gvkey)\n",
    "    \n",
    "    arr_cs.append(arr_c)\n",
    "    arr_bs.append(arr_b)\n",
    "    timelines.append(timeline)\n",
    "    \n",
    "    idx_to_gvkey[i] = gvkey\n",
    "    \n",
    "assert len(arr_cs) == len(arr_bs) == len(timelines) == len(A_freq_lst)\n",
    "    \n",
    "    \n",
    "    "
   ]
  },
  {
   "cell_type": "code",
   "execution_count": 106,
   "metadata": {
    "ExecuteTime": {
     "end_time": "2021-10-28T20:29:09.089068Z",
     "start_time": "2021-10-28T20:29:09.006941Z"
    }
   },
   "outputs": [],
   "source": [
    "with open(data_path+\"/dataset_top10_freq5_1997_2020.pickle\", \"wb\") as f:\n",
    "    pickle.dump((arr_cs, arr_bs, timelines), f)"
   ]
  },
  {
   "cell_type": "code",
   "execution_count": null,
   "metadata": {},
   "outputs": [],
   "source": []
  },
  {
   "cell_type": "code",
   "execution_count": null,
   "metadata": {},
   "outputs": [],
   "source": []
  },
  {
   "cell_type": "code",
   "execution_count": null,
   "metadata": {},
   "outputs": [],
   "source": []
  },
  {
   "cell_type": "code",
   "execution_count": 57,
   "metadata": {
    "ExecuteTime": {
     "end_time": "2021-10-22T02:34:28.616153Z",
     "start_time": "2021-10-22T02:34:28.594198Z"
    }
   },
   "outputs": [
    {
     "data": {
      "text/html": [
       "<div>\n",
       "<style scoped>\n",
       "    .dataframe tbody tr th:only-of-type {\n",
       "        vertical-align: middle;\n",
       "    }\n",
       "\n",
       "    .dataframe tbody tr th {\n",
       "        vertical-align: top;\n",
       "    }\n",
       "\n",
       "    .dataframe thead th {\n",
       "        text-align: right;\n",
       "    }\n",
       "</style>\n",
       "<table border=\"1\" class=\"dataframe\">\n",
       "  <thead>\n",
       "    <tr style=\"text-align: right;\">\n",
       "      <th></th>\n",
       "      <th>GLOBAL_IDX</th>\n",
       "      <th>LOCAL_IDX</th>\n",
       "      <th>UPDATE_DATE</th>\n",
       "      <th>EVENT_TYPE</th>\n",
       "    </tr>\n",
       "  </thead>\n",
       "  <tbody>\n",
       "    <tr>\n",
       "      <th>0</th>\n",
       "      <td>0</td>\n",
       "      <td>0</td>\n",
       "      <td>1997-01-01</td>\n",
       "      <td>3</td>\n",
       "    </tr>\n",
       "    <tr>\n",
       "      <th>1</th>\n",
       "      <td>1</td>\n",
       "      <td>0</td>\n",
       "      <td>1997-04-16</td>\n",
       "      <td>1</td>\n",
       "    </tr>\n",
       "    <tr>\n",
       "      <th>2</th>\n",
       "      <td>2</td>\n",
       "      <td>1</td>\n",
       "      <td>1997-05-30</td>\n",
       "      <td>1</td>\n",
       "    </tr>\n",
       "    <tr>\n",
       "      <th>3</th>\n",
       "      <td>3</td>\n",
       "      <td>2</td>\n",
       "      <td>1997-06-27</td>\n",
       "      <td>1</td>\n",
       "    </tr>\n",
       "    <tr>\n",
       "      <th>4</th>\n",
       "      <td>4</td>\n",
       "      <td>3</td>\n",
       "      <td>1997-07-01</td>\n",
       "      <td>2</td>\n",
       "    </tr>\n",
       "    <tr>\n",
       "      <th>...</th>\n",
       "      <td>...</td>\n",
       "      <td>...</td>\n",
       "      <td>...</td>\n",
       "      <td>...</td>\n",
       "    </tr>\n",
       "    <tr>\n",
       "      <th>215</th>\n",
       "      <td>215</td>\n",
       "      <td>194</td>\n",
       "      <td>2017-03-27</td>\n",
       "      <td>1</td>\n",
       "    </tr>\n",
       "    <tr>\n",
       "      <th>216</th>\n",
       "      <td>216</td>\n",
       "      <td>195</td>\n",
       "      <td>2017-10-31</td>\n",
       "      <td>2</td>\n",
       "    </tr>\n",
       "    <tr>\n",
       "      <th>217</th>\n",
       "      <td>217</td>\n",
       "      <td>21</td>\n",
       "      <td>2018-01-01</td>\n",
       "      <td>3</td>\n",
       "    </tr>\n",
       "    <tr>\n",
       "      <th>218</th>\n",
       "      <td>218</td>\n",
       "      <td>196</td>\n",
       "      <td>2018-07-18</td>\n",
       "      <td>1</td>\n",
       "    </tr>\n",
       "    <tr>\n",
       "      <th>219</th>\n",
       "      <td>219</td>\n",
       "      <td>197</td>\n",
       "      <td>2018-08-31</td>\n",
       "      <td>1</td>\n",
       "    </tr>\n",
       "  </tbody>\n",
       "</table>\n",
       "<p>220 rows × 4 columns</p>\n",
       "</div>"
      ],
      "text/plain": [
       "     GLOBAL_IDX  LOCAL_IDX UPDATE_DATE EVENT_TYPE\n",
       "0             0          0  1997-01-01          3\n",
       "1             1          0  1997-04-16          1\n",
       "2             2          1  1997-05-30          1\n",
       "3             3          2  1997-06-27          1\n",
       "4             4          3  1997-07-01          2\n",
       "..          ...        ...         ...        ...\n",
       "215         215        194  2017-03-27          1\n",
       "216         216        195  2017-10-31          2\n",
       "217         217         21  2018-01-01          3\n",
       "218         218        196  2018-07-18          1\n",
       "219         219        197  2018-08-31          1\n",
       "\n",
       "[220 rows x 4 columns]"
      ]
     },
     "execution_count": 57,
     "metadata": {},
     "output_type": "execute_result"
    }
   ],
   "source": [
    "timelines[0]"
   ]
  },
  {
   "cell_type": "code",
   "execution_count": 56,
   "metadata": {
    "ExecuteTime": {
     "end_time": "2021-10-22T02:32:51.041509Z",
     "start_time": "2021-10-22T02:32:51.033428Z"
    }
   },
   "outputs": [
    {
     "data": {
      "text/plain": [
       "97"
      ]
     },
     "execution_count": 56,
     "metadata": {},
     "output_type": "execute_result"
    }
   ],
   "source": [
    "timelines[0][\"EVENT_TYPE\"].value_counts()[1]\n"
   ]
  },
  {
   "cell_type": "code",
   "execution_count": 58,
   "metadata": {
    "ExecuteTime": {
     "end_time": "2021-10-22T02:36:08.064337Z",
     "start_time": "2021-10-22T02:36:08.060386Z"
    }
   },
   "outputs": [],
   "source": [
    "now = timelines[0]"
   ]
  },
  {
   "cell_type": "code",
   "execution_count": 61,
   "metadata": {
    "ExecuteTime": {
     "end_time": "2021-10-22T02:37:59.691217Z",
     "start_time": "2021-10-22T02:37:59.686208Z"
    }
   },
   "outputs": [],
   "source": [
    "sub = now[now[\"EVENT_TYPE\"] == '1']"
   ]
  },
  {
   "cell_type": "code",
   "execution_count": 60,
   "metadata": {
    "ExecuteTime": {
     "end_time": "2021-10-22T02:36:19.176454Z",
     "start_time": "2021-10-22T02:36:19.156407Z"
    }
   },
   "outputs": [
    {
     "data": {
      "text/html": [
       "<div>\n",
       "<style scoped>\n",
       "    .dataframe tbody tr th:only-of-type {\n",
       "        vertical-align: middle;\n",
       "    }\n",
       "\n",
       "    .dataframe tbody tr th {\n",
       "        vertical-align: top;\n",
       "    }\n",
       "\n",
       "    .dataframe thead th {\n",
       "        text-align: right;\n",
       "    }\n",
       "</style>\n",
       "<table border=\"1\" class=\"dataframe\">\n",
       "  <thead>\n",
       "    <tr style=\"text-align: right;\">\n",
       "      <th></th>\n",
       "      <th>GLOBAL_IDX</th>\n",
       "      <th>LOCAL_IDX</th>\n",
       "      <th>UPDATE_DATE</th>\n",
       "      <th>EVENT_TYPE</th>\n",
       "    </tr>\n",
       "  </thead>\n",
       "  <tbody>\n",
       "    <tr>\n",
       "      <th>1</th>\n",
       "      <td>1</td>\n",
       "      <td>0</td>\n",
       "      <td>1997-04-16</td>\n",
       "      <td>1</td>\n",
       "    </tr>\n",
       "    <tr>\n",
       "      <th>2</th>\n",
       "      <td>2</td>\n",
       "      <td>1</td>\n",
       "      <td>1997-05-30</td>\n",
       "      <td>1</td>\n",
       "    </tr>\n",
       "    <tr>\n",
       "      <th>3</th>\n",
       "      <td>3</td>\n",
       "      <td>2</td>\n",
       "      <td>1997-06-27</td>\n",
       "      <td>1</td>\n",
       "    </tr>\n",
       "    <tr>\n",
       "      <th>5</th>\n",
       "      <td>5</td>\n",
       "      <td>4</td>\n",
       "      <td>1997-07-01</td>\n",
       "      <td>1</td>\n",
       "    </tr>\n",
       "    <tr>\n",
       "      <th>7</th>\n",
       "      <td>7</td>\n",
       "      <td>6</td>\n",
       "      <td>1997-07-18</td>\n",
       "      <td>1</td>\n",
       "    </tr>\n",
       "    <tr>\n",
       "      <th>...</th>\n",
       "      <td>...</td>\n",
       "      <td>...</td>\n",
       "      <td>...</td>\n",
       "      <td>...</td>\n",
       "    </tr>\n",
       "    <tr>\n",
       "      <th>209</th>\n",
       "      <td>209</td>\n",
       "      <td>190</td>\n",
       "      <td>2015-05-29</td>\n",
       "      <td>1</td>\n",
       "    </tr>\n",
       "    <tr>\n",
       "      <th>213</th>\n",
       "      <td>213</td>\n",
       "      <td>193</td>\n",
       "      <td>2016-09-08</td>\n",
       "      <td>1</td>\n",
       "    </tr>\n",
       "    <tr>\n",
       "      <th>215</th>\n",
       "      <td>215</td>\n",
       "      <td>194</td>\n",
       "      <td>2017-03-27</td>\n",
       "      <td>1</td>\n",
       "    </tr>\n",
       "    <tr>\n",
       "      <th>218</th>\n",
       "      <td>218</td>\n",
       "      <td>196</td>\n",
       "      <td>2018-07-18</td>\n",
       "      <td>1</td>\n",
       "    </tr>\n",
       "    <tr>\n",
       "      <th>219</th>\n",
       "      <td>219</td>\n",
       "      <td>197</td>\n",
       "      <td>2018-08-31</td>\n",
       "      <td>1</td>\n",
       "    </tr>\n",
       "  </tbody>\n",
       "</table>\n",
       "<p>101 rows × 4 columns</p>\n",
       "</div>"
      ],
      "text/plain": [
       "     GLOBAL_IDX  LOCAL_IDX UPDATE_DATE EVENT_TYPE\n",
       "1             1          0  1997-04-16          1\n",
       "2             2          1  1997-05-30          1\n",
       "3             3          2  1997-06-27          1\n",
       "5             5          4  1997-07-01          1\n",
       "7             7          6  1997-07-18          1\n",
       "..          ...        ...         ...        ...\n",
       "209         209        190  2015-05-29          1\n",
       "213         213        193  2016-09-08          1\n",
       "215         215        194  2017-03-27          1\n",
       "218         218        196  2018-07-18          1\n",
       "219         219        197  2018-08-31          1\n",
       "\n",
       "[101 rows x 4 columns]"
      ]
     },
     "execution_count": 60,
     "metadata": {},
     "output_type": "execute_result"
    }
   ],
   "source": [
    "sub = now[now[\"EVENT_TYPE\"] == '1']"
   ]
  },
  {
   "cell_type": "code",
   "execution_count": 78,
   "metadata": {
    "ExecuteTime": {
     "end_time": "2021-10-22T02:53:54.175142Z",
     "start_time": "2021-10-22T02:53:54.165640Z"
    }
   },
   "outputs": [
    {
     "name": "stdout",
     "output_type": "stream",
     "text": [
      "0\n"
     ]
    }
   ],
   "source": [
    "for i, row in sub.iterrows():\n",
    "    print(now[now.UPDATE_DATE == pd.Timestamp(f'{row.UPDATE_DATE.year}-01-01 00:00:00')].LOCAL_IDX.values[0])\n",
    "    break"
   ]
  },
  {
   "cell_type": "code",
   "execution_count": 73,
   "metadata": {
    "ExecuteTime": {
     "end_time": "2021-10-22T02:50:59.049298Z",
     "start_time": "2021-10-22T02:50:59.042650Z"
    }
   },
   "outputs": [
    {
     "data": {
      "text/plain": [
       "Timestamp('1997-01-01 00:00:00')"
      ]
     },
     "execution_count": 73,
     "metadata": {},
     "output_type": "execute_result"
    }
   ],
   "source": [
    "pd.Timestamp(f'{1997}-01-01 00:00:00')"
   ]
  },
  {
   "cell_type": "code",
   "execution_count": null,
   "metadata": {},
   "outputs": [],
   "source": [
    "row.UPDATE_DATE"
   ]
  },
  {
   "cell_type": "code",
   "execution_count": 79,
   "metadata": {
    "ExecuteTime": {
     "end_time": "2021-10-22T02:54:05.714845Z",
     "start_time": "2021-10-22T02:54:05.704740Z"
    }
   },
   "outputs": [
    {
     "data": {
      "text/plain": [
       "0"
      ]
     },
     "execution_count": 79,
     "metadata": {},
     "output_type": "execute_result"
    }
   ],
   "source": [
    "now[now.UPDATE_DATE == pd.Timestamp(f'{row.UPDATE_DATE.year}-01-01 00:00:00')].LOCAL_IDX.values[0]"
   ]
  },
  {
   "cell_type": "code",
   "execution_count": 80,
   "metadata": {
    "ExecuteTime": {
     "end_time": "2021-10-22T03:06:38.458026Z",
     "start_time": "2021-10-22T03:06:38.449935Z"
    }
   },
   "outputs": [
    {
     "data": {
      "text/plain": [
       "array([[0.000e+00, 0.000e+00, 7.710e-02],\n",
       "       [6.600e+01, 0.000e+00, 7.320e-02],\n",
       "       [1.070e+02, 0.000e+00, 8.990e-02],\n",
       "       [2.290e+02, 0.000e+00, 5.970e-02],\n",
       "       [1.100e+02, 0.000e+00, 8.000e-02],\n",
       "       [7.500e+01, 0.000e+00, 5.700e-02],\n",
       "       [8.800e+01, 0.000e+00, 5.700e-02],\n",
       "       [1.000e+01, 1.000e+00, 1.000e+00],\n",
       "       [5.700e+01, 1.000e+00, 1.000e+00],\n",
       "       [1.960e+02, 1.000e+00, 1.000e+00],\n",
       "       [1.680e+02, 1.000e+00, 1.000e+00],\n",
       "       [2.690e+02, 0.000e+00, 7.480e-02],\n",
       "       [1.930e+02, 0.000e+00, 5.600e-02],\n",
       "       [2.650e+02, 0.000e+00, 4.220e-02],\n",
       "       [7.000e+02, 0.000e+00, 5.710e-02],\n",
       "       [9.200e+01, 0.000e+00, 7.640e-02],\n",
       "       [3.650e+02, 0.000e+00, 6.580e-02],\n",
       "       [6.200e+01, 0.000e+00, 8.660e-02],\n",
       "       [9.300e+01, 0.000e+00, 6.230e-02],\n",
       "       [8.500e+01, 0.000e+00, 8.690e-02],\n",
       "       [1.000e+01, 0.000e+00, 1.501e-01],\n",
       "       [5.410e+02, 0.000e+00, 3.240e-02],\n",
       "       [3.300e+02, 0.000e+00, 1.569e-01],\n",
       "       [4.100e+01, 0.000e+00, 1.569e-01],\n",
       "       [1.000e+00, 0.000e+00, 1.569e-01],\n",
       "       [3.500e+02, 0.000e+00, 1.269e-01],\n",
       "       [1.820e+02, 0.000e+00, 1.765e-01],\n",
       "       [2.610e+02, 0.000e+00, 5.477e-01],\n",
       "       [3.880e+02, 0.000e+00, 5.524e-01],\n",
       "       [2.900e+01, 0.000e+00, 1.460e-01],\n",
       "       [3.450e+02, 0.000e+00, 5.497e-01],\n",
       "       [8.200e+01, 0.000e+00, 1.460e-01],\n",
       "       [3.800e+01, 0.000e+00, 5.497e-01],\n",
       "       [7.500e+01, 0.000e+00, 1.355e-01],\n",
       "       [1.000e+00, 0.000e+00, 1.355e-01],\n",
       "       [1.200e+01, 0.000e+00, 1.355e-01],\n",
       "       [1.680e+02, 0.000e+00, 5.836e-01],\n",
       "       [5.300e+02, 0.000e+00, 1.930e-01],\n",
       "       [5.100e+01, 0.000e+00, 7.128e-01],\n",
       "       [5.210e+02, 1.000e+00, 1.000e+00]])"
      ]
     },
     "execution_count": 80,
     "metadata": {},
     "output_type": "execute_result"
    }
   ],
   "source": [
    "arr_c # time indicator tnic"
   ]
  },
  {
   "cell_type": "code",
   "execution_count": 81,
   "metadata": {
    "ExecuteTime": {
     "end_time": "2021-10-25T14:44:38.610768Z",
     "start_time": "2021-10-25T14:44:38.575267Z"
    }
   },
   "outputs": [
    {
     "data": {
      "text/plain": [
       "array([[ 3.04012000e+05,  8.85400000e+04,  3.70030000e+04,\n",
       "         1.64619304e+00,  4.75895688e-01,  2.69824875e-02,\n",
       "         1.06298436e-01,  5.35767172e-02,  2.50350296e-01,\n",
       "         2.91238504e-01,  4.20111505e+00,  2.38196179e-01,\n",
       "         1.27309303e-01,  1.16041732e-01],\n",
       "       [ 3.55935000e+05,  9.98200000e+04,  3.70030000e+04,\n",
       "         1.80197843e+00,  4.91777993e-01,  2.61171281e-02,\n",
       "         1.00383497e-01,  5.35767172e-02,  2.50350296e-01,\n",
       "         2.80444463e-01,  4.50208333e+00,  2.39094650e-01,\n",
       "         1.27400045e-01,  1.70792600e-01],\n",
       "       [ 4.05200000e+05,  1.10832000e+05,  3.70030000e+04,\n",
       "         2.12668918e+00,  4.97959033e-01,  2.64486673e-02,\n",
       "         1.01238894e-01,  5.35767172e-02,  2.50350296e-01,\n",
       "         2.73524186e-01,  4.74124116e+00,  2.51826961e-01,\n",
       "         1.10318573e-01,  1.38410103e-01],\n",
       "       [ 4.37006000e+05,  1.28051000e+05,  8.19500000e+03,\n",
       "         1.95406822e+00,  4.60661867e-01,  2.91414763e-02,\n",
       "         9.15662485e-02,  1.87526029e-02,  6.39979383e-02,\n",
       "         2.93018860e-01,  3.98700784e+00,  2.52218173e-01,\n",
       "         1.55361268e-01,  7.84945706e-02],\n",
       "       [ 4.95023000e+05,  1.25679000e+05,  9.08200000e+03,\n",
       "         1.67446885e+00,  4.70446828e-01,  2.85400880e-02,\n",
       "         8.51273577e-02,  1.83466223e-02,  7.22634649e-02,\n",
       "         2.53885173e-01,  4.24781118e+00,  2.57697359e-01,\n",
       "        -1.85238694e-02,  1.32760191e-01],\n",
       "       [ 5.75244000e+05,  1.30685000e+05,  8.91000000e+03,\n",
       "         1.28951874e+00,  4.85719104e-01,  2.63070975e-02,\n",
       "         8.20590914e-02,  1.54890794e-02,  6.81792095e-02,\n",
       "         2.27181857e-01,  4.38588202e+00,  2.37544344e-01,\n",
       "         3.98316346e-02,  1.62055096e-01],\n",
       "       [ 6.47483000e+05,  1.33585000e+05,  1.26640000e+04,\n",
       "         1.33966677e+00,  4.70932828e-01,  2.40763078e-02,\n",
       "         8.24454078e-02,  1.95588147e-02,  9.48010630e-02,\n",
       "         2.06314297e-01,  3.85098510e+00,  1.96880525e-01,\n",
       "         2.21907641e-02,  1.25579754e-01],\n",
       "       [ 4.99118143e+05,  1.15853333e+05,  3.70030000e+04,\n",
       "         1.49450460e+00,  5.27305892e-01,  2.29985076e-02,\n",
       "         1.05789800e-01,  5.35767172e-02,  2.50350296e-01,\n",
       "         2.58830481e-01,  4.14549967e+00,  2.01940987e-01,\n",
       "         1.17151393e-03,  9.34195773e-02],\n",
       "       [ 4.99118143e+05,  1.15853333e+05,  3.70030000e+04,\n",
       "         1.49450460e+00,  5.27305892e-01,  2.29985076e-02,\n",
       "         1.05789800e-01,  5.35767172e-02,  2.50350296e-01,\n",
       "         2.58830481e-01,  4.14549967e+00,  2.01940987e-01,\n",
       "         1.17151393e-03,  9.34195773e-02],\n",
       "       [ 4.99118143e+05,  1.15853333e+05,  3.70030000e+04,\n",
       "         1.49450460e+00,  5.27305892e-01,  2.29985076e-02,\n",
       "         1.05789800e-01,  5.35767172e-02,  2.50350296e-01,\n",
       "         2.58830481e-01,  4.14549967e+00,  2.01940987e-01,\n",
       "         1.17151393e-03,  9.34195773e-02],\n",
       "       [ 7.95337000e+05,  1.69719000e+05,  1.57470000e+04,\n",
       "         1.30494909e+00,  6.46412778e-01,  2.82496602e-02,\n",
       "         9.79396155e-02,  1.97991543e-02,  9.27827762e-02,\n",
       "         2.13392562e-01,  4.44894816e+00,  1.94428820e-01,\n",
       "         1.17151393e-03,  9.34195773e-02],\n",
       "       [ 4.99118143e+05,  1.15853333e+05,  3.70030000e+04,\n",
       "         1.49450460e+00,  5.27305892e-01,  2.29985076e-02,\n",
       "         1.05789800e-01,  5.35767172e-02,  2.50350296e-01,\n",
       "         2.58830481e-01,  4.14549967e+00,  2.01940987e-01,\n",
       "         1.17151393e-03,  9.34195773e-02],\n",
       "       [ 7.81818000e+05,  1.55777000e+05,  7.22600000e+04,\n",
       "         1.05355252e+00,  6.52571315e-01,  1.43486080e-02,\n",
       "         8.85269973e-02,  9.24256029e-02,  4.63868222e-01,\n",
       "         1.99249697e-01,  4.34979666e+00,  9.56424619e-02,\n",
       "         1.17151393e-03,  9.34195773e-02],\n",
       "       [ 7.51216000e+05,  1.49060000e+05,  7.89580000e+04,\n",
       "         1.09634942e+00,  6.37153628e-01,  1.68034227e-02,\n",
       "         8.81424251e-02,  1.05106920e-01,  5.29706159e-01,\n",
       "         1.98424954e-01,  4.02434923e+00,  1.06132710e-01,\n",
       "        -4.31193308e-02, -3.91421021e-02],\n",
       "       [ 4.99118143e+05,  1.15853333e+05,  3.70030000e+04,\n",
       "         1.49450460e+00,  5.27305892e-01,  2.29985076e-02,\n",
       "         1.05789800e-01,  5.35767172e-02,  2.50350296e-01,\n",
       "         2.58830481e-01,  4.14549967e+00,  2.01940987e-01,\n",
       "         1.17151393e-03,  9.34195773e-02],\n",
       "       [ 4.99118143e+05,  1.15853333e+05,  3.70030000e+04,\n",
       "         1.49450460e+00,  5.27305892e-01,  2.29985076e-02,\n",
       "         1.05789800e-01,  5.35767172e-02,  2.50350296e-01,\n",
       "         2.58830481e-01,  4.14549967e+00,  2.01940987e-01,\n",
       "         1.17151393e-03,  9.34195773e-02],\n",
       "       [ 4.99118143e+05,  1.15853333e+05,  3.70030000e+04,\n",
       "         1.49450460e+00,  5.27305892e-01,  2.29985076e-02,\n",
       "         1.05789800e-01,  5.35767172e-02,  2.50350296e-01,\n",
       "         2.58830481e-01,  4.14549967e+00,  2.01940987e-01,\n",
       "         1.17151393e-03,  9.34195773e-02],\n",
       "       [ 6.48349000e+05,  1.46156000e+05,  9.02080000e+04,\n",
       "         1.19432588e+00,  5.62937554e-01,  2.36678085e-02,\n",
       "         1.02393927e-01,  1.39134941e-01,  6.17203536e-01,\n",
       "         2.25427972e-01,  2.84786866e+00,  1.19734080e-01,\n",
       "         1.17151393e-03,  9.34195773e-02],\n",
       "       [ 4.99118143e+05,  9.44940000e+04,  3.70030000e+04,\n",
       "         1.49450460e+00,  5.27305892e-01,  2.29985076e-02,\n",
       "         1.05789800e-01,  5.35767172e-02,  2.50350296e-01,\n",
       "         2.58830481e-01,  4.14549967e+00,  2.01940987e-01,\n",
       "        -3.53471633e-01,  9.34195773e-02],\n",
       "       [ 4.99118143e+05,  1.03297000e+05,  3.70030000e+04,\n",
       "         1.49450460e+00,  5.27305892e-01,  2.29985076e-02,\n",
       "         1.05789800e-01,  5.35767172e-02,  2.50350296e-01,\n",
       "         2.58830481e-01,  4.14549967e+00,  2.01940987e-01,\n",
       "         9.31593540e-02,  9.34195773e-02],\n",
       "       [ 4.99118143e+05,  9.92790000e+04,  3.70030000e+04,\n",
       "         1.49450460e+00,  5.27305892e-01,  2.29985076e-02,\n",
       "         1.05789800e-01,  5.35767172e-02,  2.50350296e-01,\n",
       "         2.58830481e-01,  4.14549967e+00,  2.01940987e-01,\n",
       "        -3.88975478e-02,  9.34195773e-02]])"
      ]
     },
     "execution_count": 81,
     "metadata": {},
     "output_type": "execute_result"
    }
   ],
   "source": [
    "arr_b"
   ]
  },
  {
   "cell_type": "code",
   "execution_count": 99,
   "metadata": {
    "ExecuteTime": {
     "end_time": "2021-10-28T01:00:03.167549Z",
     "start_time": "2021-10-28T01:00:03.162104Z"
    }
   },
   "outputs": [
    {
     "data": {
      "text/plain": [
       "2"
      ]
     },
     "execution_count": 99,
     "metadata": {},
     "output_type": "execute_result"
    }
   ],
   "source": [
    "1+1"
   ]
  },
  {
   "cell_type": "code",
   "execution_count": null,
   "metadata": {},
   "outputs": [],
   "source": []
  }
 ],
 "metadata": {
  "kernelspec": {
   "display_name": "GNN",
   "language": "python",
   "name": "gnn"
  },
  "language_info": {
   "codemirror_mode": {
    "name": "ipython",
    "version": 3
   },
   "file_extension": ".py",
   "mimetype": "text/x-python",
   "name": "python",
   "nbconvert_exporter": "python",
   "pygments_lexer": "ipython3",
   "version": "3.8.10"
  },
  "latex_envs": {
   "LaTeX_envs_menu_present": true,
   "autoclose": false,
   "autocomplete": true,
   "bibliofile": "biblio.bib",
   "cite_by": "apalike",
   "current_citInitial": 1,
   "eqLabelWithNumbers": true,
   "eqNumInitial": 1,
   "hotkeys": {
    "equation": "Ctrl-E",
    "itemize": "Ctrl-I"
   },
   "labels_anchors": false,
   "latex_user_defs": false,
   "report_style_numbering": false,
   "user_envs_cfg": false
  },
  "toc": {
   "base_numbering": 1,
   "nav_menu": {},
   "number_sections": true,
   "sideBar": true,
   "skip_h1_title": false,
   "title_cell": "Table of Contents",
   "title_sidebar": "Contents",
   "toc_cell": false,
   "toc_position": {},
   "toc_section_display": true,
   "toc_window_display": false
  }
 },
 "nbformat": 4,
 "nbformat_minor": 4
}
