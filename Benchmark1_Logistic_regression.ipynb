{
 "cells": [
  {
   "cell_type": "code",
   "execution_count": 103,
   "metadata": {
    "ExecuteTime": {
     "end_time": "2021-12-09T22:56:19.666115Z",
     "start_time": "2021-12-09T22:56:19.661247Z"
    }
   },
   "outputs": [],
   "source": [
    "from sklearn.datasets import load_iris\n",
    "from sklearn.linear_model import LogisticRegression\n",
    "\n",
    "import pandas as pd\n",
    "import pickle\n",
    "import numpy as np\n",
    "\n",
    "import sklearn\n",
    "from sklearn.metrics import roc_auc_score, roc_curve\n"
   ]
  },
  {
   "cell_type": "code",
   "execution_count": 2,
   "metadata": {
    "ExecuteTime": {
     "end_time": "2021-11-03T19:05:02.850829Z",
     "start_time": "2021-11-03T19:05:02.770328Z"
    }
   },
   "outputs": [
    {
     "name": "stderr",
     "output_type": "stream",
     "text": [
      "/home/dalab5/miniconda3/envs/GNN/lib/python3.8/site-packages/sklearn/linear_model/_logistic.py:763: ConvergenceWarning: lbfgs failed to converge (status=1):\n",
      "STOP: TOTAL NO. of ITERATIONS REACHED LIMIT.\n",
      "\n",
      "Increase the number of iterations (max_iter) or scale the data as shown in:\n",
      "    https://scikit-learn.org/stable/modules/preprocessing.html\n",
      "Please also refer to the documentation for alternative solver options:\n",
      "    https://scikit-learn.org/stable/modules/linear_model.html#logistic-regression\n",
      "  n_iter_i = _check_optimize_result(\n"
     ]
    }
   ],
   "source": [
    "X, y = load_iris(return_X_y=True)\n",
    "clf = LogisticRegression(random_state=0).fit(X, y)"
   ]
  },
  {
   "cell_type": "code",
   "execution_count": 20,
   "metadata": {
    "ExecuteTime": {
     "end_time": "2021-11-03T19:57:16.788499Z",
     "start_time": "2021-11-03T19:57:16.782306Z"
    }
   },
   "outputs": [
    {
     "data": {
      "text/plain": [
       "(150, 4)"
      ]
     },
     "execution_count": 20,
     "metadata": {},
     "output_type": "execute_result"
    }
   ],
   "source": [
    "X.shape"
   ]
  },
  {
   "cell_type": "code",
   "execution_count": 21,
   "metadata": {
    "ExecuteTime": {
     "end_time": "2021-11-03T19:57:19.404302Z",
     "start_time": "2021-11-03T19:57:19.398177Z"
    }
   },
   "outputs": [
    {
     "data": {
      "text/plain": [
       "(150,)"
      ]
     },
     "execution_count": 21,
     "metadata": {},
     "output_type": "execute_result"
    }
   ],
   "source": [
    "y.shape"
   ]
  },
  {
   "cell_type": "markdown",
   "metadata": {},
   "source": [
    "# Load data\n",
    "- fv\n",
    "- peer\n",
    "    - tnic similarity\n",
    "    - past event\n",
    "    \n",
    "    \n",
    "each firm could form multiple observations (as long as there is no missing values)\n",
    "\n",
    "\n",
    "$$\\hat{logit} = X^{\\top} \\beta$$\n",
    "\n",
    "- logit : (N_samples, )\n",
    "- X : (N_samples, dim)\n",
    "    - X[i, :] = $[fv \\; ; top\\;10\\;tnic\\;avg ; Num\\;of\\;peer\\;event_{t-1}]$"
   ]
  },
  {
   "cell_type": "code",
   "execution_count": 12,
   "metadata": {
    "ExecuteTime": {
     "end_time": "2021-11-03T19:12:29.473096Z",
     "start_time": "2021-11-03T19:12:29.225225Z"
    }
   },
   "outputs": [],
   "source": [
    "with open(data_path+f\"/dataset_top10_freq5_1997_2019.pickle\", \"rb\") as f:\n",
    "    arr_cs, arr_bs, timelines = pickle.load(f)"
   ]
  },
  {
   "cell_type": "code",
   "execution_count": 18,
   "metadata": {
    "ExecuteTime": {
     "end_time": "2021-11-03T19:25:07.494159Z",
     "start_time": "2021-11-03T19:25:07.363019Z"
    }
   },
   "outputs": [],
   "source": [
    "with open(tmp_data_path+f'/a5_top_10_peers_tnic2_1997.pickle', 'rb') as f:\n",
    "    tnic = pickle.load(f) "
   ]
  },
  {
   "cell_type": "code",
   "execution_count": 16,
   "metadata": {
    "ExecuteTime": {
     "end_time": "2021-11-03T19:23:58.427822Z",
     "start_time": "2021-11-03T19:23:58.278508Z"
    }
   },
   "outputs": [
    {
     "name": "stdout",
     "output_type": "stream",
     "text": [
      "shape before removing same-day multi events: (9661, 50)\n",
      "shape after removing same-day multi events: (9448, 50)\n"
     ]
    }
   ],
   "source": [
    "sdc_tnic = pd.read_pickle(tmp_data_path+f\"/sdc_tnic_1997_2020\") # always load full dataset\n",
    "sdc_tnic = same_day_only_one(sdc_tnic) \n",
    "\n",
    "# TNIC structure\n",
    "with open(tmp_data_path+f\"/tnic_info_3_pairs_{1997-1}_{2020-1}\", 'rb') as f: # read full\n",
    "    gvkey_lsts, key_ind_maps , ind_key_maps = pickle.load(f)\n",
    "\n",
    "# frequent acquirer \n",
    "with open(data_path+f\"/freq_a_info_1997_2020.pickle\", \"rb\") as f: \n",
    "    A_freq, a_freq_lst, a_freq_idx_to_gvkey_mapping, a_freq_gvkey_to_idx_mapping = pickle.load(f)\n"
   ]
  },
  {
   "cell_type": "code",
   "execution_count": 17,
   "metadata": {
    "ExecuteTime": {
     "end_time": "2021-11-03T19:24:05.378265Z",
     "start_time": "2021-11-03T19:24:05.371831Z"
    }
   },
   "outputs": [
    {
     "data": {
      "text/plain": [
       "Index(['AGVKEY', 'DA', 'ACU', 'ASIC2', 'ABL', 'ANL', 'APUBC', 'AUP', 'AUPSIC',\n",
       "       'AUPBL', 'AUPNAMES', 'AUPPUB', 'BLOCK', 'CREEP', 'DE', 'STATC', 'SYNOP',\n",
       "       'VAL', 'PCTACQ', 'PSOUGHTOWN', 'PSOUGHT', 'PHDA', 'PCTOWN', 'PSOUGHTT',\n",
       "       'PRIVATIZATION', 'DEAL_NO', 'TCU', 'TSIC2', 'TBL', 'TNL', 'TPUBC',\n",
       "       'TUP', 'TUPSIC', 'TUPBL', 'TUPNAMES', 'TUPPUB', 'SIC_A', 'SIC_T',\n",
       "       'YEAR', 'AS_PERMNO', 'AP_PERMNO', 'TS_PERMNO', 'TP_PERMNO', 'AS_GVKEY',\n",
       "       'AP_GVKEY', 'TS_GVKEY', 'TP_GVKEY', 'GVKEY_STATUS', 'MA_TYPE',\n",
       "       'TGVKEY'],\n",
       "      dtype='object')"
      ]
     },
     "execution_count": 17,
     "metadata": {},
     "output_type": "execute_result"
    }
   ],
   "source": [
    "sdc_tnic.columns"
   ]
  },
  {
   "cell_type": "code",
   "execution_count": 13,
   "metadata": {
    "ExecuteTime": {
     "end_time": "2021-11-03T19:12:42.003404Z",
     "start_time": "2021-11-03T19:12:41.987655Z"
    }
   },
   "outputs": [
    {
     "data": {
      "text/html": [
       "<div>\n",
       "<style scoped>\n",
       "    .dataframe tbody tr th:only-of-type {\n",
       "        vertical-align: middle;\n",
       "    }\n",
       "\n",
       "    .dataframe tbody tr th {\n",
       "        vertical-align: top;\n",
       "    }\n",
       "\n",
       "    .dataframe thead th {\n",
       "        text-align: right;\n",
       "    }\n",
       "</style>\n",
       "<table border=\"1\" class=\"dataframe\">\n",
       "  <thead>\n",
       "    <tr style=\"text-align: right;\">\n",
       "      <th></th>\n",
       "      <th>GLOBAL_IDX</th>\n",
       "      <th>LOCAL_IDX</th>\n",
       "      <th>UPDATE_DATE</th>\n",
       "      <th>EVENT_TYPE</th>\n",
       "      <th>TGVKEY</th>\n",
       "    </tr>\n",
       "  </thead>\n",
       "  <tbody>\n",
       "    <tr>\n",
       "      <th>0</th>\n",
       "      <td>0</td>\n",
       "      <td>0</td>\n",
       "      <td>1997-01-01</td>\n",
       "      <td>3</td>\n",
       "      <td>NaN</td>\n",
       "    </tr>\n",
       "    <tr>\n",
       "      <th>1</th>\n",
       "      <td>1</td>\n",
       "      <td>0</td>\n",
       "      <td>1997-01-06</td>\n",
       "      <td>2</td>\n",
       "      <td>10499</td>\n",
       "    </tr>\n",
       "    <tr>\n",
       "      <th>2</th>\n",
       "      <td>2</td>\n",
       "      <td>1</td>\n",
       "      <td>1997-01-16</td>\n",
       "      <td>2</td>\n",
       "      <td>5073</td>\n",
       "    </tr>\n",
       "    <tr>\n",
       "      <th>3</th>\n",
       "      <td>3</td>\n",
       "      <td>2</td>\n",
       "      <td>1997-01-23</td>\n",
       "      <td>1</td>\n",
       "      <td>11636</td>\n",
       "    </tr>\n",
       "    <tr>\n",
       "      <th>4</th>\n",
       "      <td>4</td>\n",
       "      <td>3</td>\n",
       "      <td>1997-03-10</td>\n",
       "      <td>1</td>\n",
       "      <td>29132</td>\n",
       "    </tr>\n",
       "    <tr>\n",
       "      <th>...</th>\n",
       "      <td>...</td>\n",
       "      <td>...</td>\n",
       "      <td>...</td>\n",
       "      <td>...</td>\n",
       "      <td>...</td>\n",
       "    </tr>\n",
       "    <tr>\n",
       "      <th>212</th>\n",
       "      <td>212</td>\n",
       "      <td>191</td>\n",
       "      <td>2017-10-31</td>\n",
       "      <td>2</td>\n",
       "      <td>162894</td>\n",
       "    </tr>\n",
       "    <tr>\n",
       "      <th>213</th>\n",
       "      <td>213</td>\n",
       "      <td>21</td>\n",
       "      <td>2018-01-01</td>\n",
       "      <td>3</td>\n",
       "      <td>NaN</td>\n",
       "    </tr>\n",
       "    <tr>\n",
       "      <th>214</th>\n",
       "      <td>214</td>\n",
       "      <td>192</td>\n",
       "      <td>2018-02-07</td>\n",
       "      <td>1</td>\n",
       "      <td>135990</td>\n",
       "    </tr>\n",
       "    <tr>\n",
       "      <th>215</th>\n",
       "      <td>215</td>\n",
       "      <td>193</td>\n",
       "      <td>2018-06-06</td>\n",
       "      <td>1</td>\n",
       "      <td>14934</td>\n",
       "    </tr>\n",
       "    <tr>\n",
       "      <th>216</th>\n",
       "      <td>216</td>\n",
       "      <td>22</td>\n",
       "      <td>2019-01-01</td>\n",
       "      <td>3</td>\n",
       "      <td>NaN</td>\n",
       "    </tr>\n",
       "  </tbody>\n",
       "</table>\n",
       "<p>217 rows × 5 columns</p>\n",
       "</div>"
      ],
      "text/plain": [
       "     GLOBAL_IDX  LOCAL_IDX UPDATE_DATE EVENT_TYPE  TGVKEY\n",
       "0             0          0  1997-01-01          3     NaN\n",
       "1             1          0  1997-01-06          2   10499\n",
       "2             2          1  1997-01-16          2    5073\n",
       "3             3          2  1997-01-23          1   11636\n",
       "4             4          3  1997-03-10          1   29132\n",
       "..          ...        ...         ...        ...     ...\n",
       "212         212        191  2017-10-31          2  162894\n",
       "213         213         21  2018-01-01          3     NaN\n",
       "214         214        192  2018-02-07          1  135990\n",
       "215         215        193  2018-06-06          1   14934\n",
       "216         216         22  2019-01-01          3     NaN\n",
       "\n",
       "[217 rows x 5 columns]"
      ]
     },
     "execution_count": 13,
     "metadata": {},
     "output_type": "execute_result"
    }
   ],
   "source": [
    "timelines[0]"
   ]
  },
  {
   "cell_type": "code",
   "execution_count": 26,
   "metadata": {
    "ExecuteTime": {
     "end_time": "2021-11-03T20:02:11.820265Z",
     "start_time": "2021-11-03T20:02:11.813705Z"
    }
   },
   "outputs": [
    {
     "data": {
      "text/plain": [
       "0.03302"
      ]
     },
     "execution_count": 26,
     "metadata": {},
     "output_type": "execute_result"
    }
   ],
   "source": [
    "np.mean(tnic['5047'].score.values)"
   ]
  },
  {
   "cell_type": "markdown",
   "metadata": {},
   "source": [
    "# Creating pre-processed data"
   ]
  },
  {
   "cell_type": "markdown",
   "metadata": {},
   "source": [
    "## get tnic_top_10_avg per year per gvkey\n",
    "\n"
   ]
  },
  {
   "cell_type": "code",
   "execution_count": 49,
   "metadata": {
    "ExecuteTime": {
     "end_time": "2021-11-03T20:36:03.349732Z",
     "start_time": "2021-11-03T20:35:59.703293Z"
    }
   },
   "outputs": [],
   "source": [
    "top_10_tnic_avg = {}\n",
    "for year in range(1996, 2020):\n",
    "    with open(tmp_data_path+f'/a5_top_10_peers_tnic2_{year}.pickle', 'rb') as f:\n",
    "        tnic = pickle.load(f) \n",
    "    yearly = {}\n",
    "    for gvkey in a_freq_lst:\n",
    "        yearly[gvkey] = np.mean(tnic[gvkey].score.values)\n",
    "    \n",
    "    top_10_tnic_avg[year] = yearly    \n"
   ]
  },
  {
   "cell_type": "code",
   "execution_count": 50,
   "metadata": {
    "ExecuteTime": {
     "end_time": "2021-11-03T20:36:03.354211Z",
     "start_time": "2021-11-03T20:36:03.351189Z"
    }
   },
   "outputs": [
    {
     "data": {
      "text/plain": [
       "0.044533333333333334"
      ]
     },
     "execution_count": 50,
     "metadata": {},
     "output_type": "execute_result"
    }
   ],
   "source": [
    "top_10_tnic_avg[1998]['5047']"
   ]
  },
  {
   "cell_type": "markdown",
   "metadata": {},
   "source": [
    "## get peer MA historical event\n",
    "\n",
    "\n",
    "use t-4, so must start from 1997 + 4 = 2001"
   ]
  },
  {
   "cell_type": "code",
   "execution_count": 31,
   "metadata": {
    "ExecuteTime": {
     "end_time": "2021-11-03T20:10:15.585488Z",
     "start_time": "2021-11-03T20:10:15.563900Z"
    }
   },
   "outputs": [
    {
     "data": {
      "text/html": [
       "<div>\n",
       "<style scoped>\n",
       "    .dataframe tbody tr th:only-of-type {\n",
       "        vertical-align: middle;\n",
       "    }\n",
       "\n",
       "    .dataframe tbody tr th {\n",
       "        vertical-align: top;\n",
       "    }\n",
       "\n",
       "    .dataframe thead th {\n",
       "        text-align: right;\n",
       "    }\n",
       "</style>\n",
       "<table border=\"1\" class=\"dataframe\">\n",
       "  <thead>\n",
       "    <tr style=\"text-align: right;\">\n",
       "      <th></th>\n",
       "      <th>GLOBAL_IDX</th>\n",
       "      <th>LOCAL_IDX</th>\n",
       "      <th>UPDATE_DATE</th>\n",
       "      <th>EVENT_TYPE</th>\n",
       "      <th>TGVKEY</th>\n",
       "    </tr>\n",
       "  </thead>\n",
       "  <tbody>\n",
       "    <tr>\n",
       "      <th>0</th>\n",
       "      <td>0</td>\n",
       "      <td>0</td>\n",
       "      <td>1997-01-01</td>\n",
       "      <td>3</td>\n",
       "      <td>NaN</td>\n",
       "    </tr>\n",
       "    <tr>\n",
       "      <th>1</th>\n",
       "      <td>1</td>\n",
       "      <td>0</td>\n",
       "      <td>1997-01-06</td>\n",
       "      <td>2</td>\n",
       "      <td>10499</td>\n",
       "    </tr>\n",
       "    <tr>\n",
       "      <th>2</th>\n",
       "      <td>2</td>\n",
       "      <td>1</td>\n",
       "      <td>1997-01-16</td>\n",
       "      <td>2</td>\n",
       "      <td>5073</td>\n",
       "    </tr>\n",
       "    <tr>\n",
       "      <th>3</th>\n",
       "      <td>3</td>\n",
       "      <td>2</td>\n",
       "      <td>1997-01-23</td>\n",
       "      <td>1</td>\n",
       "      <td>11636</td>\n",
       "    </tr>\n",
       "    <tr>\n",
       "      <th>4</th>\n",
       "      <td>4</td>\n",
       "      <td>3</td>\n",
       "      <td>1997-03-10</td>\n",
       "      <td>1</td>\n",
       "      <td>29132</td>\n",
       "    </tr>\n",
       "    <tr>\n",
       "      <th>...</th>\n",
       "      <td>...</td>\n",
       "      <td>...</td>\n",
       "      <td>...</td>\n",
       "      <td>...</td>\n",
       "      <td>...</td>\n",
       "    </tr>\n",
       "    <tr>\n",
       "      <th>212</th>\n",
       "      <td>212</td>\n",
       "      <td>191</td>\n",
       "      <td>2017-10-31</td>\n",
       "      <td>2</td>\n",
       "      <td>162894</td>\n",
       "    </tr>\n",
       "    <tr>\n",
       "      <th>213</th>\n",
       "      <td>213</td>\n",
       "      <td>21</td>\n",
       "      <td>2018-01-01</td>\n",
       "      <td>3</td>\n",
       "      <td>NaN</td>\n",
       "    </tr>\n",
       "    <tr>\n",
       "      <th>214</th>\n",
       "      <td>214</td>\n",
       "      <td>192</td>\n",
       "      <td>2018-02-07</td>\n",
       "      <td>1</td>\n",
       "      <td>135990</td>\n",
       "    </tr>\n",
       "    <tr>\n",
       "      <th>215</th>\n",
       "      <td>215</td>\n",
       "      <td>193</td>\n",
       "      <td>2018-06-06</td>\n",
       "      <td>1</td>\n",
       "      <td>14934</td>\n",
       "    </tr>\n",
       "    <tr>\n",
       "      <th>216</th>\n",
       "      <td>216</td>\n",
       "      <td>22</td>\n",
       "      <td>2019-01-01</td>\n",
       "      <td>3</td>\n",
       "      <td>NaN</td>\n",
       "    </tr>\n",
       "  </tbody>\n",
       "</table>\n",
       "<p>217 rows × 5 columns</p>\n",
       "</div>"
      ],
      "text/plain": [
       "     GLOBAL_IDX  LOCAL_IDX UPDATE_DATE EVENT_TYPE  TGVKEY\n",
       "0             0          0  1997-01-01          3     NaN\n",
       "1             1          0  1997-01-06          2   10499\n",
       "2             2          1  1997-01-16          2    5073\n",
       "3             3          2  1997-01-23          1   11636\n",
       "4             4          3  1997-03-10          1   29132\n",
       "..          ...        ...         ...        ...     ...\n",
       "212         212        191  2017-10-31          2  162894\n",
       "213         213         21  2018-01-01          3     NaN\n",
       "214         214        192  2018-02-07          1  135990\n",
       "215         215        193  2018-06-06          1   14934\n",
       "216         216         22  2019-01-01          3     NaN\n",
       "\n",
       "[217 rows x 5 columns]"
      ]
     },
     "execution_count": 31,
     "metadata": {},
     "output_type": "execute_result"
    }
   ],
   "source": [
    "timelines[0]"
   ]
  },
  {
   "cell_type": "code",
   "execution_count": 37,
   "metadata": {
    "ExecuteTime": {
     "end_time": "2021-11-03T20:28:40.881967Z",
     "start_time": "2021-11-03T20:28:19.933493Z"
    }
   },
   "outputs": [],
   "source": [
    "\n",
    "peer_event_history = {}\n",
    "for i, timeline in enumerate(timelines):\n",
    "    focal_gvkey = a_freq_idx_to_gvkey_mapping[i]\n",
    "    yearly = {}\n",
    "    for year in range(2001, 2018):\n",
    "        backs = {}\n",
    "        for back in range(0, 5):\n",
    "            sub_df = timeline[(timeline.UPDATE_DATE <= np.datetime64(f\"{year-back}-12-31\")) & (timeline.UPDATE_DATE >= np.datetime64(f\"{year-back}-01-01\")) & (timeline.EVENT_TYPE == '2')]\n",
    "            n_event = sub_df.shape[0]\n",
    "            backs[f\"t-{back}\"] = n_event\n",
    "        yearly[year] = backs\n",
    "    peer_event_history[focal_gvkey] = yearly\n",
    "            \n",
    "        \n",
    "        \n",
    "    "
   ]
  },
  {
   "cell_type": "code",
   "execution_count": 43,
   "metadata": {
    "ExecuteTime": {
     "end_time": "2021-11-03T20:28:59.428095Z",
     "start_time": "2021-11-03T20:28:59.421387Z"
    }
   },
   "outputs": [
    {
     "data": {
      "text/plain": [
       "{'t-0': 4, 't-1': 18, 't-2': 17, 't-3': 3, 't-4': 6}"
      ]
     },
     "execution_count": 43,
     "metadata": {},
     "output_type": "execute_result"
    }
   ],
   "source": [
    "peer_event_history['5047'][2001]"
   ]
  },
  {
   "cell_type": "markdown",
   "metadata": {
    "heading_collapsed": true
   },
   "source": [
    "## get fv"
   ]
  },
  {
   "cell_type": "code",
   "execution_count": 51,
   "metadata": {
    "ExecuteTime": {
     "end_time": "2021-11-03T20:41:30.702748Z",
     "start_time": "2021-11-03T20:41:27.091944Z"
    },
    "hidden": true
   },
   "outputs": [],
   "source": [
    "fvs = {}\n",
    "for gvkey in a_freq_lst:\n",
    "    i = a_freq_gvkey_to_idx_mapping[gvkey]\n",
    "    timeline = timelines[i]\n",
    "    arr_b = arr_bs[i]\n",
    "    yearly = {}\n",
    "    for year in range(2001, 2018):\n",
    "        sub_df = timeline[(timeline.UPDATE_DATE == np.datetime64(f\"{year+1}-01-01\")) & (timeline.EVENT_TYPE == '3')]\n",
    "        if sub_df.shape[0] != 0:\n",
    "            idx_b = sub_df.iloc[-1, 1]\n",
    "            fv = arr_b[idx_b]\n",
    "        else:\n",
    "            fv = 0 ####### !\n",
    "        yearly[year] = fv\n",
    "    \n",
    "    fvs[gvkey] = yearly\n",
    "        \n",
    "            \n",
    "        \n",
    "        "
   ]
  },
  {
   "cell_type": "code",
   "execution_count": 54,
   "metadata": {
    "ExecuteTime": {
     "end_time": "2021-11-03T20:41:45.338358Z",
     "start_time": "2021-11-03T20:41:45.331208Z"
    },
    "hidden": true
   },
   "outputs": [
    {
     "data": {
      "text/plain": [
       "array([8.14099012e-01, 1.67960618e-01, 1.59232474e-02, 2.12883048e-06,\n",
       "       1.03654689e-06, 4.74701633e-07, 5.48090743e-07, 4.69021662e-07,\n",
       "       5.63625855e-07, 7.03834577e-07, 5.28638157e-06, 6.91973231e-07,\n",
       "       4.72330886e-07, 6.02324768e-07])"
      ]
     },
     "execution_count": 54,
     "metadata": {},
     "output_type": "execute_result"
    }
   ],
   "source": [
    "fvs['5047'][2003]"
   ]
  },
  {
   "cell_type": "markdown",
   "metadata": {},
   "source": [
    "## get y"
   ]
  },
  {
   "cell_type": "code",
   "execution_count": 55,
   "metadata": {
    "ExecuteTime": {
     "end_time": "2021-11-03T20:43:57.606965Z",
     "start_time": "2021-11-03T20:43:53.339084Z"
    }
   },
   "outputs": [],
   "source": [
    "ys = {}\n",
    "for gvkey in a_freq_lst:\n",
    "    i = a_freq_gvkey_to_idx_mapping[gvkey]\n",
    "    timeline = timelines[i]\n",
    "    yearly = {}\n",
    "    for year in range(2001+1, 2018+1): ######### !\n",
    "        sub_df = timeline[(timeline.UPDATE_DATE <= np.datetime64(f\"{year}-12-31\")) & (timeline.UPDATE_DATE >= np.datetime64(f\"{year}-01-01\")) & (timeline.EVENT_TYPE == '1')]\n",
    "        if sub_df.shape[0] != 0:\n",
    "            yearly[year] = 1\n",
    "        else:\n",
    "            yearly[year] = 0\n",
    "    \n",
    "    ys[gvkey] = yearly\n",
    "        \n",
    "    "
   ]
  },
  {
   "cell_type": "code",
   "execution_count": 58,
   "metadata": {
    "ExecuteTime": {
     "end_time": "2021-11-03T20:44:11.372039Z",
     "start_time": "2021-11-03T20:44:11.365649Z"
    }
   },
   "outputs": [
    {
     "data": {
      "text/plain": [
       "1"
      ]
     },
     "execution_count": 58,
     "metadata": {},
     "output_type": "execute_result"
    }
   ],
   "source": [
    "ys['5047'][2004]"
   ]
  },
  {
   "cell_type": "markdown",
   "metadata": {},
   "source": [
    "# creating X, y"
   ]
  },
  {
   "cell_type": "code",
   "execution_count": 97,
   "metadata": {
    "ExecuteTime": {
     "end_time": "2021-11-11T17:19:21.876132Z",
     "start_time": "2021-11-11T17:19:21.799266Z"
    }
   },
   "outputs": [],
   "source": [
    "X = []\n",
    "y = []\n",
    "for gvkey in a_freq_lst:\n",
    "    for year in range(2001, 2018):\n",
    "        \n",
    "        # X\n",
    "        fv = fvs[gvkey][year] # 16\n",
    "        \n",
    "        lag = []\n",
    "        for back in range(0, 5):\n",
    "            lag.append(peer_event_history[gvkey][year][f't-{back}'])\n",
    "        lag = np.array(lag)  # 5\n",
    "\n",
    "        compe = np.array(top_10_tnic_avg[year][gvkey]).reshape(1) # 1\n",
    "\n",
    "        \n",
    "        if isinstance(fv, (np.ndarray, np.generic)) & (~np.isnan(compe)): ######## !       \n",
    "            #x = np.concatenate((fv, lag, compe)) # \n",
    "            x = fv\n",
    "            X.append(x)\n",
    "\n",
    "            # y\n",
    "            y.append(ys[gvkey][year+1])        \n",
    "\n",
    "X = np.array(X)\n",
    "y = np.array(y)"
   ]
  },
  {
   "cell_type": "code",
   "execution_count": 98,
   "metadata": {
    "ExecuteTime": {
     "end_time": "2021-11-11T17:19:22.438317Z",
     "start_time": "2021-11-11T17:19:22.432765Z"
    }
   },
   "outputs": [
    {
     "data": {
      "text/plain": [
       "(6987, 14)"
      ]
     },
     "execution_count": 98,
     "metadata": {},
     "output_type": "execute_result"
    }
   ],
   "source": [
    "X.shape"
   ]
  },
  {
   "cell_type": "code",
   "execution_count": 99,
   "metadata": {
    "ExecuteTime": {
     "end_time": "2021-11-11T17:19:24.120072Z",
     "start_time": "2021-11-11T17:19:24.114494Z"
    }
   },
   "outputs": [
    {
     "data": {
      "text/plain": [
       "(6987,)"
      ]
     },
     "execution_count": 99,
     "metadata": {},
     "output_type": "execute_result"
    }
   ],
   "source": [
    "y.shape"
   ]
  },
  {
   "cell_type": "markdown",
   "metadata": {},
   "source": [
    "# run"
   ]
  },
  {
   "cell_type": "code",
   "execution_count": 101,
   "metadata": {
    "ExecuteTime": {
     "end_time": "2021-12-09T22:55:46.110121Z",
     "start_time": "2021-12-09T22:55:46.033953Z"
    }
   },
   "outputs": [
    {
     "name": "stdout",
     "output_type": "stream",
     "text": [
      "0.5451156629716286\n"
     ]
    }
   ],
   "source": [
    "clf = LogisticRegression(random_state=0).fit(X, y)\n",
    "print(roc_auc_score(y, clf.predict_proba(X)[:, 1]))"
   ]
  },
  {
   "cell_type": "code",
   "execution_count": null,
   "metadata": {},
   "outputs": [],
   "source": []
  }
 ],
 "metadata": {
  "kernelspec": {
   "display_name": "GNN",
   "language": "python",
   "name": "gnn"
  },
  "language_info": {
   "codemirror_mode": {
    "name": "ipython",
    "version": 3
   },
   "file_extension": ".py",
   "mimetype": "text/x-python",
   "name": "python",
   "nbconvert_exporter": "python",
   "pygments_lexer": "ipython3",
   "version": "3.8.10"
  },
  "latex_envs": {
   "LaTeX_envs_menu_present": true,
   "autoclose": false,
   "autocomplete": true,
   "bibliofile": "biblio.bib",
   "cite_by": "apalike",
   "current_citInitial": 1,
   "eqLabelWithNumbers": true,
   "eqNumInitial": 1,
   "hotkeys": {
    "equation": "Ctrl-E",
    "itemize": "Ctrl-I"
   },
   "labels_anchors": false,
   "latex_user_defs": false,
   "report_style_numbering": false,
   "user_envs_cfg": false
  },
  "toc": {
   "base_numbering": 1,
   "nav_menu": {},
   "number_sections": true,
   "sideBar": true,
   "skip_h1_title": false,
   "title_cell": "Table of Contents",
   "title_sidebar": "Contents",
   "toc_cell": false,
   "toc_position": {},
   "toc_section_display": true,
   "toc_window_display": false
  }
 },
 "nbformat": 4,
 "nbformat_minor": 4
}
