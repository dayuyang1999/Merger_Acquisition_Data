{
 "cells": [
  {
   "cell_type": "code",
   "execution_count": 385,
   "metadata": {
    "ExecuteTime": {
     "end_time": "2021-10-12T01:45:12.298806Z",
     "start_time": "2021-10-12T01:45:12.294492Z"
    }
   },
   "outputs": [],
   "source": [
    "import pandas as pd\n",
    "import pickle\n",
    "import numpy as np\n",
    "import datetime \n",
    "from os.path import join as pjoin\n",
    "import os\n",
    "import wrds\n",
    "\n",
    "#import argparse\n",
    "#import yamlb"
   ]
  },
  {
   "cell_type": "code",
   "execution_count": 386,
   "metadata": {
    "ExecuteTime": {
     "end_time": "2021-10-12T01:45:12.308467Z",
     "start_time": "2021-10-12T01:45:12.301370Z"
    }
   },
   "outputs": [],
   "source": [
    "tmp_data_path =  '../MA_data/data/tmp/'\n",
    "data_path = '../MA_data/data/'\n",
    "s_year = 1997\n",
    "e_year = 2016"
   ]
  },
  {
   "cell_type": "markdown",
   "metadata": {},
   "source": [
    "# Download SDC data\n",
    "\n",
    "variable description could see [appendix 1.1 variable description](./Appendix_1.1_variable_description.ipynb)"
   ]
  },
  {
   "cell_type": "code",
   "execution_count": 387,
   "metadata": {
    "ExecuteTime": {
     "end_time": "2021-10-12T01:45:12.323747Z",
     "start_time": "2021-10-12T01:45:12.318953Z"
    }
   },
   "outputs": [],
   "source": [
    "name_lst = [\n",
    "                'ACU', 'ASIC2', 'ABL', 'ANL', 'APUBC', 'AUP', 'AUPSIC', 'AUPBL', 'AUPNAMES', 'AUPPUB',\n",
    "                'BLOCK','CREEP','DA','DE','STATC','SYNOP','VAL','PCTACQ','PSOUGHTOWN','PSOUGHT','PHDA','PCTOWN','PSOUGHTT','PRIVATIZATION','DEAL_NO',\n",
    "                'TCU', 'TSIC2', 'TBL', 'TNL', 'TPUBC', 'TUP', 'TUPSIC', 'TUPBL', 'TUPNAMES', 'TUPPUB'    \n",
    "            ]"
   ]
  },
  {
   "cell_type": "code",
   "execution_count": 388,
   "metadata": {
    "ExecuteTime": {
     "end_time": "2021-10-12T01:45:12.336853Z",
     "start_time": "2021-10-12T01:45:12.326122Z"
    }
   },
   "outputs": [],
   "source": [
    "def concat_data(st, end, name_lst, data_path):\n",
    "    df_l = []\n",
    "    for year in range(st, end+1, 1):\n",
    "        df = pd.read_excel(f\"{data_path}/SDC/{year}.xlsx\", header=1, engine='openpyxl')\n",
    "        #df = df.drop(df.columns[4], axis=1) # this column is duplicate with column 3 \n",
    "        #print(len(df.columns))\n",
    "        df.columns = name_lst\n",
    "        \n",
    "        # check date var loading ok\n",
    "        check = df[df['DA'] == datetime.time(0, 0)]\n",
    "        if check.shape[0] == 0 :\n",
    "            print('date variables loading ok \\n')\n",
    "        else:\n",
    "            print('date variables loading fail, please manually check. number of failed records: ', check.shape[0])\n",
    "        \n",
    "        df_l.append(df)\n",
    "        print(f'{year} data shape:', df.shape)\n",
    "        del df\n",
    "    df = pd.concat(df_l)\n",
    "    return df\n",
    "\n",
    "def get_sic(df):\n",
    "    '''\n",
    "    df: the sdc table contains sic variable named as `ASIC2`\n",
    "    \n",
    "    '''\n",
    "    x = df.ASIC2.str.split('/')\n",
    "    x = x.transform(lambda x: x[0] if not isinstance(x, float) else np.nan)\n",
    "    df['SIC_A'] = x\n",
    "\n",
    "    x = df.ASIC2.str.split('/')\n",
    "    x = x.transform(lambda x: x[0] if not isinstance(x, float) else np.nan)\n",
    "    df['SIC_T'] = x\n",
    "    \n",
    "    return df "
   ]
  },
  {
   "cell_type": "code",
   "execution_count": 389,
   "metadata": {
    "ExecuteTime": {
     "end_time": "2021-10-12T01:45:12.347884Z",
     "start_time": "2021-10-12T01:45:12.338871Z"
    }
   },
   "outputs": [],
   "source": [
    "def read_sdc(name_lst):\n",
    "    pickle_it = True\n",
    "    from_cache = False\n",
    "#     #tmp_data_path = tmp_data_path\n",
    "#     s_year = s_year\n",
    "#     e_year = e_year\n",
    "\n",
    "\n",
    "    if (from_cache) & ~(os.path.isfile(pjoin(tmp_data_path , f'sdc_{s_year}_{e_year}.pickle'))):\n",
    "        print(f\"WARNING, Cannot load from cache; \\n No compabible sdc_df cache file named 'sdc_{s_year}_{e_year}.pickle' exists in {tmp_data_path} \\n\")\n",
    "\n",
    "    if (from_cache) & (os.path.isfile(pjoin(tmp_data_path , f'sdc_{s_year}_{e_year}.pickle'))):\n",
    "        sdc_df = pd.read_pickle(pjoin(tmp_data_path , f'sdc_{s_year}_{e_year}.pickle'))\n",
    "        print(\"loading data from previous download. Did not download again\")\n",
    "    else:                 \n",
    "        sdc_df = concat_data(s_year, e_year, name_lst, data_path)\n",
    "        sdc_df = sdc_df.reset_index()\n",
    "\n",
    "        # change var type and fillna\n",
    "        sdc_df = sdc_df.dropna(subset=['ACU','TCU']) # actually nothing drops\n",
    "        sdc_df['DEAL_NO'] = sdc_df['DEAL_NO'].fillna(-1)\n",
    "        print(\"ATTENTION, DEAL_NO NAs in sdc_df are interpolated as '-1'. \\n \")\n",
    "        sdc_df['DEAL_NO'] = sdc_df['DEAL_NO'].astype(str)\n",
    "        sdc_df['TCU']  = sdc_df['TCU'].astype('str')\n",
    "        sdc_df['ACU']  = sdc_df['ACU'].astype('str')\n",
    "        sdc_df['TUP']  = sdc_df['TUP'].astype('str')\n",
    "        sdc_df['AUP']  = sdc_df['AUP'].astype('str')\n",
    "\n",
    "\n",
    "        # add sdc variable\n",
    "        sdc_df = get_sic(sdc_df)\n",
    "        # add year varibale\n",
    "        sdc_df['YEAR'] = sdc_df.DA.dt.year\n",
    "        # update name lst\n",
    "\n",
    "        if pickle_it:\n",
    "            print(f'saving sdc table ranging from {s_year} to {e_year} to {tmp_data_path}')\n",
    "            sdc_df.to_pickle(pjoin(tmp_data_path , f'sdc_{s_year}_{e_year}.pickle'))\n",
    "\n",
    "    if True:\n",
    "        print(\"SDC Data looks like:\", sdc_df.sample(3).T)\n",
    "\n",
    "    name_lst += ['SIC_A', 'SIC_T', 'YEAR'] \n",
    "\n",
    "    return sdc_df, name_lst"
   ]
  },
  {
   "cell_type": "code",
   "execution_count": 390,
   "metadata": {
    "ExecuteTime": {
     "end_time": "2021-10-12T01:46:29.066717Z",
     "start_time": "2021-10-12T01:45:12.349439Z"
    }
   },
   "outputs": [
    {
     "name": "stdout",
     "output_type": "stream",
     "text": [
      "date variables loading ok \n",
      "\n",
      "1997 data shape: (13255, 35)\n",
      "date variables loading ok \n",
      "\n",
      "1998 data shape: (15081, 35)\n",
      "date variables loading ok \n",
      "\n",
      "1999 data shape: (13203, 35)\n",
      "date variables loading ok \n",
      "\n",
      "2000 data shape: (12610, 35)\n",
      "date variables loading ok \n",
      "\n",
      "2001 data shape: (8771, 35)\n",
      "date variables loading ok \n",
      "\n",
      "2002 data shape: (7943, 35)\n",
      "date variables loading ok \n",
      "\n",
      "2003 data shape: (8573, 35)\n",
      "date variables loading ok \n",
      "\n",
      "2004 data shape: (9704, 35)\n",
      "date variables loading ok \n",
      "\n",
      "2005 data shape: (10524, 35)\n",
      "date variables loading ok \n",
      "\n",
      "2006 data shape: (11802, 35)\n",
      "date variables loading ok \n",
      "\n",
      "2007 data shape: (12866, 35)\n",
      "date variables loading ok \n",
      "\n",
      "2008 data shape: (11174, 35)\n",
      "date variables loading ok \n",
      "\n",
      "2009 data shape: (8965, 35)\n",
      "date variables loading ok \n",
      "\n",
      "2010 data shape: (9365, 35)\n",
      "date variables loading ok \n",
      "\n",
      "2011 data shape: (9859, 35)\n",
      "date variables loading ok \n",
      "\n",
      "2012 data shape: (9772, 35)\n",
      "date variables loading ok \n",
      "\n",
      "2013 data shape: (10060, 35)\n",
      "date variables loading ok \n",
      "\n",
      "2014 data shape: (11349, 35)\n",
      "date variables loading ok \n",
      "\n",
      "2015 data shape: (11964, 35)\n",
      "date variables loading ok \n",
      "\n",
      "2016 data shape: (12493, 35)\n",
      "ATTENTION, DEAL_NO NAs in sdc_df are interpolated as '-1'. \n",
      " \n",
      "saving sdc table ranging from 1997 to 2016 to ../MA_data/data/tmp/\n",
      "SDC Data looks like:                                                           182226  \\\n",
      "index                                                       8759   \n",
      "ACU                                                       86323X   \n",
      "ASIC2                                        7373/7372/7379/7374   \n",
      "ABL            Streamline Health Solutions\\nInc, located in A...   \n",
      "ANL                              Streamline Health Solutions Inc   \n",
      "APUBC                                                     Public   \n",
      "AUP                                                       86323X   \n",
      "AUPSIC                                    7373\\n7372\\n7379\\n7374   \n",
      "AUPBL          Streamline Health Solutions\\nInc, located in A...   \n",
      "AUPNAMES                             Streamline Health Solutions   \n",
      "AUPPUB                                                    Public   \n",
      "BLOCK                                                         No   \n",
      "CREEP                                                         No   \n",
      "DA                                           2013-11-14 00:00:00   \n",
      "DE                                                           NaT   \n",
      "STATC                                                          P   \n",
      "SYNOP          US - Streamline Health Solutions Inc signed a ...   \n",
      "VAL                                                        13.75   \n",
      "PCTACQ                                                       NaN   \n",
      "PSOUGHTOWN                                                 100.0   \n",
      "PSOUGHT                                                    100.0   \n",
      "PHDA                                                         NaN   \n",
      "PCTOWN                                                       NaN   \n",
      "PSOUGHTT                                                     NaN   \n",
      "PRIVATIZATION                                                 No   \n",
      "DEAL_NO                                               2587298020   \n",
      "TCU                                                       7A4238   \n",
      "TSIC2                                                       7372   \n",
      "TBL            Undisclosed Health Software\\nDevelopment Co, l...   \n",
      "TNL                   Undisclosed Health Software Development Co   \n",
      "TPUBC                                                      Priv.   \n",
      "TUP                                                       7A4238   \n",
      "TUPSIC                                                      7372   \n",
      "TUPBL          Undisclosed Health Software\\nDevelopment Co, l...   \n",
      "TUPNAMES                           Unidsclosed Healt Software Co   \n",
      "TUPPUB                                                     Priv.   \n",
      "SIC_A                                                       7373   \n",
      "SIC_T                                                       7373   \n",
      "YEAR                                                        2013   \n",
      "\n",
      "                                                          108452  \\\n",
      "index                                                       8788   \n",
      "ACU                                                       55549L   \n",
      "ASIC2                                                       6799   \n",
      "ABL            MCM Capital Partners LP,\\nlocated in Beachwood...   \n",
      "ANL                                      MCM Capital Partners LP   \n",
      "APUBC                                                      Priv.   \n",
      "AUP                                                       55549L   \n",
      "AUPSIC                                                      6799   \n",
      "AUPBL          MCM Capital Partners LP,\\nlocated in Beachwood...   \n",
      "AUPNAMES                                 MCM Capital Partners LP   \n",
      "AUPPUB                                                     Priv.   \n",
      "BLOCK                                                         No   \n",
      "CREEP                                                         No   \n",
      "DA                                           2006-09-27 00:00:00   \n",
      "DE                                           2006-09-27 00:00:00   \n",
      "STATC                                                          C   \n",
      "SYNOP          US - MCM Capital Partners acquired Dexmet Corp...   \n",
      "VAL                                                          NaN   \n",
      "PCTACQ                                                     100.0   \n",
      "PSOUGHTOWN                                                 100.0   \n",
      "PSOUGHT                                                    100.0   \n",
      "PHDA                                                         NaN   \n",
      "PCTOWN                                                     100.0   \n",
      "PSOUGHTT                                                     NaN   \n",
      "PRIVATIZATION                                                 No   \n",
      "DEAL_NO                                               1798197020   \n",
      "TCU                                                       25215K   \n",
      "TSIC2                                                       3449   \n",
      "TBL                Manufacturer of metals,\\nfoils, and polymers.   \n",
      "TNL                                                  Dexmet Corp   \n",
      "TPUBC                                                      Priv.   \n",
      "TUP                                                       25215K   \n",
      "TUPSIC                                                      3449   \n",
      "TUPBL              Manufacturer of metals,\\nfoils, and polymers.   \n",
      "TUPNAMES                                             Dexmet Corp   \n",
      "TUPPUB                                                     Priv.   \n",
      "SIC_A                                                        NaN   \n",
      "SIC_T                                                        NaN   \n",
      "YEAR                                                        2006   \n",
      "\n",
      "                                                          92779   \n",
      "index                                                       3639  \n",
      "ACU                                                       98085Y  \n",
      "ASIC2                                                       6798  \n",
      "ABL            Woolbright Development Inc,\\nlocated in Boca R...  \n",
      "ANL                                   Woolbright Development Inc  \n",
      "APUBC                                                      Priv.  \n",
      "AUP                                                       98085Y  \n",
      "AUPSIC                                                      6798  \n",
      "AUPBL          Woolbright Development Inc,\\nlocated in Boca R...  \n",
      "AUPNAMES                              Woolbright Development Inc  \n",
      "AUPPUB                                                     Priv.  \n",
      "BLOCK                                                         No  \n",
      "CREEP                                                         No  \n",
      "DA                                           2005-05-06 00:00:00  \n",
      "DE                                           2005-05-06 00:00:00  \n",
      "STATC                                                          C  \n",
      "SYNOP          US - Woolbright Development Inc (WD) acquired ...  \n",
      "VAL                                                          NaN  \n",
      "PCTACQ                                                     100.0  \n",
      "PSOUGHTOWN                                                 100.0  \n",
      "PSOUGHT                                                    100.0  \n",
      "PHDA                                                         NaN  \n",
      "PCTOWN                                                     100.0  \n",
      "PSOUGHTT                                                     NaN  \n",
      "PRIVATIZATION                                                 No  \n",
      "DEAL_NO                                               1662951020  \n",
      "TCU                                                       37647P  \n",
      "TSIC2                                                       6512  \n",
      "TBL                            Own and operate shopping\\ncenters  \n",
      "TNL                                                 Glades Plaza  \n",
      "TPUBC                                                      Priv.  \n",
      "TUP                                                       37647P  \n",
      "TUPSIC                                                      6512  \n",
      "TUPBL                          Own and operate shopping\\ncenters  \n",
      "TUPNAMES                                            Glades Plaza  \n",
      "TUPPUB                                                     Priv.  \n",
      "SIC_A                                                        NaN  \n",
      "SIC_T                                                        NaN  \n",
      "YEAR                                                        2005  \n"
     ]
    }
   ],
   "source": [
    "sdc_df, name_lst1 = read_sdc(name_lst)"
   ]
  },
  {
   "cell_type": "markdown",
   "metadata": {},
   "source": [
    "remove:\n",
    "1. self merge self\n",
    "    - ACU = TCU or TUP\n",
    "    - AUP = TCU or TUP\n",
    "2. MA is incomplete"
   ]
  },
  {
   "cell_type": "code",
   "execution_count": 391,
   "metadata": {
    "ExecuteTime": {
     "end_time": "2021-10-12T01:46:29.072279Z",
     "start_time": "2021-10-12T01:46:29.068138Z"
    }
   },
   "outputs": [],
   "source": [
    "def filter1(df):\n",
    "    '''\n",
    "    remove self merge\n",
    "    remove incomplete deal\n",
    "\n",
    "    '''\n",
    "    cond0 = (df.ACU == df.TCU) | (df.ACU == df.TUP)\n",
    "    cond1 = cond0 | (df.AUP == df.TCU) | (df.AUP == df.TUP)\n",
    "    cond2 = cond1 | ~df.STATC.isin([\"C\"])\n",
    "    return df[~cond2]"
   ]
  },
  {
   "cell_type": "code",
   "execution_count": 392,
   "metadata": {
    "ExecuteTime": {
     "end_time": "2021-10-12T01:46:29.306726Z",
     "start_time": "2021-10-12T01:46:29.073938Z"
    }
   },
   "outputs": [],
   "source": [
    "sdc_df2 = filter1(sdc_df)"
   ]
  },
  {
   "cell_type": "code",
   "execution_count": 393,
   "metadata": {
    "ExecuteTime": {
     "end_time": "2021-10-12T01:46:29.311413Z",
     "start_time": "2021-10-12T01:46:29.308396Z"
    }
   },
   "outputs": [
    {
     "data": {
      "text/plain": [
       "(170711, 39)"
      ]
     },
     "execution_count": 393,
     "metadata": {},
     "output_type": "execute_result"
    }
   ],
   "source": [
    "sdc_df2.shape"
   ]
  },
  {
   "cell_type": "markdown",
   "metadata": {},
   "source": [
    "# Filter Majority MA\n",
    "\n",
    "The logic behind Filtering see [appendix1.2 majority takeover]()"
   ]
  },
  {
   "cell_type": "code",
   "execution_count": 394,
   "metadata": {
    "ExecuteTime": {
     "end_time": "2021-10-12T01:46:29.320975Z",
     "start_time": "2021-10-12T01:46:29.312273Z"
    }
   },
   "outputs": [],
   "source": [
    "\n",
    "def majority_filter(df):\n",
    "    '''\n",
    "    Description: used for filter \"majority\" takeover; Following “The Importance of Industry Links in Merger Waves.” The Journal of Finance 69 (2): 527–76. https://doi.org/10.1111/jofi.12122.\n",
    "    Use: use for sdc_df\n",
    "    input: sdc_df\n",
    "    output: a new filtered sdc_df  to replace the old one\n",
    "    '''\n",
    "    \n",
    "    cond1 = ((df.PCTACQ > 20.0) | pd.isna(df.PCTACQ))\n",
    "    cond2 = cond1 & ((df.PCTOWN > 51.0) | (pd.isna(df.PCTOWN)))\n",
    "    cond3 = cond2 & ((df.VAL > 1) | pd.isna(df.VAL))\n",
    "    cond4 = cond3 & (df.BLOCK !='Yes') & (df.CREEP !='Yes') & (df.PRIVATIZATION !='Yes')\n",
    "    df_new = df[cond3]\n",
    "    print('original df shape: ', df.shape, '\\n')\n",
    "    print('filtered df shape: ', df_new.shape)\n",
    "    return df_new.reset_index(drop=True)"
   ]
  },
  {
   "cell_type": "code",
   "execution_count": 395,
   "metadata": {
    "ExecuteTime": {
     "end_time": "2021-10-12T01:46:29.566603Z",
     "start_time": "2021-10-12T01:46:29.322001Z"
    }
   },
   "outputs": [
    {
     "name": "stdout",
     "output_type": "stream",
     "text": [
      "original df shape:  (170711, 39) \n",
      "\n",
      "filtered df shape:  (159139, 39)\n"
     ]
    }
   ],
   "source": [
    "sdc_df3 = majority_filter(sdc_df2)"
   ]
  },
  {
   "cell_type": "markdown",
   "metadata": {},
   "source": [
    "# Prepare Linking\n",
    "\n",
    "make linking variables' type and format are the same"
   ]
  },
  {
   "cell_type": "code",
   "execution_count": 396,
   "metadata": {
    "ExecuteTime": {
     "end_time": "2021-10-12T01:46:29.570954Z",
     "start_time": "2021-10-12T01:46:29.568053Z"
    }
   },
   "outputs": [],
   "source": [
    "def var_type_checker(df1, df2):\n",
    "    '''\n",
    "    df1: sdc_df\n",
    "    df2: linking table\n",
    "    \n",
    "    checking cusip types are the same\n",
    "    '''\n",
    "    # gvkey, cusip match\n",
    "    assert type(df1.ACU[0]) == type(df1.TCU[0]) == type(df1.AUP[0]) == type(df1.TUP[0]) \n",
    "    \n",
    "    assert type(df1.TCU[0]) == type(df2.HCUSIP[0]) \n",
    "\n",
    "    print(\"variable type checking finished, No error Found. \\n\")"
   ]
  },
  {
   "cell_type": "markdown",
   "metadata": {},
   "source": [
    "## load linking tables"
   ]
  },
  {
   "cell_type": "code",
   "execution_count": 397,
   "metadata": {
    "ExecuteTime": {
     "end_time": "2021-10-12T01:46:29.598536Z",
     "start_time": "2021-10-12T01:46:29.572049Z"
    }
   },
   "outputs": [],
   "source": [
    "link1 = pd.read_pickle(data_path+\"hcusip_permno.pickle\")\n",
    "link2 = pd.read_pickle(data_path+\"permno_gvkey.pickle\")"
   ]
  },
  {
   "cell_type": "markdown",
   "metadata": {},
   "source": [
    "# Linking PERMNO\n",
    "\n",
    "run the following after run [Appendix_1.3_CRSP_all_CUSIP](./Appendix_1.3_CRSP_all_CUSIP.ipynb)\n",
    "\n",
    "It is normal to has a lot of NAs. Since Priv. do not have PRERMNO"
   ]
  },
  {
   "cell_type": "markdown",
   "metadata": {},
   "source": [
    "## merge with PERMNO"
   ]
  },
  {
   "cell_type": "code",
   "execution_count": 398,
   "metadata": {
    "ExecuteTime": {
     "end_time": "2021-10-12T01:46:30.139137Z",
     "start_time": "2021-10-12T01:46:29.599610Z"
    }
   },
   "outputs": [],
   "source": [
    "merged1_1 = sdc_df3.merge(crsp_name_history, left_on='ACU', right_on = 'HCUSIP', how = 'left')"
   ]
  },
  {
   "cell_type": "code",
   "execution_count": 399,
   "metadata": {
    "ExecuteTime": {
     "end_time": "2021-10-12T01:46:30.330645Z",
     "start_time": "2021-10-12T01:46:30.140739Z"
    }
   },
   "outputs": [],
   "source": [
    "merged1_2 = merged1.merge(crsp_name_history, left_on='AUP', right_on = 'HCUSIP', how = 'left')"
   ]
  },
  {
   "cell_type": "code",
   "execution_count": 400,
   "metadata": {
    "ExecuteTime": {
     "end_time": "2021-10-12T01:46:30.551573Z",
     "start_time": "2021-10-12T01:46:30.333119Z"
    }
   },
   "outputs": [],
   "source": [
    "merged1_3 = merged2.merge(crsp_name_history, left_on='TCU', right_on = 'HCUSIP', how = 'left')"
   ]
  },
  {
   "cell_type": "code",
   "execution_count": 401,
   "metadata": {
    "ExecuteTime": {
     "end_time": "2021-10-12T01:46:30.773364Z",
     "start_time": "2021-10-12T01:46:30.553186Z"
    }
   },
   "outputs": [],
   "source": [
    "merged1_4 = merged3.merge(crsp_name_history, left_on='TUP', right_on = 'HCUSIP', how = 'left')"
   ]
  },
  {
   "cell_type": "code",
   "execution_count": 402,
   "metadata": {
    "ExecuteTime": {
     "end_time": "2021-10-12T01:46:31.275312Z",
     "start_time": "2021-10-12T01:46:30.774573Z"
    }
   },
   "outputs": [],
   "source": [
    "merged1_4 = merged1_4.drop(['index'], axis=1).reset_index(drop=True)"
   ]
  },
  {
   "cell_type": "code",
   "execution_count": 403,
   "metadata": {
    "ExecuteTime": {
     "end_time": "2021-10-12T01:46:31.279794Z",
     "start_time": "2021-10-12T01:46:31.276522Z"
    }
   },
   "outputs": [
    {
     "data": {
      "text/plain": [
       "Index(['ACU', 'ASIC2', 'ABL', 'ANL', 'APUBC', 'AUP', 'AUPSIC', 'AUPBL',\n",
       "       'AUPNAMES', 'AUPPUB', 'BLOCK', 'CREEP', 'DA', 'DE', 'STATC', 'SYNOP',\n",
       "       'VAL', 'PCTACQ', 'PSOUGHTOWN', 'PSOUGHT', 'PHDA', 'PCTOWN', 'PSOUGHTT',\n",
       "       'PRIVATIZATION', 'DEAL_NO', 'TCU', 'TSIC2', 'TBL', 'TNL', 'TPUBC',\n",
       "       'TUP', 'TUPSIC', 'TUPBL', 'TUPNAMES', 'TUPPUB', 'SIC_A', 'SIC_T',\n",
       "       'YEAR', 'HCUSIP_x', 'PERMNO_x', 'HCUSIP_y', 'PERMNO_y', 'HCUSIP_x',\n",
       "       'PERMNO_x', 'HCUSIP_y', 'PERMNO_y'],\n",
       "      dtype='object')"
      ]
     },
     "execution_count": 403,
     "metadata": {},
     "output_type": "execute_result"
    }
   ],
   "source": [
    "merged1_4.columns"
   ]
  },
  {
   "cell_type": "code",
   "execution_count": 404,
   "metadata": {
    "ExecuteTime": {
     "end_time": "2021-10-12T01:46:31.288269Z",
     "start_time": "2021-10-12T01:46:31.280808Z"
    }
   },
   "outputs": [],
   "source": [
    "tmp = []\n",
    "for f in ['A', 'T']: # \n",
    "    for p in ['S', 'P']: # self, parent\n",
    "        tmp += [ f+p+'_HCUSIP', f+p+'_PERMNO']"
   ]
  },
  {
   "cell_type": "code",
   "execution_count": 405,
   "metadata": {
    "ExecuteTime": {
     "end_time": "2021-10-12T01:46:31.294900Z",
     "start_time": "2021-10-12T01:46:31.289326Z"
    }
   },
   "outputs": [],
   "source": [
    "name_lst2 = name_lst1 + tmp"
   ]
  },
  {
   "cell_type": "code",
   "execution_count": 406,
   "metadata": {
    "ExecuteTime": {
     "end_time": "2021-10-12T01:46:31.301530Z",
     "start_time": "2021-10-12T01:46:31.296111Z"
    }
   },
   "outputs": [],
   "source": [
    "merged1_4.columns = name_lst2"
   ]
  },
  {
   "cell_type": "code",
   "execution_count": 407,
   "metadata": {
    "ExecuteTime": {
     "end_time": "2021-10-12T01:46:31.309817Z",
     "start_time": "2021-10-12T01:46:31.302909Z"
    },
    "scrolled": true
   },
   "outputs": [
    {
     "data": {
      "text/plain": [
       "Index(['ACU', 'ASIC2', 'ABL', 'ANL', 'APUBC', 'AUP', 'AUPSIC', 'AUPBL',\n",
       "       'AUPNAMES', 'AUPPUB', 'BLOCK', 'CREEP', 'DA', 'DE', 'STATC', 'SYNOP',\n",
       "       'VAL', 'PCTACQ', 'PSOUGHTOWN', 'PSOUGHT', 'PHDA', 'PCTOWN', 'PSOUGHTT',\n",
       "       'PRIVATIZATION', 'DEAL_NO', 'TCU', 'TSIC2', 'TBL', 'TNL', 'TPUBC',\n",
       "       'TUP', 'TUPSIC', 'TUPBL', 'TUPNAMES', 'TUPPUB', 'SIC_A', 'SIC_T',\n",
       "       'YEAR', 'AS_HCUSIP', 'AS_PERMNO', 'AP_HCUSIP', 'AP_PERMNO', 'TS_HCUSIP',\n",
       "       'TS_PERMNO', 'TP_HCUSIP', 'TP_PERMNO'],\n",
       "      dtype='object')"
      ]
     },
     "execution_count": 407,
     "metadata": {},
     "output_type": "execute_result"
    }
   ],
   "source": [
    "merged1_4.columns"
   ]
  },
  {
   "cell_type": "code",
   "execution_count": 408,
   "metadata": {
    "ExecuteTime": {
     "end_time": "2021-10-12T01:46:31.351988Z",
     "start_time": "2021-10-12T01:46:31.311532Z"
    }
   },
   "outputs": [
    {
     "name": "stdout",
     "output_type": "stream",
     "text": [
      "150044 138331 196009 172937\n"
     ]
    }
   ],
   "source": [
    "\n",
    "print(\n",
    "    merged1_4.AS_PERMNO.isna().sum(),\n",
    "    merged1_4.AP_PERMNO.isna().sum(),\n",
    "    merged1_4.TS_PERMNO.isna().sum(),\n",
    "    merged1_4.TP_PERMNO.isna().sum())\n",
    "    \n",
    "    "
   ]
  },
  {
   "cell_type": "markdown",
   "metadata": {},
   "source": [
    "# Linking with GVKEY\n",
    "\n",
    "check [appendix 1.4](./Appendix_1.4_PERMNO_GVKEY.ipynb)"
   ]
  },
  {
   "cell_type": "code",
   "execution_count": 409,
   "metadata": {
    "ExecuteTime": {
     "end_time": "2021-10-12T01:46:32.154137Z",
     "start_time": "2021-10-12T01:46:31.352849Z"
    }
   },
   "outputs": [],
   "source": [
    "merged2_1 = merged1_4.merge(link2, left_on='AS_PERMNO', right_on = 'PERMNO', how = 'left')"
   ]
  },
  {
   "cell_type": "code",
   "execution_count": 410,
   "metadata": {
    "ExecuteTime": {
     "end_time": "2021-10-12T01:46:32.336983Z",
     "start_time": "2021-10-12T01:46:32.155528Z"
    }
   },
   "outputs": [],
   "source": [
    "merged2_2 = merged2_1.merge(link2, left_on='AP_PERMNO', right_on = 'PERMNO', how = 'left')"
   ]
  },
  {
   "cell_type": "code",
   "execution_count": 411,
   "metadata": {
    "ExecuteTime": {
     "end_time": "2021-10-12T01:46:32.519846Z",
     "start_time": "2021-10-12T01:46:32.338174Z"
    }
   },
   "outputs": [],
   "source": [
    "merged2_3 = merged2_2.merge(link2, left_on='TS_PERMNO', right_on = 'PERMNO', how = 'left')"
   ]
  },
  {
   "cell_type": "code",
   "execution_count": 412,
   "metadata": {
    "ExecuteTime": {
     "end_time": "2021-10-12T01:46:32.711222Z",
     "start_time": "2021-10-12T01:46:32.521060Z"
    }
   },
   "outputs": [],
   "source": [
    "merged2_4 = merged2_3.merge(link2, left_on='TP_PERMNO', right_on = 'PERMNO', how = 'left')"
   ]
  },
  {
   "cell_type": "code",
   "execution_count": 413,
   "metadata": {
    "ExecuteTime": {
     "end_time": "2021-10-12T01:46:32.716026Z",
     "start_time": "2021-10-12T01:46:32.712491Z"
    }
   },
   "outputs": [
    {
     "data": {
      "text/plain": [
       "Index(['ACU', 'ASIC2', 'ABL', 'ANL', 'APUBC', 'AUP', 'AUPSIC', 'AUPBL',\n",
       "       'AUPNAMES', 'AUPPUB', 'BLOCK', 'CREEP', 'DA', 'DE', 'STATC', 'SYNOP',\n",
       "       'VAL', 'PCTACQ', 'PSOUGHTOWN', 'PSOUGHT', 'PHDA', 'PCTOWN', 'PSOUGHTT',\n",
       "       'PRIVATIZATION', 'DEAL_NO', 'TCU', 'TSIC2', 'TBL', 'TNL', 'TPUBC',\n",
       "       'TUP', 'TUPSIC', 'TUPBL', 'TUPNAMES', 'TUPPUB', 'SIC_A', 'SIC_T',\n",
       "       'YEAR', 'AS_HCUSIP', 'AS_PERMNO', 'AP_HCUSIP', 'AP_PERMNO', 'TS_HCUSIP',\n",
       "       'TS_PERMNO', 'TP_HCUSIP', 'TP_PERMNO', 'PERMNO_x', 'GVKEY_x',\n",
       "       'PERMNO_y', 'GVKEY_y', 'PERMNO_x', 'GVKEY_x', 'PERMNO_y', 'GVKEY_y'],\n",
       "      dtype='object')"
      ]
     },
     "execution_count": 413,
     "metadata": {},
     "output_type": "execute_result"
    }
   ],
   "source": [
    "merged2_4.columns"
   ]
  },
  {
   "cell_type": "code",
   "execution_count": 414,
   "metadata": {
    "ExecuteTime": {
     "end_time": "2021-10-12T01:46:32.724987Z",
     "start_time": "2021-10-12T01:46:32.717035Z"
    }
   },
   "outputs": [],
   "source": [
    "tmp = []\n",
    "for f in ['A', 'T']: # \n",
    "    for p in ['S', 'P']: # self, parent\n",
    "        tmp += [ f+p+'_PERMNO_2',f+p+'_GVKEY']"
   ]
  },
  {
   "cell_type": "code",
   "execution_count": 415,
   "metadata": {
    "ExecuteTime": {
     "end_time": "2021-10-12T01:46:32.731820Z",
     "start_time": "2021-10-12T01:46:32.726140Z"
    }
   },
   "outputs": [],
   "source": [
    "name_lst3 = name_lst2 + tmp"
   ]
  },
  {
   "cell_type": "code",
   "execution_count": 416,
   "metadata": {
    "ExecuteTime": {
     "end_time": "2021-10-12T01:46:32.738698Z",
     "start_time": "2021-10-12T01:46:32.732974Z"
    }
   },
   "outputs": [],
   "source": [
    "merged2_4.columns = name_lst3"
   ]
  },
  {
   "cell_type": "code",
   "execution_count": 417,
   "metadata": {
    "ExecuteTime": {
     "end_time": "2021-10-12T01:46:32.745374Z",
     "start_time": "2021-10-12T01:46:32.740167Z"
    }
   },
   "outputs": [],
   "source": [
    "tmp = []\n",
    "for f in ['A', 'T']: # \n",
    "    for p in ['S', 'P']: # self, parent\n",
    "        tmp += [f+p+'_HCUSIP', f+p+'_PERMNO_2']"
   ]
  },
  {
   "cell_type": "code",
   "execution_count": 418,
   "metadata": {
    "ExecuteTime": {
     "end_time": "2021-10-12T01:46:33.118468Z",
     "start_time": "2021-10-12T01:46:32.747287Z"
    }
   },
   "outputs": [],
   "source": [
    "merged_gvkey = merged2_4.drop(tmp, axis=1)"
   ]
  },
  {
   "cell_type": "code",
   "execution_count": 419,
   "metadata": {
    "ExecuteTime": {
     "end_time": "2021-10-12T01:46:33.123171Z",
     "start_time": "2021-10-12T01:46:33.119653Z"
    },
    "scrolled": true
   },
   "outputs": [
    {
     "data": {
      "text/plain": [
       "Index(['ACU', 'ASIC2', 'ABL', 'ANL', 'APUBC', 'AUP', 'AUPSIC', 'AUPBL',\n",
       "       'AUPNAMES', 'AUPPUB', 'BLOCK', 'CREEP', 'DA', 'DE', 'STATC', 'SYNOP',\n",
       "       'VAL', 'PCTACQ', 'PSOUGHTOWN', 'PSOUGHT', 'PHDA', 'PCTOWN', 'PSOUGHTT',\n",
       "       'PRIVATIZATION', 'DEAL_NO', 'TCU', 'TSIC2', 'TBL', 'TNL', 'TPUBC',\n",
       "       'TUP', 'TUPSIC', 'TUPBL', 'TUPNAMES', 'TUPPUB', 'SIC_A', 'SIC_T',\n",
       "       'YEAR', 'AS_PERMNO', 'AP_PERMNO', 'TS_PERMNO', 'TP_PERMNO', 'AS_GVKEY',\n",
       "       'AP_GVKEY', 'TS_GVKEY', 'TP_GVKEY'],\n",
       "      dtype='object')"
      ]
     },
     "execution_count": 419,
     "metadata": {},
     "output_type": "execute_result"
    }
   ],
   "source": [
    "merged_gvkey.columns"
   ]
  },
  {
   "cell_type": "code",
   "execution_count": 420,
   "metadata": {
    "ExecuteTime": {
     "end_time": "2021-10-12T01:46:33.133541Z",
     "start_time": "2021-10-12T01:46:33.124039Z"
    }
   },
   "outputs": [
    {
     "data": {
      "text/plain": [
       "(203775, 46)"
      ]
     },
     "execution_count": 420,
     "metadata": {},
     "output_type": "execute_result"
    }
   ],
   "source": [
    "merged_gvkey.shape"
   ]
  },
  {
   "cell_type": "markdown",
   "metadata": {},
   "source": []
  },
  {
   "cell_type": "markdown",
   "metadata": {},
   "source": [
    "# Arrange linking result\n",
    "\n",
    "\n",
    "the following conditions are marked as GVKEY merged successfully:\n",
    "\n",
    "`ok` = `Corresponding GVKEY Found`\n",
    "\n",
    "num of succcess condition = (C22 + C21) * (C22 + C21) = 9\n",
    "\n",
    "| ACU ok | AUP  ok | TCU ok | TUP ok | mark as                                           |\n",
    "|------------------|-------------------|------------------|-------------------|---------------------------------------------------|\n",
    "| 1                | 1                 | 1                | 1                 | 1                                                 |\n",
    "| 1                | 1                 | 1                | 0                 | 2                                                 |\n",
    "| 1                | 1                 | 0                | 1                 | 3                                                 |\n",
    "| 1                | 0                 | 1                | 1                 | 4                                                 |\n",
    "| 1                | 0                 | 1                | 0                 | 5                                                 |\n",
    "| 1                | 0                 | 0                | 1                 | 6                                                 |\n",
    "| 0                | 1                 | 1                | 1                 | 7                                                 |\n",
    "| 0                | 1                 | 1                | 0                 | 8                                                 |\n",
    "| 0                | 1                 | 0                | 1                 | 9                                                 |\n",
    "|                  |                   |                  |                   | all other combination is certainly unanalysiable |\n",
    "\n",
    "\n",
    "Here I just mark those senarios.\n",
    "\n",
    "Since at final, only the firms show up in TNIC is analysiable. However:\n",
    "- TNIC: only contains those firm with regular updated 10-K (public firms)\n",
    "- GVKEY: may contains private firms\n",
    "\n"
   ]
  },
  {
   "cell_type": "code",
   "execution_count": 421,
   "metadata": {
    "ExecuteTime": {
     "end_time": "2021-10-12T01:46:33.142520Z",
     "start_time": "2021-10-12T01:46:33.134567Z"
    }
   },
   "outputs": [],
   "source": [
    "def gvkey_checker(df):\n",
    "    '''\n",
    "    marker is str\n",
    "    '''\n",
    "    def mark(row):\n",
    "        if pd.notna(row.AS_GVKEY) & pd.notna(row.AP_GVKEY) & pd.notna(row.TS_GVKEY) & pd.notna(row.TP_GVKEY):\n",
    "            return '1'\n",
    "        if pd.notna(row.AS_GVKEY) & pd.notna(row.AP_GVKEY) & pd.notna(row.TS_GVKEY) & pd.isna(row.TP_GVKEY):\n",
    "            return '2'\n",
    "        if pd.notna(row.AS_GVKEY) & pd.notna(row.AP_GVKEY) & pd.isna(row.TS_GVKEY) & pd.notna(row.TP_GVKEY):\n",
    "            return '3'\n",
    "        if pd.notna(row.AS_GVKEY) & pd.isna(row.AP_GVKEY) & pd.notna(row.TS_GVKEY) & pd.notna(row.TP_GVKEY):\n",
    "            return '4'\n",
    "        if pd.notna(row.AS_GVKEY) & pd.notna(row.AP_GVKEY) & pd.isna(row.TS_GVKEY) & pd.notna(row.TP_GVKEY):\n",
    "            return '3'\n",
    "        if pd.notna(row.AS_GVKEY) & pd.isna(row.AP_GVKEY) & pd.notna(row.TS_GVKEY) & pd.isna(row.TP_GVKEY):\n",
    "            return '5'\n",
    "        if pd.notna(row.AS_GVKEY) & pd.isna(row.AP_GVKEY) & pd.isna(row.TS_GVKEY) & pd.notna(row.TP_GVKEY):\n",
    "            return '6'\n",
    "        if pd.isna(row.AS_GVKEY) & pd.notna(row.AP_GVKEY) & pd.notna(row.TS_GVKEY) & pd.notna(row.TP_GVKEY):\n",
    "            return '7'\n",
    "        if pd.isna(row.AS_GVKEY) & pd.notna(row.AP_GVKEY) & pd.notna(row.TS_GVKEY) & pd.isna(row.TP_GVKEY):\n",
    "            return '8'\n",
    "        if pd.isna(row.AS_GVKEY) & pd.notna(row.AP_GVKEY) & pd.isna(row.TS_GVKEY) & pd.notna(row.TP_GVKEY):\n",
    "            return '9'\n",
    "        else:\n",
    "            return '0'\n",
    "    df['GVKEY_STATUS'] = df.apply(mark, axis=1)\n",
    "    \n",
    "    print('Number of Conditions: \\n', df['GVKEY_STATUS'].value_counts(),'\\n')\n",
    "    \n",
    "    return df\n",
    "        \n",
    "        "
   ]
  },
  {
   "cell_type": "code",
   "execution_count": 422,
   "metadata": {
    "ExecuteTime": {
     "end_time": "2021-10-12T01:47:05.401066Z",
     "start_time": "2021-10-12T01:46:33.143810Z"
    }
   },
   "outputs": [
    {
     "name": "stdout",
     "output_type": "stream",
     "text": [
      "Number of Conditions: \n",
      " 0    191569\n",
      "3      5720\n",
      "1      3136\n",
      "9      2277\n",
      "7       374\n",
      "6       333\n",
      "2       176\n",
      "4       138\n",
      "8        38\n",
      "5        14\n",
      "Name: GVKEY_STATUS, dtype: int64 \n",
      "\n"
     ]
    }
   ],
   "source": [
    "merged_gvkey2 = gvkey_checker(merged_gvkey)"
   ]
  },
  {
   "cell_type": "markdown",
   "metadata": {},
   "source": [
    "# Link with EWENS\n",
    "\n",
    "- EWENS' strategy is linking by name. It's not as accurate as linking via the method above\n",
    "- And you have no idea if it was match with \"self\" or \"parent\".\n",
    "\n",
    "- Here I did not apply this\n",
    "\n"
   ]
  },
  {
   "cell_type": "markdown",
   "metadata": {},
   "source": [
    "The following condition may be saved\n",
    "\n",
    "\n",
    "| AP | AS | TS | TP | EWENS agvkey | EWENS tgvkey |\n",
    "|----|----|----|----|--------------|--------------|\n",
    "| 1  | 0  | 0  | 0  | ~            | 1            |\n",
    "| 0  | 1  | 0  | 0  | ~            | 1            |\n",
    "| 0  | 0  | 1  | 0  | 1            | ~            |\n",
    "| 0  | 0  | 0  | 1  | 1            | ~            |\n",
    "| 0  | 0  | 0  | 0  | 1            | 1            |"
   ]
  },
  {
   "cell_type": "markdown",
   "metadata": {},
   "source": [
    "before run EWENS, run [Appendix 1.5](./Appendix_1.5_EWENS.ipynb)"
   ]
  },
  {
   "cell_type": "code",
   "execution_count": 423,
   "metadata": {
    "ExecuteTime": {
     "end_time": "2021-10-12T01:47:06.355310Z",
     "start_time": "2021-10-12T01:47:05.402276Z"
    }
   },
   "outputs": [],
   "source": [
    "ewens = pd.read_pickle(tmp_data_path+\"/ewens.pickle\")\n",
    "merged3_1 = merged_gvkey2.merge(ewens, left_on = \"DEAL_NO\", right_on = \"DealNumber\", how = \"left\")"
   ]
  },
  {
   "cell_type": "code",
   "execution_count": 424,
   "metadata": {
    "ExecuteTime": {
     "end_time": "2021-10-12T01:47:06.361444Z",
     "start_time": "2021-10-12T01:47:06.357992Z"
    },
    "scrolled": true
   },
   "outputs": [
    {
     "data": {
      "text/plain": [
       "Index(['ACU', 'ASIC2', 'ABL', 'ANL', 'APUBC', 'AUP', 'AUPSIC', 'AUPBL',\n",
       "       'AUPNAMES', 'AUPPUB', 'BLOCK', 'CREEP', 'DA', 'DE', 'STATC', 'SYNOP',\n",
       "       'VAL', 'PCTACQ', 'PSOUGHTOWN', 'PSOUGHT', 'PHDA', 'PCTOWN', 'PSOUGHTT',\n",
       "       'PRIVATIZATION', 'DEAL_NO', 'TCU', 'TSIC2', 'TBL', 'TNL', 'TPUBC',\n",
       "       'TUP', 'TUPSIC', 'TUPBL', 'TUPNAMES', 'TUPPUB', 'SIC_A', 'SIC_T',\n",
       "       'YEAR', 'AS_PERMNO', 'AP_PERMNO', 'TS_PERMNO', 'TP_PERMNO', 'AS_GVKEY',\n",
       "       'AP_GVKEY', 'TS_GVKEY', 'TP_GVKEY', 'GVKEY_STATUS', 'DealNumber',\n",
       "       'agvkey', 'tgvkey'],\n",
       "      dtype='object')"
      ]
     },
     "execution_count": 424,
     "metadata": {},
     "output_type": "execute_result"
    }
   ],
   "source": [
    "merged3_1.columns"
   ]
  },
  {
   "cell_type": "markdown",
   "metadata": {},
   "source": [
    "Since we are unable to identify if the matched GVKEY in EWENS is \"self\" or \"parent\", I naively classfied them as \"self\"."
   ]
  },
  {
   "cell_type": "code",
   "execution_count": 425,
   "metadata": {
    "ExecuteTime": {
     "end_time": "2021-10-12T01:47:06.381880Z",
     "start_time": "2021-10-12T01:47:06.362546Z"
    }
   },
   "outputs": [],
   "source": [
    "def attach_ewens(df):\n",
    "    '''\n",
    "    \n",
    "    '''\n",
    "    for i, row in df.iterrows():\n",
    "        if (row.GVKEY_STATUS == '0') & (pd.isna(row.AS_GVKEY) & pd.isna(row.AP_GVKEY)) & pd.notna(row.agvkey):\n",
    "            df.loc[i, 'AS_GVKEY'] = row.agvkey\n",
    "        if (row.GVKEY_STATUS == '0') & (pd.isna(row.TS_GVKEY) & pd.isna(row.TP_GVKEY)) & pd.notna(row.tgvkey):\n",
    "            df.loc[i, 'TS_GVKEY'] = row.tgvkey\n",
    "        \n",
    "    \n",
    "    df = df.drop(['agvkey', 'DealNumber', 'tgvkey'], axis=1)\n",
    "    \n",
    "    return df\n",
    "            \n",
    "    \n",
    "    "
   ]
  },
  {
   "cell_type": "code",
   "execution_count": 426,
   "metadata": {
    "ExecuteTime": {
     "end_time": "2021-10-12T01:49:47.559961Z",
     "start_time": "2021-10-12T01:47:06.382945Z"
    }
   },
   "outputs": [],
   "source": [
    "merged_gvkey3 = attach_ewens(merged3_1.reset_index(drop=True))"
   ]
  },
  {
   "cell_type": "code",
   "execution_count": 427,
   "metadata": {
    "ExecuteTime": {
     "end_time": "2021-10-12T01:50:14.505852Z",
     "start_time": "2021-10-12T01:49:47.561159Z"
    },
    "scrolled": true
   },
   "outputs": [
    {
     "name": "stdout",
     "output_type": "stream",
     "text": [
      "Number of Conditions: \n",
      " 0    130066\n",
      "2     32609\n",
      "6     10990\n",
      "5      9219\n",
      "8      7693\n",
      "3      5720\n",
      "1      3136\n",
      "9      2277\n",
      "4      1691\n",
      "7       374\n",
      "Name: GVKEY_STATUS, dtype: int64 \n",
      "\n"
     ]
    }
   ],
   "source": [
    "merged_gvkey4 = gvkey_checker(merged_gvkey3)"
   ]
  },
  {
   "cell_type": "markdown",
   "metadata": {},
   "source": [
    "# Store result \n",
    "\n",
    "to tmp data path"
   ]
  },
  {
   "cell_type": "code",
   "execution_count": 428,
   "metadata": {
    "ExecuteTime": {
     "end_time": "2021-10-12T01:50:15.592909Z",
     "start_time": "2021-10-12T01:50:14.507021Z"
    }
   },
   "outputs": [],
   "source": [
    "merged_gvkey4.to_pickle(tmp_data_path+'/merged_gvkey2.pickle')"
   ]
  },
  {
   "cell_type": "code",
   "execution_count": 429,
   "metadata": {
    "ExecuteTime": {
     "end_time": "2021-10-12T01:50:16.053247Z",
     "start_time": "2021-10-12T01:50:15.595446Z"
    }
   },
   "outputs": [
    {
     "name": "stdout",
     "output_type": "stream",
     "text": [
      "final data shape: (73709, 47)\n"
     ]
    }
   ],
   "source": [
    "analysable = merged_gvkey4[merged_gvkey4.GVKEY_STATUS != '0']\n",
    "print(\"final data shape:\", analysable.shape)\n",
    "analysable.to_pickle(tmp_data_path+'/merged_analysable.pickle')"
   ]
  },
  {
   "cell_type": "code",
   "execution_count": null,
   "metadata": {},
   "outputs": [],
   "source": []
  }
 ],
 "metadata": {
  "kernelspec": {
   "display_name": "GNN",
   "language": "python",
   "name": "gnn"
  },
  "language_info": {
   "codemirror_mode": {
    "name": "ipython",
    "version": 3
   },
   "file_extension": ".py",
   "mimetype": "text/x-python",
   "name": "python",
   "nbconvert_exporter": "python",
   "pygments_lexer": "ipython3",
   "version": "3.8.10"
  },
  "latex_envs": {
   "LaTeX_envs_menu_present": true,
   "autoclose": false,
   "autocomplete": true,
   "bibliofile": "biblio.bib",
   "cite_by": "apalike",
   "current_citInitial": 1,
   "eqLabelWithNumbers": true,
   "eqNumInitial": 1,
   "hotkeys": {
    "equation": "Ctrl-E",
    "itemize": "Ctrl-I"
   },
   "labels_anchors": false,
   "latex_user_defs": false,
   "report_style_numbering": false,
   "user_envs_cfg": false
  },
  "toc": {
   "base_numbering": 1,
   "nav_menu": {},
   "number_sections": true,
   "sideBar": true,
   "skip_h1_title": false,
   "title_cell": "Table of Contents",
   "title_sidebar": "Contents",
   "toc_cell": false,
   "toc_position": {},
   "toc_section_display": true,
   "toc_window_display": false
  }
 },
 "nbformat": 4,
 "nbformat_minor": 4
}
