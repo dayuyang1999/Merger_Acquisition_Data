{
 "cells": [
  {
   "cell_type": "code",
   "execution_count": 1,
   "metadata": {
    "ExecuteTime": {
     "end_time": "2021-10-11T01:20:47.041659Z",
     "start_time": "2021-10-11T01:20:46.762597Z"
    }
   },
   "outputs": [],
   "source": [
    "import pandas as pd\n",
    "import pickle\n",
    "import numpy as np\n",
    "import datetime \n",
    "from os.path import join as pjoin\n",
    "import os\n",
    "import wrds\n",
    "\n",
    "#import argparse\n",
    "#import yamlb"
   ]
  },
  {
   "cell_type": "code",
   "execution_count": 2,
   "metadata": {
    "ExecuteTime": {
     "end_time": "2021-10-11T01:20:59.381552Z",
     "start_time": "2021-10-11T01:20:59.377300Z"
    }
   },
   "outputs": [],
   "source": [
    "tmp_data_path =  '../MA_data/data/tmp'\n",
    "data_path = '../MA_data/data'\n",
    "s_year = 1997\n",
    "e_year = 2020"
   ]
  },
  {
   "cell_type": "markdown",
   "metadata": {},
   "source": [
    "# Download SDC data\n",
    "\n",
    "variable description could see [appendix 1.1 variable description](./Appendix_1.1_variable_description.ipynb)"
   ]
  },
  {
   "cell_type": "code",
   "execution_count": 15,
   "metadata": {
    "ExecuteTime": {
     "end_time": "2021-10-11T01:26:38.688163Z",
     "start_time": "2021-10-11T01:26:38.682666Z"
    }
   },
   "outputs": [],
   "source": [
    "name_lst = [\n",
    "                'ACU', 'ASIC2', 'ABL', 'ANL', 'APUBC', 'AUP', 'AUPSIC', 'AUPBL', 'AUPNAMES', 'AUPPUB',\n",
    "                'BLOCK','CREEP','DA','DE','STATC','SYNOP','VAL','PCTACQ','PSOUGHTOWN','PSOUGHT','PHDA','PCTOWN','PSOUGHTT','PRIVATIZATION','DEAL_NO',\n",
    "                'TCU', 'TSIC2', 'TBL', 'TNL', 'TPUBC', 'TUP', 'TUPSIC', 'TUPBL', 'TUPNAMES', 'TUPPUB'    \n",
    "            ]"
   ]
  },
  {
   "cell_type": "code",
   "execution_count": 21,
   "metadata": {
    "ExecuteTime": {
     "end_time": "2021-10-11T01:30:46.288968Z",
     "start_time": "2021-10-11T01:30:46.276396Z"
    }
   },
   "outputs": [],
   "source": [
    "def concat_data(st, end, name_lst, data_path):\n",
    "    df_l = []\n",
    "    for year in range(st, end+1, 1):\n",
    "        df = pd.read_excel(f\"{data_path}/SDC/{year}.xlsx\", header=1, engine='openpyxl')\n",
    "        #df = df.drop(df.columns[4], axis=1) # this column is duplicate with column 3 \n",
    "        #print(len(df.columns))\n",
    "        df.columns = name_lst\n",
    "        \n",
    "        # check date var loading ok\n",
    "        check = df[df['DA'] == datetime.time(0, 0)]\n",
    "        if check.shape[0] == 0 :\n",
    "            print('date variables loading ok \\n')\n",
    "        else:\n",
    "            print('date variables loading fail, please manually check. number of failed records: ', check.shape[0])\n",
    "        \n",
    "        df_l.append(df)\n",
    "        print(f'{year} data shape:', df.shape)\n",
    "        del df\n",
    "    df = pd.concat(df_l)\n",
    "    return df\n",
    "\n",
    "def get_sic(df):\n",
    "    '''\n",
    "    df: the sdc table contains sic variable named as `ASIC2`\n",
    "    \n",
    "    '''\n",
    "    x = df.ASIC2.str.split('/')\n",
    "    x = x.transform(lambda x: x[0] if not isinstance(x, float) else np.nan)\n",
    "    df['SIC_A'] = x\n",
    "\n",
    "    x = df.ASIC2.str.split('/')\n",
    "    x = x.transform(lambda x: x[0] if not isinstance(x, float) else np.nan)\n",
    "    df['SIC_T'] = x\n",
    "    \n",
    "    return df "
   ]
  },
  {
   "cell_type": "code",
   "execution_count": 23,
   "metadata": {
    "ExecuteTime": {
     "end_time": "2021-10-11T01:31:14.993320Z",
     "start_time": "2021-10-11T01:31:14.980382Z"
    }
   },
   "outputs": [],
   "source": [
    "def read_sdc(name_lst):\n",
    "    pickle_it = True\n",
    "    from_cache = False\n",
    "#     #tmp_data_path = tmp_data_path\n",
    "#     s_year = s_year\n",
    "#     e_year = e_year\n",
    "\n",
    "\n",
    "    if (from_cache) & ~(os.path.isfile(pjoin(tmp_data_path , f'sdc_{s_year}_{e_year}.pickle'))):\n",
    "        print(f\"WARNING, Cannot load from cache; \\n No compabible sdc_df cache file named 'sdc_{s_year}_{e_year}.pickle' exists in {tmp_data_path} \\n\")\n",
    "\n",
    "    if (from_cache) & (os.path.isfile(pjoin(tmp_data_path , f'sdc_{s_year}_{e_year}.pickle'))):\n",
    "        sdc_df = pd.read_pickle(pjoin(tmp_data_path , f'sdc_{s_year}_{e_year}.pickle'))\n",
    "        print(\"loading data from previous download. Did not download again\")\n",
    "    else:                 \n",
    "        sdc_df = concat_data(s_year, e_year, name_lst, data_path)\n",
    "        sdc_df = sdc_df.reset_index()\n",
    "\n",
    "        # change var type and fillna\n",
    "        sdc_df = sdc_df.dropna(subset=['ACU','TCU']) # actually nothing drops\n",
    "        sdc_df['DEAL_NO'] = sdc_df['DEAL_NO'].fillna(-1)\n",
    "        print(\"ATTENTION, DEAL_NO NAs in sdc_df are interpolated as '-1'. \\n \")\n",
    "        sdc_df['DEAL_NO'] = sdc_df['DEAL_NO'].astype(str)\n",
    "        sdc_df['TCU']  = sdc_df['TCU'].astype('str')\n",
    "        sdc_df['ACU']  = sdc_df['ACU'].astype('str')\n",
    "        sdc_df['TUP']  = sdc_df['TUP'].astype('str')\n",
    "        sdc_df['AUP']  = sdc_df['AUP'].astype('str')\n",
    "\n",
    "\n",
    "        # add sdc variable\n",
    "        sdc_df = get_sic(sdc_df)\n",
    "        # add year varibale\n",
    "        sdc_df['YEAR'] = sdc_df.DA.dt.year\n",
    "        # update name lst\n",
    "\n",
    "        if pickle_it:\n",
    "            print(f'saving sdc table ranging from {s_year} to {e_year} to {tmp_data_path}')\n",
    "            sdc_df.to_pickle(pjoin(tmp_data_path , f'sdc_{s_year}_{e_year}.pickle'))\n",
    "\n",
    "    if True:\n",
    "        print(\"SDC Data looks like:\", sdc_df.sample(3).T)\n",
    "\n",
    "    name_lst += ['SIC_A', 'SIC_T', 'YEAR'] \n",
    "\n",
    "    return sdc_df, name_lst"
   ]
  },
  {
   "cell_type": "code",
   "execution_count": 24,
   "metadata": {
    "ExecuteTime": {
     "end_time": "2021-10-11T01:32:48.268950Z",
     "start_time": "2021-10-11T01:31:15.103616Z"
    }
   },
   "outputs": [
    {
     "name": "stdout",
     "output_type": "stream",
     "text": [
      "date variables loading ok \n",
      "\n",
      "1997 data shape: (13255, 35)\n",
      "date variables loading ok \n",
      "\n",
      "1998 data shape: (15081, 35)\n",
      "date variables loading ok \n",
      "\n",
      "1999 data shape: (13203, 35)\n",
      "date variables loading ok \n",
      "\n",
      "2000 data shape: (12610, 35)\n",
      "date variables loading ok \n",
      "\n",
      "2001 data shape: (8771, 35)\n",
      "date variables loading ok \n",
      "\n",
      "2002 data shape: (7943, 35)\n",
      "date variables loading ok \n",
      "\n",
      "2003 data shape: (8573, 35)\n",
      "date variables loading ok \n",
      "\n",
      "2004 data shape: (9704, 35)\n",
      "date variables loading ok \n",
      "\n",
      "2005 data shape: (10524, 35)\n",
      "date variables loading ok \n",
      "\n",
      "2006 data shape: (11802, 35)\n",
      "date variables loading ok \n",
      "\n",
      "2007 data shape: (12866, 35)\n",
      "date variables loading ok \n",
      "\n",
      "2008 data shape: (11174, 35)\n",
      "date variables loading ok \n",
      "\n",
      "2009 data shape: (8965, 35)\n",
      "date variables loading ok \n",
      "\n",
      "2010 data shape: (9365, 35)\n",
      "date variables loading ok \n",
      "\n",
      "2011 data shape: (9859, 35)\n",
      "date variables loading ok \n",
      "\n",
      "2012 data shape: (9772, 35)\n",
      "date variables loading ok \n",
      "\n",
      "2013 data shape: (10060, 35)\n",
      "date variables loading ok \n",
      "\n",
      "2014 data shape: (11349, 35)\n",
      "date variables loading ok \n",
      "\n",
      "2015 data shape: (11964, 35)\n",
      "date variables loading ok \n",
      "\n",
      "2016 data shape: (12493, 35)\n",
      "date variables loading ok \n",
      "\n",
      "2017 data shape: (14453, 35)\n",
      "date variables loading ok \n",
      "\n",
      "2018 data shape: (13776, 35)\n",
      "date variables loading ok \n",
      "\n",
      "2019 data shape: (12216, 35)\n",
      "date variables loading ok \n",
      "\n",
      "2020 data shape: (13372, 35)\n",
      "ATTENTION, DEAL_NO NAs in sdc_df are interpolated as '-1'. \n",
      " \n",
      "saving sdc table ranging from 1997 to 2020 to ../MA_data/data/tmp\n",
      "SDC Data looks like:                                                           127457  \\\n",
      "index                                                       3125   \n",
      "ACU                                                       30080Q   \n",
      "ASIC2                                                       5947   \n",
      "ABL            Excellency Investment Realty\\nTrust Inc, locat...   \n",
      "ANL                       Excellency Investment Realty Trust Inc   \n",
      "APUBC                                                     Public   \n",
      "AUP                                                       30080Q   \n",
      "AUPSIC                                                      5947   \n",
      "AUPBL          Excellency Investment Realty\\nTrust Inc, locat...   \n",
      "AUPNAMES                            Excellency Investment Realty   \n",
      "AUPPUB                                                    Public   \n",
      "BLOCK                                                         No   \n",
      "CREEP                                                         No   \n",
      "DA                                           2008-04-01 00:00:00   \n",
      "DE                                                           NaT   \n",
      "STATC                                                          P   \n",
      "SYNOP          US - Excellency Investment Realty Trust Inc pl...   \n",
      "VAL                                                          NaN   \n",
      "PCTACQ                                                       NaN   \n",
      "PSOUGHTOWN                                                 100.0   \n",
      "PSOUGHT                                                    100.0   \n",
      "PHDA                                                         NaN   \n",
      "PCTOWN                                                       NaN   \n",
      "PSOUGHTT                                                     NaN   \n",
      "PRIVATIZATION                                                 No   \n",
      "DEAL_NO                                               1966045020   \n",
      "TCU                                                       69549W   \n",
      "TSIC2                                                       4512   \n",
      "TBL            Pace Airlines, located in\\nWinston-Salem, US, ...   \n",
      "TNL                                                Pace Airlines   \n",
      "TPUBC                                                       Sub.   \n",
      "TUP                                                       43923N   \n",
      "TUPSIC                                                      6799   \n",
      "TUPBL                                         Investment company   \n",
      "TUPNAMES                                         Hooters Air LLC   \n",
      "TUPPUB                                                     Priv.   \n",
      "SIC_A                                                        NaN   \n",
      "SIC_T                                                        NaN   \n",
      "YEAR                                                        2008   \n",
      "\n",
      "                                                          134191  \\\n",
      "index                                                       9859   \n",
      "ACU                                                       212172   \n",
      "ASIC2                              8099/8093/8082/8011/8071/8741   \n",
      "ABL            Continucare Corp, located in\\nMiami, Florida, ...   \n",
      "ANL                                             Continucare Corp   \n",
      "APUBC                                                     Public   \n",
      "AUP                                                       212172   \n",
      "AUPSIC                        8099\\n8093\\n8082\\n8011\\n8071\\n8741   \n",
      "AUPBL          Continucare Corp, located in\\nMiami, Florida, ...   \n",
      "AUPNAMES                                        Continucare Corp   \n",
      "AUPPUB                                                    Public   \n",
      "BLOCK                                                        Yes   \n",
      "CREEP                                                         No   \n",
      "DA                                           2008-11-13 00:00:00   \n",
      "DE                                                           NaT   \n",
      "STATC                                                          I   \n",
      "SYNOP          US - In November 2008, the board of Continucar...   \n",
      "VAL                                                        5.125   \n",
      "PCTACQ                                                       NaN   \n",
      "PSOUGHTOWN                                                   4.0   \n",
      "PSOUGHT                                                      4.0   \n",
      "PHDA                                                         NaN   \n",
      "PCTOWN                                                       NaN   \n",
      "PSOUGHTT                                                     NaN   \n",
      "PRIVATIZATION                                                 No   \n",
      "DEAL_NO                                               2027572020   \n",
      "TCU                                                       212172   \n",
      "TSIC2                              8099/8093/8082/8011/8071/8741   \n",
      "TBL            Continucare Corp, located in\\nMiami, Florida, ...   \n",
      "TNL                                             Continucare Corp   \n",
      "TPUBC                                                     Public   \n",
      "TUP                                                       212172   \n",
      "TUPSIC                        8099\\n8093\\n8082\\n8011\\n8071\\n8741   \n",
      "TUPBL          Continucare Corp, located in\\nMiami, Florida, ...   \n",
      "TUPNAMES                                        Continucare Corp   \n",
      "TUPPUB                                                    Public   \n",
      "SIC_A                                                       8099   \n",
      "SIC_T                                                       8099   \n",
      "YEAR                                                        2008   \n",
      "\n",
      "                                                          170064  \n",
      "index                                                       6369  \n",
      "ACU                                                       09409V  \n",
      "ASIC2                                                  8099/8093  \n",
      "ABL            Biomat USA Inc, located in Los\\nAngeles, Calif...  \n",
      "ANL                                               Biomat USA Inc  \n",
      "APUBC                                                       Sub.  \n",
      "AUP                                                       74236W  \n",
      "AUPSIC                                          2834\\n5122\\n8731  \n",
      "AUPBL          Grifols SA, located in\\nBarcelona, Spain,\\nman...  \n",
      "AUPNAMES                                              Grifols SA  \n",
      "AUPPUB                                                    Public  \n",
      "BLOCK                                                         No  \n",
      "CREEP                                                         No  \n",
      "DA                                           2012-09-17 00:00:00  \n",
      "DE                                                           NaT  \n",
      "STATC                                                          P  \n",
      "SYNOP          US - Biomat USA Inc, a majority-owned unit of ...  \n",
      "VAL                                                          NaN  \n",
      "PCTACQ                                                       NaN  \n",
      "PSOUGHTOWN                                                 100.0  \n",
      "PSOUGHT                                                    100.0  \n",
      "PHDA                                                         NaN  \n",
      "PCTOWN                                                       NaN  \n",
      "PSOUGHTT                                                     NaN  \n",
      "PRIVATIZATION                                                 No  \n",
      "DEAL_NO                                               2451047020  \n",
      "TCU                                                       13761N  \n",
      "TSIC2                                                       8099  \n",
      "TBL            Three plasma centers, located\\nin the US, of C...  \n",
      "TNL              Cangene Plasma Resources Inc- Plasma Centers(3)  \n",
      "TPUBC                                                       Sub.  \n",
      "TUP                                                       13758B  \n",
      "TUPSIC                                    2836\\n8731\\n8733\\n8071  \n",
      "TUPBL          Cangene Corporation, located\\nat Winnipeg, Man...  \n",
      "TUPNAMES                                            Cangene Corp  \n",
      "TUPPUB                                                    Public  \n",
      "SIC_A                                                       8099  \n",
      "SIC_T                                                       8099  \n",
      "YEAR                                                        2012  \n"
     ]
    }
   ],
   "source": [
    "sdc_df, new_name_lst = read_sdc(name_lst)"
   ]
  },
  {
   "cell_type": "markdown",
   "metadata": {},
   "source": [
    "remove:\n",
    "1. self merge self\n",
    "    - ACU = TCU or TUP\n",
    "    - AUP = TCU or TUP\n",
    "2. MA is incomplete"
   ]
  },
  {
   "cell_type": "code",
   "execution_count": 29,
   "metadata": {
    "ExecuteTime": {
     "end_time": "2021-10-11T01:50:56.718287Z",
     "start_time": "2021-10-11T01:50:56.712867Z"
    }
   },
   "outputs": [],
   "source": [
    "def filter1(df):\n",
    "    '''\n",
    "    remove self merge\n",
    "    remove incomplete deal\n",
    "\n",
    "    '''\n",
    "    cond0 = (df.ACU == df.TCU) | (df.ACU == df.TUP)\n",
    "    cond1 = cond0 | (df.AUP == df.TCU) | (df.AUP == df.TUP)\n",
    "    cond2 = cond1 | ~df.STATC.isin([\"C\"])\n",
    "    return df[~cond2]"
   ]
  },
  {
   "cell_type": "code",
   "execution_count": 30,
   "metadata": {
    "ExecuteTime": {
     "end_time": "2021-10-11T01:50:57.964634Z",
     "start_time": "2021-10-11T01:50:57.739789Z"
    }
   },
   "outputs": [],
   "source": [
    "sdc_df2 = filter1(sdc_df)"
   ]
  },
  {
   "cell_type": "code",
   "execution_count": 31,
   "metadata": {
    "ExecuteTime": {
     "end_time": "2021-10-11T01:50:59.428171Z",
     "start_time": "2021-10-11T01:50:59.422524Z"
    }
   },
   "outputs": [
    {
     "data": {
      "text/plain": [
       "(216932, 39)"
      ]
     },
     "execution_count": 31,
     "metadata": {},
     "output_type": "execute_result"
    }
   ],
   "source": [
    "sdc_df2.shape"
   ]
  },
  {
   "cell_type": "markdown",
   "metadata": {},
   "source": [
    "# Filter Majority MA\n",
    "\n",
    "The logic behind Filtering see [appendix1.2 majority takeover]()"
   ]
  },
  {
   "cell_type": "code",
   "execution_count": 32,
   "metadata": {
    "ExecuteTime": {
     "end_time": "2021-10-11T02:09:39.003777Z",
     "start_time": "2021-10-11T02:09:38.996979Z"
    }
   },
   "outputs": [],
   "source": [
    "\n",
    "def majority_filter(df):\n",
    "    '''\n",
    "    Description: used for filter \"majority\" takeover; Following “The Importance of Industry Links in Merger Waves.” The Journal of Finance 69 (2): 527–76. https://doi.org/10.1111/jofi.12122.\n",
    "    Use: use for sdc_df\n",
    "    input: sdc_df\n",
    "    output: a new filtered sdc_df  to replace the old one\n",
    "    '''\n",
    "    \n",
    "    cond1 = ((df.PCTACQ > 20.0) | pd.isna(df.PCTACQ))\n",
    "    cond2 = cond1 & ((df.PCTOWN > 51.0) | (pd.isna(df.PCTOWN)))\n",
    "    cond3 = cond2 & ((df.VAL > 1) | pd.isna(df.VAL))\n",
    "    cond4 = cond3 & (merged.block !='Yes') & (merged.creep !='Yes') & (merged.privatization !='Yes')\n",
    "    df_new = df[cond3]\n",
    "    print('original df shape: ', df.shape, '\\n')\n",
    "    print('filtered df shape: ', df_new.shape)\n",
    "    return df_new.reset_index(drop=True)"
   ]
  },
  {
   "cell_type": "code",
   "execution_count": null,
   "metadata": {},
   "outputs": [],
   "source": []
  }
 ],
 "metadata": {
  "kernelspec": {
   "display_name": "GNN",
   "language": "python",
   "name": "gnn"
  },
  "language_info": {
   "codemirror_mode": {
    "name": "ipython",
    "version": 3
   },
   "file_extension": ".py",
   "mimetype": "text/x-python",
   "name": "python",
   "nbconvert_exporter": "python",
   "pygments_lexer": "ipython3",
   "version": "3.8.10"
  },
  "latex_envs": {
   "LaTeX_envs_menu_present": true,
   "autoclose": false,
   "autocomplete": true,
   "bibliofile": "biblio.bib",
   "cite_by": "apalike",
   "current_citInitial": 1,
   "eqLabelWithNumbers": true,
   "eqNumInitial": 1,
   "hotkeys": {
    "equation": "Ctrl-E",
    "itemize": "Ctrl-I"
   },
   "labels_anchors": false,
   "latex_user_defs": false,
   "report_style_numbering": false,
   "user_envs_cfg": false
  },
  "toc": {
   "base_numbering": 1,
   "nav_menu": {},
   "number_sections": true,
   "sideBar": true,
   "skip_h1_title": false,
   "title_cell": "Table of Contents",
   "title_sidebar": "Contents",
   "toc_cell": false,
   "toc_position": {},
   "toc_section_display": true,
   "toc_window_display": false
  }
 },
 "nbformat": 4,
 "nbformat_minor": 4
}
