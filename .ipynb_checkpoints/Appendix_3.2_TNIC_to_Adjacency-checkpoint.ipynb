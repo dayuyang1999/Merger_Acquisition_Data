{
 "cells": [
  {
   "cell_type": "code",
   "execution_count": 13,
   "metadata": {
    "ExecuteTime": {
     "end_time": "2021-10-11T19:51:51.557737Z",
     "start_time": "2021-10-11T19:51:51.553952Z"
    }
   },
   "outputs": [],
   "source": [
    "import pandas as pd\n",
    "import numpy as np"
   ]
  },
  {
   "cell_type": "code",
   "execution_count": 1,
   "metadata": {
    "ExecuteTime": {
     "end_time": "2021-10-11T19:48:42.861927Z",
     "start_time": "2021-10-11T19:48:42.858133Z"
    }
   },
   "outputs": [],
   "source": [
    "tmp_data_path = '../MA_data/data/tmp/'\n",
    "data_path = '../MA_data/data/'\n",
    "\n",
    "s_year = 1997\n",
    "e_year = 2019\n"
   ]
  },
  {
   "cell_type": "code",
   "execution_count": 115,
   "metadata": {
    "ExecuteTime": {
     "end_time": "2021-10-11T20:40:03.485323Z",
     "start_time": "2021-10-11T20:40:03.478808Z"
    }
   },
   "outputs": [],
   "source": [
    "def load_tnic(data_path, s_year, e_year):\n",
    "    tnic3 =  pd.read_csv(data_path+'tnic3_data/tnic3_data.txt', delimiter = '\\t' )\n",
    "    tnic = tnic3[(tnic3['year'] <= e_year) & (tnic3['year'] >= s_year)]\n",
    "\n",
    "\n",
    "    tnic['gvkey1'] = tnic['gvkey1'].astype(str)\n",
    "    tnic['gvkey2'] = tnic['gvkey2'].astype(str)\n",
    "\n",
    "    tnic = tnic.dropna(subset=['score'])\n",
    "    return tnic\n",
    "    "
   ]
  },
  {
   "cell_type": "code",
   "execution_count": 116,
   "metadata": {
    "ExecuteTime": {
     "end_time": "2021-10-11T20:40:27.202887Z",
     "start_time": "2021-10-11T20:40:03.656408Z"
    }
   },
   "outputs": [
    {
     "name": "stderr",
     "output_type": "stream",
     "text": [
      "<ipython-input-115-ec7000184eb7>:6: SettingWithCopyWarning: \n",
      "A value is trying to be set on a copy of a slice from a DataFrame.\n",
      "Try using .loc[row_indexer,col_indexer] = value instead\n",
      "\n",
      "See the caveats in the documentation: https://pandas.pydata.org/pandas-docs/stable/user_guide/indexing.html#returning-a-view-versus-a-copy\n",
      "  tnic['gvkey1'] = tnic['gvkey1'].astype(str)\n",
      "<ipython-input-115-ec7000184eb7>:7: SettingWithCopyWarning: \n",
      "A value is trying to be set on a copy of a slice from a DataFrame.\n",
      "Try using .loc[row_indexer,col_indexer] = value instead\n",
      "\n",
      "See the caveats in the documentation: https://pandas.pydata.org/pandas-docs/stable/user_guide/indexing.html#returning-a-view-versus-a-copy\n",
      "  tnic['gvkey2'] = tnic['gvkey2'].astype(str)\n"
     ]
    }
   ],
   "source": [
    "tnic = load_tnic(data_path, s_year, e_year)"
   ]
  },
  {
   "cell_type": "code",
   "execution_count": 119,
   "metadata": {
    "ExecuteTime": {
     "end_time": "2021-10-11T20:52:07.974154Z",
     "start_time": "2021-10-11T20:52:07.963439Z"
    }
   },
   "outputs": [],
   "source": [
    "def get_gvkeylst_adj(tnic, year, top_peer=10, get_adj=False):\n",
    "\n",
    "    def add_rank(df):\n",
    "        df['rank'] = df.groupby('gvkey1')['score'].rank('dense', ascending=False)\n",
    "        df['rank'] = df['rank'].astype(int)\n",
    "        return df\n",
    "    \n",
    "    tnic_year = tnic[tnic.year == year]\n",
    "\n",
    "    tnic_year = add_rank(tnic_year)\n",
    "    tnic_year_top = tnic_year[tnic_year['rank'] <= top_peer].reset_index(drop=True)\n",
    "    \n",
    "    \n",
    "    gvkey_arr = np.unique(np.concatenate((tnic_year_top.gvkey1.unique(), tnic_year_top.gvkey2.unique()), axis = 0))\n",
    "    N = len(gvkey_lst)\n",
    "    \n",
    "    if get_adj:\n",
    "        adj = np.zeros((N,N))\n",
    "        for i, gvkey1 in enumerate(gvkey_lst):\n",
    "            for j, gvkey2 in enumerate(gvkey_lst):\n",
    "                if (gvkey1 != gvkey2) & (not tnic_year_top[(tnic_year_top.gvkey1 == gvkey1) & (tnic_year_top.gvkey2 == gvkey2)].score.values):\n",
    "                    adj[i, j] = tnic_year_top[(tnic_year_top.gvkey1 == gvkey1) & (tnic_year_top.gvkey2 == gvkey2)].score\n",
    "    \n",
    "    \n",
    "        \n",
    "    return gvkey_arr, adj    \n",
    "    \n",
    "    \n",
    "    \n",
    "    \n",
    "    "
   ]
  },
  {
   "cell_type": "code",
   "execution_count": 120,
   "metadata": {
    "ExecuteTime": {
     "end_time": "2021-10-11T20:52:08.975306Z",
     "start_time": "2021-10-11T20:52:08.649573Z"
    }
   },
   "outputs": [
    {
     "name": "stderr",
     "output_type": "stream",
     "text": [
      "<ipython-input-119-aa0756dbce47>:4: SettingWithCopyWarning: \n",
      "A value is trying to be set on a copy of a slice from a DataFrame.\n",
      "Try using .loc[row_indexer,col_indexer] = value instead\n",
      "\n",
      "See the caveats in the documentation: https://pandas.pydata.org/pandas-docs/stable/user_guide/indexing.html#returning-a-view-versus-a-copy\n",
      "  df['rank'] = df.groupby('gvkey1')['score'].rank('dense', ascending=False)\n",
      "<ipython-input-119-aa0756dbce47>:5: SettingWithCopyWarning: \n",
      "A value is trying to be set on a copy of a slice from a DataFrame.\n",
      "Try using .loc[row_indexer,col_indexer] = value instead\n",
      "\n",
      "See the caveats in the documentation: https://pandas.pydata.org/pandas-docs/stable/user_guide/indexing.html#returning-a-view-versus-a-copy\n",
      "  df['rank'] = df['rank'].astype(int)\n"
     ]
    },
    {
     "ename": "TypeError",
     "evalue": "ufunc 'bitwise_and' not supported for the input types, and the inputs could not be safely coerced to any supported types according to the casting rule ''safe''",
     "output_type": "error",
     "traceback": [
      "\u001b[0;31m---------------------------------------------------------------------------\u001b[0m",
      "\u001b[0;31mTypeError\u001b[0m                                 Traceback (most recent call last)",
      "\u001b[0;32m<ipython-input-120-02052294c139>\u001b[0m in \u001b[0;36m<module>\u001b[0;34m\u001b[0m\n\u001b[0;32m----> 1\u001b[0;31m \u001b[0mgvkey_1997\u001b[0m\u001b[0;34m,\u001b[0m \u001b[0madj_1997\u001b[0m \u001b[0;34m=\u001b[0m \u001b[0mget_gvkeylst_adj\u001b[0m\u001b[0;34m(\u001b[0m\u001b[0mtnic\u001b[0m\u001b[0;34m,\u001b[0m \u001b[0myear\u001b[0m\u001b[0;34m=\u001b[0m\u001b[0;36m1997\u001b[0m\u001b[0;34m,\u001b[0m \u001b[0mtop_peer\u001b[0m\u001b[0;34m=\u001b[0m\u001b[0;36m10\u001b[0m\u001b[0;34m,\u001b[0m \u001b[0mget_adj\u001b[0m\u001b[0;34m=\u001b[0m\u001b[0;32mTrue\u001b[0m\u001b[0;34m)\u001b[0m\u001b[0;34m\u001b[0m\u001b[0;34m\u001b[0m\u001b[0m\n\u001b[0m",
      "\u001b[0;32m<ipython-input-119-aa0756dbce47>\u001b[0m in \u001b[0;36mget_gvkeylst_adj\u001b[0;34m(tnic, year, top_peer, get_adj)\u001b[0m\n\u001b[1;32m     19\u001b[0m         \u001b[0;32mfor\u001b[0m \u001b[0mi\u001b[0m\u001b[0;34m,\u001b[0m \u001b[0mgvkey1\u001b[0m \u001b[0;32min\u001b[0m \u001b[0menumerate\u001b[0m\u001b[0;34m(\u001b[0m\u001b[0mgvkey_lst\u001b[0m\u001b[0;34m)\u001b[0m\u001b[0;34m:\u001b[0m\u001b[0;34m\u001b[0m\u001b[0;34m\u001b[0m\u001b[0m\n\u001b[1;32m     20\u001b[0m             \u001b[0;32mfor\u001b[0m \u001b[0mj\u001b[0m\u001b[0;34m,\u001b[0m \u001b[0mgvkey2\u001b[0m \u001b[0;32min\u001b[0m \u001b[0menumerate\u001b[0m\u001b[0;34m(\u001b[0m\u001b[0mgvkey_lst\u001b[0m\u001b[0;34m)\u001b[0m\u001b[0;34m:\u001b[0m\u001b[0;34m\u001b[0m\u001b[0;34m\u001b[0m\u001b[0m\n\u001b[0;32m---> 21\u001b[0;31m                 \u001b[0;32mif\u001b[0m \u001b[0;34m(\u001b[0m\u001b[0mgvkey1\u001b[0m \u001b[0;34m!=\u001b[0m \u001b[0mgvkey2\u001b[0m\u001b[0;34m)\u001b[0m \u001b[0;34m&\u001b[0m \u001b[0;34m(\u001b[0m\u001b[0mtnic_year_top\u001b[0m\u001b[0;34m[\u001b[0m\u001b[0;34m(\u001b[0m\u001b[0mtnic_year_top\u001b[0m\u001b[0;34m.\u001b[0m\u001b[0mgvkey1\u001b[0m \u001b[0;34m==\u001b[0m \u001b[0mgvkey1\u001b[0m\u001b[0;34m)\u001b[0m \u001b[0;34m&\u001b[0m \u001b[0;34m(\u001b[0m\u001b[0mtnic_year_top\u001b[0m\u001b[0;34m.\u001b[0m\u001b[0mgvkey2\u001b[0m \u001b[0;34m==\u001b[0m \u001b[0mgvkey2\u001b[0m\u001b[0;34m)\u001b[0m\u001b[0;34m]\u001b[0m\u001b[0;34m.\u001b[0m\u001b[0mscore\u001b[0m\u001b[0;34m.\u001b[0m\u001b[0mvalues\u001b[0m\u001b[0;34m)\u001b[0m\u001b[0;34m:\u001b[0m\u001b[0;34m\u001b[0m\u001b[0;34m\u001b[0m\u001b[0m\n\u001b[0m\u001b[1;32m     22\u001b[0m                     \u001b[0madj\u001b[0m\u001b[0;34m[\u001b[0m\u001b[0mi\u001b[0m\u001b[0;34m,\u001b[0m \u001b[0mj\u001b[0m\u001b[0;34m]\u001b[0m \u001b[0;34m=\u001b[0m \u001b[0mtnic_year_top\u001b[0m\u001b[0;34m[\u001b[0m\u001b[0;34m(\u001b[0m\u001b[0mtnic_year_top\u001b[0m\u001b[0;34m.\u001b[0m\u001b[0mgvkey1\u001b[0m \u001b[0;34m==\u001b[0m \u001b[0mgvkey1\u001b[0m\u001b[0;34m)\u001b[0m \u001b[0;34m&\u001b[0m \u001b[0;34m(\u001b[0m\u001b[0mtnic_year_top\u001b[0m\u001b[0;34m.\u001b[0m\u001b[0mgvkey2\u001b[0m \u001b[0;34m==\u001b[0m \u001b[0mgvkey2\u001b[0m\u001b[0;34m)\u001b[0m\u001b[0;34m]\u001b[0m\u001b[0;34m.\u001b[0m\u001b[0mscore\u001b[0m\u001b[0;34m\u001b[0m\u001b[0;34m\u001b[0m\u001b[0m\n\u001b[1;32m     23\u001b[0m \u001b[0;34m\u001b[0m\u001b[0m\n",
      "\u001b[0;31mTypeError\u001b[0m: ufunc 'bitwise_and' not supported for the input types, and the inputs could not be safely coerced to any supported types according to the casting rule ''safe''"
     ]
    }
   ],
   "source": [
    "gvkey_1997, adj_1997 = get_gvkeylst_adj(tnic, year=1997, top_peer=10, get_adj=True)"
   ]
  },
  {
   "cell_type": "code",
   "execution_count": null,
   "metadata": {},
   "outputs": [],
   "source": []
  }
 ],
 "metadata": {
  "kernelspec": {
   "display_name": "GNN",
   "language": "python",
   "name": "gnn"
  },
  "language_info": {
   "codemirror_mode": {
    "name": "ipython",
    "version": 3
   },
   "file_extension": ".py",
   "mimetype": "text/x-python",
   "name": "python",
   "nbconvert_exporter": "python",
   "pygments_lexer": "ipython3",
   "version": "3.8.10"
  },
  "latex_envs": {
   "LaTeX_envs_menu_present": true,
   "autoclose": false,
   "autocomplete": true,
   "bibliofile": "biblio.bib",
   "cite_by": "apalike",
   "current_citInitial": 1,
   "eqLabelWithNumbers": true,
   "eqNumInitial": 1,
   "hotkeys": {
    "equation": "Ctrl-E",
    "itemize": "Ctrl-I"
   },
   "labels_anchors": false,
   "latex_user_defs": false,
   "report_style_numbering": false,
   "user_envs_cfg": false
  },
  "toc": {
   "base_numbering": 1,
   "nav_menu": {},
   "number_sections": true,
   "sideBar": true,
   "skip_h1_title": false,
   "title_cell": "Table of Contents",
   "title_sidebar": "Contents",
   "toc_cell": false,
   "toc_position": {},
   "toc_section_display": true,
   "toc_window_display": false
  }
 },
 "nbformat": 4,
 "nbformat_minor": 4
}
