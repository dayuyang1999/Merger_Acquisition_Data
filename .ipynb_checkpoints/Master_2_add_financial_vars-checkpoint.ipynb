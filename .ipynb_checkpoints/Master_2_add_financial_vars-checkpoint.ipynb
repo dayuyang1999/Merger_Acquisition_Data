{
 "cells": [
  {
   "cell_type": "code",
   "execution_count": 14,
   "metadata": {
    "ExecuteTime": {
     "end_time": "2021-09-17T14:11:59.398006Z",
     "start_time": "2021-09-17T14:11:59.395103Z"
    }
   },
   "outputs": [],
   "source": [
    "import numpy as np\n",
    "import pandas as pd\n",
    "import wrds\n",
    "import pickle\n",
    "from scipy.stats.mstats import winsorize\n",
    "from os.path import join as pjoin\n"
   ]
  },
  {
   "cell_type": "code",
   "execution_count": 15,
   "metadata": {
    "ExecuteTime": {
     "end_time": "2021-09-17T14:12:16.661536Z",
     "start_time": "2021-09-17T14:12:16.655035Z"
    }
   },
   "outputs": [],
   "source": [
    "tmp_data_path = '../MA_data/data/tmp'\n",
    "\n",
    "\n",
    "s_year = 1997\n",
    "e_year = 2019"
   ]
  },
  {
   "cell_type": "code",
   "execution_count": 24,
   "metadata": {
    "ExecuteTime": {
     "end_time": "2021-09-17T14:23:32.021475Z",
     "start_time": "2021-09-17T14:23:25.130488Z"
    }
   },
   "outputs": [
    {
     "name": "stdout",
     "output_type": "stream",
     "text": [
      "Enter your WRDS username [dalab5]:dayuyang1999\n",
      "Enter your password:········\n",
      "WRDS recommends setting up a .pgpass file.\n",
      "Create .pgpass file now [y/n]?: y\n",
      "Created .pgpass file successfully.\n",
      "Loading library list...\n",
      "Done\n",
      "Loading library list...\n",
      "Done\n"
     ]
    }
   ],
   "source": [
    "db = wrds.Connection()\n",
    "db = wrds.Connection(wrds_username='dayuyang1999')"
   ]
  },
  {
   "cell_type": "markdown",
   "metadata": {},
   "source": [
    "# add financial variables\n",
    "\n",
    "## get raw data\n",
    "\n",
    "According to Appendix A of Bernard et al. (2020), we need the following `COMPUSTAT` variables to compute financial ratios.\n",
    "\n",
    "| compustat code | definition                                  |\n",
    "|----------------|---------------------------------------------|\n",
    "| at             | total asset                                 |\n",
    "| ceq            | Common/Ordinary Equity - Total              |\n",
    "| csho           | Number of Common Shares Outstanding         |\n",
    "| prcc_f         | Price Close - Annual - Fiscal               |\n",
    "| txdb           | Deferred Taxes (Balance Sheet)              |\n",
    "| dlc            | Debt in Current Liabilities - Total         |\n",
    "| dltt           | Long-Term Debt - Total                      |\n",
    "| ib             | Income Before Extraordinary Items           |\n",
    "| sale           | Net Sales                                   |\n",
    "| ch             | Cash                                        |\n",
    "| ppent          | Property, Plant and Equipment - Total (Net) |\n",
    "| re             | Retained Earnings                           |\n",
    "| act            | Current Assets - Total                      |\n",
    "| lct            | Current Liabilities - Total                 |\n",
    "\n",
    "\n",
    "Bernard, Darren, Terrence Blackburne, and Jacob Thornock. 2020. “Information Flows among Rivals and Corporate Investment.” Journal of Financial Economics 136 (3): 760–79."
   ]
  },
  {
   "cell_type": "code",
   "execution_count": null,
   "metadata": {},
   "outputs": [],
   "source": [
    "from dataloader_helpers import get_firm_annual_data"
   ]
  },
  {
   "cell_type": "code",
   "execution_count": 75,
   "metadata": {
    "ExecuteTime": {
     "end_time": "2021-09-17T15:00:46.776567Z",
     "start_time": "2021-09-17T15:00:34.918216Z"
    }
   },
   "outputs": [],
   "source": [
    "get_firm_annual_data(tmp_data_path, s_year, e_year)"
   ]
  },
  {
   "cell_type": "code",
   "execution_count": 76,
   "metadata": {
    "ExecuteTime": {
     "end_time": "2021-09-17T15:01:00.535771Z",
     "start_time": "2021-09-17T15:01:00.357497Z"
    }
   },
   "outputs": [],
   "source": [
    "fin_var = pd.read_pickle(f\"{tmp_data_path}/fin_raw_{s_year}_{e_year}.pickle\")"
   ]
  },
  {
   "cell_type": "markdown",
   "metadata": {
    "ExecuteTime": {
     "end_time": "2021-09-12T14:07:15.035179Z",
     "start_time": "2021-09-12T14:07:15.021943Z"
    }
   },
   "source": [
    "## create variables\n",
    "\n",
    "Based on the above raw input variables, we construct the following financial ratios.\n",
    "\n",
    "| variable               | formula                          | definition                                                          |\n",
    "|------------------------|----------------------------------|---------------------------------------------------------------------|\n",
    "|                        |        Bernard et al. (2020) Appendix A     |                                                                     |\n",
    "| size_i                 | at                               | Firm i’s total assets                                               |\n",
    "| market-to-book ratio_i | (at+prcc_f*csho-ceq-txdb)/at     | Market-to-book assets ratio of firm i                               |\n",
    "| leverage_i             | (dlc+dltt)/at                    | Book leverage of firm i                                             |\n",
    "| roa_i                  | ib/at                            | Return-on-assets of firm i                                          |\n",
    "| sales growth_i         | (sale_{t}-sale_{t-1})/sale_{t-1} | Sales growth of firm i                                              |\n",
    "| ppe_i                  | ppent/at                         | Firm i’s net plant, property, and equipment, scaled by total assets |\n",
    "|                        |  Yang et al (2014)  Table 2     |                                                                     |\n",
    "| sale_i                 | sale                             | Firm i’s net sales                                                  |\n",
    "| cash-to-asset ratio_i  | ch/at                            | Cash flow to total assets ratio of firm i                           |\n",
    "| cash-to-sales ratio_i  | ch/sale                          | Cash flow to sales ratio of firm i                                  |\n",
    "| sales-to-asset ratio_i | sale/at                          | Net sales/total assets                                              |\n",
    "| current ratio_i        | act/lct                          | Current assets of firm i scaled by its current liabilities          |\n",
    "| asset growth_i         | (at_{t}-at_{t-1})/at_{t-1}       | Total asset growth of firm i                                        |\n",
    "\n",
    "\n",
    "Bernard, Darren, Terrence Blackburne, and Jacob Thornock. 2020. “Information Flows among Rivals and Corporate Investment.” Journal of Financial Economics 136 (3): 760–79.\n",
    "\n",
    "Yang, Chin-Sheng, Chih-Ping Wei, and Yu-Hsun Chiang. 2014. “Exploiting Technological Indicators for Effective Technology Merger and Acquisition (M&A) Predictions.” Decision Sciences 45 (1): 147–74."
   ]
  },
  {
   "cell_type": "code",
   "execution_count": 77,
   "metadata": {
    "ExecuteTime": {
     "end_time": "2021-09-17T15:01:02.632975Z",
     "start_time": "2021-09-17T15:01:02.630569Z"
    }
   },
   "outputs": [],
   "source": [
    "from fin_var_helpers import get_lags, create_var"
   ]
  },
  {
   "cell_type": "code",
   "execution_count": 78,
   "metadata": {
    "ExecuteTime": {
     "end_time": "2021-09-17T15:01:04.777018Z",
     "start_time": "2021-09-17T15:01:02.919859Z"
    }
   },
   "outputs": [
    {
     "name": "stdout",
     "output_type": "stream",
     "text": [
      "check df created ok: \n",
      "    gvkey  year       at     sale       m2b      lev       roa       ppe  \\\n",
      "0  10000  1997  577.137  559.823  1.187368  0.41477 -0.002807  0.218361   \n",
      "\n",
      "   cash2asset  cash2sale  sale2asset       cr  d_sale  d_at  \n",
      "0    0.029125   0.030026        0.97  1.83279     NaN   NaN  \n",
      "\n",
      " variable lists of ratio pd:  Index(['gvkey', 'year', 'at', 'sale', 'm2b', 'lev', 'roa', 'ppe', 'cash2asset',\n",
      "       'cash2sale', 'sale2asset', 'cr', 'd_sale', 'd_at'],\n",
      "      dtype='object')\n"
     ]
    }
   ],
   "source": [
    "ratio_pd_w_raw = create_var(fin_var)"
   ]
  },
  {
   "cell_type": "code",
   "execution_count": 79,
   "metadata": {
    "ExecuteTime": {
     "end_time": "2021-09-17T15:01:05.072653Z",
     "start_time": "2021-09-17T15:01:04.781213Z"
    }
   },
   "outputs": [
    {
     "name": "stdout",
     "output_type": "stream",
     "text": [
      "saving raw financial variable tables from 1997 to 2019; table size:  (267134, 14)\n"
     ]
    }
   ],
   "source": [
    "print(f\"saving raw financial variable tables from {s_year} to {e_year}; table size: \", ratio_pd_w_raw.shape)\n",
    "ratio_pd_w_raw.to_pickle(f'{tmp_data_path}/fv_raw_{s_year}_{e_year}.pickle')\n"
   ]
  },
  {
   "cell_type": "markdown",
   "metadata": {},
   "source": [
    "### check NAs\n",
    "\n",
    "1. since we have devide operation, there are supposed to have inf and -inf if devide by 0\n",
    "    - replace `inf` as `na`\n",
    "\n",
    "2. only keep rows which na <  threshold\n",
    "3. replace na as mean value of the whole variable"
   ]
  },
  {
   "cell_type": "markdown",
   "metadata": {},
   "source": [
    "check how series is missing, \n",
    "\n",
    "- totally 288k rows has at least missing value\n",
    "- if we are ok to roughly drop 25% of the data, set thres = 5\n",
    "\n",
    "\n",
    "However, we don't want to drop many rows since we may have no positive samples for MA if do so.\n",
    "\n",
    "To decide what column to drop and how many row to drop, refer to [Appendix 2](./Appendix2_merge.ipynb)"
   ]
  },
  {
   "cell_type": "code",
   "execution_count": 80,
   "metadata": {
    "ExecuteTime": {
     "end_time": "2021-09-17T15:01:06.856948Z",
     "start_time": "2021-09-17T15:01:06.850616Z"
    }
   },
   "outputs": [],
   "source": [
    "thres = 7"
   ]
  },
  {
   "cell_type": "code",
   "execution_count": 88,
   "metadata": {
    "ExecuteTime": {
     "end_time": "2021-09-17T15:03:36.734437Z",
     "start_time": "2021-09-17T15:03:36.725645Z"
    }
   },
   "outputs": [
    {
     "data": {
      "text/plain": [
       "Index(['gvkey', 'year', 'at', 'sale', 'm2b', 'lev', 'roa', 'ppe', 'cash2asset',\n",
       "       'cash2sale', 'sale2asset', 'cr', 'd_sale', 'd_at'],\n",
       "      dtype='object')"
      ]
     },
     "execution_count": 88,
     "metadata": {},
     "output_type": "execute_result"
    }
   ],
   "source": [
    "ratio_pd_w_raw.columns"
   ]
  },
  {
   "cell_type": "code",
   "execution_count": null,
   "metadata": {},
   "outputs": [],
   "source": []
  },
  {
   "cell_type": "code",
   "execution_count": 82,
   "metadata": {
    "ExecuteTime": {
     "end_time": "2021-09-17T15:01:08.361230Z",
     "start_time": "2021-09-17T15:01:08.353995Z"
    }
   },
   "outputs": [],
   "source": [
    "# def helper fun\n",
    "def deal_na(df, na_thres):\n",
    "    '''\n",
    "    df: raw financial varibale table\n",
    "        - the first 2 columns are `gvkey` and `year`\n",
    "        - the rest are fianncial variables\n",
    "    \n",
    "    '''\n",
    "    n_features = len(df.columns) - 2 # exclude gvkey and year\n",
    "    print(f\"totally {n_features} number of financial features, tolerance of num of missing is:\", na_thres)\n",
    "    ratio_pd_w = df\n",
    "    # replace inf to na\n",
    "    ratio_pd_w.replace([np.inf, -np.inf], np.nan, inplace=True)\n",
    "    # count na of each row\n",
    "    ratio_pd_w['n_na'] = ratio_pd_w.isna().sum(axis=1) # each row has how many Nas\n",
    "     # only retain those Na < thres\n",
    "    ratio_pd_w = ratio_pd_w[ratio_pd_w['n_na'] <= na_thres].reset_index(drop=True)\n",
    "    \n",
    "    for colname in ratio_pd_w.columns[2:(2+n_features)]:\n",
    "        # remove outliers\n",
    "        ratio_pd_w[colname] = winsorize(ratio_pd_w[colname], limits=[0.01, 0.01], nan_policy='omit')\n",
    "        # impute na with mean\n",
    "        ratio_pd_w[colname].fillna(value=ratio_pd_w[colname].mean(skipna=True), inplace=True)\n",
    "    assert ratio_pd_w.isna().sum().sum() == 0\n",
    "    return ratio_pd_w\n",
    "\n",
    "\n",
    "def merge_fv_ma(df_fv_nona, df_ma):\n",
    "    '''\n",
    "    df_fv_nona: df_fv with no single missing value\n",
    "    df_ma: \n",
    "    \n",
    "    '''\n",
    "    assert df_fv_nona.isna().sum().sum() == 0\n",
    "    merge_a = df_ma.merge(df_fv_nona, how = 'inner', left_on=['AGVKEY', 'YEAR'], right_on = ['gvkey','year'])\n",
    "    merge_a.columns = list(merge_a.columns[0:len(merge_a.columns)-15]) + [x.upper()+'_A' for x in merge_a.columns[-15:]]\n",
    "    \n",
    "    merge_t =  merge_a.merge(df_fv_nona, how = 'inner', left_on=['TGVKEY', 'YEAR'], right_on = ['gvkey','year'])\n",
    "    merge_t.columns = list(merge_t.columns[0:len(merge_t.columns)-15]) + [x.upper()+'_T' for x in merge_t.columns[-15:]]\n",
    "\n",
    "    #print(\"num of obs for original MA table: \", df_ma.shape[0], '\\n')\n",
    "    #print('num of obs in merged table:', merge_t.shape[0], '\\n')\n",
    "    \n",
    "    return merge_t\n"
   ]
  },
  {
   "cell_type": "code",
   "execution_count": 83,
   "metadata": {
    "ExecuteTime": {
     "end_time": "2021-09-17T15:01:11.370970Z",
     "start_time": "2021-09-17T15:01:11.018447Z"
    }
   },
   "outputs": [],
   "source": [
    "df_ma = pd.read_pickle(pjoin(tmp_data_path , f'sdc_gvkey_{s_year}_{e_year}.pickle'))\n",
    "df_fv_raw = pd.read_pickle(f'{tmp_data_path}/fv_raw_{s_year}_{e_year}.pickle')"
   ]
  },
  {
   "cell_type": "code",
   "execution_count": 84,
   "metadata": {
    "ExecuteTime": {
     "end_time": "2021-09-17T15:01:15.447177Z",
     "start_time": "2021-09-17T15:01:14.631748Z"
    }
   },
   "outputs": [],
   "source": [
    "df_fv_nona = deal_na(df_fv_raw, thres)"
   ]
  },
  {
   "cell_type": "code",
   "execution_count": 85,
   "metadata": {
    "ExecuteTime": {
     "end_time": "2021-09-17T15:01:16.089646Z",
     "start_time": "2021-09-17T15:01:15.450356Z"
    }
   },
   "outputs": [],
   "source": [
    "merged_fv_ma = merge_fv_ma(df_fv_nona, df_ma)"
   ]
  },
  {
   "cell_type": "code",
   "execution_count": 86,
   "metadata": {
    "ExecuteTime": {
     "end_time": "2021-09-17T15:01:16.240408Z",
     "start_time": "2021-09-17T15:01:16.093689Z"
    }
   },
   "outputs": [
    {
     "name": "stdout",
     "output_type": "stream",
     "text": [
      "fin_var merged sdc df shape =  (26203, 71)\n"
     ]
    }
   ],
   "source": [
    "print(\"fin_var merged sdc df shape = \", merged_fv_ma.shape)\n",
    "df_fv_nona.to_pickle(f'{tmp_data_path}/fv_nona_{s_year}_{e_year}.pickle')"
   ]
  },
  {
   "cell_type": "code",
   "execution_count": 219,
   "metadata": {
    "ExecuteTime": {
     "end_time": "2021-09-14T01:47:31.031201Z",
     "start_time": "2021-09-14T01:47:30.986900Z"
    }
   },
   "outputs": [],
   "source": [
    "merged_fv_ma.drop(['GVKEY_A', 'GVKEY_T', 'YEAR_A', 'YEAR_T'], axis=1, inplace=True)"
   ]
  },
  {
   "cell_type": "markdown",
   "metadata": {},
   "source": [
    "# arrange"
   ]
  },
  {
   "cell_type": "code",
   "execution_count": 220,
   "metadata": {
    "ExecuteTime": {
     "end_time": "2021-09-14T01:47:32.825665Z",
     "start_time": "2021-09-14T01:47:32.820679Z"
    }
   },
   "outputs": [
    {
     "data": {
      "text/plain": [
       "Index(['ACU', 'ASIC2', 'ABL', 'ANL', 'APUBC', 'AUP', 'AUPSIC', 'AUPBL',\n",
       "       'AUPNAMES', 'AUPPUB', 'BLOCK', 'CREEP', 'DA', 'DE', 'STATC', 'SYNOP',\n",
       "       'VAL', 'PCTACQ', 'PSOUGHTOWN', 'PSOUGHT', 'PHDA', 'PCTOWN', 'PSOUGHTT',\n",
       "       'PRIVATIZATION', 'DEAL_NO', 'TCU', 'TSIC2', 'TBL', 'TNL', 'TPUBC',\n",
       "       'TUP', 'TUPSIC', 'TUPBL', 'TUPNAMES', 'TUPPUB', 'AGVKEY', 'TGVKEY',\n",
       "       'GVKEY_OVERALL', 'YEAR', 'SIC_A', 'SIC_T', 'AT_A', 'SALE_A', 'M2B_A',\n",
       "       'LEV_A', 'ROA_A', 'PPE_A', 'CASH2ASSET_A', 'CASH2SALE_A',\n",
       "       'SALE2ASSET_A', 'CR_A', 'D_SALE_A', 'D_AT_A', 'N_NA_A', 'AT_T',\n",
       "       'SALE_T', 'M2B_T', 'LEV_T', 'ROA_T', 'PPE_T', 'CASH2ASSET_T',\n",
       "       'CASH2SALE_T', 'SALE2ASSET_T', 'CR_T', 'D_SALE_T', 'D_AT_T', 'N_NA_T'],\n",
       "      dtype='object')"
      ]
     },
     "execution_count": 220,
     "metadata": {},
     "output_type": "execute_result"
    }
   ],
   "source": [
    "merged_fv_ma.columns"
   ]
  },
  {
   "cell_type": "code",
   "execution_count": 221,
   "metadata": {
    "ExecuteTime": {
     "end_time": "2021-09-14T01:47:35.248123Z",
     "start_time": "2021-09-14T01:47:35.106459Z"
    }
   },
   "outputs": [
    {
     "name": "stdout",
     "output_type": "stream",
     "text": [
      "df contains ma and fin var from 1997 to 2020, save to pickle, shape =  (7045, 67)\n"
     ]
    }
   ],
   "source": [
    "print(f'df contains ma and fin var from {s_year} to {e_year}, save to pickle, shape = ', merged_fv_ma.shape)\n",
    "merged_fv_ma.to_pickle(f'{tmp_data_path}/ma_fv_{s_year}_{e_year}.pickle')"
   ]
  },
  {
   "cell_type": "code",
   "execution_count": null,
   "metadata": {},
   "outputs": [],
   "source": []
  }
 ],
 "metadata": {
  "kernelspec": {
   "display_name": "GNN",
   "language": "python",
   "name": "gnn"
  },
  "language_info": {
   "codemirror_mode": {
    "name": "ipython",
    "version": 3
   },
   "file_extension": ".py",
   "mimetype": "text/x-python",
   "name": "python",
   "nbconvert_exporter": "python",
   "pygments_lexer": "ipython3",
   "version": "3.8.10"
  },
  "latex_envs": {
   "LaTeX_envs_menu_present": true,
   "autoclose": false,
   "autocomplete": true,
   "bibliofile": "biblio.bib",
   "cite_by": "apalike",
   "current_citInitial": 1,
   "eqLabelWithNumbers": true,
   "eqNumInitial": 1,
   "hotkeys": {
    "equation": "Ctrl-E",
    "itemize": "Ctrl-I"
   },
   "labels_anchors": false,
   "latex_user_defs": false,
   "report_style_numbering": false,
   "user_envs_cfg": false
  },
  "toc": {
   "base_numbering": 1,
   "nav_menu": {},
   "number_sections": true,
   "sideBar": true,
   "skip_h1_title": false,
   "title_cell": "Table of Contents",
   "title_sidebar": "Contents",
   "toc_cell": false,
   "toc_position": {},
   "toc_section_display": true,
   "toc_window_display": false
  }
 },
 "nbformat": 4,
 "nbformat_minor": 4
}
