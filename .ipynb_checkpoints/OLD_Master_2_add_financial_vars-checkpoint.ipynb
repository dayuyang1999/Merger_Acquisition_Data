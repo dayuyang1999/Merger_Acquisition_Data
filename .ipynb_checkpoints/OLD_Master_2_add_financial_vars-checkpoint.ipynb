{
 "cells": [
  {
   "cell_type": "code",
   "execution_count": 26,
   "metadata": {
    "ExecuteTime": {
     "end_time": "2021-09-28T15:19:11.976354Z",
     "start_time": "2021-09-28T15:19:11.963166Z"
    }
   },
   "outputs": [],
   "source": [
    "import numpy as np\n",
    "import pandas as pd\n",
    "import wrds\n",
    "import pickle\n",
    "from scipy.stats.mstats import winsorize\n",
    "from os.path import join as pjoin\n"
   ]
  },
  {
   "cell_type": "code",
   "execution_count": 27,
   "metadata": {
    "ExecuteTime": {
     "end_time": "2021-09-28T15:19:12.474923Z",
     "start_time": "2021-09-28T15:19:12.467902Z"
    }
   },
   "outputs": [],
   "source": [
    "tmp_data_path = '../MA_data/data/tmp'\n",
    "\n",
    "\n",
    "s_year = 1997\n",
    "e_year = 2019"
   ]
  },
  {
   "cell_type": "code",
   "execution_count": 24,
   "metadata": {
    "ExecuteTime": {
     "end_time": "2021-09-17T14:23:32.021475Z",
     "start_time": "2021-09-17T14:23:25.130488Z"
    }
   },
   "outputs": [
    {
     "name": "stdout",
     "output_type": "stream",
     "text": [
      "Enter your WRDS username [dalab5]:dayuyang1999\n",
      "Enter your password:········\n",
      "WRDS recommends setting up a .pgpass file.\n",
      "Create .pgpass file now [y/n]?: y\n",
      "Created .pgpass file successfully.\n",
      "Loading library list...\n",
      "Done\n",
      "Loading library list...\n",
      "Done\n"
     ]
    }
   ],
   "source": [
    "db = wrds.Connection()\n",
    "db = wrds.Connection(wrds_username='dayuyang1999')"
   ]
  },
  {
   "cell_type": "markdown",
   "metadata": {},
   "source": [
    "# add financial variables\n",
    "\n",
    "## get raw data\n",
    "\n",
    "According to Appendix A of Bernard et al. (2020), we need the following `COMPUSTAT` variables to compute financial ratios.\n",
    "\n",
    "| compustat code | definition                                  |\n",
    "|----------------|---------------------------------------------|\n",
    "| at             | total asset                                 |\n",
    "| ceq            | Common/Ordinary Equity - Total              |\n",
    "| csho           | Number of Common Shares Outstanding         |\n",
    "| prcc_f         | Price Close - Annual - Fiscal               |\n",
    "| txdb           | Deferred Taxes (Balance Sheet)              |\n",
    "| dlc            | Debt in Current Liabilities - Total         |\n",
    "| dltt           | Long-Term Debt - Total                      |\n",
    "| ib             | Income Before Extraordinary Items           |\n",
    "| sale           | Net Sales                                   |\n",
    "| ch             | Cash                                        |\n",
    "| ppent          | Property, Plant and Equipment - Total (Net) |\n",
    "| re             | Retained Earnings                           |\n",
    "| act            | Current Assets - Total                      |\n",
    "| lct            | Current Liabilities - Total                 |\n",
    "\n",
    "\n",
    "Bernard, Darren, Terrence Blackburne, and Jacob Thornock. 2020. “Information Flows among Rivals and Corporate Investment.” Journal of Financial Economics 136 (3): 760–79."
   ]
  },
  {
   "cell_type": "code",
   "execution_count": 28,
   "metadata": {
    "ExecuteTime": {
     "end_time": "2021-09-28T15:19:14.977600Z",
     "start_time": "2021-09-28T15:19:14.946188Z"
    }
   },
   "outputs": [],
   "source": [
    "from dataloader_helpers import get_firm_annual_data"
   ]
  },
  {
   "cell_type": "code",
   "execution_count": 29,
   "metadata": {
    "ExecuteTime": {
     "end_time": "2021-09-28T15:19:15.529846Z",
     "start_time": "2021-09-28T15:19:15.401832Z"
    }
   },
   "outputs": [
    {
     "ename": "NameError",
     "evalue": "name 'db' is not defined",
     "output_type": "error",
     "traceback": [
      "\u001b[0;31m---------------------------------------------------------------------------\u001b[0m",
      "\u001b[0;31mNameError\u001b[0m                                 Traceback (most recent call last)",
      "\u001b[0;32m<ipython-input-29-0b113b5ab3fa>\u001b[0m in \u001b[0;36m<module>\u001b[0;34m\u001b[0m\n\u001b[0;32m----> 1\u001b[0;31m \u001b[0mget_firm_annual_data\u001b[0m\u001b[0;34m(\u001b[0m\u001b[0mtmp_data_path\u001b[0m\u001b[0;34m,\u001b[0m \u001b[0ms_year\u001b[0m\u001b[0;34m,\u001b[0m \u001b[0me_year\u001b[0m\u001b[0;34m)\u001b[0m\u001b[0;34m\u001b[0m\u001b[0;34m\u001b[0m\u001b[0m\n\u001b[0m",
      "\u001b[0;32m~/Projects/MA/dataloader_helpers.py\u001b[0m in \u001b[0;36mget_firm_annual_data\u001b[0;34m(tmp_data_path, s_year, e_year)\u001b[0m\n\u001b[1;32m    166\u001b[0m \u001b[0;32mdef\u001b[0m \u001b[0mget_firm_annual_data\u001b[0m\u001b[0;34m(\u001b[0m\u001b[0mtmp_data_path\u001b[0m\u001b[0;34m,\u001b[0m \u001b[0ms_year\u001b[0m\u001b[0;34m,\u001b[0m \u001b[0me_year\u001b[0m\u001b[0;34m)\u001b[0m\u001b[0;34m:\u001b[0m\u001b[0;34m\u001b[0m\u001b[0;34m\u001b[0m\u001b[0m\n\u001b[1;32m    167\u001b[0m     \u001b[0;31m# Among the selected variables, for those money denominated variables, the unit is million.\u001b[0m\u001b[0;34m\u001b[0m\u001b[0;34m\u001b[0m\u001b[0;34m\u001b[0m\u001b[0m\n\u001b[0;32m--> 168\u001b[0;31m     pd_afr = db.raw_sql(sql=f'''\n\u001b[0m\u001b[1;32m    169\u001b[0m       \u001b[0mselect\u001b[0m \u001b[0mgvkey\u001b[0m\u001b[0;34m,\u001b[0m \u001b[0mdatadate\u001b[0m\u001b[0;34m,\u001b[0m \u001b[0mat\u001b[0m\u001b[0;34m,\u001b[0m \u001b[0mceq\u001b[0m\u001b[0;34m,\u001b[0m \u001b[0mcsho\u001b[0m\u001b[0;34m,\u001b[0m \u001b[0mprcc_f\u001b[0m\u001b[0;34m,\u001b[0m \u001b[0mtxdb\u001b[0m\u001b[0;34m,\u001b[0m \u001b[0mdlc\u001b[0m\u001b[0;34m,\u001b[0m \u001b[0mdltt\u001b[0m\u001b[0;34m,\u001b[0m \u001b[0mib\u001b[0m\u001b[0;34m,\u001b[0m \u001b[0msale\u001b[0m\u001b[0;34m,\u001b[0m \u001b[0mch\u001b[0m\u001b[0;34m,\u001b[0m \u001b[0mppent\u001b[0m\u001b[0;34m,\u001b[0m \u001b[0mre\u001b[0m\u001b[0;34m,\u001b[0m \u001b[0mact\u001b[0m\u001b[0;34m,\u001b[0m \u001b[0mlct\u001b[0m\u001b[0;34m\u001b[0m\u001b[0;34m\u001b[0m\u001b[0m\n\u001b[1;32m    170\u001b[0m       \u001b[0;32mfrom\u001b[0m \u001b[0mcomp\u001b[0m\u001b[0;34m.\u001b[0m\u001b[0mfunda\u001b[0m\u001b[0;34m\u001b[0m\u001b[0;34m\u001b[0m\u001b[0m\n",
      "\u001b[0;31mNameError\u001b[0m: name 'db' is not defined"
     ]
    }
   ],
   "source": [
    "get_firm_annual_data(tmp_data_path, s_year, e_year)\n"
   ]
  },
  {
   "cell_type": "code",
   "execution_count": 30,
   "metadata": {
    "ExecuteTime": {
     "end_time": "2021-09-28T15:19:24.080906Z",
     "start_time": "2021-09-28T15:19:23.780147Z"
    }
   },
   "outputs": [],
   "source": [
    "fin_var = pd.read_pickle(f\"{tmp_data_path}/fin_raw_{s_year}_{e_year}.pickle\")"
   ]
  },
  {
   "cell_type": "markdown",
   "metadata": {
    "ExecuteTime": {
     "end_time": "2021-09-12T14:07:15.035179Z",
     "start_time": "2021-09-12T14:07:15.021943Z"
    }
   },
   "source": [
    "## create variables\n",
    "\n",
    "Based on the above raw input variables, we construct the following financial ratios.\n",
    "\n",
    "| variable               | formula                          | definition                                                          |\n",
    "|------------------------|----------------------------------|---------------------------------------------------------------------|\n",
    "|                        |        Bernard et al. (2020) Appendix A     |                                                                     |\n",
    "| size_i                 | at                               | Firm i’s total assets                                               |\n",
    "| market-to-book ratio_i | (at+prcc_f*csho-ceq-txdb)/at     | Market-to-book assets ratio of firm i                               |\n",
    "| leverage_i             | (dlc+dltt)/at                    | Book leverage of firm i                                             |\n",
    "| roa_i                  | ib/at                            | Return-on-assets of firm i                                          |\n",
    "| sales growth_i         | (sale_{t}-sale_{t-1})/sale_{t-1} | Sales growth of firm i                                              |\n",
    "| ppe_i                  | ppent/at                         | Firm i’s net plant, property, and equipment, scaled by total assets |\n",
    "|                        |  Yang et al (2014)  Table 2     |                                                                     |\n",
    "| sale_i                 | sale                             | Firm i’s net sales                                                  |\n",
    "| cash-to-asset ratio_i  | ch/at                            | Cash flow to total assets ratio of firm i                           |\n",
    "| cash-to-sales ratio_i  | ch/sale                          | Cash flow to sales ratio of firm i                                  |\n",
    "| sales-to-asset ratio_i | sale/at                          | Net sales/total assets                                              |\n",
    "| current ratio_i        | act/lct                          | Current assets of firm i scaled by its current liabilities          |\n",
    "| asset growth_i         | (at_{t}-at_{t-1})/at_{t-1}       | Total asset growth of firm i                                        |\n",
    "\n",
    "\n",
    "Bernard, Darren, Terrence Blackburne, and Jacob Thornock. 2020. “Information Flows among Rivals and Corporate Investment.” Journal of Financial Economics 136 (3): 760–79.\n",
    "\n",
    "Yang, Chin-Sheng, Chih-Ping Wei, and Yu-Hsun Chiang. 2014. “Exploiting Technological Indicators for Effective Technology Merger and Acquisition (M&A) Predictions.” Decision Sciences 45 (1): 147–74."
   ]
  },
  {
   "cell_type": "code",
   "execution_count": 6,
   "metadata": {
    "ExecuteTime": {
     "end_time": "2021-09-28T01:54:46.563983Z",
     "start_time": "2021-09-28T01:54:46.545797Z"
    }
   },
   "outputs": [],
   "source": [
    "from fin_var_helpers import get_lags, create_var"
   ]
  },
  {
   "cell_type": "code",
   "execution_count": 31,
   "metadata": {
    "ExecuteTime": {
     "end_time": "2021-09-28T15:19:46.783441Z",
     "start_time": "2021-09-28T15:19:46.340555Z"
    }
   },
   "outputs": [
    {
     "name": "stdout",
     "output_type": "stream",
     "text": [
      "check df created ok: \n",
      "    gvkey  year       at     sale       m2b      lev       roa       ppe  \\\n",
      "0  10000  1997  577.137  559.823  1.187368  0.41477 -0.002807  0.218361   \n",
      "\n",
      "   cash2asset  cash2sale  sale2asset       cr  d_sale  d_at  \n",
      "0    0.029125   0.030026        0.97  1.83279     NaN   NaN  \n",
      "\n",
      " variable lists of ratio pd:  Index(['gvkey', 'year', 'at', 'sale', 'm2b', 'lev', 'roa', 'ppe', 'cash2asset',\n",
      "       'cash2sale', 'sale2asset', 'cr', 'd_sale', 'd_at'],\n",
      "      dtype='object')\n"
     ]
    }
   ],
   "source": [
    "ratio_pd_w_raw = create_var(fin_var)"
   ]
  },
  {
   "cell_type": "code",
   "execution_count": 32,
   "metadata": {
    "ExecuteTime": {
     "end_time": "2021-09-28T15:19:47.889882Z",
     "start_time": "2021-09-28T15:19:47.777071Z"
    }
   },
   "outputs": [
    {
     "name": "stdout",
     "output_type": "stream",
     "text": [
      "saving raw financial variable tables from 1997 to 2019; table size:  (267134, 14)\n"
     ]
    }
   ],
   "source": [
    "print(f\"saving raw financial variable tables from {s_year} to {e_year}; table size: \", ratio_pd_w_raw.shape)\n",
    "ratio_pd_w_raw.to_pickle(f'{tmp_data_path}/fv_raw_{s_year}_{e_year}.pickle')\n"
   ]
  },
  {
   "cell_type": "markdown",
   "metadata": {},
   "source": [
    "### check NAs\n",
    "\n",
    "1. since we have devide operation, there are supposed to have inf and -inf if devide by 0\n",
    "    - replace `inf` as `na`\n",
    "\n",
    "2. only keep rows which na <  threshold\n",
    "3. replace na as mean value of the whole variable"
   ]
  },
  {
   "cell_type": "markdown",
   "metadata": {},
   "source": [
    "check how series is missing, \n",
    "\n",
    "- totally 288k rows has at least missing value\n",
    "- if we are ok to roughly drop 25% of the data, set thres = 5\n",
    "\n",
    "\n",
    "However, we don't want to drop many rows since we may have no positive samples for MA if do so.\n",
    "\n",
    "To decide what column to drop and how many row to drop, refer to [Appendix 2](./Appendix2_merge.ipynb)"
   ]
  },
  {
   "cell_type": "code",
   "execution_count": 33,
   "metadata": {
    "ExecuteTime": {
     "end_time": "2021-09-28T15:19:51.943477Z",
     "start_time": "2021-09-28T15:19:51.939732Z"
    }
   },
   "outputs": [],
   "source": [
    "thres = 6"
   ]
  },
  {
   "cell_type": "code",
   "execution_count": 34,
   "metadata": {
    "ExecuteTime": {
     "end_time": "2021-09-28T15:19:52.383628Z",
     "start_time": "2021-09-28T15:19:52.371883Z"
    }
   },
   "outputs": [
    {
     "data": {
      "text/plain": [
       "Index(['gvkey', 'year', 'at', 'sale', 'm2b', 'lev', 'roa', 'ppe', 'cash2asset',\n",
       "       'cash2sale', 'sale2asset', 'cr', 'd_sale', 'd_at'],\n",
       "      dtype='object')"
      ]
     },
     "execution_count": 34,
     "metadata": {},
     "output_type": "execute_result"
    }
   ],
   "source": [
    "ratio_pd_w_raw.columns"
   ]
  },
  {
   "cell_type": "code",
   "execution_count": 36,
   "metadata": {
    "ExecuteTime": {
     "end_time": "2021-09-28T15:21:44.365189Z",
     "start_time": "2021-09-28T15:21:44.352226Z"
    }
   },
   "outputs": [
    {
     "ename": "ImportError",
     "evalue": "cannot import name 'deal_na' from 'fin_var_helpers' (/home/dalab5/Projects/MA/fin_var_helpers.py)",
     "output_type": "error",
     "traceback": [
      "\u001b[0;31m---------------------------------------------------------------------------\u001b[0m",
      "\u001b[0;31mImportError\u001b[0m                               Traceback (most recent call last)",
      "\u001b[0;32m<ipython-input-36-3dd4b7359893>\u001b[0m in \u001b[0;36m<module>\u001b[0;34m\u001b[0m\n\u001b[0;32m----> 1\u001b[0;31m \u001b[0;32mfrom\u001b[0m \u001b[0mfin_var_helpers\u001b[0m \u001b[0;32mimport\u001b[0m \u001b[0mdeal_na\u001b[0m\u001b[0;34m,\u001b[0m \u001b[0mmerge_fv_ma\u001b[0m\u001b[0;34m\u001b[0m\u001b[0;34m\u001b[0m\u001b[0m\n\u001b[0m",
      "\u001b[0;31mImportError\u001b[0m: cannot import name 'deal_na' from 'fin_var_helpers' (/home/dalab5/Projects/MA/fin_var_helpers.py)"
     ]
    }
   ],
   "source": [
    "from fin_var_helpers import deal_na, merge_fv_ma"
   ]
  },
  {
   "cell_type": "code",
   "execution_count": 47,
   "metadata": {
    "ExecuteTime": {
     "end_time": "2021-09-28T15:23:18.843906Z",
     "start_time": "2021-09-28T15:23:18.723599Z"
    }
   },
   "outputs": [
    {
     "name": "stdout",
     "output_type": "stream",
     "text": [
      "before append to fin variable, shape of data (32491, 41)\n"
     ]
    }
   ],
   "source": [
    "df_ma = pd.read_pickle(pjoin(tmp_data_path , f'sdc_gvkey_{s_year}_{e_year}.pickle'))\n",
    "df_fv_raw = pd.read_pickle(f'{tmp_data_path}/fv_raw_{s_year}_{e_year}.pickle')\n",
    "print(\"before append to fin variable, shape of data\",df_ma.shape)"
   ]
  },
  {
   "cell_type": "code",
   "execution_count": 39,
   "metadata": {
    "ExecuteTime": {
     "end_time": "2021-09-28T15:22:03.781455Z",
     "start_time": "2021-09-28T15:22:03.418054Z"
    }
   },
   "outputs": [
    {
     "name": "stdout",
     "output_type": "stream",
     "text": [
      "totally 12 number of financial features, tolerance of num of missing is: 6\n"
     ]
    }
   ],
   "source": [
    "df_fv_nona = deal_na(df_fv_raw, thres)"
   ]
  },
  {
   "cell_type": "code",
   "execution_count": 40,
   "metadata": {
    "ExecuteTime": {
     "end_time": "2021-09-28T15:22:07.125222Z",
     "start_time": "2021-09-28T15:22:07.022705Z"
    }
   },
   "outputs": [],
   "source": [
    "merged_fv_ma = merge_fv_ma(df_fv_nona, df_ma)"
   ]
  },
  {
   "cell_type": "code",
   "execution_count": 41,
   "metadata": {
    "ExecuteTime": {
     "end_time": "2021-09-28T15:22:07.708349Z",
     "start_time": "2021-09-28T15:22:07.681438Z"
    }
   },
   "outputs": [],
   "source": [
    "merged_fv_ma.drop(['GVKEY_A', 'GVKEY_T', 'YEAR_A', 'YEAR_T'], axis=1, inplace=True)"
   ]
  },
  {
   "cell_type": "markdown",
   "metadata": {},
   "source": [
    "Remove those self-acquire-self "
   ]
  },
  {
   "cell_type": "code",
   "execution_count": 42,
   "metadata": {
    "ExecuteTime": {
     "end_time": "2021-09-28T15:22:09.934585Z",
     "start_time": "2021-09-28T15:22:09.927072Z"
    }
   },
   "outputs": [
    {
     "data": {
      "text/plain": [
       "Index(['index', 'ACU', 'ASIC2', 'ABL', 'ANL', 'APUBC', 'AUP', 'AUPSIC',\n",
       "       'AUPBL', 'AUPNAMES', 'AUPPUB', 'BLOCK', 'CREEP', 'DA', 'DE', 'STATC',\n",
       "       'SYNOP', 'VAL', 'PCTACQ', 'PSOUGHTOWN', 'PSOUGHT', 'PHDA', 'PCTOWN',\n",
       "       'PSOUGHTT', 'PRIVATIZATION', 'DEAL_NO', 'TCU', 'TSIC2', 'TBL', 'TNL',\n",
       "       'TPUBC', 'TUP', 'TUPSIC', 'TUPBL', 'TUPNAMES', 'TUPPUB', 'SIC_A',\n",
       "       'SIC_T', 'YEAR', 'AGVKEY', 'TGVKEY', 'AT_A', 'SALE_A', 'M2B_A', 'LEV_A',\n",
       "       'ROA_A', 'PPE_A', 'CASH2ASSET_A', 'CASH2SALE_A', 'SALE2ASSET_A', 'CR_A',\n",
       "       'D_SALE_A', 'D_AT_A', 'N_NA_A', 'AT_T', 'SALE_T', 'M2B_T', 'LEV_T',\n",
       "       'ROA_T', 'PPE_T', 'CASH2ASSET_T', 'CASH2SALE_T', 'SALE2ASSET_T', 'CR_T',\n",
       "       'D_SALE_T', 'D_AT_T', 'N_NA_T'],\n",
       "      dtype='object')"
      ]
     },
     "execution_count": 42,
     "metadata": {},
     "output_type": "execute_result"
    }
   ],
   "source": [
    "merged_fv_ma.columns"
   ]
  },
  {
   "cell_type": "markdown",
   "metadata": {},
   "source": [
    "# Filter:\n",
    "1. drop acquirer itself\n",
    "1. drop deal number duplica\n"
   ]
  },
  {
   "cell_type": "code",
   "execution_count": 43,
   "metadata": {
    "ExecuteTime": {
     "end_time": "2021-09-28T15:22:11.328076Z",
     "start_time": "2021-09-28T15:22:11.291352Z"
    }
   },
   "outputs": [],
   "source": [
    "merged_fv_ma_no_self = merged_fv_ma[merged_fv_ma['AGVKEY'] != merged_fv_ma['TGVKEY']]"
   ]
  },
  {
   "cell_type": "code",
   "execution_count": 44,
   "metadata": {
    "ExecuteTime": {
     "end_time": "2021-09-28T15:22:27.506491Z",
     "start_time": "2021-09-28T15:22:27.433263Z"
    }
   },
   "outputs": [],
   "source": [
    "fv_ma_unique_deal_no = merged_fv_ma_no_self.groupby('DEAL_NO').first()"
   ]
  },
  {
   "cell_type": "code",
   "execution_count": 45,
   "metadata": {
    "ExecuteTime": {
     "end_time": "2021-09-28T15:22:28.072935Z",
     "start_time": "2021-09-28T15:22:28.063527Z"
    }
   },
   "outputs": [
    {
     "data": {
      "text/plain": [
       "(4542, 66)"
      ]
     },
     "execution_count": 45,
     "metadata": {},
     "output_type": "execute_result"
    }
   ],
   "source": [
    "fv_ma_unique_deal_no.shape"
   ]
  },
  {
   "cell_type": "code",
   "execution_count": 46,
   "metadata": {
    "ExecuteTime": {
     "end_time": "2021-09-28T15:22:29.068341Z",
     "start_time": "2021-09-28T15:22:29.013962Z"
    }
   },
   "outputs": [
    {
     "name": "stdout",
     "output_type": "stream",
     "text": [
      "fin_var merged sdc df shape =  (8699, 67)\n"
     ]
    }
   ],
   "source": [
    "print(\"fin_var merged sdc df shape = \", merged_fv_ma_no_self.shape)\n",
    "merged_fv_ma_no_self.to_pickle(f'{tmp_data_path}/merged_fv_ma_{s_year}_{e_year}.pickle')"
   ]
  },
  {
   "cell_type": "code",
   "execution_count": null,
   "metadata": {},
   "outputs": [],
   "source": []
  }
 ],
 "metadata": {
  "kernelspec": {
   "display_name": "GNN",
   "language": "python",
   "name": "gnn"
  },
  "language_info": {
   "codemirror_mode": {
    "name": "ipython",
    "version": 3
   },
   "file_extension": ".py",
   "mimetype": "text/x-python",
   "name": "python",
   "nbconvert_exporter": "python",
   "pygments_lexer": "ipython3",
   "version": "3.8.10"
  },
  "latex_envs": {
   "LaTeX_envs_menu_present": true,
   "autoclose": false,
   "autocomplete": true,
   "bibliofile": "biblio.bib",
   "cite_by": "apalike",
   "current_citInitial": 1,
   "eqLabelWithNumbers": true,
   "eqNumInitial": 1,
   "hotkeys": {
    "equation": "Ctrl-E",
    "itemize": "Ctrl-I"
   },
   "labels_anchors": false,
   "latex_user_defs": false,
   "report_style_numbering": false,
   "user_envs_cfg": false
  },
  "toc": {
   "base_numbering": 1,
   "nav_menu": {},
   "number_sections": true,
   "sideBar": true,
   "skip_h1_title": false,
   "title_cell": "Table of Contents",
   "title_sidebar": "Contents",
   "toc_cell": false,
   "toc_position": {},
   "toc_section_display": true,
   "toc_window_display": false
  }
 },
 "nbformat": 4,
 "nbformat_minor": 4
}
