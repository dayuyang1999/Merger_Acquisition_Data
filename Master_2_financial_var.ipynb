{
 "cells": [
  {
   "cell_type": "code",
   "execution_count": 1,
   "metadata": {
    "ExecuteTime": {
     "end_time": "2021-10-11T18:06:20.337521Z",
     "start_time": "2021-10-11T18:06:19.684356Z"
    }
   },
   "outputs": [],
   "source": [
    "import numpy as np\n",
    "import pandas as pd\n",
    "import wrds\n",
    "import pickle\n",
    "from scipy.stats.mstats import winsorize\n"
   ]
  },
  {
   "cell_type": "code",
   "execution_count": 2,
   "metadata": {
    "ExecuteTime": {
     "end_time": "2021-10-11T18:25:52.145839Z",
     "start_time": "2021-10-11T18:25:52.141951Z"
    }
   },
   "outputs": [],
   "source": [
    "tmp_data_path =  '../MA_data/data/tmp'\n",
    "data_path = '../MA_data/data'\n",
    "s_year = 1997\n",
    "e_year = 2020"
   ]
  },
  {
   "cell_type": "markdown",
   "metadata": {},
   "source": [
    "# create ratios\n",
    "\n",
    "\n",
    "run [Appendix 2.1](./Appendix_2.1_prepare_fin_vars.ipynb)"
   ]
  },
  {
   "cell_type": "markdown",
   "metadata": {},
   "source": [
    "# Linking with financial Vars \n",
    "\n",
    "\n",
    "Do not actually link each SDC observation to Fin variables. Just check if:\n",
    "- ACU, AUP, TCU, TUP's fin var could be found in corresponding year"
   ]
  },
  {
   "cell_type": "code",
   "execution_count": 5,
   "metadata": {
    "ExecuteTime": {
     "end_time": "2021-10-11T18:27:12.462979Z",
     "start_time": "2021-10-11T18:27:12.395894Z"
    }
   },
   "outputs": [],
   "source": [
    "sdc_df = pd.read_pickle(tmp_data_path+'/merged_analysable.pickle')"
   ]
  },
  {
   "cell_type": "code",
   "execution_count": 6,
   "metadata": {
    "ExecuteTime": {
     "end_time": "2021-10-11T18:27:15.681225Z",
     "start_time": "2021-10-11T18:27:15.606593Z"
    }
   },
   "outputs": [],
   "source": [
    "ratios = pd.read_pickle(tmp_data_path+f'/fv_raw_{s_year}_{e_year}.pickle')"
   ]
  },
  {
   "cell_type": "code",
   "execution_count": 7,
   "metadata": {
    "ExecuteTime": {
     "end_time": "2021-10-11T18:27:22.601904Z",
     "start_time": "2021-10-11T18:27:22.595056Z"
    }
   },
   "outputs": [
    {
     "data": {
      "text/plain": [
       "Index(['gvkey', 'year', 'at', 'sale', 'ch', 'rdip', 'm2b', 'lev', 'roa', 'ppe',\n",
       "       'cash2asset', 'cash2sale', 'sale2asset', 'cr', 'gsi', 'de', 'roe',\n",
       "       'd_sale', 'd_at'],\n",
       "      dtype='object')"
      ]
     },
     "execution_count": 7,
     "metadata": {},
     "output_type": "execute_result"
    }
   ],
   "source": [
    "ratios.columns"
   ]
  },
  {
   "cell_type": "code",
   "execution_count": 12,
   "metadata": {
    "ExecuteTime": {
     "end_time": "2021-10-11T18:27:47.723187Z",
     "start_time": "2021-10-11T18:27:47.687047Z"
    }
   },
   "outputs": [
    {
     "data": {
      "text/plain": [
       "array(['10000', '100004', '100011', ..., '9988', '9993', '9999'],\n",
       "      dtype=object)"
      ]
     },
     "execution_count": 12,
     "metadata": {},
     "output_type": "execute_result"
    }
   ],
   "source": []
  },
  {
   "cell_type": "code",
   "execution_count": null,
   "metadata": {},
   "outputs": [],
   "source": []
  }
 ],
 "metadata": {
  "kernelspec": {
   "display_name": "GNN",
   "language": "python",
   "name": "gnn"
  },
  "language_info": {
   "codemirror_mode": {
    "name": "ipython",
    "version": 3
   },
   "file_extension": ".py",
   "mimetype": "text/x-python",
   "name": "python",
   "nbconvert_exporter": "python",
   "pygments_lexer": "ipython3",
   "version": "3.8.10"
  },
  "latex_envs": {
   "LaTeX_envs_menu_present": true,
   "autoclose": false,
   "autocomplete": true,
   "bibliofile": "biblio.bib",
   "cite_by": "apalike",
   "current_citInitial": 1,
   "eqLabelWithNumbers": true,
   "eqNumInitial": 1,
   "hotkeys": {
    "equation": "Ctrl-E",
    "itemize": "Ctrl-I"
   },
   "labels_anchors": false,
   "latex_user_defs": false,
   "report_style_numbering": false,
   "user_envs_cfg": false
  },
  "toc": {
   "base_numbering": 1,
   "nav_menu": {},
   "number_sections": true,
   "sideBar": true,
   "skip_h1_title": false,
   "title_cell": "Table of Contents",
   "title_sidebar": "Contents",
   "toc_cell": false,
   "toc_position": {},
   "toc_section_display": true,
   "toc_window_display": false
  }
 },
 "nbformat": 4,
 "nbformat_minor": 4
}
