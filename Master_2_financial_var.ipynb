{
 "cells": [
  {
   "cell_type": "code",
   "execution_count": 2,
   "metadata": {
    "ExecuteTime": {
     "end_time": "2021-10-30T19:10:39.536523Z",
     "start_time": "2021-10-30T19:10:39.048972Z"
    }
   },
   "outputs": [],
   "source": [
    "import numpy as np\n",
    "import pandas as pd\n",
    "import wrds\n",
    "import pickle\n",
    "from scipy.stats.mstats import winsorize\n",
    "from tqdm import tqdm"
   ]
  },
  {
   "cell_type": "code",
   "execution_count": 3,
   "metadata": {
    "ExecuteTime": {
     "end_time": "2021-10-30T19:10:40.003728Z",
     "start_time": "2021-10-30T19:10:39.999876Z"
    }
   },
   "outputs": [],
   "source": [
    "tmp_data_path =  '../MA_data/data/tmp'\n",
    "data_path = '../MA_data/data'\n",
    "s_year = 1997-1\n",
    "e_year = 2020"
   ]
  },
  {
   "cell_type": "code",
   "execution_count": 113,
   "metadata": {
    "ExecuteTime": {
     "end_time": "2021-10-28T01:32:42.270914Z",
     "start_time": "2021-10-28T01:32:42.256046Z"
    }
   },
   "outputs": [],
   "source": [
    "def intepolation(df):\n",
    "    '''\n",
    "    first, interpolate using historical data for specific firms(not global)\n",
    "    after this, if the variable still has mising ratio > 10%, drop\n",
    "    finally, interpolate using global mean\n",
    "    \n",
    "    '''\n",
    "    # some helpers\n",
    "    def interpolate_group_mean(df):\n",
    "        '''\n",
    "        first two columns are not fv; they are: gvkey, year\n",
    "\n",
    "        '''\n",
    "        df.replace([np.inf, -np.inf], np.nan, inplace=True)\n",
    "\n",
    "        for colname in tqdm(df.columns[2:]):\n",
    "            # impute na with mean of itself\n",
    "            df[colname] = df.groupby(\"gvkey\")[colname].transform(lambda x: x.fillna(x.mean()))\n",
    "        return df\n",
    "    def print_missing_ratio(df):\n",
    "        print(df.isna().sum()/df.shape[0])\n",
    "\n",
    "    def intepolate_global_mean(df):\n",
    "        df = df.reset_index(drop = True)\n",
    "        for colname in df[2:]:\n",
    "            df[colname].fillna(value=df[colname].mean(skipna=True), inplace=True)\n",
    "        return df\n",
    "    \n",
    "    \n",
    "    \n",
    "    \n",
    "    \n",
    "    def __main__(df):\n",
    "        \n",
    "        print(\"original missing ratios: \")\n",
    "        print_missing_ratio(df)\n",
    "\n",
    "        df = interpolate_group_mean(df)\n",
    "        print(\"after group interpolation, missing ratios: \")\n",
    "        print_missing_ratio(df)\n",
    "\n",
    "        helper = pd.DataFrame(df.isna().sum()/df.shape[0]).reset_index(drop=False)\n",
    "        helper.columns = ['vars', 'missing_ratio']\n",
    "\n",
    "        keep_colums = helper[helper.missing_ratio <= 0.1].vars.values.tolist()\n",
    "        print(\"drop those columns:\", helper[helper.missing_ratio > 0.1].vars.values.tolist())\n",
    "        df = df[keep_colums] # only keep those columns\n",
    "\n",
    "\n",
    "        helper.columns = ['vars', 'missing_ratio']\n",
    "        df = intepolate_global_mean(df)\n",
    "        print(\"after global interpolation, missing ratios: \")\n",
    "        print_missing_ratio(df)    \n",
    "\n",
    "        #df.to_pickle(tmp_data_path+\"/full_fv.pickle\")\n",
    "        return df\n",
    "\n",
    "    df = df.copy()\n",
    "\n",
    "    df = __main__(df)\n",
    "    return df\n",
    "    "
   ]
  },
  {
   "cell_type": "markdown",
   "metadata": {
    "heading_collapsed": true
   },
   "source": [
    "# create ratios\n",
    "\n",
    "\n",
    "run [Appendix 2.1](./Appendix_2.1_prepare_fin_vars.ipynb)"
   ]
  },
  {
   "cell_type": "markdown",
   "metadata": {},
   "source": [
    "# Dealing with missing values\n",
    "- for those has at least one year data, using the last time data to intepolate\n",
    "- just use mean to interpolate all missing values\n",
    "    - may be intepolate before making ratios are a better solution... at least part of the number is correct"
   ]
  },
  {
   "cell_type": "code",
   "execution_count": 109,
   "metadata": {
    "ExecuteTime": {
     "end_time": "2021-10-28T01:30:51.315768Z",
     "start_time": "2021-10-28T01:30:51.207278Z"
    }
   },
   "outputs": [],
   "source": [
    "df_fv_raw = pd.read_pickle(f'{tmp_data_path}/fv_raw_{s_year}_{e_year}.pickle')"
   ]
  },
  {
   "cell_type": "code",
   "execution_count": 117,
   "metadata": {
    "ExecuteTime": {
     "end_time": "2021-10-28T01:40:16.623677Z",
     "start_time": "2021-10-28T01:40:16.575121Z"
    }
   },
   "outputs": [],
   "source": [
    "with open(tmp_data_path+f\"/tnic_info_3_pairs_{1996}_{2019}\", 'rb') as f:\n",
    "    gvkey_lsts, key_ind_maps , ind_key_maps = pickle.load(f)"
   ]
  },
  {
   "cell_type": "code",
   "execution_count": 137,
   "metadata": {
    "ExecuteTime": {
     "end_time": "2021-10-28T02:07:15.353118Z",
     "start_time": "2021-10-28T02:07:15.073526Z"
    }
   },
   "outputs": [],
   "source": [
    "df_lst = []\n",
    "for year in range(1996, 2019+1):\n",
    "    df_fv_year_gvkey = df_fv_raw[df_fv_raw.gvkey.isin(gvkey_lsts[year]) & (df_fv_raw.year == year)]\n",
    "    df_lst.append(df_fv_year_gvkey)"
   ]
  },
  {
   "cell_type": "code",
   "execution_count": 138,
   "metadata": {
    "ExecuteTime": {
     "end_time": "2021-10-28T02:08:18.645168Z",
     "start_time": "2021-10-28T02:08:18.625418Z"
    }
   },
   "outputs": [],
   "source": [
    "df_fv_raw_2 = pd.concat(df_lst)"
   ]
  },
  {
   "cell_type": "code",
   "execution_count": 141,
   "metadata": {
    "ExecuteTime": {
     "end_time": "2021-10-28T02:09:38.415117Z",
     "start_time": "2021-10-28T02:08:58.666214Z"
    }
   },
   "outputs": [
    {
     "name": "stdout",
     "output_type": "stream",
     "text": [
      "original missing ratios: \n",
      "gvkey         0.000000\n",
      "year          0.000000\n",
      "at            0.244232\n",
      "sale          0.266473\n",
      "ch            0.700699\n",
      "rdip          0.890508\n",
      "m2b           0.788636\n",
      "lev           0.692813\n",
      "roa           0.252675\n",
      "ppe           0.315130\n",
      "cash2asset    0.700788\n",
      "cash2sale     0.745760\n",
      "sale2asset    0.293834\n",
      "cr            0.836334\n",
      "gsi           0.746518\n",
      "de            0.699481\n",
      "roe           0.697433\n",
      "d_sale        0.423453\n",
      "d_at          0.364457\n",
      "dtype: float64\n"
     ]
    },
    {
     "name": "stderr",
     "output_type": "stream",
     "text": [
      "100%|██████████| 17/17 [00:38<00:00,  2.29s/it]\n"
     ]
    },
    {
     "name": "stdout",
     "output_type": "stream",
     "text": [
      "after group interpolation, missing ratios: \n",
      "gvkey         0.000000\n",
      "year          0.000000\n",
      "at            0.006524\n",
      "sale          0.004854\n",
      "ch            0.239039\n",
      "rdip          0.513559\n",
      "m2b           0.286705\n",
      "lev           0.233499\n",
      "roa           0.007120\n",
      "ppe           0.020152\n",
      "cash2asset    0.239063\n",
      "cash2sale     0.257110\n",
      "sale2asset    0.008725\n",
      "cr            0.426187\n",
      "gsi           0.409873\n",
      "de            0.235902\n",
      "roe           0.236088\n",
      "d_sale        0.037401\n",
      "d_at          0.023143\n",
      "dtype: float64\n",
      "drop those columns: ['rdip', 'cr', 'gsi']\n",
      "after global interpolation, missing ratios: \n",
      "gvkey         0.0\n",
      "year          0.0\n",
      "at            0.0\n",
      "sale          0.0\n",
      "ch            0.0\n",
      "rdip          0.0\n",
      "m2b           0.0\n",
      "lev           0.0\n",
      "roa           0.0\n",
      "ppe           0.0\n",
      "cash2asset    0.0\n",
      "cash2sale     0.0\n",
      "sale2asset    0.0\n",
      "cr            0.0\n",
      "gsi           0.0\n",
      "de            0.0\n",
      "roe           0.0\n",
      "d_sale        0.0\n",
      "d_at          0.0\n",
      "dtype: float64\n"
     ]
    }
   ],
   "source": [
    "tmp_df = intepolation(df_fv_raw_2)"
   ]
  },
  {
   "cell_type": "code",
   "execution_count": 143,
   "metadata": {
    "ExecuteTime": {
     "end_time": "2021-10-28T02:14:50.313486Z",
     "start_time": "2021-10-28T02:14:50.258716Z"
    }
   },
   "outputs": [],
   "source": [
    "with open(data_path+\"/fv_raw_full_1996_2019.pickle\", 'wb') as f:\n",
    "    pickle.dump(tmp_df, f)"
   ]
  },
  {
   "cell_type": "code",
   "execution_count": null,
   "metadata": {},
   "outputs": [],
   "source": []
  },
  {
   "cell_type": "code",
   "execution_count": 147,
   "metadata": {
    "ExecuteTime": {
     "end_time": "2021-10-28T02:16:45.712689Z",
     "start_time": "2021-10-28T02:16:45.685407Z"
    }
   },
   "outputs": [],
   "source": [
    "check = np.unique(tmp_df[tmp_df.year == 1996].gvkey.values).tolist()"
   ]
  },
  {
   "cell_type": "code",
   "execution_count": 148,
   "metadata": {
    "ExecuteTime": {
     "end_time": "2021-10-28T02:16:49.636169Z",
     "start_time": "2021-10-28T02:16:49.630700Z"
    }
   },
   "outputs": [
    {
     "data": {
      "text/plain": [
       "7528"
      ]
     },
     "execution_count": 148,
     "metadata": {},
     "output_type": "execute_result"
    }
   ],
   "source": [
    "len(check)"
   ]
  },
  {
   "cell_type": "code",
   "execution_count": null,
   "metadata": {},
   "outputs": [],
   "source": []
  },
  {
   "cell_type": "code",
   "execution_count": null,
   "metadata": {},
   "outputs": [],
   "source": []
  },
  {
   "cell_type": "markdown",
   "metadata": {},
   "source": [
    "## Deal with NA, but only for frequent acquirers\n",
    "- watch out that you don't necesserily need the fv of focal firms every year!"
   ]
  },
  {
   "cell_type": "code",
   "execution_count": 106,
   "metadata": {
    "ExecuteTime": {
     "end_time": "2021-10-28T01:19:27.809620Z",
     "start_time": "2021-10-28T01:19:27.739703Z"
    }
   },
   "outputs": [],
   "source": [
    "sdc_tnic = pd.read_pickle(tmp_data_path+f\"/sdc_tnic_{s_year+1}_{e_year}\")"
   ]
  },
  {
   "cell_type": "code",
   "execution_count": null,
   "metadata": {},
   "outputs": [],
   "source": []
  },
  {
   "cell_type": "code",
   "execution_count": null,
   "metadata": {},
   "outputs": [],
   "source": []
  },
  {
   "cell_type": "code",
   "execution_count": 94,
   "metadata": {
    "ExecuteTime": {
     "end_time": "2021-10-21T17:40:25.175068Z",
     "start_time": "2021-10-21T17:40:25.158719Z"
    }
   },
   "outputs": [
    {
     "name": "stdout",
     "output_type": "stream",
     "text": [
      "totally 511 numbers of frequent Acquirers\n"
     ]
    }
   ],
   "source": [
    "A_freq = pd.DataFrame(sdc_tnic.AGVKEY.value_counts()).reset_index(drop=False)\n",
    "A_freq = A_freq[A_freq.AGVKEY >= 5]\n",
    "A_freq.columns = [\"GVKEY\", \"freq\"]\n",
    "print(f\"totally {A_freq.shape[0]} numbers of frequent Acquirers\")"
   ]
  },
  {
   "cell_type": "code",
   "execution_count": 104,
   "metadata": {
    "ExecuteTime": {
     "end_time": "2021-10-21T17:43:29.096880Z",
     "start_time": "2021-10-21T17:43:27.796765Z"
    },
    "scrolled": false
   },
   "outputs": [
    {
     "name": "stdout",
     "output_type": "stream",
     "text": [
      "original missing ratios: \n",
      "gvkey         0.000000\n",
      "year          0.000000\n",
      "at            0.000000\n",
      "sale          0.000365\n",
      "ch            0.038560\n",
      "rdip          0.243482\n",
      "m2b           0.089335\n",
      "lev           0.029170\n",
      "roa           0.000000\n",
      "ppe           0.008113\n",
      "cash2asset    0.038560\n",
      "cash2sale     0.041021\n",
      "sale2asset    0.000365\n",
      "cr            0.287147\n",
      "gsi           0.222425\n",
      "de            0.030356\n",
      "roe           0.030356\n",
      "d_sale        0.007657\n",
      "d_at          0.000000\n",
      "dtype: float64\n"
     ]
    },
    {
     "name": "stderr",
     "output_type": "stream",
     "text": [
      "100%|██████████| 17/17 [00:01<00:00, 13.47it/s]"
     ]
    },
    {
     "name": "stdout",
     "output_type": "stream",
     "text": [
      "after group interpolation, missing ratios: \n",
      "gvkey         0.000000\n",
      "year          0.000000\n",
      "at            0.000000\n",
      "sale          0.000365\n",
      "ch            0.038560\n",
      "rdip          0.243482\n",
      "m2b           0.089335\n",
      "lev           0.029170\n",
      "roa           0.000000\n",
      "ppe           0.008113\n",
      "cash2asset    0.038560\n",
      "cash2sale     0.041021\n",
      "sale2asset    0.000365\n",
      "cr            0.287147\n",
      "gsi           0.222425\n",
      "de            0.030356\n",
      "roe           0.030356\n",
      "d_sale        0.007657\n",
      "d_at          0.000000\n",
      "dtype: float64\n",
      "drop those columns: ['rdip', 'cr', 'gsi']\n",
      "after global interpolation, missing ratios: \n",
      "gvkey         0.0\n",
      "year          0.0\n",
      "at            0.0\n",
      "sale          0.0\n",
      "ch            0.0\n",
      "m2b           0.0\n",
      "lev           0.0\n",
      "roa           0.0\n",
      "ppe           0.0\n",
      "cash2asset    0.0\n",
      "cash2sale     0.0\n",
      "sale2asset    0.0\n",
      "de            0.0\n",
      "roe           0.0\n",
      "d_sale        0.0\n",
      "d_at          0.0\n",
      "dtype: float64\n"
     ]
    },
    {
     "name": "stderr",
     "output_type": "stream",
     "text": [
      "\n"
     ]
    }
   ],
   "source": [
    "full_ratios = intepolation(ratios_raw_afreq)"
   ]
  },
  {
   "cell_type": "code",
   "execution_count": 1,
   "metadata": {
    "ExecuteTime": {
     "end_time": "2021-10-30T19:09:52.462141Z",
     "start_time": "2021-10-30T19:09:52.413713Z"
    }
   },
   "outputs": [
    {
     "ename": "NameError",
     "evalue": "name 'full_ratios' is not defined",
     "output_type": "error",
     "traceback": [
      "\u001b[0;31m---------------------------------------------------------------------------\u001b[0m",
      "\u001b[0;31mNameError\u001b[0m                                 Traceback (most recent call last)",
      "\u001b[0;32m<ipython-input-1-f81f43c28e68>\u001b[0m in \u001b[0;36m<module>\u001b[0;34m\u001b[0m\n\u001b[0;32m----> 1\u001b[0;31m \u001b[0mfull_ratios\u001b[0m\u001b[0;34m\u001b[0m\u001b[0;34m\u001b[0m\u001b[0m\n\u001b[0m",
      "\u001b[0;31mNameError\u001b[0m: name 'full_ratios' is not defined"
     ]
    }
   ],
   "source": [
    "full_ratios"
   ]
  },
  {
   "cell_type": "code",
   "execution_count": null,
   "metadata": {},
   "outputs": [],
   "source": []
  },
  {
   "cell_type": "code",
   "execution_count": null,
   "metadata": {},
   "outputs": [],
   "source": []
  },
  {
   "cell_type": "code",
   "execution_count": null,
   "metadata": {},
   "outputs": [],
   "source": []
  },
  {
   "cell_type": "markdown",
   "metadata": {},
   "source": [
    "# normalize every columns by:\n",
    "\n",
    "\n",
    "$$z_{i}=\\frac{x_{i}-\\min (x)}{\\max (x)-\\min (x)}$$"
   ]
  },
  {
   "cell_type": "code",
   "execution_count": 4,
   "metadata": {
    "ExecuteTime": {
     "end_time": "2021-10-30T19:10:44.712773Z",
     "start_time": "2021-10-30T19:10:44.703502Z"
    }
   },
   "outputs": [],
   "source": [
    "with open(tmp_data_path+\"/afreq_full_fv.pickle\", \"rb\") as f:\n",
    "    fv = pickle.load(f)"
   ]
  },
  {
   "cell_type": "code",
   "execution_count": 31,
   "metadata": {
    "ExecuteTime": {
     "end_time": "2021-10-30T19:19:12.230422Z",
     "start_time": "2021-10-30T19:19:12.212800Z"
    }
   },
   "outputs": [],
   "source": [
    "new_fv = pd.concat([fv.iloc[:,:2], N01_normalize(fv.iloc[:, 2:])], axis=1)"
   ]
  },
  {
   "cell_type": "code",
   "execution_count": 32,
   "metadata": {
    "ExecuteTime": {
     "end_time": "2021-10-30T19:19:12.457115Z",
     "start_time": "2021-10-30T19:19:12.451729Z"
    }
   },
   "outputs": [
    {
     "data": {
      "text/plain": [
       "(10970, 16)"
      ]
     },
     "execution_count": 32,
     "metadata": {},
     "output_type": "execute_result"
    }
   ],
   "source": [
    "fv.shape"
   ]
  },
  {
   "cell_type": "code",
   "execution_count": 33,
   "metadata": {
    "ExecuteTime": {
     "end_time": "2021-10-30T19:19:12.654225Z",
     "start_time": "2021-10-30T19:19:12.648891Z"
    }
   },
   "outputs": [
    {
     "data": {
      "text/plain": [
       "(10970, 16)"
      ]
     },
     "execution_count": 33,
     "metadata": {},
     "output_type": "execute_result"
    }
   ],
   "source": [
    "new_fv.shape"
   ]
  },
  {
   "cell_type": "code",
   "execution_count": 34,
   "metadata": {
    "ExecuteTime": {
     "end_time": "2021-10-30T19:19:16.664043Z",
     "start_time": "2021-10-30T19:19:16.636459Z"
    }
   },
   "outputs": [
    {
     "data": {
      "text/html": [
       "<div>\n",
       "<style scoped>\n",
       "    .dataframe tbody tr th:only-of-type {\n",
       "        vertical-align: middle;\n",
       "    }\n",
       "\n",
       "    .dataframe tbody tr th {\n",
       "        vertical-align: top;\n",
       "    }\n",
       "\n",
       "    .dataframe thead th {\n",
       "        text-align: right;\n",
       "    }\n",
       "</style>\n",
       "<table border=\"1\" class=\"dataframe\">\n",
       "  <thead>\n",
       "    <tr style=\"text-align: right;\">\n",
       "      <th></th>\n",
       "      <th>gvkey</th>\n",
       "      <th>year</th>\n",
       "      <th>at</th>\n",
       "      <th>sale</th>\n",
       "      <th>ch</th>\n",
       "      <th>m2b</th>\n",
       "      <th>lev</th>\n",
       "      <th>roa</th>\n",
       "      <th>ppe</th>\n",
       "      <th>cash2asset</th>\n",
       "      <th>cash2sale</th>\n",
       "      <th>sale2asset</th>\n",
       "      <th>de</th>\n",
       "      <th>roe</th>\n",
       "      <th>d_sale</th>\n",
       "      <th>d_at</th>\n",
       "    </tr>\n",
       "  </thead>\n",
       "  <tbody>\n",
       "    <tr>\n",
       "      <th>0</th>\n",
       "      <td>10000</td>\n",
       "      <td>1996</td>\n",
       "      <td>-0.278443</td>\n",
       "      <td>-0.461856</td>\n",
       "      <td>-0.248260</td>\n",
       "      <td>-0.504117</td>\n",
       "      <td>0.719369</td>\n",
       "      <td>-0.010192</td>\n",
       "      <td>-0.106231</td>\n",
       "      <td>-0.694390</td>\n",
       "      <td>-0.371059</td>\n",
       "      <td>0.845787</td>\n",
       "      <td>-0.030604</td>\n",
       "      <td>-0.075038</td>\n",
       "      <td>-0.056590</td>\n",
       "      <td>-0.126479</td>\n",
       "    </tr>\n",
       "    <tr>\n",
       "      <th>1</th>\n",
       "      <td>10000</td>\n",
       "      <td>1997</td>\n",
       "      <td>-0.278727</td>\n",
       "      <td>-0.467743</td>\n",
       "      <td>-0.246081</td>\n",
       "      <td>-0.371932</td>\n",
       "      <td>0.675835</td>\n",
       "      <td>-0.253207</td>\n",
       "      <td>-0.044381</td>\n",
       "      <td>-0.432318</td>\n",
       "      <td>-0.327141</td>\n",
       "      <td>0.549244</td>\n",
       "      <td>-0.014330</td>\n",
       "      <td>-0.184290</td>\n",
       "      <td>-0.173109</td>\n",
       "      <td>-0.205551</td>\n",
       "    </tr>\n",
       "    <tr>\n",
       "      <th>2</th>\n",
       "      <td>10000</td>\n",
       "      <td>1998</td>\n",
       "      <td>-0.279059</td>\n",
       "      <td>-0.464487</td>\n",
       "      <td>-0.244889</td>\n",
       "      <td>-0.360806</td>\n",
       "      <td>0.118326</td>\n",
       "      <td>0.167571</td>\n",
       "      <td>-0.079297</td>\n",
       "      <td>-0.240541</td>\n",
       "      <td>-0.315782</td>\n",
       "      <td>0.989718</td>\n",
       "      <td>-0.086256</td>\n",
       "      <td>-0.012041</td>\n",
       "      <td>0.011778</td>\n",
       "      <td>-0.219277</td>\n",
       "    </tr>\n",
       "    <tr>\n",
       "      <th>3</th>\n",
       "      <td>10000</td>\n",
       "      <td>1999</td>\n",
       "      <td>-0.278853</td>\n",
       "      <td>-0.464166</td>\n",
       "      <td>-0.241853</td>\n",
       "      <td>-0.465665</td>\n",
       "      <td>0.350748</td>\n",
       "      <td>-0.082727</td>\n",
       "      <td>-0.152754</td>\n",
       "      <td>0.093981</td>\n",
       "      <td>-0.268768</td>\n",
       "      <td>0.891562</td>\n",
       "      <td>-0.061353</td>\n",
       "      <td>-0.108727</td>\n",
       "      <td>-0.058656</td>\n",
       "      <td>-0.107886</td>\n",
       "    </tr>\n",
       "    <tr>\n",
       "      <th>4</th>\n",
       "      <td>10000</td>\n",
       "      <td>2000</td>\n",
       "      <td>-0.278061</td>\n",
       "      <td>-0.454646</td>\n",
       "      <td>-0.245271</td>\n",
       "      <td>-0.425630</td>\n",
       "      <td>0.466069</td>\n",
       "      <td>0.347284</td>\n",
       "      <td>-0.369497</td>\n",
       "      <td>-0.318317</td>\n",
       "      <td>-0.320687</td>\n",
       "      <td>1.144396</td>\n",
       "      <td>-0.048136</td>\n",
       "      <td>-0.095024</td>\n",
       "      <td>-0.056590</td>\n",
       "      <td>-0.126479</td>\n",
       "    </tr>\n",
       "    <tr>\n",
       "      <th>5</th>\n",
       "      <td>10000</td>\n",
       "      <td>2001</td>\n",
       "      <td>-0.278061</td>\n",
       "      <td>-0.454646</td>\n",
       "      <td>-0.245271</td>\n",
       "      <td>-0.425630</td>\n",
       "      <td>0.466069</td>\n",
       "      <td>0.347284</td>\n",
       "      <td>-0.369497</td>\n",
       "      <td>-0.318317</td>\n",
       "      <td>-0.320687</td>\n",
       "      <td>1.144396</td>\n",
       "      <td>-0.048136</td>\n",
       "      <td>-0.095024</td>\n",
       "      <td>-0.056590</td>\n",
       "      <td>-0.126479</td>\n",
       "    </tr>\n",
       "    <tr>\n",
       "      <th>6</th>\n",
       "      <td>10000</td>\n",
       "      <td>2002</td>\n",
       "      <td>-0.278061</td>\n",
       "      <td>-0.454646</td>\n",
       "      <td>-0.245271</td>\n",
       "      <td>-0.425630</td>\n",
       "      <td>0.466069</td>\n",
       "      <td>0.347284</td>\n",
       "      <td>-0.369497</td>\n",
       "      <td>-0.318317</td>\n",
       "      <td>-0.320687</td>\n",
       "      <td>1.144396</td>\n",
       "      <td>-0.048136</td>\n",
       "      <td>-0.095024</td>\n",
       "      <td>-0.056590</td>\n",
       "      <td>-0.126479</td>\n",
       "    </tr>\n",
       "    <tr>\n",
       "      <th>7</th>\n",
       "      <td>10000</td>\n",
       "      <td>2003</td>\n",
       "      <td>-0.278061</td>\n",
       "      <td>-0.454646</td>\n",
       "      <td>-0.245271</td>\n",
       "      <td>-0.425630</td>\n",
       "      <td>0.466069</td>\n",
       "      <td>0.347284</td>\n",
       "      <td>-0.369497</td>\n",
       "      <td>-0.318317</td>\n",
       "      <td>-0.320687</td>\n",
       "      <td>1.144396</td>\n",
       "      <td>-0.048136</td>\n",
       "      <td>-0.095024</td>\n",
       "      <td>-0.056590</td>\n",
       "      <td>-0.126479</td>\n",
       "    </tr>\n",
       "    <tr>\n",
       "      <th>8</th>\n",
       "      <td>10000</td>\n",
       "      <td>2004</td>\n",
       "      <td>-0.278061</td>\n",
       "      <td>-0.454646</td>\n",
       "      <td>-0.245271</td>\n",
       "      <td>-0.425630</td>\n",
       "      <td>0.466069</td>\n",
       "      <td>0.347284</td>\n",
       "      <td>-0.369497</td>\n",
       "      <td>-0.318317</td>\n",
       "      <td>-0.320687</td>\n",
       "      <td>1.144396</td>\n",
       "      <td>-0.048136</td>\n",
       "      <td>-0.095024</td>\n",
       "      <td>-0.056590</td>\n",
       "      <td>-0.126479</td>\n",
       "    </tr>\n",
       "    <tr>\n",
       "      <th>9</th>\n",
       "      <td>10000</td>\n",
       "      <td>2005</td>\n",
       "      <td>-0.278061</td>\n",
       "      <td>-0.454646</td>\n",
       "      <td>-0.245271</td>\n",
       "      <td>-0.425630</td>\n",
       "      <td>0.466069</td>\n",
       "      <td>0.347284</td>\n",
       "      <td>-0.369497</td>\n",
       "      <td>-0.318317</td>\n",
       "      <td>-0.320687</td>\n",
       "      <td>1.144396</td>\n",
       "      <td>-0.048136</td>\n",
       "      <td>-0.095024</td>\n",
       "      <td>-0.056590</td>\n",
       "      <td>-0.126479</td>\n",
       "    </tr>\n",
       "  </tbody>\n",
       "</table>\n",
       "</div>"
      ],
      "text/plain": [
       "   gvkey  year        at      sale        ch       m2b       lev       roa  \\\n",
       "0  10000  1996 -0.278443 -0.461856 -0.248260 -0.504117  0.719369 -0.010192   \n",
       "1  10000  1997 -0.278727 -0.467743 -0.246081 -0.371932  0.675835 -0.253207   \n",
       "2  10000  1998 -0.279059 -0.464487 -0.244889 -0.360806  0.118326  0.167571   \n",
       "3  10000  1999 -0.278853 -0.464166 -0.241853 -0.465665  0.350748 -0.082727   \n",
       "4  10000  2000 -0.278061 -0.454646 -0.245271 -0.425630  0.466069  0.347284   \n",
       "5  10000  2001 -0.278061 -0.454646 -0.245271 -0.425630  0.466069  0.347284   \n",
       "6  10000  2002 -0.278061 -0.454646 -0.245271 -0.425630  0.466069  0.347284   \n",
       "7  10000  2003 -0.278061 -0.454646 -0.245271 -0.425630  0.466069  0.347284   \n",
       "8  10000  2004 -0.278061 -0.454646 -0.245271 -0.425630  0.466069  0.347284   \n",
       "9  10000  2005 -0.278061 -0.454646 -0.245271 -0.425630  0.466069  0.347284   \n",
       "\n",
       "        ppe  cash2asset  cash2sale  sale2asset        de       roe    d_sale  \\\n",
       "0 -0.106231   -0.694390  -0.371059    0.845787 -0.030604 -0.075038 -0.056590   \n",
       "1 -0.044381   -0.432318  -0.327141    0.549244 -0.014330 -0.184290 -0.173109   \n",
       "2 -0.079297   -0.240541  -0.315782    0.989718 -0.086256 -0.012041  0.011778   \n",
       "3 -0.152754    0.093981  -0.268768    0.891562 -0.061353 -0.108727 -0.058656   \n",
       "4 -0.369497   -0.318317  -0.320687    1.144396 -0.048136 -0.095024 -0.056590   \n",
       "5 -0.369497   -0.318317  -0.320687    1.144396 -0.048136 -0.095024 -0.056590   \n",
       "6 -0.369497   -0.318317  -0.320687    1.144396 -0.048136 -0.095024 -0.056590   \n",
       "7 -0.369497   -0.318317  -0.320687    1.144396 -0.048136 -0.095024 -0.056590   \n",
       "8 -0.369497   -0.318317  -0.320687    1.144396 -0.048136 -0.095024 -0.056590   \n",
       "9 -0.369497   -0.318317  -0.320687    1.144396 -0.048136 -0.095024 -0.056590   \n",
       "\n",
       "       d_at  \n",
       "0 -0.126479  \n",
       "1 -0.205551  \n",
       "2 -0.219277  \n",
       "3 -0.107886  \n",
       "4 -0.126479  \n",
       "5 -0.126479  \n",
       "6 -0.126479  \n",
       "7 -0.126479  \n",
       "8 -0.126479  \n",
       "9 -0.126479  "
      ]
     },
     "execution_count": 34,
     "metadata": {},
     "output_type": "execute_result"
    }
   ],
   "source": [
    "new_fv[:10]"
   ]
  },
  {
   "cell_type": "code",
   "execution_count": 15,
   "metadata": {
    "ExecuteTime": {
     "end_time": "2021-10-30T19:14:15.791380Z",
     "start_time": "2021-10-30T19:14:15.784678Z"
    }
   },
   "outputs": [],
   "source": [
    "df = np.array(fv.copy().iloc[:, 2:])"
   ]
  },
  {
   "cell_type": "code",
   "execution_count": 16,
   "metadata": {
    "ExecuteTime": {
     "end_time": "2021-10-30T19:14:16.007054Z",
     "start_time": "2021-10-30T19:14:16.002175Z"
    }
   },
   "outputs": [],
   "source": [
    "def N01_normalize(df):\n",
    "    '''\n",
    "    df could be df or array\n",
    "    '''\n",
    "    df = df.copy()\n",
    "    normalized_df=(df-df.mean())/df.std()\n",
    "    return normalized_df\n",
    "    \n",
    "    "
   ]
  },
  {
   "cell_type": "code",
   "execution_count": 18,
   "metadata": {
    "ExecuteTime": {
     "end_time": "2021-10-30T19:14:24.395415Z",
     "start_time": "2021-10-30T19:14:24.386198Z"
    }
   },
   "outputs": [
    {
     "data": {
      "text/plain": [
       "array([[-0.08097418, -0.07891585, -0.09413372, ..., -0.0942313 ,\n",
       "        -0.09423232, -0.09423187],\n",
       "       [-0.08198573, -0.08235314, -0.093876  , ..., -0.09423288,\n",
       "        -0.09423746, -0.09423431],\n",
       "       [-0.08316517, -0.08045187, -0.09373493, ..., -0.09423039,\n",
       "        -0.0942293 , -0.09423474],\n",
       "       ...,\n",
       "       [11.1920295 ,  3.53028412, -0.06740071, ..., -0.09422907,\n",
       "        -0.09423137, -0.0942285 ],\n",
       "       [11.61229562,  3.75224745, -0.06740071, ..., -0.09422907,\n",
       "        -0.0942314 , -0.0942319 ],\n",
       "       [11.0625226 ,  3.55054942, -0.06740071, ..., -0.09422907,\n",
       "        -0.09423381, -0.09423369]])"
      ]
     },
     "execution_count": 18,
     "metadata": {},
     "output_type": "execute_result"
    }
   ],
   "source": [
    "N01_normalize(df)"
   ]
  },
  {
   "cell_type": "code",
   "execution_count": 17,
   "metadata": {
    "ExecuteTime": {
     "end_time": "2021-10-30T19:14:17.961389Z",
     "start_time": "2021-10-30T19:14:17.955861Z"
    }
   },
   "outputs": [
    {
     "data": {
      "text/plain": [
       "(10970, 14)"
      ]
     },
     "execution_count": 17,
     "metadata": {},
     "output_type": "execute_result"
    }
   ],
   "source": [
    "normalized_df.shape"
   ]
  },
  {
   "cell_type": "code",
   "execution_count": null,
   "metadata": {},
   "outputs": [],
   "source": []
  }
 ],
 "metadata": {
  "kernelspec": {
   "display_name": "GNN",
   "language": "python",
   "name": "gnn"
  },
  "language_info": {
   "codemirror_mode": {
    "name": "ipython",
    "version": 3
   },
   "file_extension": ".py",
   "mimetype": "text/x-python",
   "name": "python",
   "nbconvert_exporter": "python",
   "pygments_lexer": "ipython3",
   "version": "3.8.10"
  },
  "latex_envs": {
   "LaTeX_envs_menu_present": true,
   "autoclose": false,
   "autocomplete": true,
   "bibliofile": "biblio.bib",
   "cite_by": "apalike",
   "current_citInitial": 1,
   "eqLabelWithNumbers": true,
   "eqNumInitial": 1,
   "hotkeys": {
    "equation": "Ctrl-E",
    "itemize": "Ctrl-I"
   },
   "labels_anchors": false,
   "latex_user_defs": false,
   "report_style_numbering": false,
   "user_envs_cfg": false
  },
  "toc": {
   "base_numbering": 1,
   "nav_menu": {},
   "number_sections": true,
   "sideBar": true,
   "skip_h1_title": false,
   "title_cell": "Table of Contents",
   "title_sidebar": "Contents",
   "toc_cell": false,
   "toc_position": {},
   "toc_section_display": true,
   "toc_window_display": false
  }
 },
 "nbformat": 4,
 "nbformat_minor": 4
}
