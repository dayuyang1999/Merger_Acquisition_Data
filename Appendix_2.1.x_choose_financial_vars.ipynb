{
 "cells": [
  {
   "cell_type": "markdown",
   "metadata": {},
   "source": [
    "# Reference"
   ]
  },
  {
   "cell_type": "markdown",
   "metadata": {},
   "source": [
    "## According to Appendix A of Bernard et al. (2020), we need the following `COMPUSTAT` variables to compute financial ratios.\n"
   ]
  },
  {
   "cell_type": "markdown",
   "metadata": {},
   "source": [
    "he use:\n",
    "\n",
    "- size ✅\n",
    "- market-to-book ratio ✅\n",
    "- leverage ✅\n",
    "- ROA ✅\n",
    "    - (return on asset)\n",
    "- sale growth ✅\n",
    "- cash ✅\n",
    "- PPE (the only one did not mentioned by Yang et al.) ✅\n",
    "    - firm's net planet, property by total assets\n",
    "\n"
   ]
  },
  {
   "cell_type": "markdown",
   "metadata": {},
   "source": [
    "## Yang et al.* gives a comprehensive list of varibles and sources:\n",
    "\n",
    "\n",
    "Financial:\n",
    "- size \n",
    "- market-to-book ratio\n",
    "- cash\n",
    "- ROA\n",
    "- sales to total assets (assets turnover) *NEW ✅\n",
    "- debt-to-equity ratio ✅\n",
    "    - =leverage\n",
    "- current ratio ? ✅\n",
    "    - current asset / current liability\n",
    "- ROE *NEW\n",
    "    - return on equity\n",
    "- debt-to-assets *NEW\n",
    "- capital expenditures to total asset *NEW\n",
    "- capital expenditures to total asset growth *NEW\n",
    "- sale growth \n",
    "\n",
    "- Cash flow to total asset ratio NEW✅\n",
    "- cash flow to sale ratio NEW✅\n",
    "- asset growth NEW ✅\n",
    "-\n",
    "\n",
    "Other financial variables..\n",
    "- cost-to-income ratio *NEW\n",
    "- cost of goods sold divided by inventory *NEW\n",
    "- outperformance *NEW\n",
    "- tax shield effects *NEW\n",
    "- ratio of tangible assets to total assets *NEW\n",
    "- return on investment *NEW\n",
    "- profit margin *NEW\n",
    "- average dividend for last three years *NEW\n",
    "- shareholders' equity *NEW\n",
    "- earnins before interest and taxes  *NEW\n",
    "- operating income after depreciation *NEW\n",
    "- common shares traded divided by common shares outstanding *NEW\n",
    "\n",
    "\n",
    "\n",
    "Managemental:\n",
    "- management inefficiency\n",
    "- resource richness\n",
    "- industry variations\n",
    "- relevance degree of business boundaries\n",
    "- export orientation\n",
    "- age of the firm\n",
    "\n",
    "\n",
    "\n",
    "\n",
    "**SEE table 2 of Yang et al. 2014** for the final variables Yang used.\n",
    "\n",
    "\n",
    "*Yang, Chin-Sheng, Chih-Ping Wei, and Yu-Hsun Chiang. 2014. “Exploiting Technological Indicators for Effective Technology Merger and Acquisition (M&A) Predictions.” Decision Sciences 45 (1): 147–174."
   ]
  },
  {
   "cell_type": "markdown",
   "metadata": {},
   "source": [
    "\\footnote{The abbreviations follow Compustat. For looking up the detail of each variable, see https://wrds-www.wharton.upenn.edu/data-dictionary/form_metadata/comp_na_daily_all_funda_balancesheetitems/ and attach the variable name after the URL link. For example, to see the complete description of \"Cash\" variable, see here https://wrds-www.wharton.upenn.edu/data-dictionary/form_metadata/comp_na_daily_all_funda_balancesheetitems/ch }"
   ]
  },
  {
   "cell_type": "markdown",
   "metadata": {},
   "source": [
    "# Our adoption: \n",
    "\n",
    "\n",
    "| Variable               | Formula                          | Definition                                                          |\n",
    "|------------------------|----------------------------------|---------------------------------------------------------------------|\n",
    "|                        |        **Bernard et al. (2020) Appendix A**     |                                                                     |\n",
    "| Size                 | $at$                               | A firm’s total assets                                               |\n",
    "| Market-to-book ratio | $(at+prcc_f*csho-ceq-txdb)/at$     | Market-to-book assets ratio                            |\n",
    "| Leverage             | $(dlc+dltt)/at$                    | Book leverage                                         |\n",
    "| ROA                  | $ib/at$                            | Return-on-assets                                      |\n",
    "| Sales growth         | $(sale_{t}-sale_{t-1})/sale_{t-1}$ | Sales growth                                            |\n",
    "| PPE                  | $ppent/at$                         | A firm’s net plant, property, and equipment, scaled by total assets |\n",
    "| Cash | $ch$ | Cash|\n",
    "|                        |  **Yang et al (2014)  Table 2**     |                                                                     |\n",
    "| Sale                 | $sale$                             | A firm’s net sales                                                  |\n",
    "| Cash-to-asset ratio  | $ch/at$                            | Cash flow to total assets ratio                          |\n",
    "| Cash-to-sales ratio  | $ch/sale$                          | Cash flow to sales ratio                         |\n",
    "| Sales-to-asset ratio | $sale/at$                          | Net sales/total assets                                              |\n",
    "| Current ratio        | $act/lct$                          | Current assets scaled by its current liabilities          |\n",
    "| Asset growth         | $(at_{t}-at_{t-1})/at_{t-1}$       | Total asset growth                           \n",
    "| GSI | $cogs/invt$ | Cost of goods sold divided by inventory |\n",
    "| DE| $(dlc+dltt)/CEQ$| Debt to common equity|\n",
    "|R\\&D|$rdip$|In process R\\&D expense|\n",
    "|ROE|$ib/ceq$| Return on equity|"
   ]
  },
  {
   "cell_type": "markdown",
   "metadata": {},
   "source": [
    "Finally, if classify variables by types:\n",
    "\n",
    "|                                | Bernald? | Yang? |\n",
    "| ------------------------------ | -------- | ----- |\n",
    "| **holding assets of a firm**       |          |       |\n",
    "| size                           | 1        | 1     |\n",
    "| market-to-book asset ratio     | 1        | 1     |\n",
    "| PPE                            | 1        | 0     |\n",
    "| cash                           | 1        | 0     |\n",
    "| cash/asset                     | 0        | 1     |\n",
    "| cash/sale                      | 0        | 1     |\n",
    "| current ratio(asset/liability) | 0        | 1     |\n",
    "| asset growth                   | 0        | 1     |\n",
    "|                                |          |       |\n",
    "| **leverage**                       |          |       |\n",
    "| book leverage(debt/asset)      | 1        | 1     |\n",
    "| debt/equity                    | 0        | 1     |\n",
    "|                                |          |       |\n",
    "| **Business Operation**             |          |       |\n",
    "| ROA: return on asset           | 1        | 1     |\n",
    "| sale                           | 0        | 1     |\n",
    "| sale growth                    | 1        | 1     |\n",
    "| sale/asset                     | 0        | 1     |\n",
    "| cost of goods sold/inventory   | 0        | 1     |\n",
    "| ROE                            | 0        | 1     |\n",
    "|                                |          |       |\n",
    "|                                |          |       |\n",
    "| **R&D**                            |          |       |\n",
    "| in process RD                  | 0        | 0     |"
   ]
  },
  {
   "cell_type": "code",
   "execution_count": null,
   "metadata": {},
   "outputs": [],
   "source": []
  }
 ],
 "metadata": {
  "kernelspec": {
   "display_name": "GNN",
   "language": "python",
   "name": "gnn"
  },
  "language_info": {
   "codemirror_mode": {
    "name": "ipython",
    "version": 3
   },
   "file_extension": ".py",
   "mimetype": "text/x-python",
   "name": "python",
   "nbconvert_exporter": "python",
   "pygments_lexer": "ipython3",
   "version": "3.8.10"
  },
  "latex_envs": {
   "LaTeX_envs_menu_present": true,
   "autoclose": false,
   "autocomplete": true,
   "bibliofile": "biblio.bib",
   "cite_by": "apalike",
   "current_citInitial": 1,
   "eqLabelWithNumbers": true,
   "eqNumInitial": 1,
   "hotkeys": {
    "equation": "Ctrl-E",
    "itemize": "Ctrl-I"
   },
   "labels_anchors": false,
   "latex_user_defs": false,
   "report_style_numbering": false,
   "user_envs_cfg": false
  },
  "toc": {
   "base_numbering": 1,
   "nav_menu": {},
   "number_sections": true,
   "sideBar": true,
   "skip_h1_title": false,
   "title_cell": "Table of Contents",
   "title_sidebar": "Contents",
   "toc_cell": false,
   "toc_position": {},
   "toc_section_display": true,
   "toc_window_display": false
  }
 },
 "nbformat": 4,
 "nbformat_minor": 4
}
