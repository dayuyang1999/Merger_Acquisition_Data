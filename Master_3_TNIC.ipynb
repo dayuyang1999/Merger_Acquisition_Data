{
 "cells": [
  {
   "cell_type": "code",
   "execution_count": 90,
   "metadata": {
    "ExecuteTime": {
     "end_time": "2021-10-12T23:39:25.427206Z",
     "start_time": "2021-10-12T23:39:25.421994Z"
    }
   },
   "outputs": [],
   "source": [
    "import pandas as pd\n",
    "import numpy as np\n",
    "import warnings"
   ]
  },
  {
   "cell_type": "code",
   "execution_count": 144,
   "metadata": {
    "ExecuteTime": {
     "end_time": "2021-10-13T03:04:18.987179Z",
     "start_time": "2021-10-13T03:04:18.983234Z"
    }
   },
   "outputs": [],
   "source": [
    "tmp_data_path = '../MA_data/data/tmp/'\n",
    "data_path = '../MA_data/data/'\n",
    "\n",
    "s_year = 1997-1\n",
    "e_year = 2020-1"
   ]
  },
  {
   "cell_type": "code",
   "execution_count": 92,
   "metadata": {
    "ExecuteTime": {
     "end_time": "2021-10-12T23:39:25.460863Z",
     "start_time": "2021-10-12T23:39:25.451767Z"
    }
   },
   "outputs": [],
   "source": [
    "def load_tnic(data_path, s_year, e_year):\n",
    "    tnic3 =  pd.read_csv(data_path+'tnic3_data/tnic3_data.txt', delimiter = '\\t' )\n",
    "    tnic = tnic3[(tnic3['year'] <= e_year) & (tnic3['year'] >= s_year)]\n",
    "\n",
    "\n",
    "    tnic['gvkey1'] = tnic['gvkey1'].astype(str)\n",
    "    tnic['gvkey2'] = tnic['gvkey2'].astype(str)\n",
    "\n",
    "    tnic = tnic.dropna(subset=['score'])\n",
    "    return tnic\n",
    "    "
   ]
  },
  {
   "cell_type": "code",
   "execution_count": 108,
   "metadata": {
    "ExecuteTime": {
     "end_time": "2021-10-13T02:17:24.285168Z",
     "start_time": "2021-10-13T02:17:24.272473Z"
    }
   },
   "outputs": [],
   "source": [
    "def get_gvkeylst_adj(tnic, year, top_peer=10, get_adj=False, weighted=False):\n",
    "\n",
    "    def add_rank(df):\n",
    "        df['rank'] = df.groupby('gvkey1')['score'].rank('dense', ascending=False)\n",
    "        df['rank'] = df['rank'].astype(int)\n",
    "        return df\n",
    "    \n",
    "    tnic_year = tnic[tnic.year == year]\n",
    "\n",
    "    tnic_year = add_rank(tnic_year)\n",
    "    tnic_year_top = tnic_year[tnic_year['rank'] <= top_peer].reset_index(drop=True)\n",
    "    \n",
    "    \n",
    "    gvkey_arr = np.unique(tnic_year_top.gvkey1.unique())\n",
    "    gvkey_lst = list(gvkey_arr)\n",
    "    N = len(gvkey_lst)\n",
    "    \n",
    "    gvkey_index_mapping = {value:index for index, value in enumerate(gvkey_lst)}\n",
    "    index_gvkey_mapping = {index:value for index, value in enumerate(gvkey_lst)}\n",
    "    #return tnic_year_top, gvkey_arr gvkey_index_mapping, index_gvkey_mapping\n",
    "    if get_adj:\n",
    "        adj = np.zeros((N,N))\n",
    "        \n",
    "        for _, row in tnic_year_top.iterrows():\n",
    "            \n",
    "            gvkey1 = row['gvkey1']\n",
    "            gvkey2 = row['gvkey2']\n",
    "            score = row['score']\n",
    "            \n",
    "            index1 = gvkey_index_mapping[gvkey1]\n",
    "            index2 = gvkey_index_mapping[gvkey2]\n",
    "#            print(index1, index2)\n",
    "            \n",
    "            \n",
    "            \n",
    "            if weighted:\n",
    "                adj[index1, index2] = score\n",
    "            else:\n",
    "                adj[index1, index2] = 1\n",
    "            \n",
    "        \n",
    "        return gvkey_lst, gvkey_index_mapping, index_gvkey_mapping,   adj    \n",
    "    else:\n",
    "        return gvkey_lst, gvkey_index_mapping, index_gvkey_mapping\n",
    "    \n",
    "    \n",
    "    \n",
    "    "
   ]
  },
  {
   "cell_type": "code",
   "execution_count": null,
   "metadata": {},
   "outputs": [],
   "source": []
  },
  {
   "cell_type": "code",
   "execution_count": null,
   "metadata": {},
   "outputs": [],
   "source": []
  },
  {
   "cell_type": "code",
   "execution_count": null,
   "metadata": {},
   "outputs": [],
   "source": []
  },
  {
   "cell_type": "code",
   "execution_count": null,
   "metadata": {},
   "outputs": [],
   "source": []
  },
  {
   "cell_type": "code",
   "execution_count": null,
   "metadata": {},
   "outputs": [],
   "source": []
  },
  {
   "cell_type": "code",
   "execution_count": null,
   "metadata": {},
   "outputs": [],
   "source": []
  },
  {
   "cell_type": "code",
   "execution_count": null,
   "metadata": {},
   "outputs": [],
   "source": []
  },
  {
   "cell_type": "markdown",
   "metadata": {},
   "source": [
    "# Decide 4 types of MA\n",
    "\n",
    "- SS\n",
    "- PP\n",
    "- PS\n",
    "- SP\n",
    "\n",
    "if  P, then the influence of deal is minor for P.\n",
    "if  S, then the influence of deal is major for S."
   ]
  },
  {
   "cell_type": "markdown",
   "metadata": {},
   "source": [
    "Recall Master_1:\n",
    "\n",
    "| ACU ok | AUP  ok | TCU ok | TUP ok | mark as                                           |\n",
    "|------------------|-------------------|------------------|-------------------|---------------------------------------------------|\n",
    "| 1                | 1                 | 1                | 1                 | 1                                                 |\n",
    "| 1                | 1                 | 1                | 0                 | 2                                                 |\n",
    "| 1                | 1                 | 0                | 1                 | 3                                                 |\n",
    "| 1                | 0                 | 1                | 1                 | 4                                                 |\n",
    "| 1                | 0                 | 1                | 0                 | 5                                                 |\n",
    "| 1                | 0                 | 0                | 1                 | 6                                                 |\n",
    "| 0                | 1                 | 1                | 1                 | 7                                                 |\n",
    "| 0                | 1                 | 1                | 0                 | 8                                                 |\n",
    "| 0                | 1                 | 0                | 1                 | 9                                                 |\n",
    "|                  |                   |                  |                   | all other combination is certainly unanalysiable |\n",
    "\n",
    "$\\begin{array}{cl}0 & 130066 \\\\ 2 & 32609 \\\\ 6 & 10990 \\\\ 5 & 9219 \\\\ 8 & 7693 \\\\ 3 & 5720 \\\\ 1 & 3136 \\\\ 9 & 2277 \\\\ 4 & 1691 \\\\ 7 & 374\\end{array}$\n",
    "\n",
    "\n",
    "For those deal has multiple \"identify\" choices (like condition 1, it could be identified by any of 4 conditions), we want to make sure those GVKEY could be found in TNIC.\n",
    "\n",
    "\n",
    "**Only 1, 2, 3, 4 has multiple choices**\n"
   ]
  },
  {
   "cell_type": "markdown",
   "metadata": {},
   "source": [
    "## create list of gvkey list of each year"
   ]
  },
  {
   "cell_type": "markdown",
   "metadata": {},
   "source": [
    "### Load data"
   ]
  },
  {
   "cell_type": "code",
   "execution_count": 145,
   "metadata": {
    "ExecuteTime": {
     "end_time": "2021-10-13T03:04:28.382518Z",
     "start_time": "2021-10-13T03:04:28.328311Z"
    }
   },
   "outputs": [],
   "source": [
    "sdc_df = pd.read_pickle(tmp_data_path+f'/sdc_analysable_{s_year+1}_{e_year+1}.pickle')"
   ]
  },
  {
   "cell_type": "code",
   "execution_count": 146,
   "metadata": {
    "ExecuteTime": {
     "end_time": "2021-10-13T03:04:29.307260Z",
     "start_time": "2021-10-13T03:04:29.300623Z"
    }
   },
   "outputs": [
    {
     "data": {
      "text/plain": [
       "array([1997, 1998, 1999, 2000, 2001, 2002, 2003, 2004, 2005, 2006, 2007,\n",
       "       2008, 2009, 2010, 2011, 2012, 2013, 2014, 2015, 2016, 2017, 2018,\n",
       "       2019, 2020])"
      ]
     },
     "execution_count": 146,
     "metadata": {},
     "output_type": "execute_result"
    }
   ],
   "source": [
    "sdc_df.YEAR.unique()"
   ]
  },
  {
   "cell_type": "code",
   "execution_count": 147,
   "metadata": {
    "ExecuteTime": {
     "end_time": "2021-10-13T03:04:59.851185Z",
     "start_time": "2021-10-13T03:04:37.792713Z"
    }
   },
   "outputs": [
    {
     "name": "stderr",
     "output_type": "stream",
     "text": [
      "<ipython-input-133-ec7000184eb7>:6: SettingWithCopyWarning: \n",
      "A value is trying to be set on a copy of a slice from a DataFrame.\n",
      "Try using .loc[row_indexer,col_indexer] = value instead\n",
      "\n",
      "See the caveats in the documentation: https://pandas.pydata.org/pandas-docs/stable/user_guide/indexing.html#returning-a-view-versus-a-copy\n",
      "  tnic['gvkey1'] = tnic['gvkey1'].astype(str)\n",
      "<ipython-input-133-ec7000184eb7>:7: SettingWithCopyWarning: \n",
      "A value is trying to be set on a copy of a slice from a DataFrame.\n",
      "Try using .loc[row_indexer,col_indexer] = value instead\n",
      "\n",
      "See the caveats in the documentation: https://pandas.pydata.org/pandas-docs/stable/user_guide/indexing.html#returning-a-view-versus-a-copy\n",
      "  tnic['gvkey2'] = tnic['gvkey2'].astype(str)\n"
     ]
    }
   ],
   "source": [
    "tnic = load_tnic(data_path, s_year, e_year)"
   ]
  },
  {
   "cell_type": "code",
   "execution_count": 148,
   "metadata": {
    "ExecuteTime": {
     "end_time": "2021-10-13T03:05:04.877497Z",
     "start_time": "2021-10-13T03:04:59.852683Z"
    }
   },
   "outputs": [],
   "source": [
    "gvkey_lsts = {}\n",
    "key_ind_maps = {}\n",
    "ind_key_maps = {}\n",
    "\n",
    "\n",
    "with warnings.catch_warnings():\n",
    "    warnings.simplefilter(\"ignore\")\n",
    "    for year in range(s_year, e_year+1, 1): # year are integers\n",
    "        gvkey_lsts[year], key_ind_maps[year], ind_key_maps[year] = get_gvkeylst_adj(tnic, year)\n",
    "    "
   ]
  },
  {
   "cell_type": "code",
   "execution_count": 149,
   "metadata": {
    "ExecuteTime": {
     "end_time": "2021-10-13T03:05:04.882603Z",
     "start_time": "2021-10-13T03:05:04.879281Z"
    }
   },
   "outputs": [
    {
     "data": {
      "text/plain": [
       "Index(['ACU', 'ASIC2', 'ABL', 'ANL', 'APUBC', 'AUP', 'AUPSIC', 'AUPBL',\n",
       "       'AUPNAMES', 'AUPPUB', 'BLOCK', 'CREEP', 'DA', 'DE', 'STATC', 'SYNOP',\n",
       "       'VAL', 'PCTACQ', 'PSOUGHTOWN', 'PSOUGHT', 'PHDA', 'PCTOWN', 'PSOUGHTT',\n",
       "       'PRIVATIZATION', 'DEAL_NO', 'TCU', 'TSIC2', 'TBL', 'TNL', 'TPUBC',\n",
       "       'TUP', 'TUPSIC', 'TUPBL', 'TUPNAMES', 'TUPPUB', 'SIC_A', 'SIC_T',\n",
       "       'YEAR', 'AS_PERMNO', 'AP_PERMNO', 'TS_PERMNO', 'TP_PERMNO', 'AS_GVKEY',\n",
       "       'AP_GVKEY', 'TS_GVKEY', 'TP_GVKEY', 'GVKEY_STATUS'],\n",
       "      dtype='object')"
      ]
     },
     "execution_count": 149,
     "metadata": {},
     "output_type": "execute_result"
    }
   ],
   "source": [
    "sdc_df.columns"
   ]
  },
  {
   "cell_type": "code",
   "execution_count": 150,
   "metadata": {
    "ExecuteTime": {
     "end_time": "2021-10-13T03:05:04.913098Z",
     "start_time": "2021-10-13T03:05:04.883771Z"
    }
   },
   "outputs": [
    {
     "name": "stdout",
     "output_type": "stream",
     "text": [
      "7192\n",
      "7157\n",
      "6973\n",
      "6734\n",
      "6431\n",
      "5855\n",
      "5408\n",
      "5023\n",
      "4880\n",
      "4804\n",
      "4778\n",
      "4704\n",
      "4449\n",
      "4197\n",
      "4055\n",
      "3954\n",
      "3850\n",
      "3932\n",
      "4085\n",
      "4046\n",
      "3911\n",
      "3871\n",
      "3845\n",
      "3825\n"
     ]
    }
   ],
   "source": [
    "\n",
    "for y in range(s_year, e_year+1):\n",
    "    print(len(gvkey_lsts[y]))"
   ]
  },
  {
   "cell_type": "markdown",
   "metadata": {},
   "source": [
    "priority(1st to last): \n",
    "+ SS\n",
    "+ SP\n",
    "+ PS\n",
    "+ PP"
   ]
  },
  {
   "cell_type": "markdown",
   "metadata": {},
   "source": [
    "## mark"
   ]
  },
  {
   "cell_type": "code",
   "execution_count": 164,
   "metadata": {
    "ExecuteTime": {
     "end_time": "2021-10-13T03:12:51.566877Z",
     "start_time": "2021-10-13T03:12:51.540846Z"
    }
   },
   "outputs": [],
   "source": [
    "def mark_ma_type(df):\n",
    "    '''\n",
    "    SDC should match with most-recent-previous-year-update TNIC and Compustat\n",
    "    \n",
    "    '''\n",
    "    \n",
    "    def helper(row):\n",
    "        if row.GVKEY_STATUS == '1': # 4 Scenarios, there is priority\n",
    "            if (row.AS_GVKEY in gvkey_lsts[row.YEAR-1]) & (row.TS_GVKEY in gvkey_lsts[row.YEAR-1]) & (row.AS_GVKEY != row.TS_GVKEY):\n",
    "                return 'SS'\n",
    "            elif (row.AS_GVKEY in gvkey_lsts[row.YEAR-1]) & (row.TP_GVKEY in gvkey_lsts[row.YEAR-1]) & (row.AS_GVKEY != row.TP_GVKEY):\n",
    "                return \"SP\"\n",
    "            elif (row.AP_GVKEY in gvkey_lsts[row.YEAR-1]) & (row.TS_GVKEY in gvkey_lsts[row.YEAR-1]) & (row.AP_GVKEY != row.TS_GVKEY):\n",
    "                return \"PS\"\n",
    "            elif (row.AP_GVKEY in gvkey_lsts[row.YEAR-1]) & (row.TP_GVKEY in gvkey_lsts[row.YEAR-1]) & (row.AP_GVKEY != row.TP_GVKEY):\n",
    "                return \"PP\"\n",
    "            else:\n",
    "                return \"XX\"\n",
    "            \n",
    "            \n",
    "        elif row.GVKEY_STATUS == \"2\": # 2 Scenarios \n",
    "            if (row.AS_GVKEY in gvkey_lsts[row.YEAR-1]) & (row.TS_GVKEY in gvkey_lsts[row.YEAR-1]) & (row.AS_GVKEY != row.TS_GVKEY):\n",
    "                return \"SS\"\n",
    "            elif (row.AP_GVKEY in gvkey_lsts[row.YEAR-1]) & (row.TS_GVKEY in gvkey_lsts[row.YEAR-1]) & (row.AP_GVKEY != row.TS_GVKEY):\n",
    "                return \"PS\"\n",
    "            else:\n",
    "                return \"XX\"\n",
    "        elif row.GVKEY_STATUS == \"3\": # 2 Scenarios \n",
    "            if (row.AS_GVKEY in gvkey_lsts[row.YEAR-1]) & (row.TP_GVKEY in gvkey_lsts[row.YEAR-1]) & (row.AS_GVKEY != row.TP_GVKEY):\n",
    "                return \"SP\"\n",
    "            elif (row.AP_GVKEY in gvkey_lsts[row.YEAR-1]) & (row.TP_GVKEY in gvkey_lsts[row.YEAR-1]) & (row.AP_GVKEY != row.TP_GVKEY):\n",
    "                return \"PP\"\n",
    "            else:\n",
    "                return \"XX\"\n",
    "        elif row.GVKEY_STATUS == \"4\": # 2 Scenarios \n",
    "            if (row.AP_GVKEY in gvkey_lsts[row.YEAR-1]) & (row.TS_GVKEY in gvkey_lsts[row.YEAR-1]) & (row.AP_GVKEY != row.TS_GVKEY):\n",
    "                return \"PS\"\n",
    "            elif (row.AP_GVKEY in gvkey_lsts[row.YEAR-1]) & (row.TP_GVKEY in gvkey_lsts[row.YEAR-1]) & (row.AP_GVKEY != row.TP_GVKEY):\n",
    "                return \"PP\"\n",
    "            else:\n",
    "                return \"XX\"\n",
    "        elif row.GVKEY_STATUS == \"7\": # 2 Scenarios \n",
    "            if (row.AS_GVKEY in gvkey_lsts[row.YEAR-1]) & (row.TS_GVKEY in gvkey_lsts[row.YEAR-1]) & (row.AS_GVKEY != row.TS_GVKEY):\n",
    "                return \"SS\"\n",
    "            elif (row.AS_GVKEY in gvkey_lsts[row.YEAR-1]) & (row.TP_GVKEY in gvkey_lsts[row.YEAR-1]) & (row.AS_GVKEY != row.TP_GVKEY):\n",
    "                return \"SP\"\n",
    "            else:\n",
    "                return \"XX\"\n",
    "            \n",
    "            \n",
    "            \n",
    "        elif row.GVKEY_STATUS == \"5\": # 1 scenarios\n",
    "            if (row.AS_GVKEY in gvkey_lsts[row.YEAR-1]) & (row.TS_GVKEY in gvkey_lsts[row.YEAR-1]) & (row.AP_GVKEY != row.TS_GVKEY):\n",
    "                return \"SS\"\n",
    "            else:\n",
    "                return \"XX\"\n",
    "        elif row.GVKEY_STATUS == \"6\": # 1 scenarios\n",
    "            if (row.AS_GVKEY in gvkey_lsts[row.YEAR-1]) & (row.TP_GVKEY in gvkey_lsts[row.YEAR-1]) & (row.AP_GVKEY != row.TP_GVKEY):\n",
    "                return \"SP\"\n",
    "            else:\n",
    "                return \"XX\"\n",
    "        elif row.GVKEY_STATUS == \"8\": # 1 scenarios\n",
    "            if (row.AP_GVKEY in gvkey_lsts[row.YEAR-1]) & (row.TS_GVKEY in gvkey_lsts[row.YEAR-1]) & (row.AS_GVKEY != row.TS_GVKEY):\n",
    "                return \"PS\"\n",
    "            else:\n",
    "                return \"XX\"\n",
    "        elif row.GVKEY_STATUS == \"9\": # 1 scenarios\n",
    "            if (row.AP_GVKEY in gvkey_lsts[row.YEAR-1]) & (row.TP_GVKEY in gvkey_lsts[row.YEAR-1]) & (row.AS_GVKEY != row.TP_GVKEY):\n",
    "                return \"PP\"\n",
    "            else:\n",
    "                return \"XX\"\n",
    "        \n",
    "    df['MA_TYPE'] = df.apply(helper, axis=1)\n",
    "        \n",
    "    return df\n",
    "        \n",
    "        "
   ]
  },
  {
   "cell_type": "code",
   "execution_count": 165,
   "metadata": {
    "ExecuteTime": {
     "end_time": "2021-10-13T03:12:56.787141Z",
     "start_time": "2021-10-13T03:12:53.199737Z"
    }
   },
   "outputs": [],
   "source": [
    "sdc_df2 = mark_ma_type(sdc_df)"
   ]
  },
  {
   "cell_type": "code",
   "execution_count": 166,
   "metadata": {
    "ExecuteTime": {
     "end_time": "2021-10-13T03:12:56.793628Z",
     "start_time": "2021-10-13T03:12:56.788567Z"
    },
    "scrolled": true
   },
   "outputs": [
    {
     "data": {
      "text/plain": [
       "XX    6222\n",
       "SP    4097\n",
       "SS    3499\n",
       "PP    1404\n",
       "PS     167\n",
       "Name: MA_TYPE, dtype: int64"
      ]
     },
     "execution_count": 166,
     "metadata": {},
     "output_type": "execute_result"
    }
   ],
   "source": [
    "sdc_df2.MA_TYPE.value_counts()"
   ]
  },
  {
   "cell_type": "code",
   "execution_count": 167,
   "metadata": {
    "ExecuteTime": {
     "end_time": "2021-10-13T03:12:59.780611Z",
     "start_time": "2021-10-13T03:12:59.661501Z"
    }
   },
   "outputs": [
    {
     "name": "stdout",
     "output_type": "stream",
     "text": [
      "1997 XX    0.34949\n",
      "Name: MA_TYPE, dtype: float64\n",
      "1998 XX    0.34996\n",
      "Name: MA_TYPE, dtype: float64\n",
      "1999 XX    0.368715\n",
      "Name: MA_TYPE, dtype: float64\n",
      "2000 XX    0.413547\n",
      "Name: MA_TYPE, dtype: float64\n",
      "2001 XX    0.392553\n",
      "Name: MA_TYPE, dtype: float64\n",
      "2002 XX    0.389764\n",
      "Name: MA_TYPE, dtype: float64\n",
      "2003 XX    0.410691\n",
      "Name: MA_TYPE, dtype: float64\n",
      "2004 XX    0.451872\n",
      "Name: MA_TYPE, dtype: float64\n",
      "2005 XX    0.429568\n",
      "Name: MA_TYPE, dtype: float64\n",
      "2006 XX    0.472141\n",
      "Name: MA_TYPE, dtype: float64\n",
      "2007 XX    0.435364\n",
      "Name: MA_TYPE, dtype: float64\n",
      "2008 XX    0.432049\n",
      "Name: MA_TYPE, dtype: float64\n",
      "2009 XX    0.438384\n",
      "Name: MA_TYPE, dtype: float64\n",
      "2010 XX    0.499014\n",
      "Name: MA_TYPE, dtype: float64\n",
      "2011 XX    0.486667\n",
      "Name: MA_TYPE, dtype: float64\n",
      "2012 XX    0.425963\n",
      "Name: MA_TYPE, dtype: float64\n",
      "2013 XX    0.377315\n",
      "Name: MA_TYPE, dtype: float64\n",
      "2014 XX    0.355263\n",
      "Name: MA_TYPE, dtype: float64\n",
      "2015 XX    0.41629\n",
      "Name: MA_TYPE, dtype: float64\n",
      "2016 XX    0.354331\n",
      "Name: MA_TYPE, dtype: float64\n",
      "2017 XX    0.376404\n",
      "Name: MA_TYPE, dtype: float64\n",
      "2018 XX    0.380795\n",
      "Name: MA_TYPE, dtype: float64\n",
      "2019 XX    0.383459\n",
      "Name: MA_TYPE, dtype: float64\n",
      "2020 XX    0.441315\n",
      "Name: MA_TYPE, dtype: float64\n"
     ]
    }
   ],
   "source": [
    "for y in range(s_year+1, e_year+2):\n",
    "    print(y, sdc_df2[(sdc_df2.YEAR == y) & (sdc_df2.MA_TYPE == \"XX\")].MA_TYPE.value_counts()/ sdc_df2[(sdc_df2.YEAR == y)].shape[0])"
   ]
  },
  {
   "cell_type": "code",
   "execution_count": 171,
   "metadata": {
    "ExecuteTime": {
     "end_time": "2021-10-13T03:14:07.337214Z",
     "start_time": "2021-10-13T03:14:07.091608Z"
    }
   },
   "outputs": [],
   "source": [
    "sdc_df2[sdc_df2['MA_TYPE'] == \"XX\"].to_csv('../MA_data/test3.csv')"
   ]
  },
  {
   "cell_type": "code",
   "execution_count": null,
   "metadata": {},
   "outputs": [],
   "source": []
  }
 ],
 "metadata": {
  "kernelspec": {
   "display_name": "GNN",
   "language": "python",
   "name": "gnn"
  },
  "language_info": {
   "codemirror_mode": {
    "name": "ipython",
    "version": 3
   },
   "file_extension": ".py",
   "mimetype": "text/x-python",
   "name": "python",
   "nbconvert_exporter": "python",
   "pygments_lexer": "ipython3",
   "version": "3.8.10"
  },
  "latex_envs": {
   "LaTeX_envs_menu_present": true,
   "autoclose": false,
   "autocomplete": true,
   "bibliofile": "biblio.bib",
   "cite_by": "apalike",
   "current_citInitial": 1,
   "eqLabelWithNumbers": true,
   "eqNumInitial": 1,
   "hotkeys": {
    "equation": "Ctrl-E",
    "itemize": "Ctrl-I"
   },
   "labels_anchors": false,
   "latex_user_defs": false,
   "report_style_numbering": false,
   "user_envs_cfg": false
  },
  "toc": {
   "base_numbering": 1,
   "nav_menu": {},
   "number_sections": true,
   "sideBar": true,
   "skip_h1_title": false,
   "title_cell": "Table of Contents",
   "title_sidebar": "Contents",
   "toc_cell": false,
   "toc_position": {},
   "toc_section_display": true,
   "toc_window_display": false
  }
 },
 "nbformat": 4,
 "nbformat_minor": 4
}
