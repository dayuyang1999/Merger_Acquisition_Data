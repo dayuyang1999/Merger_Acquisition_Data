{
 "cells": [
  {
   "cell_type": "code",
   "execution_count": 224,
   "metadata": {
    "ExecuteTime": {
     "end_time": "2021-10-20T21:15:57.548146Z",
     "start_time": "2021-10-20T21:15:57.543875Z"
    }
   },
   "outputs": [],
   "source": [
    "import pandas as pd\n",
    "import numpy as np\n",
    "import warnings\n",
    "import pickle"
   ]
  },
  {
   "cell_type": "code",
   "execution_count": 225,
   "metadata": {
    "ExecuteTime": {
     "end_time": "2021-10-20T21:15:57.756836Z",
     "start_time": "2021-10-20T21:15:57.752208Z"
    }
   },
   "outputs": [],
   "source": [
    "tmp_data_path = '../MA_data/data/tmp/'\n",
    "data_path = '../MA_data/data/'\n",
    "\n",
    "s_year = 1997-1\n",
    "e_year = 2020-1\n",
    "\n",
    "read_new_tnic = True\n",
    "store_tnic_info = True"
   ]
  },
  {
   "cell_type": "code",
   "execution_count": 221,
   "metadata": {
    "ExecuteTime": {
     "end_time": "2021-10-14T01:17:52.871073Z",
     "start_time": "2021-10-14T01:17:52.864897Z"
    }
   },
   "outputs": [],
   "source": [
    "def load_tnic2(data_path, s_year, e_year):\n",
    "    tnic3 =  pd.read_csv(data_path+'tnic2_data/tnic2_data.txt', delimiter = '\\t' )\n",
    "    tnic = tnic3[(tnic3['year'] <= e_year) & (tnic3['year'] >= s_year)]\n",
    "\n",
    "\n",
    "    tnic['gvkey1'] = tnic['gvkey1'].astype(str)\n",
    "    tnic['gvkey2'] = tnic['gvkey2'].astype(str)\n",
    "\n",
    "    tnic = tnic.dropna(subset=['score'])\n",
    "    def add_rank(df):\n",
    "        df['yearly_rank'] = df.groupby(['year','gvkey1'])['score'].rank('dense', ascending=False)\n",
    "        df['yearly_rank'] = df['yearly_rank'].astype(int)\n",
    "        return df\n",
    "\n",
    "    tnic = add_rank(tnic)\n",
    "    return tnic\n",
    "    "
   ]
  },
  {
   "cell_type": "code",
   "execution_count": 226,
   "metadata": {
    "ExecuteTime": {
     "end_time": "2021-10-20T21:16:04.794236Z",
     "start_time": "2021-10-20T21:16:04.785363Z"
    }
   },
   "outputs": [],
   "source": [
    "def load_tnic3(data_path, s_year, e_year):\n",
    "    tnic3 =  pd.read_csv(data_path+'tnic3_data/tnic3_data.txt', delimiter = '\\t' )\n",
    "    tnic = tnic3[(tnic3['year'] <= e_year) & (tnic3['year'] >= s_year)]\n",
    "\n",
    "\n",
    "    tnic['gvkey1'] = tnic['gvkey1'].astype(str)\n",
    "    tnic['gvkey2'] = tnic['gvkey2'].astype(str)\n",
    "\n",
    "    tnic = tnic.dropna(subset=['score'])\n",
    "    def add_rank(df):\n",
    "        df['yearly_rank'] = df.groupby(['year','gvkey1'])['score'].rank('dense', ascending=False)\n",
    "        df['yearly_rank'] = df['yearly_rank'].astype(int)\n",
    "        return df\n",
    "\n",
    "    tnic = add_rank(tnic)\n",
    "    return tnic\n",
    "    "
   ]
  },
  {
   "cell_type": "code",
   "execution_count": 176,
   "metadata": {
    "ExecuteTime": {
     "end_time": "2021-10-13T03:25:45.112195Z",
     "start_time": "2021-10-13T03:25:45.100243Z"
    }
   },
   "outputs": [],
   "source": [
    "def get_gvkeylst_adj(tnic, year, top_peer=10, get_adj=False, weighted=False):\n",
    "\n",
    "#     def add_rank(df):\n",
    "#         df['rank'] = df.groupby('gvkey1')['score'].rank('dense', ascending=False)\n",
    "#         df['rank'] = df['rank'].astype(int)\n",
    "#         return df\n",
    "    \n",
    "     tnic_year = tnic[tnic.year == year]\n",
    "\n",
    "#     tnic_year = add_rank(tnic_year)\n",
    "\n",
    "    tnic_year_top = tnic_year[tnic_year['yearly_rank'] <= top_peer].reset_index(drop=True)\n",
    "    \n",
    "    \n",
    "    gvkey_arr = np.unique(tnic_year_top.gvkey1.unique())\n",
    "    gvkey_lst = list(gvkey_arr)\n",
    "    N = len(gvkey_lst)\n",
    "    \n",
    "    gvkey_index_mapping = {value:index for index, value in enumerate(gvkey_lst)}\n",
    "    index_gvkey_mapping = {index:value for index, value in enumerate(gvkey_lst)}\n",
    "    #return tnic_year_top, gvkey_arr gvkey_index_mapping, index_gvkey_mapping\n",
    "    if get_adj:\n",
    "        adj = np.zeros((N,N))\n",
    "        \n",
    "        for _, row in tnic_year_top.iterrows():\n",
    "            \n",
    "            gvkey1 = row['gvkey1']\n",
    "            gvkey2 = row['gvkey2']\n",
    "            score = row['score']\n",
    "            \n",
    "            index1 = gvkey_index_mapping[gvkey1]\n",
    "            index2 = gvkey_index_mapping[gvkey2]\n",
    "#            print(index1, index2)\n",
    "            \n",
    "            \n",
    "            \n",
    "            if weighted:\n",
    "                adj[index1, index2] = score\n",
    "            else:\n",
    "                adj[index1, index2] = 1\n",
    "            \n",
    "        \n",
    "        return gvkey_lst, gvkey_index_mapping, index_gvkey_mapping,   adj    \n",
    "    else:\n",
    "        return gvkey_lst, gvkey_index_mapping, index_gvkey_mapping\n",
    "    \n",
    "    \n",
    "    \n",
    "    "
   ]
  },
  {
   "cell_type": "code",
   "execution_count": null,
   "metadata": {},
   "outputs": [],
   "source": []
  },
  {
   "cell_type": "code",
   "execution_count": null,
   "metadata": {},
   "outputs": [],
   "source": []
  },
  {
   "cell_type": "code",
   "execution_count": null,
   "metadata": {},
   "outputs": [],
   "source": []
  },
  {
   "cell_type": "code",
   "execution_count": null,
   "metadata": {},
   "outputs": [],
   "source": []
  },
  {
   "cell_type": "code",
   "execution_count": null,
   "metadata": {},
   "outputs": [],
   "source": []
  },
  {
   "cell_type": "code",
   "execution_count": null,
   "metadata": {},
   "outputs": [],
   "source": []
  },
  {
   "cell_type": "markdown",
   "metadata": {},
   "source": [
    "# Decide 4 types of MA\n",
    "\n",
    "- SS\n",
    "- PP\n",
    "- PS\n",
    "- SP\n",
    "\n",
    "if  P, then the influence of deal is minor for P.\n",
    "if  S, then the influence of deal is major for S."
   ]
  },
  {
   "cell_type": "markdown",
   "metadata": {},
   "source": [
    "Recall Master_1:\n",
    "\n",
    "| ACU ok | AUP  ok | TCU ok | TUP ok | mark as                                           |\n",
    "|------------------|-------------------|------------------|-------------------|---------------------------------------------------|\n",
    "| 1                | 1                 | 1                | 1                 | 1                                                 |\n",
    "| 1                | 1                 | 1                | 0                 | 2                                                 |\n",
    "| 1                | 1                 | 0                | 1                 | 3                                                 |\n",
    "| 1                | 0                 | 1                | 1                 | 4                                                 |\n",
    "| 1                | 0                 | 1                | 0                 | 5                                                 |\n",
    "| 1                | 0                 | 0                | 1                 | 6                                                 |\n",
    "| 0                | 1                 | 1                | 1                 | 7                                                 |\n",
    "| 0                | 1                 | 1                | 0                 | 8                                                 |\n",
    "| 0                | 1                 | 0                | 1                 | 9                                                 |\n",
    "|                  |                   |                  |                   | all other combination is certainly unanalysiable |\n",
    "\n",
    "$\\begin{array}{cl}0 & 130066 \\\\ 2 & 32609 \\\\ 6 & 10990 \\\\ 5 & 9219 \\\\ 8 & 7693 \\\\ 3 & 5720 \\\\ 1 & 3136 \\\\ 9 & 2277 \\\\ 4 & 1691 \\\\ 7 & 374\\end{array}$\n",
    "\n",
    "\n",
    "For those deal has multiple \"identify\" choices (like condition 1, it could be identified by any of 4 conditions), we want to make sure those GVKEY could be found in TNIC.\n",
    "\n",
    "\n",
    "**Only 1, 2, 3, 4 has multiple choices**\n"
   ]
  },
  {
   "cell_type": "markdown",
   "metadata": {},
   "source": [
    "## create list of gvkey list of each year"
   ]
  },
  {
   "cell_type": "markdown",
   "metadata": {},
   "source": [
    "### Load data"
   ]
  },
  {
   "cell_type": "code",
   "execution_count": 145,
   "metadata": {
    "ExecuteTime": {
     "end_time": "2021-10-13T03:04:28.382518Z",
     "start_time": "2021-10-13T03:04:28.328311Z"
    }
   },
   "outputs": [],
   "source": [
    "sdc_df = pd.read_pickle(tmp_data_path+f'/sdc_analysable_{s_year+1}_{e_year+1}.pickle')"
   ]
  },
  {
   "cell_type": "code",
   "execution_count": 146,
   "metadata": {
    "ExecuteTime": {
     "end_time": "2021-10-13T03:04:29.307260Z",
     "start_time": "2021-10-13T03:04:29.300623Z"
    }
   },
   "outputs": [
    {
     "data": {
      "text/plain": [
       "array([1997, 1998, 1999, 2000, 2001, 2002, 2003, 2004, 2005, 2006, 2007,\n",
       "       2008, 2009, 2010, 2011, 2012, 2013, 2014, 2015, 2016, 2017, 2018,\n",
       "       2019, 2020])"
      ]
     },
     "execution_count": 146,
     "metadata": {},
     "output_type": "execute_result"
    }
   ],
   "source": [
    "sdc_df.YEAR.unique()"
   ]
  },
  {
   "cell_type": "code",
   "execution_count": 229,
   "metadata": {
    "ExecuteTime": {
     "end_time": "2021-10-20T21:16:55.849962Z",
     "start_time": "2021-10-20T21:16:27.783880Z"
    }
   },
   "outputs": [
    {
     "name": "stderr",
     "output_type": "stream",
     "text": [
      "<ipython-input-226-7dd0d46ce645>:6: SettingWithCopyWarning: \n",
      "A value is trying to be set on a copy of a slice from a DataFrame.\n",
      "Try using .loc[row_indexer,col_indexer] = value instead\n",
      "\n",
      "See the caveats in the documentation: https://pandas.pydata.org/pandas-docs/stable/user_guide/indexing.html#returning-a-view-versus-a-copy\n",
      "  tnic['gvkey1'] = tnic['gvkey1'].astype(str)\n",
      "<ipython-input-226-7dd0d46ce645>:7: SettingWithCopyWarning: \n",
      "A value is trying to be set on a copy of a slice from a DataFrame.\n",
      "Try using .loc[row_indexer,col_indexer] = value instead\n",
      "\n",
      "See the caveats in the documentation: https://pandas.pydata.org/pandas-docs/stable/user_guide/indexing.html#returning-a-view-versus-a-copy\n",
      "  tnic['gvkey2'] = tnic['gvkey2'].astype(str)\n"
     ]
    }
   ],
   "source": [
    "tnic3 = load_tnic3(data_path, s_year, e_year)"
   ]
  },
  {
   "cell_type": "code",
   "execution_count": 230,
   "metadata": {
    "ExecuteTime": {
     "end_time": "2021-10-20T21:17:05.547554Z",
     "start_time": "2021-10-20T21:16:55.865764Z"
    }
   },
   "outputs": [],
   "source": [
    "tnic3.to_pickle(tmp_data_path+f\"/tnic3_{s_year}_{e_year}\")"
   ]
  },
  {
   "cell_type": "code",
   "execution_count": 216,
   "metadata": {
    "ExecuteTime": {
     "end_time": "2021-10-13T20:36:45.638183Z",
     "start_time": "2021-10-13T20:32:54.079912Z"
    },
    "scrolled": true
   },
   "outputs": [
    {
     "name": "stderr",
     "output_type": "stream",
     "text": [
      "<ipython-input-215-14a588fc1198>:6: SettingWithCopyWarning: \n",
      "A value is trying to be set on a copy of a slice from a DataFrame.\n",
      "Try using .loc[row_indexer,col_indexer] = value instead\n",
      "\n",
      "See the caveats in the documentation: https://pandas.pydata.org/pandas-docs/stable/user_guide/indexing.html#returning-a-view-versus-a-copy\n",
      "  tnic['gvkey1'] = tnic['gvkey1'].astype(str)\n",
      "<ipython-input-215-14a588fc1198>:7: SettingWithCopyWarning: \n",
      "A value is trying to be set on a copy of a slice from a DataFrame.\n",
      "Try using .loc[row_indexer,col_indexer] = value instead\n",
      "\n",
      "See the caveats in the documentation: https://pandas.pydata.org/pandas-docs/stable/user_guide/indexing.html#returning-a-view-versus-a-copy\n",
      "  tnic['gvkey2'] = tnic['gvkey2'].astype(str)\n"
     ]
    }
   ],
   "source": [
    "\n",
    "if read_new_tnic:\n",
    "    tnic = load_tnic(data_path, s_year, e_year)\n",
    "\n",
    "    gvkey_lsts = {}\n",
    "    key_ind_maps = {}\n",
    "    ind_key_maps = {}\n",
    "\n",
    "\n",
    "    with warnings.catch_warnings():\n",
    "        warnings.simplefilter(\"ignore\")\n",
    "        for year in range(s_year, e_year+1, 1): # year are integers\n",
    "            gvkey_lsts[year], key_ind_maps[year], ind_key_maps[year] = get_gvkeylst_adj(tnic, year)\n",
    "else:\n",
    "    print(\"read TNIC from pickle\")\n",
    "    tnic = pd.read_pickle(tmp_data_path+f\"/tnic2_{s_year}_{e_year}\")\n",
    "    with open(tmp_data_path+f\"/tnic_info_3_pairs_{s_year}_{e_year}\", 'rb') as f:\n",
    "        gvkey_lsts, key_ind_maps , ind_key_maps = pickle.load(f)\n",
    "\n",
    "\n",
    "if store_tnic_info:\n",
    "    tnic.to_pickle(tmp_data_path+f\"/tnic2_{s_year}_{e_year}\")\n",
    "if store_tnic_info:\n",
    "    with open(tmp_data_path+f\"/tnic_info_3_pairs_{s_year}_{e_year}\", \"wb\") as f:\n",
    "        pickle.dump((gvkey_lsts, key_ind_maps , ind_key_maps), f)\n",
    "    "
   ]
  },
  {
   "cell_type": "code",
   "execution_count": 186,
   "metadata": {
    "ExecuteTime": {
     "end_time": "2021-10-13T03:33:33.894243Z",
     "start_time": "2021-10-13T03:33:33.881172Z"
    }
   },
   "outputs": [
    {
     "name": "stdout",
     "output_type": "stream",
     "text": [
      "number of unique firms in year 1996  is  7528\n",
      "number of unique firms in year 1997  is  7502\n",
      "number of unique firms in year 1998  is  7302\n",
      "number of unique firms in year 1999  is  7092\n",
      "number of unique firms in year 2000  is  6739\n",
      "number of unique firms in year 2001  is  6155\n",
      "number of unique firms in year 2002  is  5696\n",
      "number of unique firms in year 2003  is  5319\n",
      "number of unique firms in year 2004  is  5184\n",
      "number of unique firms in year 2005  is  5078\n",
      "number of unique firms in year 2006  is  5016\n",
      "number of unique firms in year 2007  is  4937\n",
      "number of unique firms in year 2008  is  4678\n",
      "number of unique firms in year 2009  is  4441\n",
      "number of unique firms in year 2010  is  4291\n",
      "number of unique firms in year 2011  is  4168\n",
      "number of unique firms in year 2012  is  4060\n",
      "number of unique firms in year 2013  is  4127\n",
      "number of unique firms in year 2014  is  4267\n",
      "number of unique firms in year 2015  is  4240\n",
      "number of unique firms in year 2016  is  4092\n",
      "number of unique firms in year 2017  is  4048\n",
      "number of unique firms in year 2018  is  4038\n",
      "number of unique firms in year 2019  is  4011\n"
     ]
    }
   ],
   "source": [
    "\n",
    "for y in range(s_year, e_year+1):\n",
    "    print(\"number of unique firms in TNIC in year\", y, \" is \", len(gvkey_lsts[y]))"
   ]
  },
  {
   "cell_type": "markdown",
   "metadata": {},
   "source": [
    "priority(1st to last): \n",
    "+ SS\n",
    "+ SP\n",
    "+ PS\n",
    "+ PP"
   ]
  },
  {
   "cell_type": "markdown",
   "metadata": {},
   "source": [
    "## mark"
   ]
  },
  {
   "cell_type": "code",
   "execution_count": 187,
   "metadata": {
    "ExecuteTime": {
     "end_time": "2021-10-13T03:33:53.448533Z",
     "start_time": "2021-10-13T03:33:53.422592Z"
    }
   },
   "outputs": [],
   "source": [
    "def mark_ma_type(df):\n",
    "    '''\n",
    "    SDC should match with most-recent-previous-year-update TNIC and Compustat\n",
    "    \n",
    "    '''\n",
    "    \n",
    "    def helper(row):\n",
    "        if row.GVKEY_STATUS == '1': # 4 Scenarios, there is priority\n",
    "            if (row.AS_GVKEY in gvkey_lsts[row.YEAR-1]) & (row.TS_GVKEY in gvkey_lsts[row.YEAR-1]) & (row.AS_GVKEY != row.TS_GVKEY):\n",
    "                return 'SS'\n",
    "            elif (row.AS_GVKEY in gvkey_lsts[row.YEAR-1]) & (row.TP_GVKEY in gvkey_lsts[row.YEAR-1]) & (row.AS_GVKEY != row.TP_GVKEY):\n",
    "                return \"SP\"\n",
    "            elif (row.AP_GVKEY in gvkey_lsts[row.YEAR-1]) & (row.TS_GVKEY in gvkey_lsts[row.YEAR-1]) & (row.AP_GVKEY != row.TS_GVKEY):\n",
    "                return \"PS\"\n",
    "            elif (row.AP_GVKEY in gvkey_lsts[row.YEAR-1]) & (row.TP_GVKEY in gvkey_lsts[row.YEAR-1]) & (row.AP_GVKEY != row.TP_GVKEY):\n",
    "                return \"PP\"\n",
    "            else:\n",
    "                return \"XX\"\n",
    "            \n",
    "            \n",
    "        elif row.GVKEY_STATUS == \"2\": # 2 Scenarios \n",
    "            if (row.AS_GVKEY in gvkey_lsts[row.YEAR-1]) & (row.TS_GVKEY in gvkey_lsts[row.YEAR-1]) & (row.AS_GVKEY != row.TS_GVKEY):\n",
    "                return \"SS\"\n",
    "            elif (row.AP_GVKEY in gvkey_lsts[row.YEAR-1]) & (row.TS_GVKEY in gvkey_lsts[row.YEAR-1]) & (row.AP_GVKEY != row.TS_GVKEY):\n",
    "                return \"PS\"\n",
    "            else:\n",
    "                return \"XX\"\n",
    "        elif row.GVKEY_STATUS == \"3\": # 2 Scenarios \n",
    "            if (row.AS_GVKEY in gvkey_lsts[row.YEAR-1]) & (row.TP_GVKEY in gvkey_lsts[row.YEAR-1]) & (row.AS_GVKEY != row.TP_GVKEY):\n",
    "                return \"SP\"\n",
    "            elif (row.AP_GVKEY in gvkey_lsts[row.YEAR-1]) & (row.TP_GVKEY in gvkey_lsts[row.YEAR-1]) & (row.AP_GVKEY != row.TP_GVKEY):\n",
    "                return \"PP\"\n",
    "            else:\n",
    "                return \"XX\"\n",
    "        elif row.GVKEY_STATUS == \"4\": # 2 Scenarios \n",
    "            if (row.AP_GVKEY in gvkey_lsts[row.YEAR-1]) & (row.TS_GVKEY in gvkey_lsts[row.YEAR-1]) & (row.AP_GVKEY != row.TS_GVKEY):\n",
    "                return \"PS\"\n",
    "            elif (row.AP_GVKEY in gvkey_lsts[row.YEAR-1]) & (row.TP_GVKEY in gvkey_lsts[row.YEAR-1]) & (row.AP_GVKEY != row.TP_GVKEY):\n",
    "                return \"PP\"\n",
    "            else:\n",
    "                return \"XX\"\n",
    "        elif row.GVKEY_STATUS == \"7\": # 2 Scenarios \n",
    "            if (row.AS_GVKEY in gvkey_lsts[row.YEAR-1]) & (row.TS_GVKEY in gvkey_lsts[row.YEAR-1]) & (row.AS_GVKEY != row.TS_GVKEY):\n",
    "                return \"SS\"\n",
    "            elif (row.AS_GVKEY in gvkey_lsts[row.YEAR-1]) & (row.TP_GVKEY in gvkey_lsts[row.YEAR-1]) & (row.AS_GVKEY != row.TP_GVKEY):\n",
    "                return \"SP\"\n",
    "            else:\n",
    "                return \"XX\"\n",
    "            \n",
    "            \n",
    "            \n",
    "        elif row.GVKEY_STATUS == \"5\": # 1 scenarios\n",
    "            if (row.AS_GVKEY in gvkey_lsts[row.YEAR-1]) & (row.TS_GVKEY in gvkey_lsts[row.YEAR-1]) & (row.AP_GVKEY != row.TS_GVKEY):\n",
    "                return \"SS\"\n",
    "            else:\n",
    "                return \"XX\"\n",
    "        elif row.GVKEY_STATUS == \"6\": # 1 scenarios\n",
    "            if (row.AS_GVKEY in gvkey_lsts[row.YEAR-1]) & (row.TP_GVKEY in gvkey_lsts[row.YEAR-1]) & (row.AP_GVKEY != row.TP_GVKEY):\n",
    "                return \"SP\"\n",
    "            else:\n",
    "                return \"XX\"\n",
    "        elif row.GVKEY_STATUS == \"8\": # 1 scenarios\n",
    "            if (row.AP_GVKEY in gvkey_lsts[row.YEAR-1]) & (row.TS_GVKEY in gvkey_lsts[row.YEAR-1]) & (row.AS_GVKEY != row.TS_GVKEY):\n",
    "                return \"PS\"\n",
    "            else:\n",
    "                return \"XX\"\n",
    "        elif row.GVKEY_STATUS == \"9\": # 1 scenarios\n",
    "            if (row.AP_GVKEY in gvkey_lsts[row.YEAR-1]) & (row.TP_GVKEY in gvkey_lsts[row.YEAR-1]) & (row.AS_GVKEY != row.TP_GVKEY):\n",
    "                return \"PP\"\n",
    "            else:\n",
    "                return \"XX\"\n",
    "        \n",
    "    df['MA_TYPE'] = df.apply(helper, axis=1)\n",
    "        \n",
    "    return df\n",
    "        \n",
    "        "
   ]
  },
  {
   "cell_type": "code",
   "execution_count": 199,
   "metadata": {
    "ExecuteTime": {
     "end_time": "2021-10-13T15:45:46.138310Z",
     "start_time": "2021-10-13T15:45:46.105695Z"
    }
   },
   "outputs": [
    {
     "data": {
      "text/plain": [
       "3    5720\n",
       "1    3136\n",
       "9    2277\n",
       "2    1762\n",
       "6    1036\n",
       "5     452\n",
       "7     374\n",
       "8     352\n",
       "4     280\n",
       "Name: GVKEY_STATUS, dtype: int64"
      ]
     },
     "execution_count": 199,
     "metadata": {},
     "output_type": "execute_result"
    }
   ],
   "source": [
    "sdc_df2.GVKEY_STATUS.value_counts()"
   ]
  },
  {
   "cell_type": "code",
   "execution_count": 188,
   "metadata": {
    "ExecuteTime": {
     "end_time": "2021-10-13T03:33:58.379877Z",
     "start_time": "2021-10-13T03:33:53.665514Z"
    }
   },
   "outputs": [],
   "source": [
    "sdc_df2 = mark_ma_type(sdc_df)"
   ]
  },
  {
   "cell_type": "code",
   "execution_count": 189,
   "metadata": {
    "ExecuteTime": {
     "end_time": "2021-10-13T03:33:58.386449Z",
     "start_time": "2021-10-13T03:33:58.381390Z"
    },
    "scrolled": true
   },
   "outputs": [
    {
     "data": {
      "text/plain": [
       "XX    5728\n",
       "SP    4365\n",
       "SS    3637\n",
       "PP    1482\n",
       "PS     177\n",
       "Name: MA_TYPE, dtype: int64"
      ]
     },
     "execution_count": 189,
     "metadata": {},
     "output_type": "execute_result"
    }
   ],
   "source": [
    "sdc_df2.MA_TYPE.value_counts()"
   ]
  },
  {
   "cell_type": "code",
   "execution_count": 190,
   "metadata": {
    "ExecuteTime": {
     "end_time": "2021-10-13T03:34:50.698477Z",
     "start_time": "2021-10-13T03:34:50.599920Z"
    }
   },
   "outputs": [
    {
     "name": "stdout",
     "output_type": "stream",
     "text": [
      "1997 XX    0.316327\n",
      "Name: MA_TYPE, dtype: float64\n",
      "1998 XX    0.326207\n",
      "Name: MA_TYPE, dtype: float64\n",
      "1999 XX    0.347965\n",
      "Name: MA_TYPE, dtype: float64\n",
      "2000 XX    0.389483\n",
      "Name: MA_TYPE, dtype: float64\n",
      "2001 XX    0.358511\n",
      "Name: MA_TYPE, dtype: float64\n",
      "2002 XX    0.362205\n",
      "Name: MA_TYPE, dtype: float64\n",
      "2003 XX    0.380704\n",
      "Name: MA_TYPE, dtype: float64\n",
      "2004 XX    0.411765\n",
      "Name: MA_TYPE, dtype: float64\n",
      "2005 XX    0.390516\n",
      "Name: MA_TYPE, dtype: float64\n",
      "2006 XX    0.447214\n",
      "Name: MA_TYPE, dtype: float64\n",
      "2007 XX    0.416048\n",
      "Name: MA_TYPE, dtype: float64\n",
      "2008 XX    0.40568\n",
      "Name: MA_TYPE, dtype: float64\n",
      "2009 XX    0.408081\n",
      "Name: MA_TYPE, dtype: float64\n",
      "2010 XX    0.465483\n",
      "Name: MA_TYPE, dtype: float64\n",
      "2011 XX    0.448889\n",
      "Name: MA_TYPE, dtype: float64\n",
      "2012 XX    0.399594\n",
      "Name: MA_TYPE, dtype: float64\n",
      "2013 XX    0.342593\n",
      "Name: MA_TYPE, dtype: float64\n",
      "2014 XX    0.335526\n",
      "Name: MA_TYPE, dtype: float64\n",
      "2015 XX    0.330317\n",
      "Name: MA_TYPE, dtype: float64\n",
      "2016 XX    0.301837\n",
      "Name: MA_TYPE, dtype: float64\n",
      "2017 XX    0.325843\n",
      "Name: MA_TYPE, dtype: float64\n",
      "2018 XX    0.327815\n",
      "Name: MA_TYPE, dtype: float64\n",
      "2019 XX    0.338346\n",
      "Name: MA_TYPE, dtype: float64\n",
      "2020 XX    0.41784\n",
      "Name: MA_TYPE, dtype: float64\n"
     ]
    }
   ],
   "source": [
    "for y in range(s_year+1, e_year+2):\n",
    "    print(y, sdc_df2[(sdc_df2.YEAR == y) & (sdc_df2.MA_TYPE == \"XX\")].MA_TYPE.value_counts()/ sdc_df2[(sdc_df2.YEAR == y)].shape[0])"
   ]
  },
  {
   "cell_type": "markdown",
   "metadata": {},
   "source": [
    "## SDC+TNIC \n",
    "\n",
    "- only obtain `MA_TYPE` is not XX"
   ]
  },
  {
   "cell_type": "markdown",
   "metadata": {},
   "source": [
    "adding AGVKEY, TGVKEY. According to 4 types of MA:"
   ]
  },
  {
   "cell_type": "code",
   "execution_count": 207,
   "metadata": {
    "ExecuteTime": {
     "end_time": "2021-10-13T19:37:33.673940Z",
     "start_time": "2021-10-13T19:37:33.668071Z"
    }
   },
   "outputs": [],
   "source": [
    "def add_agvkey_tgvkey(df):\n",
    "    def helper1(row):\n",
    "        if row.MA_TYPE == 'SP':\n",
    "            return row.AS_GVKEY\n",
    "        elif row.MA_TYPE == 'SS':\n",
    "            return row.AS_GVKEY\n",
    "        elif row.MA_TYPE == 'PP':\n",
    "            return row.AP_GVKEY\n",
    "        elif row.MA_TYPE == 'PS':\n",
    "            return row.AP_GVKEY\n",
    "\n",
    "    def helper2(row):\n",
    "        if row.MA_TYPE == 'SP':\n",
    "            return row.TP_GVKEY\n",
    "        elif row.MA_TYPE == 'SS':\n",
    "            return row.TS_GVKEY\n",
    "        elif row.MA_TYPE == 'PP':\n",
    "            return row.TP_GVKEY\n",
    "        elif row.MA_TYPE == 'PS':\n",
    "            return row.TS_GVKEY\n",
    "\n",
    "\n",
    "    df['AGVKEY'] = df.apply(helper1, axis=1)\n",
    "    df['TGVKEY'] = df.apply(helper2, axis=1)\n",
    "\n",
    "    return df\n",
    "            \n",
    "    "
   ]
  },
  {
   "cell_type": "code",
   "execution_count": 208,
   "metadata": {
    "ExecuteTime": {
     "end_time": "2021-10-13T19:37:50.286168Z",
     "start_time": "2021-10-13T19:37:50.273207Z"
    }
   },
   "outputs": [],
   "source": [
    "sdc_df2_noxx = sdc_df2[sdc_df2.MA_TYPE != \"XX\"]"
   ]
  },
  {
   "cell_type": "code",
   "execution_count": 209,
   "metadata": {
    "ExecuteTime": {
     "end_time": "2021-10-13T19:37:51.992349Z",
     "start_time": "2021-10-13T19:37:51.032190Z"
    }
   },
   "outputs": [
    {
     "name": "stderr",
     "output_type": "stream",
     "text": [
      "<ipython-input-207-64c237116adb>:23: SettingWithCopyWarning: \n",
      "A value is trying to be set on a copy of a slice from a DataFrame.\n",
      "Try using .loc[row_indexer,col_indexer] = value instead\n",
      "\n",
      "See the caveats in the documentation: https://pandas.pydata.org/pandas-docs/stable/user_guide/indexing.html#returning-a-view-versus-a-copy\n",
      "  df['AGVKEY'] = df.apply(helper1, axis=1)\n",
      "<ipython-input-207-64c237116adb>:24: SettingWithCopyWarning: \n",
      "A value is trying to be set on a copy of a slice from a DataFrame.\n",
      "Try using .loc[row_indexer,col_indexer] = value instead\n",
      "\n",
      "See the caveats in the documentation: https://pandas.pydata.org/pandas-docs/stable/user_guide/indexing.html#returning-a-view-versus-a-copy\n",
      "  df['TGVKEY'] = df.apply(helper2, axis=1)\n"
     ]
    }
   ],
   "source": [
    "sdc_df3 = add_agvkey_tgvkey(sdc_df2_noxx)"
   ]
  },
  {
   "cell_type": "code",
   "execution_count": 213,
   "metadata": {
    "ExecuteTime": {
     "end_time": "2021-10-13T19:38:07.457731Z",
     "start_time": "2021-10-13T19:38:07.447394Z"
    }
   },
   "outputs": [],
   "source": [
    "sdc_tnic = sdc_df3.copy()"
   ]
  },
  {
   "cell_type": "code",
   "execution_count": 214,
   "metadata": {
    "ExecuteTime": {
     "end_time": "2021-10-13T19:38:07.786095Z",
     "start_time": "2021-10-13T19:38:07.616961Z"
    }
   },
   "outputs": [
    {
     "name": "stdout",
     "output_type": "stream",
     "text": [
      "MA events that could be present in TNIC network shape: (9661, 50)\n"
     ]
    }
   ],
   "source": [
    "print(\"MA events that could be present in TNIC network shape:\", sdc_tnic.shape)\n",
    "\n",
    "sdc_tnic.to_pickle(tmp_data_path+f\"/sdc_tnic_{s_year+1}_{e_year+1}\") # year using sdc year not tnic year"
   ]
  },
  {
   "cell_type": "code",
   "execution_count": null,
   "metadata": {},
   "outputs": [],
   "source": []
  }
 ],
 "metadata": {
  "kernelspec": {
   "display_name": "GNN",
   "language": "python",
   "name": "gnn"
  },
  "language_info": {
   "codemirror_mode": {
    "name": "ipython",
    "version": 3
   },
   "file_extension": ".py",
   "mimetype": "text/x-python",
   "name": "python",
   "nbconvert_exporter": "python",
   "pygments_lexer": "ipython3",
   "version": "3.8.10"
  },
  "latex_envs": {
   "LaTeX_envs_menu_present": true,
   "autoclose": false,
   "autocomplete": true,
   "bibliofile": "biblio.bib",
   "cite_by": "apalike",
   "current_citInitial": 1,
   "eqLabelWithNumbers": true,
   "eqNumInitial": 1,
   "hotkeys": {
    "equation": "Ctrl-E",
    "itemize": "Ctrl-I"
   },
   "labels_anchors": false,
   "latex_user_defs": false,
   "report_style_numbering": false,
   "user_envs_cfg": false
  },
  "toc": {
   "base_numbering": 1,
   "nav_menu": {},
   "number_sections": true,
   "sideBar": true,
   "skip_h1_title": false,
   "title_cell": "Table of Contents",
   "title_sidebar": "Contents",
   "toc_cell": false,
   "toc_position": {},
   "toc_section_display": true,
   "toc_window_display": false
  }
 },
 "nbformat": 4,
 "nbformat_minor": 4
}
