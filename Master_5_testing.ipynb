{
 "cells": [
  {
   "cell_type": "markdown",
   "metadata": {},
   "source": []
  },
  {
   "cell_type": "code",
   "execution_count": 23,
   "metadata": {
    "ExecuteTime": {
     "end_time": "2021-11-01T22:22:37.050588Z",
     "start_time": "2021-11-01T22:22:37.047079Z"
    }
   },
   "outputs": [],
   "source": [
    "import pickle\n",
    "import pandas as pd\n",
    "import numpy as np"
   ]
  },
  {
   "cell_type": "markdown",
   "metadata": {},
   "source": [
    "## helpers"
   ]
  },
  {
   "cell_type": "code",
   "execution_count": 17,
   "metadata": {
    "ExecuteTime": {
     "end_time": "2021-11-01T22:19:08.286684Z",
     "start_time": "2021-11-01T22:19:08.280527Z"
    }
   },
   "outputs": [],
   "source": [
    "def same_day_only_one(sdc_tnic_raw):\n",
    "    print(\"shape before removing same-day multi events:\", sdc_tnic_raw.shape)\n",
    "    sdc_tnic_raw = sdc_tnic_raw.copy()\n",
    "    sdc_tnic_one = sdc_tnic_raw.groupby(['AGVKEY', 'DA']).first().reset_index(drop=False)\n",
    "    print(\"shape after removing same-day multi events:\", sdc_tnic_one.shape)\n",
    "    sdc_tnic_one.sort_values(by = ['DA'], axis=0, inplace=True)\n",
    "    return sdc_tnic_one"
   ]
  },
  {
   "cell_type": "markdown",
   "metadata": {},
   "source": [
    "# load data\n"
   ]
  },
  {
   "cell_type": "code",
   "execution_count": 3,
   "metadata": {
    "ExecuteTime": {
     "end_time": "2021-11-01T22:16:55.238041Z",
     "start_time": "2021-11-01T22:16:55.218758Z"
    }
   },
   "outputs": [],
   "source": [
    "\n",
    "tmp_data_path = '../MA_data/data/tmp'\n",
    "data_path = '../MA_data/data'\n",
    "\n",
    "s_year = 1997\n",
    "e_year = 2020"
   ]
  },
  {
   "cell_type": "code",
   "execution_count": 9,
   "metadata": {
    "ExecuteTime": {
     "end_time": "2021-11-01T22:17:20.287262Z",
     "start_time": "2021-11-01T22:17:19.857167Z"
    }
   },
   "outputs": [],
   "source": [
    "# import data\n",
    "# a_freq\n",
    "\n",
    "with open(data_path+\"/freq_a_info_1997_2020.pickle\", \"rb\") as f:\n",
    "    a_freq_info = pickle.load(f)"
   ]
  },
  {
   "cell_type": "code",
   "execution_count": 11,
   "metadata": {
    "ExecuteTime": {
     "end_time": "2021-11-01T22:18:20.382575Z",
     "start_time": "2021-11-01T22:18:20.378513Z"
    }
   },
   "outputs": [],
   "source": [
    "A_freq, a_freq_lst, a_freq_idx_to_gvkey_mapping, a_freq_gvkey_to_idx_mapping = a_freq_info"
   ]
  },
  {
   "cell_type": "code",
   "execution_count": 18,
   "metadata": {
    "ExecuteTime": {
     "end_time": "2021-11-01T22:19:13.850587Z",
     "start_time": "2021-11-01T22:19:13.698915Z"
    }
   },
   "outputs": [
    {
     "name": "stdout",
     "output_type": "stream",
     "text": [
      "shape before removing same-day multi events: (9661, 50)\n",
      "shape after removing same-day multi events: (9448, 50)\n"
     ]
    }
   ],
   "source": [
    "sdc_tnic = pd.read_pickle(tmp_data_path+f\"/sdc_tnic_1997_2020\") # always load full dataset\n",
    "sdc_tnic = same_day_only_one(sdc_tnic) # make sure 1 timpoint could only happen 1 event (otherwise violate the assumption of point process)\n"
   ]
  },
  {
   "cell_type": "code",
   "execution_count": 21,
   "metadata": {
    "ExecuteTime": {
     "end_time": "2021-11-01T22:20:45.320874Z",
     "start_time": "2021-11-01T22:20:45.313626Z"
    }
   },
   "outputs": [
    {
     "data": {
      "text/plain": [
       "Index(['AGVKEY', 'DA', 'ACU', 'ASIC2', 'ABL', 'ANL', 'APUBC', 'AUP', 'AUPSIC',\n",
       "       'AUPBL', 'AUPNAMES', 'AUPPUB', 'BLOCK', 'CREEP', 'DE', 'STATC', 'SYNOP',\n",
       "       'VAL', 'PCTACQ', 'PSOUGHTOWN', 'PSOUGHT', 'PHDA', 'PCTOWN', 'PSOUGHTT',\n",
       "       'PRIVATIZATION', 'DEAL_NO', 'TCU', 'TSIC2', 'TBL', 'TNL', 'TPUBC',\n",
       "       'TUP', 'TUPSIC', 'TUPBL', 'TUPNAMES', 'TUPPUB', 'SIC_A', 'SIC_T',\n",
       "       'YEAR', 'AS_PERMNO', 'AP_PERMNO', 'TS_PERMNO', 'TP_PERMNO', 'AS_GVKEY',\n",
       "       'AP_GVKEY', 'TS_GVKEY', 'TP_GVKEY', 'GVKEY_STATUS', 'MA_TYPE',\n",
       "       'TGVKEY'],\n",
       "      dtype='object')"
      ]
     },
     "execution_count": 21,
     "metadata": {},
     "output_type": "execute_result"
    }
   ],
   "source": [
    "sdc_tnic.columns"
   ]
  },
  {
   "cell_type": "code",
   "execution_count": 44,
   "metadata": {
    "ExecuteTime": {
     "end_time": "2021-11-02T21:05:01.917405Z",
     "start_time": "2021-11-02T21:05:01.895363Z"
    }
   },
   "outputs": [
    {
     "data": {
      "text/plain": [
       "5055    1997\n",
       "9392    1997\n",
       "6442    1997\n",
       "149     1997\n",
       "6164    1997\n",
       "        ... \n",
       "4869    2020\n",
       "2344    2020\n",
       "3106    2020\n",
       "7232    2020\n",
       "7979    2020\n",
       "Name: YEAR, Length: 9448, dtype: int64"
      ]
     },
     "execution_count": 44,
     "metadata": {},
     "output_type": "execute_result"
    }
   ],
   "source": [
    "sdc_tnic.YEAR"
   ]
  },
  {
   "cell_type": "markdown",
   "metadata": {},
   "source": [
    "# Q: see how many freq acquirer has self-event in 2020\n",
    "\n",
    "- 500 freq acquirers\n",
    "- 32 trigger a self event in 2020"
   ]
  },
  {
   "cell_type": "code",
   "execution_count": 22,
   "metadata": {
    "ExecuteTime": {
     "end_time": "2021-11-01T22:22:20.816786Z",
     "start_time": "2021-11-01T22:22:20.805899Z"
    }
   },
   "outputs": [],
   "source": [
    "sdc_2020 = sdc_tnic[sdc_tnic.AGVKEY.isin(a_freq_lst) & (sdc_tnic.YEAR == 2020)]"
   ]
  },
  {
   "cell_type": "code",
   "execution_count": 25,
   "metadata": {
    "ExecuteTime": {
     "end_time": "2021-11-01T22:23:02.746764Z",
     "start_time": "2021-11-01T22:23:02.740216Z"
    }
   },
   "outputs": [
    {
     "data": {
      "text/plain": [
       "0.06451612903225806"
      ]
     },
     "execution_count": 25,
     "metadata": {},
     "output_type": "execute_result"
    }
   ],
   "source": [
    "len(np.unique(sdc_2020.AGVKEY.values).tolist())/ len(a_freq_lst)"
   ]
  },
  {
   "cell_type": "code",
   "execution_count": 27,
   "metadata": {
    "ExecuteTime": {
     "end_time": "2021-11-01T22:23:38.277505Z",
     "start_time": "2021-11-01T22:23:38.271261Z"
    }
   },
   "outputs": [
    {
     "data": {
      "text/plain": [
       "32"
      ]
     },
     "execution_count": 27,
     "metadata": {},
     "output_type": "execute_result"
    }
   ],
   "source": [
    "len(np.unique(sdc_2020.AGVKEY.values).tolist())"
   ]
  },
  {
   "cell_type": "markdown",
   "metadata": {},
   "source": []
  },
  {
   "cell_type": "markdown",
   "metadata": {},
   "source": [
    "## How about choose another year to predict that has more self-events?"
   ]
  },
  {
   "cell_type": "code",
   "execution_count": 37,
   "metadata": {
    "ExecuteTime": {
     "end_time": "2021-11-01T22:36:36.779606Z",
     "start_time": "2021-11-01T22:36:36.740305Z"
    }
   },
   "outputs": [
    {
     "name": "stdout",
     "output_type": "stream",
     "text": [
      "number of self event in year2010 is 114\n",
      "number of self event in year2011 is 90\n",
      "number of self event in year2012 is 114\n",
      "number of self event in year2013 is 99\n",
      "number of self event in year2014 is 97\n",
      "number of self event in year2015 is 99\n",
      "number of self event in year2016 is 88\n",
      "number of self event in year2017 is 87\n",
      "number of self event in year2018 is 71\n",
      "number of self event in year2019 is 63\n",
      "number of self event in year2020 is 32\n"
     ]
    }
   ],
   "source": [
    "for year in range(2010, 2020+1):\n",
    "    sdc_year = sdc_tnic[sdc_tnic.AGVKEY.isin(a_freq_lst) & (sdc_tnic.YEAR == year)]\n",
    "    print(\"number of self event in year{} is {}\".format(year, len(np.unique(sdc_year.AGVKEY.values).tolist())))"
   ]
  },
  {
   "cell_type": "code",
   "execution_count": null,
   "metadata": {},
   "outputs": [],
   "source": []
  },
  {
   "cell_type": "markdown",
   "metadata": {},
   "source": [
    "**you'd better predict on rolling basis!!!!**\n",
    "- make sure the code is compatible with such design"
   ]
  },
  {
   "cell_type": "markdown",
   "metadata": {},
   "source": [
    "# Q: build delta_time_t for MC estimation for prediction"
   ]
  },
  {
   "cell_type": "markdown",
   "metadata": {},
   "source": [
    "## helpers"
   ]
  },
  {
   "cell_type": "code",
   "execution_count": 31,
   "metadata": {
    "ExecuteTime": {
     "end_time": "2021-11-01T22:33:07.403193Z",
     "start_time": "2021-11-01T22:33:07.396462Z"
    }
   },
   "outputs": [],
   "source": [
    "\n",
    "def convert_date(df):\n",
    "    df = df.copy()\n",
    "    def datetime_converter(date_time):\n",
    "        base_time = np.datetime64('1997-01-01')\n",
    "        days_diff = np.datetime64(date_time.date()) - base_time\n",
    "        return days_diff.astype(int)\n",
    "    for idx, row in df.iterrows():\n",
    "        df.loc[idx, 'UPDATE_DATE_int'] = datetime_converter(df.loc[idx, 'UPDATE_DATE'])\n",
    "\n",
    "    #df.sort_values(by = ['UPDATE_DATE']).reset_index(drop=True, inplace=True)\n",
    "    return df "
   ]
  },
  {
   "cell_type": "markdown",
   "metadata": {},
   "source": [
    "## load data"
   ]
  },
  {
   "cell_type": "code",
   "execution_count": 32,
   "metadata": {
    "ExecuteTime": {
     "end_time": "2021-11-01T22:33:22.942310Z",
     "start_time": "2021-11-01T22:33:22.784142Z"
    }
   },
   "outputs": [],
   "source": [
    "with open(data_path+f\"/dataset_top10_freq5_{s_year}_{e_year}.pickle\", \"rb\") as f:\n",
    "    arr_cs, arr_bs, timelines = pickle.load(f)"
   ]
  },
  {
   "cell_type": "markdown",
   "metadata": {},
   "source": [
    "## main"
   ]
  },
  {
   "cell_type": "code",
   "execution_count": 33,
   "metadata": {
    "ExecuteTime": {
     "end_time": "2021-11-01T22:33:47.306147Z",
     "start_time": "2021-11-01T22:33:47.196526Z"
    }
   },
   "outputs": [],
   "source": [
    "tmp_df = convert_date(timelines[0])"
   ]
  },
  {
   "cell_type": "code",
   "execution_count": null,
   "metadata": {},
   "outputs": [],
   "source": []
  },
  {
   "cell_type": "code",
   "execution_count": 50,
   "metadata": {
    "ExecuteTime": {
     "end_time": "2021-11-02T22:12:25.426437Z",
     "start_time": "2021-11-02T22:12:25.420300Z"
    }
   },
   "outputs": [
    {
     "name": "stdout",
     "output_type": "stream",
     "text": [
      "22\n",
      "24\n",
      "13\n",
      "23\n",
      "24\n",
      "23\n",
      "24\n",
      "24\n",
      "24\n",
      "24\n"
     ]
    }
   ],
   "source": [
    "for i in range(0, 10):\n",
    "    print(len(arr_bs[i]))"
   ]
  },
  {
   "cell_type": "code",
   "execution_count": 30,
   "metadata": {
    "ExecuteTime": {
     "end_time": "2021-11-01T22:32:40.422711Z",
     "start_time": "2021-11-01T22:32:40.373996Z"
    },
    "scrolled": true
   },
   "outputs": [
    {
     "data": {
      "text/html": [
       "<div>\n",
       "<style scoped>\n",
       "    .dataframe tbody tr th:only-of-type {\n",
       "        vertical-align: middle;\n",
       "    }\n",
       "\n",
       "    .dataframe tbody tr th {\n",
       "        vertical-align: top;\n",
       "    }\n",
       "\n",
       "    .dataframe thead th {\n",
       "        text-align: right;\n",
       "    }\n",
       "</style>\n",
       "<table border=\"1\" class=\"dataframe\">\n",
       "  <thead>\n",
       "    <tr style=\"text-align: right;\">\n",
       "      <th></th>\n",
       "      <th>GLOBAL_IDX</th>\n",
       "      <th>LOCAL_IDX</th>\n",
       "      <th>UPDATE_DATE</th>\n",
       "      <th>EVENT_TYPE</th>\n",
       "      <th>TGVKEY</th>\n",
       "    </tr>\n",
       "  </thead>\n",
       "  <tbody>\n",
       "    <tr>\n",
       "      <th>0</th>\n",
       "      <td>0</td>\n",
       "      <td>0</td>\n",
       "      <td>1997-01-01</td>\n",
       "      <td>3</td>\n",
       "      <td>NaN</td>\n",
       "    </tr>\n",
       "    <tr>\n",
       "      <th>1</th>\n",
       "      <td>1</td>\n",
       "      <td>0</td>\n",
       "      <td>1997-01-06</td>\n",
       "      <td>2</td>\n",
       "      <td>10499</td>\n",
       "    </tr>\n",
       "    <tr>\n",
       "      <th>2</th>\n",
       "      <td>2</td>\n",
       "      <td>1</td>\n",
       "      <td>1997-01-16</td>\n",
       "      <td>2</td>\n",
       "      <td>5073</td>\n",
       "    </tr>\n",
       "    <tr>\n",
       "      <th>3</th>\n",
       "      <td>3</td>\n",
       "      <td>2</td>\n",
       "      <td>1997-01-23</td>\n",
       "      <td>1</td>\n",
       "      <td>11636</td>\n",
       "    </tr>\n",
       "    <tr>\n",
       "      <th>4</th>\n",
       "      <td>4</td>\n",
       "      <td>3</td>\n",
       "      <td>1997-03-10</td>\n",
       "      <td>1</td>\n",
       "      <td>29132</td>\n",
       "    </tr>\n",
       "    <tr>\n",
       "      <th>...</th>\n",
       "      <td>...</td>\n",
       "      <td>...</td>\n",
       "      <td>...</td>\n",
       "      <td>...</td>\n",
       "      <td>...</td>\n",
       "    </tr>\n",
       "    <tr>\n",
       "      <th>211</th>\n",
       "      <td>211</td>\n",
       "      <td>190</td>\n",
       "      <td>2017-03-27</td>\n",
       "      <td>1</td>\n",
       "      <td>13440</td>\n",
       "    </tr>\n",
       "    <tr>\n",
       "      <th>212</th>\n",
       "      <td>212</td>\n",
       "      <td>191</td>\n",
       "      <td>2017-10-31</td>\n",
       "      <td>2</td>\n",
       "      <td>162894</td>\n",
       "    </tr>\n",
       "    <tr>\n",
       "      <th>213</th>\n",
       "      <td>213</td>\n",
       "      <td>21</td>\n",
       "      <td>2018-01-01</td>\n",
       "      <td>3</td>\n",
       "      <td>NaN</td>\n",
       "    </tr>\n",
       "    <tr>\n",
       "      <th>214</th>\n",
       "      <td>214</td>\n",
       "      <td>192</td>\n",
       "      <td>2018-02-07</td>\n",
       "      <td>1</td>\n",
       "      <td>135990</td>\n",
       "    </tr>\n",
       "    <tr>\n",
       "      <th>215</th>\n",
       "      <td>215</td>\n",
       "      <td>193</td>\n",
       "      <td>2018-06-06</td>\n",
       "      <td>1</td>\n",
       "      <td>14934</td>\n",
       "    </tr>\n",
       "  </tbody>\n",
       "</table>\n",
       "<p>216 rows × 5 columns</p>\n",
       "</div>"
      ],
      "text/plain": [
       "     GLOBAL_IDX  LOCAL_IDX UPDATE_DATE EVENT_TYPE  TGVKEY\n",
       "0             0          0  1997-01-01          3     NaN\n",
       "1             1          0  1997-01-06          2   10499\n",
       "2             2          1  1997-01-16          2    5073\n",
       "3             3          2  1997-01-23          1   11636\n",
       "4             4          3  1997-03-10          1   29132\n",
       "..          ...        ...         ...        ...     ...\n",
       "211         211        190  2017-03-27          1   13440\n",
       "212         212        191  2017-10-31          2  162894\n",
       "213         213         21  2018-01-01          3     NaN\n",
       "214         214        192  2018-02-07          1  135990\n",
       "215         215        193  2018-06-06          1   14934\n",
       "\n",
       "[216 rows x 5 columns]"
      ]
     },
     "execution_count": 30,
     "metadata": {},
     "output_type": "execute_result"
    }
   ],
   "source": [
    "timelines[0]"
   ]
  },
  {
   "cell_type": "markdown",
   "metadata": {},
   "source": [
    "# Q: if the frequent acquirer is invariant\n",
    "- frequent acquirer should not only decided by the number of event they encountered. but also the length of \"active\" \n",
    "\n",
    "what is the min year I could use for predict"
   ]
  },
  {
   "cell_type": "code",
   "execution_count": 53,
   "metadata": {
    "ExecuteTime": {
     "end_time": "2021-11-02T22:14:50.488454Z",
     "start_time": "2021-11-02T22:14:50.057298Z"
    }
   },
   "outputs": [
    {
     "name": "stdout",
     "output_type": "stream",
     "text": [
      "2017\n"
     ]
    }
   ],
   "source": [
    "years = []\n",
    "for gvkey in a_freq_lst:\n",
    "    sub = sdc_tnic[sdc_tnic.AGVKEY == gvkey]\n",
    "    year = min(sub.YEAR.values)\n",
    "    years.append(year)\n",
    "print(max(years))"
   ]
  },
  {
   "cell_type": "markdown",
   "metadata": {},
   "source": [
    "If I want to predict 2017-01-01 ~ 2018-01-01"
   ]
  },
  {
   "cell_type": "code",
   "execution_count": null,
   "metadata": {},
   "outputs": [],
   "source": []
  },
  {
   "cell_type": "markdown",
   "metadata": {},
   "source": [
    "# create dataset \n",
    "\n",
    "3 steps:\n",
    "- finish evaluation function\n",
    "- creating a data set ends with year-01-01 (includes)\n",
    "- get the delta_time_before\n",
    "- get the label\n"
   ]
  },
  {
   "cell_type": "code",
   "execution_count": 39,
   "metadata": {
    "ExecuteTime": {
     "end_time": "2021-11-02T20:47:53.946344Z",
     "start_time": "2021-11-02T20:47:46.097539Z"
    }
   },
   "outputs": [],
   "source": [
    "with open(data_path+f\"/ma_dataset_N01.pickle\", 'rb') as f: ### \n",
    "    ma_dataset = pickle.load(f)"
   ]
  },
  {
   "cell_type": "code",
   "execution_count": 41,
   "metadata": {
    "ExecuteTime": {
     "end_time": "2021-11-02T20:48:30.291075Z",
     "start_time": "2021-11-02T20:48:30.282439Z"
    }
   },
   "outputs": [
    {
     "data": {
      "text/plain": [
       "array([  7.,  46.,  37.,  51.,   3.,   1.,   1.,  39.,   3.,  10.,  14.,\n",
       "        40.,  76.,  54.,  10.,   3.,  36.,  24.,  42.,  38.,  46.,  26.,\n",
       "        15.,  33.,   1.,  15.,  14.,   5.,   7.,  18.,  32.,   7.,  44.,\n",
       "        50.,   1.,  26.,  13.,   7.,   4.,   2.,  60.,  76.,   1.,  27.,\n",
       "        29.,  35.,   3.,  64.,  13.,  26.,  22.,  13.,  11.,  30.,  50.,\n",
       "         6.,  97.,  43.,  29.,  20.,   4.,  13.,  21., 109.,   7.,   4.,\n",
       "        30.,   1.,  68.,  23.,  66.,  15.,   7.,  40.,  59., 108.,  37.,\n",
       "         6.,  98.,  17.,  54.,   3., 248.,   8.,  29.,   1.,  16.,  37.,\n",
       "        97.,  59., 101.,  10., 263.,  14., 402., 323., 200.,  99., 119.])"
      ]
     },
     "execution_count": 41,
     "metadata": {},
     "output_type": "execute_result"
    }
   ],
   "source": [
    "ma_dataset[0][2]"
   ]
  },
  {
   "cell_type": "code",
   "execution_count": null,
   "metadata": {},
   "outputs": [],
   "source": []
  }
 ],
 "metadata": {
  "kernelspec": {
   "display_name": "GNN",
   "language": "python",
   "name": "gnn"
  },
  "language_info": {
   "codemirror_mode": {
    "name": "ipython",
    "version": 3
   },
   "file_extension": ".py",
   "mimetype": "text/x-python",
   "name": "python",
   "nbconvert_exporter": "python",
   "pygments_lexer": "ipython3",
   "version": "3.8.10"
  },
  "latex_envs": {
   "LaTeX_envs_menu_present": true,
   "autoclose": false,
   "autocomplete": true,
   "bibliofile": "biblio.bib",
   "cite_by": "apalike",
   "current_citInitial": 1,
   "eqLabelWithNumbers": true,
   "eqNumInitial": 1,
   "hotkeys": {
    "equation": "Ctrl-E",
    "itemize": "Ctrl-I"
   },
   "labels_anchors": false,
   "latex_user_defs": false,
   "report_style_numbering": false,
   "user_envs_cfg": false
  },
  "toc": {
   "base_numbering": 1,
   "nav_menu": {},
   "number_sections": true,
   "sideBar": true,
   "skip_h1_title": false,
   "title_cell": "Table of Contents",
   "title_sidebar": "Contents",
   "toc_cell": false,
   "toc_position": {},
   "toc_section_display": true,
   "toc_window_display": false
  }
 },
 "nbformat": 4,
 "nbformat_minor": 4
}
