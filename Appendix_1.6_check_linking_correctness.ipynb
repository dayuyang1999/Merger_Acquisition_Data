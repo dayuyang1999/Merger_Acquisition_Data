{
 "cells": [
  {
   "cell_type": "code",
   "execution_count": 3,
   "metadata": {
    "ExecuteTime": {
     "end_time": "2021-10-12T22:40:33.626602Z",
     "start_time": "2021-10-12T22:40:33.091137Z"
    }
   },
   "outputs": [],
   "source": [
    "import pandas as pd\n",
    "import numpy as np"
   ]
  },
  {
   "cell_type": "code",
   "execution_count": 11,
   "metadata": {
    "ExecuteTime": {
     "end_time": "2021-10-13T02:55:06.324967Z",
     "start_time": "2021-10-13T02:55:06.321023Z"
    }
   },
   "outputs": [],
   "source": [
    "tmp_data_path = '../MA_data/data/tmp/'\n",
    "data_path = '../MA_data/data/'\n",
    "\n",
    "s_year = 1997\n",
    "e_year = 2020"
   ]
  },
  {
   "cell_type": "markdown",
   "metadata": {},
   "source": [
    "# linking correctness\n",
    "\n",
    "- if correct, gvkey should (sometimes) match to multiple CUSIP in history"
   ]
  },
  {
   "cell_type": "code",
   "execution_count": 12,
   "metadata": {
    "ExecuteTime": {
     "end_time": "2021-10-13T02:55:06.785984Z",
     "start_time": "2021-10-13T02:55:06.722194Z"
    }
   },
   "outputs": [],
   "source": [
    "sdc_df = pd.read_pickle(tmp_data_path+f'/sdc_analysable_{s_year}_{e_year}.pickle')"
   ]
  },
  {
   "cell_type": "markdown",
   "metadata": {},
   "source": [
    "logic: GVKEY sometimes match to multiple CUSIP. "
   ]
  },
  {
   "cell_type": "code",
   "execution_count": 13,
   "metadata": {
    "ExecuteTime": {
     "end_time": "2021-10-13T02:55:08.614794Z",
     "start_time": "2021-10-13T02:55:08.584254Z"
    }
   },
   "outputs": [
    {
     "name": "stdout",
     "output_type": "stream",
     "text": [
      "7\n",
      "21\n"
     ]
    }
   ],
   "source": [
    "print(sdc_df.groupby(\"AS_GVKEY\")['ACU'].nunique().max())\n",
    "print(sdc_df.groupby(\"TS_GVKEY\")['TCU'].nunique().max())"
   ]
  },
  {
   "cell_type": "markdown",
   "metadata": {},
   "source": [
    "# SDC data year is DA.year or DE.year?"
   ]
  },
  {
   "cell_type": "code",
   "execution_count": 16,
   "metadata": {
    "ExecuteTime": {
     "end_time": "2021-10-13T03:00:44.551394Z",
     "start_time": "2021-10-13T03:00:44.546206Z"
    }
   },
   "outputs": [],
   "source": [
    "name_lst = [\n",
    "                'ACU', 'ASIC2', 'ABL', 'ANL', 'APUBC', 'AUP', 'AUPSIC', 'AUPBL', 'AUPNAMES', 'AUPPUB',\n",
    "                'BLOCK','CREEP','DA','DE','STATC','SYNOP','VAL','PCTACQ','PSOUGHTOWN','PSOUGHT','PHDA','PCTOWN','PSOUGHTT','PRIVATIZATION','DEAL_NO',\n",
    "                'TCU', 'TSIC2', 'TBL', 'TNL', 'TPUBC', 'TUP', 'TUPSIC', 'TUPBL', 'TUPNAMES', 'TUPPUB'    \n",
    "            ]"
   ]
  },
  {
   "cell_type": "code",
   "execution_count": 17,
   "metadata": {
    "ExecuteTime": {
     "end_time": "2021-10-13T03:02:42.218426Z",
     "start_time": "2021-10-13T03:01:08.231821Z"
    }
   },
   "outputs": [
    {
     "name": "stdout",
     "output_type": "stream",
     "text": [
      "1997 1997 1997.0\n",
      "1998 1998 1998.0\n",
      "1999 1999 1999.0\n",
      "2000 2000 2000.0\n",
      "2001 2001 2001.0\n",
      "2002 2002 2002.0\n",
      "2003 2003 2003.0\n",
      "2004 2004 2004.0\n",
      "2005 2005 2005.0\n",
      "2006 2006 2006.0\n",
      "2007 2007 2007.0\n",
      "2008 2008 2008.0\n",
      "2009 2009 2009.0\n",
      "2010 2010 2010.0\n",
      "2011 2011 2010.0\n",
      "2012 2012 2012.0\n",
      "2013 2013 2013.0\n",
      "2014 2014 2014.0\n",
      "2015 2015 2015.0\n",
      "2016 2016 2016.0\n",
      "2017 2017 2017.0\n",
      "2018 2018 2018.0\n",
      "2019 2019 2019.0\n",
      "2020 2020 2020.0\n"
     ]
    }
   ],
   "source": [
    "for y in range(s_year, e_year+1):\n",
    "    df = pd.read_excel(f\"{data_path}/SDC/{y}.xlsx\", header=1, engine='openpyxl')\n",
    "    df.columns = name_lst\n",
    "    print(y, df.DA.dt.year.min(), df.DE.dt.year.min())"
   ]
  },
  {
   "cell_type": "code",
   "execution_count": null,
   "metadata": {},
   "outputs": [],
   "source": []
  }
 ],
 "metadata": {
  "kernelspec": {
   "display_name": "GNN",
   "language": "python",
   "name": "gnn"
  },
  "language_info": {
   "codemirror_mode": {
    "name": "ipython",
    "version": 3
   },
   "file_extension": ".py",
   "mimetype": "text/x-python",
   "name": "python",
   "nbconvert_exporter": "python",
   "pygments_lexer": "ipython3",
   "version": "3.8.10"
  },
  "latex_envs": {
   "LaTeX_envs_menu_present": true,
   "autoclose": false,
   "autocomplete": true,
   "bibliofile": "biblio.bib",
   "cite_by": "apalike",
   "current_citInitial": 1,
   "eqLabelWithNumbers": true,
   "eqNumInitial": 1,
   "hotkeys": {
    "equation": "Ctrl-E",
    "itemize": "Ctrl-I"
   },
   "labels_anchors": false,
   "latex_user_defs": false,
   "report_style_numbering": false,
   "user_envs_cfg": false
  },
  "toc": {
   "base_numbering": 1,
   "nav_menu": {},
   "number_sections": true,
   "sideBar": true,
   "skip_h1_title": false,
   "title_cell": "Table of Contents",
   "title_sidebar": "Contents",
   "toc_cell": false,
   "toc_position": {},
   "toc_section_display": true,
   "toc_window_display": false
  }
 },
 "nbformat": 4,
 "nbformat_minor": 4
}
