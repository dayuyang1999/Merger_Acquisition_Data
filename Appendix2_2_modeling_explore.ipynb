{
 "cells": [
  {
   "cell_type": "code",
   "execution_count": 95,
   "metadata": {
    "ExecuteTime": {
     "end_time": "2021-09-29T13:02:24.656664Z",
     "start_time": "2021-09-29T13:02:24.651440Z"
    }
   },
   "outputs": [],
   "source": [
    "import pickle\n",
    "import pandas as pd\n",
    "import numpy as np\n",
    "import matplotlib.pyplot as plt"
   ]
  },
  {
   "cell_type": "code",
   "execution_count": 92,
   "metadata": {
    "ExecuteTime": {
     "end_time": "2021-09-29T13:02:18.590488Z",
     "start_time": "2021-09-29T13:02:18.585969Z"
    }
   },
   "outputs": [],
   "source": [
    "tmp_data_path = '../MA_data/data/tmp'\n",
    "\n",
    "\n",
    "s_year = 1997\n",
    "e_year = 2019"
   ]
  },
  {
   "cell_type": "code",
   "execution_count": 93,
   "metadata": {
    "ExecuteTime": {
     "end_time": "2021-09-29T13:02:19.119121Z",
     "start_time": "2021-09-29T13:02:18.788280Z"
    }
   },
   "outputs": [],
   "source": [
    "fv_ma = pd.read_pickle(f'{tmp_data_path}/merged_fv_ma_{s_year}_{e_year}.pickle')"
   ]
  },
  {
   "cell_type": "code",
   "execution_count": 94,
   "metadata": {
    "ExecuteTime": {
     "end_time": "2021-09-29T13:02:19.141270Z",
     "start_time": "2021-09-29T13:02:19.122723Z"
    }
   },
   "outputs": [
    {
     "data": {
      "text/plain": [
       "Index(['index', 'ACU', 'ASIC2', 'ABL', 'ANL', 'APUBC', 'AUP', 'AUPSIC',\n",
       "       'AUPBL', 'AUPNAMES', 'AUPPUB', 'BLOCK', 'CREEP', 'DA', 'DE', 'STATC',\n",
       "       'SYNOP', 'VAL', 'PCTACQ', 'PSOUGHTOWN', 'PSOUGHT', 'PHDA', 'PCTOWN',\n",
       "       'PSOUGHTT', 'PRIVATIZATION', 'DEAL_NO', 'TCU', 'TSIC2', 'TBL', 'TNL',\n",
       "       'TPUBC', 'TUP', 'TUPSIC', 'TUPBL', 'TUPNAMES', 'TUPPUB', 'SIC_A',\n",
       "       'SIC_T', 'YEAR', 'AGVKEY', 'TGVKEY', 'AT_A', 'SALE_A', 'M2B_A', 'LEV_A',\n",
       "       'ROA_A', 'PPE_A', 'CASH2ASSET_A', 'CASH2SALE_A', 'SALE2ASSET_A', 'CR_A',\n",
       "       'D_SALE_A', 'D_AT_A', 'N_NA_A', 'AT_T', 'SALE_T', 'M2B_T', 'LEV_T',\n",
       "       'ROA_T', 'PPE_T', 'CASH2ASSET_T', 'CASH2SALE_T', 'SALE2ASSET_T', 'CR_T',\n",
       "       'D_SALE_T', 'D_AT_T', 'N_NA_T'],\n",
       "      dtype='object')"
      ]
     },
     "execution_count": 94,
     "metadata": {},
     "output_type": "execute_result"
    }
   ],
   "source": [
    "fv_ma.columns"
   ]
  },
  {
   "cell_type": "markdown",
   "metadata": {},
   "source": [
    "# Acquiror\n",
    "\n",
    "if we model each acquirer as a sequence in TPP. The model requires significant number of acquisition happened for each acquirer."
   ]
  },
  {
   "cell_type": "code",
   "execution_count": 69,
   "metadata": {
    "ExecuteTime": {
     "end_time": "2021-09-28T01:58:57.510897Z",
     "start_time": "2021-09-28T01:58:57.501910Z"
    }
   },
   "outputs": [],
   "source": [
    "a_series = fv_ma.AGVKEY.value_counts()"
   ]
  },
  {
   "cell_type": "code",
   "execution_count": 70,
   "metadata": {
    "ExecuteTime": {
     "end_time": "2021-09-28T01:58:57.718495Z",
     "start_time": "2021-09-28T01:58:57.708353Z"
    },
    "scrolled": true
   },
   "outputs": [
    {
     "name": "stdout",
     "output_type": "stream",
     "text": [
      "1.0\n",
      "2.0\n",
      "4.0\n",
      "12.0\n",
      "29.0\n"
     ]
    }
   ],
   "source": [
    "# print quantile\n",
    "print(np.quantile(np.array(a_series), 0.25)) # \"num of events\" thes of 25 quantile\n",
    "print(np.quantile(np.array(a_series), 0.5))\n",
    "print(np.quantile(np.array(a_series), 0.75))\n",
    "print(np.quantile(np.array(a_series), 0.95))\n",
    "print(np.quantile(np.array(a_series), 0.99)) # only top 1% acuqior has >40 acquisition"
   ]
  },
  {
   "cell_type": "code",
   "execution_count": 71,
   "metadata": {
    "ExecuteTime": {
     "end_time": "2021-09-28T01:58:57.953499Z",
     "start_time": "2021-09-28T01:58:57.947397Z"
    }
   },
   "outputs": [
    {
     "data": {
      "text/plain": [
       "119"
      ]
     },
     "execution_count": 71,
     "metadata": {},
     "output_type": "execute_result"
    }
   ],
   "source": [
    "a_series[0] # top one has 11907 acquisition????"
   ]
  },
  {
   "cell_type": "code",
   "execution_count": 76,
   "metadata": {
    "ExecuteTime": {
     "end_time": "2021-09-28T02:00:24.667560Z",
     "start_time": "2021-09-28T02:00:23.632333Z"
    }
   },
   "outputs": [
    {
     "data": {
      "image/png": "[encoded data removed]",
      "text/plain": [
       "<Figure size 640x480 with 1 Axes>"
      ]
     },
     "metadata": {},
     "output_type": "display_data"
    }
   ],
   "source": [
    "plt.plot(a_series[:200])\n",
    "plt.show()"
   ]
  },
  {
   "attachments": {},
   "cell_type": "markdown",
   "metadata": {},
   "source": [
    "explore the top 1 acquirer: GVKEY = 17010; cusip = 531229607\n",
    "\n",
    "\n"
   ]
  },
  {
   "cell_type": "code",
   "execution_count": 84,
   "metadata": {
    "ExecuteTime": {
     "end_time": "2021-09-28T02:03:54.863834Z",
     "start_time": "2021-09-28T02:03:54.831930Z"
    }
   },
   "outputs": [
    {
     "data": {
      "text/html": [
       "<div>\n",
       "<style scoped>\n",
       "    .dataframe tbody tr th:only-of-type {\n",
       "        vertical-align: middle;\n",
       "    }\n",
       "\n",
       "    .dataframe tbody tr th {\n",
       "        vertical-align: top;\n",
       "    }\n",
       "\n",
       "    .dataframe thead th {\n",
       "        text-align: right;\n",
       "    }\n",
       "</style>\n",
       "<table border=\"1\" class=\"dataframe\">\n",
       "  <thead>\n",
       "    <tr style=\"text-align: right;\">\n",
       "      <th></th>\n",
       "      <th>index</th>\n",
       "      <th>ACU</th>\n",
       "      <th>ASIC2</th>\n",
       "      <th>ABL</th>\n",
       "      <th>ANL</th>\n",
       "      <th>APUBC</th>\n",
       "      <th>AUP</th>\n",
       "      <th>AUPSIC</th>\n",
       "      <th>AUPBL</th>\n",
       "      <th>AUPNAMES</th>\n",
       "      <th>...</th>\n",
       "      <th>LEV_T</th>\n",
       "      <th>ROA_T</th>\n",
       "      <th>PPE_T</th>\n",
       "      <th>CASH2ASSET_T</th>\n",
       "      <th>CASH2SALE_T</th>\n",
       "      <th>SALE2ASSET_T</th>\n",
       "      <th>CR_T</th>\n",
       "      <th>D_SALE_T</th>\n",
       "      <th>D_AT_T</th>\n",
       "      <th>N_NA_T</th>\n",
       "    </tr>\n",
       "  </thead>\n",
       "  <tbody>\n",
       "    <tr>\n",
       "      <th>76</th>\n",
       "      <td>6002.0</td>\n",
       "      <td>36965V</td>\n",
       "      <td>6141/6153/6159</td>\n",
       "      <td>Provide financing services</td>\n",
       "      <td>General Electric Capital Services</td>\n",
       "      <td>Sub.</td>\n",
       "      <td>369604</td>\n",
       "      <td>3612\\n3511\\n3651\\n3663\\n3641\\n3632\\n3724\\n2821...</td>\n",
       "      <td>General Electric Co, located\\nin Boston, Massa...</td>\n",
       "      <td>General Electric Co</td>\n",
       "      <td>...</td>\n",
       "      <td>0.142791</td>\n",
       "      <td>0.015988</td>\n",
       "      <td>0.004778</td>\n",
       "      <td>0.0</td>\n",
       "      <td>0.000026</td>\n",
       "      <td>0.155045</td>\n",
       "      <td>3.665873</td>\n",
       "      <td>1.622015</td>\n",
       "      <td>10.117869</td>\n",
       "      <td>4</td>\n",
       "    </tr>\n",
       "    <tr>\n",
       "      <th>77</th>\n",
       "      <td>6002.0</td>\n",
       "      <td>36965V</td>\n",
       "      <td>6141/6153/6159</td>\n",
       "      <td>Provide financing services</td>\n",
       "      <td>General Electric Capital Services</td>\n",
       "      <td>Sub.</td>\n",
       "      <td>369604</td>\n",
       "      <td>3612\\n3511\\n3651\\n3663\\n3641\\n3632\\n3724\\n2821...</td>\n",
       "      <td>General Electric Co, located\\nin Boston, Massa...</td>\n",
       "      <td>General Electric Co</td>\n",
       "      <td>...</td>\n",
       "      <td>0.142791</td>\n",
       "      <td>0.015988</td>\n",
       "      <td>0.004778</td>\n",
       "      <td>0.0</td>\n",
       "      <td>0.000026</td>\n",
       "      <td>0.155045</td>\n",
       "      <td>3.665873</td>\n",
       "      <td>1.622015</td>\n",
       "      <td>10.117869</td>\n",
       "      <td>4</td>\n",
       "    </tr>\n",
       "  </tbody>\n",
       "</table>\n",
       "<p>2 rows × 67 columns</p>\n",
       "</div>"
      ],
      "text/plain": [
       "     index     ACU           ASIC2                         ABL  \\\n",
       "76  6002.0  36965V  6141/6153/6159  Provide financing services   \n",
       "77  6002.0  36965V  6141/6153/6159  Provide financing services   \n",
       "\n",
       "                                  ANL APUBC     AUP  \\\n",
       "76  General Electric Capital Services  Sub.  369604   \n",
       "77  General Electric Capital Services  Sub.  369604   \n",
       "\n",
       "                                               AUPSIC  \\\n",
       "76  3612\\n3511\\n3651\\n3663\\n3641\\n3632\\n3724\\n2821...   \n",
       "77  3612\\n3511\\n3651\\n3663\\n3641\\n3632\\n3724\\n2821...   \n",
       "\n",
       "                                                AUPBL             AUPNAMES  \\\n",
       "76  General Electric Co, located\\nin Boston, Massa...  General Electric Co   \n",
       "77  General Electric Co, located\\nin Boston, Massa...  General Electric Co   \n",
       "\n",
       "    ...     LEV_T     ROA_T     PPE_T CASH2ASSET_T CASH2SALE_T SALE2ASSET_T  \\\n",
       "76  ...  0.142791  0.015988  0.004778          0.0    0.000026     0.155045   \n",
       "77  ...  0.142791  0.015988  0.004778          0.0    0.000026     0.155045   \n",
       "\n",
       "        CR_T  D_SALE_T     D_AT_T  N_NA_T  \n",
       "76  3.665873  1.622015  10.117869       4  \n",
       "77  3.665873  1.622015  10.117869       4  \n",
       "\n",
       "[2 rows x 67 columns]"
      ]
     },
     "execution_count": 84,
     "metadata": {},
     "output_type": "execute_result"
    }
   ],
   "source": [
    "fv_ma[fv_ma['AGVKEY'] == '5047'][:2]"
   ]
  },
  {
   "cell_type": "code",
   "execution_count": 86,
   "metadata": {
    "ExecuteTime": {
     "end_time": "2021-09-28T02:04:16.974155Z",
     "start_time": "2021-09-28T02:04:16.961925Z"
    }
   },
   "outputs": [
    {
     "data": {
      "text/plain": [
       "76    100.0\n",
       "77    100.0\n",
       "Name: PSOUGHT, dtype: float64"
      ]
     },
     "execution_count": 86,
     "metadata": {},
     "output_type": "execute_result"
    }
   ],
   "source": [
    "fv_ma[fv_ma['AGVKEY'] == '5047'][:2]['PSOUGHT']"
   ]
  },
  {
   "cell_type": "code",
   "execution_count": 89,
   "metadata": {
    "ExecuteTime": {
     "end_time": "2021-09-28T02:05:09.333871Z",
     "start_time": "2021-09-28T02:05:09.288875Z"
    }
   },
   "outputs": [],
   "source": [
    "fv_ma[fv_ma['AGVKEY'] == '5047'].to_csv('check_top1.csv')"
   ]
  },
  {
   "cell_type": "code",
   "execution_count": 87,
   "metadata": {
    "ExecuteTime": {
     "end_time": "2021-09-28T02:04:46.847618Z",
     "start_time": "2021-09-28T02:04:46.835678Z"
    }
   },
   "outputs": [
    {
     "data": {
      "text/plain": [
       "76    100.0\n",
       "77    100.0\n",
       "Name: PCTOWN, dtype: float64"
      ]
     },
     "execution_count": 87,
     "metadata": {},
     "output_type": "execute_result"
    }
   ],
   "source": [
    "fv_ma[fv_ma['AGVKEY'] == '5047'][:2]['PCTOWN']"
   ]
  },
  {
   "cell_type": "markdown",
   "metadata": {},
   "source": [
    "# Target"
   ]
  },
  {
   "cell_type": "code",
   "execution_count": 96,
   "metadata": {
    "ExecuteTime": {
     "end_time": "2021-09-29T13:02:27.440820Z",
     "start_time": "2021-09-29T13:02:27.416012Z"
    }
   },
   "outputs": [],
   "source": [
    "t_series = fv_ma.TGVKEY.value_counts()"
   ]
  },
  {
   "cell_type": "code",
   "execution_count": 98,
   "metadata": {
    "ExecuteTime": {
     "end_time": "2021-09-29T13:02:35.591028Z",
     "start_time": "2021-09-29T13:02:35.580170Z"
    }
   },
   "outputs": [
    {
     "name": "stdout",
     "output_type": "stream",
     "text": [
      "1.0\n",
      "1.0\n",
      "4.0\n",
      "13.0\n",
      "30.0\n"
     ]
    }
   ],
   "source": [
    "# print quantile\n",
    "print(np.quantile(np.array(t_series), 0.25)) # \"num of events\" thes of 25 quantile\n",
    "print(np.quantile(np.array(t_series), 0.5))\n",
    "print(np.quantile(np.array(t_series), 0.75))\n",
    "print(np.quantile(np.array(t_series), 0.95))\n",
    "print(np.quantile(np.array(t_series), 0.99)) # only top 1% acuqior has >40 acquisition"
   ]
  },
  {
   "cell_type": "code",
   "execution_count": 99,
   "metadata": {
    "ExecuteTime": {
     "end_time": "2021-09-29T13:02:42.596994Z",
     "start_time": "2021-09-29T13:02:42.575017Z"
    }
   },
   "outputs": [
    {
     "data": {
      "text/plain": [
       "96"
      ]
     },
     "execution_count": 99,
     "metadata": {},
     "output_type": "execute_result"
    }
   ],
   "source": [
    "t_series[0] # top one has 11907 acquisition????"
   ]
  },
  {
   "cell_type": "code",
   "execution_count": 100,
   "metadata": {
    "ExecuteTime": {
     "end_time": "2021-09-29T13:02:52.520024Z",
     "start_time": "2021-09-29T13:02:49.481921Z"
    }
   },
   "outputs": [
    {
     "data": {
      "image/png": "[encoded data removed]",
      "text/plain": [
       "<Figure size 640x480 with 1 Axes>"
      ]
     },
     "metadata": {},
     "output_type": "display_data"
    }
   ],
   "source": [
    "plt.plot(t_series[:200])\n",
    "plt.show()"
   ]
  },
  {
   "cell_type": "markdown",
   "metadata": {},
   "source": [
    "# Q1 is the top acquirer also top target?"
   ]
  },
  {
   "cell_type": "code",
   "execution_count": 108,
   "metadata": {
    "ExecuteTime": {
     "end_time": "2021-09-29T13:32:20.919647Z",
     "start_time": "2021-09-29T13:32:20.914331Z"
    }
   },
   "outputs": [],
   "source": [
    "a_df = pd.DataFrame({'acquirer_count':a_series})"
   ]
  },
  {
   "cell_type": "code",
   "execution_count": 109,
   "metadata": {
    "ExecuteTime": {
     "end_time": "2021-09-29T13:32:22.669134Z",
     "start_time": "2021-09-29T13:32:22.662216Z"
    }
   },
   "outputs": [],
   "source": [
    "a_df['acquirer_rank'] = a_df['acquirer_count'].rank(ascending=False)"
   ]
  },
  {
   "cell_type": "code",
   "execution_count": 110,
   "metadata": {
    "ExecuteTime": {
     "end_time": "2021-09-29T13:32:23.642743Z",
     "start_time": "2021-09-29T13:32:23.637385Z"
    }
   },
   "outputs": [],
   "source": [
    "t_df = pd.DataFrame({'target_count':t_series})"
   ]
  },
  {
   "cell_type": "code",
   "execution_count": 111,
   "metadata": {
    "ExecuteTime": {
     "end_time": "2021-09-29T13:32:25.000723Z",
     "start_time": "2021-09-29T13:32:24.994159Z"
    }
   },
   "outputs": [],
   "source": [
    "t_df['target_rank'] = t_df['target_count'].rank(ascending=False)"
   ]
  },
  {
   "cell_type": "code",
   "execution_count": 112,
   "metadata": {
    "ExecuteTime": {
     "end_time": "2021-09-29T13:32:33.899369Z",
     "start_time": "2021-09-29T13:32:33.874468Z"
    }
   },
   "outputs": [],
   "source": [
    "a_t_rank = a_df.merge(t_df, left_index = True, right_index = True)"
   ]
  },
  {
   "cell_type": "code",
   "execution_count": 114,
   "metadata": {
    "ExecuteTime": {
     "end_time": "2021-09-29T13:33:55.619279Z",
     "start_time": "2021-09-29T13:33:55.603265Z"
    }
   },
   "outputs": [
    {
     "data": {
      "text/html": [
       "<div>\n",
       "<style scoped>\n",
       "    .dataframe tbody tr th:only-of-type {\n",
       "        vertical-align: middle;\n",
       "    }\n",
       "\n",
       "    .dataframe tbody tr th {\n",
       "        vertical-align: top;\n",
       "    }\n",
       "\n",
       "    .dataframe thead th {\n",
       "        text-align: right;\n",
       "    }\n",
       "</style>\n",
       "<table border=\"1\" class=\"dataframe\">\n",
       "  <thead>\n",
       "    <tr style=\"text-align: right;\">\n",
       "      <th></th>\n",
       "      <th>acquirer_rank</th>\n",
       "      <th>target_rank</th>\n",
       "    </tr>\n",
       "  </thead>\n",
       "  <tbody>\n",
       "    <tr>\n",
       "      <th>acquirer_rank</th>\n",
       "      <td>1.000000</td>\n",
       "      <td>0.409641</td>\n",
       "    </tr>\n",
       "    <tr>\n",
       "      <th>target_rank</th>\n",
       "      <td>0.409641</td>\n",
       "      <td>1.000000</td>\n",
       "    </tr>\n",
       "  </tbody>\n",
       "</table>\n",
       "</div>"
      ],
      "text/plain": [
       "               acquirer_rank  target_rank\n",
       "acquirer_rank       1.000000     0.409641\n",
       "target_rank         0.409641     1.000000"
      ]
     },
     "execution_count": 114,
     "metadata": {},
     "output_type": "execute_result"
    }
   ],
   "source": [
    "a_t_rank[['acquirer_rank', 'target_rank']].corr()"
   ]
  },
  {
   "cell_type": "code",
   "execution_count": 119,
   "metadata": {
    "ExecuteTime": {
     "end_time": "2021-09-29T13:37:20.379762Z",
     "start_time": "2021-09-29T13:37:20.223861Z"
    }
   },
   "outputs": [
    {
     "data": {
      "image/png": "[encoded data removed]",
      "text/plain": [
       "<Figure size 640x480 with 1 Axes>"
      ]
     },
     "metadata": {},
     "output_type": "display_data"
    }
   ],
   "source": [
    "plt.plot(np.arange(0, a_t_rank.shape[0],1), a_t_rank['acquirer_rank'], label = 'acquirer_rank')\n",
    "plt.plot(np.arange(0, a_t_rank.shape[0],1), a_t_rank['target_rank'], label = 'target_rank')\n",
    "plt.legend()\n",
    "plt.show()"
   ]
  },
  {
   "cell_type": "markdown",
   "metadata": {},
   "source": [
    "anwser: they do not have strong correlation."
   ]
  },
  {
   "cell_type": "code",
   "execution_count": null,
   "metadata": {},
   "outputs": [],
   "source": []
  }
 ],
 "metadata": {
  "kernelspec": {
   "display_name": "GNN",
   "language": "python",
   "name": "gnn"
  },
  "language_info": {
   "codemirror_mode": {
    "name": "ipython",
    "version": 3
   },
   "file_extension": ".py",
   "mimetype": "text/x-python",
   "name": "python",
   "nbconvert_exporter": "python",
   "pygments_lexer": "ipython3",
   "version": "3.8.10"
  },
  "latex_envs": {
   "LaTeX_envs_menu_present": true,
   "autoclose": false,
   "autocomplete": true,
   "bibliofile": "biblio.bib",
   "cite_by": "apalike",
   "current_citInitial": 1,
   "eqLabelWithNumbers": true,
   "eqNumInitial": 1,
   "hotkeys": {
    "equation": "Ctrl-E",
    "itemize": "Ctrl-I"
   },
   "labels_anchors": false,
   "latex_user_defs": false,
   "report_style_numbering": false,
   "user_envs_cfg": false
  },
  "toc": {
   "base_numbering": 1,
   "nav_menu": {},
   "number_sections": true,
   "sideBar": true,
   "skip_h1_title": false,
   "title_cell": "Table of Contents",
   "title_sidebar": "Contents",
   "toc_cell": false,
   "toc_position": {},
   "toc_section_display": true,
   "toc_window_display": false
  }
 },
 "nbformat": 4,
 "nbformat_minor": 4
}
