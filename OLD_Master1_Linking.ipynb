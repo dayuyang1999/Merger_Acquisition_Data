{
 "cells": [
  {
   "cell_type": "code",
   "execution_count": 4,
   "metadata": {
    "ExecuteTime": {
     "end_time": "2021-10-12T02:55:27.209202Z",
     "start_time": "2021-10-12T02:55:26.938064Z"
    }
   },
   "outputs": [],
   "source": [
    "import pandas as pd\n",
    "import pickle\n",
    "import numpy as np\n",
    "import datetime \n",
    "from os.path import join as pjoin\n",
    "import os\n",
    "import wrds\n",
    "\n",
    "#import argparse\n",
    "#import yamlb"
   ]
  },
  {
   "cell_type": "code",
   "execution_count": 5,
   "metadata": {
    "ExecuteTime": {
     "end_time": "2021-10-12T02:55:27.212611Z",
     "start_time": "2021-10-12T02:55:27.210533Z"
    }
   },
   "outputs": [],
   "source": [
    "tmp_data_path =  '../MA_data/data/tmp/'\n",
    "data_path = '../MA_data/data/'\n",
    "s_year = 1997\n",
    "e_year = 2016"
   ]
  },
  {
   "cell_type": "markdown",
   "metadata": {},
   "source": [
    "# Download SDC data\n",
    "\n",
    "variable description could see [appendix 1.1 variable description](./Appendix_1.1_variable_description.ipynb)"
   ]
  },
  {
   "cell_type": "code",
   "execution_count": 6,
   "metadata": {
    "ExecuteTime": {
     "end_time": "2021-10-12T02:55:27.218846Z",
     "start_time": "2021-10-12T02:55:27.213902Z"
    }
   },
   "outputs": [],
   "source": [
    "name_lst = [\n",
    "                'ACU', 'ASIC2', 'ABL', 'ANL', 'APUBC', 'AUP', 'AUPSIC', 'AUPBL', 'AUPNAMES', 'AUPPUB',\n",
    "                'BLOCK','CREEP','DA','DE','STATC','SYNOP','VAL','PCTACQ','PSOUGHTOWN','PSOUGHT','PHDA','PCTOWN','PSOUGHTT','PRIVATIZATION','DEAL_NO',\n",
    "                'TCU', 'TSIC2', 'TBL', 'TNL', 'TPUBC', 'TUP', 'TUPSIC', 'TUPBL', 'TUPNAMES', 'TUPPUB'    \n",
    "            ]"
   ]
  },
  {
   "cell_type": "code",
   "execution_count": 7,
   "metadata": {
    "ExecuteTime": {
     "end_time": "2021-10-12T02:55:27.225437Z",
     "start_time": "2021-10-12T02:55:27.220080Z"
    }
   },
   "outputs": [],
   "source": [
    "def concat_data(st, end, name_lst, data_path):\n",
    "    df_l = []\n",
    "    for year in range(st, end+1, 1):\n",
    "        df = pd.read_excel(f\"{data_path}/SDC/{year}.xlsx\", header=1, engine='openpyxl')\n",
    "        #df = df.drop(df.columns[4], axis=1) # this column is duplicate with column 3 \n",
    "        #print(len(df.columns))\n",
    "        df.columns = name_lst\n",
    "        \n",
    "        # check date var loading ok\n",
    "        check = df[df['DA'] == datetime.time(0, 0)]\n",
    "        if check.shape[0] == 0 :\n",
    "            print('date variables loading ok \\n')\n",
    "        else:\n",
    "            print('date variables loading fail, please manually check. number of failed records: ', check.shape[0])\n",
    "        \n",
    "        df_l.append(df)\n",
    "        print(f'{year} data shape:', df.shape)\n",
    "        del df\n",
    "    df = pd.concat(df_l)\n",
    "    return df\n",
    "\n",
    "def get_sic(df):\n",
    "    '''\n",
    "    df: the sdc table contains sic variable named as `ASIC2`\n",
    "    \n",
    "    '''\n",
    "    x = df.ASIC2.str.split('/')\n",
    "    x = x.transform(lambda x: x[0] if not isinstance(x, float) else np.nan)\n",
    "    df['SIC_A'] = x\n",
    "\n",
    "    x = df.ASIC2.str.split('/')\n",
    "    x = x.transform(lambda x: x[0] if not isinstance(x, float) else np.nan)\n",
    "    df['SIC_T'] = x\n",
    "    \n",
    "    return df "
   ]
  },
  {
   "cell_type": "code",
   "execution_count": 8,
   "metadata": {
    "ExecuteTime": {
     "end_time": "2021-10-12T02:55:27.232094Z",
     "start_time": "2021-10-12T02:55:27.226478Z"
    }
   },
   "outputs": [],
   "source": [
    "def read_sdc(name_lst, from_cache=False):\n",
    "    pickle_it = True\n",
    "    from_cache = False\n",
    "#     #tmp_data_path = tmp_data_path\n",
    "#     s_year = s_year\n",
    "#     e_year = e_year\n",
    "\n",
    "\n",
    "    if (from_cache) & ~(os.path.isfile(pjoin(tmp_data_path , f'sdc_{s_year}_{e_year}.pickle'))):\n",
    "        print(f\"WARNING, Cannot load from cache; \\n No compabible sdc_df cache file named 'sdc_{s_year}_{e_year}.pickle' exists in {tmp_data_path} \\n\")\n",
    "\n",
    "    if (from_cache) & (os.path.isfile(pjoin(tmp_data_path , f'sdc_{s_year}_{e_year}.pickle'))):\n",
    "        sdc_df = pd.read_pickle(pjoin(tmp_data_path , f'sdc_{s_year}_{e_year}.pickle'))\n",
    "        print(\"loading data from previous download. Did not download again\")\n",
    "    else:                 \n",
    "        sdc_df = concat_data(s_year, e_year, name_lst, data_path)\n",
    "        sdc_df = sdc_df.reset_index()\n",
    "\n",
    "        # change var type and fillna\n",
    "        sdc_df = sdc_df.dropna(subset=['ACU','TCU']) # actually nothing drops\n",
    "        sdc_df['DEAL_NO'] = sdc_df['DEAL_NO'].fillna(-1)\n",
    "        print(\"ATTENTION, DEAL_NO NAs in sdc_df are interpolated as '-1'. \\n \")\n",
    "        sdc_df['DEAL_NO'] = sdc_df['DEAL_NO'].astype(str)\n",
    "        sdc_df['TCU']  = sdc_df['TCU'].astype('str')\n",
    "        sdc_df['ACU']  = sdc_df['ACU'].astype('str')\n",
    "        sdc_df['TUP']  = sdc_df['TUP'].astype('str')\n",
    "        sdc_df['AUP']  = sdc_df['AUP'].astype('str')\n",
    "\n",
    "\n",
    "        # add sdc variable\n",
    "        sdc_df = get_sic(sdc_df)\n",
    "        # add year varibale\n",
    "        sdc_df['YEAR'] = sdc_df.DA.dt.year\n",
    "        # update name lst\n",
    "\n",
    "        if pickle_it:\n",
    "            print(f'saving sdc table ranging from {s_year} to {e_year} to {tmp_data_path}')\n",
    "            sdc_df.to_pickle(pjoin(tmp_data_path , f'sdc_{s_year}_{e_year}.pickle'))\n",
    "\n",
    "    if True:\n",
    "        print(\"SDC Data looks like:\", sdc_df.sample(3).T)\n",
    "\n",
    "    name_lst += ['SIC_A', 'SIC_T', 'YEAR'] \n",
    "\n",
    "    return sdc_df, name_lst"
   ]
  },
  {
   "cell_type": "code",
   "execution_count": null,
   "metadata": {},
   "outputs": [],
   "source": [
    "sdc_df, name_lst1 = read_sdc(name_lst)"
   ]
  },
  {
   "cell_type": "markdown",
   "metadata": {},
   "source": [
    "remove:\n",
    "1. self merge self\n",
    "    - ACU = TCU or TUP\n",
    "    - AUP = TCU or TUP\n",
    "2. MA is incomplete"
   ]
  },
  {
   "cell_type": "code",
   "execution_count": 20,
   "metadata": {
    "ExecuteTime": {
     "end_time": "2021-10-12T02:57:24.083477Z",
     "start_time": "2021-10-12T02:57:24.078143Z"
    }
   },
   "outputs": [],
   "source": [
    "def filter1(df):\n",
    "    '''\n",
    "    remove self merge\n",
    "    remove incomplete deal\n",
    "\n",
    "    '''\n",
    "    cond0 = (df.ACU == df.TCU) | (df.ACU == df.TUP)\n",
    "    cond1 = cond0 | (df.AUP == df.TCU) | (df.AUP == df.TUP)\n",
    "    cond2 = cond1 | ~df.STATC.isin([\"C\"])\n",
    "    return df[~cond2]"
   ]
  },
  {
   "cell_type": "code",
   "execution_count": 21,
   "metadata": {
    "ExecuteTime": {
     "end_time": "2021-10-12T02:57:24.524790Z",
     "start_time": "2021-10-12T02:57:24.374738Z"
    }
   },
   "outputs": [],
   "source": [
    "sdc_df2 = filter1(sdc_df)"
   ]
  },
  {
   "cell_type": "code",
   "execution_count": 22,
   "metadata": {
    "ExecuteTime": {
     "end_time": "2021-10-12T02:57:24.614327Z",
     "start_time": "2021-10-12T02:57:24.610797Z"
    }
   },
   "outputs": [
    {
     "data": {
      "text/plain": [
       "(170711, 39)"
      ]
     },
     "execution_count": 22,
     "metadata": {},
     "output_type": "execute_result"
    }
   ],
   "source": [
    "sdc_df2.shape"
   ]
  },
  {
   "cell_type": "markdown",
   "metadata": {},
   "source": [
    "# Filter Majority MA\n",
    "\n",
    "The logic behind Filtering see [appendix1.2 majority takeover]()"
   ]
  },
  {
   "cell_type": "code",
   "execution_count": 23,
   "metadata": {
    "ExecuteTime": {
     "end_time": "2021-10-12T02:57:25.284773Z",
     "start_time": "2021-10-12T02:57:25.277173Z"
    }
   },
   "outputs": [],
   "source": [
    "\n",
    "def majority_filter(df):\n",
    "    '''\n",
    "    Description: used for filter \"majority\" takeover; Following “The Importance of Industry Links in Merger Waves.” The Journal of Finance 69 (2): 527–76. https://doi.org/10.1111/jofi.12122.\n",
    "    Use: use for sdc_df\n",
    "    input: sdc_df\n",
    "    output: a new filtered sdc_df  to replace the old one\n",
    "    '''\n",
    "    \n",
    "    cond1 = ((df.PCTACQ > 20.0) | pd.isna(df.PCTACQ))\n",
    "    cond2 = cond1 & ((df.PCTOWN > 51.0) | (pd.isna(df.PCTOWN)))\n",
    "    cond3 = cond2 & ((df.VAL > 1) | pd.isna(df.VAL))\n",
    "    cond4 = cond3 & (df.BLOCK !='Yes') & (df.CREEP !='Yes') & (df.PRIVATIZATION !='Yes')\n",
    "    df_new = df[cond3]\n",
    "    print('original df shape: ', df.shape, '\\n')\n",
    "    print('filtered df shape: ', df_new.shape)\n",
    "    return df_new.reset_index(drop=True)"
   ]
  },
  {
   "cell_type": "code",
   "execution_count": 24,
   "metadata": {
    "ExecuteTime": {
     "end_time": "2021-10-12T02:57:25.777491Z",
     "start_time": "2021-10-12T02:57:25.581887Z"
    }
   },
   "outputs": [
    {
     "name": "stdout",
     "output_type": "stream",
     "text": [
      "original df shape:  (170711, 39) \n",
      "\n",
      "filtered df shape:  (159139, 39)\n"
     ]
    }
   ],
   "source": [
    "sdc_df3 = majority_filter(sdc_df2)"
   ]
  },
  {
   "cell_type": "markdown",
   "metadata": {},
   "source": [
    "# Prepare Linking\n",
    "\n",
    "make linking variables' type and format are the same"
   ]
  },
  {
   "cell_type": "code",
   "execution_count": 25,
   "metadata": {
    "ExecuteTime": {
     "end_time": "2021-10-12T02:57:26.087160Z",
     "start_time": "2021-10-12T02:57:26.083504Z"
    }
   },
   "outputs": [],
   "source": [
    "def var_type_checker(df1, df2):\n",
    "    '''\n",
    "    df1: sdc_df\n",
    "    df2: linking table\n",
    "    \n",
    "    checking cusip types are the same\n",
    "    '''\n",
    "    # gvkey, cusip match\n",
    "    assert type(df1.ACU[0]) == type(df1.TCU[0]) == type(df1.AUP[0]) == type(df1.TUP[0]) \n",
    "    \n",
    "    assert type(df1.TCU[0]) == type(df2.HCUSIP[0]) \n",
    "\n",
    "    print(\"variable type checking finished, No error Found. \\n\")"
   ]
  },
  {
   "cell_type": "markdown",
   "metadata": {},
   "source": [
    "## load linking tables"
   ]
  },
  {
   "cell_type": "code",
   "execution_count": 26,
   "metadata": {
    "ExecuteTime": {
     "end_time": "2021-10-12T02:57:26.623270Z",
     "start_time": "2021-10-12T02:57:26.601199Z"
    }
   },
   "outputs": [],
   "source": [
    "link1 = pd.read_pickle(data_path+\"hcusip_permno.pickle\")\n",
    "link2 = pd.read_pickle(data_path+\"permno_gvkey.pickle\")"
   ]
  },
  {
   "cell_type": "markdown",
   "metadata": {},
   "source": [
    "# Linking PERMNO\n",
    "\n",
    "run the following after run [Appendix_1.3_CRSP_all_CUSIP](./Appendix_1.3_CRSP_all_CUSIP.ipynb)\n",
    "\n",
    "It is normal to has a lot of NAs. Since Priv. do not have PRERMNO"
   ]
  },
  {
   "cell_type": "markdown",
   "metadata": {},
   "source": [
    "## merge with PERMNO"
   ]
  },
  {
   "cell_type": "code",
   "execution_count": 27,
   "metadata": {
    "ExecuteTime": {
     "end_time": "2021-10-12T02:57:27.346979Z",
     "start_time": "2021-10-12T02:57:27.335722Z"
    }
   },
   "outputs": [
    {
     "ename": "NameError",
     "evalue": "name 'crsp_name_history' is not defined",
     "output_type": "error",
     "traceback": [
      "\u001b[0;31m---------------------------------------------------------------------------\u001b[0m",
      "\u001b[0;31mNameError\u001b[0m                                 Traceback (most recent call last)",
      "\u001b[0;32m<ipython-input-27-e0e24acf903b>\u001b[0m in \u001b[0;36m<module>\u001b[0;34m\u001b[0m\n\u001b[0;32m----> 1\u001b[0;31m \u001b[0mmerged1_1\u001b[0m \u001b[0;34m=\u001b[0m \u001b[0msdc_df3\u001b[0m\u001b[0;34m.\u001b[0m\u001b[0mmerge\u001b[0m\u001b[0;34m(\u001b[0m\u001b[0mcrsp_name_history\u001b[0m\u001b[0;34m,\u001b[0m \u001b[0mleft_on\u001b[0m\u001b[0;34m=\u001b[0m\u001b[0;34m'ACU'\u001b[0m\u001b[0;34m,\u001b[0m \u001b[0mright_on\u001b[0m \u001b[0;34m=\u001b[0m \u001b[0;34m'HCUSIP'\u001b[0m\u001b[0;34m,\u001b[0m \u001b[0mhow\u001b[0m \u001b[0;34m=\u001b[0m \u001b[0;34m'left'\u001b[0m\u001b[0;34m)\u001b[0m\u001b[0;34m\u001b[0m\u001b[0;34m\u001b[0m\u001b[0m\n\u001b[0m",
      "\u001b[0;31mNameError\u001b[0m: name 'crsp_name_history' is not defined"
     ]
    }
   ],
   "source": [
    "merged1_1 = sdc_df3.merge(crsp_name_history, left_on='ACU', right_on = 'HCUSIP', how = 'left')"
   ]
  },
  {
   "cell_type": "code",
   "execution_count": 28,
   "metadata": {
    "ExecuteTime": {
     "end_time": "2021-10-12T02:57:27.598019Z",
     "start_time": "2021-10-12T02:57:27.586724Z"
    }
   },
   "outputs": [
    {
     "ename": "NameError",
     "evalue": "name 'merged1' is not defined",
     "output_type": "error",
     "traceback": [
      "\u001b[0;31m---------------------------------------------------------------------------\u001b[0m",
      "\u001b[0;31mNameError\u001b[0m                                 Traceback (most recent call last)",
      "\u001b[0;32m<ipython-input-28-f072e93ff1eb>\u001b[0m in \u001b[0;36m<module>\u001b[0;34m\u001b[0m\n\u001b[0;32m----> 1\u001b[0;31m \u001b[0mmerged1_2\u001b[0m \u001b[0;34m=\u001b[0m \u001b[0mmerged1\u001b[0m\u001b[0;34m.\u001b[0m\u001b[0mmerge\u001b[0m\u001b[0;34m(\u001b[0m\u001b[0mcrsp_name_history\u001b[0m\u001b[0;34m,\u001b[0m \u001b[0mleft_on\u001b[0m\u001b[0;34m=\u001b[0m\u001b[0;34m'AUP'\u001b[0m\u001b[0;34m,\u001b[0m \u001b[0mright_on\u001b[0m \u001b[0;34m=\u001b[0m \u001b[0;34m'HCUSIP'\u001b[0m\u001b[0;34m,\u001b[0m \u001b[0mhow\u001b[0m \u001b[0;34m=\u001b[0m \u001b[0;34m'left'\u001b[0m\u001b[0;34m)\u001b[0m\u001b[0;34m\u001b[0m\u001b[0;34m\u001b[0m\u001b[0m\n\u001b[0m",
      "\u001b[0;31mNameError\u001b[0m: name 'merged1' is not defined"
     ]
    }
   ],
   "source": [
    "merged1_2 = merged1.merge(crsp_name_history, left_on='AUP', right_on = 'HCUSIP', how = 'left')"
   ]
  },
  {
   "cell_type": "code",
   "execution_count": 29,
   "metadata": {
    "ExecuteTime": {
     "end_time": "2021-10-12T02:57:27.878516Z",
     "start_time": "2021-10-12T02:57:27.867023Z"
    }
   },
   "outputs": [
    {
     "ename": "NameError",
     "evalue": "name 'merged2' is not defined",
     "output_type": "error",
     "traceback": [
      "\u001b[0;31m---------------------------------------------------------------------------\u001b[0m",
      "\u001b[0;31mNameError\u001b[0m                                 Traceback (most recent call last)",
      "\u001b[0;32m<ipython-input-29-0e3207ca89a6>\u001b[0m in \u001b[0;36m<module>\u001b[0;34m\u001b[0m\n\u001b[0;32m----> 1\u001b[0;31m \u001b[0mmerged1_3\u001b[0m \u001b[0;34m=\u001b[0m \u001b[0mmerged2\u001b[0m\u001b[0;34m.\u001b[0m\u001b[0mmerge\u001b[0m\u001b[0;34m(\u001b[0m\u001b[0mcrsp_name_history\u001b[0m\u001b[0;34m,\u001b[0m \u001b[0mleft_on\u001b[0m\u001b[0;34m=\u001b[0m\u001b[0;34m'TCU'\u001b[0m\u001b[0;34m,\u001b[0m \u001b[0mright_on\u001b[0m \u001b[0;34m=\u001b[0m \u001b[0;34m'HCUSIP'\u001b[0m\u001b[0;34m,\u001b[0m \u001b[0mhow\u001b[0m \u001b[0;34m=\u001b[0m \u001b[0;34m'left'\u001b[0m\u001b[0;34m)\u001b[0m\u001b[0;34m\u001b[0m\u001b[0;34m\u001b[0m\u001b[0m\n\u001b[0m",
      "\u001b[0;31mNameError\u001b[0m: name 'merged2' is not defined"
     ]
    }
   ],
   "source": [
    "merged1_3 = merged2.merge(crsp_name_history, left_on='TCU', right_on = 'HCUSIP', how = 'left')"
   ]
  },
  {
   "cell_type": "code",
   "execution_count": null,
   "metadata": {
    "ExecuteTime": {
     "end_time": "2021-10-12T02:57:15.572381Z",
     "start_time": "2021-10-12T02:57:14.792Z"
    }
   },
   "outputs": [],
   "source": [
    "merged1_4 = merged3.merge(crsp_name_history, left_on='TUP', right_on = 'HCUSIP', how = 'left')"
   ]
  },
  {
   "cell_type": "code",
   "execution_count": null,
   "metadata": {
    "ExecuteTime": {
     "end_time": "2021-10-12T02:57:15.572962Z",
     "start_time": "2021-10-12T02:57:14.793Z"
    }
   },
   "outputs": [],
   "source": [
    "merged1_4 = merged1_4.drop(['index'], axis=1).reset_index(drop=True)"
   ]
  },
  {
   "cell_type": "code",
   "execution_count": null,
   "metadata": {
    "ExecuteTime": {
     "end_time": "2021-10-12T02:57:15.573339Z",
     "start_time": "2021-10-12T02:57:14.794Z"
    }
   },
   "outputs": [],
   "source": [
    "merged1_4.columns"
   ]
  },
  {
   "cell_type": "code",
   "execution_count": null,
   "metadata": {
    "ExecuteTime": {
     "end_time": "2021-10-12T02:57:15.573896Z",
     "start_time": "2021-10-12T02:57:14.796Z"
    }
   },
   "outputs": [],
   "source": [
    "tmp = []\n",
    "for f in ['A', 'T']: # \n",
    "    for p in ['S', 'P']: # self, parent\n",
    "        tmp += [ f+p+'_HCUSIP', f+p+'_PERMNO']"
   ]
  },
  {
   "cell_type": "code",
   "execution_count": null,
   "metadata": {
    "ExecuteTime": {
     "end_time": "2021-10-12T02:57:15.574308Z",
     "start_time": "2021-10-12T02:57:14.797Z"
    }
   },
   "outputs": [],
   "source": [
    "name_lst2 = name_lst1 + tmp"
   ]
  },
  {
   "cell_type": "code",
   "execution_count": null,
   "metadata": {
    "ExecuteTime": {
     "end_time": "2021-10-12T02:57:15.574794Z",
     "start_time": "2021-10-12T02:57:14.799Z"
    }
   },
   "outputs": [],
   "source": [
    "merged1_4.columns = name_lst2"
   ]
  },
  {
   "cell_type": "code",
   "execution_count": null,
   "metadata": {
    "ExecuteTime": {
     "end_time": "2021-10-12T02:57:15.575248Z",
     "start_time": "2021-10-12T02:57:14.800Z"
    },
    "scrolled": true
   },
   "outputs": [],
   "source": [
    "merged1_4.columns"
   ]
  },
  {
   "cell_type": "code",
   "execution_count": null,
   "metadata": {
    "ExecuteTime": {
     "end_time": "2021-10-12T02:57:15.575844Z",
     "start_time": "2021-10-12T02:57:14.801Z"
    }
   },
   "outputs": [],
   "source": [
    "\n",
    "print(\n",
    "    merged1_4.AS_PERMNO.isna().sum(),\n",
    "    merged1_4.AP_PERMNO.isna().sum(),\n",
    "    merged1_4.TS_PERMNO.isna().sum(),\n",
    "    merged1_4.TP_PERMNO.isna().sum())\n",
    "    \n",
    "    "
   ]
  },
  {
   "cell_type": "markdown",
   "metadata": {},
   "source": [
    "# Linking with GVKEY\n",
    "\n",
    "check [appendix 1.4](./Appendix_1.4_PERMNO_GVKEY.ipynb)"
   ]
  },
  {
   "cell_type": "code",
   "execution_count": null,
   "metadata": {
    "ExecuteTime": {
     "end_time": "2021-10-12T02:57:15.576481Z",
     "start_time": "2021-10-12T02:57:14.826Z"
    }
   },
   "outputs": [],
   "source": [
    "merged2_1 = merged1_4.merge(link2, left_on='AS_PERMNO', right_on = 'PERMNO', how = 'left')"
   ]
  },
  {
   "cell_type": "code",
   "execution_count": null,
   "metadata": {
    "ExecuteTime": {
     "end_time": "2021-10-12T02:57:15.577116Z",
     "start_time": "2021-10-12T02:57:14.828Z"
    }
   },
   "outputs": [],
   "source": [
    "merged2_2 = merged2_1.merge(link2, left_on='AP_PERMNO', right_on = 'PERMNO', how = 'left')"
   ]
  },
  {
   "cell_type": "code",
   "execution_count": null,
   "metadata": {
    "ExecuteTime": {
     "end_time": "2021-10-12T02:57:15.577608Z",
     "start_time": "2021-10-12T02:57:14.829Z"
    }
   },
   "outputs": [],
   "source": [
    "merged2_3 = merged2_2.merge(link2, left_on='TS_PERMNO', right_on = 'PERMNO', how = 'left')"
   ]
  },
  {
   "cell_type": "code",
   "execution_count": null,
   "metadata": {
    "ExecuteTime": {
     "end_time": "2021-10-12T02:57:15.578289Z",
     "start_time": "2021-10-12T02:57:14.830Z"
    }
   },
   "outputs": [],
   "source": [
    "merged2_4 = merged2_3.merge(link2, left_on='TP_PERMNO', right_on = 'PERMNO', how = 'left')"
   ]
  },
  {
   "cell_type": "code",
   "execution_count": null,
   "metadata": {
    "ExecuteTime": {
     "end_time": "2021-10-12T02:57:15.578780Z",
     "start_time": "2021-10-12T02:57:14.832Z"
    }
   },
   "outputs": [],
   "source": [
    "merged2_4.columns"
   ]
  },
  {
   "cell_type": "code",
   "execution_count": null,
   "metadata": {
    "ExecuteTime": {
     "end_time": "2021-10-12T02:57:15.579426Z",
     "start_time": "2021-10-12T02:57:14.833Z"
    }
   },
   "outputs": [],
   "source": [
    "tmp = []\n",
    "for f in ['A', 'T']: # \n",
    "    for p in ['S', 'P']: # self, parent\n",
    "        tmp += [ f+p+'_PERMNO_2',f+p+'_GVKEY']"
   ]
  },
  {
   "cell_type": "code",
   "execution_count": null,
   "metadata": {
    "ExecuteTime": {
     "end_time": "2021-10-12T02:57:15.579904Z",
     "start_time": "2021-10-12T02:57:14.835Z"
    }
   },
   "outputs": [],
   "source": [
    "name_lst3 = name_lst2 + tmp"
   ]
  },
  {
   "cell_type": "code",
   "execution_count": null,
   "metadata": {
    "ExecuteTime": {
     "end_time": "2021-10-12T02:57:15.580304Z",
     "start_time": "2021-10-12T02:57:14.836Z"
    }
   },
   "outputs": [],
   "source": [
    "merged2_4.columns = name_lst3"
   ]
  },
  {
   "cell_type": "code",
   "execution_count": null,
   "metadata": {
    "ExecuteTime": {
     "end_time": "2021-10-12T02:57:15.580782Z",
     "start_time": "2021-10-12T02:57:14.837Z"
    }
   },
   "outputs": [],
   "source": [
    "tmp = []\n",
    "for f in ['A', 'T']: # \n",
    "    for p in ['S', 'P']: # self, parent\n",
    "        tmp += [f+p+'_HCUSIP', f+p+'_PERMNO_2']"
   ]
  },
  {
   "cell_type": "code",
   "execution_count": null,
   "metadata": {
    "ExecuteTime": {
     "end_time": "2021-10-12T02:57:15.581253Z",
     "start_time": "2021-10-12T02:57:14.838Z"
    }
   },
   "outputs": [],
   "source": [
    "merged_gvkey = merged2_4.drop(tmp, axis=1)"
   ]
  },
  {
   "cell_type": "code",
   "execution_count": null,
   "metadata": {
    "ExecuteTime": {
     "end_time": "2021-10-12T02:57:15.581677Z",
     "start_time": "2021-10-12T02:57:14.840Z"
    },
    "scrolled": true
   },
   "outputs": [],
   "source": [
    "merged_gvkey.columns"
   ]
  },
  {
   "cell_type": "code",
   "execution_count": null,
   "metadata": {
    "ExecuteTime": {
     "end_time": "2021-10-12T02:57:15.582154Z",
     "start_time": "2021-10-12T02:57:14.841Z"
    }
   },
   "outputs": [],
   "source": [
    "merged_gvkey.shape"
   ]
  },
  {
   "cell_type": "markdown",
   "metadata": {},
   "source": []
  },
  {
   "cell_type": "markdown",
   "metadata": {},
   "source": [
    "# Arrange linking result\n",
    "\n",
    "\n",
    "the following conditions are marked as GVKEY merged successfully:\n",
    "\n",
    "`ok` = `Corresponding GVKEY Found`\n",
    "\n",
    "num of succcess condition = (C22 + C21) * (C22 + C21) = 9\n",
    "\n",
    "| ACU ok | AUP  ok | TCU ok | TUP ok | mark as                                           |\n",
    "|------------------|-------------------|------------------|-------------------|---------------------------------------------------|\n",
    "| 1                | 1                 | 1                | 1                 | 1                                                 |\n",
    "| 1                | 1                 | 1                | 0                 | 2                                                 |\n",
    "| 1                | 1                 | 0                | 1                 | 3                                                 |\n",
    "| 1                | 0                 | 1                | 1                 | 4                                                 |\n",
    "| 1                | 0                 | 1                | 0                 | 5                                                 |\n",
    "| 1                | 0                 | 0                | 1                 | 6                                                 |\n",
    "| 0                | 1                 | 1                | 1                 | 7                                                 |\n",
    "| 0                | 1                 | 1                | 0                 | 8                                                 |\n",
    "| 0                | 1                 | 0                | 1                 | 9                                                 |\n",
    "|                  |                   |                  |                   | all other combination is certainly unanalysiable |\n",
    "\n",
    "\n",
    "Here I just mark those senarios.\n",
    "\n",
    "Since at final, only the firms show up in TNIC is analysiable. However:\n",
    "- TNIC: only contains those firm with regular updated 10-K (public firms)\n",
    "- GVKEY: may contains private firms\n",
    "\n"
   ]
  },
  {
   "cell_type": "code",
   "execution_count": null,
   "metadata": {
    "ExecuteTime": {
     "end_time": "2021-10-12T02:57:15.582608Z",
     "start_time": "2021-10-12T02:57:14.933Z"
    }
   },
   "outputs": [],
   "source": [
    "def gvkey_checker(df):\n",
    "    '''\n",
    "    marker is str\n",
    "    '''\n",
    "    def mark(row):\n",
    "        if pd.notna(row.AS_GVKEY) & pd.notna(row.AP_GVKEY) & pd.notna(row.TS_GVKEY) & pd.notna(row.TP_GVKEY):\n",
    "            return '1'\n",
    "        if pd.notna(row.AS_GVKEY) & pd.notna(row.AP_GVKEY) & pd.notna(row.TS_GVKEY) & pd.isna(row.TP_GVKEY):\n",
    "            return '2'\n",
    "        if pd.notna(row.AS_GVKEY) & pd.notna(row.AP_GVKEY) & pd.isna(row.TS_GVKEY) & pd.notna(row.TP_GVKEY):\n",
    "            return '3'\n",
    "        if pd.notna(row.AS_GVKEY) & pd.isna(row.AP_GVKEY) & pd.notna(row.TS_GVKEY) & pd.notna(row.TP_GVKEY):\n",
    "            return '4'\n",
    "        if pd.notna(row.AS_GVKEY) & pd.notna(row.AP_GVKEY) & pd.isna(row.TS_GVKEY) & pd.notna(row.TP_GVKEY):\n",
    "            return '3'\n",
    "        if pd.notna(row.AS_GVKEY) & pd.isna(row.AP_GVKEY) & pd.notna(row.TS_GVKEY) & pd.isna(row.TP_GVKEY):\n",
    "            return '5'\n",
    "        if pd.notna(row.AS_GVKEY) & pd.isna(row.AP_GVKEY) & pd.isna(row.TS_GVKEY) & pd.notna(row.TP_GVKEY):\n",
    "            return '6'\n",
    "        if pd.isna(row.AS_GVKEY) & pd.notna(row.AP_GVKEY) & pd.notna(row.TS_GVKEY) & pd.notna(row.TP_GVKEY):\n",
    "            return '7'\n",
    "        if pd.isna(row.AS_GVKEY) & pd.notna(row.AP_GVKEY) & pd.notna(row.TS_GVKEY) & pd.isna(row.TP_GVKEY):\n",
    "            return '8'\n",
    "        if pd.isna(row.AS_GVKEY) & pd.notna(row.AP_GVKEY) & pd.isna(row.TS_GVKEY) & pd.notna(row.TP_GVKEY):\n",
    "            return '9'\n",
    "        else:\n",
    "            return '0'\n",
    "    df['GVKEY_STATUS'] = df.apply(mark, axis=1)\n",
    "    \n",
    "    print('Number of Conditions: \\n', df['GVKEY_STATUS'].value_counts(),'\\n')\n",
    "    \n",
    "    return df\n",
    "        \n",
    "        "
   ]
  },
  {
   "cell_type": "code",
   "execution_count": null,
   "metadata": {
    "ExecuteTime": {
     "end_time": "2021-10-12T02:57:15.583097Z",
     "start_time": "2021-10-12T02:57:14.935Z"
    }
   },
   "outputs": [],
   "source": [
    "merged_gvkey2 = gvkey_checker(merged_gvkey)"
   ]
  },
  {
   "cell_type": "markdown",
   "metadata": {},
   "source": [
    "# Link with EWENS\n",
    "\n",
    "- EWENS' strategy is linking by name. It's not as accurate as linking via the method above\n",
    "- And you have no idea if it was match with \"self\" or \"parent\".\n",
    "\n",
    "- Here I did not apply this\n",
    "\n"
   ]
  },
  {
   "cell_type": "markdown",
   "metadata": {},
   "source": [
    "The following condition may be saved\n",
    "\n",
    "\n",
    "| AP | AS | TS | TP | EWENS agvkey | EWENS tgvkey |\n",
    "|----|----|----|----|--------------|--------------|\n",
    "| 1  | 0  | 0  | 0  | ~            | 1            |\n",
    "| 0  | 1  | 0  | 0  | ~            | 1            |\n",
    "| 0  | 0  | 1  | 0  | 1            | ~            |\n",
    "| 0  | 0  | 0  | 1  | 1            | ~            |\n",
    "| 0  | 0  | 0  | 0  | 1            | 1            |"
   ]
  },
  {
   "cell_type": "markdown",
   "metadata": {},
   "source": [
    "before run EWENS, run [Appendix 1.5](./Appendix_1.5_EWENS.ipynb)"
   ]
  },
  {
   "cell_type": "code",
   "execution_count": null,
   "metadata": {
    "ExecuteTime": {
     "end_time": "2021-10-12T02:57:15.583594Z",
     "start_time": "2021-10-12T02:57:15.026Z"
    }
   },
   "outputs": [],
   "source": [
    "ewens = pd.read_pickle(tmp_data_path+\"/ewens.pickle\")\n",
    "merged3_1 = merged_gvkey2.merge(ewens, left_on = \"DEAL_NO\", right_on = \"DealNumber\", how = \"left\")"
   ]
  },
  {
   "cell_type": "code",
   "execution_count": null,
   "metadata": {
    "ExecuteTime": {
     "end_time": "2021-10-12T02:57:15.584123Z",
     "start_time": "2021-10-12T02:57:15.029Z"
    },
    "scrolled": true
   },
   "outputs": [],
   "source": [
    "merged3_1.columns"
   ]
  },
  {
   "cell_type": "markdown",
   "metadata": {},
   "source": [
    "Since we are unable to identify if the matched GVKEY in EWENS is \"self\" or \"parent\", I naively classfied them as \"self\"."
   ]
  },
  {
   "cell_type": "code",
   "execution_count": null,
   "metadata": {
    "ExecuteTime": {
     "end_time": "2021-10-12T02:57:15.584551Z",
     "start_time": "2021-10-12T02:57:15.061Z"
    }
   },
   "outputs": [],
   "source": [
    "def attach_ewens(df):\n",
    "    '''\n",
    "    \n",
    "    '''\n",
    "    for i, row in df.iterrows():\n",
    "        if (row.GVKEY_STATUS == '0') & (pd.isna(row.AS_GVKEY) & pd.isna(row.AP_GVKEY)) & pd.notna(row.agvkey):\n",
    "            df.loc[i, 'AS_GVKEY'] = row.agvkey\n",
    "        if (row.GVKEY_STATUS == '0') & (pd.isna(row.TS_GVKEY) & pd.isna(row.TP_GVKEY)) & pd.notna(row.tgvkey):\n",
    "            df.loc[i, 'TS_GVKEY'] = row.tgvkey\n",
    "        \n",
    "    \n",
    "    df = df.drop(['agvkey', 'DealNumber', 'tgvkey'], axis=1)\n",
    "    \n",
    "    return df\n",
    "            \n",
    "    \n",
    "    "
   ]
  },
  {
   "cell_type": "code",
   "execution_count": null,
   "metadata": {
    "ExecuteTime": {
     "end_time": "2021-10-12T02:57:15.585086Z",
     "start_time": "2021-10-12T02:57:15.063Z"
    }
   },
   "outputs": [],
   "source": [
    "merged_gvkey3 = attach_ewens(merged3_1.reset_index(drop=True))"
   ]
  },
  {
   "cell_type": "code",
   "execution_count": null,
   "metadata": {
    "ExecuteTime": {
     "end_time": "2021-10-12T02:57:15.585513Z",
     "start_time": "2021-10-12T02:57:15.064Z"
    },
    "scrolled": true
   },
   "outputs": [],
   "source": [
    "merged_gvkey4 = gvkey_checker(merged_gvkey3)"
   ]
  },
  {
   "cell_type": "markdown",
   "metadata": {},
   "source": [
    "# Store result \n",
    "\n",
    "to tmp data path"
   ]
  },
  {
   "cell_type": "code",
   "execution_count": null,
   "metadata": {
    "ExecuteTime": {
     "end_time": "2021-10-12T02:57:15.585947Z",
     "start_time": "2021-10-12T02:57:15.096Z"
    }
   },
   "outputs": [],
   "source": [
    "merged_gvkey4.to_pickle(tmp_data_path+'/merged_gvkey2.pickle')"
   ]
  },
  {
   "cell_type": "code",
   "execution_count": null,
   "metadata": {
    "ExecuteTime": {
     "end_time": "2021-10-12T02:57:15.586371Z",
     "start_time": "2021-10-12T02:57:15.098Z"
    }
   },
   "outputs": [],
   "source": [
    "analysable = merged_gvkey4[merged_gvkey4.GVKEY_STATUS != '0']\n",
    "print(\"final data shape:\", analysable.shape)\n",
    "analysable.to_pickle(tmp_data_path+'/merged_analysable.pickle')"
   ]
  },
  {
   "cell_type": "code",
   "execution_count": null,
   "metadata": {},
   "outputs": [],
   "source": []
  }
 ],
 "metadata": {
  "kernelspec": {
   "display_name": "GNN",
   "language": "python",
   "name": "gnn"
  },
  "language_info": {
   "codemirror_mode": {
    "name": "ipython",
    "version": 3
   },
   "file_extension": ".py",
   "mimetype": "text/x-python",
   "name": "python",
   "nbconvert_exporter": "python",
   "pygments_lexer": "ipython3",
   "version": "3.8.10"
  },
  "latex_envs": {
   "LaTeX_envs_menu_present": true,
   "autoclose": false,
   "autocomplete": true,
   "bibliofile": "biblio.bib",
   "cite_by": "apalike",
   "current_citInitial": 1,
   "eqLabelWithNumbers": true,
   "eqNumInitial": 1,
   "hotkeys": {
    "equation": "Ctrl-E",
    "itemize": "Ctrl-I"
   },
   "labels_anchors": false,
   "latex_user_defs": false,
   "report_style_numbering": false,
   "user_envs_cfg": false
  },
  "toc": {
   "base_numbering": 1,
   "nav_menu": {},
   "number_sections": true,
   "sideBar": true,
   "skip_h1_title": false,
   "title_cell": "Table of Contents",
   "title_sidebar": "Contents",
   "toc_cell": false,
   "toc_position": {},
   "toc_section_display": true,
   "toc_window_display": false
  }
 },
 "nbformat": 4,
 "nbformat_minor": 4
}
