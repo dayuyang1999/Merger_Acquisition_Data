{
 "cells": [
  {
   "cell_type": "markdown",
   "metadata": {},
   "source": [
    "see appendix 2.1.x for detail how I choose financial vars.\n",
    "\n",
    "Mainly follows:\n",
    "\n",
    "\n",
    "Bernard, Darren, Terrence Blackburne, and Jacob Thornock. 2020. “Information Flows among Rivals and Corporate Investment.” Journal of Financial Economics 136 (3): 760–79.\n",
    "\n",
    "Yang, Chin-Sheng, Chih-Ping Wei, and Yu-Hsun Chiang. 2014. “Exploiting Technological Indicators for Effective Technology Merger and Acquisition (M&A) Predictions.” Decision Sciences 45 (1): 147–74."
   ]
  },
  {
   "cell_type": "markdown",
   "metadata": {},
   "source": [
    "the fin var table:\n",
    "\n",
    "| variable               | formula                          | definition                                                          |\n",
    "|------------------------|----------------------------------|---------------------------------------------------------------------|\n",
    "|                        |        **Bernard et al. (2020) Appendix A**     |                                                                     |\n",
    "| size_i                 | at                               | Firm i’s total assets                                               |\n",
    "| market-to-book ratio_i | (at+prcc_f*csho-ceq-txdb)/at     | Market-to-book assets ratio of firm i                               |\n",
    "| leverage_i             | (dlc+dltt)/at                    | Book leverage of firm i                                             |\n",
    "| roa_i                  | ib/at                            | Return-on-assets of firm i                                          |\n",
    "| sales growth_i         | (sale_{t}-sale_{t-1})/sale_{t-1} | Sales growth of firm i                                              |\n",
    "| ppe_i                  | ppent/at                         | Firm i’s net plant, property, and equipment, scaled by total assets |\n",
    "| cash | ch | cash|\n",
    "|                        |  **Yang et al (2014)  Table 2**     |                                                                     |\n",
    "| sale_i                 | sale                             | Firm i’s net sales                                                  |\n",
    "| cash-to-asset ratio_i  | ch/at                            | Cash flow to total assets ratio of firm i                           |\n",
    "| cash-to-sales ratio_i  | ch/sale                          | Cash flow to sales ratio of firm i                                  |\n",
    "| sales-to-asset ratio_i | sale/at                          | Net sales/total assets                                              |\n",
    "| current ratio_i        | act/lct                          | Current assets of firm i scaled by its current liabilities          |\n",
    "| asset growth_i         | (at_{t}-at_{t-1})/at_{t-1}       | Total asset growth of firm i                           \n",
    "| gsi | cogs/invt | cost of goods sold divided by inventory |\n",
    "| de| dlc+dltt/CEQ| debt to common equity|\n",
    "|rd|rdip|in process RD expense|\n",
    "|roe|ib/ceq| return on equity|\n",
    "\n",
    "\n",
    "\n",
    "Finally, if classify variables by types:\n",
    "\n",
    "|                                | Bernald? | Yang? |\n",
    "| ------------------------------ | -------- | ----- |\n",
    "| **holding assets of a firm**       |          |       |\n",
    "| size                           | 1        | 1     |\n",
    "| market-to-book asset ratio     | 1        | 1     |\n",
    "| PPE                            | 1        | 0     |\n",
    "| cash                           | 1        | 0     |\n",
    "| cash/asset                     | 0        | 1     |\n",
    "| cash/sale                      | 0        | 1     |\n",
    "| current ratio(asset/liability) | 0        | 1     |\n",
    "| asset growth                   | 0        | 1     |\n",
    "|                                |          |       |\n",
    "| **leverage**                       |          |       |\n",
    "| book leverage(debt/asset)      | 1        | 1     |\n",
    "| debt/equity                    | 0        | 1     |\n",
    "|                                |          |       |\n",
    "| **Business Operation**             |          |       |\n",
    "| ROA: return on asset           | 1        | 1     |\n",
    "| sale                           | 0        | 1     |\n",
    "| sale growth                    | 1        | 1     |\n",
    "| sale/asset                     | 0        | 1     |\n",
    "| cost of goods sold/inventory   | 0        | 1     |\n",
    "| ROE                            | 0        | 1     |\n",
    "|                                |          |       |\n",
    "|                                |          |       |\n",
    "| **R&D**                            |          |       |\n",
    "| in process RD                  | 0        | 0     |"
   ]
  },
  {
   "cell_type": "code",
   "execution_count": 28,
   "metadata": {
    "ExecuteTime": {
     "end_time": "2021-10-13T02:43:50.298768Z",
     "start_time": "2021-10-13T02:43:50.294995Z"
    }
   },
   "outputs": [],
   "source": [
    "import numpy as np\n",
    "import pandas as pd\n",
    "import wrds\n",
    "import pickle"
   ]
  },
  {
   "cell_type": "code",
   "execution_count": 30,
   "metadata": {
    "ExecuteTime": {
     "end_time": "2021-10-13T02:43:56.622215Z",
     "start_time": "2021-10-13T02:43:56.618492Z"
    }
   },
   "outputs": [],
   "source": [
    "tmp_data_path = '../MA_data/data/tmp'\n",
    "\n",
    "\n",
    "s_year = 1997-1\n",
    "e_year = 2020"
   ]
  },
  {
   "cell_type": "code",
   "execution_count": 31,
   "metadata": {
    "ExecuteTime": {
     "end_time": "2021-10-13T02:43:59.080421Z",
     "start_time": "2021-10-13T02:43:59.074209Z"
    }
   },
   "outputs": [],
   "source": [
    "def get_firm_annual_data(tmp_data_path, s_year, e_year, db):\n",
    "    # Among the selected variables, for those money denominated variables, the unit is million.\n",
    "    pd_afr = db.raw_sql(sql=f'''\n",
    "      select gvkey, datadate, at, ceq, csho, prcc_f, txdb, dlc, dltt, ib, sale, ch, ppent, re, act, lct, rdip, cogs, invt\n",
    "      from comp.funda\n",
    "      where extract(year from datadate) >= {s_year} AND extract(year from datadate) <= {e_year}\n",
    "    ''', date_cols=['datadate'])\n",
    "    #\n",
    "    pd_afr.gvkey = pd_afr.gvkey.astype(int).astype(str) # ! keep in mind that we do not allow 00 at front\n",
    "    pd_afr['year'] = pd.DatetimeIndex(pd_afr['datadate']).year\n",
    "    pd_afr.to_pickle(f\"./{tmp_data_path}/fin_raw_{s_year}_{e_year}.pickle\")\n",
    "    print(\"raw Compustat stored in:\", f\"./{tmp_data_path}/fin_raw_{s_year}_{e_year}.pickle\")"
   ]
  },
  {
   "cell_type": "markdown",
   "metadata": {},
   "source": [
    "# Download Raw Compustat Fin vars"
   ]
  },
  {
   "cell_type": "code",
   "execution_count": 32,
   "metadata": {
    "ExecuteTime": {
     "end_time": "2021-10-13T02:44:07.765972Z",
     "start_time": "2021-10-13T02:43:59.971035Z"
    }
   },
   "outputs": [
    {
     "name": "stdout",
     "output_type": "stream",
     "text": [
      "Enter your WRDS username [dalab5]:dayuyang1999\n",
      "Enter your password:········\n",
      "WRDS recommends setting up a .pgpass file.\n",
      "Create .pgpass file now [y/n]?: y\n",
      "Created .pgpass file successfully.\n",
      "Loading library list...\n",
      "Done\n",
      "Loading library list...\n",
      "Done\n"
     ]
    }
   ],
   "source": [
    "db = wrds.Connection()\n",
    "db = wrds.Connection(wrds_username='dayuyang1999')"
   ]
  },
  {
   "cell_type": "code",
   "execution_count": 33,
   "metadata": {
    "ExecuteTime": {
     "end_time": "2021-10-13T02:44:14.406446Z",
     "start_time": "2021-10-13T02:44:09.833880Z"
    }
   },
   "outputs": [
    {
     "name": "stdout",
     "output_type": "stream",
     "text": [
      "raw Compustat stored in: ./../MA_data/data/tmp/fin_raw_1996_2020.pickle\n"
     ]
    }
   ],
   "source": [
    "get_firm_annual_data(tmp_data_path, s_year, e_year, db)"
   ]
  },
  {
   "cell_type": "code",
   "execution_count": 34,
   "metadata": {
    "ExecuteTime": {
     "end_time": "2021-10-13T02:44:14.479081Z",
     "start_time": "2021-10-13T02:44:14.407790Z"
    }
   },
   "outputs": [],
   "source": [
    "fin_var = pd.read_pickle(f\"{tmp_data_path}/fin_raw_{s_year}_{e_year}.pickle\")"
   ]
  },
  {
   "cell_type": "markdown",
   "metadata": {},
   "source": [
    "# Create MA Variables"
   ]
  },
  {
   "cell_type": "code",
   "execution_count": 35,
   "metadata": {
    "ExecuteTime": {
     "end_time": "2021-10-13T02:44:14.487758Z",
     "start_time": "2021-10-13T02:44:14.480623Z"
    }
   },
   "outputs": [],
   "source": [
    "def get_lags(sub_pd):\n",
    "    sub_pd = sub_pd[['gvkey', 'year', 'sale', 'at']]\n",
    "    sub_pd[['lag_year', 'lag_sale', 'lag_at']] = sub_pd[['year', 'sale', 'at']].shift(1)\n",
    "    return sub_pd\n",
    "\n",
    "\n",
    "def create_var(df):\n",
    "    '''\n",
    "    df:  financial var, must contain:\n",
    "        - gvkey\n",
    "        - datadate\n",
    "        - and other variables you interested in\n",
    "    \n",
    "    '''\n",
    "    pd_afr = df\n",
    "    #### pre\n",
    "    # create year and sort\n",
    "    pd_afr['year'] = pd_afr.datadate.dt.year \n",
    "    pd_afr = pd_afr.sort_values(['gvkey', 'year', 'datadate'], ascending=True)\n",
    "    \n",
    "    # check, each firm-year observation should only be observed once\n",
    "    pd_afr = pd_afr.groupby(['gvkey', 'year'], sort=False).tail(1)\n",
    "    \n",
    "    #### create \n",
    "    # keep at ,sale, cash, rdip\n",
    "    ratio_pd = pd_afr[['gvkey', 'year', 'at', 'sale', 'ch', 'rdip']].copy()\n",
    "    \n",
    "    # market to book ratio\n",
    "    ratio_pd['m2b'] = (pd_afr['at']+pd_afr['prcc_f']*pd_afr['csho']-pd_afr['ceq']-pd_afr['txdb'])/(pd_afr['at'])\n",
    "    \n",
    "    # leverage\n",
    "    ratio_pd['lev'] = (pd_afr['dlc']+pd_afr['dltt'])/(pd_afr['at'])\n",
    "    \n",
    "    # return on asset\n",
    "    ratio_pd['roa'] = pd_afr['ib']/(pd_afr['at'])\n",
    "\n",
    "    # various ratios\n",
    "    ratio_pd['ppe'] = pd_afr['ppent']/(pd_afr['at'])\n",
    "    ratio_pd['cash2asset'] = pd_afr['ch']/(pd_afr['at']) \n",
    "    ratio_pd['cash2sale'] = pd_afr['ch']/(pd_afr['sale'])\n",
    "    ratio_pd['sale2asset'] = pd_afr['sale']/(pd_afr['at'])\n",
    "    \n",
    "    # current ratio\n",
    "    ratio_pd['cr'] = pd_afr['act']/(pd_afr['lct']) \n",
    "    \n",
    "    # sale growth\n",
    "    growth_pd = pd_afr[['gvkey', 'year', 'sale', 'at']].copy()\n",
    "    growth_pd[['lag_year', 'lag_sale', 'lag_at']] = growth_pd.groupby('gvkey', sort=False)[['year', 'sale', 'at']].shift(1)\n",
    "    growth_pd['d_sale'] = (growth_pd['sale'] - growth_pd['lag_sale'])/growth_pd['lag_sale']\n",
    "    growth_pd['d_at'] = (growth_pd['at'] - growth_pd['lag_at'])/growth_pd['lag_at']\n",
    "    \n",
    "\n",
    "    # gsi ratio\n",
    "    ratio_pd['gsi'] = pd_afr['cogs']/pd_afr['invt']\n",
    "\n",
    "    # debit to equity ratio\n",
    "    ratio_pd['de'] = (pd_afr['dlc']+pd_afr['dltt'])/pd_afr['ceq']\n",
    "\n",
    "    # roe\n",
    "    ratio_pd['roe'] = pd_afr['ib']/pd_afr['ceq']\n",
    "\n",
    "\n",
    "    #print('check df structure ok: ', growth_pd.head(5))\n",
    "    \n",
    "    ratio_pd = ratio_pd.merge(growth_pd[['gvkey', 'year', 'd_sale', 'd_at']])\n",
    "    \n",
    "    \n",
    "    print('check df created ok: \\n', ratio_pd.head(1))\n",
    "    \n",
    "    print('\\n variable lists of ratio pd: ', ratio_pd.columns)\n",
    "\n",
    "    print(f\"the output df contains {len(ratio_pd.columns)} number of variables:\", ratio_pd.columns)\n",
    "    \n",
    "    return ratio_pd\n",
    "    "
   ]
  },
  {
   "cell_type": "code",
   "execution_count": 36,
   "metadata": {
    "ExecuteTime": {
     "end_time": "2021-10-13T02:44:15.581844Z",
     "start_time": "2021-10-13T02:44:15.121878Z"
    }
   },
   "outputs": [
    {
     "name": "stdout",
     "output_type": "stream",
     "text": [
      "check df created ok: \n",
      "    gvkey  year       at     sale     ch  rdip       m2b       lev      roa  \\\n",
      "0  10000  1996  624.806  721.805  4.664   NaN  0.927419  0.423247  0.02346   \n",
      "\n",
      "        ppe  cash2asset  cash2sale  sale2asset        cr       gsi        de  \\\n",
      "0  0.203133    0.007465   0.006462    1.155247  2.024097  2.053331  1.184056   \n",
      "\n",
      "        roe  d_sale  d_at  \n",
      "0  0.065631     NaN   NaN  \n",
      "\n",
      " variable lists of ratio pd:  Index(['gvkey', 'year', 'at', 'sale', 'ch', 'rdip', 'm2b', 'lev', 'roa', 'ppe',\n",
      "       'cash2asset', 'cash2sale', 'sale2asset', 'cr', 'gsi', 'de', 'roe',\n",
      "       'd_sale', 'd_at'],\n",
      "      dtype='object')\n",
      "the output df contains 19 number of variables: Index(['gvkey', 'year', 'at', 'sale', 'ch', 'rdip', 'm2b', 'lev', 'roa', 'ppe',\n",
      "       'cash2asset', 'cash2sale', 'sale2asset', 'cr', 'gsi', 'de', 'roe',\n",
      "       'd_sale', 'd_at'],\n",
      "      dtype='object')\n"
     ]
    }
   ],
   "source": [
    "ratio_pd_w_raw = create_var(fin_var)"
   ]
  },
  {
   "cell_type": "code",
   "execution_count": 37,
   "metadata": {
    "ExecuteTime": {
     "end_time": "2021-10-13T02:44:15.651497Z",
     "start_time": "2021-10-13T02:44:15.582964Z"
    }
   },
   "outputs": [
    {
     "name": "stdout",
     "output_type": "stream",
     "text": [
      "saving raw financial variable tables from 1996 to 2020; table size:  (290959, 19)\n"
     ]
    }
   ],
   "source": [
    "print(f\"saving raw financial variable tables from {s_year} to {e_year}; table size: \", ratio_pd_w_raw.shape)\n",
    "ratio_pd_w_raw.to_pickle(f'{tmp_data_path}/fv_raw_{s_year}_{e_year}.pickle')\n"
   ]
  },
  {
   "cell_type": "code",
   "execution_count": 38,
   "metadata": {
    "ExecuteTime": {
     "end_time": "2021-10-13T02:44:15.656177Z",
     "start_time": "2021-10-13T02:44:15.653044Z"
    }
   },
   "outputs": [
    {
     "data": {
      "text/plain": [
       "Index(['gvkey', 'year', 'at', 'sale', 'ch', 'rdip', 'm2b', 'lev', 'roa', 'ppe',\n",
       "       'cash2asset', 'cash2sale', 'sale2asset', 'cr', 'gsi', 'de', 'roe',\n",
       "       'd_sale', 'd_at'],\n",
       "      dtype='object')"
      ]
     },
     "execution_count": 38,
     "metadata": {},
     "output_type": "execute_result"
    }
   ],
   "source": [
    "ratio_pd_w_raw.columns"
   ]
  },
  {
   "cell_type": "code",
   "execution_count": 39,
   "metadata": {
    "ExecuteTime": {
     "end_time": "2021-10-13T02:44:15.903888Z",
     "start_time": "2021-10-13T02:44:15.893575Z"
    }
   },
   "outputs": [
    {
     "data": {
      "text/plain": [
       "array([1996, 1997, 1998, 1999, 2000, 2001, 2002, 2003, 2004, 2005, 2006,\n",
       "       2007, 2008, 2009, 2010, 2011, 2012, 2013, 2014, 2015, 2016, 2017,\n",
       "       2018, 2019, 2020])"
      ]
     },
     "execution_count": 39,
     "metadata": {},
     "output_type": "execute_result"
    }
   ],
   "source": [
    "ratio_pd_w_raw.year.unique()"
   ]
  },
  {
   "cell_type": "code",
   "execution_count": null,
   "metadata": {},
   "outputs": [],
   "source": []
  }
 ],
 "metadata": {
  "kernelspec": {
   "display_name": "GNN",
   "language": "python",
   "name": "gnn"
  },
  "language_info": {
   "codemirror_mode": {
    "name": "ipython",
    "version": 3
   },
   "file_extension": ".py",
   "mimetype": "text/x-python",
   "name": "python",
   "nbconvert_exporter": "python",
   "pygments_lexer": "ipython3",
   "version": "3.8.10"
  },
  "latex_envs": {
   "LaTeX_envs_menu_present": true,
   "autoclose": false,
   "autocomplete": true,
   "bibliofile": "biblio.bib",
   "cite_by": "apalike",
   "current_citInitial": 1,
   "eqLabelWithNumbers": true,
   "eqNumInitial": 1,
   "hotkeys": {
    "equation": "Ctrl-E",
    "itemize": "Ctrl-I"
   },
   "labels_anchors": false,
   "latex_user_defs": false,
   "report_style_numbering": false,
   "user_envs_cfg": false
  },
  "toc": {
   "base_numbering": 1,
   "nav_menu": {},
   "number_sections": true,
   "sideBar": true,
   "skip_h1_title": false,
   "title_cell": "Table of Contents",
   "title_sidebar": "Contents",
   "toc_cell": false,
   "toc_position": {},
   "toc_section_display": true,
   "toc_window_display": false
  }
 },
 "nbformat": 4,
 "nbformat_minor": 4
}
