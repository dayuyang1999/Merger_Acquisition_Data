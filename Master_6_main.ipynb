{
 "cells": [
  {
   "cell_type": "code",
   "execution_count": 14,
   "metadata": {
    "ExecuteTime": {
     "end_time": "2021-10-22T01:23:05.590892Z",
     "start_time": "2021-10-22T01:23:05.586522Z"
    }
   },
   "outputs": [],
   "source": [
    "import pandas as pd\n",
    "import pickle\n",
    "from torch.utils.data import DataLoader\n"
   ]
  },
  {
   "cell_type": "code",
   "execution_count": 11,
   "metadata": {
    "ExecuteTime": {
     "end_time": "2021-10-22T01:22:33.913409Z",
     "start_time": "2021-10-22T01:22:33.904727Z"
    }
   },
   "outputs": [],
   "source": [
    "class MYDataset:\n",
    "    def __init__(self, read_path):\n",
    "        self.read_path = read_path\n",
    "        self.arr_cs, self.arr_bs, self.timelines = self.read_data()\n",
    "        self.n_acquirers = len(self.arr_cs)\n",
    "\n",
    "\n",
    "    def read_data(self):\n",
    "        with open(self.read_path+\"/dataset_top10_freq5_1997_2020.pickle\", \"rb\") as f:\n",
    "            arr_cs, arr_bs, timelines = pickle.load(f)\n",
    "        return arr_cs, arr_bs, timelines\n",
    "\n",
    "    def __getitem__(self, idx):\n",
    "        return self.arr_cs[idx], self.arr_bs[idx], self.timelines[idx]\n",
    "    \n",
    "    def __len__(self):\n",
    "        return self.n_acquirers"
   ]
  },
  {
   "cell_type": "code",
   "execution_count": 3,
   "metadata": {
    "ExecuteTime": {
     "end_time": "2021-10-22T01:20:25.758135Z",
     "start_time": "2021-10-22T01:20:25.753586Z"
    }
   },
   "outputs": [],
   "source": [
    "#from util import *\n",
    "from argparse import ArgumentParser\n",
    "from torch.utils.data import DataLoader\n",
    "#from model import Net\n",
    "from tqdm import tqdm\n",
    "import numpy as np"
   ]
  },
  {
   "cell_type": "code",
   "execution_count": 13,
   "metadata": {
    "ExecuteTime": {
     "end_time": "2021-10-22T01:22:45.933858Z",
     "start_time": "2021-10-22T01:22:45.564474Z"
    }
   },
   "outputs": [],
   "source": [
    "train_set = MYDataset(read_path = '../MA_data/data')\n",
    "test_set = MYDataset(read_path = '../MA_data/data')"
   ]
  },
  {
   "cell_type": "code",
   "execution_count": 15,
   "metadata": {
    "ExecuteTime": {
     "end_time": "2021-10-22T01:23:27.183645Z",
     "start_time": "2021-10-22T01:23:27.179147Z"
    }
   },
   "outputs": [],
   "source": [
    "train_loader = DataLoader(train_set, batch_size = 1, shuffle= True)"
   ]
  },
  {
   "cell_type": "code",
   "execution_count": 17,
   "metadata": {
    "ExecuteTime": {
     "end_time": "2021-10-22T01:44:31.332149Z",
     "start_time": "2021-10-22T01:44:31.295703Z"
    }
   },
   "outputs": [
    {
     "data": {
      "text/plain": [
       "<torch.utils.data.dataloader._SingleProcessDataLoaderIter at 0x7f51baec9c10>"
      ]
     },
     "execution_count": 17,
     "metadata": {},
     "output_type": "execute_result"
    }
   ],
   "source": []
  },
  {
   "cell_type": "code",
   "execution_count": 19,
   "metadata": {
    "ExecuteTime": {
     "end_time": "2021-10-22T01:44:56.418163Z",
     "start_time": "2021-10-22T01:44:56.411728Z"
    }
   },
   "outputs": [
    {
     "data": {
      "text/plain": [
       "(22, 14)"
      ]
     },
     "execution_count": 19,
     "metadata": {},
     "output_type": "execute_result"
    }
   ],
   "source": [
    "train_set.arr_bs[0].shape"
   ]
  },
  {
   "cell_type": "code",
   "execution_count": null,
   "metadata": {},
   "outputs": [],
   "source": [
    "\n"
   ]
  }
 ],
 "metadata": {
  "kernelspec": {
   "display_name": "GNN",
   "language": "python",
   "name": "gnn"
  },
  "language_info": {
   "codemirror_mode": {
    "name": "ipython",
    "version": 3
   },
   "file_extension": ".py",
   "mimetype": "text/x-python",
   "name": "python",
   "nbconvert_exporter": "python",
   "pygments_lexer": "ipython3",
   "version": "3.8.10"
  },
  "latex_envs": {
   "LaTeX_envs_menu_present": true,
   "autoclose": false,
   "autocomplete": true,
   "bibliofile": "biblio.bib",
   "cite_by": "apalike",
   "current_citInitial": 1,
   "eqLabelWithNumbers": true,
   "eqNumInitial": 1,
   "hotkeys": {
    "equation": "Ctrl-E",
    "itemize": "Ctrl-I"
   },
   "labels_anchors": false,
   "latex_user_defs": false,
   "report_style_numbering": false,
   "user_envs_cfg": false
  },
  "toc": {
   "base_numbering": 1,
   "nav_menu": {},
   "number_sections": true,
   "sideBar": true,
   "skip_h1_title": false,
   "title_cell": "Table of Contents",
   "title_sidebar": "Contents",
   "toc_cell": false,
   "toc_position": {},
   "toc_section_display": true,
   "toc_window_display": false
  }
 },
 "nbformat": 4,
 "nbformat_minor": 4
}
