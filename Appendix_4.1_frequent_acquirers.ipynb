{
 "cells": [
  {
   "cell_type": "code",
   "execution_count": 1,
   "metadata": {
    "ExecuteTime": {
     "end_time": "2021-11-10T05:36:51.331514Z",
     "start_time": "2021-11-10T05:36:50.648236Z"
    },
    "scrolled": true
   },
   "outputs": [],
   "source": [
    "import pandas as pd\n",
    "import numpy as np\n",
    "import pickle\n",
    "import matplotlib.pyplot as plt\n",
    "from tqdm import tqdm\n",
    "import seaborn as sns\n",
    "import dask\n",
    "from dask.diagnostics import ProgressBar\n",
    "import os"
   ]
  },
  {
   "cell_type": "code",
   "execution_count": 2,
   "metadata": {
    "ExecuteTime": {
     "end_time": "2021-11-10T05:36:51.334868Z",
     "start_time": "2021-11-10T05:36:51.332669Z"
    }
   },
   "outputs": [],
   "source": [
    "tmp_data_path = '../MA_data/data/tmp'\n",
    "data_path = '../MA_data/data'\n",
    "\n",
    "s_year = 1997\n",
    "e_year = 2020\n"
   ]
  },
  {
   "cell_type": "markdown",
   "metadata": {},
   "source": [
    "# Load data"
   ]
  },
  {
   "cell_type": "code",
   "execution_count": 3,
   "metadata": {
    "ExecuteTime": {
     "end_time": "2021-11-10T05:36:51.979032Z",
     "start_time": "2021-11-10T05:36:51.918857Z"
    }
   },
   "outputs": [],
   "source": [
    "sdc_tnic = pd.read_pickle(tmp_data_path+f\"/sdc_tnic_{s_year}_{e_year}\")"
   ]
  },
  {
   "cell_type": "code",
   "execution_count": 4,
   "metadata": {
    "ExecuteTime": {
     "end_time": "2021-11-10T05:36:58.047220Z",
     "start_time": "2021-11-10T05:36:52.211833Z"
    }
   },
   "outputs": [],
   "source": [
    "tnic = pd.read_pickle(tmp_data_path+f\"/tnic2_{s_year-1}_{e_year-1}\")\n"
   ]
  },
  {
   "cell_type": "code",
   "execution_count": 5,
   "metadata": {
    "ExecuteTime": {
     "end_time": "2021-11-10T05:36:58.075963Z",
     "start_time": "2021-11-10T05:36:58.048549Z"
    }
   },
   "outputs": [],
   "source": [
    "with open(tmp_data_path+f\"/tnic_info_3_pairs_{s_year-1}_{e_year-1}\", 'rb') as f:\n",
    "    gvkey_lsts, key_ind_maps , ind_key_maps = pickle.load(f)"
   ]
  },
  {
   "cell_type": "code",
   "execution_count": 6,
   "metadata": {
    "ExecuteTime": {
     "end_time": "2021-11-10T05:36:58.144751Z",
     "start_time": "2021-11-10T05:36:58.077586Z"
    }
   },
   "outputs": [],
   "source": [
    "fin_var = pd.read_pickle(f'{tmp_data_path}/fv_raw_{s_year-1}_{e_year}.pickle')"
   ]
  },
  {
   "cell_type": "code",
   "execution_count": null,
   "metadata": {},
   "outputs": [],
   "source": []
  },
  {
   "cell_type": "markdown",
   "metadata": {},
   "source": [
    "# Q: plot the wave"
   ]
  },
  {
   "cell_type": "code",
   "execution_count": 24,
   "metadata": {
    "ExecuteTime": {
     "end_time": "2021-11-10T05:56:38.319470Z",
     "start_time": "2021-11-10T05:56:38.273638Z"
    }
   },
   "outputs": [],
   "source": [
    "\n",
    "count = []\n",
    "for y in range(1997, 2020+1):\n",
    "    count.append(sdc_tnic[sdc_tnic.YEAR == y].shape[0])"
   ]
  },
  {
   "cell_type": "code",
   "execution_count": 28,
   "metadata": {
    "ExecuteTime": {
     "end_time": "2021-11-10T05:57:04.271393Z",
     "start_time": "2021-11-10T05:57:04.264496Z"
    }
   },
   "outputs": [
    {
     "data": {
      "text/plain": [
       "[804,\n",
       " 851,\n",
       " 817,\n",
       " 685,\n",
       " 603,\n",
       " 486,\n",
       " 475,\n",
       " 440,\n",
       " 437,\n",
       " 377,\n",
       " 393,\n",
       " 293,\n",
       " 293,\n",
       " 271,\n",
       " 248,\n",
       " 296,\n",
       " 284,\n",
       " 303,\n",
       " 296,\n",
       " 266,\n",
       " 240,\n",
       " 203,\n",
       " 176,\n",
       " 124]"
      ]
     },
     "execution_count": 28,
     "metadata": {},
     "output_type": "execute_result"
    }
   ],
   "source": [
    "count"
   ]
  },
  {
   "cell_type": "code",
   "execution_count": 27,
   "metadata": {
    "ExecuteTime": {
     "end_time": "2021-11-10T05:56:54.488803Z",
     "start_time": "2021-11-10T05:56:54.413261Z"
    }
   },
   "outputs": [
    {
     "data": {
      "image/png": "[encoded data removed]",
      "text/plain": [
       "<Figure size 640x480 with 1 Axes>"
      ]
     },
     "metadata": {},
     "output_type": "display_data"
    }
   ],
   "source": [
    "plt.plot(count)\n",
    "plt.show()"
   ]
  },
  {
   "cell_type": "markdown",
   "metadata": {},
   "source": [
    "# Q: how infrequent MA is?\n"
   ]
  },
  {
   "cell_type": "code",
   "execution_count": 19,
   "metadata": {
    "ExecuteTime": {
     "end_time": "2021-11-10T05:42:03.912187Z",
     "start_time": "2021-11-10T05:42:03.307006Z"
    }
   },
   "outputs": [],
   "source": [
    "\n",
    "all_gvkeys = sdc_tnic.AS_GVKEY.values.tolist() + sdc_tnic.AP_GVKEY.values.tolist() + sdc_tnic.TS_GVKEY.values.tolist() + sdc_tnic.TP_GVKEY.values.tolist()\n",
    "all_gvkeys = set(all_gvkeys)\n"
   ]
  },
  {
   "cell_type": "code",
   "execution_count": 23,
   "metadata": {
    "ExecuteTime": {
     "end_time": "2021-11-10T05:44:58.116997Z",
     "start_time": "2021-11-10T05:44:58.110354Z"
    }
   },
   "outputs": [
    {
     "data": {
      "text/plain": [
       "0.593500430028259"
      ]
     },
     "execution_count": 23,
     "metadata": {},
     "output_type": "execute_result"
    }
   ],
   "source": [
    "sdc_tnic.shape[0] / (len(all_gvkeys))"
   ]
  },
  {
   "cell_type": "code",
   "execution_count": 21,
   "metadata": {
    "ExecuteTime": {
     "end_time": "2021-11-10T05:42:21.458099Z",
     "start_time": "2021-11-10T05:42:21.451634Z"
    }
   },
   "outputs": [
    {
     "data": {
      "text/plain": [
       "9661"
      ]
     },
     "execution_count": 21,
     "metadata": {},
     "output_type": "execute_result"
    }
   ],
   "source": [
    "sdc_tnic.shape[0]"
   ]
  },
  {
   "cell_type": "markdown",
   "metadata": {},
   "source": [
    "# Q: What kind of firms are most likely to be acquirer\n",
    "- using statistics based method\n",
    "\n"
   ]
  },
  {
   "cell_type": "code",
   "execution_count": 7,
   "metadata": {
    "ExecuteTime": {
     "end_time": "2021-11-10T05:36:59.660768Z",
     "start_time": "2021-11-10T05:36:59.649887Z"
    }
   },
   "outputs": [
    {
     "data": {
      "text/plain": [
       "Index(['ACU', 'ASIC2', 'ABL', 'ANL', 'APUBC', 'AUP', 'AUPSIC', 'AUPBL',\n",
       "       'AUPNAMES', 'AUPPUB', 'BLOCK', 'CREEP', 'DA', 'DE', 'STATC', 'SYNOP',\n",
       "       'VAL', 'PCTACQ', 'PSOUGHTOWN', 'PSOUGHT', 'PHDA', 'PCTOWN', 'PSOUGHTT',\n",
       "       'PRIVATIZATION', 'DEAL_NO', 'TCU', 'TSIC2', 'TBL', 'TNL', 'TPUBC',\n",
       "       'TUP', 'TUPSIC', 'TUPBL', 'TUPNAMES', 'TUPPUB', 'SIC_A', 'SIC_T',\n",
       "       'YEAR', 'AS_PERMNO', 'AP_PERMNO', 'TS_PERMNO', 'TP_PERMNO', 'AS_GVKEY',\n",
       "       'AP_GVKEY', 'TS_GVKEY', 'TP_GVKEY', 'GVKEY_STATUS', 'MA_TYPE', 'AGVKEY',\n",
       "       'TGVKEY'],\n",
       "      dtype='object')"
      ]
     },
     "execution_count": 7,
     "metadata": {},
     "output_type": "execute_result"
    }
   ],
   "source": [
    "sdc_tnic.columns"
   ]
  },
  {
   "cell_type": "code",
   "execution_count": 8,
   "metadata": {
    "ExecuteTime": {
     "end_time": "2021-11-10T05:37:00.034720Z",
     "start_time": "2021-11-10T05:37:00.020411Z"
    }
   },
   "outputs": [],
   "source": [
    "AS_freq = pd.DataFrame(sdc_tnic.AS_GVKEY.value_counts()).reset_index(drop=False)"
   ]
  },
  {
   "cell_type": "code",
   "execution_count": 9,
   "metadata": {
    "ExecuteTime": {
     "end_time": "2021-11-10T05:37:00.339089Z",
     "start_time": "2021-11-10T05:37:00.327431Z"
    }
   },
   "outputs": [],
   "source": [
    "AP_freq = pd.DataFrame(sdc_tnic.AP_GVKEY.value_counts()).reset_index(drop=False)"
   ]
  },
  {
   "cell_type": "code",
   "execution_count": 10,
   "metadata": {
    "ExecuteTime": {
     "end_time": "2021-11-10T05:37:01.508624Z",
     "start_time": "2021-11-10T05:37:01.489913Z"
    }
   },
   "outputs": [
    {
     "data": {
      "text/html": [
       "<div>\n",
       "<style scoped>\n",
       "    .dataframe tbody tr th:only-of-type {\n",
       "        vertical-align: middle;\n",
       "    }\n",
       "\n",
       "    .dataframe tbody tr th {\n",
       "        vertical-align: top;\n",
       "    }\n",
       "\n",
       "    .dataframe thead th {\n",
       "        text-align: right;\n",
       "    }\n",
       "</style>\n",
       "<table border=\"1\" class=\"dataframe\">\n",
       "  <thead>\n",
       "    <tr style=\"text-align: right;\">\n",
       "      <th></th>\n",
       "      <th>index</th>\n",
       "      <th>AS_GVKEY</th>\n",
       "    </tr>\n",
       "  </thead>\n",
       "  <tbody>\n",
       "    <tr>\n",
       "      <th>0</th>\n",
       "      <td>11856</td>\n",
       "      <td>33</td>\n",
       "    </tr>\n",
       "    <tr>\n",
       "      <th>1</th>\n",
       "      <td>6008</td>\n",
       "      <td>24</td>\n",
       "    </tr>\n",
       "    <tr>\n",
       "      <th>2</th>\n",
       "      <td>6266</td>\n",
       "      <td>23</td>\n",
       "    </tr>\n",
       "    <tr>\n",
       "      <th>3</th>\n",
       "      <td>12142</td>\n",
       "      <td>23</td>\n",
       "    </tr>\n",
       "    <tr>\n",
       "      <th>4</th>\n",
       "      <td>6268</td>\n",
       "      <td>22</td>\n",
       "    </tr>\n",
       "    <tr>\n",
       "      <th>...</th>\n",
       "      <td>...</td>\n",
       "      <td>...</td>\n",
       "    </tr>\n",
       "    <tr>\n",
       "      <th>3397</th>\n",
       "      <td>184688</td>\n",
       "      <td>1</td>\n",
       "    </tr>\n",
       "    <tr>\n",
       "      <th>3398</th>\n",
       "      <td>29824</td>\n",
       "      <td>1</td>\n",
       "    </tr>\n",
       "    <tr>\n",
       "      <th>3399</th>\n",
       "      <td>13053</td>\n",
       "      <td>1</td>\n",
       "    </tr>\n",
       "    <tr>\n",
       "      <th>3400</th>\n",
       "      <td>7273</td>\n",
       "      <td>1</td>\n",
       "    </tr>\n",
       "    <tr>\n",
       "      <th>3401</th>\n",
       "      <td>271987</td>\n",
       "      <td>1</td>\n",
       "    </tr>\n",
       "  </tbody>\n",
       "</table>\n",
       "<p>3402 rows × 2 columns</p>\n",
       "</div>"
      ],
      "text/plain": [
       "       index  AS_GVKEY\n",
       "0      11856        33\n",
       "1       6008        24\n",
       "2       6266        23\n",
       "3      12142        23\n",
       "4       6268        22\n",
       "...      ...       ...\n",
       "3397  184688         1\n",
       "3398   29824         1\n",
       "3399   13053         1\n",
       "3400    7273         1\n",
       "3401  271987         1\n",
       "\n",
       "[3402 rows x 2 columns]"
      ]
     },
     "execution_count": 10,
     "metadata": {},
     "output_type": "execute_result"
    }
   ],
   "source": [
    "AS_freq"
   ]
  },
  {
   "cell_type": "code",
   "execution_count": 13,
   "metadata": {
    "ExecuteTime": {
     "end_time": "2021-11-10T05:37:17.461402Z",
     "start_time": "2021-11-10T05:37:17.456690Z"
    }
   },
   "outputs": [],
   "source": [
    "def plot_array(arr):\n",
    "    plt.plot(arr)\n",
    "    ax = plt.gca()\n",
    "    #ax.set_xlim([-1, 600])\n",
    "    plt.show()\n"
   ]
  },
  {
   "cell_type": "markdown",
   "metadata": {},
   "source": [
    "first observation:\n",
    "\n",
    "- Acquirer is more \"concentrated\" than target"
   ]
  },
  {
   "cell_type": "code",
   "execution_count": 14,
   "metadata": {
    "ExecuteTime": {
     "end_time": "2021-11-10T05:37:18.237746Z",
     "start_time": "2021-11-10T05:37:18.134933Z"
    }
   },
   "outputs": [
    {
     "data": {
      "image/png": "[encoded data removed]",
      "text/plain": [
       "<Figure size 640x480 with 1 Axes>"
      ]
     },
     "metadata": {},
     "output_type": "display_data"
    }
   ],
   "source": [
    "plot_array(np.sort(AS_freq['AS_GVKEY'].values)[::-1])"
   ]
  },
  {
   "cell_type": "code",
   "execution_count": 18,
   "metadata": {
    "ExecuteTime": {
     "end_time": "2021-11-10T05:38:59.675837Z",
     "start_time": "2021-11-10T05:38:59.654669Z"
    }
   },
   "outputs": [
    {
     "name": "stdout",
     "output_type": "stream",
     "text": [
      "2.3821281599059376 1.0\n"
     ]
    }
   ],
   "source": [
    "print(np.sort(AS_freq['AS_GVKEY'].values).mean(), np.median(np.sort(AS_freq['AS_GVKEY'].values)))"
   ]
  },
  {
   "cell_type": "code",
   "execution_count": 45,
   "metadata": {
    "ExecuteTime": {
     "end_time": "2021-10-13T17:21:20.489960Z",
     "start_time": "2021-10-13T17:21:20.279809Z"
    },
    "scrolled": true
   },
   "outputs": [
    {
     "data": {
      "image/png": "[encoded data removed]",
      "text/plain": [
       "<Figure size 640x480 with 1 Axes>"
      ]
     },
     "metadata": {},
     "output_type": "display_data"
    }
   ],
   "source": [
    "plot_array(np.sort(AP_freq['AP_GVKEY'].values)[::-1])"
   ]
  },
  {
   "cell_type": "markdown",
   "metadata": {},
   "source": [
    "If I choose 4 as thres like Yan. did\n",
    "- shrink total acquirer size down to about **600**"
   ]
  },
  {
   "cell_type": "code",
   "execution_count": 49,
   "metadata": {
    "ExecuteTime": {
     "end_time": "2021-10-13T17:25:12.497557Z",
     "start_time": "2021-10-13T17:25:12.212422Z"
    },
    "scrolled": true
   },
   "outputs": [
    {
     "data": {
      "image/png": "[encoded data removed]",
      "text/plain": [
       "<Figure size 640x480 with 1 Axes>"
      ]
     },
     "metadata": {},
     "output_type": "display_data"
    }
   ],
   "source": [
    "plot_array(np.sort(AS_freq[AS_freq.AS_GVKEY >= 4]['AS_GVKEY'].values)[::-1]) # "
   ]
  },
  {
   "cell_type": "markdown",
   "metadata": {},
   "source": [
    "How many MA events was covered by these 600 \"major\" acquirers?"
   ]
  },
  {
   "cell_type": "code",
   "execution_count": 98,
   "metadata": {
    "ExecuteTime": {
     "end_time": "2021-10-13T18:12:26.493182Z",
     "start_time": "2021-10-13T18:12:26.338663Z"
    }
   },
   "outputs": [
    {
     "name": "stdout",
     "output_type": "stream",
     "text": [
      "total number of major acquirer:  3402 if threshold is  1\n",
      "0.9708104751060966 of all 9661 MA events (9379) are triggered by those acquirer\n",
      "total number of major acquirer:  1612 if threshold is  2\n",
      "0.7678294172445916 of all 9661 MA events (7418) are triggered by those acquirer\n",
      "total number of major acquirer:  964 if threshold is  3\n",
      "0.619294068936963 of all 9661 MA events (5983) are triggered by those acquirer\n",
      "total number of major acquirer:  599 if threshold is  4\n",
      "0.49435876203291584 of all 9661 MA events (4776) are triggered by those acquirer\n",
      "total number of major acquirer:  385 if threshold is  5\n",
      "0.39105682641548495 of all 9661 MA events (3778) are triggered by those acquirer\n"
     ]
    }
   ],
   "source": [
    "for deal_thres in range(1, 5+1):\n",
    "    AS_major_lst = AS_freq[AS_freq.AS_GVKEY >= deal_thres]['index'].unique().tolist()\n",
    "    print(\"total number of major acquirer: \", len(AS_major_lst), \"if threshold is \", deal_thres)\n",
    "    print(sdc_tnic[(sdc_tnic['AS_GVKEY'].isin(AS_major_lst))|(sdc_tnic['AP_GVKEY'].isin(AS_major_lst))].shape[0]/sdc_tnic.shape[0], f\"of all {sdc_tnic.shape[0]} MA events ({sdc_tnic[(sdc_tnic['AS_GVKEY'].isin(AS_major_lst))|(sdc_tnic['AP_GVKEY'].isin(AS_major_lst))].shape[0]}) are triggered by those acquirer\")\n",
    "\n"
   ]
  },
  {
   "cell_type": "markdown",
   "metadata": {},
   "source": [
    "# Q: How about only consider parent firms(for acquirer)\n",
    "\n",
    "- If unable to find parent firms. Then use self\n",
    "- this may shrink the size of acquirer\n",
    "\n",
    "\n",
    "- no need, useless"
   ]
  },
  {
   "cell_type": "markdown",
   "metadata": {},
   "source": [
    "## Create a acquirer Self-Parent mapping table\n",
    "- the map table should be time sensitive (may be traded to another firm...)\n",
    "- by manually checking, most P of S of acquirer is S itself. So I won't expect this helps a lot"
   ]
  },
  {
   "cell_type": "code",
   "execution_count": 65,
   "metadata": {
    "ExecuteTime": {
     "end_time": "2021-10-13T17:39:14.639072Z",
     "start_time": "2021-10-13T17:39:14.633730Z"
    }
   },
   "outputs": [],
   "source": [
    "def create_map(df):\n",
    "\n",
    "    acq_SP_maps = {}\n",
    "\n",
    "    for y in range(s_year, e_year+1): # sdc time\n",
    "        acq_SP_maps[y] = {}\n",
    "    count_same = 0\n",
    "    count_all = 0\n",
    "    for _, row in df.iterrows():\n",
    "        if pd.notna(row.AS_GVKEY) & pd.notna(row.AP_GVKEY):\n",
    "            if pd.notna(row.AS_GVKEY) == pd.notna(row.AP_GVKEY):\n",
    "                count_same += 1\n",
    "            acq_SP_maps[row.YEAR][row.AS_GVKEY] = row.AP_GVKEY\n",
    "            count_all += 1\n",
    "    print(f\"{(count_same/count_all)*100}% of the acquirer, their parent firm are themselves\")\n",
    "    return acq_SP_maps"
   ]
  },
  {
   "cell_type": "code",
   "execution_count": 66,
   "metadata": {
    "ExecuteTime": {
     "end_time": "2021-10-13T17:39:16.747328Z",
     "start_time": "2021-10-13T17:39:14.954433Z"
    },
    "scrolled": true
   },
   "outputs": [
    {
     "name": "stdout",
     "output_type": "stream",
     "text": [
      "100.0% of the acquirer, their parent firm are themselves\n"
     ]
    }
   ],
   "source": [
    "A_SP_maps = create_map(sdc_tnic)"
   ]
  },
  {
   "cell_type": "markdown",
   "metadata": {},
   "source": [
    "# Q: do Acquirer and Target has high TNIC similarity in absolute value?\n",
    "\n",
    "- from absolute value, seems no. 37% of MA events are generated by completely different firm-pair with 0 tnic similarity.\n",
    "    - TNIC is only about horizontal MA deal (Product Synergy)\n",
    "    - What is the distribution of TNIC similarity values?\n"
   ]
  },
  {
   "cell_type": "code",
   "execution_count": 288,
   "metadata": {
    "ExecuteTime": {
     "end_time": "2021-10-14T01:15:25.918991Z",
     "start_time": "2021-10-14T01:15:00.171781Z"
    }
   },
   "outputs": [],
   "source": [
    "# merge tnic and sdc\n",
    "tnic_year_plus1 = tnic.copy()\n",
    "tnic_year_plus1[\"year\"] = tnic_year_plus1[\"year\"]+1\n",
    "tnic_sdc_merge = sdc_tnic.merge(tnic_year_plus1, left_on = [\"AGVKEY\", \"TGVKEY\" , \"YEAR\"], right_on = [\"gvkey1\", \"gvkey2\", \"year\"], how = \"left\")\n",
    "\n"
   ]
  },
  {
   "cell_type": "code",
   "execution_count": 289,
   "metadata": {
    "ExecuteTime": {
     "end_time": "2021-10-14T01:15:25.948750Z",
     "start_time": "2021-10-14T01:15:25.921074Z"
    }
   },
   "outputs": [],
   "source": [
    "tnic_sdc_merge = tnic_sdc_merge.drop(['year', 'gvkey1', 'gvkey2'], axis=1)"
   ]
  },
  {
   "cell_type": "markdown",
   "metadata": {},
   "source": [
    "ok. So a lot of MA happens between firm pair has so small similarity that even can be ignored (so different)\n",
    "\n",
    "How about the major acquirer?"
   ]
  },
  {
   "cell_type": "code",
   "execution_count": 124,
   "metadata": {
    "ExecuteTime": {
     "end_time": "2021-10-13T20:00:35.209936Z",
     "start_time": "2021-10-13T20:00:34.878789Z"
    },
    "scrolled": true
   },
   "outputs": [
    {
     "name": "stdout",
     "output_type": "stream",
     "text": [
      "total number of major acquirer:  3402 if threshold is  1\n",
      "completely different firm pair portion =  0.3723217058275541\n",
      "tnic score median =  0.0822\n",
      "tnic score max =  0.8662\n",
      "tnic score mean =  0.10408033269797262 \n",
      "\n",
      "total number of major acquirer:  1612 if threshold is  2\n",
      "completely different firm pair portion =  0.2956215712659145\n",
      "tnic score median =  0.0814\n",
      "tnic score max =  0.8662\n",
      "tnic score mean =  0.10182917496129175 \n",
      "\n",
      "total number of major acquirer:  964 if threshold is  3\n",
      "completely different firm pair portion =  0.24138287961908705\n",
      "tnic score median =  0.0813\n",
      "tnic score max =  0.8557\n",
      "tnic score mean =  0.09971385172798217 \n",
      "\n",
      "total number of major acquirer:  599 if threshold is  4\n",
      "completely different firm pair portion =  0.1923196356484836\n",
      "tnic score median =  0.0804\n",
      "tnic score max =  0.8476\n",
      "tnic score mean =  0.099511706629055 \n",
      "\n",
      "total number of major acquirer:  385 if threshold is  5\n",
      "completely different firm pair portion =  0.1548493944726219\n",
      "tnic score median =  0.0775\n",
      "tnic score max =  0.8476\n",
      "tnic score mean =  0.09656998635743519 \n",
      "\n"
     ]
    }
   ],
   "source": [
    "for deal_thres in range(1, 5+1):\n",
    "    AS_major_lst = AS_freq[AS_freq.AS_GVKEY >= deal_thres]['index'].unique().tolist()\n",
    "    print(\"total number of major acquirer: \", len(AS_major_lst), \"if threshold is \", deal_thres)\n",
    "    print(\"completely different firm pair portion = \", tnic_sdc_merge[(tnic_sdc_merge['AGVKEY'].isin(AS_major_lst))].score.isna().sum()/tnic_sdc_merge.shape[0])\n",
    "    print(\"tnic score median = \", tnic_sdc_merge[(tnic_sdc_merge['AGVKEY'].isin(AS_major_lst))].score.median())\n",
    "    print(\"tnic score max = \", tnic_sdc_merge[(tnic_sdc_merge['AGVKEY'].isin(AS_major_lst))].score.max())\n",
    "    print(\"tnic score mean = \", tnic_sdc_merge[(tnic_sdc_merge['AGVKEY'].isin(AS_major_lst))].score.mean(), \"\\n\")\n",
    "    \n",
    " \n"
   ]
  },
  {
   "cell_type": "markdown",
   "metadata": {},
   "source": [
    "Only consider Major Acquirer :\n",
    "- won't help increase TNIC similarities absolute value.\n",
    "- decrese the portion of \"completely differnt firm pairs\"\n",
    "\n"
   ]
  },
  {
   "cell_type": "markdown",
   "metadata": {},
   "source": [
    "Compare with TNIC distribution\n",
    "+ 0.2 is already very rare...(about 3% of peers)"
   ]
  },
  {
   "cell_type": "code",
   "execution_count": 326,
   "metadata": {
    "ExecuteTime": {
     "end_time": "2021-10-20T22:23:44.194460Z",
     "start_time": "2021-10-20T22:23:39.876888Z"
    }
   },
   "outputs": [
    {
     "data": {
      "image/png": "[encoded data removed]",
      "text/plain": [
       "<Figure size 640x480 with 1 Axes>"
      ]
     },
     "metadata": {},
     "output_type": "display_data"
    }
   ],
   "source": [
    "plt.plot(np.sort(tnic.score.values)[::-1])\n",
    "ax = plt.gca()\n",
    "#ax.set_xlim([-1, 300])\n",
    "plt.show()"
   ]
  },
  {
   "cell_type": "code",
   "execution_count": 308,
   "metadata": {
    "ExecuteTime": {
     "end_time": "2021-10-14T03:46:42.121571Z",
     "start_time": "2021-10-14T03:46:37.528400Z"
    }
   },
   "outputs": [
    {
     "data": {
      "image/png": "[encoded data removed]",
      "text/plain": [
       "<Figure size 640x480 with 1 Axes>"
      ]
     },
     "metadata": {},
     "output_type": "display_data"
    }
   ],
   "source": [
    "plt.plot(np.sort(tnic.score.values)[::-1][:1000000])\n",
    "ax = plt.gca()\n",
    "#ax.set_xlim([-1, 300])\n",
    "plt.show()"
   ]
  },
  {
   "cell_type": "markdown",
   "metadata": {},
   "source": [
    "## How about the rank? is the target always sitting in top peers of acquirer?\n",
    "\n",
    "- kind of: the plot is an exponential like plot\n",
    "    - in about half of the deal (4500), the target is rank as acquirer's peer below 100 top peer\n"
   ]
  },
  {
   "cell_type": "code",
   "execution_count": 283,
   "metadata": {
    "ExecuteTime": {
     "end_time": "2021-10-14T01:12:41.376861Z",
     "start_time": "2021-10-14T01:12:41.185437Z"
    },
    "scrolled": true
   },
   "outputs": [
    {
     "data": {
      "image/png": "[encoded data removed]",
      "text/plain": [
       "<Figure size 640x480 with 1 Axes>"
      ]
     },
     "metadata": {},
     "output_type": "display_data"
    }
   ],
   "source": [
    "\n",
    "plt.plot(np.sort(tnic_sdc_merge['rank'].values))\n",
    "plt.show()"
   ]
  },
  {
   "cell_type": "markdown",
   "metadata": {},
   "source": [
    "# Q: do peer of acquirer acquire peer of target later? (like my design)\n",
    "\n",
    "- Yes, compared with random"
   ]
  },
  {
   "cell_type": "code",
   "execution_count": 136,
   "metadata": {
    "ExecuteTime": {
     "end_time": "2021-10-13T20:41:33.792157Z",
     "start_time": "2021-10-13T20:41:33.787283Z"
    }
   },
   "outputs": [
    {
     "data": {
      "text/plain": [
       "'644884020'"
      ]
     },
     "execution_count": 136,
     "metadata": {},
     "output_type": "execute_result"
    }
   ],
   "source": [
    "tnic_sdc_merge.iloc[100,:].DEAL_NO"
   ]
  },
  {
   "cell_type": "code",
   "execution_count": null,
   "metadata": {},
   "outputs": [],
   "source": []
  },
  {
   "cell_type": "code",
   "execution_count": null,
   "metadata": {},
   "outputs": [],
   "source": [
    "df[(df.A==a)&(df.B==b)&(df.C==c)]\n",
    "\n",
    "\n",
    "df = df[(df.A==a)]\n",
    "df = df[(df.B==b)]\n",
    "df = df[(df.C==c)]"
   ]
  },
  {
   "cell_type": "code",
   "execution_count": null,
   "metadata": {},
   "outputs": [],
   "source": []
  },
  {
   "cell_type": "code",
   "execution_count": 316,
   "metadata": {
    "ExecuteTime": {
     "end_time": "2021-10-14T03:51:53.429340Z",
     "start_time": "2021-10-14T03:51:53.424668Z"
    }
   },
   "outputs": [],
   "source": [
    "\n",
    "    "
   ]
  },
  {
   "cell_type": "code",
   "execution_count": 317,
   "metadata": {
    "ExecuteTime": {
     "end_time": "2021-10-14T03:51:53.700919Z",
     "start_time": "2021-10-14T03:51:53.696050Z"
    }
   },
   "outputs": [],
   "source": [
    "def create_top_peer_map(tnic, gvkey_lsts, k=10, thres=0.4, s_year=1996, e_year=2019):\n",
    "    all_year_lsts = {}\n",
    "    for y in range(s_year, e_year+1):\n",
    "        all_year_lsts[y] = {}\n",
    "        print(\"processing year \", y)\n",
    "        for gvkey1 in tqdm(gvkey_lsts[y]):\n",
    "            all_year_lsts[y][gvkey1] = find_top_peer_lst(tnic, gvkey1, y, k, thres)\n",
    "    return all_year_lsts"
   ]
  },
  {
   "cell_type": "code",
   "execution_count": null,
   "metadata": {
    "ExecuteTime": {
     "start_time": "2021-10-14T03:51:53.847Z"
    }
   },
   "outputs": [
    {
     "name": "stdout",
     "output_type": "stream",
     "text": [
      "processing year  1996\n"
     ]
    },
    {
     "name": "stderr",
     "output_type": "stream",
     "text": [
      "100%|██████████| 7528/7528 [1:50:27<00:00,  1.14it/s]\n"
     ]
    },
    {
     "name": "stdout",
     "output_type": "stream",
     "text": [
      "processing year  1997\n"
     ]
    },
    {
     "name": "stderr",
     "output_type": "stream",
     "text": [
      "100%|██████████| 7502/7502 [1:51:53<00:00,  1.12it/s]\n"
     ]
    },
    {
     "name": "stdout",
     "output_type": "stream",
     "text": [
      "processing year  1998\n"
     ]
    },
    {
     "name": "stderr",
     "output_type": "stream",
     "text": [
      "100%|██████████| 7302/7302 [1:54:28<00:00,  1.06it/s]\n"
     ]
    },
    {
     "name": "stdout",
     "output_type": "stream",
     "text": [
      "processing year  1999\n"
     ]
    },
    {
     "name": "stderr",
     "output_type": "stream",
     "text": [
      " 73%|███████▎  | 5209/7092 [1:28:30<33:02,  1.05s/it]  IOPub message rate exceeded.\n",
      "The notebook server will temporarily stop sending output\n",
      "to the client in order to avoid crashing it.\n",
      "To change this limit, set the config variable\n",
      "`--NotebookApp.iopub_msg_rate_limit`.\n",
      "\n",
      "Current values:\n",
      "NotebookApp.iopub_msg_rate_limit=1000.0 (msgs/sec)\n",
      "NotebookApp.rate_limit_window=3.0 (secs)\n",
      "\n",
      " 46%|████▌     | 3116/6739 [51:31<1:01:29,  1.02s/it]"
     ]
    }
   ],
   "source": [
    "year_peer_lsts_1996_2019 = create_top_peer_map(tnic, k=10, gvkey_lsts=gvkey_lsts)\n",
    "with open(tmp_data_path+f\"/top_peers_full_{1996}_{2019}\", 'wb') as f:\n",
    "    pickle.dump(year_peer_lsts_1996_2019, f)"
   ]
  },
  {
   "cell_type": "code",
   "execution_count": 194,
   "metadata": {
    "ExecuteTime": {
     "end_time": "2021-10-13T21:44:01.611805Z",
     "start_time": "2021-10-13T21:44:01.602590Z"
    }
   },
   "outputs": [
    {
     "data": {
      "text/plain": [
       "True"
      ]
     },
     "execution_count": 194,
     "metadata": {},
     "output_type": "execute_result"
    }
   ],
   "source": [
    "(np.array([1,2,3]) == 1).dot((np.array([1,2,3]) == 1))"
   ]
  },
  {
   "cell_type": "code",
   "execution_count": 228,
   "metadata": {
    "ExecuteTime": {
     "end_time": "2021-10-14T00:23:15.963933Z",
     "start_time": "2021-10-14T00:23:15.957385Z"
    }
   },
   "outputs": [],
   "source": [
    "\n",
    "def answer_Q5(df, k=10):\n",
    "    '''\n",
    "    df: must pre-sorted by Date\n",
    "    '''\n",
    "    \n",
    "    def helper(row):\n",
    "        agvkey = row.AGVKEY\n",
    "        tgvkey = row.TGVKEY\n",
    "        year = row.YEAR\n",
    "        dt = row.DA\n",
    " \n",
    "        \n",
    "        a_peers = year_peer_lsts_2016_2019[year-1][str(agvkey)]   \n",
    "        t_peers = year_peer_lsts_2016_2019[year-1][str(tgvkey)] \n",
    "        \n",
    "#         a_peers = find_top_peer_lst(tnic, agvkey, year, k)\n",
    "#         t_peers = find_top_peer_lst(tnic, tgvkey, year, k)\n",
    "        \n",
    "\n",
    "        #later_df = df.iloc[position+1:, :]\n",
    "        later_df = df[df.DA >= dt]\n",
    "        \n",
    "        later_agvkey_arr = later_df.AGVKEY.values\n",
    "        later_tgvkey_arr = later_df.TGVKEY.values # intger \n",
    "\n",
    "        count = 0\n",
    "        for a_peer in a_peers:\n",
    "            a_peer = int(a_peer)\n",
    "            for t_peer in t_peers:\n",
    "                t_peer = int(t_peer)\n",
    "                count += (later_agvkey_arr == a_peer).dot(later_tgvkey_arr == t_peer)\n",
    "        return count\n",
    "        \n",
    "    tqdm.pandas()\n",
    "    df['Q5'] = df.progress_apply(helper, axis=1)\n",
    "    \n",
    "    return df\n",
    "    \n",
    "\n",
    "\n",
    "        \n",
    "\n",
    "\n"
   ]
  },
  {
   "cell_type": "code",
   "execution_count": 229,
   "metadata": {
    "ExecuteTime": {
     "end_time": "2021-10-14T00:23:16.268358Z",
     "start_time": "2021-10-14T00:23:16.259962Z"
    }
   },
   "outputs": [],
   "source": [
    "data_sub = tnic_sdc_merge[tnic_sdc_merge.YEAR >= 2017]\n",
    "data_sub = data_sub[['AGVKEY', 'TGVKEY', 'DA','YEAR']]\n",
    "data_sub['AGVKEY'] = data_sub['AGVKEY'].astype(int)\n",
    "data_sub['TGVKEY'] = data_sub['TGVKEY'].astype(int)"
   ]
  },
  {
   "cell_type": "code",
   "execution_count": 230,
   "metadata": {
    "ExecuteTime": {
     "end_time": "2021-10-14T00:23:18.270155Z",
     "start_time": "2021-10-14T00:23:16.547397Z"
    }
   },
   "outputs": [
    {
     "name": "stderr",
     "output_type": "stream",
     "text": [
      "100%|██████████| 743/743 [00:01<00:00, 433.01it/s]\n"
     ]
    }
   ],
   "source": [
    "q5_df = answer_Q5(data_sub)"
   ]
  },
  {
   "cell_type": "code",
   "execution_count": 265,
   "metadata": {
    "ExecuteTime": {
     "end_time": "2021-10-14T00:51:53.062677Z",
     "start_time": "2021-10-14T00:51:53.058416Z"
    }
   },
   "outputs": [
    {
     "data": {
      "text/plain": [
       "(743, 5)"
      ]
     },
     "execution_count": 265,
     "metadata": {},
     "output_type": "execute_result"
    }
   ],
   "source": [
    "q5_df.shape"
   ]
  },
  {
   "cell_type": "code",
   "execution_count": 269,
   "metadata": {
    "ExecuteTime": {
     "end_time": "2021-10-14T00:55:35.857954Z",
     "start_time": "2021-10-14T00:55:35.851873Z"
    }
   },
   "outputs": [
    {
     "data": {
      "text/plain": [
       "2017    240\n",
       "2018    203\n",
       "2019    176\n",
       "2020    124\n",
       "Name: YEAR, dtype: int64"
      ]
     },
     "execution_count": 269,
     "metadata": {},
     "output_type": "execute_result"
    }
   ],
   "source": [
    "q5_df.YEAR.value_counts() # num of MA per year"
   ]
  },
  {
   "cell_type": "code",
   "execution_count": 239,
   "metadata": {
    "ExecuteTime": {
     "end_time": "2021-10-14T00:25:38.975382Z",
     "start_time": "2021-10-14T00:25:38.968113Z"
    }
   },
   "outputs": [
    {
     "data": {
      "text/plain": [
       "0    385\n",
       "1     51\n",
       "2      5\n",
       "3      2\n",
       "Name: Q5, dtype: int64"
      ]
     },
     "execution_count": 239,
     "metadata": {},
     "output_type": "execute_result"
    }
   ],
   "source": [
    "q5_df[q5_df.YEAR <= 2018].Q5.value_counts() # no 2019"
   ]
  },
  {
   "cell_type": "code",
   "execution_count": 270,
   "metadata": {
    "ExecuteTime": {
     "end_time": "2021-10-14T00:56:05.338982Z",
     "start_time": "2021-10-14T00:56:05.331593Z"
    }
   },
   "outputs": [],
   "source": [
    "def answer_Q5_negative(df, n_sample, sdc_s_year, sdc_e_year, k=10):\n",
    "    '''\n",
    "    df: must pre-sorted by Date\n",
    "    compare with randomly select deal (fake deal pairs)\n",
    "    \n",
    "    '''\n",
    "    later_df = df\n",
    "    later_agvkey_arr = later_df.AGVKEY.values\n",
    "    later_tgvkey_arr = later_df.TGVKEY.values # intger \n",
    "    \n",
    "    year_result = []\n",
    "    for y in range(sdc_s_year, sdc_e_year+1):\n",
    "        \n",
    "        agvkey_arr = np.unique(df[df.YEAR == y].AGVKEY.values)\n",
    "        tgvkey_arr = np.unique(df[df.YEAR == y].TGVKEY.values)\n",
    "        \n",
    "        sample = 0\n",
    "        while sample < n_sample:\n",
    "            agvkey = np.random.choice(agvkey_arr)\n",
    "            tgvkey = np.random.choice(tgvkey_arr)  # fake deal pairs\n",
    " \n",
    "\n",
    "            a_peers = year_peer_lsts_2016_2019[y-1][str(agvkey)]   \n",
    "            t_peers = year_peer_lsts_2016_2019[y-1][str(tgvkey)] \n",
    "\n",
    "    #         a_peers = find_top_peer_lst(tnic, agvkey, year, k)\n",
    "    #         t_peers = find_top_peer_lst(tnic, tgvkey, year, k)\n",
    "\n",
    "\n",
    "            #later_df = df.iloc[position+1:, :]\n",
    "            \n",
    "\n",
    "            count_match = 0\n",
    "            for a_peer in a_peers:\n",
    "                a_peer = int(a_peer)\n",
    "                for t_peer in t_peers:\n",
    "                    t_peer = int(t_peer)\n",
    "                    count_match += (later_agvkey_arr == a_peer).dot(later_tgvkey_arr == t_peer)\n",
    "            \n",
    "            sample += 1\n",
    "        \n",
    "        year_result.append(count_match)\n",
    "\n",
    "    \n",
    "    return year_result"
   ]
  },
  {
   "cell_type": "code",
   "execution_count": 271,
   "metadata": {
    "ExecuteTime": {
     "end_time": "2021-10-14T00:56:06.616390Z",
     "start_time": "2021-10-14T00:56:05.573519Z"
    }
   },
   "outputs": [],
   "source": [
    "test_result = answer_Q5_negative(data_sub, 200, 2017, 2020)"
   ]
  },
  {
   "cell_type": "code",
   "execution_count": 272,
   "metadata": {
    "ExecuteTime": {
     "end_time": "2021-10-14T00:56:06.622654Z",
     "start_time": "2021-10-14T00:56:06.618809Z"
    }
   },
   "outputs": [
    {
     "data": {
      "text/plain": [
       "[0, 0, 0, 0]"
      ]
     },
     "execution_count": 272,
     "metadata": {},
     "output_type": "execute_result"
    }
   ],
   "source": [
    "test_result"
   ]
  },
  {
   "cell_type": "code",
   "execution_count": null,
   "metadata": {},
   "outputs": [],
   "source": []
  }
 ],
 "metadata": {
  "kernelspec": {
   "display_name": "GNN",
   "language": "python",
   "name": "gnn"
  },
  "language_info": {
   "codemirror_mode": {
    "name": "ipython",
    "version": 3
   },
   "file_extension": ".py",
   "mimetype": "text/x-python",
   "name": "python",
   "nbconvert_exporter": "python",
   "pygments_lexer": "ipython3",
   "version": "3.8.10"
  },
  "latex_envs": {
   "LaTeX_envs_menu_present": true,
   "autoclose": false,
   "autocomplete": true,
   "bibliofile": "biblio.bib",
   "cite_by": "apalike",
   "current_citInitial": 1,
   "eqLabelWithNumbers": true,
   "eqNumInitial": 1,
   "hotkeys": {
    "equation": "Ctrl-E",
    "itemize": "Ctrl-I"
   },
   "labels_anchors": false,
   "latex_user_defs": false,
   "report_style_numbering": false,
   "user_envs_cfg": false
  },
  "toc": {
   "base_numbering": 1,
   "nav_menu": {},
   "number_sections": true,
   "sideBar": true,
   "skip_h1_title": false,
   "title_cell": "Table of Contents",
   "title_sidebar": "Contents",
   "toc_cell": false,
   "toc_position": {},
   "toc_section_display": true,
   "toc_window_display": false
  }
 },
 "nbformat": 4,
 "nbformat_minor": 4
}
