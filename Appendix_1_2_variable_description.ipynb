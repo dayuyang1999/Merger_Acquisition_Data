{
 "cells": [
  {
   "cell_type": "markdown",
   "metadata": {},
   "source": [
    "All the SDC variable we will use:"
   ]
  },
  {
   "cell_type": "code",
   "execution_count": 1,
   "metadata": {
    "ExecuteTime": {
     "end_time": "2021-09-16T01:01:14.898764Z",
     "start_time": "2021-09-16T01:01:14.894625Z"
    }
   },
   "outputs": [],
   "source": [
    "\n",
    "\n",
    "name_lst = [\n",
    "    'ACU', 'ASIC2', 'ABL', 'ANL', 'APUBC', 'AUP', 'AUPSIC', 'AUPBL', 'AUPNAMES', 'AUPPUB',\n",
    "    'BLOCK','CREEP','DA','DE','STATC','SYNOP','VAL','PCTACQ','PSOUGHTOWN','PSOUGHT','PHDA','PCTOWN','PSOUGHTT','PRIVATIZATION','DEAL_NO',\n",
    "    'TCU', 'TSIC2', 'TBL', 'TNL', 'TPUBC', 'TUP', 'TUPSIC', 'TUPBL', 'TUPNAMES', 'TUPPUB'    \n",
    "]\n"
   ]
  },
  {
   "cell_type": "code",
   "execution_count": 2,
   "metadata": {
    "ExecuteTime": {
     "end_time": "2021-09-16T01:01:20.088862Z",
     "start_time": "2021-09-16T01:01:20.079080Z"
    }
   },
   "outputs": [
    {
     "data": {
      "text/plain": [
       "35"
      ]
     },
     "execution_count": 2,
     "metadata": {},
     "output_type": "execute_result"
    }
   ],
   "source": [
    "len(name_lst)"
   ]
  },
  {
   "cell_type": "markdown",
   "metadata": {},
   "source": [
    "The full description please refer to [SDC Mergers Dataset Description](http://mergers.thomsonib.com/td/DealSearch/help/def.htm\n",
    ")\n",
    "\n",
    "\n",
    "| SDC Name         | Meaning                                      | Description                                                                                                                                                                           |\n",
    "|------------------|----------------------------------------------|---------------------------------------------------------------------------------------------------------------------------------------------------------------------------------------|\n",
    "| STATC            | transaction status                           |                                                                                                                                                                                       |\n",
    "| DEAL_NO          | deal number                                  |                                                                                                                                                                                       |\n",
    "| DA               | date announced                               | The date one or more parties involved in the transaction makes the first public disclosure of common or unilateral intent to pursue the transaction (no formal agreement is required) |\n",
    "| DE               | effective date                               | Date when the entire transaction is completed and effective                                                                                                                           |\n",
    "| VAL              | deal value                                   |                                                                                                                                                                                       |\n",
    "| SYNOP            | Transaction Synopsis                         | A 600 character text field summarizing the events of the transaction                                                                                                                  |\n",
    "| ACU              | acquiror 6-digit cusip                       | unique identifier for the acquiring company's ultimate parent.                                                                                                                        |\n",
    "| TCU              | target 6-digit cusip                         |                                                                                                                                                                                       |\n",
    "| ANL              | Full Acquiror Company Name (1 line)          |                                                                                                                                                                                       |\n",
    "| TNL              | Full target Company Name (1 line)            |                                                                                                                                                                                       |\n",
    "| ABL              | acquiror Business Description Long           |                                                                                                                                                                                       |\n",
    "| TBL              | target Business Description Long             |                                                                                                                                                                                       |\n",
    "| AINC             | Acquiror Industry Sector Code                |                                                                                                                                                                                       |\n",
    "| TINC             | Target Industry Sector Code                  |                                                                                                                                                                                       |\n",
    "| ASIC2            | Acquiror SIC Codes(All on one line)          | TF assigns up to 10 SIC codes to each acquiring company                                                                                                                               |\n",
    "| TSIC2            | Target SIC Codes(All on one line)            |                                                                                                                                                                                       |\n",
    "| APUBC            | Acquiror public status code                 | Acquiror Public Status Code                                                                                                                                                           |\n",
    "| TPUBC            | Public Status Code                           | ownership of the target at the time of the transaction.                                                                                                                               |\n",
    "| AIPPUB           | acquiror immediate parent public status code | P=public, V=private, S=subsidiary, JV=joint venture, G=government owned                                                                                                               |\n",
    "| TIPPUBC          | Target immediate parent Public Status code   | in SDC, TPUB or TIPPUBC                                                                                                                                                               |\n",
    "| ACQUIROR_PUB_MID | Acquiror Mid Level Public Status             | describing a more defined form of ownership of the acquiror at the time of the transaction.                                                                                           |\n",
    "| TARGET_PUB_MID   | Target Mid Level Public Status               |                                                                                                                                                                                       |\n",
    "| AUP_PUB_MID      | Acquiror Ultimate Parent Mid Code            | the ownership status of the Acquiror's ultimate parent at the time of the transaction                                                                                                 |\n",
    "| TUP_PUB_MID      | Target Ultimate Parent Mid Code              | ownership of the target's ultimate parent at the time of the transaction.                                                                                                             |\n",
    "| AIP              | Acquiror Immediate parent 6 digit CUSIP      |                                                                                                                                                                                       |\n",
    "| TIP              | Target Immediate parent 6 digit CUSIP        |                                                                                                                                                                                       |\n",
    "| AUP              | Acquiror Ultimate Parent CUSIP               | A 6-character, unique identifier for the acquiring company's ultimate parent.                                                                                                         |\n",
    "| TUP              | Target Ultimate Parent CUSIP                 |                                                                                                                                                                                       |\n",
    "| AUPNAMES         | Acquiror Ultimate Parent Name                |                                                                                                                                                                                       |\n",
    "| TUPNAMES         | Target Ultimate Parent Name                  |                                                                                                                                                                                       |\n",
    "| AUPPUB           | Acquiror Ultimate Parent Public Status       | Public status of acquiring company's ultimate parent: public, private, subsidiary, joint venture or government owned.                                                                 |\n",
    "| TUPPUB           | Target Ultimate Parent Public Status         |                                                                                                                                                                                       |\n"
   ]
  },
  {
   "cell_type": "markdown",
   "metadata": {},
   "source": [
    "# Summary of use of variables\n",
    "\n",
    "\n",
    "<!-- #region -->\n",
    "Identifier(14*2=28 var):\n",
    "- acquire(also investor?)(6): cusip(ACU), public status(APUBC), sic(ASIC2), name(ANL), business description(ABL), mid level public desc(ACQUIROR_PUB_MID_DESC)\n",
    "    - immediate parent (3): cusip(AIP), public status(AIPPUBC), name(AIPNAMES)\n",
    "    - ultimate parent(5): cusip(AUP), public status(AUPPUBC), name(AUPNAMES), SIC(AUPSIC), mid level public desc(AUP_PUB_MID)\n",
    "\n",
    "- target(also seller?): cusip(TCU), public status(TPUBC), sic(TSIC2), name(TNL), business description(TBL), mid level ownership(TARGET_PUB_MID)\n",
    "    - immediate parent: cusip(TIP), public status(TIPPUBC), name(TIPNAMES)\n",
    "    - ultimate parent: cusip(TUP), public status(AUPPUBC), name(TUPNAMES), SIC(TUPSIC), mid level public desc(TUP_PUB_MID)\n",
    "\n",
    "\n",
    "Deal Level(15):\n",
    "- Basic info: DA, DE, VAL, STATC, MASTER_DEAL_NO, \n",
    "- Special Purchase: CREEP, BLOCK, PRIVATIATION, \n",
    "- Acquisition Ratio: PCTACQ, PCTOWN, PSOUGHT, PHDA, PSOUGHTOWN, \n",
    "- Description: SYNOP(not necessay), mid level description both(BOTH_PUB_MID)\n",
    "\n",
    "\n",
    "---\n",
    "\n",
    "Variable Order: Deal, pairs of (Acquirer's, Target's.) following the order above\n",
    "\n",
    "---\n",
    "\n",
    "Totally: 35 var"
   ]
  },
  {
   "cell_type": "code",
   "execution_count": null,
   "metadata": {},
   "outputs": [],
   "source": []
  }
 ],
 "metadata": {
  "kernelspec": {
   "display_name": "GNN",
   "language": "python",
   "name": "gnn"
  },
  "language_info": {
   "codemirror_mode": {
    "name": "ipython",
    "version": 3
   },
   "file_extension": ".py",
   "mimetype": "text/x-python",
   "name": "python",
   "nbconvert_exporter": "python",
   "pygments_lexer": "ipython3",
   "version": "3.8.10"
  },
  "latex_envs": {
   "LaTeX_envs_menu_present": true,
   "autoclose": false,
   "autocomplete": true,
   "bibliofile": "biblio.bib",
   "cite_by": "apalike",
   "current_citInitial": 1,
   "eqLabelWithNumbers": true,
   "eqNumInitial": 1,
   "hotkeys": {
    "equation": "Ctrl-E",
    "itemize": "Ctrl-I"
   },
   "labels_anchors": false,
   "latex_user_defs": false,
   "report_style_numbering": false,
   "user_envs_cfg": false
  },
  "toc": {
   "base_numbering": 1,
   "nav_menu": {},
   "number_sections": true,
   "sideBar": true,
   "skip_h1_title": false,
   "title_cell": "Table of Contents",
   "title_sidebar": "Contents",
   "toc_cell": false,
   "toc_position": {},
   "toc_section_display": true,
   "toc_window_display": false
  }
 },
 "nbformat": 4,
 "nbformat_minor": 4
}
