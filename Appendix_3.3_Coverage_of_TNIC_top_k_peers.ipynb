{
 "cells": [
  {
   "cell_type": "code",
   "execution_count": 1,
   "metadata": {
    "ExecuteTime": {
     "end_time": "2021-10-11T20:47:04.433914Z",
     "start_time": "2021-10-11T20:47:03.921913Z"
    }
   },
   "outputs": [],
   "source": [
    "import os\n",
    "import pickle\n",
    "import numpy as np\n",
    "import pandas as pd\n",
    "from tqdm.notebook import tqdm\n",
    "from os.path import join as pjoin\n",
    "import matplotlib.pyplot as plt"
   ]
  },
  {
   "cell_type": "code",
   "execution_count": 2,
   "metadata": {
    "ExecuteTime": {
     "end_time": "2021-10-11T20:47:04.437828Z",
     "start_time": "2021-10-11T20:47:04.435248Z"
    }
   },
   "outputs": [],
   "source": [
    "tmp_data_path = '../MA_data/data/tmp/'\n",
    "data_path = '../MA_data/data/'\n",
    "\n",
    "s_year = 1997\n",
    "e_year = 2019"
   ]
  },
  {
   "cell_type": "code",
   "execution_count": 3,
   "metadata": {
    "ExecuteTime": {
     "end_time": "2021-10-11T20:47:04.446986Z",
     "start_time": "2021-10-11T20:47:04.440616Z"
    }
   },
   "outputs": [],
   "source": [
    "def load_tnic(data_path, s_year, e_year):\n",
    "    tnic3 =  pd.read_csv(data_path+'tnic3_data/tnic3_data.txt', delimiter = '\\t' )\n",
    "    tnic = tnic3[(tnic3['year'] <= e_year) & (tnic3['year'] >= s_year)]\n",
    "\n",
    "\n",
    "    tnic['gvkey1'] = tnic['gvkey1'].astype(str)\n",
    "    tnic['gvkey2'] = tnic['gvkey2'].astype(str)\n",
    "\n",
    "    tnic = tnic.dropna(subset=['score'])\n",
    "    return tnic\n",
    "    "
   ]
  },
  {
   "cell_type": "code",
   "execution_count": 6,
   "metadata": {
    "ExecuteTime": {
     "end_time": "2021-10-11T21:24:20.062742Z",
     "start_time": "2021-10-11T21:24:20.050730Z"
    }
   },
   "outputs": [],
   "source": [
    "def get_gvkeylst_adj(tnic, year, top_peer=10, get_adj=False, weighted=False):\n",
    "\n",
    "    def add_rank(df):\n",
    "        df['rank'] = df.groupby('gvkey1')['score'].rank('dense', ascending=False)\n",
    "        df['rank'] = df['rank'].astype(int)\n",
    "        return df\n",
    "    \n",
    "    tnic_year = tnic[tnic.year == year]\n",
    "\n",
    "    tnic_year = add_rank(tnic_year)\n",
    "    tnic_year_top = tnic_year[tnic_year['rank'] <= top_peer].reset_index(drop=True)\n",
    "    \n",
    "    \n",
    "    gvkey_arr = np.unique(np.concatenate((tnic_year_top.gvkey1.unique(), tnic_year_top.gvkey2.unique()), axis = 0))\n",
    "    N = len(gvkey_lst)\n",
    "    \n",
    "    gvkey_index_mapping = {value:index for index, value in enumerate(gvkey_lst)}\n",
    "    index_gvkey_mapping = {index:value for index, value in enumerate(gvkey_lst)}\n",
    "    \n",
    "    if get_adj:\n",
    "        adj = np.zeros((N,N))\n",
    "        \n",
    "        for _, row in tnic_year_top.iterrows():\n",
    "            \n",
    "            gvkey1 = row['gvkey1']\n",
    "            gveky2 = row['gvkey2']\n",
    "            \n",
    "            index1 = gvkey_index_mapping[gvkey1]\n",
    "            index2 = gvkey_index_mapping[gvkey2]\n",
    "            \n",
    "            score = row['score']\n",
    "            \n",
    "            if weighted:\n",
    "                adj[index1, index2] = score\n",
    "            else:\n",
    "                adj[index1, index2] = 1\n",
    "            \n",
    "        \n",
    "        return gvkey_arr, adj    \n",
    "    else:\n",
    "        return gvkey_arr\n",
    "    "
   ]
  },
  {
   "cell_type": "code",
   "execution_count": 4,
   "metadata": {
    "ExecuteTime": {
     "end_time": "2021-10-11T20:47:30.574202Z",
     "start_time": "2021-10-11T20:47:04.449798Z"
    }
   },
   "outputs": [
    {
     "name": "stderr",
     "output_type": "stream",
     "text": [
      "<ipython-input-3-ec7000184eb7>:6: SettingWithCopyWarning: \n",
      "A value is trying to be set on a copy of a slice from a DataFrame.\n",
      "Try using .loc[row_indexer,col_indexer] = value instead\n",
      "\n",
      "See the caveats in the documentation: https://pandas.pydata.org/pandas-docs/stable/user_guide/indexing.html#returning-a-view-versus-a-copy\n",
      "  tnic['gvkey1'] = tnic['gvkey1'].astype(str)\n",
      "<ipython-input-3-ec7000184eb7>:7: SettingWithCopyWarning: \n",
      "A value is trying to be set on a copy of a slice from a DataFrame.\n",
      "Try using .loc[row_indexer,col_indexer] = value instead\n",
      "\n",
      "See the caveats in the documentation: https://pandas.pydata.org/pandas-docs/stable/user_guide/indexing.html#returning-a-view-versus-a-copy\n",
      "  tnic['gvkey2'] = tnic['gvkey2'].astype(str)\n"
     ]
    }
   ],
   "source": [
    "tnic = load_tnic(data_path, s_year, e_year)"
   ]
  },
  {
   "cell_type": "code",
   "execution_count": null,
   "metadata": {},
   "outputs": [],
   "source": [
    "gvkey_1997, adj_1997 = get_gvkeylst_adj(tnic, year=1997, top_peer=10, get_adj=True)"
   ]
  }
 ],
 "metadata": {
  "kernelspec": {
   "display_name": "GNN",
   "language": "python",
   "name": "gnn"
  },
  "language_info": {
   "codemirror_mode": {
    "name": "ipython",
    "version": 3
   },
   "file_extension": ".py",
   "mimetype": "text/x-python",
   "name": "python",
   "nbconvert_exporter": "python",
   "pygments_lexer": "ipython3",
   "version": "3.8.10"
  },
  "latex_envs": {
   "LaTeX_envs_menu_present": true,
   "autoclose": false,
   "autocomplete": true,
   "bibliofile": "biblio.bib",
   "cite_by": "apalike",
   "current_citInitial": 1,
   "eqLabelWithNumbers": true,
   "eqNumInitial": 1,
   "hotkeys": {
    "equation": "Ctrl-E",
    "itemize": "Ctrl-I"
   },
   "labels_anchors": false,
   "latex_user_defs": false,
   "report_style_numbering": false,
   "user_envs_cfg": false
  },
  "toc": {
   "base_numbering": 1,
   "nav_menu": {},
   "number_sections": true,
   "sideBar": true,
   "skip_h1_title": false,
   "title_cell": "Table of Contents",
   "title_sidebar": "Contents",
   "toc_cell": false,
   "toc_position": {},
   "toc_section_display": true,
   "toc_window_display": false
  }
 },
 "nbformat": 4,
 "nbformat_minor": 4
}
