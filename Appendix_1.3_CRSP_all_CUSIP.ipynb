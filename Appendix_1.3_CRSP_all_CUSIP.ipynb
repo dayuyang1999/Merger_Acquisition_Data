{
 "cells": [
  {
   "cell_type": "code",
   "execution_count": 1,
   "metadata": {
    "ExecuteTime": {
     "end_time": "2021-10-11T14:00:10.386020Z",
     "start_time": "2021-10-11T14:00:09.968697Z"
    }
   },
   "outputs": [],
   "source": [
    "import pandas as pd\n",
    "import pickle"
   ]
  },
  {
   "cell_type": "code",
   "execution_count": 2,
   "metadata": {
    "ExecuteTime": {
     "end_time": "2021-10-11T14:00:24.883843Z",
     "start_time": "2021-10-11T14:00:24.879754Z"
    }
   },
   "outputs": [],
   "source": [
    "data_path = \"../MA_data/data/\"\n"
   ]
  },
  {
   "cell_type": "code",
   "execution_count": 4,
   "metadata": {
    "ExecuteTime": {
     "end_time": "2021-10-11T14:01:18.843157Z",
     "start_time": "2021-10-11T14:01:10.323523Z"
    }
   },
   "outputs": [],
   "source": [
    "df = pd.read_csv(data_path+\"crsp_all_cusip_permco.csv\")"
   ]
  },
  {
   "cell_type": "code",
   "execution_count": 7,
   "metadata": {
    "ExecuteTime": {
     "end_time": "2021-10-11T14:02:18.689256Z",
     "start_time": "2021-10-11T14:02:16.036028Z"
    }
   },
   "outputs": [],
   "source": [
    "unique_ncusip = df.groupby(\"NCUSIP\").first().reset_index(drop=False)"
   ]
  },
  {
   "cell_type": "code",
   "execution_count": 11,
   "metadata": {
    "ExecuteTime": {
     "end_time": "2021-10-11T14:09:08.647553Z",
     "start_time": "2021-10-11T14:09:08.640328Z"
    }
   },
   "outputs": [],
   "source": [
    "def change_var(df):\n",
    "    df['NCUSIP'] = df['NCUSIP'].astype(str)\n",
    "    df['PERMNO'] = df['PERMNO'].astype(str)\n",
    "    df['PERMCO'] = df['PERMCO'].astype(str)\n",
    "    \n",
    "    df['HCUSIP'] = df.apply(lambda row: row.NCUSIP[:6], axis=1)\n",
    "    \n",
    "    return df\n",
    "    "
   ]
  },
  {
   "cell_type": "code",
   "execution_count": 12,
   "metadata": {
    "ExecuteTime": {
     "end_time": "2021-10-11T14:09:08.988387Z",
     "start_time": "2021-10-11T14:09:08.813003Z"
    }
   },
   "outputs": [],
   "source": [
    "df2 = change_var(unique_ncusip)"
   ]
  },
  {
   "cell_type": "code",
   "execution_count": 14,
   "metadata": {
    "ExecuteTime": {
     "end_time": "2021-10-11T14:09:43.489503Z",
     "start_time": "2021-10-11T14:09:43.475852Z"
    }
   },
   "outputs": [],
   "source": [
    "df3 = df2[['PERMNO', 'HCUSIP']]"
   ]
  },
  {
   "cell_type": "code",
   "execution_count": 41,
   "metadata": {
    "ExecuteTime": {
     "end_time": "2021-10-11T14:27:11.286943Z",
     "start_time": "2021-10-11T14:27:11.256601Z"
    }
   },
   "outputs": [],
   "source": [
    "df4 = df3.groupby('HCUSIP').first().reset_index(drop=False)"
   ]
  },
  {
   "cell_type": "code",
   "execution_count": 42,
   "metadata": {
    "ExecuteTime": {
     "end_time": "2021-10-11T14:27:14.562443Z",
     "start_time": "2021-10-11T14:27:14.546860Z"
    }
   },
   "outputs": [],
   "source": [
    "df4.to_pickle(data_path+\"hcusip_permno.pickle\")"
   ]
  },
  {
   "cell_type": "markdown",
   "metadata": {},
   "source": [
    "# Can 1 CUSIP match to multiple PERMNO?\n",
    "\n",
    "\n",
    "- NO"
   ]
  },
  {
   "cell_type": "code",
   "execution_count": 43,
   "metadata": {
    "ExecuteTime": {
     "end_time": "2021-10-11T14:27:18.408525Z",
     "start_time": "2021-10-11T14:27:18.383052Z"
    }
   },
   "outputs": [],
   "source": [
    "helper = pd.DataFrame(df4.groupby('HCUSIP').size() > 1).reset_index(drop=False)"
   ]
  },
  {
   "cell_type": "code",
   "execution_count": 44,
   "metadata": {
    "ExecuteTime": {
     "end_time": "2021-10-11T14:27:18.658605Z",
     "start_time": "2021-10-11T14:27:18.648120Z"
    }
   },
   "outputs": [
    {
     "data": {
      "text/html": [
       "<div>\n",
       "<style scoped>\n",
       "    .dataframe tbody tr th:only-of-type {\n",
       "        vertical-align: middle;\n",
       "    }\n",
       "\n",
       "    .dataframe tbody tr th {\n",
       "        vertical-align: top;\n",
       "    }\n",
       "\n",
       "    .dataframe thead th {\n",
       "        text-align: right;\n",
       "    }\n",
       "</style>\n",
       "<table border=\"1\" class=\"dataframe\">\n",
       "  <thead>\n",
       "    <tr style=\"text-align: right;\">\n",
       "      <th></th>\n",
       "      <th>HCUSIP</th>\n",
       "      <th>0</th>\n",
       "    </tr>\n",
       "  </thead>\n",
       "  <tbody>\n",
       "  </tbody>\n",
       "</table>\n",
       "</div>"
      ],
      "text/plain": [
       "Empty DataFrame\n",
       "Columns: [HCUSIP, 0]\n",
       "Index: []"
      ]
     },
     "execution_count": 44,
     "metadata": {},
     "output_type": "execute_result"
    }
   ],
   "source": [
    "helper[helper[0]]"
   ]
  },
  {
   "cell_type": "code",
   "execution_count": null,
   "metadata": {},
   "outputs": [],
   "source": []
  }
 ],
 "metadata": {
  "kernelspec": {
   "display_name": "GNN",
   "language": "python",
   "name": "gnn"
  },
  "language_info": {
   "codemirror_mode": {
    "name": "ipython",
    "version": 3
   },
   "file_extension": ".py",
   "mimetype": "text/x-python",
   "name": "python",
   "nbconvert_exporter": "python",
   "pygments_lexer": "ipython3",
   "version": "3.8.10"
  },
  "latex_envs": {
   "LaTeX_envs_menu_present": true,
   "autoclose": false,
   "autocomplete": true,
   "bibliofile": "biblio.bib",
   "cite_by": "apalike",
   "current_citInitial": 1,
   "eqLabelWithNumbers": true,
   "eqNumInitial": 1,
   "hotkeys": {
    "equation": "Ctrl-E",
    "itemize": "Ctrl-I"
   },
   "labels_anchors": false,
   "latex_user_defs": false,
   "report_style_numbering": false,
   "user_envs_cfg": false
  },
  "toc": {
   "base_numbering": 1,
   "nav_menu": {},
   "number_sections": true,
   "sideBar": true,
   "skip_h1_title": false,
   "title_cell": "Table of Contents",
   "title_sidebar": "Contents",
   "toc_cell": false,
   "toc_position": {},
   "toc_section_display": true,
   "toc_window_display": false
  }
 },
 "nbformat": 4,
 "nbformat_minor": 4
}
