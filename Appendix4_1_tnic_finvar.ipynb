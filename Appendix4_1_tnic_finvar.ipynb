{
 "cells": [
  {
   "cell_type": "code",
   "execution_count": 5,
   "metadata": {
    "ExecuteTime": {
     "end_time": "2021-09-14T21:54:40.811974Z",
     "start_time": "2021-09-14T21:54:40.035320Z"
    }
   },
   "outputs": [],
   "source": [
    "import pickle\n",
    "import pandas as pd\n",
    "import numpy as np\n"
   ]
  },
  {
   "cell_type": "code",
   "execution_count": 17,
   "metadata": {
    "ExecuteTime": {
     "end_time": "2021-09-14T21:55:39.327515Z",
     "start_time": "2021-09-14T21:55:39.324170Z"
    }
   },
   "outputs": [],
   "source": [
    "data_dir = './data/tnic3_data/'\n",
    "tmp_data_path = './data/tmp'\n",
    "\n",
    "\n",
    "s_year = 1997\n",
    "e_year = 2019 ### keep in mind here is 2019\n",
    "\n",
    "top_k = 10\n"
   ]
  },
  {
   "cell_type": "markdown",
   "metadata": {},
   "source": [
    "# helper funcs"
   ]
  },
  {
   "cell_type": "code",
   "execution_count": 50,
   "metadata": {
    "ExecuteTime": {
     "end_time": "2021-09-14T22:08:52.380245Z",
     "start_time": "2021-09-14T22:08:52.375751Z"
    }
   },
   "outputs": [],
   "source": [
    "def gvkey_year_table(gvkey_lst_topk):\n",
    "    \n",
    "    df_gvkey = pd.DataFrame({'tnic_topk_gvkey': gvkey_lst_topk})\n",
    "    x = pd.DataFrame(np.repeat(df_gvkey.values, n_years, axis=0))\n",
    "    y = pd.DataFrame({'year':list(np.arange(s_year, e_year+1))*len(gvkey_lst_topk)})\n",
    "    \n",
    "    \n",
    "    assert x.shape[0] == y.shape[0]\n",
    "    \n",
    "    x['year'] = y['year']\n",
    "    x.columns = ['tnic_topk_gvkey', 'year']\n",
    "    return x\n",
    "    \n"
   ]
  },
  {
   "cell_type": "code",
   "execution_count": null,
   "metadata": {},
   "outputs": [],
   "source": [
    "def get_lags(sub_pd):\n",
    "    sub_pd = sub_pd[['gvkey', 'year', 'sale', 'at']]\n",
    "    sub_pd[['lag_year', 'lag_sale', 'lag_at']] = sub_pd[['year', 'sale', 'at']].shift(1)\n",
    "    return sub_pd"
   ]
  },
  {
   "cell_type": "code",
   "execution_count": 18,
   "metadata": {
    "ExecuteTime": {
     "end_time": "2021-09-14T21:55:39.520924Z",
     "start_time": "2021-09-14T21:55:39.517690Z"
    }
   },
   "outputs": [],
   "source": [
    "def get_unique(lst1, lst2):\n",
    "    uniq = list(set(lst1+lst2))\n",
    "    print('the length of unique elements is:', len(uniq))\n",
    "    return uniq"
   ]
  },
  {
   "cell_type": "code",
   "execution_count": 43,
   "metadata": {
    "ExecuteTime": {
     "end_time": "2021-09-14T22:04:51.790383Z",
     "start_time": "2021-09-14T22:04:51.780627Z"
    }
   },
   "outputs": [],
   "source": [
    "def create_var(df):\n",
    "    '''\n",
    "    df:  financial var, must contain:\n",
    "        - gvkey\n",
    "        - datadate\n",
    "        - and other variables you interested in\n",
    "    \n",
    "    '''\n",
    "    pd_afr = df\n",
    "    #### pre\n",
    "    # create year and sort\n",
    "    pd_afr['year'] = pd_afr.datadate.dt.year \n",
    "    pd_afr = pd_afr.sort_values(['gvkey', 'year', 'datadate'], ascending=True)\n",
    "    \n",
    "    # check, each firm-year observation should only be observed once\n",
    "    pd_afr = pd_afr.groupby(['gvkey', 'year'], sort=False).tail(1)\n",
    "    \n",
    "    #### create \n",
    "    # keep at and sale\n",
    "    ratio_pd = pd_afr[['gvkey', 'year', 'at', 'sale']].copy()\n",
    "    \n",
    "    # market to book ratio\n",
    "    ratio_pd['m2b'] = (pd_afr['at']+pd_afr['prcc_f']*pd_afr['csho']-pd_afr['ceq']-pd_afr['txdb'])/(pd_afr['at'])\n",
    "    \n",
    "    # leverage\n",
    "    ratio_pd['lev'] = (pd_afr['dlc']+pd_afr['dltt'])/(pd_afr['at'])\n",
    "    \n",
    "    # return on asset\n",
    "    ratio_pd['roa'] = pd_afr['ib']/(pd_afr['at'])\n",
    "\n",
    "    # various ratios\n",
    "    ratio_pd['ppe'] = pd_afr['ppent']/(pd_afr['at'])\n",
    "    ratio_pd['cash2asset'] = pd_afr['ch']/(pd_afr['at']) \n",
    "    ratio_pd['cash2sale'] = pd_afr['ch']/(pd_afr['sale'])\n",
    "    ratio_pd['sale2asset'] = pd_afr['sale']/(pd_afr['at'])\n",
    "    \n",
    "    # current ratio\n",
    "    ratio_pd['cr'] = pd_afr['act']/(pd_afr['lct']) \n",
    "    \n",
    "    # sale growth\n",
    "    growth_pd = pd_afr[['gvkey', 'year', 'sale', 'at']].copy()\n",
    "    growth_pd[['lag_year', 'lag_sale', 'lag_at']] = growth_pd.groupby('gvkey', sort=False)[['year', 'sale', 'at']].shift(1)\n",
    "    growth_pd['d_sale'] = (growth_pd['sale'] - growth_pd['lag_sale'])/growth_pd['lag_sale']\n",
    "    growth_pd['d_at'] = (growth_pd['at'] - growth_pd['lag_at'])/growth_pd['lag_at']\n",
    "    \n",
    "    #print('check df structure ok: ', growth_pd.head(5))\n",
    "    \n",
    "    ratio_pd = ratio_pd.merge(growth_pd[['gvkey', 'year', 'd_sale', 'd_at']])\n",
    "    \n",
    "    \n",
    "    print('check df created ok: \\n', ratio_pd.head(1))\n",
    "    \n",
    "    print('\\n variable lists of ratio pd: ', ratio_pd.columns)\n",
    "    \n",
    "    return ratio_pd\n",
    "    \n",
    "    \n",
    "    \n"
   ]
  },
  {
   "cell_type": "code",
   "execution_count": 19,
   "metadata": {
    "ExecuteTime": {
     "end_time": "2021-09-14T21:55:40.807513Z",
     "start_time": "2021-09-14T21:55:39.788812Z"
    }
   },
   "outputs": [],
   "source": [
    "tnic_top_k = pd.read_pickle(f'{tmp_data_path}/tnic_top_{top_k}.pickle')"
   ]
  },
  {
   "cell_type": "code",
   "execution_count": 20,
   "metadata": {
    "ExecuteTime": {
     "end_time": "2021-09-14T21:55:41.866360Z",
     "start_time": "2021-09-14T21:55:40.811035Z"
    }
   },
   "outputs": [
    {
     "name": "stdout",
     "output_type": "stream",
     "text": [
      "the length of unique elements is: 13681\n"
     ]
    }
   ],
   "source": [
    "gvkey_lst_topk = get_unique(list(tnic_top_k['gvkey1']), list(tnic_top_k['gvkey2']))"
   ]
  },
  {
   "cell_type": "markdown",
   "metadata": {},
   "source": [
    "# varify if those GVKEYs could retreive fin var from Compustat"
   ]
  },
  {
   "cell_type": "code",
   "execution_count": 21,
   "metadata": {
    "ExecuteTime": {
     "end_time": "2021-09-14T21:55:41.874327Z",
     "start_time": "2021-09-14T21:55:41.869804Z"
    }
   },
   "outputs": [],
   "source": [
    "n_years = e_year - s_year + 1"
   ]
  },
  {
   "cell_type": "code",
   "execution_count": 51,
   "metadata": {
    "ExecuteTime": {
     "end_time": "2021-09-14T22:08:55.711100Z",
     "start_time": "2021-09-14T22:08:55.525220Z"
    }
   },
   "outputs": [],
   "source": [
    "gvkey_table = gvkey_year_table(gvkey_lst_topk)"
   ]
  },
  {
   "cell_type": "code",
   "execution_count": 64,
   "metadata": {
    "ExecuteTime": {
     "end_time": "2021-09-14T22:14:54.399404Z",
     "start_time": "2021-09-14T22:14:54.343422Z"
    }
   },
   "outputs": [],
   "source": [
    "\n",
    "ratios_nona = pd.read_pickle(f'{tmp_data_path}/fv_nona_{s_year}_2020.pickle')\n"
   ]
  },
  {
   "cell_type": "markdown",
   "metadata": {},
   "source": [
    "## gvkey_table merge with fin_var"
   ]
  },
  {
   "cell_type": "markdown",
   "metadata": {},
   "source": [
    "### change type to match"
   ]
  },
  {
   "cell_type": "code",
   "execution_count": 65,
   "metadata": {
    "ExecuteTime": {
     "end_time": "2021-09-14T22:15:02.651454Z",
     "start_time": "2021-09-14T22:15:02.643916Z"
    }
   },
   "outputs": [
    {
     "data": {
      "text/plain": [
       "True"
      ]
     },
     "execution_count": 65,
     "metadata": {},
     "output_type": "execute_result"
    }
   ],
   "source": [
    "## verify the type is the same before merge\n",
    "\n",
    "type(gvkey_table.loc[1,'tnic_topk_gvkey']) == type(ratios_nona.loc[1, 'gvkey'])"
   ]
  },
  {
   "cell_type": "code",
   "execution_count": 69,
   "metadata": {
    "ExecuteTime": {
     "end_time": "2021-09-14T22:16:36.426275Z",
     "start_time": "2021-09-14T22:16:36.174657Z"
    }
   },
   "outputs": [],
   "source": [
    "merged =  gvkey_table.merge(ratios_nona, left_on =list(gvkey_table.columns), right_on = ['gvkey','year'], how = 'inner' )"
   ]
  },
  {
   "cell_type": "code",
   "execution_count": 72,
   "metadata": {
    "ExecuteTime": {
     "end_time": "2021-09-14T22:17:08.897288Z",
     "start_time": "2021-09-14T22:17:08.888498Z"
    }
   },
   "outputs": [
    {
     "data": {
      "text/plain": [
       "(102988, 16)"
      ]
     },
     "execution_count": 72,
     "metadata": {},
     "output_type": "execute_result"
    }
   ],
   "source": [
    "merged.shape # these are those with sufficient fin var in top k peers"
   ]
  },
  {
   "cell_type": "code",
   "execution_count": 74,
   "metadata": {
    "ExecuteTime": {
     "end_time": "2021-09-14T22:18:06.966161Z",
     "start_time": "2021-09-14T22:18:06.842769Z"
    }
   },
   "outputs": [],
   "source": [
    "merged.to_pickle(f'{tmp_data_path}/tnic_topk_finvar_{s_year}_2019.pickle')"
   ]
  },
  {
   "cell_type": "code",
   "execution_count": null,
   "metadata": {},
   "outputs": [],
   "source": []
  }
 ],
 "metadata": {
  "kernelspec": {
   "display_name": "GNN",
   "language": "python",
   "name": "gnn"
  },
  "language_info": {
   "codemirror_mode": {
    "name": "ipython",
    "version": 3
   },
   "file_extension": ".py",
   "mimetype": "text/x-python",
   "name": "python",
   "nbconvert_exporter": "python",
   "pygments_lexer": "ipython3",
   "version": "3.8.10"
  },
  "latex_envs": {
   "LaTeX_envs_menu_present": true,
   "autoclose": false,
   "autocomplete": true,
   "bibliofile": "biblio.bib",
   "cite_by": "apalike",
   "current_citInitial": 1,
   "eqLabelWithNumbers": true,
   "eqNumInitial": 1,
   "hotkeys": {
    "equation": "Ctrl-E",
    "itemize": "Ctrl-I"
   },
   "labels_anchors": false,
   "latex_user_defs": false,
   "report_style_numbering": false,
   "user_envs_cfg": false
  },
  "toc": {
   "base_numbering": 1,
   "nav_menu": {},
   "number_sections": true,
   "sideBar": true,
   "skip_h1_title": false,
   "title_cell": "Table of Contents",
   "title_sidebar": "Contents",
   "toc_cell": false,
   "toc_position": {},
   "toc_section_display": true,
   "toc_window_display": false
  }
 },
 "nbformat": 4,
 "nbformat_minor": 4
}
