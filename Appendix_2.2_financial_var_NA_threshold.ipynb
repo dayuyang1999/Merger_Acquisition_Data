{
 "cells": [
  {
   "cell_type": "code",
   "execution_count": 1,
   "metadata": {
    "ExecuteTime": {
     "end_time": "2021-10-03T02:27:06.363879Z",
     "start_time": "2021-10-03T02:27:03.448113Z"
    }
   },
   "outputs": [],
   "source": [
    "import os\n",
    "import pickle\n",
    "import numpy as np\n",
    "import pandas as pd\n",
    "from tqdm.notebook import tqdm\n",
    "from os.path import join as pjoin\n",
    "from scipy.stats.mstats import winsorize\n",
    "from matplotlib import pyplot as plt\n"
   ]
  },
  {
   "cell_type": "code",
   "execution_count": 2,
   "metadata": {
    "ExecuteTime": {
     "end_time": "2021-10-03T02:27:06.373296Z",
     "start_time": "2021-10-03T02:27:06.367961Z"
    }
   },
   "outputs": [],
   "source": [
    "tmp_data_path = '../MA_data/data/tmp'\n",
    "\n",
    "\n",
    "s_year = 1997\n",
    "\n",
    "e_year = 2019"
   ]
  },
  {
   "cell_type": "markdown",
   "metadata": {},
   "source": [
    "load data"
   ]
  },
  {
   "cell_type": "code",
   "execution_count": 3,
   "metadata": {
    "ExecuteTime": {
     "end_time": "2021-10-03T02:27:06.744318Z",
     "start_time": "2021-10-03T02:27:06.377073Z"
    },
    "scrolled": true
   },
   "outputs": [],
   "source": [
    "df_ma = pd.read_pickle(pjoin(tmp_data_path , f'sdc_gvkey_{s_year}_{e_year}.pickle'))"
   ]
  },
  {
   "cell_type": "code",
   "execution_count": 4,
   "metadata": {
    "ExecuteTime": {
     "end_time": "2021-10-03T02:27:06.939260Z",
     "start_time": "2021-10-03T02:27:06.747695Z"
    }
   },
   "outputs": [],
   "source": [
    "df_fv_raw = pd.read_pickle(f'{tmp_data_path}/fv_raw_{s_year}_{e_year}.pickle')"
   ]
  },
  {
   "cell_type": "markdown",
   "metadata": {},
   "source": [
    "recall that we have 2 types of public condition; 2 types of merge events\n",
    "\n",
    "- 3,9: target = `AUP` acquirer `TUP` \n",
    "- 1,7: target = `AUP` acquirer `TPU`\n",
    "\n",
    "\n",
    "\n",
    "|         | PubCond = 1,7 | PubCond = 3,9 |       |\n",
    "|---------|---------------|------------------|-------|\n",
    "| STATC=C | 5902          | 7991             | 13893 |\n",
    "| STATC=W | 844           | 195              | 1039  |\n",
    "|         | 6746          | 8186             |       |\n",
    "\n",
    "\n",
    "\n",
    "SUMMARY:\n",
    "- Our Goal is to modeling 2 types of MA events,\n",
    "    - for each of which, anwsering: why some fail and why some success"
   ]
  },
  {
   "cell_type": "code",
   "execution_count": 5,
   "metadata": {
    "ExecuteTime": {
     "end_time": "2021-10-03T02:27:08.188158Z",
     "start_time": "2021-10-03T02:27:08.126619Z"
    }
   },
   "outputs": [
    {
     "data": {
      "text/html": [
       "<div>\n",
       "<style scoped>\n",
       "    .dataframe tbody tr th:only-of-type {\n",
       "        vertical-align: middle;\n",
       "    }\n",
       "\n",
       "    .dataframe tbody tr th {\n",
       "        vertical-align: top;\n",
       "    }\n",
       "\n",
       "    .dataframe thead th {\n",
       "        text-align: right;\n",
       "    }\n",
       "</style>\n",
       "<table border=\"1\" class=\"dataframe\">\n",
       "  <thead>\n",
       "    <tr style=\"text-align: right;\">\n",
       "      <th></th>\n",
       "      <th>gvkey</th>\n",
       "      <th>year</th>\n",
       "      <th>at</th>\n",
       "      <th>sale</th>\n",
       "      <th>ch</th>\n",
       "      <th>rdip</th>\n",
       "      <th>m2b</th>\n",
       "      <th>lev</th>\n",
       "      <th>roa</th>\n",
       "      <th>ppe</th>\n",
       "      <th>cash2asset</th>\n",
       "      <th>cash2sale</th>\n",
       "      <th>sale2asset</th>\n",
       "      <th>cr</th>\n",
       "      <th>gsi</th>\n",
       "      <th>de</th>\n",
       "      <th>roe</th>\n",
       "      <th>d_sale</th>\n",
       "      <th>d_at</th>\n",
       "    </tr>\n",
       "  </thead>\n",
       "  <tbody>\n",
       "    <tr>\n",
       "      <th>0</th>\n",
       "      <td>10000</td>\n",
       "      <td>1997</td>\n",
       "      <td>577.137</td>\n",
       "      <td>559.823</td>\n",
       "      <td>16.809</td>\n",
       "      <td>NaN</td>\n",
       "      <td>1.187368</td>\n",
       "      <td>0.414770</td>\n",
       "      <td>-0.002807</td>\n",
       "      <td>0.218361</td>\n",
       "      <td>0.029125</td>\n",
       "      <td>0.030026</td>\n",
       "      <td>0.970000</td>\n",
       "      <td>1.832790</td>\n",
       "      <td>1.911871</td>\n",
       "      <td>1.302516</td>\n",
       "      <td>-0.008815</td>\n",
       "      <td>NaN</td>\n",
       "      <td>NaN</td>\n",
       "    </tr>\n",
       "    <tr>\n",
       "      <th>1</th>\n",
       "      <td>10000</td>\n",
       "      <td>1998</td>\n",
       "      <td>521.556</td>\n",
       "      <td>649.420</td>\n",
       "      <td>23.457</td>\n",
       "      <td>NaN</td>\n",
       "      <td>1.209249</td>\n",
       "      <td>0.306214</td>\n",
       "      <td>0.042674</td>\n",
       "      <td>0.209765</td>\n",
       "      <td>0.044975</td>\n",
       "      <td>0.036120</td>\n",
       "      <td>1.245159</td>\n",
       "      <td>2.086103</td>\n",
       "      <td>2.449992</td>\n",
       "      <td>0.778968</td>\n",
       "      <td>0.108557</td>\n",
       "      <td>0.160045</td>\n",
       "      <td>-0.096305</td>\n",
       "    </tr>\n",
       "    <tr>\n",
       "      <th>2</th>\n",
       "      <td>10000</td>\n",
       "      <td>1999</td>\n",
       "      <td>556.021</td>\n",
       "      <td>658.241</td>\n",
       "      <td>40.380</td>\n",
       "      <td>NaN</td>\n",
       "      <td>1.003037</td>\n",
       "      <td>0.351471</td>\n",
       "      <td>0.015620</td>\n",
       "      <td>0.191680</td>\n",
       "      <td>0.072623</td>\n",
       "      <td>0.061345</td>\n",
       "      <td>1.183842</td>\n",
       "      <td>2.218602</td>\n",
       "      <td>2.382590</td>\n",
       "      <td>0.960234</td>\n",
       "      <td>0.042674</td>\n",
       "      <td>0.013583</td>\n",
       "      <td>0.066081</td>\n",
       "    </tr>\n",
       "    <tr>\n",
       "      <th>3</th>\n",
       "      <td>10000</td>\n",
       "      <td>2000</td>\n",
       "      <td>NaN</td>\n",
       "      <td>NaN</td>\n",
       "      <td>NaN</td>\n",
       "      <td>NaN</td>\n",
       "      <td>NaN</td>\n",
       "      <td>NaN</td>\n",
       "      <td>NaN</td>\n",
       "      <td>NaN</td>\n",
       "      <td>NaN</td>\n",
       "      <td>NaN</td>\n",
       "      <td>NaN</td>\n",
       "      <td>NaN</td>\n",
       "      <td>NaN</td>\n",
       "      <td>NaN</td>\n",
       "      <td>NaN</td>\n",
       "      <td>NaN</td>\n",
       "      <td>NaN</td>\n",
       "    </tr>\n",
       "    <tr>\n",
       "      <th>4</th>\n",
       "      <td>10000</td>\n",
       "      <td>2001</td>\n",
       "      <td>NaN</td>\n",
       "      <td>NaN</td>\n",
       "      <td>NaN</td>\n",
       "      <td>NaN</td>\n",
       "      <td>NaN</td>\n",
       "      <td>NaN</td>\n",
       "      <td>NaN</td>\n",
       "      <td>NaN</td>\n",
       "      <td>NaN</td>\n",
       "      <td>NaN</td>\n",
       "      <td>NaN</td>\n",
       "      <td>NaN</td>\n",
       "      <td>NaN</td>\n",
       "      <td>NaN</td>\n",
       "      <td>NaN</td>\n",
       "      <td>NaN</td>\n",
       "      <td>NaN</td>\n",
       "    </tr>\n",
       "    <tr>\n",
       "      <th>5</th>\n",
       "      <td>10000</td>\n",
       "      <td>2002</td>\n",
       "      <td>NaN</td>\n",
       "      <td>NaN</td>\n",
       "      <td>NaN</td>\n",
       "      <td>NaN</td>\n",
       "      <td>NaN</td>\n",
       "      <td>NaN</td>\n",
       "      <td>NaN</td>\n",
       "      <td>NaN</td>\n",
       "      <td>NaN</td>\n",
       "      <td>NaN</td>\n",
       "      <td>NaN</td>\n",
       "      <td>NaN</td>\n",
       "      <td>NaN</td>\n",
       "      <td>NaN</td>\n",
       "      <td>NaN</td>\n",
       "      <td>NaN</td>\n",
       "      <td>NaN</td>\n",
       "    </tr>\n",
       "    <tr>\n",
       "      <th>6</th>\n",
       "      <td>10000</td>\n",
       "      <td>2003</td>\n",
       "      <td>NaN</td>\n",
       "      <td>NaN</td>\n",
       "      <td>NaN</td>\n",
       "      <td>NaN</td>\n",
       "      <td>NaN</td>\n",
       "      <td>NaN</td>\n",
       "      <td>NaN</td>\n",
       "      <td>NaN</td>\n",
       "      <td>NaN</td>\n",
       "      <td>NaN</td>\n",
       "      <td>NaN</td>\n",
       "      <td>NaN</td>\n",
       "      <td>NaN</td>\n",
       "      <td>NaN</td>\n",
       "      <td>NaN</td>\n",
       "      <td>NaN</td>\n",
       "      <td>NaN</td>\n",
       "    </tr>\n",
       "    <tr>\n",
       "      <th>7</th>\n",
       "      <td>10000</td>\n",
       "      <td>2004</td>\n",
       "      <td>NaN</td>\n",
       "      <td>NaN</td>\n",
       "      <td>NaN</td>\n",
       "      <td>NaN</td>\n",
       "      <td>NaN</td>\n",
       "      <td>NaN</td>\n",
       "      <td>NaN</td>\n",
       "      <td>NaN</td>\n",
       "      <td>NaN</td>\n",
       "      <td>NaN</td>\n",
       "      <td>NaN</td>\n",
       "      <td>NaN</td>\n",
       "      <td>NaN</td>\n",
       "      <td>NaN</td>\n",
       "      <td>NaN</td>\n",
       "      <td>NaN</td>\n",
       "      <td>NaN</td>\n",
       "    </tr>\n",
       "    <tr>\n",
       "      <th>8</th>\n",
       "      <td>10000</td>\n",
       "      <td>2005</td>\n",
       "      <td>NaN</td>\n",
       "      <td>NaN</td>\n",
       "      <td>NaN</td>\n",
       "      <td>NaN</td>\n",
       "      <td>NaN</td>\n",
       "      <td>NaN</td>\n",
       "      <td>NaN</td>\n",
       "      <td>NaN</td>\n",
       "      <td>NaN</td>\n",
       "      <td>NaN</td>\n",
       "      <td>NaN</td>\n",
       "      <td>NaN</td>\n",
       "      <td>NaN</td>\n",
       "      <td>NaN</td>\n",
       "      <td>NaN</td>\n",
       "      <td>NaN</td>\n",
       "      <td>NaN</td>\n",
       "    </tr>\n",
       "    <tr>\n",
       "      <th>9</th>\n",
       "      <td>10000</td>\n",
       "      <td>2006</td>\n",
       "      <td>NaN</td>\n",
       "      <td>NaN</td>\n",
       "      <td>NaN</td>\n",
       "      <td>NaN</td>\n",
       "      <td>NaN</td>\n",
       "      <td>NaN</td>\n",
       "      <td>NaN</td>\n",
       "      <td>NaN</td>\n",
       "      <td>NaN</td>\n",
       "      <td>NaN</td>\n",
       "      <td>NaN</td>\n",
       "      <td>NaN</td>\n",
       "      <td>NaN</td>\n",
       "      <td>NaN</td>\n",
       "      <td>NaN</td>\n",
       "      <td>NaN</td>\n",
       "      <td>NaN</td>\n",
       "    </tr>\n",
       "  </tbody>\n",
       "</table>\n",
       "</div>"
      ],
      "text/plain": [
       "   gvkey  year       at     sale      ch  rdip       m2b       lev       roa  \\\n",
       "0  10000  1997  577.137  559.823  16.809   NaN  1.187368  0.414770 -0.002807   \n",
       "1  10000  1998  521.556  649.420  23.457   NaN  1.209249  0.306214  0.042674   \n",
       "2  10000  1999  556.021  658.241  40.380   NaN  1.003037  0.351471  0.015620   \n",
       "3  10000  2000      NaN      NaN     NaN   NaN       NaN       NaN       NaN   \n",
       "4  10000  2001      NaN      NaN     NaN   NaN       NaN       NaN       NaN   \n",
       "5  10000  2002      NaN      NaN     NaN   NaN       NaN       NaN       NaN   \n",
       "6  10000  2003      NaN      NaN     NaN   NaN       NaN       NaN       NaN   \n",
       "7  10000  2004      NaN      NaN     NaN   NaN       NaN       NaN       NaN   \n",
       "8  10000  2005      NaN      NaN     NaN   NaN       NaN       NaN       NaN   \n",
       "9  10000  2006      NaN      NaN     NaN   NaN       NaN       NaN       NaN   \n",
       "\n",
       "        ppe  cash2asset  cash2sale  sale2asset        cr       gsi        de  \\\n",
       "0  0.218361    0.029125   0.030026    0.970000  1.832790  1.911871  1.302516   \n",
       "1  0.209765    0.044975   0.036120    1.245159  2.086103  2.449992  0.778968   \n",
       "2  0.191680    0.072623   0.061345    1.183842  2.218602  2.382590  0.960234   \n",
       "3       NaN         NaN        NaN         NaN       NaN       NaN       NaN   \n",
       "4       NaN         NaN        NaN         NaN       NaN       NaN       NaN   \n",
       "5       NaN         NaN        NaN         NaN       NaN       NaN       NaN   \n",
       "6       NaN         NaN        NaN         NaN       NaN       NaN       NaN   \n",
       "7       NaN         NaN        NaN         NaN       NaN       NaN       NaN   \n",
       "8       NaN         NaN        NaN         NaN       NaN       NaN       NaN   \n",
       "9       NaN         NaN        NaN         NaN       NaN       NaN       NaN   \n",
       "\n",
       "        roe    d_sale      d_at  \n",
       "0 -0.008815       NaN       NaN  \n",
       "1  0.108557  0.160045 -0.096305  \n",
       "2  0.042674  0.013583  0.066081  \n",
       "3       NaN       NaN       NaN  \n",
       "4       NaN       NaN       NaN  \n",
       "5       NaN       NaN       NaN  \n",
       "6       NaN       NaN       NaN  \n",
       "7       NaN       NaN       NaN  \n",
       "8       NaN       NaN       NaN  \n",
       "9       NaN       NaN       NaN  "
      ]
     },
     "execution_count": 5,
     "metadata": {},
     "output_type": "execute_result"
    }
   ],
   "source": [
    "df_fv_raw.head(10)"
   ]
  },
  {
   "cell_type": "code",
   "execution_count": 6,
   "metadata": {
    "ExecuteTime": {
     "end_time": "2021-10-03T02:27:09.734297Z",
     "start_time": "2021-10-03T02:27:09.716454Z"
    }
   },
   "outputs": [],
   "source": [
    "from dataloader_helpers import plot_missing"
   ]
  },
  {
   "cell_type": "markdown",
   "metadata": {},
   "source": [
    "# The general missing pattern of financial vars"
   ]
  },
  {
   "cell_type": "code",
   "execution_count": 8,
   "metadata": {
    "ExecuteTime": {
     "end_time": "2021-10-03T02:27:45.082362Z",
     "start_time": "2021-10-03T02:27:39.869832Z"
    }
   },
   "outputs": [
    {
     "data": {
      "image/png": "[encoded data removed]",
      "text/plain": [
       "<Figure size 1200x500 with 1 Axes>"
      ]
     },
     "metadata": {},
     "output_type": "display_data"
    },
    {
     "data": {
      "image/png": "[encoded data removed]",
      "text/plain": [
       "<Figure size 1200x500 with 1 Axes>"
      ]
     },
     "metadata": {},
     "output_type": "display_data"
    },
    {
     "name": "stdout",
     "output_type": "stream",
     "text": [
      "variable missing percentage : \n",
      " gvkey          0.000000\n",
      "year           0.000000\n",
      "at            35.293523\n",
      "sale          35.325713\n",
      "ch            73.851659\n",
      "rdip          86.074305\n",
      "m2b           81.798344\n",
      "lev           72.984789\n",
      "roa           36.720341\n",
      "ppe           40.724937\n",
      "cash2asset    73.939993\n",
      "cash2sale     76.884208\n",
      "sale2asset    38.959381\n",
      "cr            82.136334\n",
      "gsi           77.642906\n",
      "de            73.671622\n",
      "roe           73.747605\n",
      "d_sale        53.900916\n",
      "d_at          48.069754\n",
      "dtype: float64\n",
      "variable names:  Index(['gvkey', 'year', 'at', 'sale', 'ch', 'rdip', 'm2b', 'lev', 'roa', 'ppe',\n",
      "       'cash2asset', 'cash2sale', 'sale2asset', 'cr', 'gsi', 'de', 'roe',\n",
      "       'd_sale', 'd_at'],\n",
      "      dtype='object')\n"
     ]
    }
   ],
   "source": [
    "plot_missing(df_fv_raw)"
   ]
  },
  {
   "cell_type": "markdown",
   "metadata": {},
   "source": [
    "# Dealing with NAs\n",
    "\n",
    "First, one 1 condition we could analysis is that:\n",
    "- both acquirer and the target has financial variable match\n",
    "    - and their financial var has no missing values\n",
    "\n",
    "\n",
    "    \n",
    "Since we will never use some `gvkey-year` pair (hopefully they are the ones which have a lot of NAs), we first mark if the gvkey in `df_fv_raw` will be used further\n",
    "- will use: 1\n",
    "- will not: 0\n",
    "    \n"
   ]
  },
  {
   "cell_type": "code",
   "execution_count": 9,
   "metadata": {
    "ExecuteTime": {
     "end_time": "2021-10-03T02:27:45.643531Z",
     "start_time": "2021-10-03T02:27:45.088991Z"
    },
    "scrolled": true
   },
   "outputs": [],
   "source": [
    "\n",
    "merge_a = df_ma.merge(df_fv_raw, how = 'inner', left_on=['AGVKEY', 'YEAR'], right_on = ['gvkey','year'])\n",
    "merge_t =  merge_a.merge(df_fv_raw, how = 'inner', left_on=['TGVKEY', 'YEAR'], right_on = ['gvkey','year'])\n",
    "\n"
   ]
  },
  {
   "cell_type": "code",
   "execution_count": 10,
   "metadata": {
    "ExecuteTime": {
     "end_time": "2021-10-03T02:27:45.660704Z",
     "start_time": "2021-10-03T02:27:45.650975Z"
    }
   },
   "outputs": [
    {
     "data": {
      "text/plain": [
       "(24113, 79)"
      ]
     },
     "execution_count": 10,
     "metadata": {},
     "output_type": "execute_result"
    }
   ],
   "source": [
    "merge_t.shape"
   ]
  },
  {
   "cell_type": "markdown",
   "metadata": {},
   "source": [
    "- after merge with financial variable, we loss about 1/3 of the MA events\n",
    "\n",
    "- The result shows that we have a lot of NAs for financial data.\n"
   ]
  },
  {
   "cell_type": "markdown",
   "metadata": {},
   "source": [
    "## Threshold \n",
    "\n",
    "\n",
    "by doing experiment, 7 is a reasonable number for threshold.\n",
    "\n",
    "Which means the max tolerance of num of missing values per row is 7..."
   ]
  },
  {
   "cell_type": "code",
   "execution_count": 11,
   "metadata": {
    "ExecuteTime": {
     "end_time": "2021-10-03T02:27:48.778852Z",
     "start_time": "2021-10-03T02:27:48.771185Z"
    }
   },
   "outputs": [],
   "source": [
    "# def helper fun\n",
    "def deal_na(df, na_thres):\n",
    "    '''\n",
    "    df: raw financial varibale table\n",
    "        - the first 2 columns are `gvkey` and `year`\n",
    "        - the rest are fianncial variables\n",
    "    \n",
    "    '''\n",
    "    n_features = len(df.columns) - 2 # exclude gvkey and year\n",
    "    print(f\"totally {n_features} number of financial features, tolerance of num of missing is:\", na_thres)\n",
    "    ratio_pd_w = df\n",
    "    # replace inf to na\n",
    "    ratio_pd_w.replace([np.inf, -np.inf], np.nan, inplace=True)\n",
    "    # count na of each row\n",
    "    ratio_pd_w['n_na'] = ratio_pd_w.isna().sum(axis=1) # each row has how many Nas\n",
    "     # only retain those Na < thres\n",
    "    ratio_pd_w = ratio_pd_w[ratio_pd_w['n_na'] <= na_thres].reset_index(drop=True)\n",
    "    \n",
    "    for colname in ratio_pd_w.columns[2:(2+n_features)]:\n",
    "        # remove outliers\n",
    "        ratio_pd_w[colname] = winsorize(ratio_pd_w[colname], limits=[0.01, 0.01], nan_policy='omit')\n",
    "        # impute na with mean\n",
    "        ratio_pd_w[colname].fillna(value=ratio_pd_w[colname].mean(skipna=True), inplace=True)\n",
    "    assert ratio_pd_w.isna().sum().sum() == 0\n",
    "    return ratio_pd_w\n",
    "\n",
    "\n",
    "\n",
    "def merge_fv_ma(df_fv_nona, df_ma):\n",
    "    '''\n",
    "    df_fv_nona: df_fv with no single missing value\n",
    "    df_ma: \n",
    "    \n",
    "    '''\n",
    "    assert df_fv_nona.isna().sum().sum() == 0\n",
    "    merge_a = df_ma.merge(df_fv_nona, how = 'inner', left_on=['AGVKEY', 'YEAR'], right_on = ['gvkey','year'])\n",
    "    merge_t =  merge_a.merge(df_fv_nona, how = 'inner', left_on=['TGVKEY', 'YEAR'], right_on = ['gvkey','year'])\n",
    "\n",
    "    #print(\"num of obs for original MA table: \", df_ma.shape[0], '\\n')\n",
    "    #print('num of obs in merged table:', merge_t.shape[0], '\\n')\n",
    "    \n",
    "    return merge_t\n"
   ]
  },
  {
   "cell_type": "code",
   "execution_count": 12,
   "metadata": {
    "ExecuteTime": {
     "end_time": "2021-10-03T02:28:09.555020Z",
     "start_time": "2021-10-03T02:27:54.539720Z"
    }
   },
   "outputs": [
    {
     "name": "stdout",
     "output_type": "stream",
     "text": [
      "totally 17 number of financial features, tolerance of num of missing is: 0\n",
      "totally 18 number of financial features, tolerance of num of missing is: 1\n",
      "totally 18 number of financial features, tolerance of num of missing is: 2\n",
      "totally 18 number of financial features, tolerance of num of missing is: 3\n",
      "totally 18 number of financial features, tolerance of num of missing is: 4\n",
      "totally 18 number of financial features, tolerance of num of missing is: 5\n",
      "totally 18 number of financial features, tolerance of num of missing is: 6\n",
      "totally 18 number of financial features, tolerance of num of missing is: 7\n",
      "totally 18 number of financial features, tolerance of num of missing is: 8\n",
      "totally 18 number of financial features, tolerance of num of missing is: 9\n",
      "totally 18 number of financial features, tolerance of num of missing is: 10\n",
      "totally 18 number of financial features, tolerance of num of missing is: 11\n",
      "totally 18 number of financial features, tolerance of num of missing is: 12\n",
      "totally 18 number of financial features, tolerance of num of missing is: 13\n",
      "totally 18 number of financial features, tolerance of num of missing is: 14\n",
      "totally 18 number of financial features, tolerance of num of missing is: 15\n",
      "totally 18 number of financial features, tolerance of num of missing is: 16\n"
     ]
    }
   ],
   "source": [
    "# experiment:\n",
    "remaining = []\n",
    "for thres in range(0, df_fv_raw.shape[1]-2):\n",
    "    #print(f\" ########## when threshold is {thres}: ####### \\n \")\n",
    "    df_fv_nona = deal_na(df_fv_raw, thres)\n",
    "    merged_fv_ma = merge_fv_ma(df_fv_nona, df_ma)\n",
    "    remaining.append(merged_fv_ma.shape[0])\n",
    "    "
   ]
  },
  {
   "cell_type": "code",
   "execution_count": 13,
   "metadata": {
    "ExecuteTime": {
     "end_time": "2021-10-03T02:28:09.568464Z",
     "start_time": "2021-10-03T02:28:09.561407Z"
    }
   },
   "outputs": [
    {
     "data": {
      "text/plain": [
       "Index(['gvkey', 'year', 'at', 'sale', 'ch', 'rdip', 'm2b', 'lev', 'roa', 'ppe',\n",
       "       'cash2asset', 'cash2sale', 'sale2asset', 'cr', 'gsi', 'de', 'roe',\n",
       "       'd_sale', 'd_at', 'n_na'],\n",
       "      dtype='object')"
      ]
     },
     "execution_count": 13,
     "metadata": {},
     "output_type": "execute_result"
    }
   ],
   "source": [
    "df_fv_raw.columns"
   ]
  },
  {
   "cell_type": "code",
   "execution_count": 14,
   "metadata": {
    "ExecuteTime": {
     "end_time": "2021-10-03T02:28:10.047065Z",
     "start_time": "2021-10-03T02:28:09.573776Z"
    }
   },
   "outputs": [
    {
     "data": {
      "image/png": "[encoded data removed]",
      "text/plain": [
       "<Figure size 640x480 with 1 Axes>"
      ]
     },
     "metadata": {},
     "output_type": "display_data"
    }
   ],
   "source": [
    "\n",
    "\n",
    "\n",
    "plt.plot(remaining, label = \"avaliable num of obs\") \n",
    "#plt.xlim([5, df_fv_raw.shape[1]-2])\n",
    "plt.xlabel(\"Tolerance #NAs per row\") \n",
    "plt.grid()\n",
    "plt.title('Thres vs #Obs')\n",
    "plt.legend()\n",
    "plt.show()  \n"
   ]
  },
  {
   "cell_type": "code",
   "execution_count": null,
   "metadata": {},
   "outputs": [],
   "source": []
  },
  {
   "cell_type": "code",
   "execution_count": null,
   "metadata": {},
   "outputs": [],
   "source": []
  }
 ],
 "metadata": {
  "kernelspec": {
   "display_name": "GNN",
   "language": "python",
   "name": "gnn"
  },
  "language_info": {
   "codemirror_mode": {
    "name": "ipython",
    "version": 3
   },
   "file_extension": ".py",
   "mimetype": "text/x-python",
   "name": "python",
   "nbconvert_exporter": "python",
   "pygments_lexer": "ipython3",
   "version": "3.8.10"
  },
  "latex_envs": {
   "LaTeX_envs_menu_present": true,
   "autoclose": false,
   "autocomplete": true,
   "bibliofile": "biblio.bib",
   "cite_by": "apalike",
   "current_citInitial": 1,
   "eqLabelWithNumbers": true,
   "eqNumInitial": 1,
   "hotkeys": {
    "equation": "Ctrl-E",
    "itemize": "Ctrl-I"
   },
   "labels_anchors": false,
   "latex_user_defs": false,
   "report_style_numbering": false,
   "user_envs_cfg": false
  },
  "toc": {
   "base_numbering": 1,
   "nav_menu": {},
   "number_sections": true,
   "sideBar": true,
   "skip_h1_title": false,
   "title_cell": "Table of Contents",
   "title_sidebar": "Contents",
   "toc_cell": false,
   "toc_position": {},
   "toc_section_display": true,
   "toc_window_display": false
  }
 },
 "nbformat": 4,
 "nbformat_minor": 4
}
