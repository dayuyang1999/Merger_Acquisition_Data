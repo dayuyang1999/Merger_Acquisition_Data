{
 "cells": [
  {
   "cell_type": "code",
   "execution_count": 251,
   "metadata": {
    "ExecuteTime": {
     "end_time": "2021-10-11T19:24:44.102830Z",
     "start_time": "2021-10-11T19:24:44.098951Z"
    }
   },
   "outputs": [],
   "source": [
    "import pandas as pd\n",
    "import pickle\n",
    "import numpy as np\n",
    "import datetime \n",
    "from os.path import join as pjoin\n",
    "import os\n",
    "import wrds\n",
    "\n",
    "#import argparse\n",
    "#import yamlb"
   ]
  },
  {
   "cell_type": "code",
   "execution_count": 252,
   "metadata": {
    "ExecuteTime": {
     "end_time": "2021-10-11T19:24:44.123622Z",
     "start_time": "2021-10-11T19:24:44.105022Z"
    }
   },
   "outputs": [],
   "source": [
    "tmp_data_path =  '../MA_data/data/tmp/'\n",
    "data_path = '../MA_data/data/'\n",
    "s_year = 1997\n",
    "e_year = 2019"
   ]
  },
  {
   "cell_type": "markdown",
   "metadata": {},
   "source": [
    "# Download SDC data\n",
    "\n",
    "variable description could see [appendix 1.1 variable description](./Appendix_1.1_variable_description.ipynb)"
   ]
  },
  {
   "cell_type": "code",
   "execution_count": 253,
   "metadata": {
    "ExecuteTime": {
     "end_time": "2021-10-11T19:24:44.131703Z",
     "start_time": "2021-10-11T19:24:44.126919Z"
    }
   },
   "outputs": [],
   "source": [
    "name_lst = [\n",
    "                'ACU', 'ASIC2', 'ABL', 'ANL', 'APUBC', 'AUP', 'AUPSIC', 'AUPBL', 'AUPNAMES', 'AUPPUB',\n",
    "                'BLOCK','CREEP','DA','DE','STATC','SYNOP','VAL','PCTACQ','PSOUGHTOWN','PSOUGHT','PHDA','PCTOWN','PSOUGHTT','PRIVATIZATION','DEAL_NO',\n",
    "                'TCU', 'TSIC2', 'TBL', 'TNL', 'TPUBC', 'TUP', 'TUPSIC', 'TUPBL', 'TUPNAMES', 'TUPPUB'    \n",
    "            ]"
   ]
  },
  {
   "cell_type": "code",
   "execution_count": 254,
   "metadata": {
    "ExecuteTime": {
     "end_time": "2021-10-11T19:24:44.143836Z",
     "start_time": "2021-10-11T19:24:44.133733Z"
    }
   },
   "outputs": [],
   "source": [
    "def concat_data(st, end, name_lst, data_path):\n",
    "    df_l = []\n",
    "    for year in range(st, end+1, 1):\n",
    "        df = pd.read_excel(f\"{data_path}/SDC/{year}.xlsx\", header=1, engine='openpyxl')\n",
    "        #df = df.drop(df.columns[4], axis=1) # this column is duplicate with column 3 \n",
    "        #print(len(df.columns))\n",
    "        df.columns = name_lst\n",
    "        \n",
    "        # check date var loading ok\n",
    "        check = df[df['DA'] == datetime.time(0, 0)]\n",
    "        if check.shape[0] == 0 :\n",
    "            print('date variables loading ok \\n')\n",
    "        else:\n",
    "            print('date variables loading fail, please manually check. number of failed records: ', check.shape[0])\n",
    "        \n",
    "        df_l.append(df)\n",
    "        print(f'{year} data shape:', df.shape)\n",
    "        del df\n",
    "    df = pd.concat(df_l)\n",
    "    return df\n",
    "\n",
    "def get_sic(df):\n",
    "    '''\n",
    "    df: the sdc table contains sic variable named as `ASIC2`\n",
    "    \n",
    "    '''\n",
    "    x = df.ASIC2.str.split('/')\n",
    "    x = x.transform(lambda x: x[0] if not isinstance(x, float) else np.nan)\n",
    "    df['SIC_A'] = x\n",
    "\n",
    "    x = df.ASIC2.str.split('/')\n",
    "    x = x.transform(lambda x: x[0] if not isinstance(x, float) else np.nan)\n",
    "    df['SIC_T'] = x\n",
    "    \n",
    "    return df "
   ]
  },
  {
   "cell_type": "code",
   "execution_count": 255,
   "metadata": {
    "ExecuteTime": {
     "end_time": "2021-10-11T19:24:44.153698Z",
     "start_time": "2021-10-11T19:24:44.145575Z"
    }
   },
   "outputs": [],
   "source": [
    "def read_sdc(name_lst):\n",
    "    pickle_it = True\n",
    "    from_cache = False\n",
    "#     #tmp_data_path = tmp_data_path\n",
    "#     s_year = s_year\n",
    "#     e_year = e_year\n",
    "\n",
    "\n",
    "    if (from_cache) & ~(os.path.isfile(pjoin(tmp_data_path , f'sdc_{s_year}_{e_year}.pickle'))):\n",
    "        print(f\"WARNING, Cannot load from cache; \\n No compabible sdc_df cache file named 'sdc_{s_year}_{e_year}.pickle' exists in {tmp_data_path} \\n\")\n",
    "\n",
    "    if (from_cache) & (os.path.isfile(pjoin(tmp_data_path , f'sdc_{s_year}_{e_year}.pickle'))):\n",
    "        sdc_df = pd.read_pickle(pjoin(tmp_data_path , f'sdc_{s_year}_{e_year}.pickle'))\n",
    "        print(\"loading data from previous download. Did not download again\")\n",
    "    else:                 \n",
    "        sdc_df = concat_data(s_year, e_year, name_lst, data_path)\n",
    "        sdc_df = sdc_df.reset_index()\n",
    "\n",
    "        # change var type and fillna\n",
    "        sdc_df = sdc_df.dropna(subset=['ACU','TCU']) # actually nothing drops\n",
    "        sdc_df['DEAL_NO'] = sdc_df['DEAL_NO'].fillna(-1)\n",
    "        print(\"ATTENTION, DEAL_NO NAs in sdc_df are interpolated as '-1'. \\n \")\n",
    "        sdc_df['DEAL_NO'] = sdc_df['DEAL_NO'].astype(str)\n",
    "        sdc_df['TCU']  = sdc_df['TCU'].astype('str')\n",
    "        sdc_df['ACU']  = sdc_df['ACU'].astype('str')\n",
    "        sdc_df['TUP']  = sdc_df['TUP'].astype('str')\n",
    "        sdc_df['AUP']  = sdc_df['AUP'].astype('str')\n",
    "\n",
    "\n",
    "        # add sdc variable\n",
    "        sdc_df = get_sic(sdc_df)\n",
    "        # add year varibale\n",
    "        sdc_df['YEAR'] = sdc_df.DA.dt.year\n",
    "        # update name lst\n",
    "\n",
    "        if pickle_it:\n",
    "            print(f'saving sdc table ranging from {s_year} to {e_year} to {tmp_data_path}')\n",
    "            sdc_df.to_pickle(pjoin(tmp_data_path , f'sdc_{s_year}_{e_year}.pickle'))\n",
    "\n",
    "    if True:\n",
    "        print(\"SDC Data looks like:\", sdc_df.sample(3).T)\n",
    "\n",
    "    name_lst += ['SIC_A', 'SIC_T', 'YEAR'] \n",
    "\n",
    "    return sdc_df, name_lst"
   ]
  },
  {
   "cell_type": "code",
   "execution_count": 256,
   "metadata": {
    "ExecuteTime": {
     "end_time": "2021-10-11T19:26:25.754398Z",
     "start_time": "2021-10-11T19:24:44.154929Z"
    }
   },
   "outputs": [
    {
     "name": "stdout",
     "output_type": "stream",
     "text": [
      "date variables loading ok \n",
      "\n",
      "1997 data shape: (13255, 35)\n",
      "date variables loading ok \n",
      "\n",
      "1998 data shape: (15081, 35)\n",
      "date variables loading ok \n",
      "\n",
      "1999 data shape: (13203, 35)\n",
      "date variables loading ok \n",
      "\n",
      "2000 data shape: (12610, 35)\n",
      "date variables loading ok \n",
      "\n",
      "2001 data shape: (8771, 35)\n",
      "date variables loading ok \n",
      "\n",
      "2002 data shape: (7943, 35)\n",
      "date variables loading ok \n",
      "\n",
      "2003 data shape: (8573, 35)\n",
      "date variables loading ok \n",
      "\n",
      "2004 data shape: (9704, 35)\n",
      "date variables loading ok \n",
      "\n",
      "2005 data shape: (10524, 35)\n",
      "date variables loading ok \n",
      "\n",
      "2006 data shape: (11802, 35)\n",
      "date variables loading ok \n",
      "\n",
      "2007 data shape: (12866, 35)\n",
      "date variables loading ok \n",
      "\n",
      "2008 data shape: (11174, 35)\n",
      "date variables loading ok \n",
      "\n",
      "2009 data shape: (8965, 35)\n",
      "date variables loading ok \n",
      "\n",
      "2010 data shape: (9365, 35)\n",
      "date variables loading ok \n",
      "\n",
      "2011 data shape: (9859, 35)\n",
      "date variables loading ok \n",
      "\n",
      "2012 data shape: (9772, 35)\n",
      "date variables loading ok \n",
      "\n",
      "2013 data shape: (10060, 35)\n",
      "date variables loading ok \n",
      "\n",
      "2014 data shape: (11349, 35)\n",
      "date variables loading ok \n",
      "\n",
      "2015 data shape: (11964, 35)\n",
      "date variables loading ok \n",
      "\n",
      "2016 data shape: (12493, 35)\n",
      "date variables loading ok \n",
      "\n",
      "2017 data shape: (14453, 35)\n",
      "date variables loading ok \n",
      "\n",
      "2018 data shape: (13776, 35)\n",
      "date variables loading ok \n",
      "\n",
      "2019 data shape: (12216, 35)\n",
      "ATTENTION, DEAL_NO NAs in sdc_df are interpolated as '-1'. \n",
      " \n",
      "saving sdc table ranging from 1997 to 2019 to ../MA_data/data/tmp/\n",
      "SDC Data looks like:                                                           110630  \\\n",
      "index                                                      10966   \n",
      "ACU                                                       30340X   \n",
      "ASIC2                                             7311/7319/7312   \n",
      "ABL            Eye Corp Pty Ltd, located in\\nSydney, Australi...   \n",
      "ANL                                             Eye Corp Pty Ltd   \n",
      "APUBC                                                       Sub.   \n",
      "AUP                                                       138906   \n",
      "AUPSIC                              4833\\n4832\\n2711\\n7312\\n4841   \n",
      "AUPBL          Canwest Global Communications\\nCorp, located i...   \n",
      "AUPNAMES                              Canwest Global Commun Corp   \n",
      "AUPPUB                                                    Public   \n",
      "BLOCK                                                         No   \n",
      "CREEP                                                         No   \n",
      "DA                                           2006-12-05 00:00:00   \n",
      "DE                                           2006-12-19 00:00:00   \n",
      "STATC                                                          C   \n",
      "SYNOP          US - Eye Corp Australia Pty Ltd, a unit of Ten...   \n",
      "VAL                                                          NaN   \n",
      "PCTACQ                                                     100.0   \n",
      "PSOUGHTOWN                                                 100.0   \n",
      "PSOUGHT                                                    100.0   \n",
      "PHDA                                                         NaN   \n",
      "PCTOWN                                                     100.0   \n",
      "PSOUGHTT                                                     NaN   \n",
      "PRIVATIZATION                                                 No   \n",
      "DEAL_NO                                               1818420020   \n",
      "TCU                                                       35198L   \n",
      "TSIC2                                             7311/7319/7312   \n",
      "TBL            Provide backlit advertising\\nservices for shop...   \n",
      "TNL                                            Foxmark Media LLC   \n",
      "TPUBC                                                      Priv.   \n",
      "TUP                                                       35198L   \n",
      "TUPSIC                                          7311\\n7319\\n7312   \n",
      "TUPBL          Provide backlit advertising\\nservices for shop...   \n",
      "TUPNAMES                                       Foxmark Media LLC   \n",
      "TUPPUB                                                     Priv.   \n",
      "SIC_A                                                       7311   \n",
      "SIC_T                                                       7311   \n",
      "YEAR                                                        2006   \n",
      "\n",
      "                                                          203827  \\\n",
      "index                                                       8951   \n",
      "ACU                                                       1E9183   \n",
      "ASIC2                                             5722/5719/5211   \n",
      "ABL            Builder Specialties Inc,\\nlocated in Atlanta, ...   \n",
      "ANL                                      Builder Specialties Inc   \n",
      "APUBC                                                      Priv.   \n",
      "AUP                                                       1E9183   \n",
      "AUPSIC                                          5722\\n5719\\n5211   \n",
      "AUPBL          Builder Specialties Inc,\\nlocated in Atlanta, ...   \n",
      "AUPNAMES                                 Builder Specialties Inc   \n",
      "AUPPUB                                                     Priv.   \n",
      "BLOCK                                                         No   \n",
      "CREEP                                                         No   \n",
      "DA                                           2015-09-28 00:00:00   \n",
      "DE                                           2015-09-28 00:00:00   \n",
      "STATC                                                          C   \n",
      "SYNOP          US - Builder Specialties Inc acquired Sewell A...   \n",
      "VAL                                                          4.5   \n",
      "PCTACQ                                                     100.0   \n",
      "PSOUGHTOWN                                                 100.0   \n",
      "PSOUGHT                                                    100.0   \n",
      "PHDA                                                         NaN   \n",
      "PCTOWN                                                     100.0   \n",
      "PSOUGHTT                                                     NaN   \n",
      "PRIVATIZATION                                                 No   \n",
      "DEAL_NO                                               2832232020   \n",
      "TCU                                                       1E9181   \n",
      "TSIC2                                                  5722/7629   \n",
      "TBL            Sewell Appliance Sales &\\nServices Co Inc is a...   \n",
      "TNL                     Sewell Appliance Sales & Services Co Inc   \n",
      "TPUBC                                                      Priv.   \n",
      "TUP                                                       1E9181   \n",
      "TUPSIC                                                5722\\n7629   \n",
      "TUPBL          Sewell Appliance Sales &\\nServices Co Inc is a...   \n",
      "TUPNAMES                             Sewell Appl Sales & Svcs Co   \n",
      "TUPPUB                                                     Priv.   \n",
      "SIC_A                                                       5722   \n",
      "SIC_T                                                       5722   \n",
      "YEAR                                                        2015   \n",
      "\n",
      "                                                          249555  \n",
      "index                                                       1993  \n",
      "ACU                                                       8F4506  \n",
      "ASIC2                                        4212/4214/4213/4731  \n",
      "ABL            PS Logistics LLC, located in\\nBirmingham, Alab...  \n",
      "ANL                                             PS Logistics LLC  \n",
      "APUBC                                                      Priv.  \n",
      "AUP                                                       8F4506  \n",
      "AUPSIC                                    4212\\n4214\\n4213\\n4731  \n",
      "AUPBL          PS Logistics LLC, located in\\nBirmingham, Alab...  \n",
      "AUPNAMES                                        PS Logistics LLC  \n",
      "AUPPUB                                                     Priv.  \n",
      "BLOCK                                                         No  \n",
      "CREEP                                                         No  \n",
      "DA                                           2019-02-28 00:00:00  \n",
      "DE                                           2019-02-28 00:00:00  \n",
      "STATC                                                          C  \n",
      "SYNOP          US - PS Logistics LLC acquired Riechmann Trans...  \n",
      "VAL                                                          NaN  \n",
      "PCTACQ                                                     100.0  \n",
      "PSOUGHTOWN                                                 100.0  \n",
      "PSOUGHT                                                    100.0  \n",
      "PHDA                                                         NaN  \n",
      "PCTOWN                                                     100.0  \n",
      "PSOUGHTT                                                     NaN  \n",
      "PRIVATIZATION                                                 No  \n",
      "DEAL_NO                                               3358298020  \n",
      "TCU                                                       1J2673  \n",
      "TSIC2                                                       4213  \n",
      "TBL            Riechmann Transport Inc,\\nlocated in Granite C...  \n",
      "TNL                                      Riechmann Transport Inc  \n",
      "TPUBC                                                      Priv.  \n",
      "TUP                                                       1J2673  \n",
      "TUPSIC                                                      4213  \n",
      "TUPBL          Riechmann Transport Inc,\\nlocated in Granite C...  \n",
      "TUPNAMES                                 Riechmann Transport Inc  \n",
      "TUPPUB                                                     Priv.  \n",
      "SIC_A                                                       4212  \n",
      "SIC_T                                                       4212  \n",
      "YEAR                                                        2019  \n"
     ]
    }
   ],
   "source": [
    "sdc_df, name_lst1 = read_sdc(name_lst)"
   ]
  },
  {
   "cell_type": "markdown",
   "metadata": {},
   "source": [
    "remove:\n",
    "1. self merge self\n",
    "    - ACU = TCU or TUP\n",
    "    - AUP = TCU or TUP\n",
    "2. MA is incomplete"
   ]
  },
  {
   "cell_type": "code",
   "execution_count": 257,
   "metadata": {
    "ExecuteTime": {
     "end_time": "2021-10-11T19:26:25.762014Z",
     "start_time": "2021-10-11T19:26:25.756240Z"
    }
   },
   "outputs": [],
   "source": [
    "def filter1(df):\n",
    "    '''\n",
    "    remove self merge\n",
    "    remove incomplete deal\n",
    "\n",
    "    '''\n",
    "    cond0 = (df.ACU == df.TCU) | (df.ACU == df.TUP)\n",
    "    cond1 = cond0 | (df.AUP == df.TCU) | (df.AUP == df.TUP)\n",
    "    cond2 = cond1 | ~df.STATC.isin([\"C\"])\n",
    "    return df[~cond2]"
   ]
  },
  {
   "cell_type": "code",
   "execution_count": 258,
   "metadata": {
    "ExecuteTime": {
     "end_time": "2021-10-11T19:26:26.081476Z",
     "start_time": "2021-10-11T19:26:25.763438Z"
    }
   },
   "outputs": [],
   "source": [
    "sdc_df2 = filter1(sdc_df)"
   ]
  },
  {
   "cell_type": "code",
   "execution_count": 259,
   "metadata": {
    "ExecuteTime": {
     "end_time": "2021-10-11T19:26:26.086624Z",
     "start_time": "2021-10-11T19:26:26.083383Z"
    }
   },
   "outputs": [
    {
     "data": {
      "text/plain": [
       "(205656, 39)"
      ]
     },
     "execution_count": 259,
     "metadata": {},
     "output_type": "execute_result"
    }
   ],
   "source": [
    "sdc_df2.shape"
   ]
  },
  {
   "cell_type": "markdown",
   "metadata": {},
   "source": [
    "# Filter Majority MA\n",
    "\n",
    "The logic behind Filtering see [appendix1.2 majority takeover]()"
   ]
  },
  {
   "cell_type": "code",
   "execution_count": 260,
   "metadata": {
    "ExecuteTime": {
     "end_time": "2021-10-11T19:26:26.093411Z",
     "start_time": "2021-10-11T19:26:26.088272Z"
    }
   },
   "outputs": [],
   "source": [
    "\n",
    "def majority_filter(df):\n",
    "    '''\n",
    "    Description: used for filter \"majority\" takeover; Following “The Importance of Industry Links in Merger Waves.” The Journal of Finance 69 (2): 527–76. https://doi.org/10.1111/jofi.12122.\n",
    "    Use: use for sdc_df\n",
    "    input: sdc_df\n",
    "    output: a new filtered sdc_df  to replace the old one\n",
    "    '''\n",
    "    \n",
    "    cond1 = ((df.PCTACQ > 20.0) | pd.isna(df.PCTACQ))\n",
    "    cond2 = cond1 & ((df.PCTOWN > 51.0) | (pd.isna(df.PCTOWN)))\n",
    "    cond3 = cond2 & ((df.VAL > 1) | pd.isna(df.VAL))\n",
    "    cond4 = cond3 & (df.BLOCK !='Yes') & (df.CREEP !='Yes') & (df.PRIVATIZATION !='Yes')\n",
    "    df_new = df[cond3]\n",
    "    print('original df shape: ', df.shape, '\\n')\n",
    "    print('filtered df shape: ', df_new.shape)\n",
    "    return df_new.reset_index(drop=True)"
   ]
  },
  {
   "cell_type": "code",
   "execution_count": 261,
   "metadata": {
    "ExecuteTime": {
     "end_time": "2021-10-11T19:26:26.451136Z",
     "start_time": "2021-10-11T19:26:26.094986Z"
    }
   },
   "outputs": [
    {
     "name": "stdout",
     "output_type": "stream",
     "text": [
      "original df shape:  (205656, 39) \n",
      "\n",
      "filtered df shape:  (192928, 39)\n"
     ]
    }
   ],
   "source": [
    "sdc_df3 = majority_filter(sdc_df2)"
   ]
  },
  {
   "cell_type": "markdown",
   "metadata": {},
   "source": [
    "# Prepare Linking\n",
    "\n",
    "make linking variables' type and format are the same"
   ]
  },
  {
   "cell_type": "code",
   "execution_count": 262,
   "metadata": {
    "ExecuteTime": {
     "end_time": "2021-10-11T19:26:26.455222Z",
     "start_time": "2021-10-11T19:26:26.452352Z"
    }
   },
   "outputs": [],
   "source": [
    "def var_type_checker(df1, df2):\n",
    "    '''\n",
    "    df1: sdc_df\n",
    "    df2: linking table\n",
    "    \n",
    "    checking cusip types are the same\n",
    "    '''\n",
    "    # gvkey, cusip match\n",
    "    assert type(df1.ACU[0]) == type(df1.TCU[0]) == type(df1.AUP[0]) == type(df1.TUP[0]) \n",
    "    \n",
    "    assert type(df1.TCU[0]) == type(df2.HCUSIP[0]) \n",
    "\n",
    "    print(\"variable type checking finished, No error Found. \\n\")"
   ]
  },
  {
   "cell_type": "markdown",
   "metadata": {},
   "source": [
    "## load linking tables"
   ]
  },
  {
   "cell_type": "code",
   "execution_count": 263,
   "metadata": {
    "ExecuteTime": {
     "end_time": "2021-10-11T19:26:26.483617Z",
     "start_time": "2021-10-11T19:26:26.456255Z"
    }
   },
   "outputs": [],
   "source": [
    "link1 = pd.read_pickle(data_path+\"hcusip_permno.pickle\")\n",
    "link2 = pd.read_pickle(data_path+\"permno_gvkey.pickle\")"
   ]
  },
  {
   "cell_type": "markdown",
   "metadata": {},
   "source": [
    "# Linking PERMNO\n",
    "\n",
    "run the following after run [Appendix_1.3_CRSP_all_CUSIP](./Appendix_1.3_CRSP_all_CUSIP.ipynb)\n",
    "\n",
    "It is normal to has a lot of NAs. Since Priv. do not have PRERMNO"
   ]
  },
  {
   "cell_type": "markdown",
   "metadata": {},
   "source": [
    "## merge with PERMNO"
   ]
  },
  {
   "cell_type": "code",
   "execution_count": 264,
   "metadata": {
    "ExecuteTime": {
     "end_time": "2021-10-11T19:26:27.106939Z",
     "start_time": "2021-10-11T19:26:26.485008Z"
    }
   },
   "outputs": [],
   "source": [
    "merged1_1 = sdc_df3.merge(crsp_name_history, left_on='ACU', right_on = 'HCUSIP', how = 'left')"
   ]
  },
  {
   "cell_type": "code",
   "execution_count": 265,
   "metadata": {
    "ExecuteTime": {
     "end_time": "2021-10-11T19:26:27.315868Z",
     "start_time": "2021-10-11T19:26:27.108305Z"
    }
   },
   "outputs": [],
   "source": [
    "merged1_2 = merged1.merge(crsp_name_history, left_on='AUP', right_on = 'HCUSIP', how = 'left')"
   ]
  },
  {
   "cell_type": "code",
   "execution_count": 266,
   "metadata": {
    "ExecuteTime": {
     "end_time": "2021-10-11T19:26:27.554975Z",
     "start_time": "2021-10-11T19:26:27.317192Z"
    }
   },
   "outputs": [],
   "source": [
    "merged1_3 = merged2.merge(crsp_name_history, left_on='TCU', right_on = 'HCUSIP', how = 'left')"
   ]
  },
  {
   "cell_type": "code",
   "execution_count": 267,
   "metadata": {
    "ExecuteTime": {
     "end_time": "2021-10-11T19:26:27.802336Z",
     "start_time": "2021-10-11T19:26:27.556173Z"
    }
   },
   "outputs": [],
   "source": [
    "merged1_4 = merged3.merge(crsp_name_history, left_on='TUP', right_on = 'HCUSIP', how = 'left')"
   ]
  },
  {
   "cell_type": "code",
   "execution_count": 268,
   "metadata": {
    "ExecuteTime": {
     "end_time": "2021-10-11T19:26:28.309606Z",
     "start_time": "2021-10-11T19:26:27.803615Z"
    }
   },
   "outputs": [],
   "source": [
    "merged1_4 = merged1_4.drop(['index'], axis=1).reset_index(drop=True)"
   ]
  },
  {
   "cell_type": "code",
   "execution_count": 269,
   "metadata": {
    "ExecuteTime": {
     "end_time": "2021-10-11T19:26:28.313399Z",
     "start_time": "2021-10-11T19:26:28.310613Z"
    }
   },
   "outputs": [
    {
     "data": {
      "text/plain": [
       "Index(['ACU', 'ASIC2', 'ABL', 'ANL', 'APUBC', 'AUP', 'AUPSIC', 'AUPBL',\n",
       "       'AUPNAMES', 'AUPPUB', 'BLOCK', 'CREEP', 'DA', 'DE', 'STATC', 'SYNOP',\n",
       "       'VAL', 'PCTACQ', 'PSOUGHTOWN', 'PSOUGHT', 'PHDA', 'PCTOWN', 'PSOUGHTT',\n",
       "       'PRIVATIZATION', 'DEAL_NO', 'TCU', 'TSIC2', 'TBL', 'TNL', 'TPUBC',\n",
       "       'TUP', 'TUPSIC', 'TUPBL', 'TUPNAMES', 'TUPPUB', 'SIC_A', 'SIC_T',\n",
       "       'YEAR', 'HCUSIP_x', 'PERMNO_x', 'HCUSIP_y', 'PERMNO_y', 'HCUSIP_x',\n",
       "       'PERMNO_x', 'HCUSIP_y', 'PERMNO_y'],\n",
       "      dtype='object')"
      ]
     },
     "execution_count": 269,
     "metadata": {},
     "output_type": "execute_result"
    }
   ],
   "source": [
    "merged1_4.columns"
   ]
  },
  {
   "cell_type": "code",
   "execution_count": 270,
   "metadata": {
    "ExecuteTime": {
     "end_time": "2021-10-11T19:26:28.320501Z",
     "start_time": "2021-10-11T19:26:28.315127Z"
    }
   },
   "outputs": [],
   "source": [
    "tmp = []\n",
    "for f in ['A', 'T']: # \n",
    "    for p in ['S', 'P']: # self, parent\n",
    "        tmp += [ f+p+'_HCUSIP', f+p+'_PERMNO']"
   ]
  },
  {
   "cell_type": "code",
   "execution_count": 271,
   "metadata": {
    "ExecuteTime": {
     "end_time": "2021-10-11T19:26:28.326457Z",
     "start_time": "2021-10-11T19:26:28.321450Z"
    }
   },
   "outputs": [],
   "source": [
    "name_lst2 = name_lst1 + tmp"
   ]
  },
  {
   "cell_type": "code",
   "execution_count": 272,
   "metadata": {
    "ExecuteTime": {
     "end_time": "2021-10-11T19:26:28.332537Z",
     "start_time": "2021-10-11T19:26:28.327347Z"
    }
   },
   "outputs": [],
   "source": [
    "merged1_4.columns = name_lst2"
   ]
  },
  {
   "cell_type": "code",
   "execution_count": 273,
   "metadata": {
    "ExecuteTime": {
     "end_time": "2021-10-11T19:26:28.339625Z",
     "start_time": "2021-10-11T19:26:28.333565Z"
    },
    "scrolled": true
   },
   "outputs": [
    {
     "data": {
      "text/plain": [
       "Index(['ACU', 'ASIC2', 'ABL', 'ANL', 'APUBC', 'AUP', 'AUPSIC', 'AUPBL',\n",
       "       'AUPNAMES', 'AUPPUB', 'BLOCK', 'CREEP', 'DA', 'DE', 'STATC', 'SYNOP',\n",
       "       'VAL', 'PCTACQ', 'PSOUGHTOWN', 'PSOUGHT', 'PHDA', 'PCTOWN', 'PSOUGHTT',\n",
       "       'PRIVATIZATION', 'DEAL_NO', 'TCU', 'TSIC2', 'TBL', 'TNL', 'TPUBC',\n",
       "       'TUP', 'TUPSIC', 'TUPBL', 'TUPNAMES', 'TUPPUB', 'SIC_A', 'SIC_T',\n",
       "       'YEAR', 'AS_HCUSIP', 'AS_PERMNO', 'AP_HCUSIP', 'AP_PERMNO', 'TS_HCUSIP',\n",
       "       'TS_PERMNO', 'TP_HCUSIP', 'TP_PERMNO'],\n",
       "      dtype='object')"
      ]
     },
     "execution_count": 273,
     "metadata": {},
     "output_type": "execute_result"
    }
   ],
   "source": [
    "merged1_4.columns"
   ]
  },
  {
   "cell_type": "code",
   "execution_count": 274,
   "metadata": {
    "ExecuteTime": {
     "end_time": "2021-10-11T19:26:28.380916Z",
     "start_time": "2021-10-11T19:26:28.340954Z"
    }
   },
   "outputs": [
    {
     "name": "stdout",
     "output_type": "stream",
     "text": [
      "150044 138331 196009 172937\n"
     ]
    }
   ],
   "source": [
    "\n",
    "print(\n",
    "    merged1_4.AS_PERMNO.isna().sum(),\n",
    "    merged1_4.AP_PERMNO.isna().sum(),\n",
    "    merged1_4.TS_PERMNO.isna().sum(),\n",
    "    merged1_4.TP_PERMNO.isna().sum())\n",
    "    \n",
    "    "
   ]
  },
  {
   "cell_type": "markdown",
   "metadata": {},
   "source": [
    "# Linking with GVKEY\n",
    "\n",
    "check [appendix 1.4](./Appendix_1.4_PERMNO_GVKEY.ipynb)"
   ]
  },
  {
   "cell_type": "code",
   "execution_count": 275,
   "metadata": {
    "ExecuteTime": {
     "end_time": "2021-10-11T19:26:29.184708Z",
     "start_time": "2021-10-11T19:26:28.382583Z"
    }
   },
   "outputs": [],
   "source": [
    "merged2_1 = merged1_4.merge(link2, left_on='AS_PERMNO', right_on = 'PERMNO', how = 'left')"
   ]
  },
  {
   "cell_type": "code",
   "execution_count": 276,
   "metadata": {
    "ExecuteTime": {
     "end_time": "2021-10-11T19:26:29.381174Z",
     "start_time": "2021-10-11T19:26:29.185959Z"
    }
   },
   "outputs": [],
   "source": [
    "merged2_2 = merged2_1.merge(link2, left_on='AP_PERMNO', right_on = 'PERMNO', how = 'left')"
   ]
  },
  {
   "cell_type": "code",
   "execution_count": 277,
   "metadata": {
    "ExecuteTime": {
     "end_time": "2021-10-11T19:26:29.575838Z",
     "start_time": "2021-10-11T19:26:29.382426Z"
    }
   },
   "outputs": [],
   "source": [
    "merged2_3 = merged2_2.merge(link2, left_on='TS_PERMNO', right_on = 'PERMNO', how = 'left')"
   ]
  },
  {
   "cell_type": "code",
   "execution_count": 278,
   "metadata": {
    "ExecuteTime": {
     "end_time": "2021-10-11T19:26:29.780252Z",
     "start_time": "2021-10-11T19:26:29.577053Z"
    }
   },
   "outputs": [],
   "source": [
    "merged2_4 = merged2_3.merge(link2, left_on='TP_PERMNO', right_on = 'PERMNO', how = 'left')"
   ]
  },
  {
   "cell_type": "code",
   "execution_count": 279,
   "metadata": {
    "ExecuteTime": {
     "end_time": "2021-10-11T19:26:29.784594Z",
     "start_time": "2021-10-11T19:26:29.781503Z"
    }
   },
   "outputs": [
    {
     "data": {
      "text/plain": [
       "Index(['ACU', 'ASIC2', 'ABL', 'ANL', 'APUBC', 'AUP', 'AUPSIC', 'AUPBL',\n",
       "       'AUPNAMES', 'AUPPUB', 'BLOCK', 'CREEP', 'DA', 'DE', 'STATC', 'SYNOP',\n",
       "       'VAL', 'PCTACQ', 'PSOUGHTOWN', 'PSOUGHT', 'PHDA', 'PCTOWN', 'PSOUGHTT',\n",
       "       'PRIVATIZATION', 'DEAL_NO', 'TCU', 'TSIC2', 'TBL', 'TNL', 'TPUBC',\n",
       "       'TUP', 'TUPSIC', 'TUPBL', 'TUPNAMES', 'TUPPUB', 'SIC_A', 'SIC_T',\n",
       "       'YEAR', 'AS_HCUSIP', 'AS_PERMNO', 'AP_HCUSIP', 'AP_PERMNO', 'TS_HCUSIP',\n",
       "       'TS_PERMNO', 'TP_HCUSIP', 'TP_PERMNO', 'PERMNO_x', 'GVKEY_x',\n",
       "       'PERMNO_y', 'GVKEY_y', 'PERMNO_x', 'GVKEY_x', 'PERMNO_y', 'GVKEY_y'],\n",
       "      dtype='object')"
      ]
     },
     "execution_count": 279,
     "metadata": {},
     "output_type": "execute_result"
    }
   ],
   "source": [
    "merged2_4.columns"
   ]
  },
  {
   "cell_type": "code",
   "execution_count": 280,
   "metadata": {
    "ExecuteTime": {
     "end_time": "2021-10-11T19:26:29.796969Z",
     "start_time": "2021-10-11T19:26:29.785424Z"
    }
   },
   "outputs": [],
   "source": [
    "tmp = []\n",
    "for f in ['A', 'T']: # \n",
    "    for p in ['S', 'P']: # self, parent\n",
    "        tmp += [ f+p+'_GVKEY', f+p+'_PERMNO_2']"
   ]
  },
  {
   "cell_type": "code",
   "execution_count": 281,
   "metadata": {
    "ExecuteTime": {
     "end_time": "2021-10-11T19:26:29.804124Z",
     "start_time": "2021-10-11T19:26:29.798771Z"
    }
   },
   "outputs": [],
   "source": [
    "name_lst3 = name_lst2 + tmp"
   ]
  },
  {
   "cell_type": "code",
   "execution_count": 282,
   "metadata": {
    "ExecuteTime": {
     "end_time": "2021-10-11T19:26:29.810855Z",
     "start_time": "2021-10-11T19:26:29.806221Z"
    }
   },
   "outputs": [],
   "source": [
    "merged2_4.columns = name_lst3"
   ]
  },
  {
   "cell_type": "code",
   "execution_count": 283,
   "metadata": {
    "ExecuteTime": {
     "end_time": "2021-10-11T19:26:29.817025Z",
     "start_time": "2021-10-11T19:26:29.812403Z"
    }
   },
   "outputs": [],
   "source": [
    "tmp = []\n",
    "for f in ['A', 'T']: # \n",
    "    for p in ['S', 'P']: # self, parent\n",
    "        tmp += [f+p+'_HCUSIP', f+p+'_PERMNO_2']"
   ]
  },
  {
   "cell_type": "code",
   "execution_count": 284,
   "metadata": {
    "ExecuteTime": {
     "end_time": "2021-10-11T19:26:30.216167Z",
     "start_time": "2021-10-11T19:26:29.818740Z"
    }
   },
   "outputs": [],
   "source": [
    "merged_gvkey = merged2_4.drop(tmp, axis=1)"
   ]
  },
  {
   "cell_type": "code",
   "execution_count": 285,
   "metadata": {
    "ExecuteTime": {
     "end_time": "2021-10-11T19:26:30.220700Z",
     "start_time": "2021-10-11T19:26:30.217434Z"
    },
    "scrolled": true
   },
   "outputs": [
    {
     "data": {
      "text/plain": [
       "Index(['ACU', 'ASIC2', 'ABL', 'ANL', 'APUBC', 'AUP', 'AUPSIC', 'AUPBL',\n",
       "       'AUPNAMES', 'AUPPUB', 'BLOCK', 'CREEP', 'DA', 'DE', 'STATC', 'SYNOP',\n",
       "       'VAL', 'PCTACQ', 'PSOUGHTOWN', 'PSOUGHT', 'PHDA', 'PCTOWN', 'PSOUGHTT',\n",
       "       'PRIVATIZATION', 'DEAL_NO', 'TCU', 'TSIC2', 'TBL', 'TNL', 'TPUBC',\n",
       "       'TUP', 'TUPSIC', 'TUPBL', 'TUPNAMES', 'TUPPUB', 'SIC_A', 'SIC_T',\n",
       "       'YEAR', 'AS_PERMNO', 'AP_PERMNO', 'TS_PERMNO', 'TP_PERMNO', 'AS_GVKEY',\n",
       "       'AP_GVKEY', 'TS_GVKEY', 'TP_GVKEY'],\n",
       "      dtype='object')"
      ]
     },
     "execution_count": 285,
     "metadata": {},
     "output_type": "execute_result"
    }
   ],
   "source": [
    "merged_gvkey.columns"
   ]
  },
  {
   "cell_type": "code",
   "execution_count": 286,
   "metadata": {
    "ExecuteTime": {
     "end_time": "2021-10-11T19:26:30.230105Z",
     "start_time": "2021-10-11T19:26:30.221544Z"
    }
   },
   "outputs": [
    {
     "data": {
      "text/plain": [
       "(203775, 46)"
      ]
     },
     "execution_count": 286,
     "metadata": {},
     "output_type": "execute_result"
    }
   ],
   "source": [
    "merged_gvkey.shape"
   ]
  },
  {
   "cell_type": "markdown",
   "metadata": {
    "heading_collapsed": true
   },
   "source": [
    "# Link with EWENS\n",
    "\n",
    "- EWENS' strategy is linking by name. It's not as accurate as linking via the method above\n",
    "- And you have no idea if it was match with \"self\" or \"parent\".\n",
    "\n",
    "- Here I did not apply this\n",
    "\n"
   ]
  },
  {
   "cell_type": "markdown",
   "metadata": {},
   "source": [
    "# Arrange linking result\n",
    "\n",
    "\n",
    "the following conditions are marked as GVKEY merged successfully:\n",
    "\n",
    "`ok` = `Corresponding GVKEY Found`\n",
    "\n",
    "num of succcess condition = (C22 + C21) * (C22 + C21) = 9\n",
    "\n",
    "| ACU ok | AUP  ok | TCU ok | TUP ok | mark as                                           |\n",
    "|------------------|-------------------|------------------|-------------------|---------------------------------------------------|\n",
    "| 1                | 1                 | 1                | 1                 | 1                                                 |\n",
    "| 1                | 1                 | 1                | 0                 | 2                                                 |\n",
    "| 1                | 1                 | 0                | 1                 | 3                                                 |\n",
    "| 1                | 0                 | 1                | 1                 | 4                                                 |\n",
    "| 1                | 0                 | 1                | 0                 | 5                                                 |\n",
    "| 1                | 0                 | 0                | 1                 | 6                                                 |\n",
    "| 0                | 1                 | 1                | 1                 | 7                                                 |\n",
    "| 0                | 1                 | 1                | 0                 | 8                                                 |\n",
    "| 0                | 1                 | 0                | 1                 | 9                                                 |\n",
    "|                  |                   |                  |                   | all other combination is certainly unanalysiable |\n",
    "\n",
    "\n",
    "Here I just mark those senarios.\n",
    "\n",
    "Since at final, only the firms show up in TNIC is analysiable. However:\n",
    "- TNIC: only contains those firm with regular updated 10-K (public firms)\n",
    "- GVKEY: may contains private firms\n",
    "\n"
   ]
  },
  {
   "cell_type": "code",
   "execution_count": 287,
   "metadata": {
    "ExecuteTime": {
     "end_time": "2021-10-11T19:26:30.238716Z",
     "start_time": "2021-10-11T19:26:30.231185Z"
    }
   },
   "outputs": [],
   "source": [
    "def gvkey_checker(df):\n",
    "    '''\n",
    "    marker is str\n",
    "    '''\n",
    "    def mark(row):\n",
    "        if pd.notna(row.AS_GVKEY) & pd.notna(row.AP_GVKEY) & pd.notna(row.TS_GVKEY) & pd.notna(row.TP_GVKEY):\n",
    "            return '1'\n",
    "        if pd.notna(row.AS_GVKEY) & pd.notna(row.AP_GVKEY) & pd.notna(row.TS_GVKEY) & pd.isna(row.TP_GVKEY):\n",
    "            return '2'\n",
    "        if pd.notna(row.AS_GVKEY) & pd.notna(row.AP_GVKEY) & pd.isna(row.TS_GVKEY) & pd.notna(row.TP_GVKEY):\n",
    "            return '3'\n",
    "        if pd.notna(row.AS_GVKEY) & pd.isna(row.AP_GVKEY) & pd.notna(row.TS_GVKEY) & pd.notna(row.TP_GVKEY):\n",
    "            return '4'\n",
    "        if pd.notna(row.AS_GVKEY) & pd.notna(row.AP_GVKEY) & pd.isna(row.TS_GVKEY) & pd.notna(row.TP_GVKEY):\n",
    "            return '3'\n",
    "        if pd.notna(row.AS_GVKEY) & pd.isna(row.AP_GVKEY) & pd.notna(row.TS_GVKEY) & pd.isna(row.TP_GVKEY):\n",
    "            return '5'\n",
    "        if pd.notna(row.AS_GVKEY) & pd.isna(row.AP_GVKEY) & pd.isna(row.TS_GVKEY) & pd.notna(row.TP_GVKEY):\n",
    "            return '6'\n",
    "        if pd.isna(row.AS_GVKEY) & pd.notna(row.AP_GVKEY) & pd.notna(row.TS_GVKEY) & pd.notna(row.TP_GVKEY):\n",
    "            return '7'\n",
    "        if pd.isna(row.AS_GVKEY) & pd.notna(row.AP_GVKEY) & pd.notna(row.TS_GVKEY) & pd.isna(row.TP_GVKEY):\n",
    "            return '8'\n",
    "        if pd.isna(row.AS_GVKEY) & pd.notna(row.AP_GVKEY) & pd.isna(row.TS_GVKEY) & pd.notna(row.TP_GVKEY):\n",
    "            return '9'\n",
    "        else:\n",
    "            return '0'\n",
    "    df['GVKEY_STATUS'] = df.apply(mark, axis=1)\n",
    "    \n",
    "    print('Number of Conditions: \\n', df['GVKEY_STATUS'].value_counts(),'\\n')\n",
    "    \n",
    "    return df\n",
    "        \n",
    "        "
   ]
  },
  {
   "cell_type": "code",
   "execution_count": 288,
   "metadata": {
    "ExecuteTime": {
     "end_time": "2021-10-11T19:27:05.282095Z",
     "start_time": "2021-10-11T19:26:30.239938Z"
    }
   },
   "outputs": [
    {
     "name": "stdout",
     "output_type": "stream",
     "text": [
      "Number of Conditions: \n",
      " 0    191569\n",
      "3      5720\n",
      "1      3136\n",
      "9      2277\n",
      "7       374\n",
      "6       333\n",
      "2       176\n",
      "4       138\n",
      "8        38\n",
      "5        14\n",
      "Name: GVKEY_STATUS, dtype: int64 \n",
      "\n"
     ]
    }
   ],
   "source": [
    "merged_gvkey2 = gvkey_checker(merged_gvkey)"
   ]
  },
  {
   "cell_type": "markdown",
   "metadata": {},
   "source": [
    "# Store result \n",
    "\n",
    "to tmp data path"
   ]
  },
  {
   "cell_type": "code",
   "execution_count": 289,
   "metadata": {
    "ExecuteTime": {
     "end_time": "2021-10-11T19:27:06.465679Z",
     "start_time": "2021-10-11T19:27:05.283295Z"
    }
   },
   "outputs": [],
   "source": [
    "merged_gvkey2.to_pickle(tmp_data_path+'/merged_gvkey2.pickle')"
   ]
  },
  {
   "cell_type": "code",
   "execution_count": 290,
   "metadata": {
    "ExecuteTime": {
     "end_time": "2021-10-11T19:27:06.849331Z",
     "start_time": "2021-10-11T19:27:06.467882Z"
    }
   },
   "outputs": [],
   "source": [
    "merged_gvkey2[merged_gvkey2.GVKEY_STATUS != '0'].to_pickle(tmp_data_path+'/merged_analysable.pickle')"
   ]
  },
  {
   "cell_type": "code",
   "execution_count": null,
   "metadata": {},
   "outputs": [],
   "source": []
  }
 ],
 "metadata": {
  "kernelspec": {
   "display_name": "GNN",
   "language": "python",
   "name": "gnn"
  },
  "language_info": {
   "codemirror_mode": {
    "name": "ipython",
    "version": 3
   },
   "file_extension": ".py",
   "mimetype": "text/x-python",
   "name": "python",
   "nbconvert_exporter": "python",
   "pygments_lexer": "ipython3",
   "version": "3.8.10"
  },
  "latex_envs": {
   "LaTeX_envs_menu_present": true,
   "autoclose": false,
   "autocomplete": true,
   "bibliofile": "biblio.bib",
   "cite_by": "apalike",
   "current_citInitial": 1,
   "eqLabelWithNumbers": true,
   "eqNumInitial": 1,
   "hotkeys": {
    "equation": "Ctrl-E",
    "itemize": "Ctrl-I"
   },
   "labels_anchors": false,
   "latex_user_defs": false,
   "report_style_numbering": false,
   "user_envs_cfg": false
  },
  "toc": {
   "base_numbering": 1,
   "nav_menu": {},
   "number_sections": true,
   "sideBar": true,
   "skip_h1_title": false,
   "title_cell": "Table of Contents",
   "title_sidebar": "Contents",
   "toc_cell": false,
   "toc_position": {},
   "toc_section_display": true,
   "toc_window_display": false
  }
 },
 "nbformat": 4,
 "nbformat_minor": 4
}
