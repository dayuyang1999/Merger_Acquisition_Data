{
 "cells": [
  {
   "cell_type": "code",
   "execution_count": 28,
   "metadata": {
    "ExecuteTime": {
     "end_time": "2021-09-16T19:51:38.912606Z",
     "start_time": "2021-09-16T19:51:38.906721Z"
    }
   },
   "outputs": [],
   "source": [
    "import pandas as pd\n",
    "import pickle\n",
    "import numpy as np\n",
    "import datetime \n",
    "from os.path import join as pjoin\n",
    "import os\n",
    "#import argparse\n",
    "#import yamlb"
   ]
  },
  {
   "cell_type": "code",
   "execution_count": 29,
   "metadata": {
    "ExecuteTime": {
     "end_time": "2021-09-16T19:51:39.115802Z",
     "start_time": "2021-09-16T19:51:39.113003Z"
    }
   },
   "outputs": [],
   "source": [
    "tmp_data_path =  '../MA_data/data/tmp'\n",
    "data_path = '../MA_data/data'\n",
    "s_year = 1997\n",
    "e_year = 2019"
   ]
  },
  {
   "cell_type": "code",
   "execution_count": 30,
   "metadata": {
    "ExecuteTime": {
     "end_time": "2021-09-16T19:51:39.326200Z",
     "start_time": "2021-09-16T19:51:39.319326Z"
    }
   },
   "outputs": [],
   "source": [
    "from Master1_data_prepare import MADataLoader"
   ]
  },
  {
   "cell_type": "markdown",
   "metadata": {
    "ExecuteTime": {
     "end_time": "2021-09-13T23:50:21.135890Z",
     "start_time": "2021-09-13T23:50:21.128265Z"
    }
   },
   "source": [
    "# import data\n",
    "\n",
    "3 groups of data\n",
    "- bridge 1: wrds bridge\n",
    "- bridge 2: evans bridge\n",
    "- SDC MA data\n",
    "\n",
    "before concat all data, manually convert all date on excel file to \"YY-mm-dd\" format.\n",
    "\n",
    "Guide: select all date var --> right-click --> Cell format --> Date --> 2012-03-14 --> OK\n",
    "\n",
    "![](https://cdn.mathpix.com/snip/images/58hcVJ3qFlC446Ns4SaJKtm-UroEqUKyqu4oCnTWhKY.original.fullsize.png)\n",
    "\n",
    "\n",
    "###  sdc data\n",
    "\n",
    "1. drop where either `ACU` or `TCU` is Nas\n",
    "1. fill DEAL_NO NAs to -1\n",
    "1. change all identifier to `str`; including: `ACU`, `AUP`, `TCU`, `TUP`, `DEAL_NO`, `GVKEY`a\n",
    "\n",
    "\n",
    "### bridges data\n",
    "\n",
    "1. match variable type for merging\n",
    "    1. for CUSIP/GVKEY/DEALNUM, all convert to `string`; \n",
    "        - do not keep 0s at front \n",
    "            - e.g. `002030` will be curtail to `2030`\n",
    "    2. for time, all convert to pandas `Timestamp` instance\n",
    "2. drop na or fill na\n",
    "\n",
    "#### evans_bridge\n",
    "\n",
    "for evans_brdge, load as float:\n",
    "1. fill na as -1\n",
    "2. convert all var to integer\n",
    "3. convert all var to string\n",
    "\n",
    "\n",
    "**so the GVKEY has no 0 at front**\n",
    "\n",
    "#### wrds_bridge\n",
    "\n",
    "- `GVKEY` and `CUSIP`, load as int; so just convert to str\n",
    "- no need to worry about NA"
   ]
  },
  {
   "cell_type": "code",
   "execution_count": 31,
   "metadata": {
    "ExecuteTime": {
     "end_time": "2021-09-16T19:58:47.804787Z",
     "start_time": "2021-09-16T19:51:41.156424Z"
    }
   },
   "outputs": [
    {
     "name": "stdout",
     "output_type": "stream",
     "text": [
      "WRDS Linking Table looks like:          CUSIP  GVKEY     LINKDT  LINKENDDT                         CONM\n",
      "10404  963626  11466 1962-02-28 1986-04-30  WHITE CONSOLIDATED INDS INC\n",
      "11612  827904  12752 1985-01-02 1990-03-14        SILVER HART MINES LTD\n",
      "21491  395392  36016 2020-05-11 2099-12-31   GREENROSE ACQUISITION CORP\n",
      "ATTENTION, DealNumber, tgvkey, agvkey NAs in evans_bridge are interpolated as '-1'. \n",
      " \n",
      "       DealNumber  agvkey tgvkey\n",
      "36688  1002740020      -1   8173\n",
      "95677  2320560020  160329     -1\n",
      "36056   991237040    3333     -1\n",
      "date variables loading ok \n",
      "\n",
      "1997 data shape: (13255, 35)\n",
      "date variables loading ok \n",
      "\n",
      "1998 data shape: (15081, 35)\n",
      "date variables loading ok \n",
      "\n",
      "1999 data shape: (13203, 35)\n",
      "date variables loading ok \n",
      "\n",
      "2000 data shape: (12610, 35)\n",
      "date variables loading ok \n",
      "\n",
      "2001 data shape: (8771, 35)\n",
      "date variables loading ok \n",
      "\n",
      "2002 data shape: (7943, 35)\n",
      "date variables loading ok \n",
      "\n",
      "2003 data shape: (8573, 35)\n",
      "date variables loading ok \n",
      "\n",
      "2004 data shape: (9704, 35)\n",
      "date variables loading ok \n",
      "\n",
      "2005 data shape: (10524, 35)\n",
      "date variables loading ok \n",
      "\n",
      "2006 data shape: (11802, 35)\n",
      "date variables loading ok \n",
      "\n",
      "2007 data shape: (12866, 35)\n",
      "date variables loading ok \n",
      "\n",
      "2008 data shape: (11174, 35)\n",
      "date variables loading ok \n",
      "\n",
      "2009 data shape: (8965, 35)\n",
      "date variables loading ok \n",
      "\n",
      "2010 data shape: (9365, 35)\n",
      "date variables loading ok \n",
      "\n",
      "2011 data shape: (9859, 35)\n",
      "date variables loading ok \n",
      "\n",
      "2012 data shape: (9772, 35)\n",
      "date variables loading ok \n",
      "\n",
      "2013 data shape: (10060, 35)\n",
      "date variables loading ok \n",
      "\n",
      "2014 data shape: (11349, 35)\n",
      "date variables loading ok \n",
      "\n",
      "2015 data shape: (11964, 35)\n",
      "date variables loading ok \n",
      "\n",
      "2016 data shape: (12493, 35)\n",
      "date variables loading ok \n",
      "\n",
      "2017 data shape: (14453, 35)\n",
      "date variables loading ok \n",
      "\n",
      "2018 data shape: (13776, 35)\n",
      "date variables loading ok \n",
      "\n",
      "2019 data shape: (12216, 35)\n",
      "ATTENTION, DEAL_NO NAs in sdc_df are interpolated as '-1'. \n",
      " \n",
      "saving sdc table ranging from 1997 to 2019 to ../MA_data/data/tmp\n",
      "SDC Data looks like:                                                           32598   \\\n",
      "index                                                       4262   \n",
      "ACU                                                       743150   \n",
      "ASIC2                                                  8732/7389   \n",
      "ABL                            Provide equity research\\nservices   \n",
      "ANL                                             JagNotes.com Inc   \n",
      "APUBC                                                     Public   \n",
      "AUP                                                       47008C   \n",
      "AUPSIC                                                8732\\n7389   \n",
      "AUPBL                          Provide equity research\\nservices   \n",
      "AUPNAMES                                        JagNotes.com Inc   \n",
      "AUPPUB                                                    Public   \n",
      "BLOCK                                                         No   \n",
      "CREEP                                                         No   \n",
      "DA                                           1999-04-25 00:00:00   \n",
      "DE                                           1999-04-25 00:00:00   \n",
      "STATC                                                          C   \n",
      "SYNOP          Professional Perceptions Inc acquired New Jag ...   \n",
      "VAL                                                          NaN   \n",
      "PCTACQ                                                     100.0   \n",
      "PSOUGHTOWN                                                 100.0   \n",
      "PSOUGHT                                                    100.0   \n",
      "PHDA                                                         NaN   \n",
      "PCTOWN                                                     100.0   \n",
      "PSOUGHTT                                                     NaN   \n",
      "PRIVATIZATION                                                 No   \n",
      "DEAL_NO                                                875937020   \n",
      "TCU                                                       64615M   \n",
      "TSIC2                                                       8732   \n",
      "TBL                            Provide equity research\\nservices   \n",
      "TNL                                                  New Jag Inc   \n",
      "TPUBC                                                      Priv.   \n",
      "TUP                                                       64615M   \n",
      "TUPSIC                                                      8732   \n",
      "TUPBL                          Provide equity research\\nservices   \n",
      "TUPNAMES                                             New Jag Inc   \n",
      "TUPPUB                                                     Priv.   \n",
      "SIC_A                                                       8732   \n",
      "SIC_T                                                       8732   \n",
      "YEAR                                                        1999   \n",
      "\n",
      "                                                          43774   \\\n",
      "index                                                       2235   \n",
      "ACU                                                       26873Q   \n",
      "ASIC2                                             7372/7375/7374   \n",
      "ABL            Develop Internet health-care\\nmanagement software   \n",
      "ANL                                                e-MedSoft.com   \n",
      "APUBC                                                     Public   \n",
      "AUP                                                       26873Q   \n",
      "AUPSIC                                          7372\\n7375\\n7374   \n",
      "AUPBL          Develop Internet health-care\\nmanagement software   \n",
      "AUPNAMES                                           e-MedSoft.com   \n",
      "AUPPUB                                                    Public   \n",
      "BLOCK                                                         No   \n",
      "CREEP                                                         No   \n",
      "DA                                           2000-02-29 00:00:00   \n",
      "DE                                                           NaT   \n",
      "STATC                                                          P   \n",
      "SYNOP          US - e-MedSoft.com planned to acquire VirTx In...   \n",
      "VAL                                                         23.0   \n",
      "PCTACQ                                                       NaN   \n",
      "PSOUGHTOWN                                                 100.0   \n",
      "PSOUGHT                                                    100.0   \n",
      "PHDA                                                         NaN   \n",
      "PCTOWN                                                       NaN   \n",
      "PSOUGHTT                                                     NaN   \n",
      "PRIVATIZATION                                                 No   \n",
      "DEAL_NO                                                981736020   \n",
      "TCU                                                       92965K   \n",
      "TSIC2                                                  7389/7375   \n",
      "TBL                  Provide online healthcare\\nnetwork services   \n",
      "TNL                                                    VirTx Inc   \n",
      "TPUBC                                                      Priv.   \n",
      "TUP                                                       92965K   \n",
      "TUPSIC                                                7389\\n7375   \n",
      "TUPBL                Provide online healthcare\\nnetwork services   \n",
      "TUPNAMES                                               VirTx Inc   \n",
      "TUPPUB                                                     Priv.   \n",
      "SIC_A                                                       7372   \n",
      "SIC_T                                                       7372   \n",
      "YEAR                                                        2000   \n",
      "\n",
      "                                                          199704  \n",
      "index                                                       4828  \n",
      "ACU                                                       7C9793  \n",
      "ASIC2                                                       7389  \n",
      "ABL            Myriad Technologies LLC is a\\nprovider of lega...  \n",
      "ANL                                      Myriad Technologies LLC  \n",
      "APUBC                                                      Priv.  \n",
      "AUP                                                       7C9793  \n",
      "AUPSIC                                                      7389  \n",
      "AUPBL          Myriad Technologies LLC is a\\nprovider of lega...  \n",
      "AUPNAMES                                 Myriad Technologies LLC  \n",
      "AUPPUB                                                     Priv.  \n",
      "BLOCK                                                         No  \n",
      "CREEP                                                         No  \n",
      "DA                                           2015-05-21 00:00:00  \n",
      "DE                                           2015-05-21 00:00:00  \n",
      "STATC                                                          C  \n",
      "SYNOP          US - Myriad Technologies LLC acquired Summit C...  \n",
      "VAL                                                          NaN  \n",
      "PCTACQ                                                     100.0  \n",
      "PSOUGHTOWN                                                 100.0  \n",
      "PSOUGHT                                                    100.0  \n",
      "PHDA                                                         NaN  \n",
      "PCTOWN                                                     100.0  \n",
      "PSOUGHTT                                                     NaN  \n",
      "PRIVATIZATION                                                 No  \n",
      "DEAL_NO                                               2755156020  \n",
      "TCU                                                       7C9794  \n",
      "TSIC2                                                       7374  \n",
      "TBL            Summit Co-Locate Inc, located\\nin Los Angeles,...  \n",
      "TNL                                         Summit Co-Locate Inc  \n",
      "TPUBC                                                      Priv.  \n",
      "TUP                                                       7C9794  \n",
      "TUPSIC                                                      7374  \n",
      "TUPBL          Summit Co-Locate Inc, located\\nin Los Angeles,...  \n",
      "TUPNAMES                                    Summit Co-Locate Inc  \n",
      "TUPPUB                                                     Priv.  \n",
      "SIC_A                                                        NaN  \n",
      "SIC_T                                                        NaN  \n",
      "YEAR                                                        2015  \n"
     ]
    }
   ],
   "source": [
    "sdc = MADataLoader(tmp_data_path, data_path, s_year, e_year, glaspe=True)"
   ]
  },
  {
   "cell_type": "code",
   "execution_count": 32,
   "metadata": {
    "ExecuteTime": {
     "end_time": "2021-09-16T19:58:47.843489Z",
     "start_time": "2021-09-16T19:58:47.811672Z"
    }
   },
   "outputs": [
    {
     "name": "stdout",
     "output_type": "stream",
     "text": [
      "variable type checking finished, No error Found. \n",
      "\n"
     ]
    }
   ],
   "source": [
    "# run variable type check\n",
    "sdc.var_type_checker()"
   ]
  },
  {
   "cell_type": "markdown",
   "metadata": {},
   "source": [
    "# Filtering \"Majority\" MA\n",
    "\n",
    "the variable meaning please refer to [appendix1.2](Appendix_1_2_variable_description.ipynb)\n",
    "\n",
    "see P523 Ahern, Kenneth R., and Jarrad Harford. 2014. “The Importance of Industry Links in Merger Waves.” The Journal of Finance 69 (2): 527–76. https://doi.org/10.1111/jofi.12122.\n",
    "\n",
    "\n",
    "- the acquirer buys 20% or more of the target’s share: `PCTACQ > 20.0`\n",
    "- the acquirer owns 51% or more of the target’s shares after the deal; (5) the merger is completed:  `PCTOWN > 51.0`\n",
    "- transaction value is at least 1 million: `VAL > 1`\n",
    "- legal form of organization of the target or acquirer not restricted\n"
   ]
  },
  {
   "cell_type": "markdown",
   "metadata": {},
   "source": [
    "before restriction, we'd better look at the missing pattern of related varibles\n",
    "- if large portion of this varibale is missing, it's not good to use this variable as restriction. [exploration see Appendix1.1 Q4](./Appendix1_data_explore.ipynb)\n",
    "\n",
    "$\\begin{array}{ll}\\text { VAL } & 58.802123 \\\\ \\text { PCTACQ } & 27.158338 \\\\ \\text { PSOUGHTOWN } & 13.356764 \\\\ \\text { PSOUGHT } & 13.383123 \\\\ \\text { PHDA } & 97.952041 \\\\ \\text { PCTOWN } & 26.963939 \\\\ \\text { PSOUGHTT } & 99.122094\\end{array}$"
   ]
  },
  {
   "cell_type": "markdown",
   "metadata": {},
   "source": [
    "So VAL, PHDA, PSOUGHTT are bad restrictors\n"
   ]
  },
  {
   "cell_type": "code",
   "execution_count": 33,
   "metadata": {
    "ExecuteTime": {
     "end_time": "2021-09-16T23:34:22.716337Z",
     "start_time": "2021-09-16T23:34:22.480696Z"
    }
   },
   "outputs": [],
   "source": [
    "sdc_df = sdc.sdc_df\n"
   ]
  },
  {
   "cell_type": "code",
   "execution_count": 34,
   "metadata": {
    "ExecuteTime": {
     "end_time": "2021-09-16T23:34:22.726792Z",
     "start_time": "2021-09-16T23:34:22.719900Z"
    }
   },
   "outputs": [],
   "source": [
    "from filter_helpers import majority_filter"
   ]
  },
  {
   "cell_type": "code",
   "execution_count": 35,
   "metadata": {
    "ExecuteTime": {
     "end_time": "2021-09-16T23:34:24.126617Z",
     "start_time": "2021-09-16T23:34:22.985378Z"
    }
   },
   "outputs": [
    {
     "name": "stdout",
     "output_type": "stream",
     "text": [
      "original df shape:  (259778, 39) \n",
      "\n",
      "filtered df shape:  (241546, 39)\n"
     ]
    }
   ],
   "source": [
    "sdc_majority = majority_filter(sdc_df)\n"
   ]
  },
  {
   "cell_type": "markdown",
   "metadata": {},
   "source": [
    "# STATC = C"
   ]
  },
  {
   "cell_type": "code",
   "execution_count": 36,
   "metadata": {
    "ExecuteTime": {
     "end_time": "2021-09-16T23:34:24.978472Z",
     "start_time": "2021-09-16T23:34:24.974642Z"
    }
   },
   "outputs": [],
   "source": [
    "from filter_helpers import complete_deal_filter"
   ]
  },
  {
   "cell_type": "code",
   "execution_count": 53,
   "metadata": {
    "ExecuteTime": {
     "end_time": "2021-09-16T23:49:51.294525Z",
     "start_time": "2021-09-16T23:49:50.128768Z"
    },
    "scrolled": true
   },
   "outputs": [
    {
     "name": "stdout",
     "output_type": "stream",
     "text": [
      "original df shape:  (241546, 39) \n",
      "\n",
      "filtered df shape:  (198835, 39)\n"
     ]
    }
   ],
   "source": [
    "sdc_majority_complete = complete_deal_filter(sdc_majority)"
   ]
  },
  {
   "cell_type": "markdown",
   "metadata": {},
   "source": [
    "# Merge GVKEY"
   ]
  },
  {
   "cell_type": "markdown",
   "metadata": {},
   "source": [
    "## obtain GVKEY from linkings\n",
    "\n",
    "Rules:\n",
    "1. use WRDS linking table as primary table, EVANS as secondary\n",
    "2. first, use ACU and TCU to search GVKEY; If no result return, use AUP and TUP to search. If still no result return, this row has to be dropped.\n",
    "\n",
    "\n",
    "reason for rules refering to [Appendix 1](./Appendix1_data_explore.ipynb)\n",
    "\n",
    "+ save merged data to pickle before checking out Appendix 1!"
   ]
  },
  {
   "cell_type": "code",
   "execution_count": 38,
   "metadata": {
    "ExecuteTime": {
     "end_time": "2021-09-16T23:34:27.691488Z",
     "start_time": "2021-09-16T23:34:27.688582Z"
    }
   },
   "outputs": [],
   "source": [
    "from merge_helper import merge_gvkey_wrds"
   ]
  },
  {
   "cell_type": "code",
   "execution_count": 151,
   "metadata": {
    "ExecuteTime": {
     "end_time": "2021-09-17T01:30:05.641943Z",
     "start_time": "2021-09-17T01:30:05.632167Z"
    }
   },
   "outputs": [],
   "source": [
    "def merge_gvkey_wrds(sdc_df, wrds_bridge):\n",
    "    '''\n",
    "    merge sdc_df with wrds_bridge\n",
    "    \n",
    "    '''\n",
    "    name_lst = list(sdc_df.columns)\n",
    "    sdc_df_comp = sdc_df\n",
    "    print(sdc_df_comp.shape)\n",
    "    merged_w_a = sdc_df_comp.merge(wrds_bridge, left_on='ACU', right_on = 'CUSIP', how = 'left')\n",
    "    print(merged_w_a.shape)\n",
    "    merged_w_t = merged_w_a.merge(wrds_bridge, left_on='TCU', right_on = 'CUSIP', how = 'left')\n",
    "    print(merged_w_t.shape)\n",
    "    merged_w_ua = merged_w_t.merge(wrds_bridge, left_on='AUP', right_on = 'CUSIP', how = 'left')\n",
    "    print(merged_w_ua.shape)\n",
    "    merged_w_ut = merged_w_ua.merge(wrds_bridge, left_on='TUP', right_on = 'CUSIP', how = 'left')\n",
    "    print(merged_w_ut.shape)\n",
    "    # name list update\n",
    "    gvkey_name_list = []\n",
    "    for key in ['ACU','TCU','AUP','TUP']:\n",
    "        lst = [name+\"_\"+key for name in ['CUSIP', 'GVKEY', 'LINKDT', 'LINKENDDT', 'CONM'] ]\n",
    "    #    print(len(lst))\n",
    "        gvkey_name_list += lst\n",
    "    assert len(gvkey_name_list) == 20\n",
    "    \n",
    "    merged_name_list = name_lst + gvkey_name_list\n",
    "    merged_raw = merged_w_ut.copy()\n",
    "    merged_raw.columns = merged_name_list\n",
    "\n",
    "\n",
    "    return merged_raw\n"
   ]
  },
  {
   "cell_type": "code",
   "execution_count": 152,
   "metadata": {
    "ExecuteTime": {
     "end_time": "2021-09-17T01:30:10.673467Z",
     "start_time": "2021-09-17T01:30:05.863446Z"
    }
   },
   "outputs": [
    {
     "name": "stdout",
     "output_type": "stream",
     "text": [
      "(198835, 39)\n",
      "(208548, 44)\n",
      "(210907, 49)\n",
      "(247622, 54)\n",
      "(326728, 59)\n"
     ]
    }
   ],
   "source": [
    "wrds_merged = merge_gvkey_wrds(sdc_majority_complete, sdc.wrds_bridge)"
   ]
  },
  {
   "cell_type": "code",
   "execution_count": 150,
   "metadata": {
    "ExecuteTime": {
     "end_time": "2021-09-17T01:28:52.098491Z",
     "start_time": "2021-09-17T01:28:52.091735Z"
    }
   },
   "outputs": [
    {
     "data": {
      "text/plain": [
       "(326728, 59)"
      ]
     },
     "execution_count": 150,
     "metadata": {},
     "output_type": "execute_result"
    }
   ],
   "source": [
    "wrds_merged.shape"
   ]
  },
  {
   "cell_type": "markdown",
   "metadata": {},
   "source": [
    "## Filter those Gvkey condition not ok"
   ]
  },
  {
   "cell_type": "markdown",
   "metadata": {},
   "source": [
    "### Step1: WRDS merged result:\n",
    "\n",
    "the following conditions are marked as GVKEY merged successfully:\n",
    "\n",
    "`ok = (GVKEY Found in Bridge table) & (GVKEY in valid time period)`\n",
    "\n",
    "num of succcess condition = (C22 + C21) * (C22 + C21) = 9\n",
    "\n",
    "| ACU ok | AUP  ok | TCU ok | TUP ok | mark as                                           |\n",
    "|------------------|-------------------|------------------|-------------------|---------------------------------------------------|\n",
    "| 1                | 1                 | 1                | 1                 | 1                                                 |\n",
    "| 1                | 1                 | 1                | 0                 | 2                                                 |\n",
    "| 1                | 1                 | 0                | 1                 | 3                                                 |\n",
    "| 1                | 0                 | 1                | 1                 | 4                                                 |\n",
    "| 1                | 0                 | 1                | 0                 | 5                                                 |\n",
    "| 1                | 0                 | 0                | 1                 | 6                                                 |\n",
    "| 0                | 1                 | 1                | 1                 | 7                                                 |\n",
    "| 0                | 1                 | 1                | 0                 | 8                                                 |\n",
    "| 0                | 1                 | 0                | 1                 | 9                                                 |\n",
    "|                  |                   |                  |                   | all other combination is unanalysiable |\n",
    "\n",
    "\n",
    "1. Target and Acquirer must at least successfully match with one table\n",
    "1. for those records (acquirer or target) that evans bridge did not much successfully, but wrds bridge matched successfully, confirm the `date accounced` of the deal falls in the effective time period of the linking. \n",
    "\n",
    "    why use `DA` instead of `DE`? since `DA` has less Nas\n",
    "    \n",
    "    \n",
    "* I chose to use wrds to be my primary linking. If two linking both matched, I will choose the result from wrds.\n",
    "\n",
    "here I simplify the condition.\n",
    "\n",
    "Since if the GVKEY of direct participants are exist, we will use the GVKEY of them instead of the GVKEY of their ultimate parents.\n",
    "\n",
    "So, the simplier version of the gvkey condition is:\n",
    "\n",
    "| ACU ok | AUP  ok | TCU ok | TUP ok | mark as |\n",
    "|--------|---------|--------|--------|---------|\n",
    "| 1      | 1       | 1      | 1      | 1       |\n",
    "| 1      | 1       | 1      | 0      | 1       |\n",
    "| 1      | 1       | 0      | 1      | 3       |\n",
    "| 1      | 0       | 1      | 1      | 1       |\n",
    "| 1      | 0       | 1      | 0      | 1       |\n",
    "| 1      | 0       | 0      | 1      | 3       |\n",
    "| 0      | 1       | 1      | 1      | 2       |\n",
    "| 0      | 1       | 1      | 0      | 2       |\n",
    "| 0      | 1       | 0      | 1      | 4       |\n",
    "| 1      | 0       | 0      | 0      | -1      |\n",
    "| 0      | 1       | 0      | 0      | -2      |\n",
    "| 0      | 0       | 1      | 0      | -3      |\n",
    "| 0      | 0       | 0      | 1      | -4      |\n",
    "| 0      | 0       | 0      | 0      | 0       |\n"
   ]
  },
  {
   "cell_type": "code",
   "execution_count": 67,
   "metadata": {
    "ExecuteTime": {
     "end_time": "2021-09-16T23:52:35.825854Z",
     "start_time": "2021-09-16T23:52:35.820260Z"
    }
   },
   "outputs": [],
   "source": [
    "from merge_helpers import wrds_gvkey_checker"
   ]
  },
  {
   "cell_type": "code",
   "execution_count": 111,
   "metadata": {
    "ExecuteTime": {
     "end_time": "2021-09-17T01:02:11.422078Z",
     "start_time": "2021-09-17T00:58:31.052498Z"
    }
   },
   "outputs": [
    {
     "name": "stdout",
     "output_type": "stream",
     "text": [
      "Number of Conditions: \n",
      " 0     178574\n",
      "-1     55094\n",
      "-2     25859\n",
      "-4     23613\n",
      "-3     15159\n",
      "3       9303\n",
      "1       9179\n",
      "4       5438\n",
      "2       4509\n",
      "Name: GVKEY_OVERALL, dtype: int64 \n",
      "\n"
     ]
    }
   ],
   "source": [
    "merged = wrds_gvkey_checker(merged)"
   ]
  },
  {
   "cell_type": "code",
   "execution_count": 112,
   "metadata": {
    "ExecuteTime": {
     "end_time": "2021-09-17T01:03:20.218984Z",
     "start_time": "2021-09-17T01:03:19.361502Z"
    },
    "scrolled": true
   },
   "outputs": [],
   "source": [
    "wrds_merged_fail = merged[merged['GVKEY_OVERALL'].isin(['0','-1','-2','-3','-4']) ]"
   ]
  },
  {
   "cell_type": "code",
   "execution_count": 113,
   "metadata": {
    "ExecuteTime": {
     "end_time": "2021-09-17T01:03:20.344176Z",
     "start_time": "2021-09-17T01:03:20.222313Z"
    }
   },
   "outputs": [],
   "source": [
    "wrds_merged_ok = merged[merged['GVKEY_OVERALL'].isin(['1','2','3','4']) ]"
   ]
  },
  {
   "cell_type": "markdown",
   "metadata": {},
   "source": [
    "### Step 2: help with EVANS\n",
    "Since **WRDS fail to merge with majority quantity of MA data**. We need to use evans bridge for ambiguous gvkey match\n",
    "\n",
    "Notice that we don't necessaly need both agvkey and tgvkey matched successfully from evans_bridge.\n",
    "Here is the linking target:\n",
    "\n",
    "| WRDS status | If EVANS AGVKEY OK | If EVANS TGVKEY  | Final Status  | mark_as |\n",
    "|-------------|--------------------|------------------|---------------|---------|\n",
    "| 0           | 1                  | 1                | 1             | 1       |\n",
    "| -1          |                    | 1                | 1             | 2       |\n",
    "| -2          |                    | 1                | 1             | 3       |\n",
    "| -3          | 1                  |                  | 1             | 4       |\n",
    "| -4          | 1                  |                  | 1             | 5       |\n",
    "|             |                    |                  | otherwise = 0(unanalysisable) | 0       |\n"
   ]
  },
  {
   "cell_type": "code",
   "execution_count": 97,
   "metadata": {
    "ExecuteTime": {
     "end_time": "2021-09-17T00:39:49.534041Z",
     "start_time": "2021-09-17T00:39:49.529720Z"
    }
   },
   "outputs": [],
   "source": [
    "from merge_helpers import merge_gvkey_evans"
   ]
  },
  {
   "cell_type": "code",
   "execution_count": 169,
   "metadata": {
    "ExecuteTime": {
     "end_time": "2021-09-17T01:46:59.624279Z",
     "start_time": "2021-09-17T01:46:50.462312Z"
    }
   },
   "outputs": [],
   "source": [
    "evans_merged = merge_gvkey_evans(wrds_merged_fail, sdc.evans_bridge)"
   ]
  },
  {
   "cell_type": "code",
   "execution_count": null,
   "metadata": {},
   "outputs": [],
   "source": [
    "from merge_helpers import evans_gvkey_checker"
   ]
  },
  {
   "cell_type": "code",
   "execution_count": null,
   "metadata": {},
   "outputs": [],
   "source": []
  },
  {
   "cell_type": "code",
   "execution_count": 172,
   "metadata": {
    "ExecuteTime": {
     "end_time": "2021-09-17T01:48:55.615366Z",
     "start_time": "2021-09-17T01:48:55.608351Z"
    }
   },
   "outputs": [],
   "source": [
    "def evans_gvkey_checker(merged):\n",
    "    def mark_gvkey_ok(row):\n",
    "        if (row.AGVKEY_EVANS != '-1') & (pd.notna(row.AGVKEY_EVANS)) & (row.TGVKEY_EVANS != '-1') & (pd.notna(row.TGVKEY_EVANS)) & (row.GVKEY_OVERALL == '0'):\n",
    "            return '1'\n",
    "        elif  (row.TGVKEY_EVANS != '-1') & (pd.notna(row.TGVKEY_EVANS)) & (row.GVKEY_OVERALL == '-1'):\n",
    "            return '2'\n",
    "        elif (row.TGVKEY_EVANS != '-1') & (pd.notna(row.TGVKEY_EVANS)) & (row.GVKEY_OVERALL == '-2'):\n",
    "            return '3'\n",
    "        elif (row.AGVKEY_EVANS != '-1') & (pd.notna(row.AGVKEY_EVANS)) & (row.GVKEY_OVERALL == '-3'):\n",
    "            return '4'\n",
    "        elif (row.AGVKEY_EVANS != '-1') & (pd.notna(row.AGVKEY_EVANS )) & (row.GVKEY_OVERALL == '-4'):\n",
    "            return '5'\n",
    "        else:\n",
    "            return '0'\n",
    "    \n",
    "    merged['GVKEY_EVANS_STATUS'] = merged.apply(mark_gvkey_ok, axis = 1)\n",
    "    print(\"Number of conditions: \\n\",merged['GVKEY_EVANS_STATUS'].value_counts(),'\\n')\n",
    "    return merged"
   ]
  },
  {
   "cell_type": "code",
   "execution_count": 173,
   "metadata": {
    "ExecuteTime": {
     "end_time": "2021-09-17T01:50:41.608180Z",
     "start_time": "2021-09-17T01:48:57.352266Z"
    }
   },
   "outputs": [
    {
     "name": "stdout",
     "output_type": "stream",
     "text": [
      "Number of conditions: \n",
      " 0    280494\n",
      "1      4788\n",
      "2      4469\n",
      "5      3727\n",
      "4      2553\n",
      "3      2268\n",
      "Name: GVKEY_EVANS_STATUS, dtype: int64 \n",
      "\n"
     ]
    }
   ],
   "source": [
    "evans_merged = evans_gvkey_checker(evans_merged)"
   ]
  },
  {
   "cell_type": "markdown",
   "metadata": {},
   "source": [
    "# Obtain GVKEY var\n",
    "\n",
    "and remove those helper variables"
   ]
  },
  {
   "cell_type": "markdown",
   "metadata": {},
   "source": [
    "## Step1, obtain GVKEY var from evans merge result"
   ]
  },
  {
   "cell_type": "code",
   "execution_count": null,
   "metadata": {},
   "outputs": [],
   "source": [
    "from merge_helpers import create_gvkey_var_evans"
   ]
  },
  {
   "cell_type": "code",
   "execution_count": 182,
   "metadata": {
    "ExecuteTime": {
     "end_time": "2021-09-17T01:54:37.752248Z",
     "start_time": "2021-09-17T01:54:30.602987Z"
    }
   },
   "outputs": [
    {
     "name": "stderr",
     "output_type": "stream",
     "text": [
      "<ipython-input-121-cf0232be998f>:42: SettingWithCopyWarning: \n",
      "A value is trying to be set on a copy of a slice from a DataFrame.\n",
      "Try using .loc[row_indexer,col_indexer] = value instead\n",
      "\n",
      "See the caveats in the documentation: https://pandas.pydata.org/pandas-docs/stable/user_guide/indexing.html#returning-a-view-versus-a-copy\n",
      "  df['AGVKEY'] = df.apply(AGVKEY_BUILDER, axis=1)\n",
      "<ipython-input-121-cf0232be998f>:43: SettingWithCopyWarning: \n",
      "A value is trying to be set on a copy of a slice from a DataFrame.\n",
      "Try using .loc[row_indexer,col_indexer] = value instead\n",
      "\n",
      "See the caveats in the documentation: https://pandas.pydata.org/pandas-docs/stable/user_guide/indexing.html#returning-a-view-versus-a-copy\n",
      "  df['TGVKEY'] = df.apply(TGVKEY_BUILDER, axis=1)\n"
     ]
    }
   ],
   "source": [
    "evans_result = create_gvkey_var_evans(evans_merged[evans_merged.GVKEY_EVANS_STATUS != '0'])"
   ]
  },
  {
   "cell_type": "code",
   "execution_count": 183,
   "metadata": {
    "ExecuteTime": {
     "end_time": "2021-09-17T01:54:40.367698Z",
     "start_time": "2021-09-17T01:54:40.363485Z"
    }
   },
   "outputs": [
    {
     "data": {
      "text/plain": [
       "(17805, 41)"
      ]
     },
     "execution_count": 183,
     "metadata": {},
     "output_type": "execute_result"
    }
   ],
   "source": [
    "evans_result.shape"
   ]
  },
  {
   "cell_type": "markdown",
   "metadata": {},
   "source": [
    "## Step 2, obtain GVKEY var from WRDS merge result \n",
    "\n",
    "`df['GVKEY_OVERALL']` must be `[1,2,3,4]`; and drop other help variables (Only contain name_lst + AGVKEY + TGVKEY)\n",
    "\n"
   ]
  },
  {
   "cell_type": "code",
   "execution_count": null,
   "metadata": {},
   "outputs": [],
   "source": [
    "from merge_helpers import create_gvkey_var_wrds"
   ]
  },
  {
   "cell_type": "code",
   "execution_count": 176,
   "metadata": {
    "ExecuteTime": {
     "end_time": "2021-09-17T01:53:17.454951Z",
     "start_time": "2021-09-17T01:53:08.266642Z"
    }
   },
   "outputs": [
    {
     "name": "stderr",
     "output_type": "stream",
     "text": [
      "<ipython-input-128-f20e011f7c44>:20: SettingWithCopyWarning: \n",
      "A value is trying to be set on a copy of a slice from a DataFrame.\n",
      "Try using .loc[row_indexer,col_indexer] = value instead\n",
      "\n",
      "See the caveats in the documentation: https://pandas.pydata.org/pandas-docs/stable/user_guide/indexing.html#returning-a-view-versus-a-copy\n",
      "  df['AGVKEY'] = df.apply(gvkey_filter_a, axis=1)\n",
      "<ipython-input-128-f20e011f7c44>:21: SettingWithCopyWarning: \n",
      "A value is trying to be set on a copy of a slice from a DataFrame.\n",
      "Try using .loc[row_indexer,col_indexer] = value instead\n",
      "\n",
      "See the caveats in the documentation: https://pandas.pydata.org/pandas-docs/stable/user_guide/indexing.html#returning-a-view-versus-a-copy\n",
      "  df['TGVKEY'] = df.apply(gvkey_filter_t, axis=1)\n"
     ]
    }
   ],
   "source": [
    "wrds_result = create_gvkey_var_wrds(wrds_merged_ok)"
   ]
  },
  {
   "cell_type": "markdown",
   "metadata": {},
   "source": [
    "## Concat 2 dataframe"
   ]
  },
  {
   "cell_type": "code",
   "execution_count": 184,
   "metadata": {
    "ExecuteTime": {
     "end_time": "2021-09-17T01:54:49.816176Z",
     "start_time": "2021-09-17T01:54:49.513919Z"
    }
   },
   "outputs": [],
   "source": [
    "merge_result= pd.concat([evans_result, wrds_result], axis=0)"
   ]
  },
  {
   "cell_type": "code",
   "execution_count": 185,
   "metadata": {
    "ExecuteTime": {
     "end_time": "2021-09-17T01:54:51.561013Z",
     "start_time": "2021-09-17T01:54:51.557207Z"
    }
   },
   "outputs": [
    {
     "data": {
      "text/plain": [
       "(46234, 41)"
      ]
     },
     "execution_count": 185,
     "metadata": {},
     "output_type": "execute_result"
    }
   ],
   "source": [
    "merge_result.shape"
   ]
  },
  {
   "cell_type": "code",
   "execution_count": 187,
   "metadata": {
    "ExecuteTime": {
     "end_time": "2021-09-17T01:56:08.432492Z",
     "start_time": "2021-09-17T01:56:07.899646Z"
    }
   },
   "outputs": [
    {
     "name": "stdout",
     "output_type": "stream",
     "text": [
      "saving gvkey merged sdc data to ../MA_data/data/tmp \n",
      "\n"
     ]
    }
   ],
   "source": [
    "print(f\"saving gvkey merged sdc data to {tmp_data_path} \\n\")\n",
    "merge_result.to_pickle(pjoin(tmp_data_path , f'sdc_gvkey_{s_year}_{e_year}.pickle'))"
   ]
  },
  {
   "cell_type": "code",
   "execution_count": null,
   "metadata": {},
   "outputs": [],
   "source": []
  }
 ],
 "metadata": {
  "kernelspec": {
   "display_name": "GNN",
   "language": "python",
   "name": "gnn"
  },
  "language_info": {
   "codemirror_mode": {
    "name": "ipython",
    "version": 3
   },
   "file_extension": ".py",
   "mimetype": "text/x-python",
   "name": "python",
   "nbconvert_exporter": "python",
   "pygments_lexer": "ipython3",
   "version": "3.8.10"
  },
  "latex_envs": {
   "LaTeX_envs_menu_present": true,
   "autoclose": false,
   "autocomplete": true,
   "bibliofile": "biblio.bib",
   "cite_by": "apalike",
   "current_citInitial": 1,
   "eqLabelWithNumbers": true,
   "eqNumInitial": 1,
   "hotkeys": {
    "equation": "Ctrl-E",
    "itemize": "Ctrl-I"
   },
   "labels_anchors": false,
   "latex_user_defs": false,
   "report_style_numbering": false,
   "user_envs_cfg": false
  },
  "toc": {
   "base_numbering": 1,
   "nav_menu": {},
   "number_sections": true,
   "sideBar": true,
   "skip_h1_title": false,
   "title_cell": "Table of Contents",
   "title_sidebar": "Contents",
   "toc_cell": false,
   "toc_position": {},
   "toc_section_display": true,
   "toc_window_display": false
  }
 },
 "nbformat": 4,
 "nbformat_minor": 4
}
