{
 "cells": [
  {
   "cell_type": "code",
   "execution_count": 1,
   "metadata": {
    "ExecuteTime": {
     "end_time": "2021-09-16T17:19:21.881137Z",
     "start_time": "2021-09-16T17:19:21.464408Z"
    }
   },
   "outputs": [],
   "source": [
    "import pandas as pd\n",
    "import pickle\n",
    "import numpy as np\n",
    "import datetime \n",
    "from os.path import join as pjoin\n",
    "import os\n",
    "#import argparse\n",
    "#import yamlb"
   ]
  },
  {
   "cell_type": "code",
   "execution_count": 2,
   "metadata": {
    "ExecuteTime": {
     "end_time": "2021-09-16T17:19:21.885458Z",
     "start_time": "2021-09-16T17:19:21.883051Z"
    }
   },
   "outputs": [],
   "source": [
    "tmp_data_path =  '../MA_data/data/tmp'\n",
    "data_path = '../MA_data/data'\n",
    "s_year = 1997\n",
    "e_year = 2019"
   ]
  },
  {
   "cell_type": "code",
   "execution_count": 3,
   "metadata": {
    "ExecuteTime": {
     "end_time": "2021-09-16T17:19:22.059591Z",
     "start_time": "2021-09-16T17:19:22.054513Z"
    }
   },
   "outputs": [],
   "source": [
    "from Master1_data_prepare import MADataLoader"
   ]
  },
  {
   "cell_type": "markdown",
   "metadata": {
    "ExecuteTime": {
     "end_time": "2021-09-13T23:50:21.135890Z",
     "start_time": "2021-09-13T23:50:21.128265Z"
    }
   },
   "source": [
    "# import data\n",
    "\n",
    "3 groups of data\n",
    "- bridge 1: wrds bridge\n",
    "- bridge 2: evans bridge\n",
    "- SDC MA data\n",
    "\n",
    "before concat all data, manually convert all date on excel file to \"YY-mm-dd\" format.\n",
    "\n",
    "Guide: select all date var --> right-click --> Cell format --> Date --> 2012-03-14 --> OK\n",
    "\n",
    "![](https://cdn.mathpix.com/snip/images/58hcVJ3qFlC446Ns4SaJKtm-UroEqUKyqu4oCnTWhKY.original.fullsize.png)\n",
    "\n",
    "\n",
    "###  sdc data\n",
    "\n",
    "1. drop where either `ACU` or `TCU` is Nas\n",
    "1. fill DEAL_NO NAs to -1\n",
    "1. change all identifier to `str`; including: `ACU`, `AUP`, `TCU`, `TUP`, `DEAL_NO`, `GVKEY`a\n",
    "\n",
    "\n",
    "### bridges data\n",
    "\n",
    "1. match variable type for merging\n",
    "    1. for CUSIP/GVKEY/DEALNUM, all convert to `string`; \n",
    "        - do not keep 0s at front \n",
    "            - e.g. `002030` will be curtail to `2030`\n",
    "    2. for time, all convert to pandas `Timestamp` instance\n",
    "2. drop na or fill na\n",
    "\n",
    "#### evans_bridge\n",
    "\n",
    "for evans_brdge, load as float:\n",
    "1. fill na as -1\n",
    "2. convert all var to integer\n",
    "3. convert all var to string\n",
    "\n",
    "\n",
    "**so the GVKEY has no 0 at front**\n",
    "\n",
    "#### wrds_bridge\n",
    "\n",
    "- `GVKEY` and `CUSIP`, load as int; so just convert to str\n",
    "- no need to worry about NA"
   ]
  },
  {
   "cell_type": "code",
   "execution_count": 4,
   "metadata": {
    "ExecuteTime": {
     "end_time": "2021-09-16T17:26:39.879400Z",
     "start_time": "2021-09-16T17:19:23.159601Z"
    }
   },
   "outputs": [
    {
     "name": "stdout",
     "output_type": "stream",
     "text": [
      "WRDS Linking Table looks like:          CUSIP  GVKEY     LINKDT  LINKENDDT                          CONM\n",
      "9348   879286  10400 1983-10-10 1988-10-28  TELECOMMUNICATIONS SPECIALST\n",
      "4303   397627   5339 1969-09-11 1996-03-29       GREINER ENGINEERING INC\n",
      "24514  59540G  66288 1997-12-04 2099-12-31          MID PENN BANCORP INC\n",
      "ATTENTION, DealNumber, tgvkey, agvkey NAs in evans_bridge are interpolated as '-1'. \n",
      " \n",
      "       DealNumber  agvkey  tgvkey\n",
      "8445    608045020   22974    4503\n",
      "67319  1751016020    8148      -1\n",
      "73255  1858313020  110250  121659\n",
      "date variables loading ok \n",
      "\n",
      "1997 data shape: (13255, 35)\n",
      "date variables loading ok \n",
      "\n",
      "1998 data shape: (15081, 35)\n",
      "date variables loading ok \n",
      "\n",
      "1999 data shape: (13203, 35)\n",
      "date variables loading ok \n",
      "\n",
      "2000 data shape: (12610, 35)\n",
      "date variables loading ok \n",
      "\n",
      "2001 data shape: (8771, 35)\n",
      "date variables loading ok \n",
      "\n",
      "2002 data shape: (7943, 35)\n",
      "date variables loading ok \n",
      "\n",
      "2003 data shape: (8573, 35)\n",
      "date variables loading ok \n",
      "\n",
      "2004 data shape: (9704, 35)\n",
      "date variables loading ok \n",
      "\n",
      "2005 data shape: (10524, 35)\n",
      "date variables loading ok \n",
      "\n",
      "2006 data shape: (11802, 35)\n",
      "date variables loading ok \n",
      "\n",
      "2007 data shape: (12866, 35)\n",
      "date variables loading ok \n",
      "\n",
      "2008 data shape: (11174, 35)\n",
      "date variables loading ok \n",
      "\n",
      "2009 data shape: (8965, 35)\n",
      "date variables loading ok \n",
      "\n",
      "2010 data shape: (9365, 35)\n",
      "date variables loading ok \n",
      "\n",
      "2011 data shape: (9859, 35)\n",
      "date variables loading ok \n",
      "\n",
      "2012 data shape: (9772, 35)\n",
      "date variables loading ok \n",
      "\n",
      "2013 data shape: (10060, 35)\n",
      "date variables loading ok \n",
      "\n",
      "2014 data shape: (11349, 35)\n",
      "date variables loading ok \n",
      "\n",
      "2015 data shape: (11964, 35)\n",
      "date variables loading ok \n",
      "\n",
      "2016 data shape: (12493, 35)\n",
      "date variables loading ok \n",
      "\n",
      "2017 data shape: (14453, 35)\n",
      "date variables loading ok \n",
      "\n",
      "2018 data shape: (13776, 35)\n",
      "date variables loading ok \n",
      "\n",
      "2019 data shape: (12216, 35)\n",
      "ATTENTION, DEAL_NO NAs in sdc_df are interpolated as '-1'. \n",
      " \n",
      "saving sdc table ranging from 1997 to 2019 to ../MA_data/data/tmp\n",
      "SDC Data looks like:                                                           172739  \\\n",
      "index                                                       9044   \n",
      "ACU                                                       097023   \n",
      "ASIC2          3721/3724/3728/3761/3764/3769\\n/3812/3825/3663...   \n",
      "ABL            Boeing Co is a manufacturer of\\ncommercial jet...   \n",
      "ANL                                                    Boeing Co   \n",
      "APUBC                                                     Public   \n",
      "AUP                                                       097023   \n",
      "AUPSIC         3721\\n3724\\n3728\\n3761\\n3764\\n3769\\n3812\\n3825...   \n",
      "AUPBL          Boeing Co is a manufacturer of\\ncommercial jet...   \n",
      "AUPNAMES                                               Boeing Co   \n",
      "AUPPUB                                                    Public   \n",
      "BLOCK                                                         No   \n",
      "CREEP                                                         No   \n",
      "DA                                           2012-12-17 00:00:00   \n",
      "DE                                                           NaT   \n",
      "STATC                                                          I   \n",
      "SYNOP          US - In December 2012, the board of Boeing Co,...   \n",
      "VAL                                                       3600.0   \n",
      "PCTACQ                                                       NaN   \n",
      "PSOUGHTOWN                                                   NaN   \n",
      "PSOUGHT                                                      NaN   \n",
      "PHDA                                                         NaN   \n",
      "PCTOWN                                                       NaN   \n",
      "PSOUGHTT                                                     NaN   \n",
      "PRIVATIZATION                                                 No   \n",
      "DEAL_NO                                               2479521020   \n",
      "TCU                                                       097023   \n",
      "TSIC2          3721/3724/3728/3761/3764/3769\\n/3812/3825/3663...   \n",
      "TBL            Boeing Co is a manufacturer of\\ncommercial jet...   \n",
      "TNL                                                    Boeing Co   \n",
      "TPUBC                                                     Public   \n",
      "TUP                                                       097023   \n",
      "TUPSIC         3721\\n3724\\n3728\\n3761\\n3764\\n3769\\n3812\\n3825...   \n",
      "TUPBL          Boeing Co is a manufacturer of\\ncommercial jet...   \n",
      "TUPNAMES                                               Boeing Co   \n",
      "TUPPUB                                                    Public   \n",
      "SIC_A                                                       3721   \n",
      "SIC_T                                                       3721   \n",
      "YEAR                                                        2012   \n",
      "\n",
      "                                                          46753   \\\n",
      "index                                                       5214   \n",
      "ACU                                                       62465C   \n",
      "ASIC2                                                  7375/7389   \n",
      "ABL            Provide Internet housing\\nservices for before,...   \n",
      "ANL                                  Move.Com Inc (Cendant Corp)   \n",
      "APUBC                                                       Sub.   \n",
      "AUP                                                       151313   \n",
      "AUPSIC                              6531\\n4724\\n7372\\n7514\\n6719   \n",
      "AUPBL          Real estate agency; provide\\ntravel agency, an...   \n",
      "AUPNAMES                                            Cendant Corp   \n",
      "AUPPUB                                                    Public   \n",
      "BLOCK                                                         No   \n",
      "CREEP                                                         No   \n",
      "DA                                           2000-05-18 00:00:00   \n",
      "DE                                           2000-05-18 00:00:00   \n",
      "STATC                                                          C   \n",
      "SYNOP          US - Move.Com Inc (MC), a unit of Cendant Corp...   \n",
      "VAL                                                          NaN   \n",
      "PCTACQ                                                     100.0   \n",
      "PSOUGHTOWN                                                 100.0   \n",
      "PSOUGHT                                                    100.0   \n",
      "PHDA                                                         NaN   \n",
      "PCTOWN                                                     100.0   \n",
      "PSOUGHTT                                                     NaN   \n",
      "PRIVATIZATION                                                 No   \n",
      "DEAL_NO                                               1038731020   \n",
      "TCU                                                       43694J   \n",
      "TSIC2                                                  6531/7375   \n",
      "TBL            Provide online search and\\nleasing services fo...   \n",
      "TNL                                                  HomeHunters   \n",
      "TPUBC                                                      Priv.   \n",
      "TUP                                                       43694J   \n",
      "TUPSIC                                                6531\\n7375   \n",
      "TUPBL          Provide online search and\\nleasing services fo...   \n",
      "TUPNAMES                                             HomeHunters   \n",
      "TUPPUB                                                     Priv.   \n",
      "SIC_A                                                       7375   \n",
      "SIC_T                                                       7375   \n",
      "YEAR                                                        2000   \n",
      "\n",
      "                                                          24315   \n",
      "index                                                      11060  \n",
      "ACU                                                       343873  \n",
      "ASIC2                                                  6021/6712  \n",
      "ABL            Flushing Financial Corp,\\nlocated in Lake Succ...  \n",
      "ANL                                      Flushing Financial Corp  \n",
      "APUBC                                                     Public  \n",
      "AUP                                                       343873  \n",
      "AUPSIC                                                6021\\n6712  \n",
      "AUPBL          Flushing Financial Corp,\\nlocated in Lake Succ...  \n",
      "AUPNAMES                                 Flushing Financial Corp  \n",
      "AUPPUB                                                    Public  \n",
      "BLOCK                                                         No  \n",
      "CREEP                                                         No  \n",
      "DA                                           1998-09-17 00:00:00  \n",
      "DE                                                           NaT  \n",
      "STATC                                                          I  \n",
      "SYNOP          In September 1998, the board of Flushing Finan...  \n",
      "VAL                                                       11.645  \n",
      "PCTACQ                                                       NaN  \n",
      "PSOUGHTOWN                                                   7.3  \n",
      "PSOUGHT                                                      7.3  \n",
      "PHDA                                                         NaN  \n",
      "PCTOWN                                                       NaN  \n",
      "PSOUGHTT                                                     NaN  \n",
      "PRIVATIZATION                                                 No  \n",
      "DEAL_NO                                                793875020  \n",
      "TCU                                                       343873  \n",
      "TSIC2                                                  6021/6712  \n",
      "TBL            Flushing Financial Corp,\\nlocated in Lake Succ...  \n",
      "TNL                                      Flushing Financial Corp  \n",
      "TPUBC                                                     Public  \n",
      "TUP                                                       343873  \n",
      "TUPSIC                                                6021\\n6712  \n",
      "TUPBL          Flushing Financial Corp,\\nlocated in Lake Succ...  \n",
      "TUPNAMES                                 Flushing Financial Corp  \n",
      "TUPPUB                                                    Public  \n",
      "SIC_A                                                       6021  \n",
      "SIC_T                                                       6021  \n",
      "YEAR                                                        1998  \n"
     ]
    }
   ],
   "source": [
    "sdc = MADataLoader(tmp_data_path, data_path, s_year, e_year, glaspe=True)"
   ]
  },
  {
   "cell_type": "code",
   "execution_count": 15,
   "metadata": {
    "ExecuteTime": {
     "end_time": "2021-09-16T17:46:54.722335Z",
     "start_time": "2021-09-16T17:46:54.710694Z"
    }
   },
   "outputs": [
    {
     "name": "stdout",
     "output_type": "stream",
     "text": [
      "variable type checking finished, No error Found. \n",
      "\n"
     ]
    }
   ],
   "source": [
    "# run variable type check\n",
    "sdc.var_type_checker()"
   ]
  },
  {
   "cell_type": "markdown",
   "metadata": {},
   "source": [
    "# Filtering \"Majority\" MA\n",
    "\n",
    "the variable meaning please refer to [appendix1.2](Appendix_1_2_variable_description.ipynb)\n",
    "\n",
    "see P523 Ahern, Kenneth R., and Jarrad Harford. 2014. “The Importance of Industry Links in Merger Waves.” The Journal of Finance 69 (2): 527–76. https://doi.org/10.1111/jofi.12122.\n",
    "\n",
    "\n",
    "- the acquirer buys 20% or more of the target’s share: `PCTACQ > 20.0`\n",
    "- the acquirer owns 51% or more of the target’s shares after the deal; (5) the merger is completed:  `PCTOWN > 51.0`\n",
    "- transaction value is at least 1 million: `VAL > 1`\n",
    "- legal form of organization of the target or acquirer not restricted\n"
   ]
  },
  {
   "cell_type": "markdown",
   "metadata": {},
   "source": [
    "before restriction, we'd better look at the missing pattern of related varibles\n",
    "- if large portion of this varibale is missing, it's not good to use this variable as restriction. [exploration see Appendix1.1 Q4](./Appendix1_data_explore.ipynb)\n",
    "\n",
    "$\\begin{array}{ll}\\text { VAL } & 58.802123 \\\\ \\text { PCTACQ } & 27.158338 \\\\ \\text { PSOUGHTOWN } & 13.356764 \\\\ \\text { PSOUGHT } & 13.383123 \\\\ \\text { PHDA } & 97.952041 \\\\ \\text { PCTOWN } & 26.963939 \\\\ \\text { PSOUGHTT } & 99.122094\\end{array}$"
   ]
  },
  {
   "cell_type": "markdown",
   "metadata": {},
   "source": [
    "So VAL, PHDA, PSOUGHTT are bad restrictors\n"
   ]
  },
  {
   "cell_type": "code",
   "execution_count": 5,
   "metadata": {
    "ExecuteTime": {
     "end_time": "2021-09-16T17:40:18.438087Z",
     "start_time": "2021-09-16T17:40:18.435270Z"
    }
   },
   "outputs": [],
   "source": [
    "sdc_df = sdc.sdc_df\n"
   ]
  },
  {
   "cell_type": "code",
   "execution_count": 10,
   "metadata": {
    "ExecuteTime": {
     "end_time": "2021-09-16T17:41:41.286280Z",
     "start_time": "2021-09-16T17:41:41.278194Z"
    }
   },
   "outputs": [],
   "source": [
    "from filter_helpers import majority_filter"
   ]
  },
  {
   "cell_type": "code",
   "execution_count": 11,
   "metadata": {
    "ExecuteTime": {
     "end_time": "2021-09-16T17:41:48.779217Z",
     "start_time": "2021-09-16T17:41:47.576961Z"
    }
   },
   "outputs": [
    {
     "name": "stdout",
     "output_type": "stream",
     "text": [
      "original df shape:  (259778, 39) \n",
      "\n",
      "filtered df shape:  (241546, 39)\n"
     ]
    }
   ],
   "source": [
    "sdc_majority = majority_filter(sdc_df)\n"
   ]
  },
  {
   "cell_type": "markdown",
   "metadata": {},
   "source": [
    "# STATC = C"
   ]
  },
  {
   "cell_type": "code",
   "execution_count": 13,
   "metadata": {
    "ExecuteTime": {
     "end_time": "2021-09-16T17:45:31.120996Z",
     "start_time": "2021-09-16T17:45:31.115190Z"
    }
   },
   "outputs": [],
   "source": [
    "from filter_helpers import complete_deal_filter"
   ]
  },
  {
   "cell_type": "code",
   "execution_count": 14,
   "metadata": {
    "ExecuteTime": {
     "end_time": "2021-09-16T17:45:58.638213Z",
     "start_time": "2021-09-16T17:45:57.601453Z"
    }
   },
   "outputs": [
    {
     "name": "stdout",
     "output_type": "stream",
     "text": [
      "original df shape:  (241546, 39) \n",
      "\n",
      "filtered df shape:  (198835, 39)\n"
     ]
    }
   ],
   "source": [
    "sdc_majority_complete = complete_deal_filter(sdc_majority)"
   ]
  },
  {
   "cell_type": "markdown",
   "metadata": {},
   "source": [
    "# Merge GVKEY"
   ]
  },
  {
   "cell_type": "markdown",
   "metadata": {},
   "source": [
    "## obtain GVKEY from linkings\n",
    "\n",
    "Rules:\n",
    "1. use WRDS linking table as primary table, EVANS as secondary\n",
    "2. first, use ACU and TCU to search GVKEY; If no result return, use AUP and TUP to search. If still no result return, this row has to be dropped.\n",
    "\n",
    "\n",
    "reason for rules refering to [Appendix 1](./Appendix1_data_explore.ipynb)\n",
    "\n",
    "+ save merged data to pickle before checking out Appendix 1!"
   ]
  },
  {
   "cell_type": "code",
   "execution_count": 22,
   "metadata": {
    "ExecuteTime": {
     "end_time": "2021-09-16T17:49:58.879400Z",
     "start_time": "2021-09-16T17:49:58.872976Z"
    }
   },
   "outputs": [],
   "source": [
    "from merge_helper import merge_gvkey"
   ]
  },
  {
   "cell_type": "code",
   "execution_count": 24,
   "metadata": {
    "ExecuteTime": {
     "end_time": "2021-09-16T17:50:12.511883Z",
     "start_time": "2021-09-16T17:50:06.504689Z"
    }
   },
   "outputs": [
    {
     "ename": "ValueError",
     "evalue": "Length mismatch: Expected axis has 59 elements, new values have 56 elements",
     "output_type": "error",
     "traceback": [
      "\u001b[0;31m---------------------------------------------------------------------------\u001b[0m",
      "\u001b[0;31mValueError\u001b[0m                                Traceback (most recent call last)",
      "\u001b[0;32m<ipython-input-24-26ed7d582216>\u001b[0m in \u001b[0;36m<module>\u001b[0;34m\u001b[0m\n\u001b[1;32m      1\u001b[0m \u001b[0;31m# 1st, take care of Acquiror\u001b[0m\u001b[0;34m\u001b[0m\u001b[0;34m\u001b[0m\u001b[0;34m\u001b[0m\u001b[0m\n\u001b[1;32m      2\u001b[0m \u001b[0;34m\u001b[0m\u001b[0m\n\u001b[0;32m----> 3\u001b[0;31m \u001b[0msdc_merged\u001b[0m \u001b[0;34m=\u001b[0m \u001b[0mmerge_gvkey\u001b[0m\u001b[0;34m(\u001b[0m\u001b[0msdc_majority_complete\u001b[0m\u001b[0;34m,\u001b[0m \u001b[0msdc\u001b[0m\u001b[0;34m.\u001b[0m\u001b[0mwrds_bridge\u001b[0m\u001b[0;34m,\u001b[0m \u001b[0msdc\u001b[0m\u001b[0;34m.\u001b[0m\u001b[0mname_lst\u001b[0m\u001b[0;34m)\u001b[0m\u001b[0;34m\u001b[0m\u001b[0;34m\u001b[0m\u001b[0m\n\u001b[0m",
      "\u001b[0;32m<ipython-input-23-dce7d1e0f981>\u001b[0m in \u001b[0;36mmerge_gvkey\u001b[0;34m(sdc_df, wrds_bridge, name_lst)\u001b[0m\n\u001b[1;32m     20\u001b[0m     \u001b[0mmerged_name_list\u001b[0m \u001b[0;34m=\u001b[0m \u001b[0mname_lst\u001b[0m \u001b[0;34m+\u001b[0m \u001b[0mgvkey_name_list\u001b[0m\u001b[0;34m\u001b[0m\u001b[0;34m\u001b[0m\u001b[0m\n\u001b[1;32m     21\u001b[0m     \u001b[0mmerged_raw\u001b[0m \u001b[0;34m=\u001b[0m \u001b[0mmerged_w_ut\u001b[0m\u001b[0;34m.\u001b[0m\u001b[0mcopy\u001b[0m\u001b[0;34m(\u001b[0m\u001b[0;34m)\u001b[0m\u001b[0;34m\u001b[0m\u001b[0;34m\u001b[0m\u001b[0m\n\u001b[0;32m---> 22\u001b[0;31m     \u001b[0mmerged_raw\u001b[0m\u001b[0;34m.\u001b[0m\u001b[0mcolumns\u001b[0m \u001b[0;34m=\u001b[0m \u001b[0mmerged_name_list\u001b[0m\u001b[0;34m\u001b[0m\u001b[0;34m\u001b[0m\u001b[0m\n\u001b[0m\u001b[1;32m     23\u001b[0m     \u001b[0;32mreturn\u001b[0m \u001b[0mmerged_raw\u001b[0m\u001b[0;34m\u001b[0m\u001b[0;34m\u001b[0m\u001b[0m\n",
      "\u001b[0;32m~/miniconda3/envs/GNN/lib/python3.8/site-packages/pandas/core/generic.py\u001b[0m in \u001b[0;36m__setattr__\u001b[0;34m(self, name, value)\u001b[0m\n\u001b[1;32m   5476\u001b[0m         \u001b[0;32mtry\u001b[0m\u001b[0;34m:\u001b[0m\u001b[0;34m\u001b[0m\u001b[0;34m\u001b[0m\u001b[0m\n\u001b[1;32m   5477\u001b[0m             \u001b[0mobject\u001b[0m\u001b[0;34m.\u001b[0m\u001b[0m__getattribute__\u001b[0m\u001b[0;34m(\u001b[0m\u001b[0mself\u001b[0m\u001b[0;34m,\u001b[0m \u001b[0mname\u001b[0m\u001b[0;34m)\u001b[0m\u001b[0;34m\u001b[0m\u001b[0;34m\u001b[0m\u001b[0m\n\u001b[0;32m-> 5478\u001b[0;31m             \u001b[0;32mreturn\u001b[0m \u001b[0mobject\u001b[0m\u001b[0;34m.\u001b[0m\u001b[0m__setattr__\u001b[0m\u001b[0;34m(\u001b[0m\u001b[0mself\u001b[0m\u001b[0;34m,\u001b[0m \u001b[0mname\u001b[0m\u001b[0;34m,\u001b[0m \u001b[0mvalue\u001b[0m\u001b[0;34m)\u001b[0m\u001b[0;34m\u001b[0m\u001b[0;34m\u001b[0m\u001b[0m\n\u001b[0m\u001b[1;32m   5479\u001b[0m         \u001b[0;32mexcept\u001b[0m \u001b[0mAttributeError\u001b[0m\u001b[0;34m:\u001b[0m\u001b[0;34m\u001b[0m\u001b[0;34m\u001b[0m\u001b[0m\n\u001b[1;32m   5480\u001b[0m             \u001b[0;32mpass\u001b[0m\u001b[0;34m\u001b[0m\u001b[0;34m\u001b[0m\u001b[0m\n",
      "\u001b[0;32mpandas/_libs/properties.pyx\u001b[0m in \u001b[0;36mpandas._libs.properties.AxisProperty.__set__\u001b[0;34m()\u001b[0m\n",
      "\u001b[0;32m~/miniconda3/envs/GNN/lib/python3.8/site-packages/pandas/core/generic.py\u001b[0m in \u001b[0;36m_set_axis\u001b[0;34m(self, axis, labels)\u001b[0m\n\u001b[1;32m    668\u001b[0m     \u001b[0;32mdef\u001b[0m \u001b[0m_set_axis\u001b[0m\u001b[0;34m(\u001b[0m\u001b[0mself\u001b[0m\u001b[0;34m,\u001b[0m \u001b[0maxis\u001b[0m\u001b[0;34m:\u001b[0m \u001b[0mint\u001b[0m\u001b[0;34m,\u001b[0m \u001b[0mlabels\u001b[0m\u001b[0;34m:\u001b[0m \u001b[0mIndex\u001b[0m\u001b[0;34m)\u001b[0m \u001b[0;34m->\u001b[0m \u001b[0;32mNone\u001b[0m\u001b[0;34m:\u001b[0m\u001b[0;34m\u001b[0m\u001b[0;34m\u001b[0m\u001b[0m\n\u001b[1;32m    669\u001b[0m         \u001b[0mlabels\u001b[0m \u001b[0;34m=\u001b[0m \u001b[0mensure_index\u001b[0m\u001b[0;34m(\u001b[0m\u001b[0mlabels\u001b[0m\u001b[0;34m)\u001b[0m\u001b[0;34m\u001b[0m\u001b[0;34m\u001b[0m\u001b[0m\n\u001b[0;32m--> 670\u001b[0;31m         \u001b[0mself\u001b[0m\u001b[0;34m.\u001b[0m\u001b[0m_mgr\u001b[0m\u001b[0;34m.\u001b[0m\u001b[0mset_axis\u001b[0m\u001b[0;34m(\u001b[0m\u001b[0maxis\u001b[0m\u001b[0;34m,\u001b[0m \u001b[0mlabels\u001b[0m\u001b[0;34m)\u001b[0m\u001b[0;34m\u001b[0m\u001b[0;34m\u001b[0m\u001b[0m\n\u001b[0m\u001b[1;32m    671\u001b[0m         \u001b[0mself\u001b[0m\u001b[0;34m.\u001b[0m\u001b[0m_clear_item_cache\u001b[0m\u001b[0;34m(\u001b[0m\u001b[0;34m)\u001b[0m\u001b[0;34m\u001b[0m\u001b[0;34m\u001b[0m\u001b[0m\n\u001b[1;32m    672\u001b[0m \u001b[0;34m\u001b[0m\u001b[0m\n",
      "\u001b[0;32m~/miniconda3/envs/GNN/lib/python3.8/site-packages/pandas/core/internals/managers.py\u001b[0m in \u001b[0;36mset_axis\u001b[0;34m(self, axis, new_labels)\u001b[0m\n\u001b[1;32m    218\u001b[0m \u001b[0;34m\u001b[0m\u001b[0m\n\u001b[1;32m    219\u001b[0m         \u001b[0;32mif\u001b[0m \u001b[0mnew_len\u001b[0m \u001b[0;34m!=\u001b[0m \u001b[0mold_len\u001b[0m\u001b[0;34m:\u001b[0m\u001b[0;34m\u001b[0m\u001b[0;34m\u001b[0m\u001b[0m\n\u001b[0;32m--> 220\u001b[0;31m             raise ValueError(\n\u001b[0m\u001b[1;32m    221\u001b[0m                 \u001b[0;34mf\"Length mismatch: Expected axis has {old_len} elements, new \"\u001b[0m\u001b[0;34m\u001b[0m\u001b[0;34m\u001b[0m\u001b[0m\n\u001b[1;32m    222\u001b[0m                 \u001b[0;34mf\"values have {new_len} elements\"\u001b[0m\u001b[0;34m\u001b[0m\u001b[0;34m\u001b[0m\u001b[0m\n",
      "\u001b[0;31mValueError\u001b[0m: Length mismatch: Expected axis has 59 elements, new values have 56 elements"
     ]
    }
   ],
   "source": [
    "# 1st, take care of Acquiror\n",
    "\n",
    "sdc_merged = merge_gvkey(sdc_majority_complete, sdc.wrds_bridge, sdc.name_lst)"
   ]
  },
  {
   "cell_type": "markdown",
   "metadata": {},
   "source": [
    "## Remove self merge\n",
    "\n",
    "some time firm itself merge self"
   ]
  },
  {
   "cell_type": "code",
   "execution_count": 53,
   "metadata": {
    "ExecuteTime": {
     "end_time": "2021-09-14T00:29:14.439707Z",
     "start_time": "2021-09-14T00:29:12.222408Z"
    }
   },
   "outputs": [],
   "source": [
    "merged_w_ut = merged_w_ut[merged_w_ut.ACU != merged_w_ut.TCU]"
   ]
  },
  {
   "cell_type": "code",
   "execution_count": 56,
   "metadata": {
    "ExecuteTime": {
     "end_time": "2021-09-14T00:29:43.321983Z",
     "start_time": "2021-09-14T00:29:43.007969Z"
    }
   },
   "outputs": [],
   "source": [
    "merged_w_ut = merged_w_ut.reset_index(drop=True)"
   ]
  },
  {
   "cell_type": "markdown",
   "metadata": {},
   "source": [
    "## Filter those Gvkey condition not ok"
   ]
  },
  {
   "cell_type": "markdown",
   "metadata": {},
   "source": [
    "### filtering:\n",
    "\n",
    "the following conditions are marked as GVKEY merged successfully:\n",
    "\n",
    "`ok = (GVKEY Found in Bridge table) & (GVKEY in valid time period)`\n",
    "\n",
    "num of succcess condition = (C22 + C21) * (C22 + C21) = 9\n",
    "\n",
    "| ACU ok | AUP  ok | TCU ok | TUP ok | mark as                                           |\n",
    "|------------------|-------------------|------------------|-------------------|---------------------------------------------------|\n",
    "| 1                | 1                 | 1                | 1                 | 1                                                 |\n",
    "| 1                | 1                 | 1                | 0                 | 2                                                 |\n",
    "| 1                | 1                 | 0                | 1                 | 3                                                 |\n",
    "| 1                | 0                 | 1                | 1                 | 4                                                 |\n",
    "| 1                | 0                 | 1                | 0                 | 5                                                 |\n",
    "| 1                | 0                 | 0                | 1                 | 6                                                 |\n",
    "| 0                | 1                 | 1                | 1                 | 7                                                 |\n",
    "| 0                | 1                 | 1                | 0                 | 8                                                 |\n",
    "| 0                | 1                 | 0                | 1                 | 9                                                 |\n",
    "|                  |                   |                  |                   | all other combination is unanalysiable, mark as 0 |\n",
    "\n",
    "\n",
    "1. Target and Acquirer must at least successfully match with one table\n",
    "1. for those records (acquirer or target) that evans bridge did not much successfully, but wrds bridge matched successfully, confirm the `date accounced` of the deal falls in the effective time period of the linking. \n",
    "\n",
    "    why use `DA` instead of `DE`? since `DA` has less Nas\n",
    "    \n",
    "    \n",
    "* I chose to use wrds to be my primary linking. If two linking both matched, I will choose the result from wrds.\n"
   ]
  },
  {
   "cell_type": "code",
   "execution_count": 113,
   "metadata": {
    "ExecuteTime": {
     "end_time": "2021-09-14T01:02:31.986347Z",
     "start_time": "2021-09-14T01:02:31.978474Z"
    }
   },
   "outputs": [],
   "source": [
    "\n",
    "    \n",
    "    "
   ]
  },
  {
   "cell_type": "code",
   "execution_count": null,
   "metadata": {},
   "outputs": [],
   "source": [
    "def gvkey_checker(df):\n",
    "    '''\n",
    "    add an indicator variable named \"XXX_ok\" and 'GVKEY_OVERALL' to indicate GVKEY merge conditions\n",
    "    Do not downsize the df !\n",
    "    '''\n",
    "    merged_raw = df\n",
    "    # pre define 2 inner helpers\n",
    "    def mark_gvkey_ok(row, key):\n",
    "    #    print(row['GVKEY_'+key])\n",
    "        if pd.notna(row['GVKEY_'+key]) & (row['LINKDT_'+key] <= row['DA']) & (row['LINKENDDT_'+key] >= row['DA']):\n",
    "            return 1\n",
    "        else:\n",
    "            return 0\n",
    "        \n",
    "    def mark_gvkey_total_ok(row):\n",
    "        if row.ACU_OK & row.TCU_OK:\n",
    "            return '1'\n",
    "        elif row.AUP_OK & row.TCU_OK:\n",
    "            return '2'\n",
    "        elif row.ACU_OK & row.TUP_OK:\n",
    "            return '3'\n",
    "        elif row.AUP_OK & row.TUP_OK:\n",
    "            return '4'\n",
    "        else:\n",
    "            return '0'\n",
    "    drop_name_lst = []\n",
    "    for part in ['A', 'T']:\n",
    "        for ent in ['CU', 'UP']:\n",
    "            key = part+ent\n",
    "            merged_raw[key+'_OK'] = merged_raw.apply(mark_gvkey_ok, key=key, axis=1)\n",
    "            drop_name_lst += [key+'_OK']\n",
    "            \n",
    "    merged_raw['GVKEY_OVERALL'] = merged_raw.apply(mark_gvkey_total_ok, axis=1)\n",
    "    \n",
    "    merged_raw.drop(drop_name_lst, axis=1) # drop \"xx_ok\" variables\n",
    "    \n",
    "    print('Number of Conditions: \\n', merged_raw['GVKEY_OVERALL'].value_counts(),'\\n')\n",
    "    return merged_raw"
   ]
  },
  {
   "cell_type": "markdown",
   "metadata": {},
   "source": [
    "here I simplify the condition.\n",
    "\n",
    "Since if the GVKEY of direct participants are exist, we will use the GVKEY of them instead of the GVKEY of their ultimate parents.\n",
    "\n",
    "So, the simplier version of the gvkey condition is:\n",
    "\n",
    "| ACU ok | AUP  ok | TCU ok | TUP ok | mark as                                           |\n",
    "|------------------|-------------------|------------------|-------------------|---------------------------------------------------|\n",
    "| 1                | 1                 | 1                | 1                 | 1                                                 |\n",
    "| 1                | 1                 | 1                | 0                 | 1                                                 |\n",
    "| 1                | 1                 | 0                | 1                 | 3                                                 |\n",
    "| 1                | 0                 | 1                | 1                 | 1                                                 |\n",
    "| 1                | 0                 | 1                | 0                 | 1                                                 |\n",
    "| 1                | 0                 | 0                | 1                 | 3                                                 |\n",
    "| 0                | 1                 | 1                | 1                 | 2                                                 |\n",
    "| 0                | 1                 | 1                | 0                 | 2                                                 |\n",
    "| 0                | 1                 | 0                | 1                 | 4                                                 |\n",
    "|                  |                   |                  |                   | all other combination is unanalysiable, mark as 0 |\n",
    "\n"
   ]
  },
  {
   "cell_type": "code",
   "execution_count": 53,
   "metadata": {
    "ExecuteTime": {
     "end_time": "2021-09-16T16:29:01.522336Z",
     "start_time": "2021-09-16T16:29:01.515049Z"
    }
   },
   "outputs": [
    {
     "ename": "NameError",
     "evalue": "name 'merged_raw' is not defined",
     "output_type": "error",
     "traceback": [
      "\u001b[0;31m---------------------------------------------------------------------------\u001b[0m",
      "\u001b[0;31mNameError\u001b[0m                                 Traceback (most recent call last)",
      "\u001b[0;32m<ipython-input-53-5057244eb0cf>\u001b[0m in \u001b[0;36m<module>\u001b[0;34m\u001b[0m\n\u001b[0;32m----> 1\u001b[0;31m \u001b[0mmerged_raw\u001b[0m\u001b[0;34m[\u001b[0m\u001b[0mmerged_raw\u001b[0m\u001b[0;34m[\u001b[0m\u001b[0;34m'GVKEY_OVERALL'\u001b[0m\u001b[0;34m]\u001b[0m \u001b[0;34m!=\u001b[0m \u001b[0;34m'0'\u001b[0m \u001b[0;34m]\u001b[0m\u001b[0;34m.\u001b[0m\u001b[0msample\u001b[0m\u001b[0;34m(\u001b[0m\u001b[0;36m3\u001b[0m\u001b[0;34m)\u001b[0m\u001b[0;34m.\u001b[0m\u001b[0mT\u001b[0m\u001b[0;34m\u001b[0m\u001b[0;34m\u001b[0m\u001b[0m\n\u001b[0m",
      "\u001b[0;31mNameError\u001b[0m: name 'merged_raw' is not defined"
     ]
    }
   ],
   "source": [
    "\n",
    "merged_raw[merged_raw['GVKEY_OVERALL'] != '0' ].sample(3).T"
   ]
  },
  {
   "cell_type": "code",
   "execution_count": 126,
   "metadata": {
    "ExecuteTime": {
     "end_time": "2021-09-14T01:34:25.025245Z",
     "start_time": "2021-09-14T01:33:40.226783Z"
    }
   },
   "outputs": [],
   "source": []
  },
  {
   "cell_type": "code",
   "execution_count": 127,
   "metadata": {
    "ExecuteTime": {
     "end_time": "2021-09-14T01:34:25.087525Z",
     "start_time": "2021-09-14T01:34:25.029005Z"
    }
   },
   "outputs": [
    {
     "data": {
      "text/plain": [
       "0    273072\n",
       "3      6784\n",
       "1      4938\n",
       "4      3415\n",
       "2      1625\n",
       "Name: GVKEY_OVERALL, dtype: int64"
      ]
     },
     "execution_count": 127,
     "metadata": {},
     "output_type": "execute_result"
    }
   ],
   "source": []
  },
  {
   "cell_type": "code",
   "execution_count": 128,
   "metadata": {
    "ExecuteTime": {
     "end_time": "2021-09-14T01:34:33.949974Z",
     "start_time": "2021-09-14T01:34:28.687933Z"
    }
   },
   "outputs": [],
   "source": [
    "merged_raw.to_pickle(pjoin(tmp_data_path , f'max_master1_{s_year}_{e_year}.pickle'))"
   ]
  },
  {
   "cell_type": "markdown",
   "metadata": {},
   "source": [
    "# only keep some var\n",
    "\n",
    "merged_raw['GVKEY_OVERALL'] must be [1,2,3,4]; and drop other help variables (Only contain name_lst + AGVKEY + TGVKEY)\n"
   ]
  },
  {
   "cell_type": "code",
   "execution_count": 132,
   "metadata": {
    "ExecuteTime": {
     "end_time": "2021-09-14T01:35:48.034241Z",
     "start_time": "2021-09-14T01:35:48.027451Z"
    }
   },
   "outputs": [],
   "source": [
    "def gvkey_filter_a(row):\n",
    "    if row['GVKEY_OVERALL'] in ['1', '3']:\n",
    "        return row['GVKEY_'+'ACU']\n",
    "    elif row['GVKEY_OVERALL'] in ['2', '4']:\n",
    "        return row['GVKEY_'+'AUP']\n",
    "    \n",
    "    \n",
    "def gvkey_filter_t(row):\n",
    "    if row['GVKEY_OVERALL'] in ['1', '2']:\n",
    "        return row['GVKEY_'+'TCU']\n",
    "    elif row['GVKEY_OVERALL'] in ['3', '4']:\n",
    "        return row['GVKEY_'+'TUP']\n",
    "\n",
    "        \n",
    "    "
   ]
  },
  {
   "cell_type": "code",
   "execution_count": 145,
   "metadata": {
    "ExecuteTime": {
     "end_time": "2021-09-14T01:41:54.652947Z",
     "start_time": "2021-09-14T01:41:54.423431Z"
    }
   },
   "outputs": [],
   "source": [
    "merged_raw_no0 = merged_raw[merged_raw['GVKEY_OVERALL'] != '0' ].copy()"
   ]
  },
  {
   "cell_type": "code",
   "execution_count": 146,
   "metadata": {
    "ExecuteTime": {
     "end_time": "2021-09-14T01:41:57.596217Z",
     "start_time": "2021-09-14T01:41:54.815437Z"
    }
   },
   "outputs": [],
   "source": [
    "merged_raw_no0['AGVKEY'] = merged_raw_no0.apply(gvkey_filter_a, axis=1)"
   ]
  },
  {
   "cell_type": "code",
   "execution_count": 147,
   "metadata": {
    "ExecuteTime": {
     "end_time": "2021-09-14T01:42:00.241748Z",
     "start_time": "2021-09-14T01:41:57.599929Z"
    }
   },
   "outputs": [],
   "source": [
    "merged_raw_no0['TGVKEY'] = merged_raw_no0.apply(gvkey_filter_t, axis=1)"
   ]
  },
  {
   "cell_type": "code",
   "execution_count": 144,
   "metadata": {
    "ExecuteTime": {
     "end_time": "2021-09-14T01:41:42.474778Z",
     "start_time": "2021-09-14T01:41:42.468189Z"
    }
   },
   "outputs": [],
   "source": [
    "keep_lst = [\n",
    "    'ACU', 'ASIC2', 'ABL', 'ANL', 'APUBC', 'AUP', 'AUPSIC', 'AUPBL', 'AUPNAMES', 'AUPPUB',\n",
    "    'BLOCK','CREEP','DA','DE','STATC','SYNOP','VAL','PCTACQ','PSOUGHTOWN','PSOUGHT','PHDA','PCTOWN','PSOUGHTT','PRIVATIZATION','DEAL_NO',\n",
    "    'TCU', 'TSIC2', 'TBL', 'TNL', 'TPUBC', 'TUP', 'TUPSIC', 'TUPBL', 'TUPNAMES', 'TUPPUB',\n",
    "    'AGVKEY', 'TGVKEY','GVKEY_OVERALL'\n",
    "] "
   ]
  },
  {
   "cell_type": "code",
   "execution_count": 148,
   "metadata": {
    "ExecuteTime": {
     "end_time": "2021-09-14T01:42:04.477659Z",
     "start_time": "2021-09-14T01:42:04.305077Z"
    }
   },
   "outputs": [],
   "source": [
    "merged = merged_raw_no0[keep_lst]"
   ]
  },
  {
   "cell_type": "code",
   "execution_count": 150,
   "metadata": {
    "ExecuteTime": {
     "end_time": "2021-09-14T01:42:20.273361Z",
     "start_time": "2021-09-14T01:42:20.269192Z"
    }
   },
   "outputs": [
    {
     "data": {
      "text/plain": [
       "(16762, 38)"
      ]
     },
     "execution_count": 150,
     "metadata": {},
     "output_type": "execute_result"
    }
   ],
   "source": [
    "merged.shape"
   ]
  },
  {
   "cell_type": "markdown",
   "metadata": {},
   "source": [
    "# Add 2 variables SIC and YEAR"
   ]
  },
  {
   "cell_type": "code",
   "execution_count": 152,
   "metadata": {
    "ExecuteTime": {
     "end_time": "2021-09-14T01:45:57.124039Z",
     "start_time": "2021-09-14T01:45:57.118853Z"
    }
   },
   "outputs": [],
   "source": [
    "def get_sic(df):\n",
    "    '''\n",
    "    df: the sdc table contains sic variable named as `ASIC2`\n",
    "    \n",
    "    '''\n",
    "    x = df.ASIC2.str.split('/')\n",
    "    x = x.transform(lambda x: x[0] if not isinstance(x, float) else np.nan)\n",
    "    df['SIC_A'] = x\n",
    "\n",
    "    x = df.ASIC2.str.split('/')\n",
    "    x = x.transform(lambda x: x[0] if not isinstance(x, float) else np.nan)\n",
    "    df['SIC_T'] = x\n",
    "    \n",
    "    return df"
   ]
  },
  {
   "cell_type": "code",
   "execution_count": 154,
   "metadata": {
    "ExecuteTime": {
     "end_time": "2021-09-14T01:46:08.544995Z",
     "start_time": "2021-09-14T01:46:08.531954Z"
    }
   },
   "outputs": [
    {
     "name": "stderr",
     "output_type": "stream",
     "text": [
      "<ipython-input-154-227b9d1f1244>:1: SettingWithCopyWarning: \n",
      "A value is trying to be set on a copy of a slice from a DataFrame.\n",
      "Try using .loc[row_indexer,col_indexer] = value instead\n",
      "\n",
      "See the caveats in the documentation: https://pandas.pydata.org/pandas-docs/stable/user_guide/indexing.html#returning-a-view-versus-a-copy\n",
      "  merged[\"YEAR\"] = merged.DA.dt.year\n"
     ]
    }
   ],
   "source": [
    "merged[\"YEAR\"] = merged.DA.dt.year"
   ]
  },
  {
   "cell_type": "code",
   "execution_count": 155,
   "metadata": {
    "ExecuteTime": {
     "end_time": "2021-09-14T01:47:03.053220Z",
     "start_time": "2021-09-14T01:47:02.769268Z"
    }
   },
   "outputs": [
    {
     "name": "stderr",
     "output_type": "stream",
     "text": [
      "<ipython-input-152-fd17d6ebba7f>:8: SettingWithCopyWarning: \n",
      "A value is trying to be set on a copy of a slice from a DataFrame.\n",
      "Try using .loc[row_indexer,col_indexer] = value instead\n",
      "\n",
      "See the caveats in the documentation: https://pandas.pydata.org/pandas-docs/stable/user_guide/indexing.html#returning-a-view-versus-a-copy\n",
      "  df['SIC_A'] = x\n",
      "<ipython-input-152-fd17d6ebba7f>:12: SettingWithCopyWarning: \n",
      "A value is trying to be set on a copy of a slice from a DataFrame.\n",
      "Try using .loc[row_indexer,col_indexer] = value instead\n",
      "\n",
      "See the caveats in the documentation: https://pandas.pydata.org/pandas-docs/stable/user_guide/indexing.html#returning-a-view-versus-a-copy\n",
      "  df['SIC_T'] = x\n"
     ]
    }
   ],
   "source": [
    "merged = get_sic(merged)"
   ]
  },
  {
   "cell_type": "code",
   "execution_count": 157,
   "metadata": {
    "ExecuteTime": {
     "end_time": "2021-09-14T01:47:14.445192Z",
     "start_time": "2021-09-14T01:47:14.187435Z"
    }
   },
   "outputs": [],
   "source": [
    "merged.to_pickle(pjoin(tmp_data_path , f'master1_{s_year}_{e_year}.pickle'))"
   ]
  },
  {
   "cell_type": "code",
   "execution_count": null,
   "metadata": {},
   "outputs": [],
   "source": []
  }
 ],
 "metadata": {
  "kernelspec": {
   "display_name": "GNN",
   "language": "python",
   "name": "gnn"
  },
  "language_info": {
   "codemirror_mode": {
    "name": "ipython",
    "version": 3
   },
   "file_extension": ".py",
   "mimetype": "text/x-python",
   "name": "python",
   "nbconvert_exporter": "python",
   "pygments_lexer": "ipython3",
   "version": "3.8.10"
  },
  "latex_envs": {
   "LaTeX_envs_menu_present": true,
   "autoclose": false,
   "autocomplete": true,
   "bibliofile": "biblio.bib",
   "cite_by": "apalike",
   "current_citInitial": 1,
   "eqLabelWithNumbers": true,
   "eqNumInitial": 1,
   "hotkeys": {
    "equation": "Ctrl-E",
    "itemize": "Ctrl-I"
   },
   "labels_anchors": false,
   "latex_user_defs": false,
   "report_style_numbering": false,
   "user_envs_cfg": false
  },
  "toc": {
   "base_numbering": 1,
   "nav_menu": {},
   "number_sections": true,
   "sideBar": true,
   "skip_h1_title": false,
   "title_cell": "Table of Contents",
   "title_sidebar": "Contents",
   "toc_cell": false,
   "toc_position": {},
   "toc_section_display": true,
   "toc_window_display": false
  }
 },
 "nbformat": 4,
 "nbformat_minor": 4
}
