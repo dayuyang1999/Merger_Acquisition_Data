{
 "cells": [
  {
   "cell_type": "code",
   "execution_count": 2,
   "metadata": {
    "ExecuteTime": {
     "end_time": "2021-09-13T23:48:55.469006Z",
     "start_time": "2021-09-13T23:48:54.713736Z"
    }
   },
   "outputs": [],
   "source": [
    "import pandas as pd\n",
    "import pickle\n",
    "import numpy as np\n",
    "import datetime \n",
    "from os.path import join as pjoin\n",
    "import os\n",
    "#import argparse\n",
    "#import yamlb"
   ]
  },
  {
   "cell_type": "code",
   "execution_count": 3,
   "metadata": {
    "ExecuteTime": {
     "end_time": "2021-09-13T23:48:55.480267Z",
     "start_time": "2021-09-13T23:48:55.472469Z"
    }
   },
   "outputs": [],
   "source": [
    "tmp_data_path =  './data/tmp'\n",
    "s_year = 1997\n",
    "e_year = 2020"
   ]
  },
  {
   "cell_type": "markdown",
   "metadata": {
    "ExecuteTime": {
     "end_time": "2021-09-13T23:50:21.135890Z",
     "start_time": "2021-09-13T23:50:21.128265Z"
    }
   },
   "source": [
    "# import data\n",
    "\n",
    "3 groups of data\n",
    "- bridge 1: wrds bridge\n",
    "- bridge 2: evans bridge\n",
    "- SDC MA data"
   ]
  },
  {
   "cell_type": "code",
   "execution_count": 17,
   "metadata": {
    "ExecuteTime": {
     "end_time": "2021-09-13T23:51:30.782143Z",
     "start_time": "2021-09-13T23:51:30.588646Z"
    }
   },
   "outputs": [],
   "source": [
    "# bridge 1\n",
    "wrds_bridge = pd.read_csv('./data/wrds_bridge.csv', header=0, engine=None)"
   ]
  },
  {
   "cell_type": "code",
   "execution_count": 18,
   "metadata": {
    "ExecuteTime": {
     "end_time": "2021-09-13T23:51:30.795593Z",
     "start_time": "2021-09-13T23:51:30.791325Z"
    }
   },
   "outputs": [],
   "source": [
    "# rename \n",
    "\n",
    "wrds_bridge.rename(columns={x: x.replace(' ', '_').upper().strip() for x in wrds_bridge.columns}, inplace=True)"
   ]
  },
  {
   "cell_type": "code",
   "execution_count": 19,
   "metadata": {
    "ExecuteTime": {
     "end_time": "2021-09-13T23:51:30.985549Z",
     "start_time": "2021-09-13T23:51:30.979075Z"
    }
   },
   "outputs": [],
   "source": [
    "# for now, we just need 4 columns\n",
    "\n",
    "wrds_bridge = wrds_bridge[['CUSIP', 'GVKEY', 'LINKDT', 'LINKENDDT', 'CONM']]"
   ]
  },
  {
   "cell_type": "code",
   "execution_count": 20,
   "metadata": {
    "ExecuteTime": {
     "end_time": "2021-09-13T23:51:31.184965Z",
     "start_time": "2021-09-13T23:51:31.172944Z"
    }
   },
   "outputs": [
    {
     "data": {
      "text/html": [
       "<div>\n",
       "<style scoped>\n",
       "    .dataframe tbody tr th:only-of-type {\n",
       "        vertical-align: middle;\n",
       "    }\n",
       "\n",
       "    .dataframe tbody tr th {\n",
       "        vertical-align: top;\n",
       "    }\n",
       "\n",
       "    .dataframe thead th {\n",
       "        text-align: right;\n",
       "    }\n",
       "</style>\n",
       "<table border=\"1\" class=\"dataframe\">\n",
       "  <thead>\n",
       "    <tr style=\"text-align: right;\">\n",
       "      <th></th>\n",
       "      <th>CUSIP</th>\n",
       "      <th>GVKEY</th>\n",
       "      <th>LINKDT</th>\n",
       "      <th>LINKENDDT</th>\n",
       "      <th>CONM</th>\n",
       "    </tr>\n",
       "  </thead>\n",
       "  <tbody>\n",
       "    <tr>\n",
       "      <th>22780</th>\n",
       "      <td>05459C108</td>\n",
       "      <td>62690</td>\n",
       "      <td>04/24/1996</td>\n",
       "      <td>12/29/2000</td>\n",
       "      <td>AXENT TECHNOLOGIES INC</td>\n",
       "    </tr>\n",
       "    <tr>\n",
       "      <th>22640</th>\n",
       "      <td>P36209107</td>\n",
       "      <td>62437</td>\n",
       "      <td>04/30/1996</td>\n",
       "      <td>01/27/2006</td>\n",
       "      <td>ELAMEX SA DE CV</td>\n",
       "    </tr>\n",
       "    <tr>\n",
       "      <th>18905</th>\n",
       "      <td>03814L103</td>\n",
       "      <td>28740</td>\n",
       "      <td>09/30/1993</td>\n",
       "      <td>12/12/2000</td>\n",
       "      <td>APPLIED BIOMETRICS INC</td>\n",
       "    </tr>\n",
       "  </tbody>\n",
       "</table>\n",
       "</div>"
      ],
      "text/plain": [
       "           CUSIP  GVKEY      LINKDT   LINKENDDT                    CONM\n",
       "22780  05459C108  62690  04/24/1996  12/29/2000  AXENT TECHNOLOGIES INC\n",
       "22640  P36209107  62437  04/30/1996  01/27/2006         ELAMEX SA DE CV\n",
       "18905  03814L103  28740  09/30/1993  12/12/2000  APPLIED BIOMETRICS INC"
      ]
     },
     "execution_count": 20,
     "metadata": {},
     "output_type": "execute_result"
    }
   ],
   "source": [
    "# see data structure\n",
    "wrds_bridge.sample(3)\n"
   ]
  },
  {
   "cell_type": "code",
   "execution_count": 21,
   "metadata": {
    "ExecuteTime": {
     "end_time": "2021-09-13T23:51:31.456021Z",
     "start_time": "2021-09-13T23:51:31.393316Z"
    }
   },
   "outputs": [],
   "source": [
    "# bridge 2\n",
    "evans_bridge = pd.read_csv('./data/evans_bridge.csv')"
   ]
  },
  {
   "cell_type": "code",
   "execution_count": 22,
   "metadata": {
    "ExecuteTime": {
     "end_time": "2021-09-13T23:51:31.631298Z",
     "start_time": "2021-09-13T23:51:31.613570Z"
    }
   },
   "outputs": [
    {
     "data": {
      "text/html": [
       "<div>\n",
       "<style scoped>\n",
       "    .dataframe tbody tr th:only-of-type {\n",
       "        vertical-align: middle;\n",
       "    }\n",
       "\n",
       "    .dataframe tbody tr th {\n",
       "        vertical-align: top;\n",
       "    }\n",
       "\n",
       "    .dataframe thead th {\n",
       "        text-align: right;\n",
       "    }\n",
       "</style>\n",
       "<table border=\"1\" class=\"dataframe\">\n",
       "  <thead>\n",
       "    <tr style=\"text-align: right;\">\n",
       "      <th></th>\n",
       "      <th>DealNumber</th>\n",
       "      <th>agvkey</th>\n",
       "      <th>tgvkey</th>\n",
       "    </tr>\n",
       "  </thead>\n",
       "  <tbody>\n",
       "    <tr>\n",
       "      <th>119093</th>\n",
       "      <td>2725271040</td>\n",
       "      <td>NaN</td>\n",
       "      <td>113490.0</td>\n",
       "    </tr>\n",
       "    <tr>\n",
       "      <th>13898</th>\n",
       "      <td>690558020</td>\n",
       "      <td>25533.0</td>\n",
       "      <td>NaN</td>\n",
       "    </tr>\n",
       "    <tr>\n",
       "      <th>50588</th>\n",
       "      <td>1349614020</td>\n",
       "      <td>10247.0</td>\n",
       "      <td>28930.0</td>\n",
       "    </tr>\n",
       "  </tbody>\n",
       "</table>\n",
       "</div>"
      ],
      "text/plain": [
       "        DealNumber   agvkey    tgvkey\n",
       "119093  2725271040      NaN  113490.0\n",
       "13898    690558020  25533.0       NaN\n",
       "50588   1349614020  10247.0   28930.0"
      ]
     },
     "execution_count": 22,
     "metadata": {},
     "output_type": "execute_result"
    }
   ],
   "source": [
    "evans_bridge.sample(3)"
   ]
  },
  {
   "cell_type": "code",
   "execution_count": 23,
   "metadata": {
    "ExecuteTime": {
     "end_time": "2021-09-13T23:51:33.111335Z",
     "start_time": "2021-09-13T23:51:33.107759Z"
    }
   },
   "outputs": [],
   "source": [
    "# AF - BJ\n",
    "\n",
    "name_lst = [\n",
    "    'ACU', 'ASIC2', 'ABL', 'ANL', 'APUBC', 'AUP', 'AUPSIC', 'AUPBL', 'AUPNAMES', 'AUPPUB',\n",
    "    'BLOCK','CREEP','DA','DE','STATC','SYNOP','VAL','PCTACQ','PSOUGHTOWN','PSOUGHT','PHDA','PCTOWN','PSOUGHTT','PRIVATIZATION','DEAL_NO',\n",
    "    'TCU', 'TSIC2', 'TBL', 'TNL', 'TPUBC', 'TUP', 'TUPSIC', 'TUPBL', 'TUPNAMES', 'TUPPUB'    \n",
    "]"
   ]
  },
  {
   "cell_type": "markdown",
   "metadata": {},
   "source": [
    "before concat all data, manually convert all date on excel file to \"YY-mm-dd\" format.\n",
    "\n",
    "Guide: select all date var --> right-click --> Cell format --> Date --> 2012-03-14 --> OK\n",
    "\n",
    "![](https://cdn.mathpix.com/snip/images/58hcVJ3qFlC446Ns4SaJKtm-UroEqUKyqu4oCnTWhKY.original.fullsize.png)"
   ]
  },
  {
   "cell_type": "code",
   "execution_count": 16,
   "metadata": {
    "ExecuteTime": {
     "end_time": "2021-09-13T23:51:11.906256Z",
     "start_time": "2021-09-13T23:51:11.900840Z"
    }
   },
   "outputs": [],
   "source": [
    "def concat_data(st, end):\n",
    "    df_l = []\n",
    "    for year in range(st, end+1, 1):\n",
    "        df = pd.read_excel(f\"./data/SDC/{year}.xlsx\", header=1, engine='openpyxl')\n",
    "        #df = df.drop(df.columns[4], axis=1) # this column is duplicate with column 3 \n",
    "        #print(len(df.columns))\n",
    "        df.columns = name_lst\n",
    "        \n",
    "        # check date var loading ok\n",
    "        check = df[df['DA'] == datetime.time(0, 0)]\n",
    "        if check.shape[0] == 0 :\n",
    "            print('date variables loading ok \\n')\n",
    "        else:\n",
    "            print('date variables loading fail, please manually check. number of failed records: ', check.shape[0])\n",
    "        \n",
    "        df_l.append(df)\n",
    "        print(f'{year} data shape:', df.shape)\n",
    "        del df\n",
    "    df = pd.concat(df_l)\n",
    "    return df"
   ]
  },
  {
   "cell_type": "code",
   "execution_count": 25,
   "metadata": {
    "ExecuteTime": {
     "end_time": "2021-09-13T23:52:19.949325Z",
     "start_time": "2021-09-13T23:52:17.482633Z"
    }
   },
   "outputs": [],
   "source": [
    "# You can run code start from here if merging sdf_df is unnecessary\n",
    "\n",
    "if os.path.isfile(pjoin(tmp_data_path , f'sdc_{s_year}_{e_year}.pickle')):\n",
    "    sdc_df = pd.read_pickle(pjoin(tmp_data_path , f'sdc_{s_year}_{e_year}.pickle'))\n",
    "else:\n",
    "    sdc_df = concat_data(s_year, e_year)\n",
    "    sdc_df = sdc_df.reset_index(drop=True) \n",
    "    print(f'saving sdc table ranging from {s_year} to {e_year} ...')\n",
    "    sdc_df.to_pickle(pjoin(tmp_data_path , f'sdc_{s_year}_{e_year}.pickle'))"
   ]
  },
  {
   "cell_type": "markdown",
   "metadata": {
    "ExecuteTime": {
     "end_time": "2021-09-13T23:49:33.231799Z",
     "start_time": "2021-09-13T23:49:33.227336Z"
    }
   },
   "source": [
    "## Data Preparing\n",
    "\n",
    "1. delete obs either `ACU` or `TCU` in full_df is NAs (otherwise we cannot identify the participants of deals)\n",
    "2. match the format of: time, CUSIP, GVKEY to be the same across three dataset (otherwise may trigger error when merging tables)\n",
    "    - Time: Timestap\n",
    "    - CUSIP / GVKEY: string\n",
    "    - dealnum: string\n",
    "\n"
   ]
  },
  {
   "cell_type": "markdown",
   "metadata": {
    "ExecuteTime": {
     "end_time": "2021-09-13T23:49:34.408935Z",
     "start_time": "2021-09-13T23:49:34.404902Z"
    }
   },
   "source": [
    "###  sdc data\n",
    "\n",
    "1. drop where either `ACU` or `TCU` is Nas\n",
    "1. fill DEAL_NO NAs to -1\n",
    "1. change all identifier to `str`; including: `ACU`, `AUP`, `TCU`, `TUP`, `DEAL_NO`, `GVKEY`a"
   ]
  },
  {
   "cell_type": "code",
   "execution_count": 26,
   "metadata": {
    "ExecuteTime": {
     "end_time": "2021-09-13T23:52:28.971962Z",
     "start_time": "2021-09-13T23:52:26.732171Z"
    }
   },
   "outputs": [],
   "source": [
    "sdc_df = sdc_df.dropna(subset=['ACU','TCU']) # actually nothing drops\n",
    "# deal num\n",
    "sdc_df['DEAL_NO'] = sdc_df['DEAL_NO'].fillna(-1)\n",
    "sdc_df['DEAL_NO'] = sdc_df['DEAL_NO'].astype(str)\n",
    "sdc_df['TCU']  = sdc_df['TCU'].astype('str')\n",
    "sdc_df['ACU']  = sdc_df['ACU'].astype('str')\n",
    "sdc_df['TUP']  = sdc_df['TUP'].astype('str')\n",
    "sdc_df['AUP']  = sdc_df['AUP'].astype('str')"
   ]
  },
  {
   "cell_type": "markdown",
   "metadata": {},
   "source": [
    "### bridges data\n",
    "\n",
    "1. match variable type for merging\n",
    "    1. for CUSIP/GVKEY/DEALNUM, all convert to `string`; \n",
    "        - do not keep 0s at front \n",
    "            - e.g. `002030` will be curtail to `2030`\n",
    "    2. for time, all convert to pandas `Timestamp` instance\n",
    "2. drop na or fill na\n"
   ]
  },
  {
   "cell_type": "markdown",
   "metadata": {},
   "source": [
    "#### evans_bridge\n",
    "\n",
    "for evans_brdge, load as float:\n",
    "1. fill na as -1\n",
    "2. convert all var to integer\n",
    "3. convert all var to string\n",
    "\n",
    "\n",
    "**so the GVKEY has no 0 at front**"
   ]
  },
  {
   "cell_type": "code",
   "execution_count": 27,
   "metadata": {
    "ExecuteTime": {
     "end_time": "2021-09-13T23:52:29.805212Z",
     "start_time": "2021-09-13T23:52:28.975733Z"
    }
   },
   "outputs": [],
   "source": [
    "evans_bridge.DealNumber = evans_bridge.DealNumber.fillna(-1)\n",
    "evans_bridge.tgvkey = evans_bridge.tgvkey.fillna(-1)\n",
    "evans_bridge.agvkey = evans_bridge.agvkey.fillna(-1)\n",
    "\n",
    "\n",
    "evans_bridge = evans_bridge.astype('int')\n",
    "evans_bridge = evans_bridge.astype('str')\n"
   ]
  },
  {
   "cell_type": "markdown",
   "metadata": {},
   "source": [
    "#### wrds_bridge\n",
    "\n",
    "- `GVKEY` and `CUSIP`, load as int; so just convert to str\n",
    "- no need to worry about NA"
   ]
  },
  {
   "cell_type": "code",
   "execution_count": 28,
   "metadata": {
    "ExecuteTime": {
     "end_time": "2021-09-13T23:52:46.432975Z",
     "start_time": "2021-09-13T23:52:46.361851Z"
    }
   },
   "outputs": [],
   "source": [
    "wrds_bridge[['GVKEY', 'CUSIP']] = wrds_bridge[['GVKEY', 'CUSIP']].applymap(str)"
   ]
  },
  {
   "cell_type": "code",
   "execution_count": 29,
   "metadata": {
    "ExecuteTime": {
     "end_time": "2021-09-13T23:52:50.172727Z",
     "start_time": "2021-09-13T23:52:49.432366Z"
    }
   },
   "outputs": [],
   "source": [
    "# covvert 9 digit to 6 digit; \n",
    "if len(wrds_bridge.CUSIP[0]) == 9:\n",
    "    wrds_bridge['CUSIP'] = wrds_bridge.apply(lambda row: row['CUSIP'][:6], axis=1)"
   ]
  },
  {
   "cell_type": "markdown",
   "metadata": {},
   "source": [
    "since there are lots of \"E\" in LINKENDDT(still effective presently), LINKENDDT was read as str;\n",
    "\n",
    "we replace \"E\" as '12/31/2099' (string type), and then convert to pandas timestamp"
   ]
  },
  {
   "cell_type": "code",
   "execution_count": 30,
   "metadata": {
    "ExecuteTime": {
     "end_time": "2021-09-13T23:53:04.541688Z",
     "start_time": "2021-09-13T23:53:04.315198Z"
    }
   },
   "outputs": [],
   "source": [
    "wrds_bridge.LINKENDDT[wrds_bridge.LINKENDDT == 'E'] = '12/31/2099'\n",
    "wrds_bridge['LINKENDDT'] = pd.to_datetime(wrds_bridge['LINKENDDT'],format = '%m/%d/%Y' )\n",
    "wrds_bridge['LINKDT'] = pd.to_datetime(wrds_bridge['LINKDT'])"
   ]
  },
  {
   "cell_type": "markdown",
   "metadata": {},
   "source": [
    "# Types of Takeover\n",
    "\n",
    "\n",
    "## Public?\n",
    "- Although `GVKEY` is mostly for public firm, but some private firm do have `GVKEY` as well.\n",
    "- However, TNIC would only cover Public firms.\n",
    "\n",
    "Which means, we could only analysis the following conditions:\n",
    "\n",
    "| APUBC == Public? | AUPPUB == Public? | TPUBC == Public? | TUPPUB == Public? | mark as                                           |\n",
    "|------------------|-------------------|------------------|-------------------|---------------------------------------------------|\n",
    "| 1                | 1                 | 1                | 1                 | 1                                                 |\n",
    "| 1                | 1                 | 1                | 0                 | 2                                                 |\n",
    "| 1                | 1                 | 0                | 1                 | 3                                                 |\n",
    "| 1                | 0                 | 1                | 1                 | 4                                                 |\n",
    "| 1                | 0                 | 1                | 0                 | 5                                                 |\n",
    "| 1                | 0                 | 0                | 1                 | 6                                                 |\n",
    "| 0                | 1                 | 1                | 1                 | 7                                                 |\n",
    "| 0                | 1                 | 1                | 0                 | 8                                                 |\n",
    "| 0                | 1                 | 0                | 1                 | 9                                                 |\n",
    "|                  |                   |                  |                   | all other combination is unanalysiable, mark as 0 |\n",
    "\n",
    "The analysis the ratio refer to [Appendix 1](./Appendix1_data_explore.ipynb)\n",
    "\n",
    "**Conclusion**\n",
    "- `3` and `9` are one type of MA\n",
    "- `1` and `7` are another type of MA\n",
    "- drop others\n",
    "\n",
    "\n",
    "\n",
    "\n"
   ]
  },
  {
   "cell_type": "code",
   "execution_count": 31,
   "metadata": {
    "ExecuteTime": {
     "end_time": "2021-09-13T23:53:39.051324Z",
     "start_time": "2021-09-13T23:53:39.044339Z"
    }
   },
   "outputs": [],
   "source": [
    "def mark_if_public(row, **kwargs):\n",
    "    if (row.APUBC == 'Public') &  (row.AUPPUB == 'Public') & (row.TPUBC == 'Public') & (row.TUPPUB == 'Public'):\n",
    "        return '1'\n",
    "    elif (row.APUBC == 'Public') &  (row.AUPPUB == 'Public') & (row.TPUBC == 'Public') & (row.TUPPUB != 'Public'):\n",
    "        return '2'\n",
    "    elif (row.APUBC == 'Public') &  (row.AUPPUB == 'Public') & (row.TPUBC != 'Public') & (row.TUPPUB == 'Public'):\n",
    "        return '3'\n",
    "    elif (row.APUBC == 'Public') &  (row.AUPPUB != 'Public') & (row.TPUBC == 'Public') & (row.TUPPUB == 'Public'):\n",
    "        return '4'\n",
    "    elif (row.APUBC == 'Public') &  (row.AUPPUB != 'Public') & (row.TPUBC == 'Public') & (row.TUPPUB != 'Public'):\n",
    "        return '5'\n",
    "    elif (row.APUBC == 'Public') &  (row.AUPPUB != 'Public') & (row.TPUBC != 'Public') & (row.TUPPUB == 'Public'):\n",
    "        return '6'\n",
    "    elif (row.APUBC != 'Public') &  (row.AUPPUB == 'Public') & (row.TPUBC == 'Public') & (row.TUPPUB == 'Public'):\n",
    "        return '7'\n",
    "    elif (row.APUBC != 'Public') &  (row.AUPPUB == 'Public') & (row.TPUBC == 'Public') & (row.TUPPUB != 'Public'):\n",
    "        return '8'\n",
    "    elif (row.APUBC != 'Public') &  (row.AUPPUB == 'Public') & (row.TPUBC != 'Public') & (row.TUPPUB == 'Public'):\n",
    "        return '9'\n",
    "    else:\n",
    "        return '0'"
   ]
  },
  {
   "cell_type": "code",
   "execution_count": 32,
   "metadata": {
    "ExecuteTime": {
     "end_time": "2021-09-13T23:56:03.224759Z",
     "start_time": "2021-09-13T23:53:53.460640Z"
    }
   },
   "outputs": [],
   "source": [
    "sdc_df['PUB_COND'] = sdc_df.apply(mark_if_public, axis=1)"
   ]
  },
  {
   "cell_type": "code",
   "execution_count": 34,
   "metadata": {
    "ExecuteTime": {
     "end_time": "2021-09-13T23:56:47.416370Z",
     "start_time": "2021-09-13T23:56:46.946843Z"
    }
   },
   "outputs": [],
   "source": [
    "# sdc_df_public =sdc_df[sdc_df['PUB_COND'].isin(['1','3','7','9'])].copy()"
   ]
  },
  {
   "cell_type": "code",
   "execution_count": 35,
   "metadata": {
    "ExecuteTime": {
     "end_time": "2021-09-13T23:56:49.378514Z",
     "start_time": "2021-09-13T23:56:49.371700Z"
    }
   },
   "outputs": [],
   "source": [
    "def save_df_to_pickle(df, name):\n",
    "    print(f'pickle data shape = ', df.shape)\n",
    "    df.to_pickle(pjoin(tmp_data_path , f'{name}_{s_year}_{e_year}.pickle'))\n",
    "    "
   ]
  },
  {
   "cell_type": "code",
   "execution_count": 36,
   "metadata": {
    "ExecuteTime": {
     "end_time": "2021-09-13T23:56:50.585244Z",
     "start_time": "2021-09-13T23:56:49.807963Z"
    }
   },
   "outputs": [
    {
     "name": "stdout",
     "output_type": "stream",
     "text": [
      "pickle merged data with public info from 1997 to 2020 =  (48867, 36)\n"
     ]
    }
   ],
   "source": [
    "# print(f'pickle merged data with public info from {s_year} to {e_year} = ',sdc_df_public.shape)\n",
    "# sdc_df_public.to_pickle(pjoin(tmp_data_path , f'sdc_df_public_{s_year}_{e_year}.pickle'))"
   ]
  },
  {
   "cell_type": "code",
   "execution_count": 87,
   "metadata": {
    "ExecuteTime": {
     "end_time": "2021-09-14T00:45:51.184737Z",
     "start_time": "2021-09-14T00:45:51.178585Z"
    }
   },
   "outputs": [],
   "source": [
    "name_lst += ['PUB_COND']"
   ]
  },
  {
   "cell_type": "markdown",
   "metadata": {},
   "source": [
    "# STATC "
   ]
  },
  {
   "cell_type": "code",
   "execution_count": 40,
   "metadata": {
    "ExecuteTime": {
     "end_time": "2021-09-14T00:04:49.463161Z",
     "start_time": "2021-09-14T00:04:49.426504Z"
    }
   },
   "outputs": [
    {
     "data": {
      "text/plain": [
       "C     226123\n",
       "P      24031\n",
       "I      11278\n",
       "W       6036\n",
       "UN      2934\n",
       "S       2243\n",
       "DR       227\n",
       "SW       162\n",
       "IW        66\n",
       "R         38\n",
       "PC         8\n",
       "L          3\n",
       "U          1\n",
       "Name: STATC, dtype: int64"
      ]
     },
     "execution_count": 40,
     "metadata": {},
     "output_type": "execute_result"
    }
   ],
   "source": [
    "sdc_df.STATC.value_counts()"
   ]
  },
  {
   "cell_type": "code",
   "execution_count": 44,
   "metadata": {
    "ExecuteTime": {
     "end_time": "2021-09-14T00:05:50.944277Z",
     "start_time": "2021-09-14T00:05:50.231298Z"
    }
   },
   "outputs": [],
   "source": [
    "sdc_df_comp=sdc_df[sdc_df.STATC.isin(['C'])].copy()"
   ]
  },
  {
   "cell_type": "code",
   "execution_count": 45,
   "metadata": {
    "ExecuteTime": {
     "end_time": "2021-09-14T00:05:54.297594Z",
     "start_time": "2021-09-14T00:05:50.949009Z"
    }
   },
   "outputs": [
    {
     "name": "stdout",
     "output_type": "stream",
     "text": [
      "pickle data shape =  (226123, 36)\n"
     ]
    }
   ],
   "source": [
    "save_df_to_pickle(sdc_df_comp, 'sdc_public_statc')"
   ]
  },
  {
   "cell_type": "markdown",
   "metadata": {},
   "source": [
    "# Merge GVKEY"
   ]
  },
  {
   "cell_type": "code",
   "execution_count": 47,
   "metadata": {
    "ExecuteTime": {
     "end_time": "2021-09-14T00:07:44.887234Z",
     "start_time": "2021-09-14T00:07:44.873882Z"
    }
   },
   "outputs": [],
   "source": [
    "#before merge, check all merge variables are in the same type\n",
    "\n",
    "# gvkey, cusip match\n",
    "\n",
    "assert type(wrds_bridge.GVKEY[0]) == type(wrds_bridge.CUSIP[0]) == type(evans_bridge.agvkey[0]) \n",
    "\n",
    "assert type(evans_bridge.agvkey[0]) == type(evans_bridge.tgvkey[0]) == type(sdc_df_comp.ACU[0]) == type(sdc_df_comp.TCU[0])\n",
    "        \n",
    "# deal number match\n",
    "\n",
    "assert type(sdc_df_comp.DEAL_NO[0]) == type(evans_bridge.DealNumber[0])\n",
    "\n",
    "# time match\n",
    "\n",
    "assert type(sdc_df_comp.DA[0]) == type(sdc_df_comp.DE[0]) == type(wrds_bridge.LINKDT[0]) == type(wrds_bridge.LINKENDDT[0])\n",
    "    \n",
    "    "
   ]
  },
  {
   "cell_type": "markdown",
   "metadata": {},
   "source": [
    "## obtain GVKEY from linkings\n",
    "\n",
    "Rules:\n",
    "1. use WRDS linking table as primary table, EVANS as secondary\n",
    "2. first, use ACU and TCU to search GVKEY; If no result return, use AUP and TUP to search. If still no result return, this row has to be dropped.\n",
    "\n",
    "\n",
    "reason for rules refering to [Appendix 1](./Appendix1_data_explore.ipynb)\n",
    "\n",
    "+ save merged data to pickle before checking out Appendix 1!"
   ]
  },
  {
   "cell_type": "code",
   "execution_count": 48,
   "metadata": {
    "ExecuteTime": {
     "end_time": "2021-09-14T00:18:35.499120Z",
     "start_time": "2021-09-14T00:18:31.029572Z"
    }
   },
   "outputs": [],
   "source": [
    "# 1st, take care of Acquiror\n",
    "merged_w_a = sdc_df_comp.merge(wrds_bridge, left_on='ACU', right_on = 'CUSIP', how = 'left')\n",
    "merged_w_t = merged_w_a.merge(wrds_bridge, left_on='TCU', right_on = 'CUSIP', how = 'left')\n",
    "merged_w_ua = merged_w_t.merge(wrds_bridge, left_on='AUP', right_on = 'CUSIP', how = 'left')\n",
    "merged_w_ut = merged_w_ua.merge(wrds_bridge, left_on='TUP', right_on = 'CUSIP', how = 'left')\n",
    "\n"
   ]
  },
  {
   "cell_type": "markdown",
   "metadata": {},
   "source": [
    "## Remove self merge\n",
    "\n",
    "some time self merge self"
   ]
  },
  {
   "cell_type": "code",
   "execution_count": 53,
   "metadata": {
    "ExecuteTime": {
     "end_time": "2021-09-14T00:29:14.439707Z",
     "start_time": "2021-09-14T00:29:12.222408Z"
    }
   },
   "outputs": [],
   "source": [
    "merged_w_ut = merged_w_ut[merged_w_ut.ACU != merged_w_ut.TCU]"
   ]
  },
  {
   "cell_type": "code",
   "execution_count": 56,
   "metadata": {
    "ExecuteTime": {
     "end_time": "2021-09-14T00:29:43.321983Z",
     "start_time": "2021-09-14T00:29:43.007969Z"
    }
   },
   "outputs": [],
   "source": [
    "merged_w_ut = merged_w_ut.reset_index(drop=True)"
   ]
  },
  {
   "cell_type": "markdown",
   "metadata": {},
   "source": [
    "## Filter those Gvkey condition not ok"
   ]
  },
  {
   "cell_type": "code",
   "execution_count": 57,
   "metadata": {
    "ExecuteTime": {
     "end_time": "2021-09-14T00:29:48.432917Z",
     "start_time": "2021-09-14T00:29:48.429082Z"
    },
    "scrolled": false
   },
   "outputs": [
    {
     "data": {
      "text/plain": [
       "Index(['ACU', 'ASIC2', 'ABL', 'ANL', 'APUBC', 'AUP', 'AUPSIC', 'AUPBL',\n",
       "       'AUPNAMES', 'AUPPUB', 'BLOCK', 'CREEP', 'DA', 'DE', 'STATC', 'SYNOP',\n",
       "       'VAL', 'PCTACQ', 'PSOUGHTOWN', 'PSOUGHT', 'PHDA', 'PCTOWN', 'PSOUGHTT',\n",
       "       'PRIVATIZATION', 'DEAL_NO', 'TCU', 'TSIC2', 'TBL', 'TNL', 'TPUBC',\n",
       "       'TUP', 'TUPSIC', 'TUPBL', 'TUPNAMES', 'TUPPUB', 'PUB_COND', 'CUSIP_x',\n",
       "       'GVKEY_x', 'LINKDT_x', 'LINKENDDT_x', 'CONM_x', 'CUSIP_y', 'GVKEY_y',\n",
       "       'LINKDT_y', 'LINKENDDT_y', 'CONM_y', 'CUSIP_x', 'GVKEY_x', 'LINKDT_x',\n",
       "       'LINKENDDT_x', 'CONM_x', 'CUSIP_y', 'GVKEY_y', 'LINKDT_y',\n",
       "       'LINKENDDT_y', 'CONM_y'],\n",
       "      dtype='object')"
      ]
     },
     "execution_count": 57,
     "metadata": {},
     "output_type": "execute_result"
    }
   ],
   "source": [
    "merged_w_ut.columns"
   ]
  },
  {
   "cell_type": "code",
   "execution_count": 51,
   "metadata": {
    "ExecuteTime": {
     "end_time": "2021-09-14T00:25:56.274941Z",
     "start_time": "2021-09-14T00:25:56.270184Z"
    }
   },
   "outputs": [
    {
     "data": {
      "text/plain": [
       "Index(['CUSIP', 'GVKEY', 'LINKDT', 'LINKENDDT', 'CONM'], dtype='object')"
      ]
     },
     "execution_count": 51,
     "metadata": {},
     "output_type": "execute_result"
    }
   ],
   "source": [
    "wrds_bridge.columns"
   ]
  },
  {
   "cell_type": "code",
   "execution_count": 79,
   "metadata": {
    "ExecuteTime": {
     "end_time": "2021-09-14T00:43:39.165497Z",
     "start_time": "2021-09-14T00:43:39.159754Z"
    }
   },
   "outputs": [],
   "source": [
    "gvkey_name_list = []"
   ]
  },
  {
   "cell_type": "code",
   "execution_count": 80,
   "metadata": {
    "ExecuteTime": {
     "end_time": "2021-09-14T00:43:39.368850Z",
     "start_time": "2021-09-14T00:43:39.365695Z"
    }
   },
   "outputs": [],
   "source": [
    "for key in ['ACU','TCU','AUP','TUP']:\n",
    "    lst = [name+\"_\"+key for name in ['CUSIP', 'GVKEY', 'LINKDT', 'LINKENDDT', 'CONM'] ]\n",
    "#    print(len(lst))\n",
    "    gvkey_name_list += lst"
   ]
  },
  {
   "cell_type": "code",
   "execution_count": 82,
   "metadata": {
    "ExecuteTime": {
     "end_time": "2021-09-14T00:43:46.256457Z",
     "start_time": "2021-09-14T00:43:46.254045Z"
    }
   },
   "outputs": [],
   "source": [
    "assert len(gvkey_name_list) == 20"
   ]
  },
  {
   "cell_type": "code",
   "execution_count": 88,
   "metadata": {
    "ExecuteTime": {
     "end_time": "2021-09-14T00:46:01.469437Z",
     "start_time": "2021-09-14T00:46:01.466975Z"
    }
   },
   "outputs": [],
   "source": [
    "merged_name_list = name_lst + gvkey_name_list"
   ]
  },
  {
   "cell_type": "code",
   "execution_count": 89,
   "metadata": {
    "ExecuteTime": {
     "end_time": "2021-09-14T00:46:05.292077Z",
     "start_time": "2021-09-14T00:46:04.906398Z"
    }
   },
   "outputs": [],
   "source": [
    "merged_raw = merged_w_ut.copy()"
   ]
  },
  {
   "cell_type": "code",
   "execution_count": 91,
   "metadata": {
    "ExecuteTime": {
     "end_time": "2021-09-14T00:46:06.771166Z",
     "start_time": "2021-09-14T00:46:06.767651Z"
    }
   },
   "outputs": [],
   "source": [
    "merged_raw.columns = merged_name_list"
   ]
  },
  {
   "cell_type": "markdown",
   "metadata": {},
   "source": [
    "### filtering:\n",
    "\n",
    "the following conditions are marked as GVKEY merged successfully:\n",
    "\n",
    "`ok = (GVKEY Found in Bridge table) & (GVKEY in valid time period)`\n",
    "\n",
    "num of succcess condition = (C22 + C21) * (C22 + C21) = 9\n",
    "\n",
    "| ACU ok | AUP  ok | TCU ok | TUP ok | mark as                                           |\n",
    "|------------------|-------------------|------------------|-------------------|---------------------------------------------------|\n",
    "| 1                | 1                 | 1                | 1                 | 1                                                 |\n",
    "| 1                | 1                 | 1                | 0                 | 2                                                 |\n",
    "| 1                | 1                 | 0                | 1                 | 3                                                 |\n",
    "| 1                | 0                 | 1                | 1                 | 4                                                 |\n",
    "| 1                | 0                 | 1                | 0                 | 5                                                 |\n",
    "| 1                | 0                 | 0                | 1                 | 6                                                 |\n",
    "| 0                | 1                 | 1                | 1                 | 7                                                 |\n",
    "| 0                | 1                 | 1                | 0                 | 8                                                 |\n",
    "| 0                | 1                 | 0                | 1                 | 9                                                 |\n",
    "|                  |                   |                  |                   | all other combination is unanalysiable, mark as 0 |\n",
    "\n",
    "\n",
    "1. Target and Acquirer must at least successfully match with one table\n",
    "1. for those records (acquirer or target) that evans bridge did not much successfully, but wrds bridge matched successfully, confirm the `date accounced` of the deal falls in the effective time period of the linking. \n",
    "\n",
    "    why use `DA` instead of `DE`? since `DA` has less Nas\n",
    "    \n",
    "    \n",
    "* I chose to use wrds to be my primary linking. If two linking both matched, I will choose the result from wrds.\n"
   ]
  },
  {
   "cell_type": "code",
   "execution_count": 113,
   "metadata": {
    "ExecuteTime": {
     "end_time": "2021-09-14T01:02:31.986347Z",
     "start_time": "2021-09-14T01:02:31.978474Z"
    }
   },
   "outputs": [],
   "source": [
    "def mark_gvkey_ok(row, key):\n",
    "    '''\n",
    "    \n",
    "    '''\n",
    "#    print(row['GVKEY_'+key])\n",
    "    if pd.notna(row['GVKEY_'+key]) & (row['LINKDT_'+key] <= row['DA']) & (row['LINKENDDT_'+key] >= row['DA']):\n",
    "        return 1\n",
    "    else:\n",
    "        return 0\n",
    "    \n",
    "    "
   ]
  },
  {
   "cell_type": "code",
   "execution_count": 114,
   "metadata": {
    "ExecuteTime": {
     "end_time": "2021-09-14T01:04:51.588051Z",
     "start_time": "2021-09-14T01:02:37.535181Z"
    }
   },
   "outputs": [],
   "source": [
    "for part in ['A', 'T']:\n",
    "    for ent in ['CU', 'UP']:\n",
    "        key = part+ent\n",
    "        merged_raw[key+'_OK'] = merged_raw.apply(mark_gvkey_ok, key=key, axis=1)"
   ]
  },
  {
   "cell_type": "markdown",
   "metadata": {},
   "source": [
    "here I simplify the condition.\n",
    "\n",
    "Since if the GVKEY of direct participants are exist, we will use the GVKEY of them instead of the GVKEY of their ultimate parents.\n",
    "\n",
    "So, the simplier version of the gvkey condition is:\n",
    "\n",
    "| ACU ok | AUP  ok | TCU ok | TUP ok | mark as                                           |\n",
    "|------------------|-------------------|------------------|-------------------|---------------------------------------------------|\n",
    "| 1                | 1                 | 1                | 1                 | 1                                                 |\n",
    "| 1                | 1                 | 1                | 0                 | 1                                                 |\n",
    "| 1                | 1                 | 0                | 1                 | 3                                                 |\n",
    "| 1                | 0                 | 1                | 1                 | 1                                                 |\n",
    "| 1                | 0                 | 1                | 0                 | 1                                                 |\n",
    "| 1                | 0                 | 0                | 1                 | 3                                                 |\n",
    "| 0                | 1                 | 1                | 1                 | 2                                                 |\n",
    "| 0                | 1                 | 1                | 0                 | 2                                                 |\n",
    "| 0                | 1                 | 0                | 1                 | 4                                                 |\n",
    "|                  |                   |                  |                   | all other combination is unanalysiable, mark as 0 |\n",
    "\n"
   ]
  },
  {
   "cell_type": "code",
   "execution_count": 125,
   "metadata": {
    "ExecuteTime": {
     "end_time": "2021-09-14T01:33:39.727997Z",
     "start_time": "2021-09-14T01:33:39.724323Z"
    }
   },
   "outputs": [],
   "source": [
    "def mark_gvkey_total_ok(row):\n",
    "    \n",
    "    if row.ACU_OK & row.TCU_OK:\n",
    "        return '1'\n",
    "    elif row.AUP_OK & row.TCU_OK:\n",
    "        return '2'\n",
    "    elif row.ACU_OK & row.TUP_OK:\n",
    "        return '3'\n",
    "    elif row.AUP_OK & row.TUP_OK:\n",
    "        return '4'\n",
    "    else:\n",
    "        return '0'\n",
    "        \n",
    "        "
   ]
  },
  {
   "cell_type": "code",
   "execution_count": 126,
   "metadata": {
    "ExecuteTime": {
     "end_time": "2021-09-14T01:34:25.025245Z",
     "start_time": "2021-09-14T01:33:40.226783Z"
    }
   },
   "outputs": [],
   "source": [
    "merged_raw['GVKEY_OVERALL'] = merged_raw.apply(mark_gvkey_total_ok, axis=1)"
   ]
  },
  {
   "cell_type": "code",
   "execution_count": 127,
   "metadata": {
    "ExecuteTime": {
     "end_time": "2021-09-14T01:34:25.087525Z",
     "start_time": "2021-09-14T01:34:25.029005Z"
    }
   },
   "outputs": [
    {
     "data": {
      "text/plain": [
       "0    273072\n",
       "3      6784\n",
       "1      4938\n",
       "4      3415\n",
       "2      1625\n",
       "Name: GVKEY_OVERALL, dtype: int64"
      ]
     },
     "execution_count": 127,
     "metadata": {},
     "output_type": "execute_result"
    }
   ],
   "source": [
    "merged_raw['GVKEY_OVERALL'].value_counts()"
   ]
  },
  {
   "cell_type": "code",
   "execution_count": 128,
   "metadata": {
    "ExecuteTime": {
     "end_time": "2021-09-14T01:34:33.949974Z",
     "start_time": "2021-09-14T01:34:28.687933Z"
    }
   },
   "outputs": [],
   "source": [
    "merged_raw.to_pickle(pjoin(tmp_data_path , f'max_master1_{s_year}_{e_year}.pickle'))"
   ]
  },
  {
   "cell_type": "markdown",
   "metadata": {},
   "source": [
    "# only keep some var\n",
    "\n",
    "merged_raw['GVKEY_OVERALL'] must be [1,2,3,4]; and drop other help variables (Only contain name_lst + AGVKEY + TGVKEY)\n"
   ]
  },
  {
   "cell_type": "code",
   "execution_count": 132,
   "metadata": {
    "ExecuteTime": {
     "end_time": "2021-09-14T01:35:48.034241Z",
     "start_time": "2021-09-14T01:35:48.027451Z"
    }
   },
   "outputs": [],
   "source": [
    "def gvkey_filter_a(row):\n",
    "    if row['GVKEY_OVERALL'] in ['1', '3']:\n",
    "        return row['GVKEY_'+'ACU']\n",
    "    elif row['GVKEY_OVERALL'] in ['2', '4']:\n",
    "        return row['GVKEY_'+'AUP']\n",
    "    \n",
    "    \n",
    "def gvkey_filter_t(row):\n",
    "    if row['GVKEY_OVERALL'] in ['1', '2']:\n",
    "        return row['GVKEY_'+'TCU']\n",
    "    elif row['GVKEY_OVERALL'] in ['3', '4']:\n",
    "        return row['GVKEY_'+'TUP']\n",
    "\n",
    "        \n",
    "    "
   ]
  },
  {
   "cell_type": "code",
   "execution_count": 145,
   "metadata": {
    "ExecuteTime": {
     "end_time": "2021-09-14T01:41:54.652947Z",
     "start_time": "2021-09-14T01:41:54.423431Z"
    }
   },
   "outputs": [],
   "source": [
    "merged_raw_no0 = merged_raw[merged_raw['GVKEY_OVERALL'] != '0' ].copy()"
   ]
  },
  {
   "cell_type": "code",
   "execution_count": 146,
   "metadata": {
    "ExecuteTime": {
     "end_time": "2021-09-14T01:41:57.596217Z",
     "start_time": "2021-09-14T01:41:54.815437Z"
    }
   },
   "outputs": [],
   "source": [
    "merged_raw_no0['AGVKEY'] = merged_raw_no0.apply(gvkey_filter_a, axis=1)"
   ]
  },
  {
   "cell_type": "code",
   "execution_count": 147,
   "metadata": {
    "ExecuteTime": {
     "end_time": "2021-09-14T01:42:00.241748Z",
     "start_time": "2021-09-14T01:41:57.599929Z"
    }
   },
   "outputs": [],
   "source": [
    "merged_raw_no0['TGVKEY'] = merged_raw_no0.apply(gvkey_filter_t, axis=1)"
   ]
  },
  {
   "cell_type": "code",
   "execution_count": 144,
   "metadata": {
    "ExecuteTime": {
     "end_time": "2021-09-14T01:41:42.474778Z",
     "start_time": "2021-09-14T01:41:42.468189Z"
    }
   },
   "outputs": [],
   "source": [
    "keep_lst = [\n",
    "    'ACU', 'ASIC2', 'ABL', 'ANL', 'APUBC', 'AUP', 'AUPSIC', 'AUPBL', 'AUPNAMES', 'AUPPUB',\n",
    "    'BLOCK','CREEP','DA','DE','STATC','SYNOP','VAL','PCTACQ','PSOUGHTOWN','PSOUGHT','PHDA','PCTOWN','PSOUGHTT','PRIVATIZATION','DEAL_NO',\n",
    "    'TCU', 'TSIC2', 'TBL', 'TNL', 'TPUBC', 'TUP', 'TUPSIC', 'TUPBL', 'TUPNAMES', 'TUPPUB',\n",
    "    'AGVKEY', 'TGVKEY','GVKEY_OVERALL'\n",
    "] "
   ]
  },
  {
   "cell_type": "code",
   "execution_count": 148,
   "metadata": {
    "ExecuteTime": {
     "end_time": "2021-09-14T01:42:04.477659Z",
     "start_time": "2021-09-14T01:42:04.305077Z"
    }
   },
   "outputs": [],
   "source": [
    "merged = merged_raw_no0[keep_lst]"
   ]
  },
  {
   "cell_type": "code",
   "execution_count": 150,
   "metadata": {
    "ExecuteTime": {
     "end_time": "2021-09-14T01:42:20.273361Z",
     "start_time": "2021-09-14T01:42:20.269192Z"
    }
   },
   "outputs": [
    {
     "data": {
      "text/plain": [
       "(16762, 38)"
      ]
     },
     "execution_count": 150,
     "metadata": {},
     "output_type": "execute_result"
    }
   ],
   "source": [
    "merged.shape"
   ]
  },
  {
   "cell_type": "markdown",
   "metadata": {},
   "source": [
    "# Add 2 variables SIC and YEAR"
   ]
  },
  {
   "cell_type": "code",
   "execution_count": 152,
   "metadata": {
    "ExecuteTime": {
     "end_time": "2021-09-14T01:45:57.124039Z",
     "start_time": "2021-09-14T01:45:57.118853Z"
    }
   },
   "outputs": [],
   "source": [
    "def get_sic(df):\n",
    "    '''\n",
    "    df: the sdc table contains sic variable named as `ASIC2`\n",
    "    \n",
    "    '''\n",
    "    x = df.ASIC2.str.split('/')\n",
    "    x = x.transform(lambda x: x[0] if not isinstance(x, float) else np.nan)\n",
    "    df['SIC_A'] = x\n",
    "\n",
    "    x = df.ASIC2.str.split('/')\n",
    "    x = x.transform(lambda x: x[0] if not isinstance(x, float) else np.nan)\n",
    "    df['SIC_T'] = x\n",
    "    \n",
    "    return df"
   ]
  },
  {
   "cell_type": "code",
   "execution_count": 154,
   "metadata": {
    "ExecuteTime": {
     "end_time": "2021-09-14T01:46:08.544995Z",
     "start_time": "2021-09-14T01:46:08.531954Z"
    }
   },
   "outputs": [
    {
     "name": "stderr",
     "output_type": "stream",
     "text": [
      "<ipython-input-154-227b9d1f1244>:1: SettingWithCopyWarning: \n",
      "A value is trying to be set on a copy of a slice from a DataFrame.\n",
      "Try using .loc[row_indexer,col_indexer] = value instead\n",
      "\n",
      "See the caveats in the documentation: https://pandas.pydata.org/pandas-docs/stable/user_guide/indexing.html#returning-a-view-versus-a-copy\n",
      "  merged[\"YEAR\"] = merged.DA.dt.year\n"
     ]
    }
   ],
   "source": [
    "merged[\"YEAR\"] = merged.DA.dt.year"
   ]
  },
  {
   "cell_type": "code",
   "execution_count": 155,
   "metadata": {
    "ExecuteTime": {
     "end_time": "2021-09-14T01:47:03.053220Z",
     "start_time": "2021-09-14T01:47:02.769268Z"
    }
   },
   "outputs": [
    {
     "name": "stderr",
     "output_type": "stream",
     "text": [
      "<ipython-input-152-fd17d6ebba7f>:8: SettingWithCopyWarning: \n",
      "A value is trying to be set on a copy of a slice from a DataFrame.\n",
      "Try using .loc[row_indexer,col_indexer] = value instead\n",
      "\n",
      "See the caveats in the documentation: https://pandas.pydata.org/pandas-docs/stable/user_guide/indexing.html#returning-a-view-versus-a-copy\n",
      "  df['SIC_A'] = x\n",
      "<ipython-input-152-fd17d6ebba7f>:12: SettingWithCopyWarning: \n",
      "A value is trying to be set on a copy of a slice from a DataFrame.\n",
      "Try using .loc[row_indexer,col_indexer] = value instead\n",
      "\n",
      "See the caveats in the documentation: https://pandas.pydata.org/pandas-docs/stable/user_guide/indexing.html#returning-a-view-versus-a-copy\n",
      "  df['SIC_T'] = x\n"
     ]
    }
   ],
   "source": [
    "merged = get_sic(merged)"
   ]
  },
  {
   "cell_type": "code",
   "execution_count": 157,
   "metadata": {
    "ExecuteTime": {
     "end_time": "2021-09-14T01:47:14.445192Z",
     "start_time": "2021-09-14T01:47:14.187435Z"
    }
   },
   "outputs": [],
   "source": [
    "merged.to_pickle(pjoin(tmp_data_path , f'master1_{s_year}_{e_year}.pickle'))"
   ]
  },
  {
   "cell_type": "code",
   "execution_count": null,
   "metadata": {},
   "outputs": [],
   "source": []
  }
 ],
 "metadata": {
  "kernelspec": {
   "display_name": "GNN",
   "language": "python",
   "name": "gnn"
  },
  "language_info": {
   "codemirror_mode": {
    "name": "ipython",
    "version": 3
   },
   "file_extension": ".py",
   "mimetype": "text/x-python",
   "name": "python",
   "nbconvert_exporter": "python",
   "pygments_lexer": "ipython3",
   "version": "3.8.10"
  },
  "latex_envs": {
   "LaTeX_envs_menu_present": true,
   "autoclose": false,
   "autocomplete": true,
   "bibliofile": "biblio.bib",
   "cite_by": "apalike",
   "current_citInitial": 1,
   "eqLabelWithNumbers": true,
   "eqNumInitial": 1,
   "hotkeys": {
    "equation": "Ctrl-E",
    "itemize": "Ctrl-I"
   },
   "labels_anchors": false,
   "latex_user_defs": false,
   "report_style_numbering": false,
   "user_envs_cfg": false
  },
  "toc": {
   "base_numbering": 1,
   "nav_menu": {},
   "number_sections": true,
   "sideBar": true,
   "skip_h1_title": false,
   "title_cell": "Table of Contents",
   "title_sidebar": "Contents",
   "toc_cell": false,
   "toc_position": {},
   "toc_section_display": true,
   "toc_window_display": false
  }
 },
 "nbformat": 4,
 "nbformat_minor": 4
}
