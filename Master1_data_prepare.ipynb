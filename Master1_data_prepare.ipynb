{
 "cells": [
  {
   "cell_type": "code",
   "execution_count": 2,
   "metadata": {
    "ExecuteTime": {
     "end_time": "2021-09-28T02:17:17.141279Z",
     "start_time": "2021-09-28T02:17:16.957685Z"
    }
   },
   "outputs": [],
   "source": [
    "import pandas as pd\n",
    "import pickle\n",
    "import numpy as np\n",
    "import datetime \n",
    "from os.path import join as pjoin\n",
    "import os\n",
    "#import argparse\n",
    "#import yamlb"
   ]
  },
  {
   "cell_type": "code",
   "execution_count": 3,
   "metadata": {
    "ExecuteTime": {
     "end_time": "2021-09-28T02:17:17.176387Z",
     "start_time": "2021-09-28T02:17:17.173592Z"
    }
   },
   "outputs": [],
   "source": [
    "tmp_data_path =  '../MA_data/data/tmp'\n",
    "data_path = '../MA_data/data'\n",
    "s_year = 1997\n",
    "e_year = 2019"
   ]
  },
  {
   "cell_type": "code",
   "execution_count": 4,
   "metadata": {
    "ExecuteTime": {
     "end_time": "2021-09-28T02:17:17.375684Z",
     "start_time": "2021-09-28T02:17:17.361008Z"
    }
   },
   "outputs": [],
   "source": [
    "from Master1_data_prepare import MADataLoader"
   ]
  },
  {
   "cell_type": "markdown",
   "metadata": {
    "ExecuteTime": {
     "end_time": "2021-09-13T23:50:21.135890Z",
     "start_time": "2021-09-13T23:50:21.128265Z"
    }
   },
   "source": [
    "# import data\n",
    "\n",
    "3 groups of data\n",
    "- bridge 1: wrds bridge\n",
    "- bridge 2: evans bridge\n",
    "- SDC MA data\n",
    "\n",
    "before concat all data, manually convert all date on excel file to \"YY-mm-dd\" format.\n",
    "\n",
    "Guide: select all date var --> right-click --> Cell format --> Date --> 2012-03-14 --> OK\n",
    "\n",
    "![](https://cdn.mathpix.com/snip/images/58hcVJ3qFlC446Ns4SaJKtm-UroEqUKyqu4oCnTWhKY.original.fullsize.png)\n",
    "\n",
    "\n",
    "###  sdc data\n",
    "\n",
    "1. drop where either `ACU` or `TCU` is Nas\n",
    "1. fill DEAL_NO NAs to -1\n",
    "1. change all identifier to `str`; including: `ACU`, `AUP`, `TCU`, `TUP`, `DEAL_NO`, `GVKEY`a\n",
    "\n",
    "\n",
    "### bridges data\n",
    "\n",
    "1. match variable type for merging\n",
    "    1. for CUSIP/GVKEY/DEALNUM, all convert to `string`; \n",
    "        - do not keep 0s at front \n",
    "            - e.g. `002030` will be curtail to `2030`\n",
    "    2. for time, all convert to pandas `Timestamp` instance\n",
    "2. drop na or fill na\n",
    "\n",
    "#### evans_bridge\n",
    "\n",
    "for evans_brdge, load as float:\n",
    "1. fill na as -1\n",
    "2. convert all var to integer\n",
    "3. convert all var to string\n",
    "\n",
    "\n",
    "**so the GVKEY has no 0 at front**\n",
    "\n",
    "#### wrds_bridge\n",
    "\n",
    "- `GVKEY` and `CUSIP`, load as int; so just convert to str\n",
    "- no need to worry about NA"
   ]
  },
  {
   "cell_type": "code",
   "execution_count": 5,
   "metadata": {
    "ExecuteTime": {
     "end_time": "2021-09-28T02:18:48.489499Z",
     "start_time": "2021-09-28T02:17:18.244673Z"
    }
   },
   "outputs": [
    {
     "name": "stdout",
     "output_type": "stream",
     "text": [
      "WRDS Linking Table looks like:          CUSIP   GVKEY     LINKDT  LINKENDDT                    CONM\n",
      "6073   578592    7139 1962-01-31 2006-03-31             MAYTAG CORP\n",
      "29571  81763U  186129 2011-03-25 2099-12-31  SERVICESOURCE INTL INC\n",
      "9442   882387   10490 1966-01-01 1966-01-30      TEXAS EASTERN CORP\n",
      "ATTENTION, DealNumber, tgvkey, agvkey NAs in evans_bridge are interpolated as '-1'. \n",
      " \n",
      "       DealNumber  agvkey tgvkey\n",
      "30703   904176020    8431     -1\n",
      "69516  1787671020  116004     -1\n",
      "74904  1890908020   15444     -1\n",
      "date variables loading ok \n",
      "\n",
      "1997 data shape: (13255, 35)\n",
      "date variables loading ok \n",
      "\n",
      "1998 data shape: (15081, 35)\n",
      "date variables loading ok \n",
      "\n",
      "1999 data shape: (13203, 35)\n",
      "date variables loading ok \n",
      "\n",
      "2000 data shape: (12610, 35)\n",
      "date variables loading ok \n",
      "\n",
      "2001 data shape: (8771, 35)\n",
      "date variables loading ok \n",
      "\n",
      "2002 data shape: (7943, 35)\n",
      "date variables loading ok \n",
      "\n",
      "2003 data shape: (8573, 35)\n",
      "date variables loading ok \n",
      "\n",
      "2004 data shape: (9704, 35)\n",
      "date variables loading ok \n",
      "\n",
      "2005 data shape: (10524, 35)\n",
      "date variables loading ok \n",
      "\n",
      "2006 data shape: (11802, 35)\n",
      "date variables loading ok \n",
      "\n",
      "2007 data shape: (12866, 35)\n",
      "date variables loading ok \n",
      "\n",
      "2008 data shape: (11174, 35)\n",
      "date variables loading ok \n",
      "\n",
      "2009 data shape: (8965, 35)\n",
      "date variables loading ok \n",
      "\n",
      "2010 data shape: (9365, 35)\n",
      "date variables loading ok \n",
      "\n",
      "2011 data shape: (9859, 35)\n",
      "date variables loading ok \n",
      "\n",
      "2012 data shape: (9772, 35)\n",
      "date variables loading ok \n",
      "\n",
      "2013 data shape: (10060, 35)\n",
      "date variables loading ok \n",
      "\n",
      "2014 data shape: (11349, 35)\n",
      "date variables loading ok \n",
      "\n",
      "2015 data shape: (11964, 35)\n",
      "date variables loading ok \n",
      "\n",
      "2016 data shape: (12493, 35)\n",
      "date variables loading ok \n",
      "\n",
      "2017 data shape: (14453, 35)\n",
      "date variables loading ok \n",
      "\n",
      "2018 data shape: (13776, 35)\n",
      "date variables loading ok \n",
      "\n",
      "2019 data shape: (12216, 35)\n",
      "ATTENTION, DEAL_NO NAs in sdc_df are interpolated as '-1'. \n",
      " \n",
      "saving sdc table ranging from 1997 to 2019 to ../MA_data/data/tmp\n",
      "SDC Data looks like:                                                           191285  \\\n",
      "index                                                       7758   \n",
      "ACU                                                       84956Z   \n",
      "ASIC2                                   5171/4212/4213/4214/8742   \n",
      "ABL            Sprague Operating Resources\\nLLC, located in P...   \n",
      "ANL                              Sprague Operating Resources LLC   \n",
      "APUBC                                                       Sub.   \n",
      "AUP                                                       44635L   \n",
      "AUPSIC                                          6799\\n6719\\n5963   \n",
      "AUPBL          BJA Croonen BV is a provider\\nof financial inv...   \n",
      "AUPNAMES                                          BJA Croonen BV   \n",
      "AUPPUB                                                     Priv.   \n",
      "BLOCK                                                         No   \n",
      "CREEP                                                         No   \n",
      "DA                                           2014-09-11 00:00:00   \n",
      "DE                                           2014-10-01 00:00:00   \n",
      "STATC                                                          C   \n",
      "SYNOP          US - Sprague Operating Resources LLC, a unit o...   \n",
      "VAL                                                         22.0   \n",
      "PCTACQ                                                     100.0   \n",
      "PSOUGHTOWN                                                 100.0   \n",
      "PSOUGHT                                                    100.0   \n",
      "PHDA                                                         NaN   \n",
      "PCTOWN                                                     100.0   \n",
      "PSOUGHTT                                                     NaN   \n",
      "PRIVATIZATION                                                 No   \n",
      "DEAL_NO                                               2674620020   \n",
      "TCU                                                       2C8872   \n",
      "TSIC2                                             4931/4932/8748   \n",
      "TBL            The natural gas and\\nelectricity marketing bus...   \n",
      "TNL            Metromedia Energy Inc-Natural Gas & Electricit...   \n",
      "TPUBC                                                       Sub.   \n",
      "TUP                                                       59169J   \n",
      "TUPSIC                        4833\\n4832\\n7312\\n7319\\n7331\\n7322   \n",
      "TUPBL          Own and operate television and\\nradio stations...   \n",
      "TUPNAMES                               Metromedia Intl Group Inc   \n",
      "TUPPUB                                                    Public   \n",
      "SIC_A                                                       5171   \n",
      "SIC_T                                                       5171   \n",
      "YEAR                                                        2014   \n",
      "\n",
      "                                                          131904  \\\n",
      "index                                                       7572   \n",
      "ACU                                                       896945   \n",
      "ASIC2                                                  7375/4813   \n",
      "ABL            TripAdvisor LLC, located in\\nNewton, Massachus...   \n",
      "ANL                                              TripAdvisor LLC   \n",
      "APUBC                                                       Sub.   \n",
      "AUP                                                       30212P   \n",
      "AUPSIC                                          4724\\n7389\\n7375   \n",
      "AUPBL          Expedia Inc, located in\\nBellevue, Washington,...   \n",
      "AUPNAMES                                             Expedia Inc   \n",
      "AUPPUB                                                    Public   \n",
      "BLOCK                                                         No   \n",
      "CREEP                                                         No   \n",
      "DA                                           2008-08-20 00:00:00   \n",
      "DE                                           2008-08-20 00:00:00   \n",
      "STATC                                                          C   \n",
      "SYNOP          US-TripAdvisor LLC has purchased a majority st...   \n",
      "VAL                                                          NaN   \n",
      "PCTACQ                                                       NaN   \n",
      "PSOUGHTOWN                                                   NaN   \n",
      "PSOUGHT                                                      NaN   \n",
      "PHDA                                                         NaN   \n",
      "PCTOWN                                                       NaN   \n",
      "PSOUGHTT                                                     NaN   \n",
      "PRIVATIZATION                                                 No   \n",
      "DEAL_NO                                               2267530020   \n",
      "TCU                                                       33924P   \n",
      "TSIC2                                                       4724   \n",
      "TBL            FlipKey Inc, located in US,\\nis engaged in Tra...   \n",
      "TNL                                                  FlipKey Inc   \n",
      "TPUBC                                                       Sub.   \n",
      "TUP                                                       33924P   \n",
      "TUPSIC                                                      4724   \n",
      "TUPBL          FlipKey Inc, located in US,\\nis engaged in Tra...   \n",
      "TUPNAMES                                             FlipKey Inc   \n",
      "TUPPUB                                                      Sub.   \n",
      "SIC_A                                                       7375   \n",
      "SIC_T                                                       7375   \n",
      "YEAR                                                        2008   \n",
      "\n",
      "                                                          45601   \n",
      "index                                                       4062  \n",
      "ACU                                                       06422B  \n",
      "ASIC2                                                       6000  \n",
      "ABL            Bank of Cyprus PCL,\\nheadquartered in Nicosia,...  \n",
      "ANL                                           Bank of Cyprus PCL  \n",
      "APUBC                                                      Priv.  \n",
      "AUP                                                       06422B  \n",
      "AUPSIC                                                      6000  \n",
      "AUPBL          Bank of Cyprus PCL,\\nheadquartered in Nicosia,...  \n",
      "AUPNAMES                                      Bank of Cyprus PCL  \n",
      "AUPPUB                                                     Priv.  \n",
      "BLOCK                                                         No  \n",
      "CREEP                                                         No  \n",
      "DA                                           2000-04-18 00:00:00  \n",
      "DE                                                           NaT  \n",
      "STATC                                                          W  \n",
      "SYNOP          US - Bank of Cyprus Ltd withdrew plans to acqu...  \n",
      "VAL                                                         43.0  \n",
      "PCTACQ                                                       NaN  \n",
      "PSOUGHTOWN                                                 100.0  \n",
      "PSOUGHT                                                    100.0  \n",
      "PHDA                                                         NaN  \n",
      "PCTOWN                                                       NaN  \n",
      "PSOUGHTT                                                     NaN  \n",
      "PRIVATIZATION                                                 No  \n",
      "DEAL_NO                                                998686020  \n",
      "TCU                                                       45944K  \n",
      "TSIC2                                                  6035/6036  \n",
      "TBL                                             Savings and loan  \n",
      "TNL                      Interbank of New York,New York,New York  \n",
      "TPUBC                                                      Priv.  \n",
      "TUP                                                       45944K  \n",
      "TUPSIC                                                6035\\n6036  \n",
      "TUPBL                                           Savings and loan  \n",
      "TUPNAMES                          Interbank of New York,New York  \n",
      "TUPPUB                                                     Priv.  \n",
      "SIC_A                                                        NaN  \n",
      "SIC_T                                                        NaN  \n",
      "YEAR                                                        2000  \n"
     ]
    }
   ],
   "source": [
    "sdc = MADataLoader(tmp_data_path, data_path, s_year, e_year, glaspe=True)"
   ]
  },
  {
   "cell_type": "code",
   "execution_count": 7,
   "metadata": {
    "ExecuteTime": {
     "end_time": "2021-09-28T02:21:05.478900Z",
     "start_time": "2021-09-28T02:21:05.473258Z"
    }
   },
   "outputs": [
    {
     "name": "stdout",
     "output_type": "stream",
     "text": [
      "variable type checking finished, No error Found. \n",
      "\n"
     ]
    }
   ],
   "source": [
    "# run variable type check\n",
    "sdc.var_type_checker()"
   ]
  },
  {
   "cell_type": "markdown",
   "metadata": {},
   "source": [
    "# Filtering \"Majority\" MA\n",
    "\n",
    "the variable meaning please refer to [appendix1.2](Appendix_1_2_variable_description.ipynb)\n",
    "\n",
    "see P523 Ahern, Kenneth R., and Jarrad Harford. 2014. “The Importance of Industry Links in Merger Waves.” The Journal of Finance 69 (2): 527–76. https://doi.org/10.1111/jofi.12122.\n",
    "\n",
    "\n",
    "- the acquirer buys 20% or more of the target’s share: `PCTACQ > 20.0`\n",
    "- the acquirer owns 51% or more of the target’s shares after the deal; (5) the merger is completed:  `PCTOWN > 51.0`\n",
    "- transaction value is at least 1 million: `VAL > 1`\n",
    "- legal form of organization of the target or acquirer not restricted\n"
   ]
  },
  {
   "cell_type": "markdown",
   "metadata": {},
   "source": [
    "before restriction, we'd better look at the missing pattern of related varibles\n",
    "- if large portion of this varibale is missing, it's not good to use this variable as restriction. [exploration see Appendix1.1 Q4](./Appendix1_data_explore.ipynb)\n",
    "\n",
    "$\\begin{array}{ll}\\text { VAL } & 58.802123 \\\\ \\text { PCTACQ } & 27.158338 \\\\ \\text { PSOUGHTOWN } & 13.356764 \\\\ \\text { PSOUGHT } & 13.383123 \\\\ \\text { PHDA } & 97.952041 \\\\ \\text { PCTOWN } & 26.963939 \\\\ \\text { PSOUGHTT } & 99.122094\\end{array}$"
   ]
  },
  {
   "cell_type": "markdown",
   "metadata": {},
   "source": [
    "So VAL, PHDA, PSOUGHTT are bad restrictors\n"
   ]
  },
  {
   "cell_type": "code",
   "execution_count": 8,
   "metadata": {
    "ExecuteTime": {
     "end_time": "2021-09-28T02:21:09.181243Z",
     "start_time": "2021-09-28T02:21:09.177325Z"
    }
   },
   "outputs": [],
   "source": [
    "sdc_df = sdc.sdc_df\n"
   ]
  },
  {
   "cell_type": "code",
   "execution_count": 9,
   "metadata": {
    "ExecuteTime": {
     "end_time": "2021-09-28T02:21:09.404280Z",
     "start_time": "2021-09-28T02:21:09.394732Z"
    }
   },
   "outputs": [],
   "source": [
    "from filter_helpers import majority_filter"
   ]
  },
  {
   "cell_type": "code",
   "execution_count": 10,
   "metadata": {
    "ExecuteTime": {
     "end_time": "2021-09-28T02:21:10.152378Z",
     "start_time": "2021-09-28T02:21:09.872255Z"
    }
   },
   "outputs": [
    {
     "name": "stdout",
     "output_type": "stream",
     "text": [
      "original df shape:  (259778, 39) \n",
      "\n",
      "filtered df shape:  (241546, 39)\n"
     ]
    }
   ],
   "source": [
    "sdc_majority = majority_filter(sdc_df)\n"
   ]
  },
  {
   "cell_type": "markdown",
   "metadata": {},
   "source": [
    "# STATC = C"
   ]
  },
  {
   "cell_type": "code",
   "execution_count": 11,
   "metadata": {
    "ExecuteTime": {
     "end_time": "2021-09-28T02:21:10.967232Z",
     "start_time": "2021-09-28T02:21:10.963455Z"
    }
   },
   "outputs": [],
   "source": [
    "from filter_helpers import complete_deal_filter"
   ]
  },
  {
   "cell_type": "code",
   "execution_count": 12,
   "metadata": {
    "ExecuteTime": {
     "end_time": "2021-09-28T02:21:11.698371Z",
     "start_time": "2021-09-28T02:21:11.348630Z"
    },
    "scrolled": true
   },
   "outputs": [
    {
     "name": "stdout",
     "output_type": "stream",
     "text": [
      "original df shape:  (241546, 39) \n",
      "\n",
      "filtered df shape:  (198835, 39)\n"
     ]
    }
   ],
   "source": [
    "sdc_majority_complete = complete_deal_filter(sdc_majority)"
   ]
  },
  {
   "cell_type": "markdown",
   "metadata": {},
   "source": [
    "# Remove self-merge"
   ]
  },
  {
   "cell_type": "code",
   "execution_count": 14,
   "metadata": {
    "ExecuteTime": {
     "end_time": "2021-09-28T02:21:22.633721Z",
     "start_time": "2021-09-28T02:21:22.616321Z"
    }
   },
   "outputs": [
    {
     "data": {
      "text/plain": [
       "Index(['index', 'ACU', 'ASIC2', 'ABL', 'ANL', 'APUBC', 'AUP', 'AUPSIC',\n",
       "       'AUPBL', 'AUPNAMES', 'AUPPUB', 'BLOCK', 'CREEP', 'DA', 'DE', 'STATC',\n",
       "       'SYNOP', 'VAL', 'PCTACQ', 'PSOUGHTOWN', 'PSOUGHT', 'PHDA', 'PCTOWN',\n",
       "       'PSOUGHTT', 'PRIVATIZATION', 'DEAL_NO', 'TCU', 'TSIC2', 'TBL', 'TNL',\n",
       "       'TPUBC', 'TUP', 'TUPSIC', 'TUPBL', 'TUPNAMES', 'TUPPUB', 'SIC_A',\n",
       "       'SIC_T', 'YEAR'],\n",
       "      dtype='object')"
      ]
     },
     "execution_count": 14,
     "metadata": {},
     "output_type": "execute_result"
    }
   ],
   "source": [
    "sdc_majority_complete.columns"
   ]
  },
  {
   "cell_type": "code",
   "execution_count": 16,
   "metadata": {
    "ExecuteTime": {
     "end_time": "2021-09-28T02:21:45.568483Z",
     "start_time": "2021-09-28T02:21:45.415240Z"
    }
   },
   "outputs": [],
   "source": [
    "sdc_majority_complete = sdc_majority_complete[sdc_majority_complete['ACU'] != sdc_majority_complete['TCU']]"
   ]
  },
  {
   "cell_type": "code",
   "execution_count": 17,
   "metadata": {
    "ExecuteTime": {
     "end_time": "2021-09-28T02:22:00.301618Z",
     "start_time": "2021-09-28T02:22:00.296495Z"
    }
   },
   "outputs": [
    {
     "name": "stdout",
     "output_type": "stream",
     "text": [
      "after remove self-merge: (197992, 39)\n"
     ]
    }
   ],
   "source": [
    "print(\"after remove self-merge:\", sdc_majority_complete.shape)"
   ]
  },
  {
   "cell_type": "markdown",
   "metadata": {},
   "source": [
    "# Merge GVKEY"
   ]
  },
  {
   "cell_type": "markdown",
   "metadata": {},
   "source": [
    "## obtain GVKEY from linkings\n",
    "\n",
    "Rules:\n",
    "1. use WRDS linking table as primary table, EVANS as secondary\n",
    "2. first, use ACU and TCU to search GVKEY; If no result return, use AUP and TUP to search. If still no result return, this row has to be dropped.\n",
    "\n",
    "\n",
    "reason for rules refering to [Appendix 1](./Appendix1_data_explore.ipynb)\n",
    "\n",
    "+ save merged data to pickle before checking out Appendix 1!"
   ]
  },
  {
   "cell_type": "code",
   "execution_count": 19,
   "metadata": {
    "ExecuteTime": {
     "end_time": "2021-09-28T15:14:36.303197Z",
     "start_time": "2021-09-28T15:14:36.278844Z"
    }
   },
   "outputs": [],
   "source": [
    "from merge_helpers import merge_gvkey_wrds"
   ]
  },
  {
   "cell_type": "code",
   "execution_count": 20,
   "metadata": {
    "ExecuteTime": {
     "end_time": "2021-09-28T15:15:05.590978Z",
     "start_time": "2021-09-28T15:15:03.672998Z"
    }
   },
   "outputs": [
    {
     "name": "stdout",
     "output_type": "stream",
     "text": [
      "(197992, 39)\n",
      "(207549, 44)\n",
      "(209150, 49)\n",
      "(240030, 54)\n",
      "(257498, 59)\n"
     ]
    }
   ],
   "source": [
    "wrds_merged = merge_gvkey_wrds(sdc_majority_complete, sdc.wrds_bridge)"
   ]
  },
  {
   "cell_type": "code",
   "execution_count": 21,
   "metadata": {
    "ExecuteTime": {
     "end_time": "2021-09-28T15:15:06.460962Z",
     "start_time": "2021-09-28T15:15:06.439937Z"
    }
   },
   "outputs": [
    {
     "data": {
      "text/plain": [
       "(257498, 59)"
      ]
     },
     "execution_count": 21,
     "metadata": {},
     "output_type": "execute_result"
    }
   ],
   "source": [
    "wrds_merged.shape"
   ]
  },
  {
   "cell_type": "markdown",
   "metadata": {},
   "source": [
    "## Filter those Gvkey condition not ok"
   ]
  },
  {
   "cell_type": "markdown",
   "metadata": {},
   "source": [
    "### Step1: WRDS merged result:\n",
    "\n",
    "the following conditions are marked as GVKEY merged successfully:\n",
    "\n",
    "`ok = (GVKEY Found in Bridge table) & (GVKEY in valid time period)`\n",
    "\n",
    "num of succcess condition = (C22 + C21) * (C22 + C21) = 9\n",
    "\n",
    "| ACU ok | AUP  ok | TCU ok | TUP ok | mark as                                           |\n",
    "|------------------|-------------------|------------------|-------------------|---------------------------------------------------|\n",
    "| 1                | 1                 | 1                | 1                 | 1                                                 |\n",
    "| 1                | 1                 | 1                | 0                 | 2                                                 |\n",
    "| 1                | 1                 | 0                | 1                 | 3                                                 |\n",
    "| 1                | 0                 | 1                | 1                 | 4                                                 |\n",
    "| 1                | 0                 | 1                | 0                 | 5                                                 |\n",
    "| 1                | 0                 | 0                | 1                 | 6                                                 |\n",
    "| 0                | 1                 | 1                | 1                 | 7                                                 |\n",
    "| 0                | 1                 | 1                | 0                 | 8                                                 |\n",
    "| 0                | 1                 | 0                | 1                 | 9                                                 |\n",
    "|                  |                   |                  |                   | all other combination is unanalysiable |\n",
    "\n",
    "\n",
    "1. Target and Acquirer must at least successfully match with one table\n",
    "1. for those records (acquirer or target) that evans bridge did not much successfully, but wrds bridge matched successfully, confirm the `date accounced` of the deal falls in the effective time period of the linking. \n",
    "\n",
    "    why use `DA` instead of `DE`? since `DA` has less Nas\n",
    "    \n",
    "    \n",
    "* I chose to use wrds to be my primary linking. If two linking both matched, I will choose the result from wrds.\n",
    "\n",
    "here I simplify the condition.\n",
    "\n",
    "Since if the GVKEY of direct participants are exist, we will use the GVKEY of them instead of the GVKEY of their ultimate parents.\n",
    "\n",
    "So, the simplier version of the gvkey condition is:\n",
    "\n",
    "| ACU ok | AUP  ok | TCU ok | TUP ok | mark as |\n",
    "|--------|---------|--------|--------|---------|\n",
    "| 1      | 1       | 1      | 1      | 1       |\n",
    "| 1      | 1       | 1      | 0      | 1       |\n",
    "| 1      | 1       | 0      | 1      | 3       |\n",
    "| 1      | 0       | 1      | 1      | 1       |\n",
    "| 1      | 0       | 1      | 0      | 1       |\n",
    "| 1      | 0       | 0      | 1      | 3       |\n",
    "| 0      | 1       | 1      | 1      | 2       |\n",
    "| 0      | 1       | 1      | 0      | 2       |\n",
    "| 0      | 1       | 0      | 1      | 4       |\n",
    "| 1      | 0       | 0      | 0      | -1      |\n",
    "| 0      | 1       | 0      | 0      | -2      |\n",
    "| 0      | 0       | 1      | 0      | -3      |\n",
    "| 0      | 0       | 0      | 1      | -4      |\n",
    "| 0      | 0       | 0      | 0      | 0       |\n"
   ]
  },
  {
   "cell_type": "code",
   "execution_count": 22,
   "metadata": {
    "ExecuteTime": {
     "end_time": "2021-09-28T15:15:15.978393Z",
     "start_time": "2021-09-28T15:15:15.974540Z"
    }
   },
   "outputs": [],
   "source": [
    "from merge_helpers import wrds_gvkey_checker"
   ]
  },
  {
   "cell_type": "code",
   "execution_count": 24,
   "metadata": {
    "ExecuteTime": {
     "end_time": "2021-09-28T15:16:10.605026Z",
     "start_time": "2021-09-28T15:15:27.240153Z"
    }
   },
   "outputs": [
    {
     "name": "stdout",
     "output_type": "stream",
     "text": [
      "Number of Conditions: \n",
      " 0     156231\n",
      "-1     45612\n",
      "-2     18768\n",
      "-4     16522\n",
      "3       6083\n",
      "-3      5677\n",
      "1       4276\n",
      "4       3040\n",
      "2       1289\n",
      "Name: GVKEY_OVERALL, dtype: int64 \n",
      "\n"
     ]
    }
   ],
   "source": [
    "merged = wrds_gvkey_checker(wrds_merged)"
   ]
  },
  {
   "cell_type": "code",
   "execution_count": 25,
   "metadata": {
    "ExecuteTime": {
     "end_time": "2021-09-28T15:16:25.063586Z",
     "start_time": "2021-09-28T15:16:24.901724Z"
    },
    "scrolled": true
   },
   "outputs": [],
   "source": [
    "wrds_merged_fail = merged[merged['GVKEY_OVERALL'].isin(['0','-1','-2','-3','-4']) ]"
   ]
  },
  {
   "cell_type": "code",
   "execution_count": 26,
   "metadata": {
    "ExecuteTime": {
     "end_time": "2021-09-28T15:16:25.287527Z",
     "start_time": "2021-09-28T15:16:25.232136Z"
    }
   },
   "outputs": [],
   "source": [
    "wrds_merged_ok = merged[merged['GVKEY_OVERALL'].isin(['1','2','3','4']) ]"
   ]
  },
  {
   "cell_type": "markdown",
   "metadata": {},
   "source": [
    "### Step 2: help with EVANS\n",
    "Since **WRDS fail to merge with majority quantity of MA data**. We need to use evans bridge for ambiguous gvkey match\n",
    "\n",
    "Notice that we don't necessaly need both agvkey and tgvkey matched successfully from evans_bridge.\n",
    "Here is the linking target:\n",
    "\n",
    "| WRDS status | If EVANS AGVKEY OK | If EVANS TGVKEY  | Final Status  | mark_as |\n",
    "|-------------|--------------------|------------------|---------------|---------|\n",
    "| 0           | 1                  | 1                | 1             | 1       |\n",
    "| -1          |                    | 1                | 1             | 2       |\n",
    "| -2          |                    | 1                | 1             | 3       |\n",
    "| -3          | 1                  |                  | 1             | 4       |\n",
    "| -4          | 1                  |                  | 1             | 5       |\n",
    "|             |                    |                  | otherwise = 0(unanalysisable) | 0       |\n"
   ]
  },
  {
   "cell_type": "code",
   "execution_count": 27,
   "metadata": {
    "ExecuteTime": {
     "end_time": "2021-09-28T15:16:30.159538Z",
     "start_time": "2021-09-28T15:16:30.155750Z"
    }
   },
   "outputs": [],
   "source": [
    "from merge_helpers import merge_gvkey_evans"
   ]
  },
  {
   "cell_type": "code",
   "execution_count": 28,
   "metadata": {
    "ExecuteTime": {
     "end_time": "2021-09-28T15:16:34.018149Z",
     "start_time": "2021-09-28T15:16:31.870228Z"
    }
   },
   "outputs": [],
   "source": [
    "evans_merged = merge_gvkey_evans(wrds_merged_fail, sdc.evans_bridge)"
   ]
  },
  {
   "cell_type": "code",
   "execution_count": 29,
   "metadata": {
    "ExecuteTime": {
     "end_time": "2021-09-28T15:16:34.021989Z",
     "start_time": "2021-09-28T15:16:34.020019Z"
    }
   },
   "outputs": [],
   "source": [
    "from merge_helpers import evans_gvkey_checker"
   ]
  },
  {
   "cell_type": "code",
   "execution_count": 31,
   "metadata": {
    "ExecuteTime": {
     "end_time": "2021-09-28T15:16:55.407150Z",
     "start_time": "2021-09-28T15:16:36.615865Z"
    }
   },
   "outputs": [
    {
     "name": "stdout",
     "output_type": "stream",
     "text": [
      "Number of conditions: \n",
      " 0    225007\n",
      "1      4786\n",
      "2      4469\n",
      "5      3727\n",
      "4      2553\n",
      "3      2268\n",
      "Name: GVKEY_EVANS_STATUS, dtype: int64 \n",
      "\n"
     ]
    }
   ],
   "source": [
    "evans_merged = evans_gvkey_checker(evans_merged)"
   ]
  },
  {
   "cell_type": "markdown",
   "metadata": {},
   "source": [
    "# Obtain GVKEY var\n",
    "\n",
    "and remove those helper variables"
   ]
  },
  {
   "cell_type": "markdown",
   "metadata": {},
   "source": [
    "## Step1, obtain GVKEY var from evans merge result"
   ]
  },
  {
   "cell_type": "code",
   "execution_count": 32,
   "metadata": {
    "ExecuteTime": {
     "end_time": "2021-09-28T15:17:57.250590Z",
     "start_time": "2021-09-28T15:17:57.246683Z"
    }
   },
   "outputs": [],
   "source": [
    "from merge_helpers import create_gvkey_var_evans"
   ]
  },
  {
   "cell_type": "code",
   "execution_count": 33,
   "metadata": {
    "ExecuteTime": {
     "end_time": "2021-09-28T15:17:59.476736Z",
     "start_time": "2021-09-28T15:17:57.952307Z"
    }
   },
   "outputs": [
    {
     "name": "stderr",
     "output_type": "stream",
     "text": [
      "/home/dalab5/Projects/MA/merge_helpers.py:170: SettingWithCopyWarning: \n",
      "A value is trying to be set on a copy of a slice from a DataFrame.\n",
      "Try using .loc[row_indexer,col_indexer] = value instead\n",
      "\n",
      "See the caveats in the documentation: https://pandas.pydata.org/pandas-docs/stable/user_guide/indexing.html#returning-a-view-versus-a-copy\n",
      "  df['AGVKEY'] = df.apply(AGVKEY_BUILDER, axis=1)\n",
      "/home/dalab5/Projects/MA/merge_helpers.py:171: SettingWithCopyWarning: \n",
      "A value is trying to be set on a copy of a slice from a DataFrame.\n",
      "Try using .loc[row_indexer,col_indexer] = value instead\n",
      "\n",
      "See the caveats in the documentation: https://pandas.pydata.org/pandas-docs/stable/user_guide/indexing.html#returning-a-view-versus-a-copy\n",
      "  df['TGVKEY'] = df.apply(TGVKEY_BUILDER, axis=1)\n"
     ]
    }
   ],
   "source": [
    "evans_result = create_gvkey_var_evans(evans_merged[evans_merged.GVKEY_EVANS_STATUS != '0'])"
   ]
  },
  {
   "cell_type": "code",
   "execution_count": 34,
   "metadata": {
    "ExecuteTime": {
     "end_time": "2021-09-28T15:18:00.269202Z",
     "start_time": "2021-09-28T15:18:00.263072Z"
    }
   },
   "outputs": [
    {
     "data": {
      "text/plain": [
       "(17803, 41)"
      ]
     },
     "execution_count": 34,
     "metadata": {},
     "output_type": "execute_result"
    }
   ],
   "source": [
    "evans_result.shape"
   ]
  },
  {
   "cell_type": "markdown",
   "metadata": {},
   "source": [
    "## Step 2, obtain GVKEY var from WRDS merge result \n",
    "\n",
    "`df['GVKEY_OVERALL']` must be `[1,2,3,4]`; and drop other help variables (Only contain name_lst + AGVKEY + TGVKEY)\n",
    "\n"
   ]
  },
  {
   "cell_type": "code",
   "execution_count": 35,
   "metadata": {
    "ExecuteTime": {
     "end_time": "2021-09-28T15:18:03.225679Z",
     "start_time": "2021-09-28T15:18:03.222000Z"
    }
   },
   "outputs": [],
   "source": [
    "from merge_helpers import create_gvkey_var_wrds"
   ]
  },
  {
   "cell_type": "code",
   "execution_count": 36,
   "metadata": {
    "ExecuteTime": {
     "end_time": "2021-09-28T15:18:04.397940Z",
     "start_time": "2021-09-28T15:18:03.564725Z"
    }
   },
   "outputs": [
    {
     "name": "stderr",
     "output_type": "stream",
     "text": [
      "/home/dalab5/Projects/MA/merge_helpers.py:199: SettingWithCopyWarning: \n",
      "A value is trying to be set on a copy of a slice from a DataFrame.\n",
      "Try using .loc[row_indexer,col_indexer] = value instead\n",
      "\n",
      "See the caveats in the documentation: https://pandas.pydata.org/pandas-docs/stable/user_guide/indexing.html#returning-a-view-versus-a-copy\n",
      "  df['AGVKEY'] = df.apply(gvkey_filter_a, axis=1)\n",
      "/home/dalab5/Projects/MA/merge_helpers.py:200: SettingWithCopyWarning: \n",
      "A value is trying to be set on a copy of a slice from a DataFrame.\n",
      "Try using .loc[row_indexer,col_indexer] = value instead\n",
      "\n",
      "See the caveats in the documentation: https://pandas.pydata.org/pandas-docs/stable/user_guide/indexing.html#returning-a-view-versus-a-copy\n",
      "  df['TGVKEY'] = df.apply(gvkey_filter_t, axis=1)\n"
     ]
    }
   ],
   "source": [
    "wrds_result = create_gvkey_var_wrds(wrds_merged_ok)"
   ]
  },
  {
   "cell_type": "markdown",
   "metadata": {},
   "source": [
    "## Concat 2 dataframe"
   ]
  },
  {
   "cell_type": "code",
   "execution_count": 37,
   "metadata": {
    "ExecuteTime": {
     "end_time": "2021-09-28T15:18:12.820350Z",
     "start_time": "2021-09-28T15:18:12.756306Z"
    }
   },
   "outputs": [],
   "source": [
    "merge_result= pd.concat([evans_result, wrds_result], axis=0)"
   ]
  },
  {
   "cell_type": "code",
   "execution_count": 38,
   "metadata": {
    "ExecuteTime": {
     "end_time": "2021-09-28T15:18:13.276393Z",
     "start_time": "2021-09-28T15:18:13.270288Z"
    }
   },
   "outputs": [
    {
     "data": {
      "text/plain": [
       "(32491, 41)"
      ]
     },
     "execution_count": 38,
     "metadata": {},
     "output_type": "execute_result"
    }
   ],
   "source": [
    "merge_result.shape"
   ]
  },
  {
   "cell_type": "code",
   "execution_count": 39,
   "metadata": {
    "ExecuteTime": {
     "end_time": "2021-09-28T15:18:14.867393Z",
     "start_time": "2021-09-28T15:18:14.722009Z"
    }
   },
   "outputs": [
    {
     "name": "stdout",
     "output_type": "stream",
     "text": [
      "saving gvkey merged sdc data to ../MA_data/data/tmp \n",
      "\n"
     ]
    }
   ],
   "source": [
    "print(f\"saving gvkey merged sdc data to {tmp_data_path} \\n\")\n",
    "merge_result.to_pickle(pjoin(tmp_data_path , f'sdc_gvkey_{s_year}_{e_year}.pickle'))"
   ]
  },
  {
   "cell_type": "code",
   "execution_count": null,
   "metadata": {},
   "outputs": [],
   "source": []
  }
 ],
 "metadata": {
  "kernelspec": {
   "display_name": "GNN",
   "language": "python",
   "name": "gnn"
  },
  "language_info": {
   "codemirror_mode": {
    "name": "ipython",
    "version": 3
   },
   "file_extension": ".py",
   "mimetype": "text/x-python",
   "name": "python",
   "nbconvert_exporter": "python",
   "pygments_lexer": "ipython3",
   "version": "3.8.10"
  },
  "latex_envs": {
   "LaTeX_envs_menu_present": true,
   "autoclose": false,
   "autocomplete": true,
   "bibliofile": "biblio.bib",
   "cite_by": "apalike",
   "current_citInitial": 1,
   "eqLabelWithNumbers": true,
   "eqNumInitial": 1,
   "hotkeys": {
    "equation": "Ctrl-E",
    "itemize": "Ctrl-I"
   },
   "labels_anchors": false,
   "latex_user_defs": false,
   "report_style_numbering": false,
   "user_envs_cfg": false
  },
  "toc": {
   "base_numbering": 1,
   "nav_menu": {},
   "number_sections": true,
   "sideBar": true,
   "skip_h1_title": false,
   "title_cell": "Table of Contents",
   "title_sidebar": "Contents",
   "toc_cell": false,
   "toc_position": {},
   "toc_section_display": true,
   "toc_window_display": false
  }
 },
 "nbformat": 4,
 "nbformat_minor": 4
}
