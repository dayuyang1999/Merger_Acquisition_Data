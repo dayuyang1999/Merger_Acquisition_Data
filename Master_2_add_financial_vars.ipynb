{
 "cells": [
  {
   "cell_type": "code",
   "execution_count": 1,
   "metadata": {
    "ExecuteTime": {
     "end_time": "2021-10-11T18:04:02.114146Z",
     "start_time": "2021-10-11T18:04:01.379046Z"
    }
   },
   "outputs": [],
   "source": [
    "import numpy as np\n",
    "import pandas as pd\n",
    "import wrds\n",
    "import pickle\n",
    "from scipy.stats.mstats import winsorize\n",
    "from os.path import join as pjoin\n"
   ]
  },
  {
   "cell_type": "code",
   "execution_count": 2,
   "metadata": {
    "ExecuteTime": {
     "end_time": "2021-10-11T18:04:06.695829Z",
     "start_time": "2021-10-11T18:04:06.692064Z"
    }
   },
   "outputs": [],
   "source": [
    "tmp_data_path = '../MA_data/data/tmp'\n",
    "\n",
    "\n",
    "s_year = 1997\n",
    "e_year = 2020"
   ]
  },
  {
   "cell_type": "code",
   "execution_count": 3,
   "metadata": {
    "ExecuteTime": {
     "end_time": "2021-10-11T18:04:19.663478Z",
     "start_time": "2021-10-11T18:04:09.135509Z"
    }
   },
   "outputs": [
    {
     "name": "stdout",
     "output_type": "stream",
     "text": [
      "Enter your WRDS username [dalab5]:dayuyang1999\n",
      "Enter your password:········\n",
      "WRDS recommends setting up a .pgpass file.\n",
      "Create .pgpass file now [y/n]?: y\n",
      "Created .pgpass file successfully.\n",
      "Loading library list...\n",
      "Done\n",
      "Loading library list...\n",
      "Done\n"
     ]
    }
   ],
   "source": [
    "db = wrds.Connection()\n",
    "db = wrds.Connection(wrds_username='dayuyang1999')"
   ]
  },
  {
   "cell_type": "markdown",
   "metadata": {},
   "source": [
    "# add financial variables\n",
    "\n",
    "## get raw data\n",
    "\n",
    "According to Appendix A of Bernard et al. (2020), we need the following `COMPUSTAT` variables to compute financial ratios.\n",
    "\n",
    "| compustat code | definition                                  |\n",
    "|----------------|---------------------------------------------|\n",
    "| at             | total asset                                 |\n",
    "| ceq            | Common/Ordinary Equity - Total              |\n",
    "| csho           | Number of Common Shares Outstanding         |\n",
    "| prcc_f         | Price Close - Annual - Fiscal               |\n",
    "| txdb           | Deferred Taxes (Balance Sheet)              |\n",
    "| dlc            | Debt in Current Liabilities - Total         |\n",
    "| dltt           | Long-Term Debt - Total                      |\n",
    "| ib             | Income Before Extraordinary Items           |\n",
    "| sale           | Net Sales                                   |\n",
    "| ch             | Cash                                        |\n",
    "| ppent          | Property, Plant and Equipment - Total (Net) |\n",
    "| re             | Retained Earnings                           |\n",
    "| act            | Current Assets - Total                      |\n",
    "| lct            | Current Liabilities - Total                 |\n",
    "\n",
    "\n",
    "Bernard, Darren, Terrence Blackburne, and Jacob Thornock. 2020. “Information Flows among Rivals and Corporate Investment.” Journal of Financial Economics 136 (3): 760–79."
   ]
  },
  {
   "cell_type": "code",
   "execution_count": 4,
   "metadata": {
    "ExecuteTime": {
     "end_time": "2021-10-11T18:04:28.028735Z",
     "start_time": "2021-10-11T18:04:28.010031Z"
    }
   },
   "outputs": [],
   "source": [
    "from dataloader_helpers import get_firm_annual_data"
   ]
  },
  {
   "cell_type": "code",
   "execution_count": 5,
   "metadata": {
    "ExecuteTime": {
     "end_time": "2021-10-11T18:04:36.641755Z",
     "start_time": "2021-10-11T18:04:29.060163Z"
    }
   },
   "outputs": [],
   "source": [
    "get_firm_annual_data(tmp_data_path, s_year, e_year, db)"
   ]
  },
  {
   "cell_type": "code",
   "execution_count": 6,
   "metadata": {
    "ExecuteTime": {
     "end_time": "2021-10-11T18:04:36.696092Z",
     "start_time": "2021-10-11T18:04:36.643447Z"
    }
   },
   "outputs": [],
   "source": [
    "fin_var = pd.read_pickle(f\"{tmp_data_path}/fin_raw_{s_year}_{e_year}.pickle\")"
   ]
  },
  {
   "cell_type": "markdown",
   "metadata": {
    "ExecuteTime": {
     "end_time": "2021-09-12T14:07:15.035179Z",
     "start_time": "2021-09-12T14:07:15.021943Z"
    }
   },
   "source": [
    "## create variables\n",
    "\n",
    "Based on the above raw input variables, we construct the following financial ratios.\n",
    "\n",
    "| variable               | formula                          | definition                                                          |\n",
    "|------------------------|----------------------------------|---------------------------------------------------------------------|\n",
    "|                        |        Bernard et al. (2020) Appendix A     |                                                                     |\n",
    "| size_i                 | at                               | Firm i’s total assets                                               |\n",
    "| market-to-book ratio_i | (at+prcc_f*csho-ceq-txdb)/at     | Market-to-book assets ratio of firm i                               |\n",
    "| leverage_i             | (dlc+dltt)/at                    | Book leverage of firm i                                             |\n",
    "| roa_i                  | ib/at                            | Return-on-assets of firm i                                          |\n",
    "| sales growth_i         | (sale_{t}-sale_{t-1})/sale_{t-1} | Sales growth of firm i                                              |\n",
    "| ppe_i                  | ppent/at                         | Firm i’s net plant, property, and equipment, scaled by total assets |\n",
    "|                        |  Yang et al (2014)  Table 2     |                                                                     |\n",
    "| sale_i                 | sale                             | Firm i’s net sales                                                  |\n",
    "| cash-to-asset ratio_i  | ch/at                            | Cash flow to total assets ratio of firm i                           |\n",
    "| cash-to-sales ratio_i  | ch/sale                          | Cash flow to sales ratio of firm i                                  |\n",
    "| sales-to-asset ratio_i | sale/at                          | Net sales/total assets                                              |\n",
    "| current ratio_i        | act/lct                          | Current assets of firm i scaled by its current liabilities          |\n",
    "| asset growth_i         | (at_{t}-at_{t-1})/at_{t-1}       | Total asset growth of firm i                                        |\n",
    "\n",
    "\n",
    "Bernard, Darren, Terrence Blackburne, and Jacob Thornock. 2020. “Information Flows among Rivals and Corporate Investment.” Journal of Financial Economics 136 (3): 760–79.\n",
    "\n",
    "Yang, Chin-Sheng, Chih-Ping Wei, and Yu-Hsun Chiang. 2014. “Exploiting Technological Indicators for Effective Technology Merger and Acquisition (M&A) Predictions.” Decision Sciences 45 (1): 147–74."
   ]
  },
  {
   "cell_type": "code",
   "execution_count": 7,
   "metadata": {
    "ExecuteTime": {
     "end_time": "2021-10-11T18:04:36.702901Z",
     "start_time": "2021-10-11T18:04:36.698120Z"
    }
   },
   "outputs": [],
   "source": [
    "from fin_var_helpers import get_lags, create_var"
   ]
  },
  {
   "cell_type": "code",
   "execution_count": 8,
   "metadata": {
    "ExecuteTime": {
     "end_time": "2021-10-11T18:04:37.162102Z",
     "start_time": "2021-10-11T18:04:36.704270Z"
    }
   },
   "outputs": [
    {
     "name": "stdout",
     "output_type": "stream",
     "text": [
      "check df created ok: \n",
      "    gvkey  year       at     sale      ch  rdip       m2b      lev       roa  \\\n",
      "0  10000  1997  577.137  559.823  16.809   NaN  1.187368  0.41477 -0.002807   \n",
      "\n",
      "        ppe  cash2asset  cash2sale  sale2asset       cr       gsi        de  \\\n",
      "0  0.218361    0.029125   0.030026        0.97  1.83279  1.911871  1.302516   \n",
      "\n",
      "        roe  d_sale  d_at  \n",
      "0 -0.008815     NaN   NaN  \n",
      "\n",
      " variable lists of ratio pd:  Index(['gvkey', 'year', 'at', 'sale', 'ch', 'rdip', 'm2b', 'lev', 'roa', 'ppe',\n",
      "       'cash2asset', 'cash2sale', 'sale2asset', 'cr', 'gsi', 'de', 'roe',\n",
      "       'd_sale', 'd_at'],\n",
      "      dtype='object')\n",
      "the output df contains 19 number of variables: Index(['gvkey', 'year', 'at', 'sale', 'ch', 'rdip', 'm2b', 'lev', 'roa', 'ppe',\n",
      "       'cash2asset', 'cash2sale', 'sale2asset', 'cr', 'gsi', 'de', 'roe',\n",
      "       'd_sale', 'd_at'],\n",
      "      dtype='object')\n"
     ]
    }
   ],
   "source": [
    "ratio_pd_w_raw = create_var(fin_var)"
   ]
  },
  {
   "cell_type": "code",
   "execution_count": 9,
   "metadata": {
    "ExecuteTime": {
     "end_time": "2021-10-11T18:04:37.237412Z",
     "start_time": "2021-10-11T18:04:37.163942Z"
    }
   },
   "outputs": [
    {
     "name": "stdout",
     "output_type": "stream",
     "text": [
      "saving raw financial variable tables from 1997 to 2020; table size:  (278111, 19)\n"
     ]
    }
   ],
   "source": [
    "print(f\"saving raw financial variable tables from {s_year} to {e_year}; table size: \", ratio_pd_w_raw.shape)\n",
    "ratio_pd_w_raw.to_pickle(f'{tmp_data_path}/fv_raw_{s_year}_{e_year}.pickle')\n"
   ]
  },
  {
   "cell_type": "markdown",
   "metadata": {},
   "source": [
    "### check NAs\n",
    "\n",
    "1. since we have devide operation, there are supposed to have inf and -inf if devide by 0\n",
    "    - replace `inf` as `na`\n",
    "\n",
    "2. only keep rows which na <  threshold\n",
    "3. replace na as mean value of the whole variable"
   ]
  },
  {
   "cell_type": "markdown",
   "metadata": {},
   "source": [
    "check how series is missing, \n",
    "\n",
    "- totally 288k rows has at least missing value\n",
    "- if we are ok to roughly drop 25% of the data, set thres = 5\n",
    "\n",
    "\n",
    "However, we don't want to drop many rows since we may have no positive samples for MA if do so.\n",
    "\n",
    "To decide what column to drop and how many row to drop, refer to [Appendix 2](./Appendix2_merge.ipynb)"
   ]
  },
  {
   "cell_type": "code",
   "execution_count": 78,
   "metadata": {
    "ExecuteTime": {
     "end_time": "2021-10-03T02:08:05.148659Z",
     "start_time": "2021-10-03T02:08:05.144657Z"
    }
   },
   "outputs": [
    {
     "data": {
      "text/plain": [
       "Index(['gvkey', 'year', 'at', 'sale', 'ch', 'rdip', 'm2b', 'lev', 'roa', 'ppe',\n",
       "       'cash2asset', 'cash2sale', 'sale2asset', 'cr', 'gsi', 'de', 'roe',\n",
       "       'd_sale', 'd_at'],\n",
       "      dtype='object')"
      ]
     },
     "execution_count": 78,
     "metadata": {},
     "output_type": "execute_result"
    }
   ],
   "source": [
    "ratio_pd_w_raw.columns"
   ]
  },
  {
   "cell_type": "code",
   "execution_count": 81,
   "metadata": {
    "ExecuteTime": {
     "end_time": "2021-10-03T02:29:23.436403Z",
     "start_time": "2021-10-03T02:29:23.425421Z"
    }
   },
   "outputs": [
    {
     "ename": "ImportError",
     "evalue": "cannot import name 'deal_na' from 'fin_var_helpers' (/home/dalab5/Projects/MA/fin_var_helpers.py)",
     "output_type": "error",
     "traceback": [
      "\u001b[0;31m---------------------------------------------------------------------------\u001b[0m",
      "\u001b[0;31mImportError\u001b[0m                               Traceback (most recent call last)",
      "\u001b[0;32m<ipython-input-81-3dd4b7359893>\u001b[0m in \u001b[0;36m<module>\u001b[0;34m\u001b[0m\n\u001b[0;32m----> 1\u001b[0;31m \u001b[0;32mfrom\u001b[0m \u001b[0mfin_var_helpers\u001b[0m \u001b[0;32mimport\u001b[0m \u001b[0mdeal_na\u001b[0m\u001b[0;34m,\u001b[0m \u001b[0mmerge_fv_ma\u001b[0m\u001b[0;34m\u001b[0m\u001b[0;34m\u001b[0m\u001b[0m\n\u001b[0m",
      "\u001b[0;31mImportError\u001b[0m: cannot import name 'deal_na' from 'fin_var_helpers' (/home/dalab5/Projects/MA/fin_var_helpers.py)"
     ]
    }
   ],
   "source": [
    "from fin_var_helpers import deal_na, merge_fv_ma"
   ]
  },
  {
   "cell_type": "code",
   "execution_count": 83,
   "metadata": {
    "ExecuteTime": {
     "end_time": "2021-10-03T02:30:07.449283Z",
     "start_time": "2021-10-03T02:30:06.342269Z"
    }
   },
   "outputs": [
    {
     "name": "stdout",
     "output_type": "stream",
     "text": [
      "before append to fin variable, shape of data (32491, 41)\n"
     ]
    }
   ],
   "source": [
    "df_ma = pd.read_pickle(pjoin(tmp_data_path , f'sdc_gvkey_{s_year}_{e_year}.pickle'))\n",
    "df_fv_raw = pd.read_pickle(f'{tmp_data_path}/fv_raw_{s_year}_{e_year}.pickle')\n",
    "print(\"before append to fin variable, shape of data\",df_ma.shape)"
   ]
  },
  {
   "cell_type": "code",
   "execution_count": 84,
   "metadata": {
    "ExecuteTime": {
     "end_time": "2021-10-03T02:30:12.074594Z",
     "start_time": "2021-10-03T02:30:10.687142Z"
    }
   },
   "outputs": [
    {
     "name": "stdout",
     "output_type": "stream",
     "text": [
      "totally 17 number of financial features, tolerance of num of missing is: 12\n"
     ]
    }
   ],
   "source": [
    "thres = 12\n",
    "\n",
    "df_fv_nona = deal_na(df_fv_raw, thres)\n"
   ]
  },
  {
   "cell_type": "code",
   "execution_count": 114,
   "metadata": {
    "ExecuteTime": {
     "end_time": "2021-10-03T02:49:41.921716Z",
     "start_time": "2021-10-03T02:49:41.518211Z"
    }
   },
   "outputs": [],
   "source": [
    "merged_fv_ma = merge_fv_ma(df_fv_nona, df_ma, 19)"
   ]
  },
  {
   "cell_type": "code",
   "execution_count": 115,
   "metadata": {
    "ExecuteTime": {
     "end_time": "2021-10-03T02:49:42.776247Z",
     "start_time": "2021-10-03T02:49:42.740301Z"
    }
   },
   "outputs": [],
   "source": [
    "\n",
    "merged_fv_ma.drop(['GVKEY_A', 'GVKEY_T', 'YEAR_A', 'YEAR_T'], axis=1, inplace=True)\n",
    "\n"
   ]
  },
  {
   "cell_type": "markdown",
   "metadata": {},
   "source": [
    "Remove those self-acquire-self "
   ]
  },
  {
   "cell_type": "code",
   "execution_count": 116,
   "metadata": {
    "ExecuteTime": {
     "end_time": "2021-10-03T02:49:44.162437Z",
     "start_time": "2021-10-03T02:49:44.158726Z"
    }
   },
   "outputs": [
    {
     "data": {
      "text/plain": [
       "12960"
      ]
     },
     "execution_count": 116,
     "metadata": {},
     "output_type": "execute_result"
    }
   ],
   "source": [
    "merged_fv_ma.shape[0]"
   ]
  },
  {
   "cell_type": "markdown",
   "metadata": {},
   "source": [
    "# Filter:\n",
    "1. drop acquirer itself\n",
    "1. drop deal number duplica\n"
   ]
  },
  {
   "cell_type": "code",
   "execution_count": null,
   "metadata": {},
   "outputs": [],
   "source": []
  },
  {
   "cell_type": "code",
   "execution_count": 117,
   "metadata": {
    "ExecuteTime": {
     "end_time": "2021-10-03T02:49:49.858989Z",
     "start_time": "2021-10-03T02:49:49.838715Z"
    }
   },
   "outputs": [
    {
     "name": "stdout",
     "output_type": "stream",
     "text": [
      "num of samples with self-merge: 3139\n"
     ]
    }
   ],
   "source": [
    "no_self = merged_fv_ma[merged_fv_ma['AGVKEY'] != merged_fv_ma['TGVKEY']]\n",
    "\n",
    "print(\"num of samples with self-merge:\", merged_fv_ma.shape[0] - no_self.shape[0])"
   ]
  },
  {
   "cell_type": "code",
   "execution_count": 118,
   "metadata": {
    "ExecuteTime": {
     "end_time": "2021-10-03T02:49:50.542976Z",
     "start_time": "2021-10-03T02:49:50.415797Z"
    }
   },
   "outputs": [
    {
     "name": "stdout",
     "output_type": "stream",
     "text": [
      "duplica deal number : 4669\n"
     ]
    }
   ],
   "source": [
    "no_self_unique = no_self.groupby('DEAL_NO').first()\n",
    "print(\"duplica deal number :\", no_self.shape[0]-no_self_unique.shape[0])\n"
   ]
  },
  {
   "cell_type": "code",
   "execution_count": 119,
   "metadata": {
    "ExecuteTime": {
     "end_time": "2021-10-03T02:49:50.860145Z",
     "start_time": "2021-10-03T02:49:50.789507Z"
    }
   },
   "outputs": [
    {
     "name": "stdout",
     "output_type": "stream",
     "text": [
      "fin_var merged sdc df shape =  (5152, 76)\n"
     ]
    }
   ],
   "source": [
    "print(\"fin_var merged sdc df shape = \", no_self_unique.shape)\n",
    "no_self_unique.to_pickle(f'{tmp_data_path}/merged_fv_ma_{s_year}_{e_year}.pickle')"
   ]
  },
  {
   "cell_type": "code",
   "execution_count": null,
   "metadata": {},
   "outputs": [],
   "source": []
  },
  {
   "cell_type": "code",
   "execution_count": null,
   "metadata": {},
   "outputs": [],
   "source": []
  },
  {
   "cell_type": "code",
   "execution_count": null,
   "metadata": {},
   "outputs": [],
   "source": []
  },
  {
   "cell_type": "code",
   "execution_count": null,
   "metadata": {},
   "outputs": [],
   "source": []
  }
 ],
 "metadata": {
  "kernelspec": {
   "display_name": "GNN",
   "language": "python",
   "name": "gnn"
  },
  "language_info": {
   "codemirror_mode": {
    "name": "ipython",
    "version": 3
   },
   "file_extension": ".py",
   "mimetype": "text/x-python",
   "name": "python",
   "nbconvert_exporter": "python",
   "pygments_lexer": "ipython3",
   "version": "3.8.10"
  },
  "latex_envs": {
   "LaTeX_envs_menu_present": true,
   "autoclose": false,
   "autocomplete": true,
   "bibliofile": "biblio.bib",
   "cite_by": "apalike",
   "current_citInitial": 1,
   "eqLabelWithNumbers": true,
   "eqNumInitial": 1,
   "hotkeys": {
    "equation": "Ctrl-E",
    "itemize": "Ctrl-I"
   },
   "labels_anchors": false,
   "latex_user_defs": false,
   "report_style_numbering": false,
   "user_envs_cfg": false
  },
  "toc": {
   "base_numbering": 1,
   "nav_menu": {},
   "number_sections": true,
   "sideBar": true,
   "skip_h1_title": false,
   "title_cell": "Table of Contents",
   "title_sidebar": "Contents",
   "toc_cell": false,
   "toc_position": {},
   "toc_section_display": true,
   "toc_window_display": false
  }
 },
 "nbformat": 4,
 "nbformat_minor": 4
}
