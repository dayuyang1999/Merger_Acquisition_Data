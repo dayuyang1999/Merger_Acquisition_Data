{
 "cells": [
  {
   "cell_type": "markdown",
   "metadata": {},
   "source": [
    "# which variable are good to define \"majority\" takeover?"
   ]
  },
  {
   "cell_type": "code",
   "execution_count": 3,
   "metadata": {
    "ExecuteTime": {
     "end_time": "2021-10-11T01:53:29.933811Z",
     "start_time": "2021-10-11T01:53:29.470467Z"
    }
   },
   "outputs": [],
   "source": [
    "import pandas as pd\n",
    "import pickle\n",
    "import numpy as np\n",
    "import datetime \n",
    "from os.path import join as pjoin\n",
    "import os\n",
    "import wrds"
   ]
  },
  {
   "cell_type": "code",
   "execution_count": 1,
   "metadata": {
    "ExecuteTime": {
     "end_time": "2021-10-11T01:53:21.952156Z",
     "start_time": "2021-10-11T01:53:21.948221Z"
    }
   },
   "outputs": [],
   "source": [
    "tmp_data_path = '../MA_data/data/tmp'\n",
    "\n",
    "s_year = 1997\n",
    "e_year = 2020"
   ]
  },
  {
   "cell_type": "code",
   "execution_count": 4,
   "metadata": {
    "ExecuteTime": {
     "end_time": "2021-10-11T01:53:32.497992Z",
     "start_time": "2021-10-11T01:53:31.896216Z"
    }
   },
   "outputs": [],
   "source": [
    "sdc_df = pd.read_pickle(pjoin(tmp_data_path , f'sdc_{s_year}_{e_year}.pickle'))"
   ]
  },
  {
   "cell_type": "markdown",
   "metadata": {
    "ExecuteTime": {
     "end_time": "2021-10-11T01:53:59.757970Z",
     "start_time": "2021-10-11T01:53:59.750331Z"
    }
   },
   "source": [
    "before restriction, we'd better look at the missing pattern of related varibles\n",
    "- if large portion of this varibale is missing, it's not good to use this variable as restriction.\n",
    "\n",
    "$\\begin{array}{ll}\\text { VAL } & 58.802123 \\\\ \\text { PCTACQ } & 27.158338 \\\\ \\text { PSOUGHTOWN } & 13.356764 \\\\ \\text { PSOUGHT } & 13.383123 \\\\ \\text { PHDA } & 97.952041 \\\\ \\text { PCTOWN } & 26.963939 \\\\ \\text { PSOUGHTT } & 99.122094\\end{array}$\n",
    "\n",
    "+ clearly, VAL is not a good restriction."
   ]
  },
  {
   "cell_type": "markdown",
   "metadata": {},
   "source": [
    "according to P523 Ahern, Kenneth R., and Jarrad Harford. 2014. “The Importance of Industry Links in Merger Waves.” The Journal of Finance 69 (2): 527–76. https://doi.org/10.1111/jofi.12122.\n",
    "\n",
    "\n",
    "those condition should be satisfied **at the same time**\n",
    "- the acquirer buys 20% or more of the target’s share: `PCTACQ > 20.0`\n",
    "- the acquirer owns 51% or more of the target’s shares after the deal; the merger is completed:  `PCTOWN > 51.0`\n",
    "- transaction value is at least 1 million: `VAL > 1`\n",
    "- legal form of organization of the target or acquirer not restricted\n"
   ]
  },
  {
   "cell_type": "markdown",
   "metadata": {},
   "source": [
    "accoridng to Rougt\n",
    "\n",
    "different level:\n",
    "\n",
    "- 1st-level: hold no more than 50% before\n",
    "    - 2nd-level seeking 50% or more\n",
    "        - if do not apply: 2nd-level: after transaction must larger than 50%\n",
    "    \n",
    "     \n",
    "    \n",
    "- drop block, creep,..."
   ]
  },
  {
   "cell_type": "code",
   "execution_count": null,
   "metadata": {},
   "outputs": [],
   "source": []
  }
 ],
 "metadata": {
  "kernelspec": {
   "display_name": "GNN",
   "language": "python",
   "name": "gnn"
  },
  "language_info": {
   "codemirror_mode": {
    "name": "ipython",
    "version": 3
   },
   "file_extension": ".py",
   "mimetype": "text/x-python",
   "name": "python",
   "nbconvert_exporter": "python",
   "pygments_lexer": "ipython3",
   "version": "3.8.10"
  },
  "latex_envs": {
   "LaTeX_envs_menu_present": true,
   "autoclose": false,
   "autocomplete": true,
   "bibliofile": "biblio.bib",
   "cite_by": "apalike",
   "current_citInitial": 1,
   "eqLabelWithNumbers": true,
   "eqNumInitial": 1,
   "hotkeys": {
    "equation": "Ctrl-E",
    "itemize": "Ctrl-I"
   },
   "labels_anchors": false,
   "latex_user_defs": false,
   "report_style_numbering": false,
   "user_envs_cfg": false
  },
  "toc": {
   "base_numbering": 1,
   "nav_menu": {},
   "number_sections": true,
   "sideBar": true,
   "skip_h1_title": false,
   "title_cell": "Table of Contents",
   "title_sidebar": "Contents",
   "toc_cell": false,
   "toc_position": {},
   "toc_section_display": true,
   "toc_window_display": false
  }
 },
 "nbformat": 4,
 "nbformat_minor": 4
}
