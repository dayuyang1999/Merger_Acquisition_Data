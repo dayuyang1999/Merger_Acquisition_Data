{
 "cells": [
  {
   "cell_type": "markdown",
   "metadata": {},
   "source": [
    "detail see github: https://github.com/dayuyang1999/SDC-to-Compustat-Mapping"
   ]
  },
  {
   "cell_type": "code",
   "execution_count": 18,
   "metadata": {
    "ExecuteTime": {
     "end_time": "2021-10-12T22:03:02.488043Z",
     "start_time": "2021-10-12T22:03:02.484247Z"
    }
   },
   "outputs": [],
   "source": [
    "import pandas as pd\n",
    "import numpy as np"
   ]
  },
  {
   "cell_type": "code",
   "execution_count": 13,
   "metadata": {
    "ExecuteTime": {
     "end_time": "2021-10-12T00:41:19.159835Z",
     "start_time": "2021-10-12T00:41:19.156403Z"
    }
   },
   "outputs": [],
   "source": [
    "data_path = \"../MA_data/data\"\n",
    "tmp_data_path = \"../MA_data/data/tmp\""
   ]
  },
  {
   "cell_type": "markdown",
   "metadata": {},
   "source": [
    "I first replace nan as -1 temporaly\n",
    "and then replace them back to nan"
   ]
  },
  {
   "cell_type": "code",
   "execution_count": 10,
   "metadata": {
    "ExecuteTime": {
     "end_time": "2021-10-12T00:34:58.747577Z",
     "start_time": "2021-10-12T00:34:58.741760Z"
    }
   },
   "outputs": [],
   "source": [
    "def read_ewans_bridge():\n",
    "    evans_bridge = pd.read_csv(f'{data_path}/evans_bridge.csv')  \n",
    "\n",
    "    print(\"ATTENTION, DealNumber, tgvkey, agvkey NAs in evans_bridge are interpolated as '-1'. \\n \")\n",
    "\n",
    "    evans_bridge.DealNumber = evans_bridge.DealNumber.fillna(-1)\n",
    "    evans_bridge.tgvkey = evans_bridge.tgvkey.fillna(-1)\n",
    "    evans_bridge.agvkey = evans_bridge.agvkey.fillna(-1)\n",
    "\n",
    "\n",
    "    evans_bridge = evans_bridge.astype('int')\n",
    "    evans_bridge = evans_bridge.astype('str')\n",
    "\n",
    "\n",
    "\n",
    "\n",
    "    return evans_bridge"
   ]
  },
  {
   "cell_type": "code",
   "execution_count": 11,
   "metadata": {
    "ExecuteTime": {
     "end_time": "2021-10-12T00:34:59.237457Z",
     "start_time": "2021-10-12T00:34:59.041804Z"
    }
   },
   "outputs": [
    {
     "name": "stdout",
     "output_type": "stream",
     "text": [
      "ATTENTION, DealNumber, tgvkey, agvkey NAs in evans_bridge are interpolated as '-1'. \n",
      " \n"
     ]
    }
   ],
   "source": [
    "ewens = read_ewans_bridge()"
   ]
  },
  {
   "cell_type": "code",
   "execution_count": 20,
   "metadata": {
    "ExecuteTime": {
     "end_time": "2021-10-12T22:03:14.221947Z",
     "start_time": "2021-10-12T22:03:14.192834Z"
    }
   },
   "outputs": [],
   "source": [
    "ewens = ewens.replace(\"-1\", np.nan)"
   ]
  },
  {
   "cell_type": "code",
   "execution_count": 22,
   "metadata": {
    "ExecuteTime": {
     "end_time": "2021-10-12T22:03:20.623147Z",
     "start_time": "2021-10-12T22:03:20.536290Z"
    }
   },
   "outputs": [],
   "source": [
    "ewens.to_pickle(tmp_data_path+\"/ewens.pickle\")"
   ]
  },
  {
   "cell_type": "code",
   "execution_count": null,
   "metadata": {},
   "outputs": [],
   "source": []
  }
 ],
 "metadata": {
  "kernelspec": {
   "display_name": "GNN",
   "language": "python",
   "name": "gnn"
  },
  "language_info": {
   "codemirror_mode": {
    "name": "ipython",
    "version": 3
   },
   "file_extension": ".py",
   "mimetype": "text/x-python",
   "name": "python",
   "nbconvert_exporter": "python",
   "pygments_lexer": "ipython3",
   "version": "3.8.10"
  },
  "latex_envs": {
   "LaTeX_envs_menu_present": true,
   "autoclose": false,
   "autocomplete": true,
   "bibliofile": "biblio.bib",
   "cite_by": "apalike",
   "current_citInitial": 1,
   "eqLabelWithNumbers": true,
   "eqNumInitial": 1,
   "hotkeys": {
    "equation": "Ctrl-E",
    "itemize": "Ctrl-I"
   },
   "labels_anchors": false,
   "latex_user_defs": false,
   "report_style_numbering": false,
   "user_envs_cfg": false
  },
  "toc": {
   "base_numbering": 1,
   "nav_menu": {},
   "number_sections": true,
   "sideBar": true,
   "skip_h1_title": false,
   "title_cell": "Table of Contents",
   "title_sidebar": "Contents",
   "toc_cell": false,
   "toc_position": {},
   "toc_section_display": true,
   "toc_window_display": false
  }
 },
 "nbformat": 4,
 "nbformat_minor": 4
}
